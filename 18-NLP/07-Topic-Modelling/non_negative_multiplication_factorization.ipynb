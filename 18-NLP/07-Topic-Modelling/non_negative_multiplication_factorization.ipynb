{
 "cells": [
  {
   "cell_type": "code",
   "execution_count": 6,
   "id": "5e5c82af",
   "metadata": {},
   "outputs": [],
   "source": [
    "import numpy as np\n",
    "import pandas as pd\n",
    "import matplotlib.pyplot as plt\n",
    "import nltk\n",
    "import textwrap\n",
    "\n",
    "from nltk.corpus import stopwords\n",
    "\n",
    "from sklearn.feature_extraction.text import TfidfVectorizer\n",
    "from sklearn.decomposition import NMF"
   ]
  },
  {
   "cell_type": "code",
   "execution_count": 3,
   "id": "f57e581b",
   "metadata": {},
   "outputs": [
    {
     "name": "stderr",
     "output_type": "stream",
     "text": [
      "[nltk_data] Downloading package stopwords to\n",
      "[nltk_data]     C:\\Users\\DELL\\AppData\\Roaming\\nltk_data...\n",
      "[nltk_data]   Package stopwords is already up-to-date!\n"
     ]
    },
    {
     "data": {
      "text/plain": [
       "True"
      ]
     },
     "execution_count": 3,
     "metadata": {},
     "output_type": "execute_result"
    }
   ],
   "source": [
    "nltk.download('stopwords')"
   ]
  },
  {
   "cell_type": "code",
   "execution_count": 4,
   "id": "2895ca89",
   "metadata": {},
   "outputs": [],
   "source": [
    "stops = set(stopwords.words('english'))\n",
    "stops = stops.union({\n",
    "    'said','would','could','told','also','one','two','mr','new','year'\n",
    "})"
   ]
  },
  {
   "cell_type": "code",
   "execution_count": 5,
   "id": "f9c395e3",
   "metadata": {},
   "outputs": [
    {
     "data": {
      "text/html": [
       "<div>\n",
       "<style scoped>\n",
       "    .dataframe tbody tr th:only-of-type {\n",
       "        vertical-align: middle;\n",
       "    }\n",
       "\n",
       "    .dataframe tbody tr th {\n",
       "        vertical-align: top;\n",
       "    }\n",
       "\n",
       "    .dataframe thead th {\n",
       "        text-align: right;\n",
       "    }\n",
       "</style>\n",
       "<table border=\"1\" class=\"dataframe\">\n",
       "  <thead>\n",
       "    <tr style=\"text-align: right;\">\n",
       "      <th></th>\n",
       "      <th>text</th>\n",
       "      <th>labels</th>\n",
       "    </tr>\n",
       "  </thead>\n",
       "  <tbody>\n",
       "    <tr>\n",
       "      <th>0</th>\n",
       "      <td>Ad sales boost Time Warner profit\\n\\nQuarterly...</td>\n",
       "      <td>business</td>\n",
       "    </tr>\n",
       "    <tr>\n",
       "      <th>1</th>\n",
       "      <td>Dollar gains on Greenspan speech\\n\\nThe dollar...</td>\n",
       "      <td>business</td>\n",
       "    </tr>\n",
       "    <tr>\n",
       "      <th>2</th>\n",
       "      <td>Yukos unit buyer faces loan claim\\n\\nThe owner...</td>\n",
       "      <td>business</td>\n",
       "    </tr>\n",
       "    <tr>\n",
       "      <th>3</th>\n",
       "      <td>High fuel prices hit BA's profits\\n\\nBritish A...</td>\n",
       "      <td>business</td>\n",
       "    </tr>\n",
       "    <tr>\n",
       "      <th>4</th>\n",
       "      <td>Pernod takeover talk lifts Domecq\\n\\nShares in...</td>\n",
       "      <td>business</td>\n",
       "    </tr>\n",
       "  </tbody>\n",
       "</table>\n",
       "</div>"
      ],
      "text/plain": [
       "                                                text    labels\n",
       "0  Ad sales boost Time Warner profit\\n\\nQuarterly...  business\n",
       "1  Dollar gains on Greenspan speech\\n\\nThe dollar...  business\n",
       "2  Yukos unit buyer faces loan claim\\n\\nThe owner...  business\n",
       "3  High fuel prices hit BA's profits\\n\\nBritish A...  business\n",
       "4  Pernod takeover talk lifts Domecq\\n\\nShares in...  business"
      ]
     },
     "execution_count": 5,
     "metadata": {},
     "output_type": "execute_result"
    }
   ],
   "source": [
    "df = pd.read_csv('../01-Vector-Model-And-Text-Processing/bbc_text_cls.csv')\n",
    "df.head()"
   ]
  },
  {
   "cell_type": "code",
   "execution_count": 7,
   "id": "f1823e0f",
   "metadata": {},
   "outputs": [
    {
     "name": "stdout",
     "output_type": "stream",
     "text": [
      "(2225, 29270)\n"
     ]
    }
   ],
   "source": [
    "vectorizor = TfidfVectorizer(stop_words=stops)\n",
    "X = vectorizor.fit_transform(df['text'])\n",
    "print(X.shape)"
   ]
  },
  {
   "cell_type": "code",
   "execution_count": 8,
   "id": "1ed93c90",
   "metadata": {},
   "outputs": [
    {
     "name": "stderr",
     "output_type": "stream",
     "text": [
      "C:\\Users\\DELL\\.conda\\envs\\projects\\lib\\site-packages\\sklearn\\decomposition\\_nmf.py:289: FutureWarning: The 'init' value, when 'init=None' and n_components is less than n_samples and n_features, will be changed from 'nndsvd' to 'nndsvda' in 1.1 (renaming of 0.26).\n",
      "  warnings.warn(\n"
     ]
    },
    {
     "data": {
      "text/plain": [
       "NMF(beta_loss='kullback-leibler', n_components=5, random_state=0, solver='mu')"
      ]
     },
     "execution_count": 8,
     "metadata": {},
     "output_type": "execute_result"
    }
   ],
   "source": [
    "noOfTopics= 5\n",
    "nmf = NMF(\n",
    "    n_components=noOfTopics,\n",
    "    beta_loss=\"kullback-leibler\",\n",
    "    solver=\"mu\",\n",
    "    # alpha_W=0.1,\n",
    "    # alpha_H=0.1,\n",
    "    # l1_ration=0.5,\n",
    "    random_state=0\n",
    ")\n",
    "nmf.fit(X)"
   ]
  },
  {
   "cell_type": "code",
   "execution_count": 9,
   "id": "f635b79b",
   "metadata": {},
   "outputs": [
    {
     "name": "stdout",
     "output_type": "stream",
     "text": [
      "No Of Topics -->  5\n",
      "No Of Words  --> 29270\n",
      " Matrix Size --> (5, 29270)\n"
     ]
    }
   ],
   "source": [
    "# topics x wordds matrix.\n",
    "print(\"No Of Topics --> \", nmf.components_.shape[0])\n",
    "print('No Of Words  -->' , nmf.components_.shape[1])\n",
    "print(' Matrix Size -->' , nmf.components_.shape)"
   ]
  },
  {
   "cell_type": "code",
   "execution_count": 10,
   "id": "43e96275",
   "metadata": {},
   "outputs": [],
   "source": [
    "def plot_top_words(model,features,n_top_words=10):\n",
    "    fig,axes = plt.subplots(1,5,figsize=(30,15),sharex=True)\n",
    "    axes = axes.flatten()\n",
    "    for topic_idx, topic in enumerate(model.components_):\n",
    "        top_features_index = topic.argsort()[: -n_top_words -1 : -1]\n",
    "        top_features = [features[i] for i in top_features_index]\n",
    "        weights = topic[top_features_index]\n",
    "        \n",
    "        ax = axes[topic_idx]\n",
    "        ax.barh(top_features, weights,height=0.7)\n",
    "        ax.set_title(f\"Topic {topic_idx + 1}\",fontdict={\"fontsize\":30})\n",
    "        ax.invert_yaxis()\n",
    "        ax.tick_params(axis=\"both\", which=\"major\", labelsize=20)\n",
    "        for i in \" top right left\".split():\n",
    "            ax.spines[i].set_visible(False)\n",
    "        fig.suptitle('LDA', fontsize=30)"
   ]
  },
  {
   "cell_type": "code",
   "execution_count": 12,
   "id": "d3d8bbee",
   "metadata": {},
   "outputs": [
    {
     "data": {
      "image/png": "[encoded data removed]",
      "text/plain": [
       "<Figure size 2160x1080 with 5 Axes>"
      ]
     },
     "metadata": {
      "needs_background": "light"
     },
     "output_type": "display_data"
    }
   ],
   "source": [
    "features = vectorizor.get_feature_names_out()\n",
    "plot_top_words(nmf,features)"
   ]
  },
  {
   "cell_type": "code",
   "execution_count": 14,
   "id": "d998e921",
   "metadata": {},
   "outputs": [],
   "source": [
    "# document x topics\n",
    "Z = nmf.transform(X)"
   ]
  },
  {
   "cell_type": "code",
   "execution_count": 15,
   "id": "0f65e1ab",
   "metadata": {},
   "outputs": [
    {
     "data": {
      "text/plain": [
       "Text(0.5, 1.0, 'True label: sport ')"
      ]
     },
     "execution_count": 15,
     "metadata": {},
     "output_type": "execute_result"
    },
    {
     "data": {
      "image/png": "[encoded data removed]",
      "text/plain": [
       "<Figure size 432x288 with 1 Axes>"
      ]
     },
     "metadata": {
      "needs_background": "light"
     },
     "output_type": "display_data"
    }
   ],
   "source": [
    "np.random.seed(0)\n",
    "i = np.random.choice(len(df))\n",
    "z = Z[i]\n",
    "topics = np.arange(noOfTopics) + 1\n",
    "fig, ax = plt.subplots()\n",
    "ax.barh(topics,z)\n",
    "ax.set_yticks(topics)\n",
    "ax.set_title('True label: %s ' % df.iloc[i]['labels'])"
   ]
  },
  {
   "cell_type": "code",
   "execution_count": 16,
   "id": "bff00db2",
   "metadata": {},
   "outputs": [],
   "source": [
    "def wrap(x):\n",
    "    return textwrap.fill(x,replace_whitespace=False,fix_sentence_endings=True)"
   ]
  },
  {
   "cell_type": "code",
   "execution_count": 17,
   "id": "5201fb8e",
   "metadata": {},
   "outputs": [
    {
     "name": "stdout",
     "output_type": "stream",
     "text": [
      "Charvis set to lose fitness bid\n",
      "\n",
      "Flanker Colin Charvis is unlikely to\n",
      "play any part in Wales' final two games of the Six Nations.\n",
      "\n",
      "Charvis\n",
      "has missed all three of Wales' victories with an ankle injury and his\n",
      "recovery has been slower than expected.  \"He will not figure in the\n",
      "Scotland game and is now thought unlikely to be ready for the final\n",
      "game,\" said Wales physio Mark Davies.  Sonny Parker is continuing to\n",
      "struggle with a neck injury, but Hal Luscombe should be fit for the\n",
      "Murrayfield trip.  Centre Parker has only a \"slim chance\" of being\n",
      "involved against the Scots on 13 March, so Luscombe's return to\n",
      "fitness after missing the France match with hamstring trouble is a\n",
      "timely boost.\n",
      "\n",
      "Said Wales assistant coach Scott Johnson: \"We're\n",
      "positive about Hal and hope he'll be raring to go.  \"He comes back\n",
      "into the mix again, adds to the depth and gives us other options.  \"\n",
      "Replacement hooker Robin McBryde remains a doubt after picking up knee\n",
      "ligament damage in Paris last Saturday.  \"We're getting that reviewed\n",
      "and we should know more by the end of the week how Robin's looking,\"\n",
      "added Johnson.  \"We're hopeful but it's too early to say at this\n",
      "stage.\"  Steve Jones from the Dragons is likely to be drafted in if\n",
      "McBryde fails to recover.\n"
     ]
    }
   ],
   "source": [
    "print(wrap(df.iloc[i]['text']))"
   ]
  },
  {
   "cell_type": "code",
   "execution_count": 18,
   "id": "e64999c1",
   "metadata": {},
   "outputs": [
    {
     "data": {
      "text/plain": [
       "Text(0.5, 1.0, 'True label: entertainment ')"
      ]
     },
     "execution_count": 18,
     "metadata": {},
     "output_type": "execute_result"
    },
    {
     "data": {
      "image/png": "[encoded data removed]",
      "text/plain": [
       "<Figure size 432x288 with 1 Axes>"
      ]
     },
     "metadata": {
      "needs_background": "light"
     },
     "output_type": "display_data"
    }
   ],
   "source": [
    "i = np.random.choice(len(df))\n",
    "z = Z[i]\n",
    "topics = np.arange(noOfTopics) + 1\n",
    "fig, ax = plt.subplots()\n",
    "ax.barh(topics,z)\n",
    "ax.set_yticks(topics)\n",
    "ax.set_title('True label: %s ' % df.iloc[i]['labels'])"
   ]
  },
  {
   "cell_type": "code",
   "execution_count": 19,
   "id": "9d57961b",
   "metadata": {},
   "outputs": [
    {
     "name": "stdout",
     "output_type": "stream",
     "text": [
      "Oscars steer clear of controversy\n",
      "\n",
      "The Oscars nominations list has\n",
      "left out some of the most controversial films of the past year in\n",
      "favour of safer, less contentious cinema.\n",
      "\n",
      "If best film nominees were\n",
      "drawn on the basis of column inches, two of the front-runners would\n",
      "have had to be Michael Moore's Bush-baiting documentary Fahrenheit\n",
      "9/11 and Mel Gibson's The Passion of the Christ.  Both films polarised\n",
      "opinion but had critics talking, and the public turning up to see them\n",
      "- Fahrenheit 9/11 breaking US box office records for a documentary,\n",
      "and The Passion of the Christ making more than US$370m (£196m) in the\n",
      "US alone.  But this year's Academy Awards have shied away from the big\n",
      "name controversies, with The Passion of the Christ - a film accused of\n",
      "being anti-Semitic - receiving nominations only in the 'minor'\n",
      "categories of cinematography, makeup and musical score.\n",
      "\n",
      "Fahrenheit\n",
      "9/11 has also been overlooked, despite winning the Palme d'Or at the\n",
      "Cannes International Film Festival in 2004.\n",
      "\n",
      "Moore's caustic\n",
      "documentary may have been affected by its distributors' decision to\n",
      "enter it in the best picture category, rather than best documentary,\n",
      "says Tim Dams, the news editor of trade magazine Screen International.\n",
      "But he also believes the strong political viewpoint of Moore's film\n",
      "does not sit well with the Academy.  \"If you look at past Oscar\n",
      "winners and nominees, the very conservative Oscar voters tend to go\n",
      "for very conservative, epic-style pictures.  Fahrenheit 9/11 didn't\n",
      "really fit in to that category.  \"They tend to go for films like\n",
      "Titanic, Gladiator, and the Lord of the Rings, films with scale that\n",
      "often aren't too contentious,\" he said.  While he said the Oscar\n",
      "voting panel were not \"snubbing\" Moore's film, he thought it was\n",
      "unlikely a documentary could ever seriously compete in a best film\n",
      "category.  \"I think it's more a misjudgement by the people putting it\n",
      "out rather than a deliberate snub,\" he said.\n",
      "\n",
      "The problem with Mel\n",
      "Gibson's film, he believed, was that the voting panel may have been\n",
      "cautious in nominating a film with dialogue in Aramaic, an ancient\n",
      "Middle Eastern language.\n",
      "\n",
      "\"Hollywood doesn't tend to like foreign-\n",
      "language films - no-one's ever tried doing a film in a dead language,\"\n",
      "he said.  But aside from these two films, some potentially contentious\n",
      "pictures have won nominations.  The German film The Downfall, a biopic\n",
      "tracing the final days of Nazi leader Adolf Hitler in his Berlin\n",
      "bunker, has been recognised in the best foreign film category.  The\n",
      "film has caused some controversy in showing Hitler as a fallible but\n",
      "human man, rather than a semi-mythical, historical monster.  But Mr\n",
      "Dams said: \"It's not an inflammatory film.  It has done very well in\n",
      "Germany, and it's a film that portrays Hitler as a human rather than\n",
      "some kind of devil or monster.\"  Another 'contentious' film, Mr Dams\n",
      "said, has gained a nomination in the best documentary section through\n",
      "the force of its charm.\n",
      "\n",
      "Independent film-maker Morgan Spurlock may\n",
      "have forced fast-food giant McDonalds to withdraw its 'super size'\n",
      "portions in the US after he went on a month-long diet eating nothing\n",
      "but McDonalds meals - and filmed his progress.\n",
      "\n",
      "The film has been a\n",
      "hit around the world.  Mr Dams said: \"It's a political film, but it's\n",
      "quite fun and punky and well-paced.  \"Morgan Spurlock is a really\n",
      "likeable guy.  It's a very accessible film, and it doesn't beat you\n",
      "over the head with its views.  \"While in Fahrenheit 9/11 there are\n",
      "moments of comedy, I think the way that Super Size Me is put together\n",
      "- the fact it's a very likeable film - means it's won through on\n",
      "charm.\"  Dam's pick at this year's Oscars?  The Aviator, Martin\n",
      "Scorsese's biopic of aviation pioneer and Hollywood player Howard\n",
      "Hughes.  Tinseltown, it seems, likes nothing more than a picture about\n",
      "one of its own.\n"
     ]
    }
   ],
   "source": [
    "print(wrap(df.iloc[i]['text']))"
   ]
  },
  {
   "cell_type": "code",
   "execution_count": null,
   "id": "088cad7c",
   "metadata": {},
   "outputs": [],
   "source": []
  }
 ],
 "metadata": {
  "kernelspec": {
   "display_name": "Python 3 (ipykernel)",
   "language": "python",
   "name": "python3"
  },
  "language_info": {
   "codemirror_mode": {
    "name": "ipython",
    "version": 3
   },
   "file_extension": ".py",
   "mimetype": "text/x-python",
   "name": "python",
   "nbconvert_exporter": "python",
   "pygments_lexer": "ipython3",
   "version": "3.9.15"
  }
 },
 "nbformat": 4,
 "nbformat_minor": 5
}
