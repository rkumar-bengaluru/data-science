{
 "cells": [
  {
   "cell_type": "code",
   "execution_count": 1,
   "id": "7901880e",
   "metadata": {},
   "outputs": [],
   "source": [
    "import numpy as np\n",
    "import matplotlib.pyplot as plt\n",
    "import string\n",
    "import random\n",
    "import re\n",
    "import requests\n",
    "import os\n",
    "import textwrap"
   ]
  },
  {
   "cell_type": "code",
   "execution_count": 2,
   "id": "73d1e3a8",
   "metadata": {},
   "outputs": [],
   "source": [
    "# create substituion cipher\n",
    "\n",
    "letters1 = list(string.ascii_lowercase)\n",
    "letters2 = list(string.ascii_lowercase)\n",
    "\n",
    "true_mapping = {}\n",
    "\n",
    "random.shuffle(letters2)\n",
    "\n",
    "# populate map\n",
    "for k, v in zip(letters1,letters2):\n",
    "    true_mapping[k] = v"
   ]
  },
  {
   "cell_type": "code",
   "execution_count": 5,
   "id": "bf87fdf1",
   "metadata": {},
   "outputs": [],
   "source": [
    "# language model\n",
    "\n",
    "# initial markov matrix\n",
    "M = np.ones((26,26))\n",
    "# initial state distribution\n",
    "pi = np.zeros(26)\n",
    "\n",
    "# function to update markov matrix\n",
    "def update_transition(ch1,ch2):\n",
    "    # ord('a') = 97, ord('b') = 98,...\n",
    "    i = ord(ch1) - 97\n",
    "    j = ord(ch2) - 97\n",
    "    M[i,j] += 1\n",
    "\n",
    "# function to update initial state distribution\n",
    "def update_pi(ch):\n",
    "    i = ord(ch) - 97\n",
    "    pi[i] += 1\n",
    "\n",
    "# get the log probability of a word/token\n",
    "def get_word_prob(word):\n",
    "    i = ord[word[0]] - 97\n",
    "    logp = np.log(pi[i])\n",
    "    \n",
    "    for ch in word[1:]:\n",
    "        j = ord[ch] - 97\n",
    "        logp += np.log(M[i,j])\n",
    "        i = j\n",
    "    return logp\n",
    "\n",
    "# get the probability of sequence of words\n",
    "def get_sequence_probability(words):\n",
    "    if type(words) == str:\n",
    "        words = words.split()\n",
    "    logp = 0\n",
    "    for word in words:\n",
    "        logp += get_word_prob(word)\n",
    "    return logp"
   ]
  },
  {
   "cell_type": "code",
   "execution_count": 14,
   "id": "79d37a9e",
   "metadata": {},
   "outputs": [],
   "source": [
    "regex = re.compile('[^a-zA-Z]')\n",
    "\n",
    "for line in open('moby_dick.txt',encoding='utf-8'):\n",
    "    line = line.rstrip()\n",
    "    if line:\n",
    "        line = regex.sub(' ', line)\n",
    "        tokens = line.lower().split()\n",
    "        for token in tokens:\n",
    "            ch0 = token[0]\n",
    "            update_pi(ch0)\n",
    "            \n",
    "            # other letters\n",
    "            for ch1 in token[1:]:\n",
    "                update_transition(ch0,ch1)\n",
    "                ch0 = ch1\n",
    "    # normalize the probabilities\n",
    "    pi /= pi.sum()\n",
    "    M /= M.sum(axis=1,keepdims=True)"
   ]
  },
  {
   "cell_type": "code",
   "execution_count": 15,
   "id": "ca85940d",
   "metadata": {},
   "outputs": [
    {
     "data": {
      "text/plain": [
       "array([1.82617134e-01, 7.63873099e-05, 1.80555582e-01, 1.49525408e-02,\n",
       "       5.89247993e-15, 1.66667106e-01, 5.45290621e-06, 2.78486395e-02,\n",
       "       1.48867670e-02, 5.53517367e-26, 2.80799957e-36, 9.92067232e-04,\n",
       "       1.48867909e-02, 1.98449039e-03, 3.33410397e-01, 9.97514390e-04,\n",
       "       1.37218916e-84, 2.77777781e-02, 1.52411032e-02, 1.50339690e-02,\n",
       "       9.97538629e-04, 1.19463184e-11, 1.06874133e-03, 0.00000000e+00,\n",
       "       1.86689290e-27, 0.00000000e+00])"
      ]
     },
     "execution_count": 15,
     "metadata": {},
     "output_type": "execute_result"
    }
   ],
   "source": [
    "pi"
   ]
  },
  {
   "cell_type": "code",
   "execution_count": 16,
   "id": "de966ce2",
   "metadata": {},
   "outputs": [
    {
     "data": {
      "text/plain": [
       "array([[0.00000000e+000, 3.58819384e-014, 1.11111213e-001,\n",
       "        1.73611272e-004, 0.00000000e+000, 5.55555556e-002,\n",
       "        8.68055556e-004, 3.58819384e-014, 7.84145930e-003,\n",
       "        0.00000000e+000, 8.68055556e-004, 5.88352784e-006,\n",
       "        8.04115161e-010, 6.73676048e-001, 0.00000000e+000,\n",
       "        4.19097276e-015, 0.00000000e+000, 6.97917673e-002,\n",
       "        1.40630787e-002, 6.34121657e-002, 9.96720169e-016,\n",
       "        8.68055556e-004, 8.68055716e-004, 4.01877572e-009,\n",
       "        8.96990741e-004, 1.61926312e-177],\n",
       "       [1.76606355e-008, 2.27864583e-003, 0.00000000e+000,\n",
       "        0.00000000e+000, 5.01965346e-001, 0.00000000e+000,\n",
       "        0.00000000e+000, 0.00000000e+000, 9.27183633e-007,\n",
       "        1.82848721e-088, 0.00000000e+000, 4.55729608e-003,\n",
       "        2.82570168e-007, 0.00000000e+000, 6.78181862e-005,\n",
       "        0.00000000e+000, 0.00000000e+000, 7.06468540e-008,\n",
       "        1.62795738e-004, 3.76345494e-056, 1.14013674e-001,\n",
       "        0.00000000e+000, 0.00000000e+000, 0.00000000e+000,\n",
       "        3.76953126e-001, 0.00000000e+000],\n",
       "       [1.40369503e-007, 0.00000000e+000, 2.17966747e-046,\n",
       "        0.00000000e+000, 2.31545115e-003, 0.00000000e+000,\n",
       "        0.00000000e+000, 7.00004304e-001, 1.00077160e-001,\n",
       "        0.00000000e+000, 6.27703380e-002, 8.03755144e-005,\n",
       "        0.00000000e+000, 0.00000000e+000, 3.33429794e-002,\n",
       "        0.00000000e+000, 2.82688639e-172, 1.00009646e-001,\n",
       "        0.00000000e+000, 1.07167362e-005, 6.94444444e-004,\n",
       "        0.00000000e+000, 0.00000000e+000, 0.00000000e+000,\n",
       "        6.94444444e-004, 3.18868307e-287],\n",
       "       [6.94986979e-002, 6.96515575e-127, 0.00000000e+000,\n",
       "        5.31972414e-029, 2.74740266e-001, 2.63810323e-072,\n",
       "        1.08297933e-018, 1.07389701e-230, 8.69413298e-003,\n",
       "        0.00000000e+000, 0.00000000e+000, 2.08333343e-002,\n",
       "        6.48144619e-101, 2.16178647e-033, 2.35867641e-006,\n",
       "        6.26937586e-317, 0.00000000e+000, 6.25218427e-001,\n",
       "        1.01278262e-003, 2.26106585e-109, 2.45286604e-010,\n",
       "        5.31291451e-029, 5.72677842e-041, 0.00000000e+000,\n",
       "        6.93116365e-017, 0.00000000e+000],\n",
       "       [5.85427831e-002, 2.03322422e-196, 9.92063492e-004,\n",
       "        9.29268672e-003, 6.88988842e-008, 5.56123491e-047,\n",
       "        2.47155957e-024, 2.29879089e-058, 2.48015873e-004,\n",
       "        0.00000000e+000, 2.71278379e-020, 4.17659419e-002,\n",
       "        9.19479012e-030, 3.33337827e-001, 7.90899064e-023,\n",
       "        2.44170079e-014, 3.06493003e-030, 4.65294737e-001,\n",
       "        1.35559217e-012, 4.16666667e-002, 2.57807870e-280,\n",
       "        4.16667470e-002, 6.94444444e-003, 2.29644327e-009,\n",
       "        2.48015873e-004, 2.46953913e-227],\n",
       "       [9.64612355e-005, 0.00000000e+000, 0.00000000e+000,\n",
       "        0.00000000e+000, 1.62039555e-002, 1.62037037e-002,\n",
       "        0.00000000e+000, 0.00000000e+000, 1.62157601e-002,\n",
       "        0.00000000e+000, 0.00000000e+000, 9.76132434e-002,\n",
       "        0.00000000e+000, 0.00000000e+000, 5.16233865e-001,\n",
       "        0.00000000e+000, 0.00000000e+000, 2.50823933e-003,\n",
       "        1.15740741e-003, 3.33381561e-001, 3.85802469e-004,\n",
       "        0.00000000e+000, 0.00000000e+000, 0.00000000e+000,\n",
       "        2.09762004e-098, 0.00000000e+000],\n",
       "       [7.14140108e-003, 0.00000000e+000, 0.00000000e+000,\n",
       "        0.00000000e+000, 5.83389847e-001, 0.00000000e+000,\n",
       "        3.21502058e-005, 8.56481918e-002, 2.31481483e-003,\n",
       "        0.00000000e+000, 0.00000000e+000, 2.50001088e-001,\n",
       "        1.59419764e-132, 5.45081342e-011, 3.87813824e-004,\n",
       "        0.00000000e+000, 0.00000000e+000, 4.20524706e-002,\n",
       "        5.86071459e-007, 2.77777778e-002, 1.25385802e-003,\n",
       "        0.00000000e+000, 1.89505448e-258, 0.00000000e+000,\n",
       "        2.04604127e-289, 0.00000000e+000],\n",
       "       [3.05645135e-001, 0.00000000e+000, 0.00000000e+000,\n",
       "        0.00000000e+000, 4.43278468e-001, 0.00000000e+000,\n",
       "        0.00000000e+000, 0.00000000e+000, 2.50000007e-001,\n",
       "        0.00000000e+000, 0.00000000e+000, 0.00000000e+000,\n",
       "        0.00000000e+000, 0.00000000e+000, 1.90972331e-004,\n",
       "        0.00000000e+000, 0.00000000e+000, 1.06001671e-010,\n",
       "        6.94444444e-004, 1.73612807e-004, 3.78971969e-037,\n",
       "        0.00000000e+000, 1.73611111e-005, 0.00000000e+000,\n",
       "        3.02753751e-013, 0.00000000e+000],\n",
       "       [2.03412281e-017, 4.82253086e-007, 1.56250000e-002,\n",
       "        9.25979511e-004, 2.00901017e-017, 8.79629630e-004,\n",
       "        1.73611175e-004, 2.66299076e-316, 0.00000000e+000,\n",
       "        0.00000000e+000, 1.73675412e-004, 5.20833382e-001,\n",
       "        2.03412279e-017, 2.51117050e-001, 6.25000487e-002,\n",
       "        4.46530776e-010, 6.86808439e-140, 1.04171489e-003,\n",
       "        1.25013037e-001, 2.17163415e-002, 9.68669243e-032,\n",
       "        2.06827597e-012, 0.00000000e+000, 4.82253086e-008,\n",
       "        0.00000000e+000, 6.10261623e-029],\n",
       "       [2.26583642e-001, 7.24772811e-317, 7.24772811e-317,\n",
       "        7.24772811e-317, 1.31602102e-005, 7.24772811e-317,\n",
       "        7.24772811e-317, 7.24772811e-317, 1.14886196e-026,\n",
       "        7.24772811e-317, 7.24772811e-317, 7.24772811e-317,\n",
       "        7.24772811e-317, 7.24772811e-317, 5.00082662e-001,\n",
       "        7.24772811e-317, 7.24772811e-317, 7.24772811e-317,\n",
       "        7.24772811e-317, 7.24772811e-317, 2.73320536e-001,\n",
       "        7.24772811e-317, 7.24772811e-317, 7.24772811e-317,\n",
       "        7.24772811e-317, 7.24772811e-317],\n",
       "       [6.81933702e-095, 0.00000000e+000, 0.00000000e+000,\n",
       "        0.00000000e+000, 5.51447735e-001, 2.08109650e-099,\n",
       "        0.00000000e+000, 9.13537651e-150, 3.58562728e-003,\n",
       "        0.00000000e+000, 0.00000000e+000, 4.27844007e-019,\n",
       "        8.95351838e-258, 2.26056210e-006, 4.52112269e-006,\n",
       "        0.00000000e+000, 0.00000000e+000, 1.47956471e-280,\n",
       "        4.44878476e-001, 0.00000000e+000, 4.09938767e-031,\n",
       "        0.00000000e+000, 2.71267361e-005, 0.00000000e+000,\n",
       "        5.42534723e-005, 0.00000000e+000],\n",
       "       [1.66815487e-001, 2.99505929e-300, 0.00000000e+000,\n",
       "        3.33333333e-001, 9.10292910e-002, 5.02393686e-007,\n",
       "        0.00000000e+000, 0.00000000e+000, 3.54978459e-002,\n",
       "        0.00000000e+000, 2.02203984e-097, 1.76040437e-003,\n",
       "        1.73611112e-003, 1.62258393e-078, 3.64645447e-002,\n",
       "        2.98355714e-043, 0.00000000e+000, 2.56689487e-136,\n",
       "        3.73770063e-011, 1.46003931e-014, 7.30019655e-015,\n",
       "        2.41126543e-005, 1.63693049e-187, 0.00000000e+000,\n",
       "        3.33338367e-001, 0.00000000e+000],\n",
       "       [4.36599940e-002, 3.89441844e-016, 0.00000000e+000,\n",
       "        0.00000000e+000, 2.54929213e-001, 1.76727970e-191,\n",
       "        0.00000000e+000, 0.00000000e+000, 5.83349409e-001,\n",
       "        0.00000000e+000, 0.00000000e+000, 1.74426030e-009,\n",
       "        1.55239167e-006, 2.10293728e-014, 9.72223094e-002,\n",
       "        4.01877580e-006, 0.00000000e+000, 8.53048059e-089,\n",
       "        7.31822172e-011, 0.00000000e+000, 1.67449030e-007,\n",
       "        0.00000000e+000, 0.00000000e+000, 0.00000000e+000,\n",
       "        2.08333333e-002, 0.00000000e+000],\n",
       "       [5.69688260e-019, 6.58291008e-074, 1.44678318e-005,\n",
       "        2.74758084e-001, 3.17708366e-002, 3.23024285e-027,\n",
       "        1.90293854e-001, 2.60416667e-003, 5.36024306e-004,\n",
       "        0.00000000e+000, 1.72233411e-008, 2.50000000e-001,\n",
       "        1.31871434e-022, 1.44675926e-005, 2.50004340e-001,\n",
       "        6.85719800e-076, 1.38470630e-035, 2.75463291e-284,\n",
       "        2.87155081e-009, 3.73817907e-006, 5.40026275e-087,\n",
       "        1.28155971e-099, 5.12716136e-019, 0.00000000e+000,\n",
       "        2.39212840e-011, 3.69524528e-309],\n",
       "       [1.58730200e-003, 6.37900908e-014, 8.33333338e-003,\n",
       "        6.42726871e-019, 2.55160363e-013, 1.62715209e-003,\n",
       "        3.18950454e-014, 1.42652091e-041, 1.03001009e-022,\n",
       "        0.00000000e+000, 8.17468329e-028, 1.38974317e-003,\n",
       "        3.30688305e-005, 2.77785413e-001, 2.75573192e-008,\n",
       "        4.59288654e-011, 0.00000000e+000, 2.00231487e-001,\n",
       "        1.98418271e-004, 2.00033896e-001, 3.08333388e-001,\n",
       "        1.98412698e-004, 1.02623518e-005, 0.00000000e+000,\n",
       "        2.38095238e-004, 2.37314326e-018],\n",
       "       [1.25173119e-001, 0.00000000e+000, 0.00000000e+000,\n",
       "        0.00000000e+000, 1.06637284e-002, 0.00000000e+000,\n",
       "        0.00000000e+000, 5.00000000e-001, 2.50040692e-001,\n",
       "        0.00000000e+000, 0.00000000e+000, 6.51094651e-004,\n",
       "        2.21794166e-015, 0.00000000e+000, 1.69270995e-002,\n",
       "        2.76692722e-003, 0.00000000e+000, 6.25000000e-002,\n",
       "        2.03450521e-005, 4.45051336e-006, 1.49457228e-033,\n",
       "        0.00000000e+000, 3.12525431e-002, 0.00000000e+000,\n",
       "        1.08080824e-169, 0.00000000e+000],\n",
       "       [0.00000000e+000, 0.00000000e+000, 0.00000000e+000,\n",
       "        0.00000000e+000, 0.00000000e+000, 0.00000000e+000,\n",
       "        0.00000000e+000, 0.00000000e+000, 0.00000000e+000,\n",
       "        0.00000000e+000, 0.00000000e+000, 0.00000000e+000,\n",
       "        0.00000000e+000, 0.00000000e+000, 0.00000000e+000,\n",
       "        0.00000000e+000, 0.00000000e+000, 0.00000000e+000,\n",
       "        0.00000000e+000, 0.00000000e+000, 1.00000000e+000,\n",
       "        0.00000000e+000, 0.00000000e+000, 0.00000000e+000,\n",
       "        0.00000000e+000, 0.00000000e+000],\n",
       "       [1.11143211e-001, 4.53844296e-039, 5.63374486e-002,\n",
       "        3.62161352e-005, 4.27048676e-001, 4.96145151e-012,\n",
       "        3.08647119e-003, 0.00000000e+000, 3.08641975e-004,\n",
       "        0.00000000e+000, 6.17283951e-003, 9.84905155e-044,\n",
       "        6.17283951e-003, 8.57338820e-009, 7.73688301e-004,\n",
       "        3.33333333e-001, 0.00000000e+000, 9.45254440e-021,\n",
       "        3.08649231e-005, 2.05821268e-007, 5.55555556e-002,\n",
       "        2.38149672e-010, 4.00199174e-028, 0.00000000e+000,\n",
       "        3.15084813e-021, 0.00000000e+000],\n",
       "       [8.88888918e-002, 0.00000000e+000, 8.03943137e-008,\n",
       "        6.36511008e-156, 2.22685202e-001, 3.16075877e-220,\n",
       "        0.00000000e+000, 1.68984697e-002, 4.00990307e-001,\n",
       "        0.00000000e+000, 8.01118963e-018, 1.60751029e-005,\n",
       "        1.78631635e-009, 1.77148424e-062, 2.83566445e-003,\n",
       "        5.81918724e-005, 0.00000000e+000, 0.00000000e+000,\n",
       "        2.00000019e-001, 6.76215493e-002, 5.54870228e-006,\n",
       "        0.00000000e+000, 2.99585938e-034, 0.00000000e+000,\n",
       "        1.23191807e-084, 0.00000000e+000],\n",
       "       [2.77777950e-006, 0.00000000e+000, 1.14781539e-082,\n",
       "        0.00000000e+000, 1.26113894e-001, 1.02916056e-113,\n",
       "        0.00000000e+000, 7.48837826e-001, 7.15525794e-007,\n",
       "        0.00000000e+000, 0.00000000e+000, 9.50406357e-051,\n",
       "        4.25333631e-128, 7.75987782e-046, 1.41121669e-005,\n",
       "        0.00000000e+000, 0.00000000e+000, 1.25002798e-001,\n",
       "        2.77777778e-005, 9.92063492e-008, 3.53146319e-023,\n",
       "        0.00000000e+000, 1.73041696e-021, 0.00000000e+000,\n",
       "        1.45330229e-031, 0.00000000e+000],\n",
       "       [3.11546263e-015, 5.46553894e-004, 8.03756961e-006,\n",
       "        2.79081647e-008, 8.37244942e-008, 1.13743446e-033,\n",
       "        1.74102970e-016, 0.00000000e+000, 1.66669346e-001,\n",
       "        0.00000000e+000, 6.79762130e-155, 2.69094209e-006,\n",
       "        6.69795954e-007, 5.29393326e-001, 1.54320988e-002,\n",
       "        9.29783958e-002, 0.00000000e+000, 3.86151337e-004,\n",
       "        1.66666863e-001, 2.79157558e-002, 0.00000000e+000,\n",
       "        4.07980381e-118, 0.00000000e+000, 0.00000000e+000,\n",
       "        0.00000000e+000, 0.00000000e+000],\n",
       "       [2.52610948e-001, 0.00000000e+000, 0.00000000e+000,\n",
       "        0.00000000e+000, 1.57923704e-001, 0.00000000e+000,\n",
       "        0.00000000e+000, 0.00000000e+000, 5.63423587e-001,\n",
       "        0.00000000e+000, 0.00000000e+000, 0.00000000e+000,\n",
       "        0.00000000e+000, 0.00000000e+000, 2.60417432e-002,\n",
       "        0.00000000e+000, 0.00000000e+000, 9.11728476e-066,\n",
       "        0.00000000e+000, 0.00000000e+000, 3.24267970e-032,\n",
       "        0.00000000e+000, 0.00000000e+000, 0.00000000e+000,\n",
       "        1.76606355e-008, 0.00000000e+000],\n",
       "       [5.04218464e-001, 0.00000000e+000, 0.00000000e+000,\n",
       "        4.16527373e-092, 1.28605957e-005, 0.00000000e+000,\n",
       "        0.00000000e+000, 4.35672357e-002, 2.84722233e-001,\n",
       "        0.00000000e+000, 1.66666667e-001, 6.94459329e-004,\n",
       "        0.00000000e+000, 1.15756125e-004, 2.52207118e-009,\n",
       "        0.00000000e+000, 0.00000000e+000, 1.78612254e-007,\n",
       "        2.14334748e-006, 0.00000000e+000, 1.30164804e-093,\n",
       "        0.00000000e+000, 0.00000000e+000, 0.00000000e+000,\n",
       "        6.60031873e-114, 0.00000000e+000],\n",
       "       [2.64485678e-003, 5.52942768e-273, 1.80649339e-004,\n",
       "        5.52942768e-273, 6.90924544e-002, 5.52942768e-273,\n",
       "        5.52942768e-273, 6.51081403e-004, 8.75000318e-001,\n",
       "        5.52942768e-273, 5.52942768e-273, 1.46137375e-097,\n",
       "        3.87042828e-014, 5.52942768e-273, 2.20581497e-024,\n",
       "        5.23010936e-003, 3.67766746e-090, 5.52942768e-273,\n",
       "        5.52942768e-273, 4.72005308e-002, 2.01422871e-057,\n",
       "        5.77092474e-227, 5.52942768e-273, 1.09346364e-240,\n",
       "        2.86204178e-071, 5.52942768e-273],\n",
       "       [2.95149061e-001, 8.21482159e-066, 8.14072040e-303,\n",
       "        2.35416860e-141, 6.93057577e-001, 6.30898298e-063,\n",
       "        0.00000000e+000, 1.20512233e-104, 1.17187508e-002,\n",
       "        0.00000000e+000, 0.00000000e+000, 1.38354334e-030,\n",
       "        2.26056134e-006, 1.04834492e-176, 7.23497396e-005,\n",
       "        1.53608848e-130, 0.00000000e+000, 7.72264058e-088,\n",
       "        9.23421222e-011, 2.30590556e-031, 0.00000000e+000,\n",
       "        0.00000000e+000, 1.10683467e-029, 0.00000000e+000,\n",
       "        0.00000000e+000, 0.00000000e+000],\n",
       "       [1.85402179e-010, 5.52975001e-044, 1.02293044e-180,\n",
       "        1.02293044e-180, 9.03341427e-001, 1.02293044e-180,\n",
       "        1.02293044e-180, 6.12743002e-076, 9.62737048e-002,\n",
       "        1.02293044e-180, 1.02293044e-180, 1.64458781e-004,\n",
       "        1.02293044e-180, 1.02293044e-180, 5.59503679e-005,\n",
       "        1.02293044e-180, 1.02293044e-180, 1.02293044e-180,\n",
       "        1.02293044e-180, 1.02293044e-180, 6.46751788e-012,\n",
       "        1.02293044e-180, 1.02293044e-180, 1.02293044e-180,\n",
       "        2.29960894e-011, 1.64458781e-004]])"
      ]
     },
     "execution_count": 16,
     "metadata": {},
     "output_type": "execute_result"
    }
   ],
   "source": [
    "M"
   ]
  },
  {
   "cell_type": "code",
   "execution_count": 36,
   "id": "3a275340",
   "metadata": {},
   "outputs": [],
   "source": [
    "original_message = '''I then lounged down the street and found, as I expected, that there was a mews in a lane which \n",
    "runs down by one wall of the garden. I lent the ostlers a hand in rubbing down their horses, and received in \n",
    "exchange twopence, a glass of half-and-half, two fills of shag tobacco, and as much information as I could desire \n",
    "about Miss Adler, to say nothing of half a dozen other people in the neighbourhood in whom I was not in the least \n",
    "interested, but whose biographies I was compelled to listen'''"
   ]
  },
  {
   "cell_type": "code",
   "execution_count": 47,
   "id": "0261c4e1",
   "metadata": {},
   "outputs": [],
   "source": [
    "# function to encode message\n",
    "def encode_message(msg):\n",
    "    msg = msg.lower()\n",
    "    msg = regex.sub(' ', msg)\n",
    "    coded_msg = []\n",
    "    # make it encoded\n",
    "    for ch in msg:\n",
    "        coded_ch = ch\n",
    "        if ch in true_mapping:\n",
    "            coded_ch = true_mapping[ch]\n",
    "            \n",
    "        coded_msg.append(coded_ch)\n",
    "    return ''.join(coded_msg)\n",
    "\n",
    "def decode_msg(msg,word_map):\n",
    "    msg = msg.lower()\n",
    "    msg = regex.sub(' ',msg)\n",
    "    print(msg)\n",
    "    decoded_msg = []\n",
    "    for ch in msg:\n",
    "        decoded_ch = ch\n",
    "        if ch in word_map[ch]:\n",
    "            decoded_ch = word_map[ch]\n",
    "        decoded_msg.append(decoded_ch)\n",
    "    return ''.join(decoded_msg)\n",
    "            "
   ]
  },
  {
   "cell_type": "code",
   "execution_count": 37,
   "id": "5c70e9ad",
   "metadata": {},
   "outputs": [
    {
     "name": "stdout",
     "output_type": "stream",
     "text": [
      "I then lounged down the street and found, as I expected, that there was a mews in a lane which \n",
      "runs down by one wall of the garden. I lent the ostlers a hand in rubbing down their horses, and received in \n",
      "exchange twopence, a glass of half-and-half, two fills of shag tobacco, and as much information as I could desire \n",
      "about Miss Adler, to say nothing of half a dozen other people in the neighbourhood in whom I was not in the least \n",
      "interested, but whose biographies I was compelled to listen\n"
     ]
    },
    {
     "data": {
      "text/plain": [
       "'i jbch dpzhocm mpth jbc gjwccj rhm xpzhm  rg i cvlckjcm  jbrj jbcwc trg r nctg ih r drhc tbikb  wzhg mpth qa phc trdd px jbc orwmch  i dchj jbc pgjdcwg r brhm ih wzqqiho mpth jbciw bpwgcg  rhm wckcifcm ih  cvkbrhoc jtplchkc  r odrgg px brdx rhm brdx  jtp xiddg px gbro jpqrkkp  rhm rg nzkb ihxpwnrjiph rg i kpzdm mcgiwc  rqpzj nigg rmdcw  jp gra hpjbiho px brdx r mpuch pjbcw lcpldc ih jbc hciobqpzwbppm ih tbpn i trg hpj ih jbc dcrgj  ihjcwcgjcm  qzj tbpgc qipowrlbicg i trg kpnlcddcm jp digjch'"
      ]
     },
     "execution_count": 37,
     "metadata": {},
     "output_type": "execute_result"
    }
   ],
   "source": [
    "encoded_msg = encode_message(original_message)\n",
    "print(original_message)\n",
    "encoded_msg"
   ]
  },
  {
   "cell_type": "code",
   "execution_count": 22,
   "id": "059d42b7",
   "metadata": {},
   "outputs": [],
   "source": [
    "# algorithm to decoded message.\n",
    "dna_pool = []\n",
    "for _ in range(20):\n",
    "    dna = list(string.ascii_lowercase)\n",
    "    random.shuffle(dna)\n",
    "    dna_pool.append(dna)"
   ]
  },
  {
   "cell_type": "code",
   "execution_count": 24,
   "id": "ec1b1a87",
   "metadata": {},
   "outputs": [
    {
     "data": {
      "text/plain": [
       "20"
      ]
     },
     "execution_count": 24,
     "metadata": {},
     "output_type": "execute_result"
    }
   ],
   "source": [
    "len(dna_pool)"
   ]
  },
  {
   "cell_type": "code",
   "execution_count": 26,
   "id": "b1e18a3f",
   "metadata": {},
   "outputs": [
    {
     "data": {
      "text/plain": [
       "26"
      ]
     },
     "execution_count": 26,
     "metadata": {},
     "output_type": "execute_result"
    }
   ],
   "source": [
    "len(dna_pool[0])"
   ]
  },
  {
   "cell_type": "code",
   "execution_count": 27,
   "id": "d17aceda",
   "metadata": {},
   "outputs": [],
   "source": [
    "def evolve_offspring(dna_pool,n_childrens):\n",
    "    offspring = []\n",
    "    for dna in dna_pool:\n",
    "        for _ in range(n_childrens):\n",
    "            copy = dna.copy()\n",
    "            j = np.random.randint(len(copy))\n",
    "            k = np.random.randint(len(copy))\n",
    "            \n",
    "            # switch\n",
    "            tmp = copy[j]\n",
    "            copy[j] = copy[k]\n",
    "            copy[k] = k\n",
    "            \n",
    "            offspring.append(copy)\n",
    "    return offspring + dna_pool"
   ]
  },
  {
   "cell_type": "code",
   "execution_count": 32,
   "id": "c7f42381",
   "metadata": {},
   "outputs": [
    {
     "data": {
      "text/plain": [
       "60"
      ]
     },
     "execution_count": 32,
     "metadata": {},
     "output_type": "execute_result"
    }
   ],
   "source": [
    "dnas = evolve_offspring(dna_pool,2)\n",
    "len(dnas)"
   ]
  },
  {
   "cell_type": "code",
   "execution_count": 51,
   "id": "c22981d8",
   "metadata": {},
   "outputs": [
    {
     "name": "stdout",
     "output_type": "stream",
     "text": [
      "dna\n",
      " [0, 'j', 2, 'e', 'p', 'o', 'b', 'a', 'g', 9, 'c', 'q', 16, 'u', 14, 15, 16, 0, 'd', 'v', 'm', 'i', 'z', 'l', 't', 'x']\n",
      "{'a': 0, 'b': 'j', 'c': 2, 'd': 'e', 'e': 'p', 'f': 'o', 'g': 'b', 'h': 'a', 'i': 'g', 'j': 9, 'k': 'c', 'l': 'q', 'm': 16, 'n': 'u', 'o': 14, 'p': 15, 'q': 16, 'r': 0, 's': 'd', 't': 'v', 'u': 'm', 'v': 'i', 'w': 'z', 'x': 'l', 'y': 't', 'z': 'x'}\n",
      "i jbch dpzhocm mpth jbc gjwccj rhm xpzhm  rg i cvlckjcm  jbrj jbcwc trg r nctg ih r drhc tbikb  wzhg mpth qa phc trdd px jbc orwmch  i dchj jbc pgjdcwg r brhm ih wzqqiho mpth jbciw bpwgcg  rhm wckcifcm ih  cvkbrhoc jtplchkc  r odrgg px brdx rhm brdx  jtp xiddg px gbro jpqrkkp  rhm rg nzkb ihxpwnrjiph rg i kpzdm mcgiwc  rqpzj nigg rmdcw  jp gra hpjbiho px brdx r mpuch pjbcw lcpldc ih jbc hciobqpzwbppm ih tbpn i trg hpj ih jbc dcrgj  ihjcwcgjcm  qzj tbpgc qipowrlbicg i trg kpnlcddcm jp digjch\n"
     ]
    },
    {
     "ename": "KeyError",
     "evalue": "' '",
     "output_type": "error",
     "traceback": [
      "\u001b[1;31m---------------------------------------------------------------------------\u001b[0m",
      "\u001b[1;31mKeyError\u001b[0m                                  Traceback (most recent call last)",
      "Input \u001b[1;32mIn [51]\u001b[0m, in \u001b[0;36m<cell line: 6>\u001b[1;34m()\u001b[0m\n\u001b[0;32m     16\u001b[0m     current_map[k] \u001b[38;5;241m=\u001b[39m v\n\u001b[0;32m     17\u001b[0m \u001b[38;5;28mprint\u001b[39m(current_map)\n\u001b[1;32m---> 18\u001b[0m decoded_message \u001b[38;5;241m=\u001b[39m \u001b[43mdecode_msg\u001b[49m\u001b[43m(\u001b[49m\u001b[43mencoded_msg\u001b[49m\u001b[43m,\u001b[49m\u001b[43mcurrent_map\u001b[49m\u001b[43m)\u001b[49m\n\u001b[0;32m     19\u001b[0m score \u001b[38;5;241m=\u001b[39m get_sequence_probability(decoded_message)\n\u001b[0;32m     21\u001b[0m \u001b[38;5;66;03m# store it\u001b[39;00m\n",
      "Input \u001b[1;32mIn [47]\u001b[0m, in \u001b[0;36mdecode_msg\u001b[1;34m(msg, word_map)\u001b[0m\n\u001b[0;32m     20\u001b[0m \u001b[38;5;28;01mfor\u001b[39;00m ch \u001b[38;5;129;01min\u001b[39;00m msg:\n\u001b[0;32m     21\u001b[0m     decoded_ch \u001b[38;5;241m=\u001b[39m ch\n\u001b[1;32m---> 22\u001b[0m     \u001b[38;5;28;01mif\u001b[39;00m ch \u001b[38;5;129;01min\u001b[39;00m \u001b[43mword_map\u001b[49m\u001b[43m[\u001b[49m\u001b[43mch\u001b[49m\u001b[43m]\u001b[49m:\n\u001b[0;32m     23\u001b[0m         decoded_ch \u001b[38;5;241m=\u001b[39m word_map[ch]\n\u001b[0;32m     24\u001b[0m     decoded_msg\u001b[38;5;241m.\u001b[39mappend(decoded_ch)\n",
      "\u001b[1;31mKeyError\u001b[0m: ' '"
     ]
    }
   ],
   "source": [
    "num_iters = 10\n",
    "scores = np.zeros(num_iters)\n",
    "best_dna = None\n",
    "best_map = None\n",
    "best_score = float('-inf')\n",
    "for i in range(num_iters):\n",
    "    if i > 0:\n",
    "        # get offspring from current dna pool\n",
    "        dna_pool = evolve_offspring(dna_pool,3)\n",
    "    # calculate score for each dna\n",
    "    dna2score = {}\n",
    "    for dna in dna_pool:\n",
    "        current_map = {}\n",
    "        print('dna\\n',dna)\n",
    "        for k,v in zip(letters1,dna):\n",
    "            current_map[k] = v\n",
    "        print(current_map)\n",
    "        decoded_message = decode_msg(encoded_msg,current_map)\n",
    "        score = get_sequence_probability(decoded_message)\n",
    "            \n",
    "        # store it\n",
    "        dna2score[''.join(dna)] = score\n",
    "        # record the best so far\n",
    "        if score > best_score:\n",
    "            best_dna = dna\n",
    "            best_map = current_map\n",
    "            best_score = score\n",
    "        # average score for this generation\n",
    "        scores[i] = np.mean(list(dna2score.values()))\n",
    "            \n",
    "        # keep the best 5 dna\n",
    "        sorted_dna = sorted(dna2score.items(),key=lambda x: x[1],reverse=True)\n",
    "        dna_pool = [list(k) for k,v in sorted_dna[:5]]\n",
    "            \n",
    "        if i % 10 == 0:\n",
    "            print(\"iter:\",i, \" score \", scores[i], \" best so far \", best_score)"
   ]
  },
  {
   "cell_type": "code",
   "execution_count": 44,
   "id": "09aba408",
   "metadata": {},
   "outputs": [
    {
     "data": {
      "text/plain": [
       "{' ': ' ',\n",
       " 'a': 0,\n",
       " 'b': 's',\n",
       " 'c': 'm',\n",
       " 'd': 'e',\n",
       " 'e': 'p',\n",
       " 'f': 'o',\n",
       " 'g': 'b',\n",
       " 'h': 'a',\n",
       " 'i': 'g',\n",
       " 'j': 9,\n",
       " 'k': 'c',\n",
       " 'l': 'q',\n",
       " 'm': 'y',\n",
       " 'n': 'u',\n",
       " 'o': 'j',\n",
       " 'p': 15,\n",
       " 'q': 16,\n",
       " 'r': 'r',\n",
       " 's': 'd',\n",
       " 't': 'v',\n",
       " 'u': 'n',\n",
       " 'v': 'i',\n",
       " 'w': 'z',\n",
       " 'x': 'l',\n",
       " 'y': 't',\n",
       " 'z': 'x'}"
      ]
     },
     "execution_count": 44,
     "metadata": {},
     "output_type": "execute_result"
    }
   ],
   "source": [
    "current_map"
   ]
  },
  {
   "cell_type": "code",
   "execution_count": 42,
   "id": "c8878886",
   "metadata": {},
   "outputs": [
    {
     "data": {
      "text/plain": [
       "['a',\n",
       " 'b',\n",
       " 'c',\n",
       " 'd',\n",
       " 'e',\n",
       " 'f',\n",
       " 'g',\n",
       " 'h',\n",
       " 'i',\n",
       " 'j',\n",
       " 'k',\n",
       " 'l',\n",
       " 'm',\n",
       " 'n',\n",
       " 'o',\n",
       " 'p',\n",
       " 'q',\n",
       " 'r',\n",
       " 's',\n",
       " 't',\n",
       " 'u',\n",
       " 'v',\n",
       " 'w',\n",
       " 'x',\n",
       " 'y',\n",
       " 'z']"
      ]
     },
     "execution_count": 42,
     "metadata": {},
     "output_type": "execute_result"
    }
   ],
   "source": [
    "letters1"
   ]
  },
  {
   "cell_type": "code",
   "execution_count": null,
   "id": "df95c4bb",
   "metadata": {},
   "outputs": [],
   "source": []
  }
 ],
 "metadata": {
  "kernelspec": {
   "display_name": "Python 3 (ipykernel)",
   "language": "python",
   "name": "python3"
  },
  "language_info": {
   "codemirror_mode": {
    "name": "ipython",
    "version": 3
   },
   "file_extension": ".py",
   "mimetype": "text/x-python",
   "name": "python",
   "nbconvert_exporter": "python",
   "pygments_lexer": "ipython3",
   "version": "3.9.15"
  }
 },
 "nbformat": 4,
 "nbformat_minor": 5
}
