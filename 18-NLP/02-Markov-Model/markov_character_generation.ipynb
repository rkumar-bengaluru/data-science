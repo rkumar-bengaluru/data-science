{
 "cells": [
  {
   "cell_type": "code",
   "execution_count": 1,
   "id": "8ac2d234",
   "metadata": {},
   "outputs": [
    {
     "name": "stderr",
     "output_type": "stream",
     "text": [
      "[nltk_data] Downloading package stopwords to\n",
      "[nltk_data]     C:\\Users\\DELL\\AppData\\Roaming\\nltk_data...\n",
      "[nltk_data]   Package stopwords is already up-to-date!\n"
     ]
    }
   ],
   "source": [
    "import pandas as pd\n",
    "import nltk\n",
    "from nltk import word_tokenize\n",
    "from nltk.corpus import stopwords\n",
    "nltk.download('stopwords')\n",
    "from nltk.tokenize import RegexpTokenizer\n",
    "import re\n",
    "import numpy as np\n",
    "\n",
    "from sklearn.metrics.pairwise import cosine_similarity,euclidean_distances\n",
    "import matplotlib.pyplot as plt"
   ]
  },
  {
   "cell_type": "code",
   "execution_count": 2,
   "id": "a9e3226e",
   "metadata": {},
   "outputs": [],
   "source": [
    "df = pd.read_csv('https://raw.githubusercontent.com/rkumar-bengaluru/data-science/main/16-Projects/zuel/data/2001_all_materials.csv')\n",
    "df['Description'] = df['Description'].astype(str)"
   ]
  },
  {
   "cell_type": "code",
   "execution_count": 3,
   "id": "c19764b5",
   "metadata": {},
   "outputs": [],
   "source": [
    "# initialize test data\n",
    "test = df['Description']\n",
    "test = test[:]"
   ]
  },
  {
   "cell_type": "code",
   "execution_count": 4,
   "id": "60286d7d",
   "metadata": {},
   "outputs": [],
   "source": [
    "# word 2 index\n",
    "nltk_stop_words = stopwords.words ('english')\n",
    "tokenizer = RegexpTokenizer(r'\\w+')\n",
    "doc2index = {}\n",
    "\n",
    "def word2index(corpus):\n",
    "    idx = 0\n",
    "    w2i = {}\n",
    "    all_docs_as_int = []\n",
    "    j = 0\n",
    "    for doc in corpus:\n",
    "        doc_as_int = []\n",
    "        wordsindoc = tokenizer.tokenize(doc.lower())\n",
    "        doc2index[doc] = j\n",
    "        j += 1\n",
    "        for word in wordsindoc:\n",
    "            if word not in nltk_stop_words:\n",
    "                # check if this word exist in dictionary\n",
    "                if word not in w2i:\n",
    "                    w2i[word] = idx # dettol as 0\n",
    "                    idx += 1\n",
    "\n",
    "                doc_as_int.append(w2i[word])\n",
    "                \n",
    "        all_docs_as_int.append(doc_as_int)\n",
    "    return w2i,all_docs_as_int\n",
    "\n",
    "def index2word(w2i):\n",
    "    i2w = []\n",
    "    for k,v in w2i.items():\n",
    "        i2w.append(k)\n",
    "    return i2w\n",
    "\n",
    "def sample_words(w2i,de):\n",
    "    testwords = []\n",
    "    for k,v in w2i.items():\n",
    "        if k.startswith(de):\n",
    "            testwords.append(k)\n",
    "    return testwords\n",
    "\n",
    "def all_words(w2i):\n",
    "    testwords = []\n",
    "    for k,v in w2i.items():\n",
    "        testwords.append(k)\n",
    "    return testwords"
   ]
  },
  {
   "cell_type": "code",
   "execution_count": 5,
   "id": "60d9b4cb",
   "metadata": {},
   "outputs": [
    {
     "name": "stdout",
     "output_type": "stream",
     "text": [
      "testwords\n",
      " ['dermaveen', 'depiderm', 'demaquillantepnm', 'deluxe9', 'dettol', 'dermaceutic', 'depo', 'deep', 'derma', 'decolgen', 'dermadrate', 'dentalcrm', 'deluxe3', 'dew', 'deense', 'dermgel', 'delilah', 'devil', 'deluxe', 'dermovatecream100gm', 'devices', 'dextrose', 'detangler', 'demaquillant', 'dermovatecream15gm', 'dental', 'deodorant', 'dermareen', 'dermatix', 'dermacontrol', 'dermaid', 'defense', 'detol', 'dermoprotective', 'deluxe5', 'debtin', 'derived', 'deluxe1', 'deluxe7', 'deluxe4']\n"
     ]
    }
   ],
   "source": [
    "#print('test_data\\n',test)\n",
    "w2i,docs_as_int = word2index(test)\n",
    "# words starting with de\n",
    "testwords = sample_words(w2i,'de')\n",
    "#testwords = testwords[:5]\n",
    "testwords.remove('depotamp250mg1x20')\n",
    "testwords.remove('defensespf5030ml')\n",
    "testwords.remove('def')\n",
    "testwords.remove('dermovateoint100gm')\n",
    "testwords.remove('de')\n",
    "testwords.remove('dermovateoint15gm')\n",
    "testwords.remove('depottabs60mg7x15')\n",
    "testwords.remove('deodorant50ml')\n",
    "testwords.remove('desferalvial500mg10')\n",
    "testwords.remove('defensecream50ml')\n",
    "testwords.remove('dexcream5g')\n",
    "testwords.remove('dermgel1')\n",
    "print('testwords\\n',testwords)"
   ]
  },
  {
   "cell_type": "code",
   "execution_count": null,
   "id": "5fc7e930",
   "metadata": {},
   "outputs": [],
   "source": []
  },
  {
   "cell_type": "code",
   "execution_count": 6,
   "id": "7a128c33",
   "metadata": {},
   "outputs": [],
   "source": [
    "import numpy as np\n",
    "import string"
   ]
  },
  {
   "cell_type": "code",
   "execution_count": 7,
   "id": "6ec8954d",
   "metadata": {},
   "outputs": [],
   "source": [
    "np.random.seed(1234)"
   ]
  },
  {
   "cell_type": "code",
   "execution_count": 8,
   "id": "93a1f4ea",
   "metadata": {},
   "outputs": [],
   "source": [
    "def add2dict(d,k,v):\n",
    "    if k not in d:\n",
    "        d[k] = []\n",
    "    d[k].append(v)"
   ]
  },
  {
   "cell_type": "code",
   "execution_count": 9,
   "id": "f31eb64d",
   "metadata": {},
   "outputs": [],
   "source": [
    "def markov_second_order(words):\n",
    "    initial = {} # dictionary of pharases\n",
    "    first_order_markov = {} # second word only.\n",
    "    second_order_markov = {} # from second word onwards\n",
    "    for word in words:\n",
    "        T = len(word)\n",
    "        for i in range(T):\n",
    "            t = word[i]\n",
    "            if i ==0:\n",
    "                # first character\n",
    "                initial[t] = initial.get(t,0.) + 1\n",
    "            else:\n",
    "                t_1 = word[i -1]\n",
    "                if i == T-1:\n",
    "                    # last character\n",
    "                    add2dict(second_order_markov, (t_1,t),'END')\n",
    "                if i == 1:\n",
    "                    # second character\n",
    "                    add2dict(first_order_markov,t_1,t)\n",
    "                else:\n",
    "                    # all the remaining.\n",
    "                    t_2 = word[i-2]\n",
    "                    add2dict(second_order_markov, (t_2,t_1),t)\n",
    "    return initial,first_order_markov,second_order_markov"
   ]
  },
  {
   "cell_type": "code",
   "execution_count": 10,
   "id": "8f4ef78e",
   "metadata": {},
   "outputs": [
    {
     "name": "stdout",
     "output_type": "stream",
     "text": [
      "testwords\n",
      " ['dermaveen', 'depiderm', 'demaquillantepnm', 'deluxe9', 'dettol', 'dermaceutic', 'depo', 'deep', 'derma', 'decolgen', 'dermadrate', 'dentalcrm', 'deluxe3', 'dew', 'deense', 'dermgel', 'delilah', 'devil', 'deluxe', 'dermovatecream100gm', 'devices', 'dextrose', 'detangler', 'demaquillant', 'dermovatecream15gm', 'dental', 'deodorant', 'dermareen', 'dermatix', 'dermacontrol', 'dermaid', 'defense', 'detol', 'dermoprotective', 'deluxe5', 'debtin', 'derived', 'deluxe1', 'deluxe7', 'deluxe4']\n",
      "initial\n",
      " {'d': 40.0}\n",
      "first_order_markov\n",
      " {'d': ['e', 'e', 'e', 'e', 'e', 'e', 'e', 'e', 'e', 'e', 'e', 'e', 'e', 'e', 'e', 'e', 'e', 'e', 'e', 'e', 'e', 'e', 'e', 'e', 'e', 'e', 'e', 'e', 'e', 'e', 'e', 'e', 'e', 'e', 'e', 'e', 'e', 'e', 'e', 'e']}\n",
      "second_order_markov\n",
      " {('d', 'e'): ['r', 'p', 'r', 'm', 'l', 't', 'r', 'p', 'e', 'r', 'c', 'r', 'n', 'l', 'w', 'e', 'r', 'l', 'v', 'l', 'r', 'v', 'x', 't', 'm', 'r', 'n', 'o', 'r', 'r', 'r', 'r', 'f', 't', 'r', 'l', 'b', 'r', 'l', 'l', 'l'], ('e', 'r'): ['m', 'm', 'm', 'm', 'm', 'm', 'm', 'END', 'm', 'm', 'm', 'm', 'm', 'm', 'i'], ('r', 'm'): ['a', 'END', 'a', 'a', 'a', 'END', 'g', 'o', 'o', 'a', 'a', 'a', 'a', 'o'], ('m', 'a'): ['v', 'q', 'c', 'END', 'd', 'q', 'r', 't', 'c', 'i'], ('a', 'v'): ['e'], ('v', 'e'): ['e', 'END', 'd'], ('e', 'n'): ['END', 'END', 't', 's', 't', 'END', 's'], ('e', 'e'): ['n', 'p', 'n', 'n'], ('e', 'p'): ['i', 'n', 'o', 'END'], ('p', 'i'): ['d'], ('i', 'd'): ['e', 'END'], ('e', 'm'): ['a', 'a'], ('a', 'q'): ['u', 'u'], ('q', 'u'): ['i', 'i'], ('u', 'i'): ['l', 'l'], ('i', 'l'): ['l', 'a', 'END', 'l'], ('l', 'l'): ['a', 'a'], ('l', 'a'): ['n', 'h', 'n'], ('a', 'n'): ['t', 'g', 't', 't'], ('n', 't'): ['e', 'a', 'END', 'a', 'END', 'r'], ('t', 'e'): ['p', 'END', 'c', 'c', 'c'], ('n', 'm'): ['END'], ('p', 'n'): ['m'], ('e', 'l'): ['u', 'u', 'END', 'i', 'u', 'u', 'u', 'u', 'u'], ('l', 'u'): ['x', 'x', 'x', 'x', 'x', 'x', 'x'], ('u', 'x'): ['e', 'e', 'e', 'e', 'e', 'e', 'e'], ('e', '9'): ['END'], ('x', 'e'): ['9', '3', 'END', '5', '1', '7', '4'], ('e', 't'): ['t', 'a', 'o'], ('t', 't'): ['o'], ('o', 'l'): ['END', 'g', 'END', 'END'], ('t', 'o'): ['l', 'l'], ('a', 'c'): ['e', 'o'], ('c', 'e'): ['u', 's'], ('e', 'u'): ['t'], ('u', 't'): ['i'], ('i', 'c'): ['END', 'e'], ('t', 'i'): ['c', 'x', 'v', 'n'], ('p', 'o'): ['END'], ('e', 'c'): ['o', 'r', 'r', 't'], ('c', 'o'): ['l', 'n'], ('l', 'g'): ['e'], ('g', 'e'): ['n', 'l'], ('a', 'd'): ['r'], ('d', 'r'): ['a'], ('r', 'a'): ['t', 'n'], ('a', 't'): ['e', 'e', 'e', 'i'], ('t', 'a'): ['l', 'n', 'l'], ('a', 'l'): ['c', 'END'], ('l', 'c'): ['r'], ('c', 'r'): ['m', 'e', 'e'], ('e', '3'): ['END'], ('e', 'w'): ['END'], ('s', 'e'): ['END', 'END', 'END'], ('n', 's'): ['e', 'e'], ('m', 'g'): ['e'], ('l', 'i'): ['l'], ('a', 'h'): ['END'], ('e', 'v'): ['i', 'i'], ('v', 'i'): ['l', 'c'], ('m', 'o'): ['v', 'v', 'p'], ('o', 'v'): ['a', 'a'], ('v', 'a'): ['t', 't'], ('r', 'e'): ['a', 'a', 'e'], ('e', 'a'): ['m', 'm'], ('a', 'm'): ['1', '1'], ('m', '1'): ['0', '5'], ('1', '0'): ['0'], ('0', '0'): ['g'], ('g', 'm'): ['END', 'END'], ('0', 'g'): ['m'], ('e', 's'): ['END'], ('e', 'x'): ['t'], ('x', 't'): ['r'], ('t', 'r'): ['o', 'o'], ('r', 'o'): ['s', 'l', 't'], ('o', 's'): ['e'], ('n', 'g'): ['l'], ('g', 'l'): ['e'], ('l', 'e'): ['r'], ('1', '5'): ['g'], ('5', 'g'): ['m'], ('e', 'o'): ['d'], ('o', 'd'): ['o'], ('d', 'o'): ['r'], ('o', 'r'): ['a'], ('a', 'r'): ['e'], ('i', 'x'): ['END'], ('o', 'n'): ['t'], ('a', 'i'): ['d'], ('e', 'f'): ['e'], ('f', 'e'): ['n'], ('o', 'p'): ['r'], ('p', 'r'): ['o'], ('o', 't'): ['e'], ('c', 't'): ['i'], ('i', 'v'): ['e', 'e'], ('e', '5'): ['END'], ('e', 'b'): ['t'], ('b', 't'): ['i'], ('i', 'n'): ['END'], ('r', 'i'): ['v'], ('e', 'd'): ['END'], ('e', '1'): ['END'], ('e', '7'): ['END'], ('e', '4'): ['END']}\n"
     ]
    }
   ],
   "source": [
    "initial,first_order_markov,second_order_markov = markov_second_order(testwords)\n",
    "print('testwords\\n',testwords)\n",
    "print('initial\\n',initial)\n",
    "print('first_order_markov\\n',first_order_markov)\n",
    "print('second_order_markov\\n',second_order_markov)"
   ]
  },
  {
   "cell_type": "code",
   "execution_count": 11,
   "id": "9f17a9fb",
   "metadata": {},
   "outputs": [],
   "source": [
    "# normalize distribution\n",
    "def normalize_initial_distribution(initial):\n",
    "    initial_total = sum(initial.values())\n",
    "    for t,c in initial.items():\n",
    "        initial[t] = c/initial_total\n",
    "\n",
    "def normalize_markov_order_distribution(ts):\n",
    "    d = {}\n",
    "    n = len(ts)\n",
    "    for t in ts:\n",
    "        d[t] = d.get(t,0.) + 1\n",
    "    for t,c in d.items():\n",
    "        d[t] = c/n\n",
    "    return d"
   ]
  },
  {
   "cell_type": "code",
   "execution_count": 12,
   "id": "327c5c0b",
   "metadata": {},
   "outputs": [
    {
     "name": "stdout",
     "output_type": "stream",
     "text": [
      "initial\n",
      " {'d': 40.0}\n",
      "first_order_markov\n",
      " {'d': ['e', 'e', 'e', 'e', 'e', 'e', 'e', 'e', 'e', 'e', 'e', 'e', 'e', 'e', 'e', 'e', 'e', 'e', 'e', 'e', 'e', 'e', 'e', 'e', 'e', 'e', 'e', 'e', 'e', 'e', 'e', 'e', 'e', 'e', 'e', 'e', 'e', 'e', 'e', 'e']}\n",
      "second_order_markov\n",
      " {('d', 'e'): ['r', 'p', 'r', 'm', 'l', 't', 'r', 'p', 'e', 'r', 'c', 'r', 'n', 'l', 'w', 'e', 'r', 'l', 'v', 'l', 'r', 'v', 'x', 't', 'm', 'r', 'n', 'o', 'r', 'r', 'r', 'r', 'f', 't', 'r', 'l', 'b', 'r', 'l', 'l', 'l'], ('e', 'r'): ['m', 'm', 'm', 'm', 'm', 'm', 'm', 'END', 'm', 'm', 'm', 'm', 'm', 'm', 'i'], ('r', 'm'): ['a', 'END', 'a', 'a', 'a', 'END', 'g', 'o', 'o', 'a', 'a', 'a', 'a', 'o'], ('m', 'a'): ['v', 'q', 'c', 'END', 'd', 'q', 'r', 't', 'c', 'i'], ('a', 'v'): ['e'], ('v', 'e'): ['e', 'END', 'd'], ('e', 'n'): ['END', 'END', 't', 's', 't', 'END', 's'], ('e', 'e'): ['n', 'p', 'n', 'n'], ('e', 'p'): ['i', 'n', 'o', 'END'], ('p', 'i'): ['d'], ('i', 'd'): ['e', 'END'], ('e', 'm'): ['a', 'a'], ('a', 'q'): ['u', 'u'], ('q', 'u'): ['i', 'i'], ('u', 'i'): ['l', 'l'], ('i', 'l'): ['l', 'a', 'END', 'l'], ('l', 'l'): ['a', 'a'], ('l', 'a'): ['n', 'h', 'n'], ('a', 'n'): ['t', 'g', 't', 't'], ('n', 't'): ['e', 'a', 'END', 'a', 'END', 'r'], ('t', 'e'): ['p', 'END', 'c', 'c', 'c'], ('n', 'm'): ['END'], ('p', 'n'): ['m'], ('e', 'l'): ['u', 'u', 'END', 'i', 'u', 'u', 'u', 'u', 'u'], ('l', 'u'): ['x', 'x', 'x', 'x', 'x', 'x', 'x'], ('u', 'x'): ['e', 'e', 'e', 'e', 'e', 'e', 'e'], ('e', '9'): ['END'], ('x', 'e'): ['9', '3', 'END', '5', '1', '7', '4'], ('e', 't'): ['t', 'a', 'o'], ('t', 't'): ['o'], ('o', 'l'): ['END', 'g', 'END', 'END'], ('t', 'o'): ['l', 'l'], ('a', 'c'): ['e', 'o'], ('c', 'e'): ['u', 's'], ('e', 'u'): ['t'], ('u', 't'): ['i'], ('i', 'c'): ['END', 'e'], ('t', 'i'): ['c', 'x', 'v', 'n'], ('p', 'o'): ['END'], ('e', 'c'): ['o', 'r', 'r', 't'], ('c', 'o'): ['l', 'n'], ('l', 'g'): ['e'], ('g', 'e'): ['n', 'l'], ('a', 'd'): ['r'], ('d', 'r'): ['a'], ('r', 'a'): ['t', 'n'], ('a', 't'): ['e', 'e', 'e', 'i'], ('t', 'a'): ['l', 'n', 'l'], ('a', 'l'): ['c', 'END'], ('l', 'c'): ['r'], ('c', 'r'): ['m', 'e', 'e'], ('e', '3'): ['END'], ('e', 'w'): ['END'], ('s', 'e'): ['END', 'END', 'END'], ('n', 's'): ['e', 'e'], ('m', 'g'): ['e'], ('l', 'i'): ['l'], ('a', 'h'): ['END'], ('e', 'v'): ['i', 'i'], ('v', 'i'): ['l', 'c'], ('m', 'o'): ['v', 'v', 'p'], ('o', 'v'): ['a', 'a'], ('v', 'a'): ['t', 't'], ('r', 'e'): ['a', 'a', 'e'], ('e', 'a'): ['m', 'm'], ('a', 'm'): ['1', '1'], ('m', '1'): ['0', '5'], ('1', '0'): ['0'], ('0', '0'): ['g'], ('g', 'm'): ['END', 'END'], ('0', 'g'): ['m'], ('e', 's'): ['END'], ('e', 'x'): ['t'], ('x', 't'): ['r'], ('t', 'r'): ['o', 'o'], ('r', 'o'): ['s', 'l', 't'], ('o', 's'): ['e'], ('n', 'g'): ['l'], ('g', 'l'): ['e'], ('l', 'e'): ['r'], ('1', '5'): ['g'], ('5', 'g'): ['m'], ('e', 'o'): ['d'], ('o', 'd'): ['o'], ('d', 'o'): ['r'], ('o', 'r'): ['a'], ('a', 'r'): ['e'], ('i', 'x'): ['END'], ('o', 'n'): ['t'], ('a', 'i'): ['d'], ('e', 'f'): ['e'], ('f', 'e'): ['n'], ('o', 'p'): ['r'], ('p', 'r'): ['o'], ('o', 't'): ['e'], ('c', 't'): ['i'], ('i', 'v'): ['e', 'e'], ('e', '5'): ['END'], ('e', 'b'): ['t'], ('b', 't'): ['i'], ('i', 'n'): ['END'], ('r', 'i'): ['v'], ('e', 'd'): ['END'], ('e', '1'): ['END'], ('e', '7'): ['END'], ('e', '4'): ['END']}\n"
     ]
    }
   ],
   "source": [
    "initial,first_order_markov,second_order_markov = markov_second_order(testwords)\n",
    "print('initial\\n',initial)\n",
    "print('first_order_markov\\n',first_order_markov)\n",
    "print('second_order_markov\\n',second_order_markov)"
   ]
  },
  {
   "cell_type": "code",
   "execution_count": 13,
   "id": "d60faca1",
   "metadata": {},
   "outputs": [
    {
     "name": "stdout",
     "output_type": "stream",
     "text": [
      "test_data\n",
      " ['dermaveen', 'depiderm', 'demaquillantepnm', 'deluxe9', 'dettol', 'dermaceutic', 'depo', 'deep', 'derma', 'decolgen', 'dermadrate', 'dentalcrm', 'deluxe3', 'dew', 'deense', 'dermgel', 'delilah', 'devil', 'deluxe', 'dermovatecream100gm', 'devices', 'dextrose', 'detangler', 'demaquillant', 'dermovatecream15gm', 'dental', 'deodorant', 'dermareen', 'dermatix', 'dermacontrol', 'dermaid', 'defense', 'detol', 'dermoprotective', 'deluxe5', 'debtin', 'derived', 'deluxe1', 'deluxe7', 'deluxe4']\n",
      "initial\n",
      " {'d': 1.0}\n",
      "first_order_markov\n",
      " {'d': {'e': 1.0}}\n",
      "second_order_markov\n",
      " {('d', 'e'): {'r': 0.34146341463414637, 'p': 0.04878048780487805, 'm': 0.04878048780487805, 'l': 0.1951219512195122, 't': 0.07317073170731707, 'e': 0.04878048780487805, 'c': 0.024390243902439025, 'n': 0.04878048780487805, 'w': 0.024390243902439025, 'v': 0.04878048780487805, 'x': 0.024390243902439025, 'o': 0.024390243902439025, 'f': 0.024390243902439025, 'b': 0.024390243902439025}, ('e', 'r'): {'m': 0.8666666666666667, 'END': 0.06666666666666667, 'i': 0.06666666666666667}, ('r', 'm'): {'a': 0.5714285714285714, 'END': 0.14285714285714285, 'g': 0.07142857142857142, 'o': 0.21428571428571427}, ('m', 'a'): {'v': 0.1, 'q': 0.2, 'c': 0.2, 'END': 0.1, 'd': 0.1, 'r': 0.1, 't': 0.1, 'i': 0.1}, ('a', 'v'): {'e': 1.0}, ('v', 'e'): {'e': 0.3333333333333333, 'END': 0.3333333333333333, 'd': 0.3333333333333333}, ('e', 'n'): {'END': 0.42857142857142855, 't': 0.2857142857142857, 's': 0.2857142857142857}, ('e', 'e'): {'n': 0.75, 'p': 0.25}, ('e', 'p'): {'i': 0.25, 'n': 0.25, 'o': 0.25, 'END': 0.25}, ('p', 'i'): {'d': 1.0}, ('i', 'd'): {'e': 0.5, 'END': 0.5}, ('e', 'm'): {'a': 1.0}, ('a', 'q'): {'u': 1.0}, ('q', 'u'): {'i': 1.0}, ('u', 'i'): {'l': 1.0}, ('i', 'l'): {'l': 0.5, 'a': 0.25, 'END': 0.25}, ('l', 'l'): {'a': 1.0}, ('l', 'a'): {'n': 0.6666666666666666, 'h': 0.3333333333333333}, ('a', 'n'): {'t': 0.75, 'g': 0.25}, ('n', 't'): {'e': 0.16666666666666666, 'a': 0.3333333333333333, 'END': 0.3333333333333333, 'r': 0.16666666666666666}, ('t', 'e'): {'p': 0.2, 'END': 0.2, 'c': 0.6}, ('n', 'm'): {'END': 1.0}, ('p', 'n'): {'m': 1.0}, ('e', 'l'): {'u': 0.7777777777777778, 'END': 0.1111111111111111, 'i': 0.1111111111111111}, ('l', 'u'): {'x': 1.0}, ('u', 'x'): {'e': 1.0}, ('e', '9'): {'END': 1.0}, ('x', 'e'): {'9': 0.14285714285714285, '3': 0.14285714285714285, 'END': 0.14285714285714285, '5': 0.14285714285714285, '1': 0.14285714285714285, '7': 0.14285714285714285, '4': 0.14285714285714285}, ('e', 't'): {'t': 0.3333333333333333, 'a': 0.3333333333333333, 'o': 0.3333333333333333}, ('t', 't'): {'o': 1.0}, ('o', 'l'): {'END': 0.75, 'g': 0.25}, ('t', 'o'): {'l': 1.0}, ('a', 'c'): {'e': 0.5, 'o': 0.5}, ('c', 'e'): {'u': 0.5, 's': 0.5}, ('e', 'u'): {'t': 1.0}, ('u', 't'): {'i': 1.0}, ('i', 'c'): {'END': 0.5, 'e': 0.5}, ('t', 'i'): {'c': 0.25, 'x': 0.25, 'v': 0.25, 'n': 0.25}, ('p', 'o'): {'END': 1.0}, ('e', 'c'): {'o': 0.25, 'r': 0.5, 't': 0.25}, ('c', 'o'): {'l': 0.5, 'n': 0.5}, ('l', 'g'): {'e': 1.0}, ('g', 'e'): {'n': 0.5, 'l': 0.5}, ('a', 'd'): {'r': 1.0}, ('d', 'r'): {'a': 1.0}, ('r', 'a'): {'t': 0.5, 'n': 0.5}, ('a', 't'): {'e': 0.75, 'i': 0.25}, ('t', 'a'): {'l': 0.6666666666666666, 'n': 0.3333333333333333}, ('a', 'l'): {'c': 0.5, 'END': 0.5}, ('l', 'c'): {'r': 1.0}, ('c', 'r'): {'m': 0.3333333333333333, 'e': 0.6666666666666666}, ('e', '3'): {'END': 1.0}, ('e', 'w'): {'END': 1.0}, ('s', 'e'): {'END': 1.0}, ('n', 's'): {'e': 1.0}, ('m', 'g'): {'e': 1.0}, ('l', 'i'): {'l': 1.0}, ('a', 'h'): {'END': 1.0}, ('e', 'v'): {'i': 1.0}, ('v', 'i'): {'l': 0.5, 'c': 0.5}, ('m', 'o'): {'v': 0.6666666666666666, 'p': 0.3333333333333333}, ('o', 'v'): {'a': 1.0}, ('v', 'a'): {'t': 1.0}, ('r', 'e'): {'a': 0.6666666666666666, 'e': 0.3333333333333333}, ('e', 'a'): {'m': 1.0}, ('a', 'm'): {'1': 1.0}, ('m', '1'): {'0': 0.5, '5': 0.5}, ('1', '0'): {'0': 1.0}, ('0', '0'): {'g': 1.0}, ('g', 'm'): {'END': 1.0}, ('0', 'g'): {'m': 1.0}, ('e', 's'): {'END': 1.0}, ('e', 'x'): {'t': 1.0}, ('x', 't'): {'r': 1.0}, ('t', 'r'): {'o': 1.0}, ('r', 'o'): {'s': 0.3333333333333333, 'l': 0.3333333333333333, 't': 0.3333333333333333}, ('o', 's'): {'e': 1.0}, ('n', 'g'): {'l': 1.0}, ('g', 'l'): {'e': 1.0}, ('l', 'e'): {'r': 1.0}, ('1', '5'): {'g': 1.0}, ('5', 'g'): {'m': 1.0}, ('e', 'o'): {'d': 1.0}, ('o', 'd'): {'o': 1.0}, ('d', 'o'): {'r': 1.0}, ('o', 'r'): {'a': 1.0}, ('a', 'r'): {'e': 1.0}, ('i', 'x'): {'END': 1.0}, ('o', 'n'): {'t': 1.0}, ('a', 'i'): {'d': 1.0}, ('e', 'f'): {'e': 1.0}, ('f', 'e'): {'n': 1.0}, ('o', 'p'): {'r': 1.0}, ('p', 'r'): {'o': 1.0}, ('o', 't'): {'e': 1.0}, ('c', 't'): {'i': 1.0}, ('i', 'v'): {'e': 1.0}, ('e', '5'): {'END': 1.0}, ('e', 'b'): {'t': 1.0}, ('b', 't'): {'i': 1.0}, ('i', 'n'): {'END': 1.0}, ('r', 'i'): {'v': 1.0}, ('e', 'd'): {'END': 1.0}, ('e', '1'): {'END': 1.0}, ('e', '7'): {'END': 1.0}, ('e', '4'): {'END': 1.0}}\n"
     ]
    },
    {
     "data": {
      "text/plain": [
       "{('d', 'e'): {'r': 0.34146341463414637,\n",
       "  'p': 0.04878048780487805,\n",
       "  'm': 0.04878048780487805,\n",
       "  'l': 0.1951219512195122,\n",
       "  't': 0.07317073170731707,\n",
       "  'e': 0.04878048780487805,\n",
       "  'c': 0.024390243902439025,\n",
       "  'n': 0.04878048780487805,\n",
       "  'w': 0.024390243902439025,\n",
       "  'v': 0.04878048780487805,\n",
       "  'x': 0.024390243902439025,\n",
       "  'o': 0.024390243902439025,\n",
       "  'f': 0.024390243902439025,\n",
       "  'b': 0.024390243902439025},\n",
       " ('e', 'r'): {'m': 0.8666666666666667,\n",
       "  'END': 0.06666666666666667,\n",
       "  'i': 0.06666666666666667},\n",
       " ('r', 'm'): {'a': 0.5714285714285714,\n",
       "  'END': 0.14285714285714285,\n",
       "  'g': 0.07142857142857142,\n",
       "  'o': 0.21428571428571427},\n",
       " ('m', 'a'): {'v': 0.1,\n",
       "  'q': 0.2,\n",
       "  'c': 0.2,\n",
       "  'END': 0.1,\n",
       "  'd': 0.1,\n",
       "  'r': 0.1,\n",
       "  't': 0.1,\n",
       "  'i': 0.1},\n",
       " ('a', 'v'): {'e': 1.0},\n",
       " ('v', 'e'): {'e': 0.3333333333333333,\n",
       "  'END': 0.3333333333333333,\n",
       "  'd': 0.3333333333333333},\n",
       " ('e', 'n'): {'END': 0.42857142857142855,\n",
       "  't': 0.2857142857142857,\n",
       "  's': 0.2857142857142857},\n",
       " ('e', 'e'): {'n': 0.75, 'p': 0.25},\n",
       " ('e', 'p'): {'i': 0.25, 'n': 0.25, 'o': 0.25, 'END': 0.25},\n",
       " ('p', 'i'): {'d': 1.0},\n",
       " ('i', 'd'): {'e': 0.5, 'END': 0.5},\n",
       " ('e', 'm'): {'a': 1.0},\n",
       " ('a', 'q'): {'u': 1.0},\n",
       " ('q', 'u'): {'i': 1.0},\n",
       " ('u', 'i'): {'l': 1.0},\n",
       " ('i', 'l'): {'l': 0.5, 'a': 0.25, 'END': 0.25},\n",
       " ('l', 'l'): {'a': 1.0},\n",
       " ('l', 'a'): {'n': 0.6666666666666666, 'h': 0.3333333333333333},\n",
       " ('a', 'n'): {'t': 0.75, 'g': 0.25},\n",
       " ('n', 't'): {'e': 0.16666666666666666,\n",
       "  'a': 0.3333333333333333,\n",
       "  'END': 0.3333333333333333,\n",
       "  'r': 0.16666666666666666},\n",
       " ('t', 'e'): {'p': 0.2, 'END': 0.2, 'c': 0.6},\n",
       " ('n', 'm'): {'END': 1.0},\n",
       " ('p', 'n'): {'m': 1.0},\n",
       " ('e', 'l'): {'u': 0.7777777777777778,\n",
       "  'END': 0.1111111111111111,\n",
       "  'i': 0.1111111111111111},\n",
       " ('l', 'u'): {'x': 1.0},\n",
       " ('u', 'x'): {'e': 1.0},\n",
       " ('e', '9'): {'END': 1.0},\n",
       " ('x', 'e'): {'9': 0.14285714285714285,\n",
       "  '3': 0.14285714285714285,\n",
       "  'END': 0.14285714285714285,\n",
       "  '5': 0.14285714285714285,\n",
       "  '1': 0.14285714285714285,\n",
       "  '7': 0.14285714285714285,\n",
       "  '4': 0.14285714285714285},\n",
       " ('e', 't'): {'t': 0.3333333333333333,\n",
       "  'a': 0.3333333333333333,\n",
       "  'o': 0.3333333333333333},\n",
       " ('t', 't'): {'o': 1.0},\n",
       " ('o', 'l'): {'END': 0.75, 'g': 0.25},\n",
       " ('t', 'o'): {'l': 1.0},\n",
       " ('a', 'c'): {'e': 0.5, 'o': 0.5},\n",
       " ('c', 'e'): {'u': 0.5, 's': 0.5},\n",
       " ('e', 'u'): {'t': 1.0},\n",
       " ('u', 't'): {'i': 1.0},\n",
       " ('i', 'c'): {'END': 0.5, 'e': 0.5},\n",
       " ('t', 'i'): {'c': 0.25, 'x': 0.25, 'v': 0.25, 'n': 0.25},\n",
       " ('p', 'o'): {'END': 1.0},\n",
       " ('e', 'c'): {'o': 0.25, 'r': 0.5, 't': 0.25},\n",
       " ('c', 'o'): {'l': 0.5, 'n': 0.5},\n",
       " ('l', 'g'): {'e': 1.0},\n",
       " ('g', 'e'): {'n': 0.5, 'l': 0.5},\n",
       " ('a', 'd'): {'r': 1.0},\n",
       " ('d', 'r'): {'a': 1.0},\n",
       " ('r', 'a'): {'t': 0.5, 'n': 0.5},\n",
       " ('a', 't'): {'e': 0.75, 'i': 0.25},\n",
       " ('t', 'a'): {'l': 0.6666666666666666, 'n': 0.3333333333333333},\n",
       " ('a', 'l'): {'c': 0.5, 'END': 0.5},\n",
       " ('l', 'c'): {'r': 1.0},\n",
       " ('c', 'r'): {'m': 0.3333333333333333, 'e': 0.6666666666666666},\n",
       " ('e', '3'): {'END': 1.0},\n",
       " ('e', 'w'): {'END': 1.0},\n",
       " ('s', 'e'): {'END': 1.0},\n",
       " ('n', 's'): {'e': 1.0},\n",
       " ('m', 'g'): {'e': 1.0},\n",
       " ('l', 'i'): {'l': 1.0},\n",
       " ('a', 'h'): {'END': 1.0},\n",
       " ('e', 'v'): {'i': 1.0},\n",
       " ('v', 'i'): {'l': 0.5, 'c': 0.5},\n",
       " ('m', 'o'): {'v': 0.6666666666666666, 'p': 0.3333333333333333},\n",
       " ('o', 'v'): {'a': 1.0},\n",
       " ('v', 'a'): {'t': 1.0},\n",
       " ('r', 'e'): {'a': 0.6666666666666666, 'e': 0.3333333333333333},\n",
       " ('e', 'a'): {'m': 1.0},\n",
       " ('a', 'm'): {'1': 1.0},\n",
       " ('m', '1'): {'0': 0.5, '5': 0.5},\n",
       " ('1', '0'): {'0': 1.0},\n",
       " ('0', '0'): {'g': 1.0},\n",
       " ('g', 'm'): {'END': 1.0},\n",
       " ('0', 'g'): {'m': 1.0},\n",
       " ('e', 's'): {'END': 1.0},\n",
       " ('e', 'x'): {'t': 1.0},\n",
       " ('x', 't'): {'r': 1.0},\n",
       " ('t', 'r'): {'o': 1.0},\n",
       " ('r', 'o'): {'s': 0.3333333333333333,\n",
       "  'l': 0.3333333333333333,\n",
       "  't': 0.3333333333333333},\n",
       " ('o', 's'): {'e': 1.0},\n",
       " ('n', 'g'): {'l': 1.0},\n",
       " ('g', 'l'): {'e': 1.0},\n",
       " ('l', 'e'): {'r': 1.0},\n",
       " ('1', '5'): {'g': 1.0},\n",
       " ('5', 'g'): {'m': 1.0},\n",
       " ('e', 'o'): {'d': 1.0},\n",
       " ('o', 'd'): {'o': 1.0},\n",
       " ('d', 'o'): {'r': 1.0},\n",
       " ('o', 'r'): {'a': 1.0},\n",
       " ('a', 'r'): {'e': 1.0},\n",
       " ('i', 'x'): {'END': 1.0},\n",
       " ('o', 'n'): {'t': 1.0},\n",
       " ('a', 'i'): {'d': 1.0},\n",
       " ('e', 'f'): {'e': 1.0},\n",
       " ('f', 'e'): {'n': 1.0},\n",
       " ('o', 'p'): {'r': 1.0},\n",
       " ('p', 'r'): {'o': 1.0},\n",
       " ('o', 't'): {'e': 1.0},\n",
       " ('c', 't'): {'i': 1.0},\n",
       " ('i', 'v'): {'e': 1.0},\n",
       " ('e', '5'): {'END': 1.0},\n",
       " ('e', 'b'): {'t': 1.0},\n",
       " ('b', 't'): {'i': 1.0},\n",
       " ('i', 'n'): {'END': 1.0},\n",
       " ('r', 'i'): {'v': 1.0},\n",
       " ('e', 'd'): {'END': 1.0},\n",
       " ('e', '1'): {'END': 1.0},\n",
       " ('e', '7'): {'END': 1.0},\n",
       " ('e', '4'): {'END': 1.0}}"
      ]
     },
     "execution_count": 13,
     "metadata": {},
     "output_type": "execute_result"
    }
   ],
   "source": [
    "def normalize(initial,first_order,second_order):\n",
    "    normalize_initial_distribution(initial)\n",
    "    for t_1,ts in first_order.items():\n",
    "        first_order[t_1] = normalize_markov_order_distribution(ts)\n",
    "    for t_1,ts in second_order.items():\n",
    "        second_order[t_1] = normalize_markov_order_distribution(ts)\n",
    "\n",
    "normalize(initial,first_order_markov,second_order_markov)\n",
    "\n",
    "print('test_data\\n',testwords)\n",
    "print('initial\\n',initial)\n",
    "print('first_order_markov\\n',first_order_markov)\n",
    "print('second_order_markov\\n',second_order_markov)\n",
    "second_order_markov"
   ]
  },
  {
   "cell_type": "code",
   "execution_count": 14,
   "id": "d829fe9f",
   "metadata": {},
   "outputs": [],
   "source": [
    "def next_character(d):\n",
    "    probs = []\n",
    "    chars = []\n",
    "    \n",
    "    cumulative = 0\n",
    "    for t,p in d.items():\n",
    "        probs.append(p)\n",
    "        chars.append(t)\n",
    "   \n",
    "    #print(chars)\n",
    "    return chars[:1]"
   ]
  },
  {
   "cell_type": "code",
   "execution_count": 15,
   "id": "25759d89",
   "metadata": {},
   "outputs": [],
   "source": [
    "def copy_chars(inputs):\n",
    "    res = []\n",
    "    for w in inputs:\n",
    "        res.append(w)\n",
    "    return res"
   ]
  },
  {
   "cell_type": "code",
   "execution_count": 16,
   "id": "52d3e592",
   "metadata": {},
   "outputs": [],
   "source": [
    "def generate(initial):\n",
    "    suggestions = []\n",
    "    for word in initial:\n",
    "        length = len(word)\n",
    "        w0 = word[length-2]\n",
    "        w1 = word[length-1]\n",
    "        w = copy_chars(word)\n",
    "        w2 = next_character(second_order_markov[w0,w1])\n",
    "        for c in w2:\n",
    "            if c != 'END':\n",
    "                tmp = copy_chars(w)\n",
    "                tmp.append(c)\n",
    "                suggestions.append(''.join(tmp))\n",
    "            if c == 'END':\n",
    "                tmp = copy_chars(w)\n",
    "                suggestions.append(''.join(tmp))\n",
    "    return suggestions"
   ]
  },
  {
   "cell_type": "code",
   "execution_count": 17,
   "id": "a5f144c9",
   "metadata": {},
   "outputs": [],
   "source": [
    "def generate_word(suggestions,length):\n",
    "    for i in range(length):\n",
    "        suggestions = generate(suggestions)\n",
    "    return suggestions"
   ]
  },
  {
   "cell_type": "code",
   "execution_count": 29,
   "id": "9663aba9",
   "metadata": {},
   "outputs": [
    {
     "name": "stdout",
     "output_type": "stream",
     "text": [
      "length of suggestion\n",
      " 1\n",
      "suggestions ['dettol']\n"
     ]
    }
   ],
   "source": [
    "suggestions = ['det']\n",
    "suggestions = generate_word(suggestions,7)\n",
    "print('length of suggestion\\n',len(suggestions))\n",
    "print('suggestions',suggestions)"
   ]
  },
  {
   "cell_type": "code",
   "execution_count": null,
   "id": "302c983e",
   "metadata": {},
   "outputs": [],
   "source": []
  }
 ],
 "metadata": {
  "kernelspec": {
   "display_name": "Python 3 (ipykernel)",
   "language": "python",
   "name": "python3"
  },
  "language_info": {
   "codemirror_mode": {
    "name": "ipython",
    "version": 3
   },
   "file_extension": ".py",
   "mimetype": "text/x-python",
   "name": "python",
   "nbconvert_exporter": "python",
   "pygments_lexer": "ipython3",
   "version": "3.9.15"
  }
 },
 "nbformat": 4,
 "nbformat_minor": 5
}
