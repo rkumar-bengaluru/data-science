{
 "cells": [
  {
   "cell_type": "code",
   "execution_count": 1,
   "id": "4ba8097c",
   "metadata": {},
   "outputs": [],
   "source": [
    "import numpy as np\n",
    "import pandas as pd\n",
    "\n",
    "# scikit\n",
    "from sklearn.feature_extraction.text import CountVectorizer\n",
    "from sklearn.naive_bayes import MultinomialNB\n",
    "from sklearn.model_selection import train_test_split\n",
    "\n",
    "# nltk\n",
    "import nltk\n",
    "from nltk import word_tokenize\n",
    "from nltk.stem import PorterStemmer,WordNetLemmatizer\n",
    "from nltk.corpus import wordnet"
   ]
  },
  {
   "cell_type": "code",
   "execution_count": null,
   "id": "5c3cce58",
   "metadata": {},
   "outputs": [],
   "source": []
  },
  {
   "cell_type": "code",
   "execution_count": 2,
   "id": "aadb2991",
   "metadata": {},
   "outputs": [
    {
     "data": {
      "text/html": [
       "<div>\n",
       "<style scoped>\n",
       "    .dataframe tbody tr th:only-of-type {\n",
       "        vertical-align: middle;\n",
       "    }\n",
       "\n",
       "    .dataframe tbody tr th {\n",
       "        vertical-align: top;\n",
       "    }\n",
       "\n",
       "    .dataframe thead th {\n",
       "        text-align: right;\n",
       "    }\n",
       "</style>\n",
       "<table border=\"1\" class=\"dataframe\">\n",
       "  <thead>\n",
       "    <tr style=\"text-align: right;\">\n",
       "      <th></th>\n",
       "      <th>text</th>\n",
       "      <th>labels</th>\n",
       "    </tr>\n",
       "  </thead>\n",
       "  <tbody>\n",
       "    <tr>\n",
       "      <th>0</th>\n",
       "      <td>Ad sales boost Time Warner profit\\n\\nQuarterly...</td>\n",
       "      <td>business</td>\n",
       "    </tr>\n",
       "    <tr>\n",
       "      <th>1</th>\n",
       "      <td>Dollar gains on Greenspan speech\\n\\nThe dollar...</td>\n",
       "      <td>business</td>\n",
       "    </tr>\n",
       "    <tr>\n",
       "      <th>2</th>\n",
       "      <td>Yukos unit buyer faces loan claim\\n\\nThe owner...</td>\n",
       "      <td>business</td>\n",
       "    </tr>\n",
       "    <tr>\n",
       "      <th>3</th>\n",
       "      <td>High fuel prices hit BA's profits\\n\\nBritish A...</td>\n",
       "      <td>business</td>\n",
       "    </tr>\n",
       "    <tr>\n",
       "      <th>4</th>\n",
       "      <td>Pernod takeover talk lifts Domecq\\n\\nShares in...</td>\n",
       "      <td>business</td>\n",
       "    </tr>\n",
       "    <tr>\n",
       "      <th>...</th>\n",
       "      <td>...</td>\n",
       "      <td>...</td>\n",
       "    </tr>\n",
       "    <tr>\n",
       "      <th>2220</th>\n",
       "      <td>BT program to beat dialler scams\\n\\nBT is intr...</td>\n",
       "      <td>tech</td>\n",
       "    </tr>\n",
       "    <tr>\n",
       "      <th>2221</th>\n",
       "      <td>Spam e-mails tempt net shoppers\\n\\nComputer us...</td>\n",
       "      <td>tech</td>\n",
       "    </tr>\n",
       "    <tr>\n",
       "      <th>2222</th>\n",
       "      <td>Be careful how you code\\n\\nA new European dire...</td>\n",
       "      <td>tech</td>\n",
       "    </tr>\n",
       "    <tr>\n",
       "      <th>2223</th>\n",
       "      <td>US cyber security chief resigns\\n\\nThe man mak...</td>\n",
       "      <td>tech</td>\n",
       "    </tr>\n",
       "    <tr>\n",
       "      <th>2224</th>\n",
       "      <td>Losing yourself in online gaming\\n\\nOnline rol...</td>\n",
       "      <td>tech</td>\n",
       "    </tr>\n",
       "  </tbody>\n",
       "</table>\n",
       "<p>2225 rows × 2 columns</p>\n",
       "</div>"
      ],
      "text/plain": [
       "                                                   text    labels\n",
       "0     Ad sales boost Time Warner profit\\n\\nQuarterly...  business\n",
       "1     Dollar gains on Greenspan speech\\n\\nThe dollar...  business\n",
       "2     Yukos unit buyer faces loan claim\\n\\nThe owner...  business\n",
       "3     High fuel prices hit BA's profits\\n\\nBritish A...  business\n",
       "4     Pernod takeover talk lifts Domecq\\n\\nShares in...  business\n",
       "...                                                 ...       ...\n",
       "2220  BT program to beat dialler scams\\n\\nBT is intr...      tech\n",
       "2221  Spam e-mails tempt net shoppers\\n\\nComputer us...      tech\n",
       "2222  Be careful how you code\\n\\nA new European dire...      tech\n",
       "2223  US cyber security chief resigns\\n\\nThe man mak...      tech\n",
       "2224  Losing yourself in online gaming\\n\\nOnline rol...      tech\n",
       "\n",
       "[2225 rows x 2 columns]"
      ]
     },
     "execution_count": 2,
     "metadata": {},
     "output_type": "execute_result"
    }
   ],
   "source": [
    "df = pd.read_csv('bbc_text_cls.csv')\n",
    "df"
   ]
  },
  {
   "cell_type": "code",
   "execution_count": 3,
   "id": "418def64",
   "metadata": {},
   "outputs": [],
   "source": [
    "inputs = df['text']\n",
    "labels = df['labels']"
   ]
  },
  {
   "cell_type": "code",
   "execution_count": 4,
   "id": "d275dbc9",
   "metadata": {},
   "outputs": [
    {
     "data": {
      "text/plain": [
       "<AxesSubplot: >"
      ]
     },
     "execution_count": 4,
     "metadata": {},
     "output_type": "execute_result"
    },
    {
     "data": {
      "image/png": "[encoded data removed]",
      "text/plain": [
       "<Figure size 432x288 with 1 Axes>"
      ]
     },
     "metadata": {
      "needs_background": "light"
     },
     "output_type": "display_data"
    }
   ],
   "source": [
    "labels.hist()"
   ]
  },
  {
   "cell_type": "code",
   "execution_count": 5,
   "id": "426de1bc",
   "metadata": {},
   "outputs": [],
   "source": [
    "X_train, X_test, y_train, y_test = train_test_split(inputs, labels, test_size=0.33, random_state=123)"
   ]
  },
  {
   "cell_type": "code",
   "execution_count": 6,
   "id": "118a053e",
   "metadata": {},
   "outputs": [],
   "source": [
    "vectorizor = CountVectorizer()"
   ]
  },
  {
   "cell_type": "code",
   "execution_count": 7,
   "id": "29c0187b",
   "metadata": {},
   "outputs": [],
   "source": [
    "Xtrain = vectorizor.fit_transform(X_train)\n",
    "Xtest = vectorizor.transform(X_test)"
   ]
  },
  {
   "cell_type": "code",
   "execution_count": 8,
   "id": "0fbd1d8f",
   "metadata": {},
   "outputs": [
    {
     "data": {
      "text/plain": [
       "15      China keeps tight rein on credit\\n\\nChina's ef...\n",
       "960     Guantanamo pair's passport ban\\n\\nThe governme...\n",
       "1077    Anti-terror plan faces first test\\n\\nPlans to ...\n",
       "1080    Police probe BNP mosque leaflet\\n\\nPolice are ...\n",
       "2030    How to smash a home computer\\n\\nAn executive w...\n",
       "                              ...                        \n",
       "1147    Blair 'said he would stand down'\\n\\nTony Blair...\n",
       "2154    IBM puts cash behind Linux push\\n\\nIBM is spen...\n",
       "1766    Hingis hints at playing comeback\\n\\nMartina Hi...\n",
       "1122    Clarke faces ID cards rebellion\\n\\nCharles Cla...\n",
       "1346    Athens memories soar above lows\\n\\nWell, it's ...\n",
       "Name: text, Length: 1490, dtype: object"
      ]
     },
     "execution_count": 8,
     "metadata": {},
     "output_type": "execute_result"
    }
   ],
   "source": [
    "X_train"
   ]
  },
  {
   "cell_type": "code",
   "execution_count": 9,
   "id": "983dc80d",
   "metadata": {},
   "outputs": [
    {
     "data": {
      "text/plain": [
       "301284"
      ]
     },
     "execution_count": 9,
     "metadata": {},
     "output_type": "execute_result"
    }
   ],
   "source": [
    "(Xtrain != 0).sum()"
   ]
  },
  {
   "cell_type": "code",
   "execution_count": 10,
   "id": "bf1bf284",
   "metadata": {},
   "outputs": [],
   "source": [
    "model = MultinomialNB()"
   ]
  },
  {
   "cell_type": "code",
   "execution_count": 11,
   "id": "19fc1cee",
   "metadata": {},
   "outputs": [
    {
     "data": {
      "text/plain": [
       "MultinomialNB()"
      ]
     },
     "execution_count": 11,
     "metadata": {},
     "output_type": "execute_result"
    }
   ],
   "source": [
    "model.fit(Xtrain,y_train)"
   ]
  },
  {
   "cell_type": "code",
   "execution_count": 12,
   "id": "b6d6e442",
   "metadata": {},
   "outputs": [
    {
     "name": "stdout",
     "output_type": "stream",
     "text": [
      "training scor 0.9932885906040269\n",
      "training scor 0.9687074829931973\n"
     ]
    }
   ],
   "source": [
    "print('training scor',model.score(Xtrain,y_train))\n",
    "print('training scor',model.score(Xtest,y_test))"
   ]
  },
  {
   "cell_type": "code",
   "execution_count": 13,
   "id": "22a738fb",
   "metadata": {},
   "outputs": [
    {
     "name": "stdout",
     "output_type": "stream",
     "text": [
      "training scor 0.9932885906040269\n",
      "training scor 0.9714285714285714\n"
     ]
    }
   ],
   "source": [
    "# with stopwords\n",
    "vectorizor = CountVectorizer(stop_words='english')\n",
    "Xtrain = vectorizor.fit_transform(X_train)\n",
    "Xtest  = vectorizor.transform(X_test)\n",
    "model  = MultinomialNB()\n",
    "model.fit(Xtrain,y_train)\n",
    "print('training scor',model.score(Xtrain,y_train))\n",
    "print('training scor',model.score(Xtest,y_test))"
   ]
  },
  {
   "cell_type": "code",
   "execution_count": 14,
   "id": "824e234f",
   "metadata": {},
   "outputs": [
    {
     "name": "stdout",
     "output_type": "stream",
     "text": [
      "training scor 0.9932885906040269\n",
      "training scor 0.9714285714285714\n"
     ]
    }
   ],
   "source": [
    "# with stemmer\n",
    "vectorizor = CountVectorizer(stop_words='english')\n",
    "analyzer   = vectorizor.build_analyzer()\n",
    "stemmer = PorterStemmer()\n",
    "def stemmed_words(doc):\n",
    "    return (stemmer.stem(w) for w in analyzer(doc))\n",
    "vectorizor = CountVectorizer(stop_words='english',analyzer=analyzer)\n",
    "Xtrain = vectorizor.fit_transform(X_train)\n",
    "Xtest  = vectorizor.transform(X_test)\n",
    "model  = MultinomialNB()\n",
    "model.fit(Xtrain,y_train)\n",
    "print('training scor',model.score(Xtrain,y_train))\n",
    "print('training scor',model.score(Xtest,y_test))"
   ]
  },
  {
   "cell_type": "code",
   "execution_count": 15,
   "id": "ce85ac66",
   "metadata": {},
   "outputs": [],
   "source": [
    "def get_wordnet_pos(tag):\n",
    "    if tag .startswith('J'):\n",
    "        return wordnet.ADJ\n",
    "    elif tag.startswith('N'):\n",
    "        return wordnet.NOUN\n",
    "    elif tag.startswith('V'):\n",
    "        return wordnet.VERB\n",
    "    elif tag.startswith('R'):\n",
    "        return wordnet.VERB\n",
    "    else:\n",
    "        return wordnet.NOUN\n",
    "    "
   ]
  },
  {
   "cell_type": "code",
   "execution_count": 16,
   "id": "69fdf9e3",
   "metadata": {},
   "outputs": [],
   "source": [
    "class LemmaTokenizer:\n",
    "    def __init__(self):\n",
    "        self.wordnet = WordNetLemmatizer()\n",
    "    def __call__(self,doc):\n",
    "        tokens = word_tokenize(doc)\n",
    "        word_and_tag = nltk.pos_tag(tokens)\n",
    "        return [self.wordnet.lemmatize(word,pos=get_wordnet_pos(tag)) \\\n",
    "               for word,tag in word_and_tag]"
   ]
  },
  {
   "cell_type": "code",
   "execution_count": 17,
   "id": "2ec29dfc",
   "metadata": {},
   "outputs": [
    {
     "name": "stdout",
     "output_type": "stream",
     "text": [
      "training score  0.9939597315436242\n",
      "test score     0.9659863945578231\n"
     ]
    }
   ],
   "source": [
    "# with lemmatization\n",
    "vectorizor = CountVectorizer(tokenizer=LemmaTokenizer())\n",
    "Xtrain = vectorizor.fit_transform(X_train)\n",
    "Xtest  = vectorizor.transform(X_test)\n",
    "model  = MultinomialNB()\n",
    "model.fit(Xtrain,y_train)\n",
    "print('training score ', model.score(Xtrain,y_train))\n",
    "print('test score    ' , model.score(Xtest,y_test))"
   ]
  },
  {
   "cell_type": "code",
   "execution_count": 18,
   "id": "c2aa8139",
   "metadata": {},
   "outputs": [],
   "source": [
    "class StemTokenizor:\n",
    "    def __init__(self):\n",
    "        self.stem = PorterStemmer()\n",
    "    def __call__(self,doc):\n",
    "        tokens = word_tokenize(doc)\n",
    "        return [self.stem.stem(token) \\\n",
    "                for token in tokens]"
   ]
  },
  {
   "cell_type": "code",
   "execution_count": 19,
   "id": "d6590fe2",
   "metadata": {},
   "outputs": [
    {
     "name": "stdout",
     "output_type": "stream",
     "text": [
      "training score  0.9919463087248322\n",
      "test score      0.9659863945578231\n"
     ]
    }
   ],
   "source": [
    "# with stemmer\n",
    "vectorizor = CountVectorizer(tokenizer=StemTokenizor())\n",
    "Xtrain     = vectorizor.fit_transform(X_train)\n",
    "Xtest      = vectorizor.transform(X_test)\n",
    "model = MultinomialNB()\n",
    "model.fit(Xtrain,y_train)\n",
    "print('training score ', model.score(Xtrain,y_train))\n",
    "print('test score     ', model.score(Xtest,y_test))"
   ]
  },
  {
   "cell_type": "code",
   "execution_count": 20,
   "id": "76128c2d",
   "metadata": {},
   "outputs": [
    {
     "name": "stdout",
     "output_type": "stream",
     "text": [
      "training score  0.9953020134228188\n",
      "test score      0.963265306122449\n"
     ]
    }
   ],
   "source": [
    "# with simple tokenizor\n",
    "def simple_tokenizor(doc):\n",
    "    return doc.split()\n",
    "\n",
    "vectorizor = CountVectorizer(tokenizer=simple_tokenizor)\n",
    "Xtrain     = vectorizor.fit_transform(X_train)\n",
    "Xtest      = vectorizor.transform(X_test)\n",
    "model = MultinomialNB()\n",
    "model.fit(Xtrain,y_train)\n",
    "print('training score ', model.score(Xtrain,y_train))\n",
    "print('test score     ', model.score(Xtest,y_test))"
   ]
  },
  {
   "cell_type": "code",
   "execution_count": null,
   "id": "ee0c7152",
   "metadata": {},
   "outputs": [],
   "source": []
  }
 ],
 "metadata": {
  "kernelspec": {
   "display_name": "Python 3 (ipykernel)",
   "language": "python",
   "name": "python3"
  },
  "language_info": {
   "codemirror_mode": {
    "name": "ipython",
    "version": 3
   },
   "file_extension": ".py",
   "mimetype": "text/x-python",
   "name": "python",
   "nbconvert_exporter": "python",
   "pygments_lexer": "ipython3",
   "version": "3.9.15"
  }
 },
 "nbformat": 4,
 "nbformat_minor": 5
}
