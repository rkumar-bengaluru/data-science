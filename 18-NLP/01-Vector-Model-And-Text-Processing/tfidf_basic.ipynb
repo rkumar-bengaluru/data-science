{
 "cells": [
  {
   "cell_type": "code",
   "execution_count": 1,
   "id": "42d4f694",
   "metadata": {},
   "outputs": [],
   "source": [
    "from sklearn.feature_extraction.text import TfidfVectorizer"
   ]
  },
  {
   "cell_type": "code",
   "execution_count": 2,
   "id": "44c5ac42",
   "metadata": {},
   "outputs": [],
   "source": [
    "doc = ['ipad apple','galaxy samsung','iphone apple','smart samsung']\n",
    "tf = TfidfVectorizer(analyzer='word',stop_words='english')\n",
    "tfidf_matrix = tf.fit_transform(doc)"
   ]
  },
  {
   "cell_type": "code",
   "execution_count": 3,
   "id": "f98e9757",
   "metadata": {},
   "outputs": [
    {
     "data": {
      "text/plain": [
       "<4x6 sparse matrix of type '<class 'numpy.float64'>'\n",
       "\twith 8 stored elements in Compressed Sparse Row format>"
      ]
     },
     "execution_count": 3,
     "metadata": {},
     "output_type": "execute_result"
    }
   ],
   "source": [
    "tfidf_matrix"
   ]
  },
  {
   "cell_type": "code",
   "execution_count": 4,
   "id": "a92a37c3",
   "metadata": {},
   "outputs": [
    {
     "data": {
      "text/plain": [
       "matrix([[0.6191303 , 0.        , 0.78528828, 0.        , 0.        ,\n",
       "         0.        ],\n",
       "        [0.        , 0.78528828, 0.        , 0.        , 0.6191303 ,\n",
       "         0.        ],\n",
       "        [0.6191303 , 0.        , 0.        , 0.78528828, 0.        ,\n",
       "         0.        ],\n",
       "        [0.        , 0.        , 0.        , 0.        , 0.6191303 ,\n",
       "         0.78528828]])"
      ]
     },
     "execution_count": 4,
     "metadata": {},
     "output_type": "execute_result"
    }
   ],
   "source": [
    "tfidf_matrix.todense()"
   ]
  },
  {
   "cell_type": "code",
   "execution_count": 5,
   "id": "84e9c205",
   "metadata": {},
   "outputs": [],
   "source": [
    "#ipad apple galaxy samsung iphone 14 something"
   ]
  },
  {
   "cell_type": "code",
   "execution_count": 6,
   "id": "20c44e83",
   "metadata": {},
   "outputs": [
    {
     "data": {
      "text/plain": [
       "array(['apple', 'galaxy', 'ipad', 'iphone', 'samsung', 'smart'],\n",
       "      dtype=object)"
      ]
     },
     "execution_count": 6,
     "metadata": {},
     "output_type": "execute_result"
    }
   ],
   "source": [
    "tf.get_feature_names_out()"
   ]
  },
  {
   "cell_type": "code",
   "execution_count": 7,
   "id": "67577c53",
   "metadata": {},
   "outputs": [],
   "source": [
    "from sklearn.metrics.pairwise import cosine_similarity,euclidean_distances"
   ]
  },
  {
   "cell_type": "code",
   "execution_count": 20,
   "id": "9810ddfd",
   "metadata": {},
   "outputs": [
    {
     "data": {
      "text/plain": [
       "numpy.matrix"
      ]
     },
     "execution_count": 20,
     "metadata": {},
     "output_type": "execute_result"
    }
   ],
   "source": [
    "x = tfidf_matrix.todense()[0]\n",
    "type(x.squeeze())"
   ]
  },
  {
   "cell_type": "code",
   "execution_count": 24,
   "id": "371f0037",
   "metadata": {},
   "outputs": [],
   "source": [
    "nda = cosine_similarity(tfidf_matrix)"
   ]
  },
  {
   "cell_type": "code",
   "execution_count": 23,
   "id": "27f1703e",
   "metadata": {},
   "outputs": [
    {
     "data": {
      "text/plain": [
       "array([[1.        , 0.        , 0.38332232, 0.        ],\n",
       "       [0.        , 1.        , 0.        , 0.38332232],\n",
       "       [0.38332232, 0.        , 1.        , 0.        ],\n",
       "       [0.        , 0.38332232, 0.        , 1.        ]])"
      ]
     },
     "execution_count": 23,
     "metadata": {},
     "output_type": "execute_result"
    }
   ],
   "source": [
    "cosine_similarity(tfidf_matrix,tfidf_matrix)"
   ]
  },
  {
   "cell_type": "code",
   "execution_count": 34,
   "id": "4cf29b53",
   "metadata": {},
   "outputs": [
    {
     "data": {
      "text/plain": [
       "array([[0.66842844]])"
      ]
     },
     "execution_count": 34,
     "metadata": {},
     "output_type": "execute_result"
    }
   ],
   "source": [
    "cosine_similarity(nda[0].reshape(1, -1) ,nda[2].reshape(1, -1) )"
   ]
  },
  {
   "cell_type": "code",
   "execution_count": 35,
   "id": "1da5f786",
   "metadata": {},
   "outputs": [
    {
     "data": {
      "text/plain": [
       "array([[1.        , 0.        , 0.38332232, 0.        ]])"
      ]
     },
     "execution_count": 35,
     "metadata": {},
     "output_type": "execute_result"
    }
   ],
   "source": [
    "nda[0].reshape(1, -1)"
   ]
  },
  {
   "cell_type": "code",
   "execution_count": 56,
   "id": "ad2104ac",
   "metadata": {},
   "outputs": [],
   "source": [
    "doc = ['good night','good bye']\n",
    "tf = TfidfVectorizer(analyzer='word',stop_words='english')\n",
    "tfidf_matrix = tf.fit_transform(doc)"
   ]
  },
  {
   "cell_type": "code",
   "execution_count": 57,
   "id": "a22c8dac",
   "metadata": {},
   "outputs": [
    {
     "data": {
      "text/plain": [
       "array(['bye', 'good', 'night'], dtype=object)"
      ]
     },
     "execution_count": 57,
     "metadata": {},
     "output_type": "execute_result"
    }
   ],
   "source": [
    "tf.get_feature_names_out()"
   ]
  },
  {
   "cell_type": "code",
   "execution_count": 62,
   "id": "61d86255",
   "metadata": {},
   "outputs": [],
   "source": [
    "import pandas as pd"
   ]
  },
  {
   "cell_type": "code",
   "execution_count": 74,
   "id": "8f82d997",
   "metadata": {},
   "outputs": [
    {
     "data": {
      "text/plain": [
       "0"
      ]
     },
     "execution_count": 74,
     "metadata": {},
     "output_type": "execute_result"
    }
   ],
   "source": [
    "doc2idx = pd.Series([0,1],index=doc)\n",
    "idx = doc2idx['good night']\n",
    "idx"
   ]
  },
  {
   "cell_type": "code",
   "execution_count": 75,
   "id": "1862e940",
   "metadata": {},
   "outputs": [
    {
     "data": {
      "text/plain": [
       "<1x3 sparse matrix of type '<class 'numpy.float64'>'\n",
       "\twith 2 stored elements in Compressed Sparse Row format>"
      ]
     },
     "execution_count": 75,
     "metadata": {},
     "output_type": "execute_result"
    }
   ],
   "source": [
    "query = tfidf_matrix[idx]\n",
    "query"
   ]
  },
  {
   "cell_type": "code",
   "execution_count": 76,
   "id": "a183cd58",
   "metadata": {},
   "outputs": [
    {
     "data": {
      "text/plain": [
       "array([[0.        , 0.57973867, 0.81480247]])"
      ]
     },
     "execution_count": 76,
     "metadata": {},
     "output_type": "execute_result"
    }
   ],
   "source": [
    "query.toarray()"
   ]
  },
  {
   "cell_type": "code",
   "execution_count": 79,
   "id": "c312e31e",
   "metadata": {},
   "outputs": [
    {
     "data": {
      "text/plain": [
       "1"
      ]
     },
     "execution_count": 79,
     "metadata": {},
     "output_type": "execute_result"
    }
   ],
   "source": [
    "doc2idx = pd.Series([0,1],index=doc)\n",
    "idx = doc2idx['good bye']\n",
    "idx"
   ]
  },
  {
   "cell_type": "code",
   "execution_count": 80,
   "id": "c489bffe",
   "metadata": {},
   "outputs": [
    {
     "data": {
      "text/plain": [
       "<1x3 sparse matrix of type '<class 'numpy.float64'>'\n",
       "\twith 2 stored elements in Compressed Sparse Row format>"
      ]
     },
     "execution_count": 80,
     "metadata": {},
     "output_type": "execute_result"
    }
   ],
   "source": [
    "query = tfidf_matrix[idx]\n",
    "query"
   ]
  },
  {
   "cell_type": "code",
   "execution_count": 81,
   "id": "98223c34",
   "metadata": {},
   "outputs": [
    {
     "data": {
      "text/plain": [
       "array([[0.81480247, 0.57973867, 0.        ]])"
      ]
     },
     "execution_count": 81,
     "metadata": {},
     "output_type": "execute_result"
    }
   ],
   "source": [
    "query.toarray()"
   ]
  },
  {
   "cell_type": "code",
   "execution_count": 83,
   "id": "f0c55641",
   "metadata": {},
   "outputs": [
    {
     "data": {
      "text/plain": [
       "array([[0.33609693, 1.        ]])"
      ]
     },
     "execution_count": 83,
     "metadata": {},
     "output_type": "execute_result"
    }
   ],
   "source": [
    "scores = cosine_similarity(query,tfidf_matrix)\n",
    "scores"
   ]
  },
  {
   "cell_type": "code",
   "execution_count": 84,
   "id": "38e3f541",
   "metadata": {},
   "outputs": [
    {
     "data": {
      "text/plain": [
       "array([0.33609693, 1.        ])"
      ]
     },
     "execution_count": 84,
     "metadata": {},
     "output_type": "execute_result"
    }
   ],
   "source": [
    "scores.flatten()"
   ]
  },
  {
   "cell_type": "code",
   "execution_count": null,
   "id": "f87c2958",
   "metadata": {},
   "outputs": [],
   "source": []
  }
 ],
 "metadata": {
  "kernelspec": {
   "display_name": "Python 3 (ipykernel)",
   "language": "python",
   "name": "python3"
  },
  "language_info": {
   "codemirror_mode": {
    "name": "ipython",
    "version": 3
   },
   "file_extension": ".py",
   "mimetype": "text/x-python",
   "name": "python",
   "nbconvert_exporter": "python",
   "pygments_lexer": "ipython3",
   "version": "3.9.15"
  }
 },
 "nbformat": 4,
 "nbformat_minor": 5
}
