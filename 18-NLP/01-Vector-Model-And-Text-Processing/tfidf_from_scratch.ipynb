{
 "cells": [
  {
   "cell_type": "code",
   "execution_count": 1,
   "id": "185be1b4",
   "metadata": {},
   "outputs": [],
   "source": [
    "import nltk\n",
    "import numpy as np\n",
    "import pandas as pd\n",
    "\n",
    "from nltk import word_tokenize"
   ]
  },
  {
   "cell_type": "code",
   "execution_count": 2,
   "id": "66b587f0",
   "metadata": {},
   "outputs": [
    {
     "data": {
      "text/html": [
       "<div>\n",
       "<style scoped>\n",
       "    .dataframe tbody tr th:only-of-type {\n",
       "        vertical-align: middle;\n",
       "    }\n",
       "\n",
       "    .dataframe tbody tr th {\n",
       "        vertical-align: top;\n",
       "    }\n",
       "\n",
       "    .dataframe thead th {\n",
       "        text-align: right;\n",
       "    }\n",
       "</style>\n",
       "<table border=\"1\" class=\"dataframe\">\n",
       "  <thead>\n",
       "    <tr style=\"text-align: right;\">\n",
       "      <th></th>\n",
       "      <th>text</th>\n",
       "      <th>labels</th>\n",
       "    </tr>\n",
       "  </thead>\n",
       "  <tbody>\n",
       "    <tr>\n",
       "      <th>0</th>\n",
       "      <td>Ad sales boost Time Warner profit\\n\\nQuarterly...</td>\n",
       "      <td>business</td>\n",
       "    </tr>\n",
       "    <tr>\n",
       "      <th>1</th>\n",
       "      <td>Dollar gains on Greenspan speech\\n\\nThe dollar...</td>\n",
       "      <td>business</td>\n",
       "    </tr>\n",
       "    <tr>\n",
       "      <th>2</th>\n",
       "      <td>Yukos unit buyer faces loan claim\\n\\nThe owner...</td>\n",
       "      <td>business</td>\n",
       "    </tr>\n",
       "    <tr>\n",
       "      <th>3</th>\n",
       "      <td>High fuel prices hit BA's profits\\n\\nBritish A...</td>\n",
       "      <td>business</td>\n",
       "    </tr>\n",
       "    <tr>\n",
       "      <th>4</th>\n",
       "      <td>Pernod takeover talk lifts Domecq\\n\\nShares in...</td>\n",
       "      <td>business</td>\n",
       "    </tr>\n",
       "    <tr>\n",
       "      <th>...</th>\n",
       "      <td>...</td>\n",
       "      <td>...</td>\n",
       "    </tr>\n",
       "    <tr>\n",
       "      <th>2220</th>\n",
       "      <td>BT program to beat dialler scams\\n\\nBT is intr...</td>\n",
       "      <td>tech</td>\n",
       "    </tr>\n",
       "    <tr>\n",
       "      <th>2221</th>\n",
       "      <td>Spam e-mails tempt net shoppers\\n\\nComputer us...</td>\n",
       "      <td>tech</td>\n",
       "    </tr>\n",
       "    <tr>\n",
       "      <th>2222</th>\n",
       "      <td>Be careful how you code\\n\\nA new European dire...</td>\n",
       "      <td>tech</td>\n",
       "    </tr>\n",
       "    <tr>\n",
       "      <th>2223</th>\n",
       "      <td>US cyber security chief resigns\\n\\nThe man mak...</td>\n",
       "      <td>tech</td>\n",
       "    </tr>\n",
       "    <tr>\n",
       "      <th>2224</th>\n",
       "      <td>Losing yourself in online gaming\\n\\nOnline rol...</td>\n",
       "      <td>tech</td>\n",
       "    </tr>\n",
       "  </tbody>\n",
       "</table>\n",
       "<p>2225 rows × 2 columns</p>\n",
       "</div>"
      ],
      "text/plain": [
       "                                                   text    labels\n",
       "0     Ad sales boost Time Warner profit\\n\\nQuarterly...  business\n",
       "1     Dollar gains on Greenspan speech\\n\\nThe dollar...  business\n",
       "2     Yukos unit buyer faces loan claim\\n\\nThe owner...  business\n",
       "3     High fuel prices hit BA's profits\\n\\nBritish A...  business\n",
       "4     Pernod takeover talk lifts Domecq\\n\\nShares in...  business\n",
       "...                                                 ...       ...\n",
       "2220  BT program to beat dialler scams\\n\\nBT is intr...      tech\n",
       "2221  Spam e-mails tempt net shoppers\\n\\nComputer us...      tech\n",
       "2222  Be careful how you code\\n\\nA new European dire...      tech\n",
       "2223  US cyber security chief resigns\\n\\nThe man mak...      tech\n",
       "2224  Losing yourself in online gaming\\n\\nOnline rol...      tech\n",
       "\n",
       "[2225 rows x 2 columns]"
      ]
     },
     "execution_count": 2,
     "metadata": {},
     "output_type": "execute_result"
    }
   ],
   "source": [
    "df = pd.read_csv('bbc_text_cls.csv')\n",
    "df"
   ]
  },
  {
   "cell_type": "code",
   "execution_count": 3,
   "id": "2b2442b4",
   "metadata": {},
   "outputs": [],
   "source": [
    "# word2idx function\n",
    "def word2index(corpus):\n",
    "    idx = 0\n",
    "    word2idx = {}\n",
    "    tokenized_docs = []\n",
    "    for doc in corpus['text']:\n",
    "        words = word_tokenize(doc.lower())\n",
    "        doc_as_int = []\n",
    "        for word in words:\n",
    "            if word not in word2idx:\n",
    "                word2idx[word] = idx\n",
    "                idx += 1\n",
    "            doc_as_int.append(word2idx[word])\n",
    "        \n",
    "        tokenized_docs.append(doc_as_int)\n",
    "        \n",
    "    return word2idx,tokenized_docs\n",
    "\n",
    "def index2word(idx,word2idx):\n",
    "    res = []\n",
    "    print(idx)\n",
    "    for i in idx:\n",
    "        print(i)\n",
    "        res.append(word2idx[i])\n",
    "    return ''.join(res)"
   ]
  },
  {
   "cell_type": "code",
   "execution_count": 4,
   "id": "93b1aa3f",
   "metadata": {},
   "outputs": [
    {
     "data": {
      "text/html": [
       "<div>\n",
       "<style scoped>\n",
       "    .dataframe tbody tr th:only-of-type {\n",
       "        vertical-align: middle;\n",
       "    }\n",
       "\n",
       "    .dataframe tbody tr th {\n",
       "        vertical-align: top;\n",
       "    }\n",
       "\n",
       "    .dataframe thead th {\n",
       "        text-align: right;\n",
       "    }\n",
       "</style>\n",
       "<table border=\"1\" class=\"dataframe\">\n",
       "  <thead>\n",
       "    <tr style=\"text-align: right;\">\n",
       "      <th></th>\n",
       "      <th>text</th>\n",
       "    </tr>\n",
       "  </thead>\n",
       "  <tbody>\n",
       "    <tr>\n",
       "      <th>0</th>\n",
       "      <td>Ad sales boost Time Warner</td>\n",
       "    </tr>\n",
       "    <tr>\n",
       "      <th>1</th>\n",
       "      <td>Losing Time in online gaming</td>\n",
       "    </tr>\n",
       "  </tbody>\n",
       "</table>\n",
       "</div>"
      ],
      "text/plain": [
       "                           text\n",
       "0   Ad sales boost Time Warner \n",
       "1  Losing Time in online gaming"
      ]
     },
     "execution_count": 4,
     "metadata": {},
     "output_type": "execute_result"
    }
   ],
   "source": [
    "my_array = np.array([['Ad sales boost Time Warner '],['Losing Time in online gaming']])\n",
    "df = pd.DataFrame(my_array, columns = ['text'])\n",
    "df"
   ]
  },
  {
   "cell_type": "code",
   "execution_count": 5,
   "id": "8e593e4c",
   "metadata": {},
   "outputs": [
    {
     "name": "stdout",
     "output_type": "stream",
     "text": [
      "dictionary {'ad': 0, 'sales': 1, 'boost': 2, 'time': 3, 'warner': 4, 'losing': 5, 'in': 6, 'online': 7, 'gaming': 8}\n",
      "tokenized_docs [[0, 1, 2, 3, 4], [5, 3, 6, 7, 8]]\n"
     ]
    }
   ],
   "source": [
    "dictionary,tokenized_docs = word2index(df)\n",
    "print('dictionary',dictionary)\n",
    "print('tokenized_docs',tokenized_docs)"
   ]
  },
  {
   "cell_type": "code",
   "execution_count": 6,
   "id": "2a09fb46",
   "metadata": {},
   "outputs": [
    {
     "data": {
      "text/plain": [
       "dict_items([('ad', 0), ('sales', 1), ('boost', 2), ('time', 3), ('warner', 4), ('losing', 5), ('in', 6), ('online', 7), ('gaming', 8)])"
      ]
     },
     "execution_count": 6,
     "metadata": {},
     "output_type": "execute_result"
    }
   ],
   "source": [
    "dictionary.items()"
   ]
  },
  {
   "cell_type": "code",
   "execution_count": 19,
   "id": "9ab56e9c",
   "metadata": {},
   "outputs": [
    {
     "name": "stdout",
     "output_type": "stream",
     "text": [
      "['ad', 'sales', 'boost', 'time', 'warner', 'losing', 'in', 'online', 'gaming']\n"
     ]
    }
   ],
   "source": [
    "idx2word = []\n",
    "for v,k in dictionary.items():\n",
    "    idx2word.append(v)\n",
    "print(idx2word)"
   ]
  },
  {
   "cell_type": "code",
   "execution_count": 8,
   "id": "d6981efd",
   "metadata": {},
   "outputs": [
    {
     "name": "stdout",
     "output_type": "stream",
     "text": [
      "2\n"
     ]
    }
   ],
   "source": [
    "# no of docs\n",
    "N = len(df['text'])\n",
    "print(N)"
   ]
  },
  {
   "cell_type": "code",
   "execution_count": 9,
   "id": "469de2d8",
   "metadata": {},
   "outputs": [
    {
     "name": "stdout",
     "output_type": "stream",
     "text": [
      "9\n"
     ]
    }
   ],
   "source": [
    "# no of words\n",
    "V = len(dictionary)\n",
    "print(V)"
   ]
  },
  {
   "cell_type": "code",
   "execution_count": 22,
   "id": "f52f04cb",
   "metadata": {},
   "outputs": [
    {
     "name": "stdout",
     "output_type": "stream",
     "text": [
      "before\n",
      " [[0. 0. 0. 0. 0. 0. 0. 0. 0.]\n",
      " [0. 0. 0. 0. 0. 0. 0. 0. 0.]]\n",
      "after\n",
      " [[1. 1. 1. 1. 1. 0. 0. 0. 0.]\n",
      " [0. 0. 0. 1. 0. 1. 1. 1. 1.]]\n"
     ]
    }
   ],
   "source": [
    "# tfidf matrix - term frequency matrix\n",
    "tf = np.zeros((N,V))\n",
    "print('before\\n',tf)\n",
    "# frequency counts\n",
    "def count_vectorizor(tf):\n",
    "   for i, doc_as_int in enumerate(tokenized_docs):\n",
    "    for j in doc_as_int:\n",
    "        tf[i,j] +=1\n",
    "        \n",
    "count_vectorizor(tf)\n",
    "print('after\\n',tf)"
   ]
  },
  {
   "cell_type": "code",
   "execution_count": 27,
   "id": "e156d2f1",
   "metadata": {},
   "outputs": [
    {
     "name": "stdout",
     "output_type": "stream",
     "text": [
      "[0.69314718 0.69314718 0.69314718 0.         0.69314718 0.69314718\n",
      " 0.69314718 0.69314718 0.69314718]\n"
     ]
    }
   ],
   "source": [
    "document_frequency = np.sum(tf>0,axis=0)\n",
    "idf = np.log(N/document_frequency)\n",
    "print(idf)"
   ]
  },
  {
   "cell_type": "code",
   "execution_count": 28,
   "id": "742a7218",
   "metadata": {},
   "outputs": [
    {
     "name": "stdout",
     "output_type": "stream",
     "text": [
      "[[0.69314718 0.69314718 0.69314718 0.         0.69314718 0.\n",
      "  0.         0.         0.        ]\n",
      " [0.         0.         0.         0.         0.         0.69314718\n",
      "  0.69314718 0.69314718 0.69314718]]\n"
     ]
    }
   ],
   "source": [
    "tf_idf = tf * idf\n",
    "print(tf_idf)"
   ]
  },
  {
   "cell_type": "code",
   "execution_count": 38,
   "id": "8515fb43",
   "metadata": {},
   "outputs": [
    {
     "name": "stdout",
     "output_type": "stream",
     "text": [
      "[0.69314718 0.69314718 0.69314718 0.         0.69314718 0.\n",
      " 0.         0.         0.        ]\n",
      "[3 5 6 7 8 0 1 2 4]\n"
     ]
    }
   ],
   "source": [
    "scores = tf_idf[0]\n",
    "indices = scores.argsort()\n",
    "print(scores)\n",
    "print(indices)\n",
    "#indices = (-scores).argsort()\n",
    "#print(indices)"
   ]
  },
  {
   "cell_type": "code",
   "execution_count": 39,
   "id": "9071f95e",
   "metadata": {},
   "outputs": [
    {
     "name": "stdout",
     "output_type": "stream",
     "text": [
      "3 time\n",
      "5 losing\n",
      "6 in\n",
      "7 online\n",
      "8 gaming\n"
     ]
    }
   ],
   "source": [
    "for j in indices[:5]:\n",
    "    print(j, idx2word[j])"
   ]
  },
  {
   "cell_type": "code",
   "execution_count": null,
   "id": "a1d05c65",
   "metadata": {},
   "outputs": [],
   "source": []
  }
 ],
 "metadata": {
  "kernelspec": {
   "display_name": "Python 3 (ipykernel)",
   "language": "python",
   "name": "python3"
  },
  "language_info": {
   "codemirror_mode": {
    "name": "ipython",
    "version": 3
   },
   "file_extension": ".py",
   "mimetype": "text/x-python",
   "name": "python",
   "nbconvert_exporter": "python",
   "pygments_lexer": "ipython3",
   "version": "3.9.15"
  }
 },
 "nbformat": 4,
 "nbformat_minor": 5
}
