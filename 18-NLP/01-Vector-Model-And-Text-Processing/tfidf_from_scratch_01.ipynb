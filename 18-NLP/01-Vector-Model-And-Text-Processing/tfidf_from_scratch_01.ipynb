{
 "cells": [
  {
   "cell_type": "code",
   "execution_count": 1,
   "id": "ee003ba0",
   "metadata": {},
   "outputs": [
    {
     "name": "stderr",
     "output_type": "stream",
     "text": [
      "[nltk_data] Downloading package stopwords to\n",
      "[nltk_data]     C:\\Users\\DELL\\AppData\\Roaming\\nltk_data...\n",
      "[nltk_data]   Package stopwords is already up-to-date!\n"
     ]
    }
   ],
   "source": [
    "import pandas as pd\n",
    "import nltk\n",
    "from nltk import word_tokenize\n",
    "from nltk.corpus import stopwords\n",
    "nltk.download('stopwords')\n",
    "from nltk.tokenize import RegexpTokenizer\n",
    "import re\n",
    "import numpy as np\n",
    "\n",
    "from sklearn.metrics.pairwise import cosine_similarity,euclidean_distances\n",
    "import matplotlib.pyplot as plt"
   ]
  },
  {
   "cell_type": "code",
   "execution_count": 2,
   "id": "4e306574",
   "metadata": {},
   "outputs": [
    {
     "name": "stdout",
     "output_type": "stream",
     "text": [
      "<class 'pandas.core.frame.DataFrame'>\n",
      "RangeIndex: 4783 entries, 0 to 4782\n",
      "Data columns (total 60 columns):\n",
      " #   Column                      Non-Null Count  Dtype  \n",
      "---  ------                      --------------  -----  \n",
      " 0   matnr                       4783 non-null   int64  \n",
      " 1   zzprncode                   4782 non-null   float64\n",
      " 2   zzibrnd                     4769 non-null   object \n",
      " 3   mtart                       4783 non-null   object \n",
      " 4   matkl                       4783 non-null   object \n",
      " 5   TherapeuticClass            4783 non-null   object \n",
      " 6   PrincipalName               4782 non-null   object \n",
      " 7   mstae                       4775 non-null   object \n",
      " 8   mstde                       4783 non-null   int64  \n",
      " 9   mstav                       4762 non-null   object \n",
      " 10  mstdv                       4783 non-null   int64  \n",
      " 11  zzdwrx                      4783 non-null   object \n",
      " 12  spart                       4783 non-null   int64  \n",
      " 13  vtweg                       4783 non-null   int64  \n",
      " 14  dwerk                       4783 non-null   int64  \n",
      " 15  mvgr1                       556 non-null    object \n",
      " 16  mvgr2                       27 non-null     float64\n",
      " 17  mvgr3                       4743 non-null   object \n",
      " 18  mvgr4                       4745 non-null   object \n",
      " 19  mvgr5                       52 non-null     float64\n",
      " 20  tragr                       4783 non-null   object \n",
      " 21  vmsta                       618 non-null    object \n",
      " 22  vmstd                       4783 non-null   int64  \n",
      " 23  MaterialSalesOrganisation   4783 non-null   int64  \n",
      " 24  prodh                       4781 non-null   object \n",
      " 25  mtpos                       4783 non-null   object \n",
      " 26  OldMaterialCode             4778 non-null   object \n",
      " 27  GovernmentMaterialCode      40 non-null     object \n",
      " 28  taxClassification           0 non-null      float64\n",
      " 29  Description                 4519 non-null   object \n",
      " 30  Language                    4519 non-null   object \n",
      " 31  DefaultMaterialDescription  4519 non-null   object \n",
      " 32  DefaultMaterialLanguage     4519 non-null   object \n",
      " 33  unitOfMeasurement           4783 non-null   object \n",
      " 34  itemRegistrationNumber      4732 non-null   object \n",
      " 35  GenericMaterialName         4672 non-null   object \n",
      " 36  WarehouseStorageCondition   4759 non-null   object \n",
      " 37  aland                       4518 non-null   object \n",
      " 38  taxm1                       4518 non-null   float64\n",
      " 39  taxm2                       0 non-null      float64\n",
      " 40  taxm3                       0 non-null      float64\n",
      " 41  taxm4                       0 non-null      float64\n",
      " 42  taxm5                       0 non-null      float64\n",
      " 43  taxm6                       0 non-null      float64\n",
      " 44  taxm7                       0 non-null      float64\n",
      " 45  taxm8                       0 non-null      float64\n",
      " 46  taxm9                       0 non-null      float64\n",
      " 47  taxim                       0 non-null      float64\n",
      " 48  tatyp                       4518 non-null   object \n",
      " 49  vtext                       4518 non-null   object \n",
      " 50  idnlf                       1507 non-null   object \n",
      " 51  prat1                       4 non-null      object \n",
      " 52  prat2                       0 non-null      float64\n",
      " 53  prat3                       0 non-null      float64\n",
      " 54  prat4                       0 non-null      float64\n",
      " 55  prat5                       0 non-null      float64\n",
      " 56  prat6                       0 non-null      float64\n",
      " 57  prat7                       0 non-null      float64\n",
      " 58  prat8                       0 non-null      float64\n",
      " 59  prat9                       0 non-null      float64\n",
      "dtypes: float64(22), int64(8), object(30)\n",
      "memory usage: 2.2+ MB\n"
     ]
    }
   ],
   "source": [
    "df = pd.read_csv('https://raw.githubusercontent.com/rkumar-bengaluru/data-science/main/16-Projects/zuel/data/2001_all_materials.csv')\n",
    "df.info()"
   ]
  },
  {
   "cell_type": "code",
   "execution_count": 45,
   "id": "4f269360",
   "metadata": {},
   "outputs": [
    {
     "data": {
      "text/html": [
       "<div>\n",
       "<style scoped>\n",
       "    .dataframe tbody tr th:only-of-type {\n",
       "        vertical-align: middle;\n",
       "    }\n",
       "\n",
       "    .dataframe tbody tr th {\n",
       "        vertical-align: top;\n",
       "    }\n",
       "\n",
       "    .dataframe thead th {\n",
       "        text-align: right;\n",
       "    }\n",
       "</style>\n",
       "<table border=\"1\" class=\"dataframe\">\n",
       "  <thead>\n",
       "    <tr style=\"text-align: right;\">\n",
       "      <th></th>\n",
       "      <th>index</th>\n",
       "      <th>matnr</th>\n",
       "      <th>zzprncode</th>\n",
       "      <th>zzibrnd</th>\n",
       "      <th>mtart</th>\n",
       "      <th>matkl</th>\n",
       "      <th>TherapeuticClass</th>\n",
       "      <th>PrincipalName</th>\n",
       "      <th>mstae</th>\n",
       "      <th>mstde</th>\n",
       "      <th>...</th>\n",
       "      <th>idnlf</th>\n",
       "      <th>prat1</th>\n",
       "      <th>prat2</th>\n",
       "      <th>prat3</th>\n",
       "      <th>prat4</th>\n",
       "      <th>prat5</th>\n",
       "      <th>prat6</th>\n",
       "      <th>prat7</th>\n",
       "      <th>prat8</th>\n",
       "      <th>prat9</th>\n",
       "    </tr>\n",
       "  </thead>\n",
       "  <tbody>\n",
       "    <tr>\n",
       "      <th>0</th>\n",
       "      <td>0</td>\n",
       "      <td>21047156</td>\n",
       "      <td>101276.0</td>\n",
       "      <td>DERMAVEEN SOAP FREE</td>\n",
       "      <td>ZF01</td>\n",
       "      <td>ZCS</td>\n",
       "      <td>All other non-therapeutic products</td>\n",
       "      <td>INOVA PHARMACEUTICALS (S) PTE</td>\n",
       "      <td>LR</td>\n",
       "      <td>20250101</td>\n",
       "      <td>...</td>\n",
       "      <td>NaN</td>\n",
       "      <td>NaN</td>\n",
       "      <td>NaN</td>\n",
       "      <td>NaN</td>\n",
       "      <td>NaN</td>\n",
       "      <td>NaN</td>\n",
       "      <td>NaN</td>\n",
       "      <td>NaN</td>\n",
       "      <td>NaN</td>\n",
       "      <td>NaN</td>\n",
       "    </tr>\n",
       "    <tr>\n",
       "      <th>1</th>\n",
       "      <td>46</td>\n",
       "      <td>21039752</td>\n",
       "      <td>101254.0</td>\n",
       "      <td>DETTOL SG 250ML ORIG</td>\n",
       "      <td>ZF01</td>\n",
       "      <td>ZPC</td>\n",
       "      <td>Antiseptics and disinfectants</td>\n",
       "      <td>RECKITT BENCKISER (MALAYSIA)</td>\n",
       "      <td>LR</td>\n",
       "      <td>20250101</td>\n",
       "      <td>...</td>\n",
       "      <td>NaN</td>\n",
       "      <td>NaN</td>\n",
       "      <td>NaN</td>\n",
       "      <td>NaN</td>\n",
       "      <td>NaN</td>\n",
       "      <td>NaN</td>\n",
       "      <td>NaN</td>\n",
       "      <td>NaN</td>\n",
       "      <td>NaN</td>\n",
       "      <td>NaN</td>\n",
       "    </tr>\n",
       "    <tr>\n",
       "      <th>2</th>\n",
       "      <td>47</td>\n",
       "      <td>23063844</td>\n",
       "      <td>101363.0</td>\n",
       "      <td>DERMACEUTIC SPOT PEE</td>\n",
       "      <td>ZF03</td>\n",
       "      <td>ZCS</td>\n",
       "      <td>Emollients, protectives</td>\n",
       "      <td>PARVUS SDN BHD</td>\n",
       "      <td>LR</td>\n",
       "      <td>20250101</td>\n",
       "      <td>...</td>\n",
       "      <td>NaN</td>\n",
       "      <td>NaN</td>\n",
       "      <td>NaN</td>\n",
       "      <td>NaN</td>\n",
       "      <td>NaN</td>\n",
       "      <td>NaN</td>\n",
       "      <td>NaN</td>\n",
       "      <td>NaN</td>\n",
       "      <td>NaN</td>\n",
       "      <td>NaN</td>\n",
       "    </tr>\n",
       "    <tr>\n",
       "      <th>3</th>\n",
       "      <td>122</td>\n",
       "      <td>21040367</td>\n",
       "      <td>101296.0</td>\n",
       "      <td>DEPO PROVERA INJ</td>\n",
       "      <td>ZF01</td>\n",
       "      <td>ZPE</td>\n",
       "      <td>Other hormonal contraceptives, systemic</td>\n",
       "      <td>PFIZER (M) SDN BHD  (PCL a/c)</td>\n",
       "      <td>LR</td>\n",
       "      <td>20250101</td>\n",
       "      <td>...</td>\n",
       "      <td>NaN</td>\n",
       "      <td>NaN</td>\n",
       "      <td>NaN</td>\n",
       "      <td>NaN</td>\n",
       "      <td>NaN</td>\n",
       "      <td>NaN</td>\n",
       "      <td>NaN</td>\n",
       "      <td>NaN</td>\n",
       "      <td>NaN</td>\n",
       "      <td>NaN</td>\n",
       "    </tr>\n",
       "    <tr>\n",
       "      <th>4</th>\n",
       "      <td>168</td>\n",
       "      <td>21039713</td>\n",
       "      <td>101254.0</td>\n",
       "      <td>DETTOL BS ORIGINAL</td>\n",
       "      <td>ZF01</td>\n",
       "      <td>ZPC</td>\n",
       "      <td>Antiseptics and disinfectants</td>\n",
       "      <td>RECKITT BENCKISER (MALAYSIA)</td>\n",
       "      <td>LR</td>\n",
       "      <td>20250101</td>\n",
       "      <td>...</td>\n",
       "      <td>NaN</td>\n",
       "      <td>NaN</td>\n",
       "      <td>NaN</td>\n",
       "      <td>NaN</td>\n",
       "      <td>NaN</td>\n",
       "      <td>NaN</td>\n",
       "      <td>NaN</td>\n",
       "      <td>NaN</td>\n",
       "      <td>NaN</td>\n",
       "      <td>NaN</td>\n",
       "    </tr>\n",
       "    <tr>\n",
       "      <th>...</th>\n",
       "      <td>...</td>\n",
       "      <td>...</td>\n",
       "      <td>...</td>\n",
       "      <td>...</td>\n",
       "      <td>...</td>\n",
       "      <td>...</td>\n",
       "      <td>...</td>\n",
       "      <td>...</td>\n",
       "      <td>...</td>\n",
       "      <td>...</td>\n",
       "      <td>...</td>\n",
       "      <td>...</td>\n",
       "      <td>...</td>\n",
       "      <td>...</td>\n",
       "      <td>...</td>\n",
       "      <td>...</td>\n",
       "      <td>...</td>\n",
       "      <td>...</td>\n",
       "      <td>...</td>\n",
       "      <td>...</td>\n",
       "      <td>...</td>\n",
       "    </tr>\n",
       "    <tr>\n",
       "      <th>112</th>\n",
       "      <td>4755</td>\n",
       "      <td>21039014</td>\n",
       "      <td>101254.0</td>\n",
       "      <td>DETTOL LIQUID (NUTAN</td>\n",
       "      <td>ZF01</td>\n",
       "      <td>ZPE</td>\n",
       "      <td>Antiseptics and disinfectants</td>\n",
       "      <td>RECKITT BENCKISER (MALAYSIA)</td>\n",
       "      <td>LR</td>\n",
       "      <td>20250101</td>\n",
       "      <td>...</td>\n",
       "      <td>NaN</td>\n",
       "      <td>NaN</td>\n",
       "      <td>NaN</td>\n",
       "      <td>NaN</td>\n",
       "      <td>NaN</td>\n",
       "      <td>NaN</td>\n",
       "      <td>NaN</td>\n",
       "      <td>NaN</td>\n",
       "      <td>NaN</td>\n",
       "      <td>NaN</td>\n",
       "    </tr>\n",
       "    <tr>\n",
       "      <th>113</th>\n",
       "      <td>4756</td>\n",
       "      <td>21039016</td>\n",
       "      <td>101254.0</td>\n",
       "      <td>DETTOL LIQUID (NUTAN</td>\n",
       "      <td>ZF01</td>\n",
       "      <td>ZPE</td>\n",
       "      <td>Antiseptics and disinfectants</td>\n",
       "      <td>RECKITT BENCKISER (MALAYSIA)</td>\n",
       "      <td>LR</td>\n",
       "      <td>20250101</td>\n",
       "      <td>...</td>\n",
       "      <td>NaN</td>\n",
       "      <td>NaN</td>\n",
       "      <td>NaN</td>\n",
       "      <td>NaN</td>\n",
       "      <td>NaN</td>\n",
       "      <td>NaN</td>\n",
       "      <td>NaN</td>\n",
       "      <td>NaN</td>\n",
       "      <td>NaN</td>\n",
       "      <td>NaN</td>\n",
       "    </tr>\n",
       "    <tr>\n",
       "      <th>114</th>\n",
       "      <td>4757</td>\n",
       "      <td>21039736</td>\n",
       "      <td>101254.0</td>\n",
       "      <td>DETTOL BS NOURISHING</td>\n",
       "      <td>ZF01</td>\n",
       "      <td>ZPC</td>\n",
       "      <td>Antiseptics and disinfectants</td>\n",
       "      <td>RECKITT BENCKISER (MALAYSIA)</td>\n",
       "      <td>LR</td>\n",
       "      <td>20250101</td>\n",
       "      <td>...</td>\n",
       "      <td>NaN</td>\n",
       "      <td>NaN</td>\n",
       "      <td>NaN</td>\n",
       "      <td>NaN</td>\n",
       "      <td>NaN</td>\n",
       "      <td>NaN</td>\n",
       "      <td>NaN</td>\n",
       "      <td>NaN</td>\n",
       "      <td>NaN</td>\n",
       "      <td>NaN</td>\n",
       "    </tr>\n",
       "    <tr>\n",
       "      <th>115</th>\n",
       "      <td>4758</td>\n",
       "      <td>21038903</td>\n",
       "      <td>101254.0</td>\n",
       "      <td>DETTOL TALCUM MENTHO</td>\n",
       "      <td>ZF01</td>\n",
       "      <td>ZPC</td>\n",
       "      <td>Antiseptics and disinfectants</td>\n",
       "      <td>RECKITT BENCKISER (MALAYSIA)</td>\n",
       "      <td>LR</td>\n",
       "      <td>20250101</td>\n",
       "      <td>...</td>\n",
       "      <td>NaN</td>\n",
       "      <td>NaN</td>\n",
       "      <td>NaN</td>\n",
       "      <td>NaN</td>\n",
       "      <td>NaN</td>\n",
       "      <td>NaN</td>\n",
       "      <td>NaN</td>\n",
       "      <td>NaN</td>\n",
       "      <td>NaN</td>\n",
       "      <td>NaN</td>\n",
       "    </tr>\n",
       "    <tr>\n",
       "      <th>116</th>\n",
       "      <td>4759</td>\n",
       "      <td>21039276</td>\n",
       "      <td>101254.0</td>\n",
       "      <td>DETTOL SHOWER GEL NO</td>\n",
       "      <td>ZF01</td>\n",
       "      <td>ZPC</td>\n",
       "      <td>Antiseptics and disinfectants</td>\n",
       "      <td>RECKITT BENCKISER (MALAYSIA)</td>\n",
       "      <td>LR</td>\n",
       "      <td>20250101</td>\n",
       "      <td>...</td>\n",
       "      <td>NaN</td>\n",
       "      <td>NaN</td>\n",
       "      <td>NaN</td>\n",
       "      <td>NaN</td>\n",
       "      <td>NaN</td>\n",
       "      <td>NaN</td>\n",
       "      <td>NaN</td>\n",
       "      <td>NaN</td>\n",
       "      <td>NaN</td>\n",
       "      <td>NaN</td>\n",
       "    </tr>\n",
       "  </tbody>\n",
       "</table>\n",
       "<p>117 rows × 61 columns</p>\n",
       "</div>"
      ],
      "text/plain": [
       "     index     matnr  zzprncode               zzibrnd mtart matkl  \\\n",
       "0        0  21047156   101276.0   DERMAVEEN SOAP FREE  ZF01   ZCS   \n",
       "1       46  21039752   101254.0  DETTOL SG 250ML ORIG  ZF01   ZPC   \n",
       "2       47  23063844   101363.0  DERMACEUTIC SPOT PEE  ZF03   ZCS   \n",
       "3      122  21040367   101296.0      DEPO PROVERA INJ  ZF01   ZPE   \n",
       "4      168  21039713   101254.0    DETTOL BS ORIGINAL  ZF01   ZPC   \n",
       "..     ...       ...        ...                   ...   ...   ...   \n",
       "112   4755  21039014   101254.0  DETTOL LIQUID (NUTAN  ZF01   ZPE   \n",
       "113   4756  21039016   101254.0  DETTOL LIQUID (NUTAN  ZF01   ZPE   \n",
       "114   4757  21039736   101254.0  DETTOL BS NOURISHING  ZF01   ZPC   \n",
       "115   4758  21038903   101254.0  DETTOL TALCUM MENTHO  ZF01   ZPC   \n",
       "116   4759  21039276   101254.0  DETTOL SHOWER GEL NO  ZF01   ZPC   \n",
       "\n",
       "                            TherapeuticClass                  PrincipalName  \\\n",
       "0         All other non-therapeutic products  INOVA PHARMACEUTICALS (S) PTE   \n",
       "1              Antiseptics and disinfectants   RECKITT BENCKISER (MALAYSIA)   \n",
       "2                    Emollients, protectives                 PARVUS SDN BHD   \n",
       "3    Other hormonal contraceptives, systemic  PFIZER (M) SDN BHD  (PCL a/c)   \n",
       "4              Antiseptics and disinfectants   RECKITT BENCKISER (MALAYSIA)   \n",
       "..                                       ...                            ...   \n",
       "112            Antiseptics and disinfectants   RECKITT BENCKISER (MALAYSIA)   \n",
       "113            Antiseptics and disinfectants   RECKITT BENCKISER (MALAYSIA)   \n",
       "114            Antiseptics and disinfectants   RECKITT BENCKISER (MALAYSIA)   \n",
       "115            Antiseptics and disinfectants   RECKITT BENCKISER (MALAYSIA)   \n",
       "116            Antiseptics and disinfectants   RECKITT BENCKISER (MALAYSIA)   \n",
       "\n",
       "    mstae     mstde  ... idnlf  prat1 prat2  prat3  prat4  prat5 prat6  prat7  \\\n",
       "0      LR  20250101  ...   NaN    NaN   NaN    NaN    NaN    NaN   NaN    NaN   \n",
       "1      LR  20250101  ...   NaN    NaN   NaN    NaN    NaN    NaN   NaN    NaN   \n",
       "2      LR  20250101  ...   NaN    NaN   NaN    NaN    NaN    NaN   NaN    NaN   \n",
       "3      LR  20250101  ...   NaN    NaN   NaN    NaN    NaN    NaN   NaN    NaN   \n",
       "4      LR  20250101  ...   NaN    NaN   NaN    NaN    NaN    NaN   NaN    NaN   \n",
       "..    ...       ...  ...   ...    ...   ...    ...    ...    ...   ...    ...   \n",
       "112    LR  20250101  ...   NaN    NaN   NaN    NaN    NaN    NaN   NaN    NaN   \n",
       "113    LR  20250101  ...   NaN    NaN   NaN    NaN    NaN    NaN   NaN    NaN   \n",
       "114    LR  20250101  ...   NaN    NaN   NaN    NaN    NaN    NaN   NaN    NaN   \n",
       "115    LR  20250101  ...   NaN    NaN   NaN    NaN    NaN    NaN   NaN    NaN   \n",
       "116    LR  20250101  ...   NaN    NaN   NaN    NaN    NaN    NaN   NaN    NaN   \n",
       "\n",
       "    prat8 prat9  \n",
       "0     NaN   NaN  \n",
       "1     NaN   NaN  \n",
       "2     NaN   NaN  \n",
       "3     NaN   NaN  \n",
       "4     NaN   NaN  \n",
       "..    ...   ...  \n",
       "112   NaN   NaN  \n",
       "113   NaN   NaN  \n",
       "114   NaN   NaN  \n",
       "115   NaN   NaN  \n",
       "116   NaN   NaN  \n",
       "\n",
       "[117 rows x 61 columns]"
      ]
     },
     "execution_count": 45,
     "metadata": {},
     "output_type": "execute_result"
    }
   ],
   "source": [
    "df['Description'] = df['Description'].astype(str)\n",
    "test = df[df['Description'].str.startswith('DE')]\n",
    "test = test.reset_index()\n",
    "test"
   ]
  },
  {
   "cell_type": "code",
   "execution_count": 46,
   "id": "dc7ff8a6",
   "metadata": {},
   "outputs": [
    {
     "name": "stdout",
     "output_type": "stream",
     "text": [
      "0            DERMAVEEN SOAP FREEWASH500ML\n",
      "1        DETTOL SG 250ML ORIGINAL (CORAL)\n",
      "2        DERMACEUTIC SPOT PEEL CREAM 15ML\n",
      "3          DEPO PROVERA INJVIAL150MG1X3ML\n",
      "4                DETTOL BS ORIGINAL120GX3\n",
      "                      ...                \n",
      "112            DETTOL LIQUID (NUTAN) 50ML\n",
      "113           DETTOL LIQUID (NUTAN) 250ML\n",
      "114           DETTOL BS NOURISHING120G3+1\n",
      "115        DETTOL TALCUM MENTHOL(NEW)150G\n",
      "116    DETTOL SHOWER GEL NOURUSHING 625ML\n",
      "Name: Description, Length: 117, dtype: object\n",
      "117\n"
     ]
    }
   ],
   "source": [
    "print(test['Description'])\n",
    "print(len(test['Description']))"
   ]
  },
  {
   "cell_type": "code",
   "execution_count": 47,
   "id": "7c3c4c3d",
   "metadata": {},
   "outputs": [
    {
     "data": {
      "text/plain": [
       "['DERMAVEEN', 'SOAP', 'FREEWASH500ML']"
      ]
     },
     "execution_count": 47,
     "metadata": {},
     "output_type": "execute_result"
    }
   ],
   "source": [
    "word_tokenize(test['Description'][0])"
   ]
  },
  {
   "cell_type": "code",
   "execution_count": 48,
   "id": "09da8a4b",
   "metadata": {},
   "outputs": [
    {
     "name": "stdout",
     "output_type": "stream",
     "text": [
      "name do not exist\n"
     ]
    }
   ],
   "source": [
    "thisdict = dict(name = \"John\", age = 36, country = \"Norway\")\n",
    "if 'name' not in thisdict:\n",
    "    print('name exist')\n",
    "else:\n",
    "    print('name do not exist')"
   ]
  },
  {
   "cell_type": "code",
   "execution_count": 109,
   "id": "2f9b9620",
   "metadata": {},
   "outputs": [],
   "source": [
    "# word 2 index\n",
    "nltk_stop_words = stopwords.words ('english')\n",
    "tokenizer = RegexpTokenizer(r'\\w+')\n",
    "doc2index = {}\n",
    "\n",
    "def word2index(corpus):\n",
    "    idx = 0\n",
    "    w2i = {}\n",
    "    all_docs_as_int = []\n",
    "    j = 0\n",
    "    for doc in corpus:\n",
    "        doc_as_int = []\n",
    "        wordsindoc = tokenizer.tokenize(doc.lower())\n",
    "        doc2index[doc] = j\n",
    "        j += 1\n",
    "        for word in wordsindoc:\n",
    "            if word not in nltk_stop_words:\n",
    "                # check if this word exist in dictionary\n",
    "                if word not in w2i:\n",
    "                    w2i[word] = idx # dettol as 0\n",
    "                    idx += 1\n",
    "\n",
    "                doc_as_int.append(w2i[word])\n",
    "                \n",
    "        all_docs_as_int.append(doc_as_int)\n",
    "    return w2i,all_docs_as_int\n",
    "\n",
    "def index2word(w2i):\n",
    "    i2w = []\n",
    "    for k,v in w2i.items():\n",
    "        i2w.append(k)\n",
    "    return i2w"
   ]
  },
  {
   "cell_type": "code",
   "execution_count": 110,
   "id": "8f12227b",
   "metadata": {},
   "outputs": [
    {
     "name": "stdout",
     "output_type": "stream",
     "text": [
      "test_data\n",
      " ['DETTOL BS NOURISHING120G3+1', 'DETTOL TALCUM MENTHOL(NEW)150G']\n",
      "word 2 index\n",
      " {'dettol': 0, 'bs': 1, 'nourishing120g3': 2, '1': 3, 'talcum': 4, 'menthol': 5, 'new': 6, '150g': 7}\n",
      "docs as int\n",
      " [[0, 1, 2, 3], [0, 4, 5, 6, 7]]\n",
      "length of w2i =  8\n",
      "length of doc =  2\n",
      "index2word\n",
      " ['dettol', 'bs', 'nourishing120g3', '1', 'talcum', 'menthol', 'new', '150g']\n",
      "doc2index\n",
      " {'DETTOL BS NOURISHING120G3+1': 0, 'DETTOL TALCUM MENTHOL(NEW)150G': 1}\n"
     ]
    }
   ],
   "source": [
    "test_data = []\n",
    "test_data.append(test['Description'][114])\n",
    "test_data.append(test['Description'][115])\n",
    "\n",
    "print('test_data\\n',test_data)\n",
    "w2i,docs_as_int = word2index(test_data)\n",
    "i2w = index2word(w2i)\n",
    "print('word 2 index\\n', w2i)\n",
    "print('docs as int\\n',docs_as_int)\n",
    "print('length of w2i = ', len(w2i))\n",
    "print('length of doc = ', len(docs_as_int))\n",
    "print('index2word\\n',i2w)\n",
    "print('doc2index\\n',doc2index)"
   ]
  },
  {
   "cell_type": "code",
   "execution_count": 111,
   "id": "d4369ca1",
   "metadata": {},
   "outputs": [
    {
     "name": "stdout",
     "output_type": "stream",
     "text": [
      "size of term frequency matrix 16\n",
      "shape of term frequence matrix (2, 8)\n",
      "term_frequency\n",
      " [[1. 1. 1. 1. 0. 0. 0. 0.]\n",
      " [1. 0. 0. 0. 1. 1. 1. 1.]]\n",
      "note term dettol appears in both documents\n"
     ]
    }
   ],
   "source": [
    "# measure term frequency\n",
    "\n",
    "# length of term frequency = No Of Documents * No Of Words = 205 * 117\n",
    "ROWS =    len(docs_as_int) # size of document\n",
    "COLUMNS = len(w2i)         # size of words\n",
    "size = ROWS * COLUMNS\n",
    "print('size of term frequency matrix',size)\n",
    "term_frequency = np.zeros((ROWS,COLUMNS))\n",
    "print('shape of term frequence matrix', term_frequency.shape)\n",
    "def count_vectorizor(doc_as_int):\n",
    "    for i, doc in enumerate(doc_as_int):\n",
    "        for j in doc:\n",
    "            term_frequency[i][j] += 1\n",
    "count_vectorizor(docs_as_int)\n",
    "print('term_frequency\\n',term_frequency)\n",
    "print('note term dettol appears in both documents')"
   ]
  },
  {
   "cell_type": "code",
   "execution_count": 112,
   "id": "49dc5f51",
   "metadata": {},
   "outputs": [
    {
     "name": "stdout",
     "output_type": "stream",
     "text": [
      "word appearnce frequency\n",
      " [2 1 1 1 1 1 1 1]\n",
      "not dettol term appeared in both the test documents at index 0\n",
      "idf\n",
      " [0.         0.69314718 0.69314718 0.69314718 0.69314718 0.69314718\n",
      " 0.69314718 0.69314718]\n",
      "since word dettol appeared in both documents at index 0, its importance for both docs is 0\n"
     ]
    }
   ],
   "source": [
    "# measure inverse document frequency\n",
    "# idf = log(N/document_frequency)\n",
    "document_frequency = np.sum(term_frequency>0,axis=0)\n",
    "print('word appearnce frequency\\n',document_frequency)\n",
    "print('not dettol term appeared in both the test documents at index 0')\n",
    "idf = np.log(len(docs_as_int)/document_frequency)\n",
    "print('idf\\n',idf)\n",
    "print('since word dettol appeared in both documents at index 0, its importance for both docs is 0')"
   ]
  },
  {
   "cell_type": "code",
   "execution_count": 113,
   "id": "ba8dc53c",
   "metadata": {},
   "outputs": [
    {
     "name": "stdout",
     "output_type": "stream",
     "text": [
      "tfidf\n",
      " [[0.         0.69314718 0.69314718 0.69314718 0.         0.\n",
      "  0.         0.        ]\n",
      " [0.         0.         0.         0.         0.69314718 0.69314718\n",
      "  0.69314718 0.69314718]]\n"
     ]
    }
   ],
   "source": [
    "# measure tfidf\n",
    "tfidf = term_frequency * idf\n",
    "print('tfidf\\n',tfidf)"
   ]
  },
  {
   "cell_type": "code",
   "execution_count": 114,
   "id": "27ec4aa9",
   "metadata": {},
   "outputs": [
    {
     "name": "stdout",
     "output_type": "stream",
     "text": [
      "(2, 8)\n",
      "<class 'scipy.sparse.csr.csr_matrix'>\n"
     ]
    }
   ],
   "source": [
    "from scipy import sparse\n",
    "sA = sparse.csr_matrix(tfidf)\n",
    "print(sA.shape)\n",
    "print(type(sA))"
   ]
  },
  {
   "cell_type": "code",
   "execution_count": 123,
   "id": "f380c257",
   "metadata": {},
   "outputs": [
    {
     "data": {
      "text/plain": [
       "<1x8 sparse matrix of type '<class 'numpy.float64'>'\n",
       "\twith 4 stored elements in Compressed Sparse Row format>"
      ]
     },
     "execution_count": 123,
     "metadata": {},
     "output_type": "execute_result"
    }
   ],
   "source": [
    "idx = doc2index['DETTOL TALCUM MENTHOL(NEW)150G']\n",
    "query = sA[idx]\n",
    "query"
   ]
  },
  {
   "cell_type": "code",
   "execution_count": 128,
   "id": "8e1428f4",
   "metadata": {},
   "outputs": [
    {
     "name": "stdout",
     "output_type": "stream",
     "text": [
      "(2,)\n",
      "(2, 8)\n",
      "[0. 1.]\n"
     ]
    },
    {
     "data": {
      "text/plain": [
       "array([1, 0], dtype=int64)"
      ]
     },
     "execution_count": 128,
     "metadata": {},
     "output_type": "execute_result"
    }
   ],
   "source": [
    "scores = cosine_similarity(query,sA)\n",
    "scores = scores.flatten()\n",
    "print(scores.shape)\n",
    "print(sA.shape)\n",
    "print(scores)\n",
    "(-scores).argsort()"
   ]
  },
  {
   "cell_type": "code",
   "execution_count": 125,
   "id": "9268b201",
   "metadata": {},
   "outputs": [
    {
     "data": {
      "image/png": "[encoded data removed]",
      "text/plain": [
       "<Figure size 432x288 with 1 Axes>"
      ]
     },
     "metadata": {
      "needs_background": "light"
     },
     "output_type": "display_data"
    }
   ],
   "source": [
    "plt.plot(scores);"
   ]
  },
  {
   "cell_type": "code",
   "execution_count": 119,
   "id": "14feff92",
   "metadata": {},
   "outputs": [
    {
     "data": {
      "text/plain": [
       "[<matplotlib.lines.Line2D at 0x1bdb8f7d640>]"
      ]
     },
     "execution_count": 119,
     "metadata": {},
     "output_type": "execute_result"
    },
    {
     "data": {
      "image/png": "[encoded data removed]",
      "text/plain": [
       "<Figure size 432x288 with 1 Axes>"
      ]
     },
     "metadata": {
      "needs_background": "light"
     },
     "output_type": "display_data"
    }
   ],
   "source": [
    "plt.plot(scores[(-scores).argsort()])"
   ]
  },
  {
   "cell_type": "code",
   "execution_count": 127,
   "id": "0271a4a7",
   "metadata": {},
   "outputs": [
    {
     "name": "stdout",
     "output_type": "stream",
     "text": [
      "[1 0]\n"
     ]
    },
    {
     "data": {
      "text/plain": [
       "1    DETTOL SG 250ML ORIGINAL (CORAL)\n",
       "0        DERMAVEEN SOAP FREEWASH500ML\n",
       "Name: Description, dtype: object"
      ]
     },
     "execution_count": 127,
     "metadata": {},
     "output_type": "execute_result"
    }
   ],
   "source": [
    "recommendation = (-scores).argsort()[0:2]\n",
    "print(recommendation)\n",
    "test['Description'].iloc[recommendation]"
   ]
  },
  {
   "cell_type": "code",
   "execution_count": 71,
   "id": "3f329283",
   "metadata": {},
   "outputs": [
    {
     "name": "stdout",
     "output_type": "stream",
     "text": [
      "test_data\n",
      " 0            DERMAVEEN SOAP FREEWASH500ML\n",
      "1        DETTOL SG 250ML ORIGINAL (CORAL)\n",
      "2        DERMACEUTIC SPOT PEEL CREAM 15ML\n",
      "3          DEPO PROVERA INJVIAL150MG1X3ML\n",
      "4                DETTOL BS ORIGINAL120GX3\n",
      "                      ...                \n",
      "112            DETTOL LIQUID (NUTAN) 50ML\n",
      "113           DETTOL LIQUID (NUTAN) 250ML\n",
      "114           DETTOL BS NOURISHING120G3+1\n",
      "115        DETTOL TALCUM MENTHOL(NEW)150G\n",
      "116    DETTOL SHOWER GEL NOURUSHING 625ML\n",
      "Name: Description, Length: 117, dtype: object\n",
      "word 2 index\n",
      " {'dermaveen': 0, 'soap': 1, 'freewash500ml': 2, 'dettol': 3, 'sg': 4, '250ml': 5, 'original': 6, 'coral': 7, 'dermaceutic': 8, 'spot': 9, 'peel': 10, 'cream': 11, '15ml': 12, 'depo': 13, 'provera': 14, 'injvial150mg1x3ml': 15, 'bs': 16, 'original120gx3': 17, 'dermadrate': 18, 'dry': 19, 'skintreatment': 20, '50g': 21, 'hand': 22, 'sanitiser': 23, '50ml': 24, 'refresh': 25, '950ml': 26, 'reenergize': 27, 'spray': 28, '450mlm': 29, 'dew': 30, 'freewash250ml': 31, 'liquid': 32, 'nutan': 33, '5ltr': 34, 'antiseptic': 35, 'wound': 36, 'wash': 37, '30g': 38, 'handwash': 39, '225ml': 40, 'pouch': 41, 'tp': 42, 'moisturising': 43, 'lotion': 44, '500ml': 45, 'antibacterialwipes10': 46, '50mloriginal': 47, 'handwash500mlskincare': 48, '550ml': 49, '30ml': 50, '120g': 51, '3': 52, '1skincare': 53, 'skincare': 54, '1fresh': 55, 'dermovatecream100gm': 56, '450mlc': 57, 'breeze': 58, 'dextrose': 59, '5': 60, '50ml96': 61, 'packs': 62, 'case': 63, '1reenergize': 64, 'medrol': 65, 'suspvial40mg': 66, 'ml1': 67, 'dermovatecream15gm': 68, 'deep': 69, 'cleansing': 70, 'astrigent': 71, 'lotion200ml': 72, 'bath': 73, 'skincare120g': 74, 'rev': 75, 'heat': 76, 'sportsspray100gm': 77, '750ml': 78, 'dermareen': 79, 'white': 80, 'complex': 81, '8000': 82, '20': 83, 'sx8gx3': 84, 'fresh': 85, 'handwash500mlfresh': 86, '225mlm': 87, 'dermatix': 88, 'ultra': 89, '15g': 90, 'menarini': 91, 'r': 92, 'gel': 93, 'active': 94, '550mlcool': 95, 'heating': 96, 'plaster2': 97, 'sani': 98, 'soothe': 99, 'regen': 100, 'ceutic40ml': 101, '625ml': 102, 'mask': 103, '1550ml': 104, '1cool': 105, '2': 106, '1': 107, 'soothing120g3': 108, '500g': 109, 'plaster': 110, 'buy': 111, 'free': 112, 'trail': 113, 'pk': 114, 'turnovercream40ml': 115, 'shower': 116, 'detol': 117, 'bacterial': 118, 'wipes': 119, '10sx3': 120, 'value': 121, 'pack': 122, 'cool': 123, '1active': 124, '1original': 125, '550mls': 126, 'care': 127, '550mlpouchtp': 128, 'milk': 129, '60ml': 130, '4': 131, 'nacl0': 132, '18': 133, '500ml18pk': 134, 'cs': 135, 'es': 136, '94g': 137, 'focdeepheat': 138, 'es35g': 139, 'debtin': 140, '6': 141, 'plus': 142, '60': 143, 'capsule': 144, 'conditioner': 145, 'bottle250ml': 146, 'radiance950ml': 147, 'extra': 148, 'stenght35': 149, '4g': 150, 'dermovateoint100gm': 151, 'heatingrub94gm': 152, 'gel950ml': 153, 'nourishfoc': 154, '550nourish': 155, '200ml': 156, 'pumptop': 157, 'ori': 158, '1ltr': 159, 'tube': 160, '7g': 161, 'invida': 162, '2ltr': 163, 'talcum': 164, 'new': 165, '150g': 166, 'daily': 167, 'care120g3': 168, 'desferalvial500mg10': 169, 'sachets50gx5sachet': 170, 'wc': 171, '20s': 172, '2sessential': 173, 'shaker': 174, 'stenght94': 175, 'handwash250mlskincare': 176, 'sensitive': 177, 'tp2': 178, 'sooth': 179, 'foc': 180, '550sooth': 181, 'antibacterialwipes50': 182, 'handwash250mloriginal': 183, 'oatmeal': 184, 'shampoo500ml': 185, 'intensivehand': 186, 'cream100ml': 187, 'al': 188, '1l': 189, 'al250ml': 190, 'light': 191, 'ceutic': 192, '40ml': 193, 'handwash500mloriginal': 194, 'dermovateoint15gm': 195, 'heatingrub35gm': 196, 'handwash250mlsensetive': 197, 'nourishing': 198, 'nourishing120g3': 199, 'menthol': 200, 'nourushing': 201}\n",
      "docs as int\n",
      " [[0, 1, 2], [3, 4, 5, 6, 7], [8, 9, 10, 11, 12], [13, 14, 15], [3, 16, 17], [18, 19, 20, 11, 21], [3, 22, 23, 24, 25], [3, 4, 26, 27, 7], [3, 28, 29, 30], [0, 1, 31], [3, 32, 33, 34], [3, 35, 36, 37, 28, 24], [3, 11, 38], [3, 39, 40, 41, 42, 6], [0, 43, 44, 45], [3, 46], [3, 22, 23, 47], [3, 48], [3, 4, 26, 49, 6, 7], [8, 9, 11, 50], [3, 16, 51, 52, 53, 7], [3, 32, 33, 45], [3, 39, 41, 40, 54], [3, 16, 51, 52, 55, 7], [56], [3, 28, 57, 58], [59, 60, 61, 62, 63], [3, 16, 51, 52, 64, 7], [13, 65, 66, 67], [68], [69, 70, 71, 72], [3, 73, 1, 74, 52, 75], [69, 76, 77], [3, 32, 33, 78], [79, 80, 81, 82, 83, 84], [3, 39, 5, 85], [3, 86], [3, 28, 87, 30], [88, 89, 90, 91, 92], [3, 93, 26, 94, 95], [69, 96, 97], [3, 39, 40, 41, 42, 54], [3, 22, 98, 99, 24], [8, 100, 101], [3, 4, 102, 94, 7], [8, 103, 104], [3, 16, 51, 52, 105, 7], [3, 39, 5, 42, 106, 107, 85], [3, 16, 108, 107], [3, 4, 102, 6, 7], [18, 19, 20, 11, 109], [69, 76, 110, 111, 107, 112, 107, 113, 114], [8, 115], [3, 4, 5, 94, 7], [3, 4, 5, 27, 7], [3, 4, 5, 85, 7], [3, 116, 93, 99, 5], [117, 118, 119, 120, 121, 122], [3, 4, 102, 123, 7], [3, 16, 51, 52, 124, 7], [3, 16, 51, 52, 125, 7], [3, 93, 26, 54, 126, 127], [3, 93, 128, 85], [8, 129, 10, 130], [59, 131, 132, 133, 134, 135], [69, 76, 136, 137, 138, 139], [140, 141, 142, 143, 144], [3, 4, 5, 123, 7], [0, 145, 146], [3, 4, 102, 54, 7], [3, 116, 93, 147], [69, 76, 148, 149, 150], [151], [69, 152], [3, 153, 154, 155], [3, 22, 23, 156, 157, 158], [3, 32, 33, 159], [3, 4, 102, 27, 7], [88, 93, 160, 161, 162], [3, 32, 33, 163], [3, 164, 6, 165, 166], [3, 16, 167, 168, 107], [169], [8, 103, 10, 24], [0, 73, 170], [79, 171, 172, 173, 174], [69, 76, 148, 175, 150], [3, 176], [3, 39, 45, 177], [3, 4, 26, 49, 123, 7], [88, 93, 160, 90, 162], [3, 39, 5, 178, 107, 6], [3, 93, 26, 179, 180, 181], [3, 182], [3, 4, 26, 49, 85, 7], [3, 183], [3, 4, 5, 54, 7], [0, 43, 44, 5], [0, 184, 185], [0, 186, 187], [3, 188, 189, 180, 190], [8, 191, 192, 11, 193], [3, 194], [3, 73, 1, 74, 52, 107, 75], [195], [3, 39, 5, 42, 106, 107, 54], [3, 4, 26, 49, 127, 7], [3, 4, 5, 127, 7], [88, 89, 90, 162], [69, 196], [3, 197], [3, 116, 93, 198, 5], [3, 32, 33, 24], [3, 32, 33, 5], [3, 16, 199, 107], [3, 164, 200, 165, 166], [3, 116, 93, 201, 102]]\n",
      "length of w2i =  202\n",
      "length of doc =  117\n",
      "index2word\n",
      " ['dermaveen', 'soap', 'freewash500ml', 'dettol', 'sg', '250ml', 'original', 'coral', 'dermaceutic', 'spot', 'peel', 'cream', '15ml', 'depo', 'provera', 'injvial150mg1x3ml', 'bs', 'original120gx3', 'dermadrate', 'dry', 'skintreatment', '50g', 'hand', 'sanitiser', '50ml', 'refresh', '950ml', 'reenergize', 'spray', '450mlm', 'dew', 'freewash250ml', 'liquid', 'nutan', '5ltr', 'antiseptic', 'wound', 'wash', '30g', 'handwash', '225ml', 'pouch', 'tp', 'moisturising', 'lotion', '500ml', 'antibacterialwipes10', '50mloriginal', 'handwash500mlskincare', '550ml', '30ml', '120g', '3', '1skincare', 'skincare', '1fresh', 'dermovatecream100gm', '450mlc', 'breeze', 'dextrose', '5', '50ml96', 'packs', 'case', '1reenergize', 'medrol', 'suspvial40mg', 'ml1', 'dermovatecream15gm', 'deep', 'cleansing', 'astrigent', 'lotion200ml', 'bath', 'skincare120g', 'rev', 'heat', 'sportsspray100gm', '750ml', 'dermareen', 'white', 'complex', '8000', '20', 'sx8gx3', 'fresh', 'handwash500mlfresh', '225mlm', 'dermatix', 'ultra', '15g', 'menarini', 'r', 'gel', 'active', '550mlcool', 'heating', 'plaster2', 'sani', 'soothe', 'regen', 'ceutic40ml', '625ml', 'mask', '1550ml', '1cool', '2', '1', 'soothing120g3', '500g', 'plaster', 'buy', 'free', 'trail', 'pk', 'turnovercream40ml', 'shower', 'detol', 'bacterial', 'wipes', '10sx3', 'value', 'pack', 'cool', '1active', '1original', '550mls', 'care', '550mlpouchtp', 'milk', '60ml', '4', 'nacl0', '18', '500ml18pk', 'cs', 'es', '94g', 'focdeepheat', 'es35g', 'debtin', '6', 'plus', '60', 'capsule', 'conditioner', 'bottle250ml', 'radiance950ml', 'extra', 'stenght35', '4g', 'dermovateoint100gm', 'heatingrub94gm', 'gel950ml', 'nourishfoc', '550nourish', '200ml', 'pumptop', 'ori', '1ltr', 'tube', '7g', 'invida', '2ltr', 'talcum', 'new', '150g', 'daily', 'care120g3', 'desferalvial500mg10', 'sachets50gx5sachet', 'wc', '20s', '2sessential', 'shaker', 'stenght94', 'handwash250mlskincare', 'sensitive', 'tp2', 'sooth', 'foc', '550sooth', 'antibacterialwipes50', 'handwash250mloriginal', 'oatmeal', 'shampoo500ml', 'intensivehand', 'cream100ml', 'al', '1l', 'al250ml', 'light', 'ceutic', '40ml', 'handwash500mloriginal', 'dermovateoint15gm', 'heatingrub35gm', 'handwash250mlsensetive', 'nourishing', 'nourishing120g3', 'menthol', 'nourushing']\n",
      "doc2index\n",
      " {'DETTOL SG 250ML ORIGINAL (CORAL)': 1, 'DETTOL TALCUM MENTHOL(NEW)150G': 115, 'DERMAVEEN SOAP FREEWASH500ML': 0, 'DERMACEUTIC SPOT PEEL CREAM 15ML': 2, 'DEPO PROVERA INJVIAL150MG1X3ML': 3, 'DETTOL BS ORIGINAL120GX3': 4, 'DERMADRATE DRY SKINTREATMENT CREAM 50G': 5, 'DETTOL HAND SANITISER 50ML REFRESH': 6, 'DETTOL SG 950ML REENERGIZE(CORAL)': 7, 'DETTOL D/SPRAY 450MLM.DEW': 8, 'DERMAVEEN SOAP FREEWASH250ML': 9, 'DETTOL LIQUID (NUTAN) 5LTR': 10, 'DETTOL ANTISEPTIC WOUND WASH SPRAY 50ML': 11, 'DETTOL CREAM 30G': 12, 'DETTOL HANDWASH 225ML POUCH TP ORIGINAL': 13, 'DERMAVEEN MOISTURISING LOTION 500ML': 14, \"DETTOL ANTIBACTERIALWIPES10'S\": 15, 'DETTOL HAND SANITISER 50MLORIGINAL': 16, 'DETTOL HANDWASH500MLSKINCARE': 17, 'DETTOL SG 950ML/550ML ORIGINAL (CORAL)': 18, 'DERMACEUTIC SPOT CREAM 30ML': 19, 'DETTOL BS 120G 3+1SKINCARE(CORAL)': 20, 'DETTOL LIQUID (NUTAN) 500ML': 21, 'DETTOL HANDWASH POUCH 225ML SKINCARE': 22, 'DETTOL BS 120G 3+1FRESH(CORAL)': 23, 'DERMOVATECREAM100GM': 24, 'DETTOL D/SPRAY 450MLC/BREEZE': 25, 'DEXTROSE 5% 50ML96 PACKS/CASE': 26, 'DETTOL BS 120G 3+1REENERGIZE (CORAL)': 27, \"DEPO MEDROL SUSPVIAL40MG/ML1'S\": 28, 'DERMOVATECREAM15GM': 29, 'DEEP CLEANSING ASTRIGENT LOTION200ML': 30, \"DETTOL BATH SOAP SKINCARE120G 3'S-REV\": 31, 'DEEP HEAT SPORTSSPRAY100GM': 32, 'DETTOL LIQUID (NUTAN) 750ML': 33, \"DERMAREEN WHITE COMPLEX 8000 20'sx8Gx3\": 34, 'DETTOL HANDWASH 250ML FRESH': 35, 'DETTOL HANDWASH500MLFRESH': 36, 'DETTOL D/SPRAY 225MLM/DEW': 37, 'DERMATIX ULTRA 15G-MENARINI(R)': 38, 'DETTOL S/GEL 950ML ACTIVE/550MLCOOL': 39, \"DEEP HEATING PLASTER2'S\": 40, 'DETTOL HANDWASH 225ML POUCH TP SKINCARE': 41, 'DETTOL HAND SANI SOOTHE 50ML': 42, 'DERMACEUTIC REGEN CEUTIC40ML': 43, 'DETTOL SG 625ML ACTIVE (CORAL)': 44, 'DERMACEUTIC MASK 1550ML': 45, 'DETTOL BS 120G 3+1COOL(CORAL)': 46, 'DETTOL HANDWASH 250ML TP 2+1 FRESH': 47, 'DETTOL BS SOOTHING120G3+1': 48, 'DETTOL SG 625ML ORIGINAL (CORAL)': 49, 'DERMADRATE DRY SKINTREATMENT CREAM 500G': 50, 'DEEP HEAT PLASTER BUY 1 FREE 1 TRAIL PK': 51, 'DERMACEUTIC TURNOVERCREAM40ML': 52, 'DETTOL SG 250ML ACTIVE (CORAL)': 53, 'DETTOL SG 250ML REENERGIZE(CORAL)': 54, 'DETTOL SG 250ML FRESH (CORAL)': 55, 'DETTOL SHOWER GEL SOOTHE 250ML': 56, 'DETOL A/BACTERIAL WIPES 10SX3 VALUE PACK': 57, 'DETTOL SG 625ML COOL(CORAL)': 58, 'DETTOL BS 120G 3+1ACTIVE(CORAL)': 59, 'DETTOL BS 120G 3+1ORIGINAL (CORAL)': 60, 'DETTOL S/GEL 950ML SKINCARE/550MLS/CARE': 61, 'DETTOL S/GEL 550MLPOUCHTP FRESH': 62, 'DERMACEUTIC MILK PEEL 60ML': 63, 'DEXTROSE 4% & NaCl0.18%500ML18PK/CS': 64, 'DEEP HEAT ES 94G FOCDEEPHEAT ES35G': 65, \"DEBTIN 6 PLUS 60'S CAPSULE\": 66, 'DETTOL SG 250ML COOL(CORAL)': 67, 'DERMAVEEN CONDITIONER BOTTLE250ML': 68, 'DETTOL SG 625ML SKINCARE(CORAL)': 69, 'DETTOL SHOWER GEL RADIANCE950ML': 70, 'DEEP HEAT EXTRA STENGHT35.4G': 71, 'DERMOVATEOINT100GM': 72, 'DEEP HEATINGRUB94GM': 73, 'DETTOL S/GEL950ML NOURISHFOC 550NOURISH': 74, 'DETTOL HAND SANITISER 200ML PUMPTOP ORI': 75, 'DETTOL LIQUID (NUTAN) 1LTR': 76, 'DETTOL SG 625ML REENERGIZE(CORAL)': 77, 'DERMATIX GEL TUBE 7G-INVIDA': 78, 'DETTOL LIQUID (NUTAN) 2LTR': 79, 'DETTOL TALCUM ORIGINAL(NEW)150G': 80, 'DETTOL BS DAILY CARE120G3+1': 81, \"DESFERALVIAL500MG10'S\": 82, 'DERMACEUTIC MASK PEEL 50ML': 83, 'DERMAVEEN BATH SACHETS50GX5SACHET': 84, 'DERMAREEN WC 20S+2SESSENTIAL+SHAKER': 85, 'DEEP HEAT EXTRA STENGHT94.4G': 86, 'DETTOL HANDWASH250MLSKINCARE': 87, 'DETTOL HANDWASH 500ML SENSITIVE': 88, 'DETTOL SG 950ML/550ML COOL(CORAL)': 89, 'DERMATIX GEL TUBE 15G-INVIDA': 90, 'DETTOL HANDWASH 250ML TP2+1 ORIGINAL': 91, 'DETTOL S/GEL 950ML SOOTH FOC 550SOOTH': 92, \"DETTOL ANTIBACTERIALWIPES50'S\": 93, 'DETTOL SG 950ML/550ML FRESH (CORAL)': 94, 'DETTOL HANDWASH250MLORIGINAL': 95, 'DETTOL SG 250ML SKINCARE(CORAL)': 96, 'DERMAVEEN MOISTURISING LOTION 250ML': 97, 'DERMAVEEN OATMEAL SHAMPOO500ML': 98, 'DERMAVEEN INTENSIVEHAND CREAM100ML': 99, 'DETTOL AL 1L FOC AL250ML': 100, 'DERMACEUTIC LIGHT CEUTIC CREAM 40ML': 101, 'DETTOL HANDWASH500MLORIGINAL': 102, 'DETTOL BATH SOAP SKINCARE120G 3+1-REV': 103, 'DERMOVATEOINT15GM': 104, 'DETTOL HANDWASH 250ML TP 2+1 SKINCARE': 105, 'DETTOL SG 950ML/550ML D CARE (CORAL)': 106, 'DETTOL SG 250ML D CARE (CORAL)': 107, 'DERMATIX ULTRA 15G-INVIDA': 108, 'DEEP HEATINGRUB35GM': 109, 'DETTOL HANDWASH250MLSENSETIVE': 110, 'DETTOL SHOWER GEL NOURISHING 250ML': 111, 'DETTOL LIQUID (NUTAN) 50ML': 112, 'DETTOL LIQUID (NUTAN) 250ML': 113, 'DETTOL BS NOURISHING120G3+1': 114, 'DETTOL SHOWER GEL NOURUSHING 625ML': 116}\n",
      "size of term frequency matrix 23634\n",
      "shape of term frequence matrix (117, 202)\n",
      "[ 8  4  1 73 17 15  6 23  8  2  3  6  1  2  1  1 10  1  2  2  2  1  4  3\n",
      "  5  1  8  3  4  1  2  1  7  7  1  1  1  1  1  8  3  3  4  2  2  3  1  1\n",
      "  1  4  1  6  8  1  6  1  1  1  1  2  1  1  1  1  1  1  1  1  1  9  1  1\n",
      "  1  3  2  2  5  1  1  2  1  1  1  1  1  5  1  1  4  2  3  1  1 10  3  1\n",
      "  1  1  1  2  1  1  6  2  1  1  2  8  1  1  1  1  1  1  1  1  4  1  1  1\n",
      "  1  1  1  3  1  1  1  3  1  1  1  1  1  1  1  1  1  1  1  1  1  1  1  1\n",
      "  1  1  1  1  2  1  2  1  1  1  1  1  1  1  1  1  2  1  3  1  2  2  2  1\n",
      "  1  1  1  1  1  1  1  1  1  1  1  1  2  1  1  1  1  1  1  1  1  1  1  1\n",
      "  1  1  1  1  1  1  1  1  1  1]\n",
      "tfidf\n",
      " [[2.68273239 3.37587957 4.76217393 ... 0.         0.         0.        ]\n",
      " [0.         0.         0.         ... 0.         0.         0.        ]\n",
      " [0.         0.         0.         ... 0.         0.         0.        ]\n",
      " ...\n",
      " [0.         0.         0.         ... 4.76217393 0.         0.        ]\n",
      " [0.         0.         0.         ... 0.         4.76217393 0.        ]\n",
      " [0.         0.         0.         ... 0.         0.         4.76217393]]\n"
     ]
    }
   ],
   "source": [
    "# across all data set\n",
    "test_data = test['Description'][:]\n",
    "\n",
    "print('test_data\\n',test_data)\n",
    "w2i,docs_as_int = word2index(test_data)\n",
    "i2w = index2word(w2i)\n",
    "print('word 2 index\\n', w2i)\n",
    "print('docs as int\\n',docs_as_int)\n",
    "print('length of w2i = ', len(w2i))\n",
    "print('length of doc = ', len(docs_as_int))\n",
    "print('index2word\\n',i2w)\n",
    "print('doc2index\\n',doc2index)\n",
    "\n",
    "# measure term frequency\n",
    "\n",
    "# length of term frequency = No Of Documents * No Of Words = 205 * 117\n",
    "ROWS =    len(docs_as_int) # size of document\n",
    "COLUMNS = len(w2i)         # size of words\n",
    "size = ROWS * COLUMNS\n",
    "print('size of term frequency matrix',size)\n",
    "term_frequency = np.zeros((ROWS,COLUMNS))\n",
    "print('shape of term frequence matrix', term_frequency.shape)\n",
    "def count_vectorizor(doc_as_int):\n",
    "    for i, doc in enumerate(doc_as_int):\n",
    "        for j in doc:\n",
    "            term_frequency[i][j] += 1\n",
    "count_vectorizor(docs_as_int)\n",
    "\n",
    "document_frequency = np.sum(term_frequency>0,axis=0)\n",
    "print(document_frequency)\n",
    "idf = np.log(len(docs_as_int)/document_frequency)\n",
    "# measure tfidf\n",
    "tfidf = term_frequency * idf\n",
    "print('tfidf\\n',tfidf)"
   ]
  },
  {
   "cell_type": "code",
   "execution_count": 56,
   "id": "0de73ebf",
   "metadata": {},
   "outputs": [
    {
     "name": "stdout",
     "output_type": "stream",
     "text": [
      "dermaveen\n",
      "dettol\n",
      "dermaceutic\n",
      "depo\n",
      "dermadrate\n",
      "dew\n",
      "dermovatecream100gm\n",
      "dextrose\n",
      "dermovatecream15gm\n",
      "deep\n",
      "dermareen\n",
      "dermatix\n",
      "detol\n",
      "debtin\n",
      "dermovateoint100gm\n",
      "desferalvial500mg10\n",
      "dermovateoint15gm\n"
     ]
    }
   ],
   "source": [
    "for w in i2w:\n",
    "    if w.startswith('de'):\n",
    "        print(w)"
   ]
  },
  {
   "cell_type": "code",
   "execution_count": 72,
   "id": "73bfcbea",
   "metadata": {},
   "outputs": [
    {
     "data": {
      "text/plain": [
       "0            DERMAVEEN SOAP FREEWASH500ML\n",
       "1        DETTOL SG 250ML ORIGINAL (CORAL)\n",
       "2        DERMACEUTIC SPOT PEEL CREAM 15ML\n",
       "3          DEPO PROVERA INJVIAL150MG1X3ML\n",
       "4                DETTOL BS ORIGINAL120GX3\n",
       "                      ...                \n",
       "112            DETTOL LIQUID (NUTAN) 50ML\n",
       "113           DETTOL LIQUID (NUTAN) 250ML\n",
       "114           DETTOL BS NOURISHING120G3+1\n",
       "115        DETTOL TALCUM MENTHOL(NEW)150G\n",
       "116    DETTOL SHOWER GEL NOURUSHING 625ML\n",
       "Name: Description, Length: 117, dtype: object"
      ]
     },
     "execution_count": 72,
     "metadata": {},
     "output_type": "execute_result"
    }
   ],
   "source": [
    "test_data"
   ]
  },
  {
   "cell_type": "code",
   "execution_count": 73,
   "id": "225aa7c3",
   "metadata": {},
   "outputs": [
    {
     "name": "stdout",
     "output_type": "stream",
     "text": [
      "1\n",
      "{'DETTOL SG 250ML ORIGINAL (CORAL)': 1, 'DETTOL TALCUM MENTHOL(NEW)150G': 115, 'DERMAVEEN SOAP FREEWASH500ML': 0, 'DERMACEUTIC SPOT PEEL CREAM 15ML': 2, 'DEPO PROVERA INJVIAL150MG1X3ML': 3, 'DETTOL BS ORIGINAL120GX3': 4, 'DERMADRATE DRY SKINTREATMENT CREAM 50G': 5, 'DETTOL HAND SANITISER 50ML REFRESH': 6, 'DETTOL SG 950ML REENERGIZE(CORAL)': 7, 'DETTOL D/SPRAY 450MLM.DEW': 8, 'DERMAVEEN SOAP FREEWASH250ML': 9, 'DETTOL LIQUID (NUTAN) 5LTR': 10, 'DETTOL ANTISEPTIC WOUND WASH SPRAY 50ML': 11, 'DETTOL CREAM 30G': 12, 'DETTOL HANDWASH 225ML POUCH TP ORIGINAL': 13, 'DERMAVEEN MOISTURISING LOTION 500ML': 14, \"DETTOL ANTIBACTERIALWIPES10'S\": 15, 'DETTOL HAND SANITISER 50MLORIGINAL': 16, 'DETTOL HANDWASH500MLSKINCARE': 17, 'DETTOL SG 950ML/550ML ORIGINAL (CORAL)': 18, 'DERMACEUTIC SPOT CREAM 30ML': 19, 'DETTOL BS 120G 3+1SKINCARE(CORAL)': 20, 'DETTOL LIQUID (NUTAN) 500ML': 21, 'DETTOL HANDWASH POUCH 225ML SKINCARE': 22, 'DETTOL BS 120G 3+1FRESH(CORAL)': 23, 'DERMOVATECREAM100GM': 24, 'DETTOL D/SPRAY 450MLC/BREEZE': 25, 'DEXTROSE 5% 50ML96 PACKS/CASE': 26, 'DETTOL BS 120G 3+1REENERGIZE (CORAL)': 27, \"DEPO MEDROL SUSPVIAL40MG/ML1'S\": 28, 'DERMOVATECREAM15GM': 29, 'DEEP CLEANSING ASTRIGENT LOTION200ML': 30, \"DETTOL BATH SOAP SKINCARE120G 3'S-REV\": 31, 'DEEP HEAT SPORTSSPRAY100GM': 32, 'DETTOL LIQUID (NUTAN) 750ML': 33, \"DERMAREEN WHITE COMPLEX 8000 20'sx8Gx3\": 34, 'DETTOL HANDWASH 250ML FRESH': 35, 'DETTOL HANDWASH500MLFRESH': 36, 'DETTOL D/SPRAY 225MLM/DEW': 37, 'DERMATIX ULTRA 15G-MENARINI(R)': 38, 'DETTOL S/GEL 950ML ACTIVE/550MLCOOL': 39, \"DEEP HEATING PLASTER2'S\": 40, 'DETTOL HANDWASH 225ML POUCH TP SKINCARE': 41, 'DETTOL HAND SANI SOOTHE 50ML': 42, 'DERMACEUTIC REGEN CEUTIC40ML': 43, 'DETTOL SG 625ML ACTIVE (CORAL)': 44, 'DERMACEUTIC MASK 1550ML': 45, 'DETTOL BS 120G 3+1COOL(CORAL)': 46, 'DETTOL HANDWASH 250ML TP 2+1 FRESH': 47, 'DETTOL BS SOOTHING120G3+1': 48, 'DETTOL SG 625ML ORIGINAL (CORAL)': 49, 'DERMADRATE DRY SKINTREATMENT CREAM 500G': 50, 'DEEP HEAT PLASTER BUY 1 FREE 1 TRAIL PK': 51, 'DERMACEUTIC TURNOVERCREAM40ML': 52, 'DETTOL SG 250ML ACTIVE (CORAL)': 53, 'DETTOL SG 250ML REENERGIZE(CORAL)': 54, 'DETTOL SG 250ML FRESH (CORAL)': 55, 'DETTOL SHOWER GEL SOOTHE 250ML': 56, 'DETOL A/BACTERIAL WIPES 10SX3 VALUE PACK': 57, 'DETTOL SG 625ML COOL(CORAL)': 58, 'DETTOL BS 120G 3+1ACTIVE(CORAL)': 59, 'DETTOL BS 120G 3+1ORIGINAL (CORAL)': 60, 'DETTOL S/GEL 950ML SKINCARE/550MLS/CARE': 61, 'DETTOL S/GEL 550MLPOUCHTP FRESH': 62, 'DERMACEUTIC MILK PEEL 60ML': 63, 'DEXTROSE 4% & NaCl0.18%500ML18PK/CS': 64, 'DEEP HEAT ES 94G FOCDEEPHEAT ES35G': 65, \"DEBTIN 6 PLUS 60'S CAPSULE\": 66, 'DETTOL SG 250ML COOL(CORAL)': 67, 'DERMAVEEN CONDITIONER BOTTLE250ML': 68, 'DETTOL SG 625ML SKINCARE(CORAL)': 69, 'DETTOL SHOWER GEL RADIANCE950ML': 70, 'DEEP HEAT EXTRA STENGHT35.4G': 71, 'DERMOVATEOINT100GM': 72, 'DEEP HEATINGRUB94GM': 73, 'DETTOL S/GEL950ML NOURISHFOC 550NOURISH': 74, 'DETTOL HAND SANITISER 200ML PUMPTOP ORI': 75, 'DETTOL LIQUID (NUTAN) 1LTR': 76, 'DETTOL SG 625ML REENERGIZE(CORAL)': 77, 'DERMATIX GEL TUBE 7G-INVIDA': 78, 'DETTOL LIQUID (NUTAN) 2LTR': 79, 'DETTOL TALCUM ORIGINAL(NEW)150G': 80, 'DETTOL BS DAILY CARE120G3+1': 81, \"DESFERALVIAL500MG10'S\": 82, 'DERMACEUTIC MASK PEEL 50ML': 83, 'DERMAVEEN BATH SACHETS50GX5SACHET': 84, 'DERMAREEN WC 20S+2SESSENTIAL+SHAKER': 85, 'DEEP HEAT EXTRA STENGHT94.4G': 86, 'DETTOL HANDWASH250MLSKINCARE': 87, 'DETTOL HANDWASH 500ML SENSITIVE': 88, 'DETTOL SG 950ML/550ML COOL(CORAL)': 89, 'DERMATIX GEL TUBE 15G-INVIDA': 90, 'DETTOL HANDWASH 250ML TP2+1 ORIGINAL': 91, 'DETTOL S/GEL 950ML SOOTH FOC 550SOOTH': 92, \"DETTOL ANTIBACTERIALWIPES50'S\": 93, 'DETTOL SG 950ML/550ML FRESH (CORAL)': 94, 'DETTOL HANDWASH250MLORIGINAL': 95, 'DETTOL SG 250ML SKINCARE(CORAL)': 96, 'DERMAVEEN MOISTURISING LOTION 250ML': 97, 'DERMAVEEN OATMEAL SHAMPOO500ML': 98, 'DERMAVEEN INTENSIVEHAND CREAM100ML': 99, 'DETTOL AL 1L FOC AL250ML': 100, 'DERMACEUTIC LIGHT CEUTIC CREAM 40ML': 101, 'DETTOL HANDWASH500MLORIGINAL': 102, 'DETTOL BATH SOAP SKINCARE120G 3+1-REV': 103, 'DERMOVATEOINT15GM': 104, 'DETTOL HANDWASH 250ML TP 2+1 SKINCARE': 105, 'DETTOL SG 950ML/550ML D CARE (CORAL)': 106, 'DETTOL SG 250ML D CARE (CORAL)': 107, 'DERMATIX ULTRA 15G-INVIDA': 108, 'DEEP HEATINGRUB35GM': 109, 'DETTOL HANDWASH250MLSENSETIVE': 110, 'DETTOL SHOWER GEL NOURISHING 250ML': 111, 'DETTOL LIQUID (NUTAN) 50ML': 112, 'DETTOL LIQUID (NUTAN) 250ML': 113, 'DETTOL BS NOURISHING120G3+1': 114, 'DETTOL SHOWER GEL NOURUSHING 625ML': 116}\n"
     ]
    }
   ],
   "source": [
    "#docindex = pd.Series(test.index,index=test['Description'])\n",
    "#idx = docindex['DETTOL SG 250ML ORIGINAL (CORAL)']\n",
    "idx = doc2index['DETTOL SG 250ML ORIGINAL (CORAL)']\n",
    "\n",
    "print(idx)\n",
    "print(doc2index)"
   ]
  },
  {
   "cell_type": "code",
   "execution_count": 74,
   "id": "a960559e",
   "metadata": {},
   "outputs": [
    {
     "name": "stdout",
     "output_type": "stream",
     "text": [
      "112\n",
      "{'DETTOL SG 250ML ORIGINAL (CORAL)': 1, 'DETTOL TALCUM MENTHOL(NEW)150G': 115, 'DERMAVEEN SOAP FREEWASH500ML': 0, 'DERMACEUTIC SPOT PEEL CREAM 15ML': 2, 'DEPO PROVERA INJVIAL150MG1X3ML': 3, 'DETTOL BS ORIGINAL120GX3': 4, 'DERMADRATE DRY SKINTREATMENT CREAM 50G': 5, 'DETTOL HAND SANITISER 50ML REFRESH': 6, 'DETTOL SG 950ML REENERGIZE(CORAL)': 7, 'DETTOL D/SPRAY 450MLM.DEW': 8, 'DERMAVEEN SOAP FREEWASH250ML': 9, 'DETTOL LIQUID (NUTAN) 5LTR': 10, 'DETTOL ANTISEPTIC WOUND WASH SPRAY 50ML': 11, 'DETTOL CREAM 30G': 12, 'DETTOL HANDWASH 225ML POUCH TP ORIGINAL': 13, 'DERMAVEEN MOISTURISING LOTION 500ML': 14, \"DETTOL ANTIBACTERIALWIPES10'S\": 15, 'DETTOL HAND SANITISER 50MLORIGINAL': 16, 'DETTOL HANDWASH500MLSKINCARE': 17, 'DETTOL SG 950ML/550ML ORIGINAL (CORAL)': 18, 'DERMACEUTIC SPOT CREAM 30ML': 19, 'DETTOL BS 120G 3+1SKINCARE(CORAL)': 20, 'DETTOL LIQUID (NUTAN) 500ML': 21, 'DETTOL HANDWASH POUCH 225ML SKINCARE': 22, 'DETTOL BS 120G 3+1FRESH(CORAL)': 23, 'DERMOVATECREAM100GM': 24, 'DETTOL D/SPRAY 450MLC/BREEZE': 25, 'DEXTROSE 5% 50ML96 PACKS/CASE': 26, 'DETTOL BS 120G 3+1REENERGIZE (CORAL)': 27, \"DEPO MEDROL SUSPVIAL40MG/ML1'S\": 28, 'DERMOVATECREAM15GM': 29, 'DEEP CLEANSING ASTRIGENT LOTION200ML': 30, \"DETTOL BATH SOAP SKINCARE120G 3'S-REV\": 31, 'DEEP HEAT SPORTSSPRAY100GM': 32, 'DETTOL LIQUID (NUTAN) 750ML': 33, \"DERMAREEN WHITE COMPLEX 8000 20'sx8Gx3\": 34, 'DETTOL HANDWASH 250ML FRESH': 35, 'DETTOL HANDWASH500MLFRESH': 36, 'DETTOL D/SPRAY 225MLM/DEW': 37, 'DERMATIX ULTRA 15G-MENARINI(R)': 38, 'DETTOL S/GEL 950ML ACTIVE/550MLCOOL': 39, \"DEEP HEATING PLASTER2'S\": 40, 'DETTOL HANDWASH 225ML POUCH TP SKINCARE': 41, 'DETTOL HAND SANI SOOTHE 50ML': 42, 'DERMACEUTIC REGEN CEUTIC40ML': 43, 'DETTOL SG 625ML ACTIVE (CORAL)': 44, 'DERMACEUTIC MASK 1550ML': 45, 'DETTOL BS 120G 3+1COOL(CORAL)': 46, 'DETTOL HANDWASH 250ML TP 2+1 FRESH': 47, 'DETTOL BS SOOTHING120G3+1': 48, 'DETTOL SG 625ML ORIGINAL (CORAL)': 49, 'DERMADRATE DRY SKINTREATMENT CREAM 500G': 50, 'DEEP HEAT PLASTER BUY 1 FREE 1 TRAIL PK': 51, 'DERMACEUTIC TURNOVERCREAM40ML': 52, 'DETTOL SG 250ML ACTIVE (CORAL)': 53, 'DETTOL SG 250ML REENERGIZE(CORAL)': 54, 'DETTOL SG 250ML FRESH (CORAL)': 55, 'DETTOL SHOWER GEL SOOTHE 250ML': 56, 'DETOL A/BACTERIAL WIPES 10SX3 VALUE PACK': 57, 'DETTOL SG 625ML COOL(CORAL)': 58, 'DETTOL BS 120G 3+1ACTIVE(CORAL)': 59, 'DETTOL BS 120G 3+1ORIGINAL (CORAL)': 60, 'DETTOL S/GEL 950ML SKINCARE/550MLS/CARE': 61, 'DETTOL S/GEL 550MLPOUCHTP FRESH': 62, 'DERMACEUTIC MILK PEEL 60ML': 63, 'DEXTROSE 4% & NaCl0.18%500ML18PK/CS': 64, 'DEEP HEAT ES 94G FOCDEEPHEAT ES35G': 65, \"DEBTIN 6 PLUS 60'S CAPSULE\": 66, 'DETTOL SG 250ML COOL(CORAL)': 67, 'DERMAVEEN CONDITIONER BOTTLE250ML': 68, 'DETTOL SG 625ML SKINCARE(CORAL)': 69, 'DETTOL SHOWER GEL RADIANCE950ML': 70, 'DEEP HEAT EXTRA STENGHT35.4G': 71, 'DERMOVATEOINT100GM': 72, 'DEEP HEATINGRUB94GM': 73, 'DETTOL S/GEL950ML NOURISHFOC 550NOURISH': 74, 'DETTOL HAND SANITISER 200ML PUMPTOP ORI': 75, 'DETTOL LIQUID (NUTAN) 1LTR': 76, 'DETTOL SG 625ML REENERGIZE(CORAL)': 77, 'DERMATIX GEL TUBE 7G-INVIDA': 78, 'DETTOL LIQUID (NUTAN) 2LTR': 79, 'DETTOL TALCUM ORIGINAL(NEW)150G': 80, 'DETTOL BS DAILY CARE120G3+1': 81, \"DESFERALVIAL500MG10'S\": 82, 'DERMACEUTIC MASK PEEL 50ML': 83, 'DERMAVEEN BATH SACHETS50GX5SACHET': 84, 'DERMAREEN WC 20S+2SESSENTIAL+SHAKER': 85, 'DEEP HEAT EXTRA STENGHT94.4G': 86, 'DETTOL HANDWASH250MLSKINCARE': 87, 'DETTOL HANDWASH 500ML SENSITIVE': 88, 'DETTOL SG 950ML/550ML COOL(CORAL)': 89, 'DERMATIX GEL TUBE 15G-INVIDA': 90, 'DETTOL HANDWASH 250ML TP2+1 ORIGINAL': 91, 'DETTOL S/GEL 950ML SOOTH FOC 550SOOTH': 92, \"DETTOL ANTIBACTERIALWIPES50'S\": 93, 'DETTOL SG 950ML/550ML FRESH (CORAL)': 94, 'DETTOL HANDWASH250MLORIGINAL': 95, 'DETTOL SG 250ML SKINCARE(CORAL)': 96, 'DERMAVEEN MOISTURISING LOTION 250ML': 97, 'DERMAVEEN OATMEAL SHAMPOO500ML': 98, 'DERMAVEEN INTENSIVEHAND CREAM100ML': 99, 'DETTOL AL 1L FOC AL250ML': 100, 'DERMACEUTIC LIGHT CEUTIC CREAM 40ML': 101, 'DETTOL HANDWASH500MLORIGINAL': 102, 'DETTOL BATH SOAP SKINCARE120G 3+1-REV': 103, 'DERMOVATEOINT15GM': 104, 'DETTOL HANDWASH 250ML TP 2+1 SKINCARE': 105, 'DETTOL SG 950ML/550ML D CARE (CORAL)': 106, 'DETTOL SG 250ML D CARE (CORAL)': 107, 'DERMATIX ULTRA 15G-INVIDA': 108, 'DEEP HEATINGRUB35GM': 109, 'DETTOL HANDWASH250MLSENSETIVE': 110, 'DETTOL SHOWER GEL NOURISHING 250ML': 111, 'DETTOL LIQUID (NUTAN) 50ML': 112, 'DETTOL LIQUID (NUTAN) 250ML': 113, 'DETTOL BS NOURISHING120G3+1': 114, 'DETTOL SHOWER GEL NOURUSHING 625ML': 116}\n"
     ]
    }
   ],
   "source": [
    "\n",
    "idx = doc2index['DETTOL LIQUID (NUTAN) 50ML']\n",
    "\n",
    "print(idx)\n",
    "print(doc2index)"
   ]
  },
  {
   "cell_type": "code",
   "execution_count": 75,
   "id": "19d36cdb",
   "metadata": {},
   "outputs": [
    {
     "name": "stdout",
     "output_type": "stream",
     "text": [
      "(117, 202)\n",
      "<class 'numpy.ndarray'>\n"
     ]
    }
   ],
   "source": [
    "print(tfidf.shape)\n",
    "print(type(tfidf))"
   ]
  },
  {
   "cell_type": "code",
   "execution_count": 76,
   "id": "7e925498",
   "metadata": {},
   "outputs": [
    {
     "name": "stdout",
     "output_type": "stream",
     "text": [
      "(117, 202)\n",
      "<class 'scipy.sparse.csr.csr_matrix'>\n"
     ]
    }
   ],
   "source": [
    "from scipy import sparse\n",
    "sA = sparse.csr_matrix(tfidf)\n",
    "print(sA.shape)\n",
    "print(type(sA))"
   ]
  },
  {
   "cell_type": "code",
   "execution_count": 78,
   "id": "efa83d20",
   "metadata": {},
   "outputs": [
    {
     "data": {
      "text/plain": [
       "<1x202 sparse matrix of type '<class 'numpy.float64'>'\n",
       "\twith 4 stored elements in Compressed Sparse Row format>"
      ]
     },
     "execution_count": 78,
     "metadata": {},
     "output_type": "execute_result"
    }
   ],
   "source": [
    "query = sA[idx]\n",
    "query"
   ]
  },
  {
   "cell_type": "code",
   "execution_count": 79,
   "id": "f9677b5e",
   "metadata": {},
   "outputs": [
    {
     "name": "stdout",
     "output_type": "stream",
     "text": [
      "(117,)\n",
      "(117, 202)\n"
     ]
    }
   ],
   "source": [
    "scores = cosine_similarity(query,sA)\n",
    "scores = scores.flatten()\n",
    "print(scores.shape)\n",
    "print(sA.shape)"
   ]
  },
  {
   "cell_type": "code",
   "execution_count": 34,
   "id": "9cc6a3d5",
   "metadata": {},
   "outputs": [
    {
     "data": {
      "image/png": "[encoded data removed]",
      "text/plain": [
       "<Figure size 432x288 with 1 Axes>"
      ]
     },
     "metadata": {
      "needs_background": "light"
     },
     "output_type": "display_data"
    }
   ],
   "source": [
    "plt.plot(scores);"
   ]
  },
  {
   "cell_type": "code",
   "execution_count": 80,
   "id": "5cf361f7",
   "metadata": {},
   "outputs": [
    {
     "data": {
      "text/plain": [
       "[<matplotlib.lines.Line2D at 0x1bdb56741c0>]"
      ]
     },
     "execution_count": 80,
     "metadata": {},
     "output_type": "execute_result"
    },
    {
     "data": {
      "image/png": "[encoded data removed]",
      "text/plain": [
       "<Figure size 432x288 with 1 Axes>"
      ]
     },
     "metadata": {
      "needs_background": "light"
     },
     "output_type": "display_data"
    }
   ],
   "source": [
    "plt.plot(scores[(-scores).argsort()])"
   ]
  },
  {
   "cell_type": "code",
   "execution_count": 81,
   "id": "b6fa27f3",
   "metadata": {},
   "outputs": [
    {
     "name": "stdout",
     "output_type": "stream",
     "text": [
      "[112 113  21  76  33  79]\n"
     ]
    },
    {
     "data": {
      "text/plain": [
       "112                                    nan\n",
       "113                                    nan\n",
       "21     URIAGE L'EAU DEMAQUILLANTEPNM 250ML\n",
       "76                                     nan\n",
       "33         TECNIS TORIC 1-PIECECYL3.0026.5\n",
       "79                                     nan\n",
       "Name: Description, dtype: object"
      ]
     },
     "execution_count": 81,
     "metadata": {},
     "output_type": "execute_result"
    }
   ],
   "source": [
    "recommendation = (-scores).argsort()[0:6]\n",
    "print(recommendation)\n",
    "df['Description'].iloc[recommendation]"
   ]
  },
  {
   "cell_type": "code",
   "execution_count": 24,
   "id": "30b9c5eb",
   "metadata": {},
   "outputs": [
    {
     "data": {
      "text/plain": [
       "0             DERMAVEEN SOAP FREEWASH500ML\n",
       "46        DETTOL SG 250ML ORIGINAL (CORAL)\n",
       "47        DERMACEUTIC SPOT PEEL CREAM 15ML\n",
       "122         DEPO PROVERA INJVIAL150MG1X3ML\n",
       "168               DETTOL BS ORIGINAL120GX3\n",
       "                       ...                \n",
       "4755            DETTOL LIQUID (NUTAN) 50ML\n",
       "4756           DETTOL LIQUID (NUTAN) 250ML\n",
       "4757           DETTOL BS NOURISHING120G3+1\n",
       "4758        DETTOL TALCUM MENTHOL(NEW)150G\n",
       "4759    DETTOL SHOWER GEL NOURUSHING 625ML\n",
       "Name: Description, Length: 117, dtype: object"
      ]
     },
     "execution_count": 24,
     "metadata": {},
     "output_type": "execute_result"
    }
   ],
   "source": [
    "test_data"
   ]
  },
  {
   "cell_type": "code",
   "execution_count": 82,
   "id": "2340a77c",
   "metadata": {},
   "outputs": [],
   "source": [
    "def recommend_movies(title):\n",
    "    # find the idx of the movie\n",
    "    idx = doc2index[title]\n",
    "    query = sA[idx]\n",
    "    scores = cosine_similarity(query,sA)\n",
    "    scores = scores.flatten()\n",
    "    recommendation = (-scores).argsort()[0:6]\n",
    "    return df['Description'].iloc[recommendation]"
   ]
  },
  {
   "cell_type": "code",
   "execution_count": 83,
   "id": "1c5e1c8a",
   "metadata": {},
   "outputs": [
    {
     "data": {
      "text/plain": [
       "1                   KENHANCER PLASTER20'S\n",
       "49    CETAPHIL MOIST LOTION TWINPACK200ML\n",
       "18            UX II SEARCH -SED ST29MLX 1\n",
       "96                                    nan\n",
       "55                    EDURANTTABS25MG30'S\n",
       "53    DUPRO FOLLOW-UP FORMULA STEP 21.6KG\n",
       "Name: Description, dtype: object"
      ]
     },
     "execution_count": 83,
     "metadata": {},
     "output_type": "execute_result"
    }
   ],
   "source": [
    "recommend_movies('DETTOL SG 250ML ORIGINAL (CORAL)')"
   ]
  },
  {
   "cell_type": "code",
   "execution_count": 84,
   "id": "20caa56d",
   "metadata": {},
   "outputs": [
    {
     "data": {
      "text/plain": [
       "112                                    nan\n",
       "113                                    nan\n",
       "21     URIAGE L'EAU DEMAQUILLANTEPNM 250ML\n",
       "76                                     nan\n",
       "33         TECNIS TORIC 1-PIECECYL3.0026.5\n",
       "79                                     nan\n",
       "Name: Description, dtype: object"
      ]
     },
     "execution_count": 84,
     "metadata": {},
     "output_type": "execute_result"
    }
   ],
   "source": [
    "recommend_movies('DETTOL LIQUID (NUTAN) 50ML')"
   ]
  },
  {
   "cell_type": "code",
   "execution_count": 85,
   "id": "8ad3fce6",
   "metadata": {},
   "outputs": [
    {
     "data": {
      "text/plain": [
       "112                                    nan\n",
       "113                                    nan\n",
       "21     URIAGE L'EAU DEMAQUILLANTEPNM 250ML\n",
       "76                                     nan\n",
       "33         TECNIS TORIC 1-PIECECYL3.0026.5\n",
       "79                                     nan\n",
       "Name: Description, dtype: object"
      ]
     },
     "execution_count": 85,
     "metadata": {},
     "output_type": "execute_result"
    }
   ],
   "source": [
    "recommend_movies('DETTOL LIQUID (NUTAN) 50ML')"
   ]
  },
  {
   "cell_type": "code",
   "execution_count": null,
   "id": "b904c4b3",
   "metadata": {},
   "outputs": [],
   "source": [
    "sA[122]"
   ]
  },
  {
   "cell_type": "code",
   "execution_count": null,
   "id": "5b04fa7a",
   "metadata": {},
   "outputs": [],
   "source": []
  }
 ],
 "metadata": {
  "kernelspec": {
   "display_name": "Python 3 (ipykernel)",
   "language": "python",
   "name": "python3"
  },
  "language_info": {
   "codemirror_mode": {
    "name": "ipython",
    "version": 3
   },
   "file_extension": ".py",
   "mimetype": "text/x-python",
   "name": "python",
   "nbconvert_exporter": "python",
   "pygments_lexer": "ipython3",
   "version": "3.9.15"
  }
 },
 "nbformat": 4,
 "nbformat_minor": 5
}
