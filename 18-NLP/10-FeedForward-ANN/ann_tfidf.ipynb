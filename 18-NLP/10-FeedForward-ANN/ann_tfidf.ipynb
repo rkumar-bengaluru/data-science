{
 "cells": [
  {
   "cell_type": "code",
   "execution_count": 1,
   "id": "93790dc6",
   "metadata": {},
   "outputs": [],
   "source": [
    "import numpy as np\n",
    "import pandas as pd\n",
    "import tensorflow as tf\n",
    "import matplotlib.pyplot as plt\n",
    "from sklearn.model_selection import train_test_split\n",
    "from sklearn.feature_extraction.text import TfidfVectorizer\n",
    "from tensorflow.keras.layers import Dense,Input\n",
    "from tensorflow.keras.models import Model"
   ]
  },
  {
   "cell_type": "code",
   "execution_count": 2,
   "id": "292e961c",
   "metadata": {},
   "outputs": [
    {
     "data": {
      "text/html": [
       "<div>\n",
       "<style scoped>\n",
       "    .dataframe tbody tr th:only-of-type {\n",
       "        vertical-align: middle;\n",
       "    }\n",
       "\n",
       "    .dataframe tbody tr th {\n",
       "        vertical-align: top;\n",
       "    }\n",
       "\n",
       "    .dataframe thead th {\n",
       "        text-align: right;\n",
       "    }\n",
       "</style>\n",
       "<table border=\"1\" class=\"dataframe\">\n",
       "  <thead>\n",
       "    <tr style=\"text-align: right;\">\n",
       "      <th></th>\n",
       "      <th>text</th>\n",
       "      <th>labels</th>\n",
       "      <th>target</th>\n",
       "    </tr>\n",
       "  </thead>\n",
       "  <tbody>\n",
       "    <tr>\n",
       "      <th>0</th>\n",
       "      <td>Ad sales boost Time Warner profit\\n\\nQuarterly...</td>\n",
       "      <td>business</td>\n",
       "      <td>0</td>\n",
       "    </tr>\n",
       "    <tr>\n",
       "      <th>1</th>\n",
       "      <td>Dollar gains on Greenspan speech\\n\\nThe dollar...</td>\n",
       "      <td>business</td>\n",
       "      <td>0</td>\n",
       "    </tr>\n",
       "    <tr>\n",
       "      <th>2</th>\n",
       "      <td>Yukos unit buyer faces loan claim\\n\\nThe owner...</td>\n",
       "      <td>business</td>\n",
       "      <td>0</td>\n",
       "    </tr>\n",
       "    <tr>\n",
       "      <th>3</th>\n",
       "      <td>High fuel prices hit BA's profits\\n\\nBritish A...</td>\n",
       "      <td>business</td>\n",
       "      <td>0</td>\n",
       "    </tr>\n",
       "    <tr>\n",
       "      <th>4</th>\n",
       "      <td>Pernod takeover talk lifts Domecq\\n\\nShares in...</td>\n",
       "      <td>business</td>\n",
       "      <td>0</td>\n",
       "    </tr>\n",
       "  </tbody>\n",
       "</table>\n",
       "</div>"
      ],
      "text/plain": [
       "                                                text    labels  target\n",
       "0  Ad sales boost Time Warner profit\\n\\nQuarterly...  business       0\n",
       "1  Dollar gains on Greenspan speech\\n\\nThe dollar...  business       0\n",
       "2  Yukos unit buyer faces loan claim\\n\\nThe owner...  business       0\n",
       "3  High fuel prices hit BA's profits\\n\\nBritish A...  business       0\n",
       "4  Pernod takeover talk lifts Domecq\\n\\nShares in...  business       0"
      ]
     },
     "execution_count": 2,
     "metadata": {},
     "output_type": "execute_result"
    }
   ],
   "source": [
    "df = pd.read_csv('../01-Vector-Model-And-Text-Processing/bbc_text_cls.csv')\n",
    "df['target'] = df['labels'].astype(\"category\").cat.codes\n",
    "df.head()"
   ]
  },
  {
   "cell_type": "code",
   "execution_count": 3,
   "id": "b5be31b4",
   "metadata": {},
   "outputs": [],
   "source": [
    "df_train,df_test = train_test_split(df,test_size=0.3)"
   ]
  },
  {
   "cell_type": "code",
   "execution_count": 4,
   "id": "3b730090",
   "metadata": {},
   "outputs": [],
   "source": [
    "tfidf = TfidfVectorizer(stop_words='english')\n",
    "Xtrain = tfidf.fit_transform(df_train['text'])\n",
    "Xtest  = tfidf.transform(df_test['text'])"
   ]
  },
  {
   "cell_type": "code",
   "execution_count": 5,
   "id": "1eb7b5b0",
   "metadata": {},
   "outputs": [],
   "source": [
    "Xtrain = Xtrain.toarray()\n",
    "Xtest  = Xtest.toarray()"
   ]
  },
  {
   "cell_type": "code",
   "execution_count": 6,
   "id": "a994764f",
   "metadata": {},
   "outputs": [],
   "source": [
    "Ytrain  = df_train['target']\n",
    "Ytest  = df_test['target']"
   ]
  },
  {
   "cell_type": "code",
   "execution_count": 8,
   "id": "49fa8d56",
   "metadata": {},
   "outputs": [
    {
     "name": "stdout",
     "output_type": "stream",
     "text": [
      "total K  5\n",
      "Features  25419\n"
     ]
    }
   ],
   "source": [
    "K = df['target'].max() + 1\n",
    "D = Xtrain.shape[1]\n",
    "print('total K ', K)\n",
    "print('Features ', D)"
   ]
  },
  {
   "cell_type": "code",
   "execution_count": 9,
   "id": "75f06865",
   "metadata": {},
   "outputs": [
    {
     "name": "stdout",
     "output_type": "stream",
     "text": [
      "Model: \"model\"\n",
      "_________________________________________________________________\n",
      " Layer (type)                Output Shape              Param #   \n",
      "=================================================================\n",
      " input_1 (InputLayer)        [(None, 25419)]           0         \n",
      "                                                                 \n",
      " dense (Dense)               (None, 300)               7626000   \n",
      "                                                                 \n",
      " dense_1 (Dense)             (None, 5)                 1505      \n",
      "                                                                 \n",
      "=================================================================\n",
      "Total params: 7,627,505\n",
      "Trainable params: 7,627,505\n",
      "Non-trainable params: 0\n",
      "_________________________________________________________________\n"
     ]
    }
   ],
   "source": [
    "# build the model\n",
    "i = Input(shape=(D,))\n",
    "x = Dense(300,activation='relu')(i)\n",
    "x = Dense(K)(x) # softmax part of loss function\n",
    "model = Model(i,x)\n",
    "model.summary()"
   ]
  },
  {
   "cell_type": "code",
   "execution_count": 10,
   "id": "a7b63dc4",
   "metadata": {},
   "outputs": [],
   "source": [
    "model.compile(\n",
    "    loss = tf.keras.losses.SparseCategoricalCrossentropy(from_logits=True),\n",
    "    optimizer = 'adam',\n",
    "    metrics = ['accuracy']\n",
    ")"
   ]
  },
  {
   "cell_type": "code",
   "execution_count": 12,
   "id": "3dddc73f",
   "metadata": {},
   "outputs": [
    {
     "name": "stdout",
     "output_type": "stream",
     "text": [
      "Epoch 1/7\n",
      "13/13 [==============================] - 6s 332ms/step - loss: 1.4616 - accuracy: 0.8471 - val_loss: 1.1787 - val_accuracy: 0.9790\n",
      "Epoch 2/7\n",
      "13/13 [==============================] - 3s 262ms/step - loss: 0.9087 - accuracy: 0.9936 - val_loss: 0.7122 - val_accuracy: 0.9805\n",
      "Epoch 3/7\n",
      "13/13 [==============================] - 4s 275ms/step - loss: 0.4441 - accuracy: 0.9974 - val_loss: 0.4017 - val_accuracy: 0.9790\n",
      "Epoch 4/7\n",
      "13/13 [==============================] - 4s 288ms/step - loss: 0.1966 - accuracy: 0.9981 - val_loss: 0.2538 - val_accuracy: 0.9820\n",
      "Epoch 5/7\n",
      "13/13 [==============================] - 4s 306ms/step - loss: 0.0953 - accuracy: 1.0000 - val_loss: 0.1857 - val_accuracy: 0.9805\n",
      "Epoch 6/7\n",
      "13/13 [==============================] - 4s 286ms/step - loss: 0.0538 - accuracy: 1.0000 - val_loss: 0.1527 - val_accuracy: 0.9805\n",
      "Epoch 7/7\n",
      "13/13 [==============================] - 4s 293ms/step - loss: 0.0355 - accuracy: 1.0000 - val_loss: 0.1344 - val_accuracy: 0.9820\n"
     ]
    }
   ],
   "source": [
    "r = model.fit(\n",
    "    Xtrain,Ytrain,\n",
    "    validation_data=(Xtest,Ytest),\n",
    "    epochs = 7,\n",
    "    batch_size = 128\n",
    ")"
   ]
  },
  {
   "cell_type": "code",
   "execution_count": 14,
   "id": "e8039d10",
   "metadata": {},
   "outputs": [
    {
     "data": {
      "text/plain": [
       "<matplotlib.legend.Legend at 0x24364c25250>"
      ]
     },
     "execution_count": 14,
     "metadata": {},
     "output_type": "execute_result"
    },
    {
     "data": {
      "image/png": "[encoded data removed]",
      "text/plain": [
       "<Figure size 640x480 with 1 Axes>"
      ]
     },
     "metadata": {},
     "output_type": "display_data"
    }
   ],
   "source": [
    "# plot loss per epoch\n",
    "plt.plot(r.history['loss'],label='train loss')\n",
    "plt.plot(r.history['val_loss'],label='test loss')\n",
    "plt.legend()"
   ]
  },
  {
   "cell_type": "code",
   "execution_count": 15,
   "id": "c5437b15",
   "metadata": {},
   "outputs": [
    {
     "data": {
      "text/plain": [
       "<matplotlib.legend.Legend at 0x24364c927f0>"
      ]
     },
     "execution_count": 15,
     "metadata": {},
     "output_type": "execute_result"
    },
    {
     "data": {
      "image/png": "[encoded data removed]",
      "text/plain": [
       "<Figure size 640x480 with 1 Axes>"
      ]
     },
     "metadata": {},
     "output_type": "display_data"
    }
   ],
   "source": [
    "# accuracy per iteration\n",
    "plt.plot(r.history['accuracy'],label='train acc')\n",
    "plt.plot(r.history['val_accuracy'],label='test acc')\n",
    "plt.legend()"
   ]
  },
  {
   "cell_type": "code",
   "execution_count": null,
   "id": "17fc24c8",
   "metadata": {},
   "outputs": [],
   "source": []
  }
 ],
 "metadata": {
  "kernelspec": {
   "display_name": "Python 3 (ipykernel)",
   "language": "python",
   "name": "python3"
  },
  "language_info": {
   "codemirror_mode": {
    "name": "ipython",
    "version": 3
   },
   "file_extension": ".py",
   "mimetype": "text/x-python",
   "name": "python",
   "nbconvert_exporter": "python",
   "pygments_lexer": "ipython3",
   "version": "3.9.16"
  }
 },
 "nbformat": 4,
 "nbformat_minor": 5
}
