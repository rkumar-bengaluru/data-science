{
 "cells": [
  {
   "cell_type": "markdown",
   "id": "6e7a082a",
   "metadata": {},
   "source": [
    "# TF-IDF Vectorization and Cosine Similarity"
   ]
  },
  {
   "cell_type": "markdown",
   "id": "5bda86d3",
   "metadata": {},
   "source": [
    "TF-IDF is known as term frequency inverse document frequency, this is used commonly to represent text into numbers, these numbers are fed to machine learning algorithms for prediction. In this article we will use scikit package to calculate these number then we will use basic math to calculate terms frequency and tf-idf.\n",
    "\n",
    "Before learning let's understand count vectorization, count vectorization is used to find term frequency in a document, once the term frequency is calculated we will use this metrics to calculate term frequency inverse document frequency."
   ]
  },
  {
   "cell_type": "markdown",
   "id": "3d2a6f63",
   "metadata": {},
   "source": [
    "## Terminology\n",
    "\n",
    "- **Term Frequency tf(t,d)** - Raw Count of terms in a document. No of time term t appears in document d. This is also terms as **Count Vectorization**.\n",
    "- **Inverse Document Frequency** - It diminishes the weight of terms appearing very frequently in the document set and increases the weight of terms that occur rarely.\n",
    "- **Cosine similarity** is a metric, helpful in determining, how similar the data objects are irrespective of their size. We can measure the similarity between two sentences using Cosine Similarity."
   ]
  },
  {
   "cell_type": "markdown",
   "id": "067f34a7",
   "metadata": {},
   "source": [
    "## Scikit Sneak Peek\n",
    "\n",
    "Let's look at the scikit briefly as how they calculate these values, **disclaimer** first we will these packages and later use basic math to calculat the same value. As per [sckikit TfidTransformer Documentation](https://scikit-learn.org/stable/modules/generated/sklearn.feature_extraction.text.TfidfTransformer.html)\n",
    "\n",
    "The formula that is used to compute the tf-idf for a term t of a document d in a document set is tf-idf(t, d) = tf(t, d) * idf(t), and the idf is computed as idf(t) = log [ n / df(t) ] + 1 (if smooth_idf=False), where n is the total number of documents in the document set and df(t) is the document frequency of t; the document frequency is the number of documents in the document set that contain the term t. The effect of adding “1” to the idf in the equation above is that terms with zero idf, i.e., terms that occur in all documents in a training set, will not be entirely ignored. (Note that the idf formula above differs from the standard textbook notation that defines the idf as idf(t) = log [ n / (df(t) + 1) ]).\n",
    "\n",
    "If smooth_idf=True (the default), the constant “1” is added to the numerator and denominator of the idf as if an extra document was seen containing every term in the collection exactly once, which prevents zero divisions: idf(t) = log [ (1 + n) / (1 + df(t)) ] + 1.\n",
    "\n",
    "For reference below is a standard used to measure tf-idf, in our calculation the tf-idf may not match because of normalization technique used in the below diagram.\n",
    "\n",
    "![](https://nlp.stanford.edu/IR-book/html/htmledition/img462.png)\n",
    "\n",
    "Let's get started by importing packages we are going to use:-"
   ]
  },
  {
   "cell_type": "code",
   "execution_count": 2,
   "id": "402f8a5f",
   "metadata": {},
   "outputs": [],
   "source": [
    "import numpy as np\n",
    "import pandas as pd\n",
    "import collections\n",
    "import math\n",
    "\n",
    "# scikit packages\n",
    "from sklearn.feature_extraction.text import TfidfVectorizer, CountVectorizer,TfidfTransformer\n",
    "from sklearn.metrics.pairwise import linear_kernel, cosine_similarity,cosine_distances"
   ]
  },
  {
   "cell_type": "markdown",
   "id": "68d2a241",
   "metadata": {},
   "source": [
    "## Test Data\n",
    "\n",
    "We are going to use 3 sentences as a corpus of documents we are going to use for testing purpose, these sentences are alcohol warning for 3 of the drugs."
   ]
  },
  {
   "cell_type": "code",
   "execution_count": 4,
   "id": "23528e03",
   "metadata": {},
   "outputs": [
    {
     "data": {
      "text/plain": [
       "array(['It is unsafe to consume alcohol with 2 Dep 30mg Tablet',\n",
       "       'Abroxy 100mg Capsule may cause excessive drowsiness with alcohol',\n",
       "       'Caution is advised when consuming alcohol with Abrophyll DM Tablet Please consult your doctor'],\n",
       "      dtype='<U93')"
      ]
     },
     "execution_count": 4,
     "metadata": {},
     "output_type": "execute_result"
    }
   ],
   "source": [
    "test_data = ['It is unsafe to consume alcohol with 2 Dep 30mg Tablet',\n",
    "          'Abroxy 100mg Capsule may cause excessive drowsiness with alcohol',\n",
    "          'Caution is advised when consuming alcohol with Abrophyll DM Tablet Please consult your doctor']\n",
    "test_data_array = np.array(test_data, dtype = 'object')\n",
    "test_data_array = test_data_array.astype('str')\n",
    "test_data_array"
   ]
  },
  {
   "cell_type": "markdown",
   "id": "d942b0cf",
   "metadata": {},
   "source": [
    "## Term Frequency\n",
    "\n",
    "We will first use scikit package vectorizer to calculate term frequency, which meaning dictionary of words appearing in each document."
   ]
  },
  {
   "cell_type": "code",
   "execution_count": 5,
   "id": "c8a43f8d",
   "metadata": {},
   "outputs": [
    {
     "data": {
      "text/plain": [
       "<3x19 sparse matrix of type '<class 'numpy.int64'>'\n",
       "\twith 22 stored elements in Compressed Sparse Row format>"
      ]
     },
     "execution_count": 5,
     "metadata": {},
     "output_type": "execute_result"
    }
   ],
   "source": [
    "# initalize count vectorizer \n",
    "countvectorizer = CountVectorizer(analyzer= 'word', stop_words='english')\n",
    "# output of this is document term frequency, as this name suggests it measures\n",
    "# terms per document\n",
    "document_term_matrix = countvectorizer.fit_transform(test_data_array)\n",
    "document_term_matrix"
   ]
  },
  {
   "cell_type": "markdown",
   "id": "ff76227c",
   "metadata": {},
   "source": [
    "Document term frequency is a sparse matrix to save space as the document corpus may not have many terms per document, let's see the dense matrix to see the original matrix as stored per document."
   ]
  },
  {
   "cell_type": "code",
   "execution_count": 6,
   "id": "c8585f6e",
   "metadata": {},
   "outputs": [
    {
     "data": {
      "text/plain": [
       "matrix([[0, 1, 0, 0, 0, 1, 0, 0, 0, 0, 1, 0, 1, 0, 0, 0, 0, 1, 1],\n",
       "        [1, 0, 0, 1, 0, 1, 1, 1, 0, 0, 0, 0, 0, 0, 0, 1, 1, 0, 0],\n",
       "        [0, 0, 1, 0, 1, 1, 0, 0, 1, 1, 0, 1, 0, 1, 1, 0, 0, 1, 0]],\n",
       "       dtype=int64)"
      ]
     },
     "execution_count": 6,
     "metadata": {},
     "output_type": "execute_result"
    }
   ],
   "source": [
    "dense = document_term_matrix.todense()\n",
    "dense"
   ]
  },
  {
   "cell_type": "markdown",
   "id": "2b5271cd",
   "metadata": {},
   "source": [
    "To understand the above array let's print the bag of words or terms which is part of this term frequency."
   ]
  },
  {
   "cell_type": "code",
   "execution_count": 14,
   "id": "ad02e62c",
   "metadata": {},
   "outputs": [
    {
     "data": {
      "text/plain": [
       "array(['100mg', '30mg', 'abrophyll', 'abroxy', 'advised', 'alcohol',\n",
       "       'capsule', 'cause', 'caution', 'consult', 'consume', 'consuming',\n",
       "       'dep', 'dm', 'doctor', 'drowsiness', 'excessive', 'tablet',\n",
       "       'unsafe'], dtype=object)"
      ]
     },
     "execution_count": 14,
     "metadata": {},
     "output_type": "execute_result"
    }
   ],
   "source": [
    "countvectorizer.get_feature_names_out()"
   ]
  },
  {
   "cell_type": "markdown",
   "id": "d82e4949",
   "metadata": {},
   "source": [
    "As you can see from both the array it is merely frequency count of words appearing per document. As an example the word 30mg appears once in the first document."
   ]
  },
  {
   "cell_type": "markdown",
   "id": "a8bb41ae",
   "metadata": {},
   "source": [
    "## Dense and Sparse Matrix\n",
    "\n",
    "- A **sparse matrix** is a matrix that is comprised of mostly zero values.\n",
    "- Sparse matrices are distinct from matrices with mostly non-zero values, which are referred to as **dense matrices**."
   ]
  },
  {
   "cell_type": "code",
   "execution_count": 15,
   "id": "f55b8306",
   "metadata": {},
   "outputs": [
    {
     "data": {
      "text/plain": [
       "22"
      ]
     },
     "execution_count": 15,
     "metadata": {},
     "output_type": "execute_result"
    }
   ],
   "source": [
    "# no of non zero values\n",
    "document_term_matrix.nnz"
   ]
  },
  {
   "cell_type": "code",
   "execution_count": 16,
   "id": "1f1fd277",
   "metadata": {},
   "outputs": [
    {
     "data": {
      "text/plain": [
       "35"
      ]
     },
     "execution_count": 16,
     "metadata": {},
     "output_type": "execute_result"
    }
   ],
   "source": [
    "# no of zero values\n",
    "len(np.argwhere(dense == 0))"
   ]
  },
  {
   "cell_type": "code",
   "execution_count": 17,
   "id": "4be9d09f",
   "metadata": {},
   "outputs": [
    {
     "data": {
      "text/plain": [
       "57"
      ]
     },
     "execution_count": 17,
     "metadata": {},
     "output_type": "execute_result"
    }
   ],
   "source": [
    "# total number of records = document_term_matrix.shape.noOfDocuments * document_term_matrix.shape.noOfFeatures\n",
    "total_values = document_term_matrix.shape[0]* document_term_matrix.shape[1]\n",
    "total_values"
   ]
  },
  {
   "cell_type": "code",
   "execution_count": 18,
   "id": "0f044b5c",
   "metadata": {},
   "outputs": [
    {
     "data": {
      "text/plain": [
       "57"
      ]
     },
     "execution_count": 18,
     "metadata": {},
     "output_type": "execute_result"
    }
   ],
   "source": [
    "# values contained in sparse matrix is non zeros + no of zeros in dense matrix = total no of values.\n",
    "document_term_matrix.nnz + len(np.argwhere(dense == 0))"
   ]
  },
  {
   "cell_type": "markdown",
   "id": "44909585",
   "metadata": {},
   "source": [
    "## Let's see everything visually"
   ]
  },
  {
   "cell_type": "code",
   "execution_count": 20,
   "id": "4a4995fc",
   "metadata": {},
   "outputs": [
    {
     "name": "stdout",
     "output_type": "stream",
     "text": [
      "Count Vectorizer\n",
      "\n",
      "      100mg  30mg  abrophyll  abroxy  advised  alcohol  capsule  cause  \\\n",
      "Doc1      0     1          0       0        0        1        0      0   \n",
      "Doc2      1     0          0       1        0        1        1      1   \n",
      "Doc3      0     0          1       0        1        1        0      0   \n",
      "\n",
      "      caution  consult  consume  consuming  dep  dm  doctor  drowsiness  \\\n",
      "Doc1        0        0        1          0    1   0       0           0   \n",
      "Doc2        0        0        0          0    0   0       0           1   \n",
      "Doc3        1        1        0          1    0   1       1           0   \n",
      "\n",
      "      excessive  tablet  unsafe  \n",
      "Doc1          0       1       1  \n",
      "Doc2          1       0       0  \n",
      "Doc3          0       1       0  \n"
     ]
    }
   ],
   "source": [
    "terms = countvectorizer.get_feature_names_out()\n",
    "# create data frame\n",
    "df_countvect = pd.DataFrame(data = document_term_matrix.toarray(),index = ['Doc1','Doc2','Doc3'],columns = terms)\n",
    "print(\"Count Vectorizer\\n\")\n",
    "print(df_countvect)"
   ]
  },
  {
   "cell_type": "markdown",
   "id": "6d25de52",
   "metadata": {},
   "source": [
    "## Let's see Tfid Vectorization"
   ]
  },
  {
   "cell_type": "code",
   "execution_count": 21,
   "id": "4868a4ba",
   "metadata": {},
   "outputs": [
    {
     "name": "stdout",
     "output_type": "stream",
     "text": [
      "TD-IDF Vectorizer\n",
      "\n",
      "         100mg      30mg  abrophyll    abroxy   advised   alcohol   capsule  \\\n",
      "Doc1  0.000000  0.450504   0.000000  0.000000  0.000000  0.266075  0.000000   \n",
      "Doc2  0.396875  0.000000   0.000000  0.396875  0.000000  0.234400  0.396875   \n",
      "Doc3  0.000000  0.000000   0.355173  0.000000  0.355173  0.209771  0.000000   \n",
      "\n",
      "         cause   caution   consult   consume  consuming       dep        dm  \\\n",
      "Doc1  0.000000  0.000000  0.000000  0.450504   0.000000  0.450504  0.000000   \n",
      "Doc2  0.396875  0.000000  0.000000  0.000000   0.000000  0.000000  0.000000   \n",
      "Doc3  0.000000  0.355173  0.355173  0.000000   0.355173  0.000000  0.355173   \n",
      "\n",
      "        doctor  drowsiness  excessive    tablet    unsafe  \n",
      "Doc1  0.000000    0.000000   0.000000  0.342620  0.450504  \n",
      "Doc2  0.000000    0.396875   0.396875  0.000000  0.000000  \n",
      "Doc3  0.355173    0.000000   0.000000  0.270118  0.000000  \n"
     ]
    }
   ],
   "source": [
    "tfidfvectorizer = TfidfVectorizer(analyzer= 'word', stop_words='english',norm='l2')\n",
    "# returns array of shape (n_samples, n_features) = Document-term matrix.\n",
    "tfid_document_term_matrix = tfidfvectorizer.fit_transform(test_data)\n",
    "terms = tfidfvectorizer.get_feature_names_out()\n",
    "# create data frame\n",
    "df_tfidvect = pd.DataFrame(data = tfid_document_term_matrix.toarray(),index = ['Doc1','Doc2','Doc3'],columns = terms)\n",
    "print(\"TD-IDF Vectorizer\\n\")\n",
    "print(df_tfidvect)"
   ]
  },
  {
   "cell_type": "markdown",
   "id": "3aaa0c90",
   "metadata": {},
   "source": [
    "## Basic Math to calculate term frequency\n",
    "\n",
    "We will use the test data and create a dictionary of words and then go over each document and count how many times each term appears each document."
   ]
  },
  {
   "cell_type": "code",
   "execution_count": 22,
   "id": "78942e0d",
   "metadata": {},
   "outputs": [
    {
     "data": {
      "text/plain": [
       "{'30mg', 'alcohol', 'consume', 'dep', 'tablet', 'unsafe'}"
      ]
     },
     "execution_count": 22,
     "metadata": {},
     "output_type": "execute_result"
    }
   ],
   "source": [
    "# for the first document.\n",
    "unique_words_doc1 = test_data[0].lower().split()\n",
    "unique_words_doc1 = set(unique_words_doc1)\n",
    "# remove english stop words\n",
    "unique_words_doc1.remove('2')\n",
    "unique_words_doc1.remove('is')\n",
    "unique_words_doc1.remove('it')\n",
    "unique_words_doc1.remove('to')\n",
    "unique_words_doc1.remove('with')\n",
    "unique_words_doc1"
   ]
  },
  {
   "cell_type": "code",
   "execution_count": 24,
   "id": "d1159bce",
   "metadata": {},
   "outputs": [
    {
     "data": {
      "text/plain": [
       "{'100mg', 'abroxy', 'alcohol', 'capsule', 'cause', 'drowsiness', 'excessive'}"
      ]
     },
     "execution_count": 24,
     "metadata": {},
     "output_type": "execute_result"
    }
   ],
   "source": [
    "# for the second document.\n",
    "unique_words_doc2 = test_data[1].lower().split()\n",
    "unique_words_doc2 = set(unique_words_doc2)\n",
    "\n",
    "# remove english stop words\n",
    "unique_words_doc2.remove('may')\n",
    "unique_words_doc2.remove('with')\n",
    "unique_words_doc2"
   ]
  },
  {
   "cell_type": "code",
   "execution_count": 25,
   "id": "230088e1",
   "metadata": {},
   "outputs": [
    {
     "data": {
      "text/plain": [
       "{'abrophyll',\n",
       " 'advised',\n",
       " 'alcohol',\n",
       " 'caution',\n",
       " 'consult',\n",
       " 'consuming',\n",
       " 'dm',\n",
       " 'doctor',\n",
       " 'tablet'}"
      ]
     },
     "execution_count": 25,
     "metadata": {},
     "output_type": "execute_result"
    }
   ],
   "source": [
    "# for the third document.\n",
    "unique_words_doc3 = test_data[2].lower().split()\n",
    "unique_words_doc3 = set(unique_words_doc3)\n",
    "\n",
    "# remove english stop words\n",
    "unique_words_doc3.remove('is')\n",
    "unique_words_doc3.remove('when')\n",
    "unique_words_doc3.remove('with')\n",
    "unique_words_doc3.remove('your')\n",
    "unique_words_doc3.remove('please')\n",
    "unique_words_doc3"
   ]
  },
  {
   "cell_type": "code",
   "execution_count": 27,
   "id": "5bd01b8d",
   "metadata": {},
   "outputs": [
    {
     "data": {
      "text/plain": [
       "['100mg',\n",
       " '30mg',\n",
       " 'abrophyll',\n",
       " 'abroxy',\n",
       " 'advised',\n",
       " 'alcohol',\n",
       " 'capsule',\n",
       " 'cause',\n",
       " 'caution',\n",
       " 'consult',\n",
       " 'consume',\n",
       " 'consuming',\n",
       " 'dep',\n",
       " 'dm',\n",
       " 'doctor',\n",
       " 'drowsiness',\n",
       " 'excessive',\n",
       " 'tablet',\n",
       " 'unsafe']"
      ]
     },
     "execution_count": 27,
     "metadata": {},
     "output_type": "execute_result"
    }
   ],
   "source": [
    "# all unique words\n",
    "all_unique_words = set()\n",
    "all_unique_words.update(unique_words_doc1,unique_words_doc2,unique_words_doc3)\n",
    "all_unique_words = sorted(all_unique_words)\n",
    "all_unique_words"
   ]
  },
  {
   "cell_type": "code",
   "execution_count": 28,
   "id": "b0ec0700",
   "metadata": {},
   "outputs": [
    {
     "data": {
      "text/plain": [
       "{'100mg': 0,\n",
       " '30mg': 1,\n",
       " 'abrophyll': 2,\n",
       " 'abroxy': 3,\n",
       " 'advised': 4,\n",
       " 'alcohol': 5,\n",
       " 'capsule': 6,\n",
       " 'cause': 7,\n",
       " 'caution': 8,\n",
       " 'consult': 9,\n",
       " 'consume': 10,\n",
       " 'consuming': 11,\n",
       " 'dep': 12,\n",
       " 'dm': 13,\n",
       " 'doctor': 14,\n",
       " 'drowsiness': 15,\n",
       " 'excessive': 16,\n",
       " 'tablet': 17,\n",
       " 'unsafe': 18}"
      ]
     },
     "execution_count": 28,
     "metadata": {},
     "output_type": "execute_result"
    }
   ],
   "source": [
    "# bag of words\n",
    "bag_of_words = dict()\n",
    "i = 0\n",
    "for word in all_unique_words:\n",
    "    bag_of_words[word] = i\n",
    "    i = i + 1\n",
    "\n",
    "bag_of_words"
   ]
  },
  {
   "cell_type": "code",
   "execution_count": 29,
   "id": "9de6bfa5",
   "metadata": {},
   "outputs": [
    {
     "data": {
      "text/plain": [
       "OrderedDict([('100mg', 0),\n",
       "             ('30mg', 1),\n",
       "             ('abrophyll', 2),\n",
       "             ('abroxy', 3),\n",
       "             ('advised', 4),\n",
       "             ('alcohol', 5),\n",
       "             ('capsule', 6),\n",
       "             ('cause', 7),\n",
       "             ('caution', 8),\n",
       "             ('consult', 9),\n",
       "             ('consume', 10),\n",
       "             ('consuming', 11),\n",
       "             ('dep', 12),\n",
       "             ('dm', 13),\n",
       "             ('doctor', 14),\n",
       "             ('drowsiness', 15),\n",
       "             ('excessive', 16),\n",
       "             ('tablet', 17),\n",
       "             ('unsafe', 18)])"
      ]
     },
     "execution_count": 29,
     "metadata": {},
     "output_type": "execute_result"
    }
   ],
   "source": [
    "# order by key such that it matches with the scikit array\n",
    "bag_of_words = collections.OrderedDict(sorted(bag_of_words.items()))\n",
    "bag_of_words"
   ]
  },
  {
   "cell_type": "code",
   "execution_count": 30,
   "id": "1e6da143",
   "metadata": {},
   "outputs": [],
   "source": [
    "# count frequency of each word\n",
    "one_freq = [0]*len(bag_of_words)\n",
    "two_freq = [0]*len(bag_of_words)\n",
    "three_freq = [0]*len(bag_of_words)\n",
    "all_words = ['']*len(bag_of_words)"
   ]
  },
  {
   "cell_type": "code",
   "execution_count": 31,
   "id": "7201e65e",
   "metadata": {},
   "outputs": [
    {
     "data": {
      "text/plain": [
       "[0, 1, 0, 0, 0, 1, 0, 0, 0, 0, 1, 0, 1, 0, 0, 0, 0, 1, 1]"
      ]
     },
     "execution_count": 31,
     "metadata": {},
     "output_type": "execute_result"
    }
   ],
   "source": [
    "for word in unique_words_doc1:\n",
    "    word_index = bag_of_words[word]\n",
    "    one_freq[word_index] +=1\n",
    "one_freq"
   ]
  },
  {
   "cell_type": "code",
   "execution_count": 32,
   "id": "134d8d51",
   "metadata": {},
   "outputs": [
    {
     "data": {
      "text/plain": [
       "[1, 0, 0, 1, 0, 1, 1, 1, 0, 0, 0, 0, 0, 0, 0, 1, 1, 0, 0]"
      ]
     },
     "execution_count": 32,
     "metadata": {},
     "output_type": "execute_result"
    }
   ],
   "source": [
    "for word in unique_words_doc2:\n",
    "    word_index = bag_of_words[word]\n",
    "    two_freq[word_index] +=1\n",
    "two_freq"
   ]
  },
  {
   "cell_type": "code",
   "execution_count": 33,
   "id": "19bcacca",
   "metadata": {},
   "outputs": [
    {
     "data": {
      "text/plain": [
       "[0, 0, 1, 0, 1, 1, 0, 0, 1, 1, 0, 1, 0, 1, 1, 0, 0, 1, 0]"
      ]
     },
     "execution_count": 33,
     "metadata": {},
     "output_type": "execute_result"
    }
   ],
   "source": [
    "for word in unique_words_doc3:\n",
    "    word_index = bag_of_words[word]\n",
    "    three_freq[word_index] +=1\n",
    "three_freq"
   ]
  },
  {
   "cell_type": "code",
   "execution_count": 34,
   "id": "05ef839d",
   "metadata": {},
   "outputs": [
    {
     "data": {
      "text/plain": [
       "['100mg',\n",
       " '30mg',\n",
       " 'abrophyll',\n",
       " 'abroxy',\n",
       " 'advised',\n",
       " 'alcohol',\n",
       " 'capsule',\n",
       " 'cause',\n",
       " 'caution',\n",
       " 'consult',\n",
       " 'consume',\n",
       " 'consuming',\n",
       " 'dep',\n",
       " 'dm',\n",
       " 'doctor',\n",
       " 'drowsiness',\n",
       " 'excessive',\n",
       " 'tablet',\n",
       " 'unsafe']"
      ]
     },
     "execution_count": 34,
     "metadata": {},
     "output_type": "execute_result"
    }
   ],
   "source": [
    "# create header for each term\n",
    "for word in bag_of_words:\n",
    "    word_index = bag_of_words[word]\n",
    "    all_words[word_index] = word\n",
    "all_words"
   ]
  },
  {
   "cell_type": "code",
   "execution_count": 35,
   "id": "2d833861",
   "metadata": {},
   "outputs": [],
   "source": [
    "# add each document word frequency in a numpy matrix\n",
    "matrix = np.array([one_freq,two_freq,three_freq])"
   ]
  },
  {
   "cell_type": "code",
   "execution_count": 36,
   "id": "61d5afe3",
   "metadata": {},
   "outputs": [
    {
     "data": {
      "text/html": [
       "<div>\n",
       "<style scoped>\n",
       "    .dataframe tbody tr th:only-of-type {\n",
       "        vertical-align: middle;\n",
       "    }\n",
       "\n",
       "    .dataframe tbody tr th {\n",
       "        vertical-align: top;\n",
       "    }\n",
       "\n",
       "    .dataframe thead th {\n",
       "        text-align: right;\n",
       "    }\n",
       "</style>\n",
       "<table border=\"1\" class=\"dataframe\">\n",
       "  <thead>\n",
       "    <tr style=\"text-align: right;\">\n",
       "      <th></th>\n",
       "      <th>100mg</th>\n",
       "      <th>30mg</th>\n",
       "      <th>abrophyll</th>\n",
       "      <th>abroxy</th>\n",
       "      <th>advised</th>\n",
       "      <th>alcohol</th>\n",
       "      <th>capsule</th>\n",
       "      <th>cause</th>\n",
       "      <th>caution</th>\n",
       "      <th>consult</th>\n",
       "      <th>consume</th>\n",
       "      <th>consuming</th>\n",
       "      <th>dep</th>\n",
       "      <th>dm</th>\n",
       "      <th>doctor</th>\n",
       "      <th>drowsiness</th>\n",
       "      <th>excessive</th>\n",
       "      <th>tablet</th>\n",
       "      <th>unsafe</th>\n",
       "    </tr>\n",
       "  </thead>\n",
       "  <tbody>\n",
       "    <tr>\n",
       "      <th>Doc1</th>\n",
       "      <td>0.0</td>\n",
       "      <td>1.0</td>\n",
       "      <td>0.0</td>\n",
       "      <td>0.0</td>\n",
       "      <td>0.0</td>\n",
       "      <td>1.0</td>\n",
       "      <td>0.0</td>\n",
       "      <td>0.0</td>\n",
       "      <td>0.0</td>\n",
       "      <td>0.0</td>\n",
       "      <td>1.0</td>\n",
       "      <td>0.0</td>\n",
       "      <td>1.0</td>\n",
       "      <td>0.0</td>\n",
       "      <td>0.0</td>\n",
       "      <td>0.0</td>\n",
       "      <td>0.0</td>\n",
       "      <td>1.0</td>\n",
       "      <td>1.0</td>\n",
       "    </tr>\n",
       "    <tr>\n",
       "      <th>Doc2</th>\n",
       "      <td>1.0</td>\n",
       "      <td>0.0</td>\n",
       "      <td>0.0</td>\n",
       "      <td>1.0</td>\n",
       "      <td>0.0</td>\n",
       "      <td>1.0</td>\n",
       "      <td>1.0</td>\n",
       "      <td>1.0</td>\n",
       "      <td>0.0</td>\n",
       "      <td>0.0</td>\n",
       "      <td>0.0</td>\n",
       "      <td>0.0</td>\n",
       "      <td>0.0</td>\n",
       "      <td>0.0</td>\n",
       "      <td>0.0</td>\n",
       "      <td>1.0</td>\n",
       "      <td>1.0</td>\n",
       "      <td>0.0</td>\n",
       "      <td>0.0</td>\n",
       "    </tr>\n",
       "    <tr>\n",
       "      <th>Doc3</th>\n",
       "      <td>0.0</td>\n",
       "      <td>0.0</td>\n",
       "      <td>1.0</td>\n",
       "      <td>0.0</td>\n",
       "      <td>1.0</td>\n",
       "      <td>1.0</td>\n",
       "      <td>0.0</td>\n",
       "      <td>0.0</td>\n",
       "      <td>1.0</td>\n",
       "      <td>1.0</td>\n",
       "      <td>0.0</td>\n",
       "      <td>1.0</td>\n",
       "      <td>0.0</td>\n",
       "      <td>1.0</td>\n",
       "      <td>1.0</td>\n",
       "      <td>0.0</td>\n",
       "      <td>0.0</td>\n",
       "      <td>1.0</td>\n",
       "      <td>0.0</td>\n",
       "    </tr>\n",
       "  </tbody>\n",
       "</table>\n",
       "</div>"
      ],
      "text/plain": [
       "      100mg  30mg  abrophyll  abroxy  advised  alcohol  capsule  cause  \\\n",
       "Doc1    0.0   1.0        0.0     0.0      0.0      1.0      0.0    0.0   \n",
       "Doc2    1.0   0.0        0.0     1.0      0.0      1.0      1.0    1.0   \n",
       "Doc3    0.0   0.0        1.0     0.0      1.0      1.0      0.0    0.0   \n",
       "\n",
       "      caution  consult  consume  consuming  dep   dm  doctor  drowsiness  \\\n",
       "Doc1      0.0      0.0      1.0        0.0  1.0  0.0     0.0         0.0   \n",
       "Doc2      0.0      0.0      0.0        0.0  0.0  0.0     0.0         1.0   \n",
       "Doc3      1.0      1.0      0.0        1.0  0.0  1.0     1.0         0.0   \n",
       "\n",
       "      excessive  tablet  unsafe  \n",
       "Doc1        0.0     1.0     1.0  \n",
       "Doc2        1.0     0.0     0.0  \n",
       "Doc3        0.0     1.0     0.0  "
      ]
     },
     "execution_count": 36,
     "metadata": {},
     "output_type": "execute_result"
    }
   ],
   "source": [
    "# create a data frame, matrix of word frequency document with the headers and index\n",
    "manually_create_df = pd.DataFrame(matrix,index = ['Doc1','Doc2','Doc3'],columns=bag_of_words,dtype='float64')\n",
    "manually_create_df"
   ]
  },
  {
   "cell_type": "code",
   "execution_count": 37,
   "id": "dfb6e9fa",
   "metadata": {},
   "outputs": [
    {
     "data": {
      "text/html": [
       "<div>\n",
       "<style scoped>\n",
       "    .dataframe tbody tr th:only-of-type {\n",
       "        vertical-align: middle;\n",
       "    }\n",
       "\n",
       "    .dataframe tbody tr th {\n",
       "        vertical-align: top;\n",
       "    }\n",
       "\n",
       "    .dataframe thead th {\n",
       "        text-align: right;\n",
       "    }\n",
       "</style>\n",
       "<table border=\"1\" class=\"dataframe\">\n",
       "  <thead>\n",
       "    <tr style=\"text-align: right;\">\n",
       "      <th></th>\n",
       "      <th>100mg</th>\n",
       "      <th>30mg</th>\n",
       "      <th>abrophyll</th>\n",
       "      <th>abroxy</th>\n",
       "      <th>advised</th>\n",
       "      <th>alcohol</th>\n",
       "      <th>capsule</th>\n",
       "      <th>cause</th>\n",
       "      <th>caution</th>\n",
       "      <th>consult</th>\n",
       "      <th>consume</th>\n",
       "      <th>consuming</th>\n",
       "      <th>dep</th>\n",
       "      <th>dm</th>\n",
       "      <th>doctor</th>\n",
       "      <th>drowsiness</th>\n",
       "      <th>excessive</th>\n",
       "      <th>tablet</th>\n",
       "      <th>unsafe</th>\n",
       "    </tr>\n",
       "  </thead>\n",
       "  <tbody>\n",
       "    <tr>\n",
       "      <th>Doc1</th>\n",
       "      <td>0</td>\n",
       "      <td>1</td>\n",
       "      <td>0</td>\n",
       "      <td>0</td>\n",
       "      <td>0</td>\n",
       "      <td>1</td>\n",
       "      <td>0</td>\n",
       "      <td>0</td>\n",
       "      <td>0</td>\n",
       "      <td>0</td>\n",
       "      <td>1</td>\n",
       "      <td>0</td>\n",
       "      <td>1</td>\n",
       "      <td>0</td>\n",
       "      <td>0</td>\n",
       "      <td>0</td>\n",
       "      <td>0</td>\n",
       "      <td>1</td>\n",
       "      <td>1</td>\n",
       "    </tr>\n",
       "    <tr>\n",
       "      <th>Doc2</th>\n",
       "      <td>1</td>\n",
       "      <td>0</td>\n",
       "      <td>0</td>\n",
       "      <td>1</td>\n",
       "      <td>0</td>\n",
       "      <td>1</td>\n",
       "      <td>1</td>\n",
       "      <td>1</td>\n",
       "      <td>0</td>\n",
       "      <td>0</td>\n",
       "      <td>0</td>\n",
       "      <td>0</td>\n",
       "      <td>0</td>\n",
       "      <td>0</td>\n",
       "      <td>0</td>\n",
       "      <td>1</td>\n",
       "      <td>1</td>\n",
       "      <td>0</td>\n",
       "      <td>0</td>\n",
       "    </tr>\n",
       "    <tr>\n",
       "      <th>Doc3</th>\n",
       "      <td>0</td>\n",
       "      <td>0</td>\n",
       "      <td>1</td>\n",
       "      <td>0</td>\n",
       "      <td>1</td>\n",
       "      <td>1</td>\n",
       "      <td>0</td>\n",
       "      <td>0</td>\n",
       "      <td>1</td>\n",
       "      <td>1</td>\n",
       "      <td>0</td>\n",
       "      <td>1</td>\n",
       "      <td>0</td>\n",
       "      <td>1</td>\n",
       "      <td>1</td>\n",
       "      <td>0</td>\n",
       "      <td>0</td>\n",
       "      <td>1</td>\n",
       "      <td>0</td>\n",
       "    </tr>\n",
       "  </tbody>\n",
       "</table>\n",
       "</div>"
      ],
      "text/plain": [
       "      100mg  30mg  abrophyll  abroxy  advised  alcohol  capsule  cause  \\\n",
       "Doc1      0     1          0       0        0        1        0      0   \n",
       "Doc2      1     0          0       1        0        1        1      1   \n",
       "Doc3      0     0          1       0        1        1        0      0   \n",
       "\n",
       "      caution  consult  consume  consuming  dep  dm  doctor  drowsiness  \\\n",
       "Doc1        0        0        1          0    1   0       0           0   \n",
       "Doc2        0        0        0          0    0   0       0           1   \n",
       "Doc3        1        1        0          1    0   1       1           0   \n",
       "\n",
       "      excessive  tablet  unsafe  \n",
       "Doc1          0       1       1  \n",
       "Doc2          1       0       0  \n",
       "Doc3          0       1       0  "
      ]
     },
     "execution_count": 37,
     "metadata": {},
     "output_type": "execute_result"
    }
   ],
   "source": [
    "# check with original count vectorizor\n",
    "pd.DataFrame(data = document_term_matrix.toarray(),index = ['Doc1','Doc2','Doc3'],columns = terms)"
   ]
  },
  {
   "cell_type": "markdown",
   "id": "6c92049f",
   "metadata": {},
   "source": [
    "So far we have been able to calculate the count vectorization using simple math."
   ]
  },
  {
   "cell_type": "markdown",
   "id": "49c6d833",
   "metadata": {},
   "source": [
    "## Define a function to calculate TF-IDF"
   ]
  },
  {
   "cell_type": "code",
   "execution_count": 39,
   "id": "4d3c20a0",
   "metadata": {},
   "outputs": [],
   "source": [
    "# our simulated tf-idf function\n",
    "def ski_tfid(value,samples):\n",
    "    \"\"\"document frequency.\"\"\"\n",
    "    df = (value/samples) \n",
    "    #  idf(t) = log [ (1 + n) / (1 + df(t)) ] + 1\n",
    "    idf = np.log( (1 + samples) / (1 + df)) + 1\n",
    "    return df*idf"
   ]
  },
  {
   "cell_type": "markdown",
   "id": "9ead54a0",
   "metadata": {},
   "source": [
    "Apply this function to each of the element in pandas data frame we created based on our calculation."
   ]
  },
  {
   "cell_type": "code",
   "execution_count": 40,
   "id": "2d66aa69",
   "metadata": {},
   "outputs": [
    {
     "data": {
      "text/html": [
       "<div>\n",
       "<style scoped>\n",
       "    .dataframe tbody tr th:only-of-type {\n",
       "        vertical-align: middle;\n",
       "    }\n",
       "\n",
       "    .dataframe tbody tr th {\n",
       "        vertical-align: top;\n",
       "    }\n",
       "\n",
       "    .dataframe thead th {\n",
       "        text-align: right;\n",
       "    }\n",
       "</style>\n",
       "<table border=\"1\" class=\"dataframe\">\n",
       "  <thead>\n",
       "    <tr style=\"text-align: right;\">\n",
       "      <th></th>\n",
       "      <th>100mg</th>\n",
       "      <th>30mg</th>\n",
       "      <th>abrophyll</th>\n",
       "      <th>abroxy</th>\n",
       "      <th>advised</th>\n",
       "      <th>alcohol</th>\n",
       "      <th>capsule</th>\n",
       "      <th>cause</th>\n",
       "      <th>caution</th>\n",
       "      <th>consult</th>\n",
       "      <th>consume</th>\n",
       "      <th>consuming</th>\n",
       "      <th>dep</th>\n",
       "      <th>dm</th>\n",
       "      <th>doctor</th>\n",
       "      <th>drowsiness</th>\n",
       "      <th>excessive</th>\n",
       "      <th>tablet</th>\n",
       "      <th>unsafe</th>\n",
       "    </tr>\n",
       "  </thead>\n",
       "  <tbody>\n",
       "    <tr>\n",
       "      <th>Doc1</th>\n",
       "      <td>0.000000</td>\n",
       "      <td>0.699537</td>\n",
       "      <td>0.000000</td>\n",
       "      <td>0.000000</td>\n",
       "      <td>0.000000</td>\n",
       "      <td>0.699537</td>\n",
       "      <td>0.000000</td>\n",
       "      <td>0.000000</td>\n",
       "      <td>0.000000</td>\n",
       "      <td>0.000000</td>\n",
       "      <td>0.699537</td>\n",
       "      <td>0.000000</td>\n",
       "      <td>0.699537</td>\n",
       "      <td>0.000000</td>\n",
       "      <td>0.000000</td>\n",
       "      <td>0.000000</td>\n",
       "      <td>0.000000</td>\n",
       "      <td>0.699537</td>\n",
       "      <td>0.699537</td>\n",
       "    </tr>\n",
       "    <tr>\n",
       "      <th>Doc2</th>\n",
       "      <td>0.699537</td>\n",
       "      <td>0.000000</td>\n",
       "      <td>0.000000</td>\n",
       "      <td>0.699537</td>\n",
       "      <td>0.000000</td>\n",
       "      <td>0.699537</td>\n",
       "      <td>0.699537</td>\n",
       "      <td>0.699537</td>\n",
       "      <td>0.000000</td>\n",
       "      <td>0.000000</td>\n",
       "      <td>0.000000</td>\n",
       "      <td>0.000000</td>\n",
       "      <td>0.000000</td>\n",
       "      <td>0.000000</td>\n",
       "      <td>0.000000</td>\n",
       "      <td>0.699537</td>\n",
       "      <td>0.699537</td>\n",
       "      <td>0.000000</td>\n",
       "      <td>0.000000</td>\n",
       "    </tr>\n",
       "    <tr>\n",
       "      <th>Doc3</th>\n",
       "      <td>0.000000</td>\n",
       "      <td>0.000000</td>\n",
       "      <td>0.699537</td>\n",
       "      <td>0.000000</td>\n",
       "      <td>0.699537</td>\n",
       "      <td>0.699537</td>\n",
       "      <td>0.000000</td>\n",
       "      <td>0.000000</td>\n",
       "      <td>0.699537</td>\n",
       "      <td>0.699537</td>\n",
       "      <td>0.000000</td>\n",
       "      <td>0.699537</td>\n",
       "      <td>0.000000</td>\n",
       "      <td>0.699537</td>\n",
       "      <td>0.699537</td>\n",
       "      <td>0.000000</td>\n",
       "      <td>0.000000</td>\n",
       "      <td>0.699537</td>\n",
       "      <td>0.000000</td>\n",
       "    </tr>\n",
       "  </tbody>\n",
       "</table>\n",
       "</div>"
      ],
      "text/plain": [
       "         100mg      30mg  abrophyll    abroxy   advised   alcohol   capsule  \\\n",
       "Doc1  0.000000  0.699537   0.000000  0.000000  0.000000  0.699537  0.000000   \n",
       "Doc2  0.699537  0.000000   0.000000  0.699537  0.000000  0.699537  0.699537   \n",
       "Doc3  0.000000  0.000000   0.699537  0.000000  0.699537  0.699537  0.000000   \n",
       "\n",
       "         cause   caution   consult   consume  consuming       dep        dm  \\\n",
       "Doc1  0.000000  0.000000  0.000000  0.699537   0.000000  0.699537  0.000000   \n",
       "Doc2  0.699537  0.000000  0.000000  0.000000   0.000000  0.000000  0.000000   \n",
       "Doc3  0.000000  0.699537  0.699537  0.000000   0.699537  0.000000  0.699537   \n",
       "\n",
       "        doctor  drowsiness  excessive    tablet    unsafe  \n",
       "Doc1  0.000000    0.000000   0.000000  0.699537  0.699537  \n",
       "Doc2  0.000000    0.699537   0.699537  0.000000  0.000000  \n",
       "Doc3  0.699537    0.000000   0.000000  0.699537  0.000000  "
      ]
     },
     "execution_count": 40,
     "metadata": {},
     "output_type": "execute_result"
    }
   ],
   "source": [
    "res = manually_create_df.apply(lambda x: ski_tfid(x,manually_create_df.shape[0]))\n",
    "res"
   ]
  },
  {
   "cell_type": "markdown",
   "id": "aa7e7c87",
   "metadata": {},
   "source": [
    "## Cosine Similarity"
   ]
  },
  {
   "cell_type": "markdown",
   "id": "5c5f795a",
   "metadata": {},
   "source": [
    "Let's say we have 4 documents as below:-\n",
    "\n",
    "- document 1 which has **3** times appearing **'iphone'** term and 1 times appearing **'galaxy'** term\n",
    "- document 2 which has **2** times appearing **'iphone'** term and 0 times appearing **'galaxy'** term\n",
    "- docuemnt 3 which has **1** times appearing **'iphone'** term and 3 times appearing **'galaxy'** term\n",
    "- docuemnt 4 which has **1** times appearing **'iphone'** term and 2 times appearing **'galaxy'** term\n",
    "\n",
    "Let's create a dataframe with these values"
   ]
  },
  {
   "cell_type": "code",
   "execution_count": 76,
   "id": "c6614bd0",
   "metadata": {},
   "outputs": [
    {
     "data": {
      "text/html": [
       "<div>\n",
       "<style scoped>\n",
       "    .dataframe tbody tr th:only-of-type {\n",
       "        vertical-align: middle;\n",
       "    }\n",
       "\n",
       "    .dataframe tbody tr th {\n",
       "        vertical-align: top;\n",
       "    }\n",
       "\n",
       "    .dataframe thead th {\n",
       "        text-align: right;\n",
       "    }\n",
       "</style>\n",
       "<table border=\"1\" class=\"dataframe\">\n",
       "  <thead>\n",
       "    <tr style=\"text-align: right;\">\n",
       "      <th></th>\n",
       "      <th>iphone</th>\n",
       "      <th>galaxy</th>\n",
       "    </tr>\n",
       "  </thead>\n",
       "  <tbody>\n",
       "    <tr>\n",
       "      <th>document-1</th>\n",
       "      <td>3</td>\n",
       "      <td>1</td>\n",
       "    </tr>\n",
       "    <tr>\n",
       "      <th>document-2</th>\n",
       "      <td>2</td>\n",
       "      <td>0</td>\n",
       "    </tr>\n",
       "    <tr>\n",
       "      <th>document-3</th>\n",
       "      <td>1</td>\n",
       "      <td>3</td>\n",
       "    </tr>\n",
       "    <tr>\n",
       "      <th>document-4</th>\n",
       "      <td>1</td>\n",
       "      <td>2</td>\n",
       "    </tr>\n",
       "  </tbody>\n",
       "</table>\n",
       "</div>"
      ],
      "text/plain": [
       "            iphone  galaxy\n",
       "document-1       3       1\n",
       "document-2       2       0\n",
       "document-3       1       3\n",
       "document-4       1       2"
      ]
     },
     "execution_count": 76,
     "metadata": {},
     "output_type": "execute_result"
    }
   ],
   "source": [
    "df = pd.DataFrame([\n",
    "        {'iphone':3, 'galaxy':1} , # iphone document\n",
    "        {'iphone':2, 'galaxy':0} , # iphone document\n",
    "        {'iphone':1, 'galaxy':3} , # galaxy document\n",
    "        {'iphone':1, 'galaxy':2}   # galaxy document\n",
    "    ],\n",
    "    index = [\n",
    "        'document-1',\n",
    "        'document-2',\n",
    "        'document-3',\n",
    "        'document-4',\n",
    "    ]\n",
    ")\n",
    "df"
   ]
  },
  {
   "cell_type": "markdown",
   "id": "83f40fc0",
   "metadata": {},
   "source": [
    "- document-1 (iphone) and document-2 (iphone) - they are similar\n",
    "- document-1 (iphone) and document-3 (galaxy) - they are not similar\n",
    "- document-1 (iphone) and document-4 (galaxy) - they are not similar\n",
    "- document-2 (iphone) and document-3 (galaxy) - they are not similar\n",
    "- document-2 (iphone) and document-4 (galaxy) - they are not similar\n",
    "- document-3 (galaxy) and document-4 (galaxy) - they are similar\n",
    "\n",
    "Only 2 document is similar they are:-\n",
    "\n",
    "- document-1 and document-2 \n",
    "- document-3 and document-4\n",
    "\n",
    "Let's check the similarity score and distance for these documents"
   ]
  },
  {
   "cell_type": "code",
   "execution_count": 78,
   "id": "3feeea56",
   "metadata": {},
   "outputs": [
    {
     "name": "stdout",
     "output_type": "stream",
     "text": [
      "[[0.9486833]]\n",
      "[[0.0513167]]\n"
     ]
    }
   ],
   "source": [
    "## comparing document-1 and document-2\n",
    "sim = cosine_similarity(df['document-1':'document-1'],df['document-2':'document-2'])\n",
    "dis = cosine_distances(df['document-1':'document-1'],df['document-2':'document-2'])\n",
    "print('cosine similarity',sim)\n",
    "print('cosine distance',dis)"
   ]
  },
  {
   "cell_type": "code",
   "execution_count": 86,
   "id": "25bfe73f",
   "metadata": {},
   "outputs": [
    {
     "name": "stdout",
     "output_type": "stream",
     "text": [
      "[[0.98994949]]\n",
      "[[0.01005051]]\n"
     ]
    }
   ],
   "source": [
    "## comparing document-3 and document-4\n",
    "sim = cosine_similarity(df['document-3':'document-3'],df['document-4':'document-4'])\n",
    "dis = cosine_distances(df['document-3':'document-3'],df['document-4':'document-4'])\n",
    "print('cosine similarity',sim)\n",
    "print('cosine distance',dis)"
   ]
  },
  {
   "cell_type": "code",
   "execution_count": 81,
   "id": "35e33bb8",
   "metadata": {},
   "outputs": [
    {
     "name": "stdout",
     "output_type": "stream",
     "text": [
      "[[0.6]]\n",
      "[[0.4]]\n"
     ]
    }
   ],
   "source": [
    "## comparing document-1 and document-3\n",
    "sim = cosine_similarity(df['document-1':'document-1'],df['document-3':'document-3'])\n",
    "dis = cosine_distances(df['document-1':'document-1'],df['document-3':'document-3'])\n",
    "print('cosine similarity',sim)\n",
    "print('cosine distance',dis)"
   ]
  },
  {
   "cell_type": "code",
   "execution_count": 82,
   "id": "69b20271",
   "metadata": {},
   "outputs": [
    {
     "name": "stdout",
     "output_type": "stream",
     "text": [
      "[[0.70710678]]\n",
      "[[0.29289322]]\n"
     ]
    }
   ],
   "source": [
    "## comparing document-1 and document-4\n",
    "sim = cosine_similarity(df['document-1':'document-1'],df['document-4':'document-4'])\n",
    "dis = cosine_distances(df['document-1':'document-1'],df['document-4':'document-4'])\n",
    "print('cosine similarity',sim)\n",
    "print('cosine distance',dis)"
   ]
  },
  {
   "cell_type": "code",
   "execution_count": 83,
   "id": "5fb1aff3",
   "metadata": {},
   "outputs": [
    {
     "name": "stdout",
     "output_type": "stream",
     "text": [
      "[[0.31622777]]\n",
      "[[0.68377223]]\n"
     ]
    }
   ],
   "source": [
    "## comparing document-2 and document-3\n",
    "sim = cosine_similarity(df['document-2':'document-2'],df['document-3':'document-3'])\n",
    "dis = cosine_distances(df['document-2':'document-2'],df['document-3':'document-3'])\n",
    "print('cosine similarity',sim)\n",
    "print('cosine distance',dis)"
   ]
  },
  {
   "cell_type": "code",
   "execution_count": 84,
   "id": "43ffbec5",
   "metadata": {},
   "outputs": [
    {
     "name": "stdout",
     "output_type": "stream",
     "text": [
      "[[0.4472136]]\n",
      "[[0.5527864]]\n"
     ]
    }
   ],
   "source": [
    "## comparing document-2 and document-4\n",
    "sim = cosine_similarity(df['document-2':'document-2'],df['document-4':'document-4'])\n",
    "dis = cosine_distances(df['document-2':'document-2'],df['document-4':'document-4'])\n",
    "print('cosine similarity',sim)\n",
    "print('cosine distance',dis)"
   ]
  },
  {
   "cell_type": "markdown",
   "id": "8eafca9b",
   "metadata": {},
   "source": [
    "Hope you enjoyed this..."
   ]
  },
  {
   "cell_type": "code",
   "execution_count": null,
   "id": "4476f6c2",
   "metadata": {},
   "outputs": [],
   "source": []
  }
 ],
 "metadata": {
  "kernelspec": {
   "display_name": "Python 3 (ipykernel)",
   "language": "python",
   "name": "python3"
  },
  "language_info": {
   "codemirror_mode": {
    "name": "ipython",
    "version": 3
   },
   "file_extension": ".py",
   "mimetype": "text/x-python",
   "name": "python",
   "nbconvert_exporter": "python",
   "pygments_lexer": "ipython3",
   "version": "3.9.15"
  }
 },
 "nbformat": 4,
 "nbformat_minor": 5
}
