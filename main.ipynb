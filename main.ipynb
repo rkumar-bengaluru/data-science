{
 "cells": [
  {
   "cell_type": "code",
   "execution_count": 22,
   "id": "6b9b4154-8549-4099-9164-36ddfff511bb",
   "metadata": {},
   "outputs": [],
   "source": [
    "import numpy as np"
   ]
  },
  {
   "cell_type": "code",
   "execution_count": 27,
   "id": "e1f90a69-07e7-4865-938a-ce14cacb074d",
   "metadata": {},
   "outputs": [
    {
     "data": {
      "text/plain": [
       "array([103])"
      ]
     },
     "execution_count": 27,
     "metadata": {},
     "output_type": "execute_result"
    }
   ],
   "source": [
    "np.random.randint(97,122,1)"
   ]
  },
  {
   "cell_type": "code",
   "execution_count": null,
   "id": "ee8a1bf8-7ea3-43c1-a114-3fc9832b4e99",
   "metadata": {},
   "outputs": [],
   "source": [
    "df.info()"
   ]
  },
  {
   "cell_type": "code",
   "execution_count": null,
   "id": "cd19fa0d-a784-4175-86ef-7b8fb1cc228d",
   "metadata": {},
   "outputs": [],
   "source": [
    "#Check for missing values\n",
    "df.isnull().sum()"
   ]
  },
  {
   "cell_type": "code",
   "execution_count": null,
   "id": "7eafc8c4-2b1d-4aec-8893-18e32dab073e",
   "metadata": {},
   "outputs": [],
   "source": [
    "#Convert date datatype into datetime \n",
    "df['Date'] = pd.to_datetime(df['Date'])"
   ]
  },
  {
   "cell_type": "code",
   "execution_count": null,
   "id": "aa60c45d-fe12-4390-96f1-9bf4326f1310",
   "metadata": {},
   "outputs": [],
   "source": [
    "data = df[['Date', 'Close']]\n",
    "data = data.set_index('Date')"
   ]
  },
  {
   "cell_type": "code",
   "execution_count": null,
   "id": "67bc7e2f-2159-459d-b0b7-c34342616aaf",
   "metadata": {},
   "outputs": [],
   "source": [
    "plt.figure(figsize = (15,5))\n",
    "data['Close'].plot();"
   ]
  },
  {
   "cell_type": "code",
   "execution_count": 1,
   "id": "fa59a99e-e04d-4d86-801f-0cf5186813ae",
   "metadata": {},
   "outputs": [
    {
     "name": "stdout",
     "output_type": "stream",
     "text": [
      "['d', 'u']\n"
     ]
    }
   ],
   "source": [
    "searchStr = 'du'\n",
    "all_chars = [char for char in searchStr]\n",
    "print(all_chars)"
   ]
  },
  {
   "cell_type": "code",
   "execution_count": 21,
   "id": "6b9a58c0",
   "metadata": {},
   "outputs": [
    {
     "ename": "TypeError",
     "evalue": "'module' object is not callable",
     "output_type": "error",
     "traceback": [
      "\u001b[1;31m---------------------------------------------------------------------------\u001b[0m",
      "\u001b[1;31mTypeError\u001b[0m                                 Traceback (most recent call last)",
      "Input \u001b[1;32mIn [21]\u001b[0m, in \u001b[0;36m<cell line: 3>\u001b[1;34m()\u001b[0m\n\u001b[0;32m      1\u001b[0m \u001b[38;5;28;01mimport\u001b[39;00m \u001b[38;5;21;01mnumpy\u001b[39;00m \u001b[38;5;28;01mas\u001b[39;00m \u001b[38;5;21;01mnp\u001b[39;00m\n\u001b[1;32m----> 3\u001b[0m \u001b[43mnp\u001b[49m\u001b[38;5;241;43m.\u001b[39;49m\u001b[43mrandom\u001b[49m\u001b[43m(\u001b[49m\u001b[38;5;241;43m0\u001b[39;49m\u001b[43m,\u001b[49m\u001b[38;5;241;43m1\u001b[39;49m\u001b[43m,\u001b[49m\u001b[38;5;241;43m5\u001b[39;49m\u001b[43m)\u001b[49m\n",
      "\u001b[1;31mTypeError\u001b[0m: 'module' object is not callable"
     ]
    }
   ],
   "source": [
    "import numpy as np\n",
    "\n",
    "np.random(0,1,5)"
   ]
  },
  {
   "cell_type": "code",
   "execution_count": 91,
   "id": "a48cc33c",
   "metadata": {},
   "outputs": [],
   "source": [
    "import copy \n",
    "import numpy as np\n",
    "class GenerateText:\n",
    "    def __init__(self, k):\n",
    "        self.k = k\n",
    "        \n",
    "    def int2char(self,i):\n",
    "        return chr(i)\n",
    "    \n",
    "    def char2int(self,c):\n",
    "        return ord(c)\n",
    "  \n",
    "\n",
    "    def predict_next_char_02(self, input_char):\n",
    "        indices = np.random.randint(97,122,self.k)\n",
    "        res = []\n",
    "        for ind in indices:\n",
    "            n = copy.copy(input_char)\n",
    "            n += self.int2char(ind)\n",
    "            res.append(''.join(n))\n",
    "        return res\n",
    "    \n",
    "    def predict_next_char_01(self, input_char):\n",
    "        indices = np.random.randint(97,122,self.k)\n",
    "        return indices\n",
    "    \n",
    "    def predict_text(self,searchStr):\n",
    "      predicted = []\n",
    "      res = []\n",
    "      t = 7\n",
    "      query = []\n",
    "      query.append(searchStr)\n",
    "      res.append(searchStr)\n",
    "      while t > 0:\n",
    "            print('iteration',t)\n",
    "            t = t -1\n",
    "            times = len(query)\n",
    "            subres = []\n",
    "            for i in range(times):\n",
    "                subres = self.generate_text_01(query[i])\n",
    "                res.append(subres)\n",
    "            query = subres\n",
    "                \n",
    "      return res\n",
    "\n",
    "    def generate_text_01(self, searchStr,max_chars=4):\n",
    "        res = []\n",
    "        all_chars = [char for char in searchStr]\n",
    "        c = len(all_chars)\n",
    "    \n",
    "        # build up the hidden state using the initial prime\n",
    "        char_pred = self.predict_next_char_01(all_chars[-1])\n",
    "        \n",
    "            \n",
    "        for c in char_pred:\n",
    "            n = copy.copy(all_chars)\n",
    "            n.append( self.int2char(c)) \n",
    "            res.append(\"\".join(n))\n",
    "        return res"
   ]
  },
  {
   "cell_type": "code",
   "execution_count": 92,
   "id": "bd79ad30",
   "metadata": {},
   "outputs": [
    {
     "name": "stdout",
     "output_type": "stream",
     "text": [
      "iteration 7\n",
      "iteration 6\n",
      "iteration 5\n",
      "iteration 4\n",
      "iteration 3\n",
      "iteration 2\n",
      "iteration 1\n"
     ]
    },
    {
     "data": {
      "text/plain": [
       "['du',\n",
       " ['dus', 'duc', 'duu'],\n",
       " ['dusp', 'dusp', 'dusk'],\n",
       " ['ducl', 'ducf', 'ducf'],\n",
       " ['duud', 'duuk', 'duuw'],\n",
       " ['duudc', 'duudw', 'duudq'],\n",
       " ['duuki', 'duuke', 'duukc'],\n",
       " ['duuwb', 'duuwi', 'duuwi'],\n",
       " ['duuwbi', 'duuwby', 'duuwbf'],\n",
       " ['duuwid', 'duuwio', 'duuwin'],\n",
       " ['duuwiv', 'duuwil', 'duuwia'],\n",
       " ['duuwivx', 'duuwivm', 'duuwivo'],\n",
       " ['duuwilx', 'duuwilq', 'duuwils'],\n",
       " ['duuwiag', 'duuwias', 'duuwiar'],\n",
       " ['duuwiaga', 'duuwiago', 'duuwiagm'],\n",
       " ['duuwiase', 'duuwiask', 'duuwiase'],\n",
       " ['duuwiarq', 'duuwiarq', 'duuwiarf'],\n",
       " ['duuwiarqp', 'duuwiarqi', 'duuwiarqf'],\n",
       " ['duuwiarqk', 'duuwiarqy', 'duuwiarqx'],\n",
       " ['duuwiarfu', 'duuwiarfh', 'duuwiarff']]"
      ]
     },
     "execution_count": 92,
     "metadata": {},
     "output_type": "execute_result"
    }
   ],
   "source": [
    "g = GenerateText(3)\n",
    "g.predict_text('du')"
   ]
  },
  {
   "cell_type": "code",
   "execution_count": null,
   "id": "03aa3805",
   "metadata": {},
   "outputs": [],
   "source": []
  }
 ],
 "metadata": {
  "kernelspec": {
   "display_name": "Python 3 (ipykernel)",
   "language": "python",
   "name": "python3"
  },
  "language_info": {
   "codemirror_mode": {
    "name": "ipython",
    "version": 3
   },
   "file_extension": ".py",
   "mimetype": "text/x-python",
   "name": "python",
   "nbconvert_exporter": "python",
   "pygments_lexer": "ipython3",
   "version": "3.9.15"
  }
 },
 "nbformat": 4,
 "nbformat_minor": 5
}
