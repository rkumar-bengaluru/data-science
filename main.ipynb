{
 "cells": [
  {
   "cell_type": "code",
   "execution_count": null,
   "id": "6b9b4154-8549-4099-9164-36ddfff511bb",
   "metadata": {},
   "outputs": [],
   "source": [
    "import pandas as pd\n",
    "import matplotlib.pyplot as plt\n",
    "\n",
    "df = pd.read_csv(\"NFLX.csv\")\n",
    "df.describe()"
   ]
  },
  {
   "cell_type": "code",
   "execution_count": null,
   "id": "e1f90a69-07e7-4865-938a-ce14cacb074d",
   "metadata": {},
   "outputs": [],
   "source": [
    "df.head(5)"
   ]
  },
  {
   "cell_type": "code",
   "execution_count": null,
   "id": "ee8a1bf8-7ea3-43c1-a114-3fc9832b4e99",
   "metadata": {},
   "outputs": [],
   "source": [
    "df.info()"
   ]
  },
  {
   "cell_type": "code",
   "execution_count": null,
   "id": "cd19fa0d-a784-4175-86ef-7b8fb1cc228d",
   "metadata": {},
   "outputs": [],
   "source": [
    "#Check for missing values\n",
    "df.isnull().sum()"
   ]
  },
  {
   "cell_type": "code",
   "execution_count": null,
   "id": "7eafc8c4-2b1d-4aec-8893-18e32dab073e",
   "metadata": {},
   "outputs": [],
   "source": [
    "#Convert date datatype into datetime \n",
    "df['Date'] = pd.to_datetime(df['Date'])"
   ]
  },
  {
   "cell_type": "code",
   "execution_count": null,
   "id": "aa60c45d-fe12-4390-96f1-9bf4326f1310",
   "metadata": {},
   "outputs": [],
   "source": [
    "data = df[['Date', 'Close']]\n",
    "data = data.set_index('Date')"
   ]
  },
  {
   "cell_type": "code",
   "execution_count": null,
   "id": "67bc7e2f-2159-459d-b0b7-c34342616aaf",
   "metadata": {},
   "outputs": [],
   "source": [
    "plt.figure(figsize = (15,5))\n",
    "data['Close'].plot();"
   ]
  },
  {
   "cell_type": "code",
   "execution_count": null,
   "id": "fa59a99e-e04d-4d86-801f-0cf5186813ae",
   "metadata": {},
   "outputs": [],
   "source": []
  }
 ],
 "metadata": {
  "kernelspec": {
   "display_name": "Python 3 (ipykernel)",
   "language": "python",
   "name": "python3"
  },
  "language_info": {
   "codemirror_mode": {
    "name": "ipython",
    "version": 3
   },
   "file_extension": ".py",
   "mimetype": "text/x-python",
   "name": "python",
   "nbconvert_exporter": "python",
   "pygments_lexer": "ipython3",
   "version": "3.10.8"
  }
 },
 "nbformat": 4,
 "nbformat_minor": 5
}
