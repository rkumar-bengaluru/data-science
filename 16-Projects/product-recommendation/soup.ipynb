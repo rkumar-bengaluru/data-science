{
 "cells": [
  {
   "cell_type": "code",
   "execution_count": 1,
   "id": "e574ffed",
   "metadata": {},
   "outputs": [],
   "source": [
    "#Basic Libraries\n",
    "import numpy as np\n",
    "import pandas as pd\n",
    "\n",
    "#Visualization Libraries\n",
    "import matplotlib.pyplot as plt\n",
    "import seaborn as sns\n",
    "import plotly.express as px\n",
    "\n",
    "#Text Handling Libraries\n",
    "import re\n",
    "from sklearn.feature_extraction.text import TfidfVectorizer, CountVectorizer\n",
    "from sklearn.metrics.pairwise import linear_kernel, cosine_similarity\n",
    "\n",
    "# clustering\n",
    "from sklearn.cluster import KMeans\n",
    "\n",
    "#\n",
    "from nltk.corpus import stopwords\n",
    "from nltk.tokenize import RegexpTokenizer"
   ]
  },
  {
   "cell_type": "code",
   "execution_count": 2,
   "id": "1328aeee",
   "metadata": {},
   "outputs": [],
   "source": [
    "# Function for removing NonAscii characters\n",
    "def _removeNonAscii(s):\n",
    "    return \"\".join(i for i in s if  ord(i)<128)\n",
    "\n",
    "# Function for converting into lower case\n",
    "def make_lower_case(text):\n",
    "    return text.lower()\n",
    "\n",
    "# Function for removing stop words\n",
    "def remove_stop_words(text):\n",
    "    text = text.split()\n",
    "    stops = set(stopwords.words(\"english\"))\n",
    "    text = [w for w in text if not w in stops]\n",
    "    text = \" \".join(text)\n",
    "    return text\n",
    "\n",
    "# Function for removing punctuation\n",
    "def remove_punctuation(text):\n",
    "    tokenizer = RegexpTokenizer(r'\\w+')\n",
    "    text = tokenizer.tokenize(text)\n",
    "    text = \" \".join(text)\n",
    "    return text\n",
    "\n",
    "# Function for removing the html tags\n",
    "def remove_html(text):\n",
    "    html_pattern = re.compile('<.*?>')\n",
    "    return html_pattern.sub(r'', text)"
   ]
  },
  {
   "cell_type": "code",
   "execution_count": 5,
   "id": "af541b21",
   "metadata": {},
   "outputs": [],
   "source": [
    "df = pd.read_csv('products.csv')\n",
    "df['product'] = df['product'].drop_duplicates()\n",
    "df = df.dropna()"
   ]
  },
  {
   "cell_type": "code",
   "execution_count": 6,
   "id": "4c8d3565",
   "metadata": {},
   "outputs": [
    {
     "data": {
      "text/html": [
       "<div>\n",
       "<style scoped>\n",
       "    .dataframe tbody tr th:only-of-type {\n",
       "        vertical-align: middle;\n",
       "    }\n",
       "\n",
       "    .dataframe tbody tr th {\n",
       "        vertical-align: top;\n",
       "    }\n",
       "\n",
       "    .dataframe thead th {\n",
       "        text-align: right;\n",
       "    }\n",
       "</style>\n",
       "<table border=\"1\" class=\"dataframe\">\n",
       "  <thead>\n",
       "    <tr style=\"text-align: right;\">\n",
       "      <th></th>\n",
       "      <th>level_0</th>\n",
       "      <th>index</th>\n",
       "      <th>product</th>\n",
       "      <th>category</th>\n",
       "      <th>sub_category</th>\n",
       "      <th>brand</th>\n",
       "      <th>sale_price</th>\n",
       "      <th>market_price</th>\n",
       "      <th>type</th>\n",
       "      <th>rating</th>\n",
       "      <th>description</th>\n",
       "    </tr>\n",
       "  </thead>\n",
       "  <tbody>\n",
       "    <tr>\n",
       "      <th>0</th>\n",
       "      <td>0</td>\n",
       "      <td>1</td>\n",
       "      <td>Garlic Oil - Vegetarian Capsule 500 mg</td>\n",
       "      <td>Beauty &amp; Hygiene</td>\n",
       "      <td>Hair Care</td>\n",
       "      <td>Sri Sri Ayurveda</td>\n",
       "      <td>220.0</td>\n",
       "      <td>220.0</td>\n",
       "      <td>Hair Oil &amp; Serum</td>\n",
       "      <td>4.1</td>\n",
       "      <td>This Product contains Garlic Oil that is known...</td>\n",
       "    </tr>\n",
       "    <tr>\n",
       "      <th>1</th>\n",
       "      <td>1</td>\n",
       "      <td>2</td>\n",
       "      <td>Water Bottle - Orange</td>\n",
       "      <td>Kitchen, Garden &amp; Pets</td>\n",
       "      <td>Storage &amp; Accessories</td>\n",
       "      <td>Mastercook</td>\n",
       "      <td>180.0</td>\n",
       "      <td>180.0</td>\n",
       "      <td>Water &amp; Fridge Bottles</td>\n",
       "      <td>2.3</td>\n",
       "      <td>Each product is microwave safe (without lid), ...</td>\n",
       "    </tr>\n",
       "    <tr>\n",
       "      <th>2</th>\n",
       "      <td>2</td>\n",
       "      <td>3</td>\n",
       "      <td>Brass Angle Deep - Plain, No.2</td>\n",
       "      <td>Cleaning &amp; Household</td>\n",
       "      <td>Pooja Needs</td>\n",
       "      <td>Trm</td>\n",
       "      <td>119.0</td>\n",
       "      <td>250.0</td>\n",
       "      <td>Lamp &amp; Lamp Oil</td>\n",
       "      <td>3.4</td>\n",
       "      <td>A perfect gift for all occasions, be it your m...</td>\n",
       "    </tr>\n",
       "    <tr>\n",
       "      <th>3</th>\n",
       "      <td>3</td>\n",
       "      <td>4</td>\n",
       "      <td>Cereal Flip Lid Container/Storage Jar - Assort...</td>\n",
       "      <td>Cleaning &amp; Household</td>\n",
       "      <td>Bins &amp; Bathroom Ware</td>\n",
       "      <td>Nakoda</td>\n",
       "      <td>149.0</td>\n",
       "      <td>176.0</td>\n",
       "      <td>Laundry, Storage Baskets</td>\n",
       "      <td>3.7</td>\n",
       "      <td>Multipurpose container with an attractive desi...</td>\n",
       "    </tr>\n",
       "    <tr>\n",
       "      <th>4</th>\n",
       "      <td>4</td>\n",
       "      <td>5</td>\n",
       "      <td>Creme Soft Soap - For Hands &amp; Body</td>\n",
       "      <td>Beauty &amp; Hygiene</td>\n",
       "      <td>Bath &amp; Hand Wash</td>\n",
       "      <td>Nivea</td>\n",
       "      <td>162.0</td>\n",
       "      <td>162.0</td>\n",
       "      <td>Bathing Bars &amp; Soaps</td>\n",
       "      <td>4.4</td>\n",
       "      <td>Nivea Creme Soft Soap gives your skin the best...</td>\n",
       "    </tr>\n",
       "  </tbody>\n",
       "</table>\n",
       "</div>"
      ],
      "text/plain": [
       "   level_0  index                                            product  \\\n",
       "0        0      1             Garlic Oil - Vegetarian Capsule 500 mg   \n",
       "1        1      2                              Water Bottle - Orange   \n",
       "2        2      3                     Brass Angle Deep - Plain, No.2   \n",
       "3        3      4  Cereal Flip Lid Container/Storage Jar - Assort...   \n",
       "4        4      5                 Creme Soft Soap - For Hands & Body   \n",
       "\n",
       "                 category           sub_category              brand  \\\n",
       "0        Beauty & Hygiene              Hair Care  Sri Sri Ayurveda    \n",
       "1  Kitchen, Garden & Pets  Storage & Accessories         Mastercook   \n",
       "2    Cleaning & Household            Pooja Needs                Trm   \n",
       "3    Cleaning & Household   Bins & Bathroom Ware             Nakoda   \n",
       "4        Beauty & Hygiene       Bath & Hand Wash              Nivea   \n",
       "\n",
       "   sale_price  market_price                      type  rating  \\\n",
       "0       220.0         220.0          Hair Oil & Serum     4.1   \n",
       "1       180.0         180.0    Water & Fridge Bottles     2.3   \n",
       "2       119.0         250.0           Lamp & Lamp Oil     3.4   \n",
       "3       149.0         176.0  Laundry, Storage Baskets     3.7   \n",
       "4       162.0         162.0      Bathing Bars & Soaps     4.4   \n",
       "\n",
       "                                         description  \n",
       "0  This Product contains Garlic Oil that is known...  \n",
       "1  Each product is microwave safe (without lid), ...  \n",
       "2  A perfect gift for all occasions, be it your m...  \n",
       "3  Multipurpose container with an attractive desi...  \n",
       "4  Nivea Creme Soft Soap gives your skin the best...  "
      ]
     },
     "execution_count": 6,
     "metadata": {},
     "output_type": "execute_result"
    }
   ],
   "source": [
    "df_clean = df.reset_index()\n",
    "products = df_clean['product']\n",
    "indices = pd.Series(df_clean.index, index=df_clean['product'])\n",
    "df_clean.head()"
   ]
  },
  {
   "cell_type": "code",
   "execution_count": 8,
   "id": "72eb11c4",
   "metadata": {},
   "outputs": [
    {
     "data": {
      "text/plain": [
       "'This Product contains Garlic Oil that is known to help proper digestion, maintain proper cholesterol levels, support cardiovascular and also build immunity.  For Beauty tips, tricks & more visit https://bigbasket.blog/ Beauty & Hygiene Hair Care Sri Sri Ayurveda  Hair Oil & Serum'"
      ]
     },
     "execution_count": 8,
     "metadata": {},
     "output_type": "execute_result"
    }
   ],
   "source": [
    "df_clean['soup'] = df_clean['description'] + ' ' + df_clean['category'] + ' ' +df_clean['sub_category'] + ' ' + df_clean['brand'] + ' ' +df_clean['type']\n",
    "df_clean['soup'][0]"
   ]
  },
  {
   "cell_type": "code",
   "execution_count": 11,
   "id": "f0034211",
   "metadata": {},
   "outputs": [
    {
     "data": {
      "text/plain": [
       "'this product contains garlic oil that is known to help proper digestion maintain proper cholesterol levels support cardiovascular and also build immunity for beauty tips tricks more visit https bigbasket blog beauty hygiene hair care sri sri ayurveda hair oil serum'"
      ]
     },
     "execution_count": 11,
     "metadata": {},
     "output_type": "execute_result"
    }
   ],
   "source": [
    "# Applying all the functions in description and storing as a cleaned_desc\n",
    "df_clean['soup'] = df_clean['soup'].apply(_removeNonAscii)\n",
    "df_clean['soup'] = df_clean.soup.apply(func = make_lower_case)\n",
    "df_clean['soup'] = df_clean.soup.apply(func=remove_punctuation)\n",
    "df_clean['soup'] = df_clean.soup.apply(func=remove_html)\n",
    "df_clean['soup'][0]"
   ]
  },
  {
   "cell_type": "code",
   "execution_count": 12,
   "id": "d845a8a4",
   "metadata": {},
   "outputs": [
    {
     "data": {
      "text/html": [
       "<div>\n",
       "<style scoped>\n",
       "    .dataframe tbody tr th:only-of-type {\n",
       "        vertical-align: middle;\n",
       "    }\n",
       "\n",
       "    .dataframe tbody tr th {\n",
       "        vertical-align: top;\n",
       "    }\n",
       "\n",
       "    .dataframe thead th {\n",
       "        text-align: right;\n",
       "    }\n",
       "</style>\n",
       "<table border=\"1\" class=\"dataframe\">\n",
       "  <thead>\n",
       "    <tr style=\"text-align: right;\">\n",
       "      <th></th>\n",
       "      <th>soup</th>\n",
       "      <th>product</th>\n",
       "    </tr>\n",
       "  </thead>\n",
       "  <tbody>\n",
       "    <tr>\n",
       "      <th>0</th>\n",
       "      <td>this product contains garlic oil that is known...</td>\n",
       "      <td>Garlic Oil - Vegetarian Capsule 500 mg</td>\n",
       "    </tr>\n",
       "    <tr>\n",
       "      <th>1</th>\n",
       "      <td>each product is microwave safe without lid ref...</td>\n",
       "      <td>Water Bottle - Orange</td>\n",
       "    </tr>\n",
       "    <tr>\n",
       "      <th>2</th>\n",
       "      <td>a perfect gift for all occasions be it your mo...</td>\n",
       "      <td>Brass Angle Deep - Plain, No.2</td>\n",
       "    </tr>\n",
       "    <tr>\n",
       "      <th>3</th>\n",
       "      <td>multipurpose container with an attractive desi...</td>\n",
       "      <td>Cereal Flip Lid Container/Storage Jar - Assort...</td>\n",
       "    </tr>\n",
       "    <tr>\n",
       "      <th>4</th>\n",
       "      <td>nivea creme soft soap gives your skin the best...</td>\n",
       "      <td>Creme Soft Soap - For Hands &amp; Body</td>\n",
       "    </tr>\n",
       "    <tr>\n",
       "      <th>...</th>\n",
       "      <td>...</td>\n",
       "      <td>...</td>\n",
       "    </tr>\n",
       "    <tr>\n",
       "      <th>16019</th>\n",
       "      <td>this round toilet brush is made up of virgin q...</td>\n",
       "      <td>Toilet Cleaning Brush - Round With Holder (Big)</td>\n",
       "    </tr>\n",
       "    <tr>\n",
       "      <th>16020</th>\n",
       "      <td>organic tattva garam masala is a famous spice ...</td>\n",
       "      <td>Organic Powder - Garam Masala</td>\n",
       "    </tr>\n",
       "    <tr>\n",
       "      <th>16021</th>\n",
       "      <td>layerr brings you wottagirl classic fragrant b...</td>\n",
       "      <td>Wottagirl! Perfume Spray - Heaven, Classic</td>\n",
       "    </tr>\n",
       "    <tr>\n",
       "      <th>16022</th>\n",
       "      <td>we have taken the richness of sweet potatoes s...</td>\n",
       "      <td>Peri-Peri Sweet Potato Chips</td>\n",
       "    </tr>\n",
       "    <tr>\n",
       "      <th>16023</th>\n",
       "      <td>tetley green tea with its refreshing pure orig...</td>\n",
       "      <td>Green Tea - Pure Original</td>\n",
       "    </tr>\n",
       "  </tbody>\n",
       "</table>\n",
       "<p>16024 rows × 2 columns</p>\n",
       "</div>"
      ],
      "text/plain": [
       "                                                    soup  \\\n",
       "0      this product contains garlic oil that is known...   \n",
       "1      each product is microwave safe without lid ref...   \n",
       "2      a perfect gift for all occasions be it your mo...   \n",
       "3      multipurpose container with an attractive desi...   \n",
       "4      nivea creme soft soap gives your skin the best...   \n",
       "...                                                  ...   \n",
       "16019  this round toilet brush is made up of virgin q...   \n",
       "16020  organic tattva garam masala is a famous spice ...   \n",
       "16021  layerr brings you wottagirl classic fragrant b...   \n",
       "16022  we have taken the richness of sweet potatoes s...   \n",
       "16023  tetley green tea with its refreshing pure orig...   \n",
       "\n",
       "                                                 product  \n",
       "0                 Garlic Oil - Vegetarian Capsule 500 mg  \n",
       "1                                  Water Bottle - Orange  \n",
       "2                         Brass Angle Deep - Plain, No.2  \n",
       "3      Cereal Flip Lid Container/Storage Jar - Assort...  \n",
       "4                     Creme Soft Soap - For Hands & Body  \n",
       "...                                                  ...  \n",
       "16019    Toilet Cleaning Brush - Round With Holder (Big)  \n",
       "16020                      Organic Powder - Garam Masala  \n",
       "16021         Wottagirl! Perfume Spray - Heaven, Classic  \n",
       "16022                       Peri-Peri Sweet Potato Chips  \n",
       "16023                          Green Tea - Pure Original  \n",
       "\n",
       "[16024 rows x 2 columns]"
      ]
     },
     "execution_count": 12,
     "metadata": {},
     "output_type": "execute_result"
    }
   ],
   "source": [
    "df_clean[['soup','product']]"
   ]
  },
  {
   "cell_type": "code",
   "execution_count": 13,
   "id": "d4f1d9e6",
   "metadata": {},
   "outputs": [],
   "source": [
    "# recommendation\n",
    "def get_tfid_recommendation(title, sim):\n",
    "    idx = indices[title]\n",
    "    sim_scores = list(enumerate(sim[idx]))\n",
    "    sim_scores = sorted(sim_scores, key=lambda x: x[1], reverse=True)\n",
    "    sim_scores = sim_scores[1:11]\n",
    "    product_indices = [i[0] for i in sim_scores]\n",
    "    return products.iloc[product_indices]"
   ]
  },
  {
   "cell_type": "code",
   "execution_count": 14,
   "id": "9099f0f4",
   "metadata": {},
   "outputs": [],
   "source": [
    "tf = TfidfVectorizer(analyzer='word',ngram_range=(1, 2),min_df=0, stop_words='english')\n",
    "tfidf_matrix = tf.fit_transform(df_clean['soup'])"
   ]
  },
  {
   "cell_type": "code",
   "execution_count": 15,
   "id": "fd924d82",
   "metadata": {},
   "outputs": [],
   "source": [
    "cosine_sim = linear_kernel(tfidf_matrix, tfidf_matrix)"
   ]
  },
  {
   "cell_type": "code",
   "execution_count": 16,
   "id": "f4b36140",
   "metadata": {},
   "outputs": [
    {
     "data": {
      "text/plain": [
       "2945                  Salsa Sweet Potato Chips\n",
       "3905            Potato Chips - Honey & Mustard\n",
       "5177                  Potato Crisps - Jalapeno\n",
       "10595                     Potato Chips - Pizza\n",
       "13222                     Potato Chips - Ranch\n",
       "11441    South African Style Peri Peri Flavour\n",
       "3385                   High Protein Soya Chips\n",
       "1087            Chips - Keralas Nendran Banana\n",
       "178                         Sour Cream & Onion\n",
       "7862                          Chia Seeds Chips\n",
       "Name: product, dtype: object"
      ]
     },
     "execution_count": 16,
     "metadata": {},
     "output_type": "execute_result"
    }
   ],
   "source": [
    "searchstr = 'Peri-Peri Sweet Potato Chips'\n",
    "get_tfid_recommendation(searchstr,cosine_sim)"
   ]
  },
  {
   "cell_type": "code",
   "execution_count": 17,
   "id": "72a6bd58",
   "metadata": {},
   "outputs": [
    {
     "data": {
      "text/plain": [
       "2661                  Bathing Soap (Lavender & Milk Cream)\n",
       "4519       Fruity Soap Enriched with Narural Grape Extract\n",
       "6227        Fruity Soap Enriched with Narural Lime Extract\n",
       "6578       Fruity Soap Enriched with Narural Lemon Extract\n",
       "15433          Bathing Soap - with Neem, Tulsi & Aloe Vera\n",
       "3160                    Creme Care Soap - For Hands & Body\n",
       "7265                                     Soap - Creme Care\n",
       "8302     Crème Care Women Body Wash - Shower Gel For So...\n",
       "3444                       Laboratory Reagent CH3, CO, CH3\n",
       "3419                       Moisturise Lotion - Body Cocoon\n",
       "Name: product, dtype: object"
      ]
     },
     "execution_count": 17,
     "metadata": {},
     "output_type": "execute_result"
    }
   ],
   "source": [
    "searchstr = 'Creme Soft Soap - For Hands & Body'\n",
    "get_tfid_recommendation(searchstr,cosine_sim)"
   ]
  },
  {
   "cell_type": "code",
   "execution_count": null,
   "id": "35c628de",
   "metadata": {},
   "outputs": [],
   "source": []
  }
 ],
 "metadata": {
  "kernelspec": {
   "display_name": "Python 3 (ipykernel)",
   "language": "python",
   "name": "python3"
  },
  "language_info": {
   "codemirror_mode": {
    "name": "ipython",
    "version": 3
   },
   "file_extension": ".py",
   "mimetype": "text/x-python",
   "name": "python",
   "nbconvert_exporter": "python",
   "pygments_lexer": "ipython3",
   "version": "3.9.15"
  }
 },
 "nbformat": 4,
 "nbformat_minor": 5
}
