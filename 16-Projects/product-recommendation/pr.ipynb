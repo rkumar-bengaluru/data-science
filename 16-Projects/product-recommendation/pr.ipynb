{
 "cells": [
  {
   "cell_type": "code",
   "execution_count": 1,
   "id": "2d6a69f9",
   "metadata": {},
   "outputs": [],
   "source": [
    "#Basic Libraries\n",
    "import numpy as np\n",
    "import pandas as pd\n",
    "\n",
    "#Visualization Libraries\n",
    "import matplotlib.pyplot as plt\n",
    "import seaborn as sns\n",
    "import plotly.express as px\n",
    "\n",
    "#Text Handling Libraries\n",
    "import re\n",
    "from sklearn.feature_extraction.text import TfidfVectorizer, CountVectorizer\n",
    "from sklearn.metrics.pairwise import linear_kernel, cosine_similarity\n",
    "\n",
    "# clustering\n",
    "from sklearn.cluster import KMeans"
   ]
  },
  {
   "cell_type": "code",
   "execution_count": 153,
   "id": "1f298f2b",
   "metadata": {},
   "outputs": [
    {
     "name": "stdout",
     "output_type": "stream",
     "text": [
      "18840\n",
      "16217\n",
      "<class 'pandas.core.frame.DataFrame'>\n",
      "Int64Index: 16217 entries, 0 to 18838\n",
      "Data columns (total 15 columns):\n",
      " #   Column            Non-Null Count  Dtype  \n",
      "---  ------            --------------  -----  \n",
      " 0   Unnamed: 0        16217 non-null  int64  \n",
      " 1   index             16217 non-null  int64  \n",
      " 2   product           16217 non-null  object \n",
      " 3   category          16217 non-null  object \n",
      " 4   sub_category      16217 non-null  object \n",
      " 5   brand             16217 non-null  object \n",
      " 6   sale_price        16217 non-null  float64\n",
      " 7   market_price      16217 non-null  float64\n",
      " 8   type              16217 non-null  object \n",
      " 9   rating            16217 non-null  float64\n",
      " 10  description       16217 non-null  object \n",
      " 11  category_new      16217 non-null  object \n",
      " 12  sub_category_new  16217 non-null  object \n",
      " 13  type_new          16217 non-null  object \n",
      " 14  soup              16217 non-null  object \n",
      "dtypes: float64(3), int64(2), object(10)\n",
      "memory usage: 2.0+ MB\n"
     ]
    }
   ],
   "source": [
    "df_clean = pd.read_csv('clean.csv')\n",
    "print(len(df_clean))\n",
    "df_clean['product'] = df_clean['product'].drop_duplicates()\n",
    "df_cleaned = df_clean.dropna()\n",
    "print(len(df_cleaned))\n",
    "df_cleaned.info()"
   ]
  },
  {
   "cell_type": "code",
   "execution_count": 154,
   "id": "29e244e6",
   "metadata": {},
   "outputs": [
    {
     "data": {
      "text/html": [
       "<div>\n",
       "<style scoped>\n",
       "    .dataframe tbody tr th:only-of-type {\n",
       "        vertical-align: middle;\n",
       "    }\n",
       "\n",
       "    .dataframe tbody tr th {\n",
       "        vertical-align: top;\n",
       "    }\n",
       "\n",
       "    .dataframe thead th {\n",
       "        text-align: right;\n",
       "    }\n",
       "</style>\n",
       "<table border=\"1\" class=\"dataframe\">\n",
       "  <thead>\n",
       "    <tr style=\"text-align: right;\">\n",
       "      <th></th>\n",
       "      <th>soup</th>\n",
       "      <th>product</th>\n",
       "    </tr>\n",
       "  </thead>\n",
       "  <tbody>\n",
       "    <tr>\n",
       "      <th>0</th>\n",
       "      <td>beauty  hygiene hair care sri sri ayurveda  ha...</td>\n",
       "      <td>Garlic Oil - Vegetarian Capsule 500 mg</td>\n",
       "    </tr>\n",
       "    <tr>\n",
       "      <th>1</th>\n",
       "      <td>kitchen garden  pets storage  accessories mast...</td>\n",
       "      <td>Water Bottle - Orange</td>\n",
       "    </tr>\n",
       "    <tr>\n",
       "      <th>2</th>\n",
       "      <td>cleaning  household pooja needs trm lamp  lamp...</td>\n",
       "      <td>Brass Angle Deep - Plain, No.2</td>\n",
       "    </tr>\n",
       "    <tr>\n",
       "      <th>3</th>\n",
       "      <td>cleaning  household bins  bathroom ware nakoda...</td>\n",
       "      <td>Cereal Flip Lid Container/Storage Jar - Assort...</td>\n",
       "    </tr>\n",
       "    <tr>\n",
       "      <th>4</th>\n",
       "      <td>beauty  hygiene bath  hand wash nivea bathing ...</td>\n",
       "      <td>Creme Soft Soap - For Hands &amp; Body</td>\n",
       "    </tr>\n",
       "    <tr>\n",
       "      <th>...</th>\n",
       "      <td>...</td>\n",
       "      <td>...</td>\n",
       "    </tr>\n",
       "    <tr>\n",
       "      <th>16212</th>\n",
       "      <td>cleaning  household mops brushes  scrubs liao ...</td>\n",
       "      <td>Toilet Cleaning Brush - Round With Holder (Big)</td>\n",
       "    </tr>\n",
       "    <tr>\n",
       "      <th>16213</th>\n",
       "      <td>foodgrains oil  masala organic staples organic...</td>\n",
       "      <td>Organic Powder - Garam Masala</td>\n",
       "    </tr>\n",
       "    <tr>\n",
       "      <th>16214</th>\n",
       "      <td>beauty  hygiene fragrances  deos layerr perfume</td>\n",
       "      <td>Wottagirl! Perfume Spray - Heaven, Classic</td>\n",
       "    </tr>\n",
       "    <tr>\n",
       "      <th>16215</th>\n",
       "      <td>gourmet  world food snacks dry fruits nuts fab...</td>\n",
       "      <td>Peri-Peri Sweet Potato Chips</td>\n",
       "    </tr>\n",
       "    <tr>\n",
       "      <th>16216</th>\n",
       "      <td>beverages tea tetley tea bags</td>\n",
       "      <td>Green Tea - Pure Original</td>\n",
       "    </tr>\n",
       "  </tbody>\n",
       "</table>\n",
       "<p>16217 rows × 2 columns</p>\n",
       "</div>"
      ],
      "text/plain": [
       "                                                    soup  \\\n",
       "0      beauty  hygiene hair care sri sri ayurveda  ha...   \n",
       "1      kitchen garden  pets storage  accessories mast...   \n",
       "2      cleaning  household pooja needs trm lamp  lamp...   \n",
       "3      cleaning  household bins  bathroom ware nakoda...   \n",
       "4      beauty  hygiene bath  hand wash nivea bathing ...   \n",
       "...                                                  ...   \n",
       "16212  cleaning  household mops brushes  scrubs liao ...   \n",
       "16213  foodgrains oil  masala organic staples organic...   \n",
       "16214    beauty  hygiene fragrances  deos layerr perfume   \n",
       "16215  gourmet  world food snacks dry fruits nuts fab...   \n",
       "16216                      beverages tea tetley tea bags   \n",
       "\n",
       "                                                 product  \n",
       "0                 Garlic Oil - Vegetarian Capsule 500 mg  \n",
       "1                                  Water Bottle - Orange  \n",
       "2                         Brass Angle Deep - Plain, No.2  \n",
       "3      Cereal Flip Lid Container/Storage Jar - Assort...  \n",
       "4                     Creme Soft Soap - For Hands & Body  \n",
       "...                                                  ...  \n",
       "16212    Toilet Cleaning Brush - Round With Holder (Big)  \n",
       "16213                      Organic Powder - Garam Masala  \n",
       "16214         Wottagirl! Perfume Spray - Heaven, Classic  \n",
       "16215                       Peri-Peri Sweet Potato Chips  \n",
       "16216                          Green Tea - Pure Original  \n",
       "\n",
       "[16217 rows x 2 columns]"
      ]
     },
     "execution_count": 154,
     "metadata": {},
     "output_type": "execute_result"
    }
   ],
   "source": [
    "df_cleaned = df_cleaned.reset_index()\n",
    "products = df_cleaned['product']\n",
    "indices = pd.Series(df_cleaned.index, index=df_cleaned['product'])\n",
    "df_cleaned[['soup','product']]"
   ]
  },
  {
   "cell_type": "code",
   "execution_count": 155,
   "id": "32bad68c",
   "metadata": {},
   "outputs": [],
   "source": [
    "# recommendation\n",
    "def get_tfid_recommendation(title, sim):\n",
    "    idx = indices[title]\n",
    "    sim_scores = list(enumerate(sim[idx]))\n",
    "    sim_scores = sorted(sim_scores, key=lambda x: x[1], reverse=True)\n",
    "    sim_scores = sim_scores[1:11]\n",
    "    product_indices = [i[0] for i in sim_scores]\n",
    "    return products.iloc[product_indices]"
   ]
  },
  {
   "cell_type": "code",
   "execution_count": 156,
   "id": "504d67fb",
   "metadata": {},
   "outputs": [],
   "source": [
    "tfidf = TfidfVectorizer(analyzer='word',ngram_range=(1, 2),min_df=0,stop_words='english')\n",
    "tfidf_matrix = tfidf.fit_transform(df_cleaned['soup'])\n",
    "tfid_cosine_sim = linear_kernel(tfidf_matrix, tfidf_matrix)"
   ]
  },
  {
   "cell_type": "code",
   "execution_count": 157,
   "id": "3a4404b4",
   "metadata": {},
   "outputs": [
    {
     "data": {
      "text/plain": [
       "3399                      High Protein Soya Chips\n",
       "7918                             Chia Seeds Chips\n",
       "16215                Peri-Peri Sweet Potato Chips\n",
       "7739                             Mixed Seed Chaat\n",
       "15083                     Peri Peri Pumpkin Seeds\n",
       "15644                  Roasted Soya Nuts - Wasabi\n",
       "485                 Nacho Crisps - Cheese & Herbs\n",
       "1010     On The Go - Peri Peri Nachos & Salsa Dip\n",
       "1714                  Nacho Crisps - Tikka Masala\n",
       "3348                      Nacho Crisps - Barbeque\n",
       "Name: product, dtype: object"
      ]
     },
     "execution_count": 157,
     "metadata": {},
     "output_type": "execute_result"
    }
   ],
   "source": [
    "searchstr = 'Peri-Peri Sweet Potato Chips'\n",
    "get_tfid_recommendation(searchstr,tfid_cosine_sim)"
   ]
  },
  {
   "cell_type": "code",
   "execution_count": 163,
   "id": "89c3621f",
   "metadata": {},
   "outputs": [],
   "source": [
    "# recommendation\n",
    "def get_recommendations(title,sim):\n",
    "    idx = indices[title]\n",
    "    #print(idx)\n",
    "    sim_scores = list(enumerate(sim[idx]))\n",
    "    #print(sim_scores)\n",
    "    sim_scores = sorted(sim_scores, key=lambda x: x[1], reverse=True)\n",
    "    sim_scores = sim_scores[1:10]\n",
    "    product_indices = [i[0] for i in sim_scores]\n",
    "    return products.iloc[product_indices]"
   ]
  },
  {
   "cell_type": "code",
   "execution_count": 164,
   "id": "647b2010",
   "metadata": {},
   "outputs": [
    {
     "data": {
      "text/plain": [
       "3174                   Creme Care Soap - For Hands & Body\n",
       "7314                                    Soap - Creme Care\n",
       "723                Lavender Try Me Personal Care Gift Set\n",
       "2803           Cold Processed Skin Lavender Handmade Soap\n",
       "3447    Cold Processed Anti Tan Tomato Handmade Soap F...\n",
       "3462    Sea Cool Glycerin Soap - Cold Processed, 100% ...\n",
       "4313    Cold Processed Apple Mangosteen Handmade Soap ...\n",
       "4317                        Sandalwood Pure Glycerin Soap\n",
       "6710    Jasmine Pure Glycerin Soap - Cold Processed, 1...\n",
       "Name: product, dtype: object"
      ]
     },
     "execution_count": 164,
     "metadata": {},
     "output_type": "execute_result"
    }
   ],
   "source": [
    "searchstr = 'Creme Soft Soap - For Hands & Body'\n",
    "get_recommendations(searchstr,tfid_cosine_sim)"
   ]
  },
  {
   "cell_type": "code",
   "execution_count": null,
   "id": "99c64eb1",
   "metadata": {},
   "outputs": [],
   "source": []
  },
  {
   "cell_type": "code",
   "execution_count": null,
   "id": "574f837e",
   "metadata": {},
   "outputs": [],
   "source": []
  },
  {
   "cell_type": "code",
   "execution_count": null,
   "id": "739b915d",
   "metadata": {},
   "outputs": [],
   "source": []
  },
  {
   "cell_type": "code",
   "execution_count": null,
   "id": "f3ef3e4d",
   "metadata": {},
   "outputs": [],
   "source": []
  },
  {
   "cell_type": "code",
   "execution_count": null,
   "id": "1e948455",
   "metadata": {},
   "outputs": [],
   "source": []
  }
 ],
 "metadata": {
  "kernelspec": {
   "display_name": "Python 3 (ipykernel)",
   "language": "python",
   "name": "python3"
  },
  "language_info": {
   "codemirror_mode": {
    "name": "ipython",
    "version": 3
   },
   "file_extension": ".py",
   "mimetype": "text/x-python",
   "name": "python",
   "nbconvert_exporter": "python",
   "pygments_lexer": "ipython3",
   "version": "3.9.15"
  }
 },
 "nbformat": 4,
 "nbformat_minor": 5
}
