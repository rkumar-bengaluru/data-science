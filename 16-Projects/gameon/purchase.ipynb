{
 "cells": [
  {
   "cell_type": "code",
   "execution_count": 1,
   "id": "507b9e06",
   "metadata": {},
   "outputs": [],
   "source": [
    "import pandas as pd\n",
    "import matplotlib.pyplot as plt\n",
    "import seaborn as sns"
   ]
  },
  {
   "cell_type": "code",
   "execution_count": 2,
   "id": "250d4919",
   "metadata": {},
   "outputs": [
    {
     "name": "stderr",
     "output_type": "stream",
     "text": [
      "C:\\sofware\\anaconda3\\envs\\udemy\\lib\\site-packages\\openpyxl\\worksheet\\_read_only.py:79: UserWarning: Data Validation extension is not supported and will be removed\n",
      "  for idx, row in parser.parse():\n"
     ]
    },
    {
     "data": {
      "text/html": [
       "<div>\n",
       "<style scoped>\n",
       "    .dataframe tbody tr th:only-of-type {\n",
       "        vertical-align: middle;\n",
       "    }\n",
       "\n",
       "    .dataframe tbody tr th {\n",
       "        vertical-align: top;\n",
       "    }\n",
       "\n",
       "    .dataframe thead th {\n",
       "        text-align: right;\n",
       "    }\n",
       "</style>\n",
       "<table border=\"1\" class=\"dataframe\">\n",
       "  <thead>\n",
       "    <tr style=\"text-align: right;\">\n",
       "      <th></th>\n",
       "      <th>Vendor Name</th>\n",
       "      <th>Model</th>\n",
       "      <th>INVOICE</th>\n",
       "      <th>Type</th>\n",
       "      <th>Purchase Date</th>\n",
       "      <th>Price</th>\n",
       "      <th>GST</th>\n",
       "      <th>Quantity</th>\n",
       "      <th>Total</th>\n",
       "      <th>Payment Status</th>\n",
       "    </tr>\n",
       "  </thead>\n",
       "  <tbody>\n",
       "    <tr>\n",
       "      <th>0</th>\n",
       "      <td>ASHOK TRADING CO</td>\n",
       "      <td>Apacs Dual Power UnStrunged</td>\n",
       "      <td>7516/22-23</td>\n",
       "      <td>Racquet</td>\n",
       "      <td>2022-12-05</td>\n",
       "      <td>1339.0</td>\n",
       "      <td>0.12</td>\n",
       "      <td>5</td>\n",
       "      <td>7498.40</td>\n",
       "      <td>UNPAID</td>\n",
       "    </tr>\n",
       "    <tr>\n",
       "      <th>1</th>\n",
       "      <td>ASHOK TRADING CO</td>\n",
       "      <td>Apacs Vanguard11 UnStrunged</td>\n",
       "      <td>7516/22-23</td>\n",
       "      <td>Racquet</td>\n",
       "      <td>2022-12-05</td>\n",
       "      <td>1429.0</td>\n",
       "      <td>0.12</td>\n",
       "      <td>2</td>\n",
       "      <td>3200.96</td>\n",
       "      <td>UNPAID</td>\n",
       "    </tr>\n",
       "    <tr>\n",
       "      <th>2</th>\n",
       "      <td>ASHOK TRADING CO</td>\n",
       "      <td>Apacs Ziggler Grey UnStrunged</td>\n",
       "      <td>7516/22-23</td>\n",
       "      <td>Racquet</td>\n",
       "      <td>2022-12-05</td>\n",
       "      <td>1384.0</td>\n",
       "      <td>0.12</td>\n",
       "      <td>5</td>\n",
       "      <td>7750.40</td>\n",
       "      <td>UNPAID</td>\n",
       "    </tr>\n",
       "    <tr>\n",
       "      <th>3</th>\n",
       "      <td>ASHOK TRADING CO</td>\n",
       "      <td>SF Red Cricket Ball</td>\n",
       "      <td>7516/22-23</td>\n",
       "      <td>Cricket</td>\n",
       "      <td>2022-12-05</td>\n",
       "      <td>252.0</td>\n",
       "      <td>0.12</td>\n",
       "      <td>6</td>\n",
       "      <td>1693.44</td>\n",
       "      <td>UNPAID</td>\n",
       "    </tr>\n",
       "    <tr>\n",
       "      <th>4</th>\n",
       "      <td>ASHOK TRADING CO</td>\n",
       "      <td>SF Pink Cricket Ball</td>\n",
       "      <td>7516/22-23</td>\n",
       "      <td>Cricket</td>\n",
       "      <td>2022-12-05</td>\n",
       "      <td>263.0</td>\n",
       "      <td>0.12</td>\n",
       "      <td>6</td>\n",
       "      <td>1767.36</td>\n",
       "      <td>UNPAID</td>\n",
       "    </tr>\n",
       "  </tbody>\n",
       "</table>\n",
       "</div>"
      ],
      "text/plain": [
       "        Vendor Name                          Model     INVOICE     Type  \\\n",
       "0  ASHOK TRADING CO    Apacs Dual Power UnStrunged  7516/22-23  Racquet   \n",
       "1  ASHOK TRADING CO    Apacs Vanguard11 UnStrunged  7516/22-23  Racquet   \n",
       "2  ASHOK TRADING CO  Apacs Ziggler Grey UnStrunged  7516/22-23  Racquet   \n",
       "3  ASHOK TRADING CO            SF Red Cricket Ball  7516/22-23  Cricket   \n",
       "4  ASHOK TRADING CO           SF Pink Cricket Ball  7516/22-23  Cricket   \n",
       "\n",
       "  Purchase Date   Price   GST  Quantity    Total Payment Status  \n",
       "0    2022-12-05  1339.0  0.12         5  7498.40         UNPAID  \n",
       "1    2022-12-05  1429.0  0.12         2  3200.96         UNPAID  \n",
       "2    2022-12-05  1384.0  0.12         5  7750.40         UNPAID  \n",
       "3    2022-12-05   252.0  0.12         6  1693.44         UNPAID  \n",
       "4    2022-12-05   263.0  0.12         6  1767.36         UNPAID  "
      ]
     },
     "execution_count": 2,
     "metadata": {},
     "output_type": "execute_result"
    }
   ],
   "source": [
    "df = pd.read_excel('purchase.xlsx')\n",
    "df.head()"
   ]
  },
  {
   "cell_type": "code",
   "execution_count": 3,
   "id": "672002da",
   "metadata": {},
   "outputs": [
    {
     "data": {
      "text/html": [
       "<div>\n",
       "<style scoped>\n",
       "    .dataframe tbody tr th:only-of-type {\n",
       "        vertical-align: middle;\n",
       "    }\n",
       "\n",
       "    .dataframe tbody tr th {\n",
       "        vertical-align: top;\n",
       "    }\n",
       "\n",
       "    .dataframe thead th {\n",
       "        text-align: right;\n",
       "    }\n",
       "</style>\n",
       "<table border=\"1\" class=\"dataframe\">\n",
       "  <thead>\n",
       "    <tr style=\"text-align: right;\">\n",
       "      <th></th>\n",
       "      <th>Price</th>\n",
       "      <th>GST</th>\n",
       "      <th>Quantity</th>\n",
       "      <th>Total</th>\n",
       "    </tr>\n",
       "    <tr>\n",
       "      <th>Type</th>\n",
       "      <th></th>\n",
       "      <th></th>\n",
       "      <th></th>\n",
       "      <th></th>\n",
       "    </tr>\n",
       "  </thead>\n",
       "  <tbody>\n",
       "    <tr>\n",
       "      <th>Accessory</th>\n",
       "      <td>3723.59</td>\n",
       "      <td>1.56</td>\n",
       "      <td>95</td>\n",
       "      <td>22626.6656</td>\n",
       "    </tr>\n",
       "    <tr>\n",
       "      <th>Cricket</th>\n",
       "      <td>515.00</td>\n",
       "      <td>0.24</td>\n",
       "      <td>12</td>\n",
       "      <td>3460.8000</td>\n",
       "    </tr>\n",
       "    <tr>\n",
       "      <th>Racquet</th>\n",
       "      <td>23294.46</td>\n",
       "      <td>2.04</td>\n",
       "      <td>50</td>\n",
       "      <td>76428.8448</td>\n",
       "    </tr>\n",
       "  </tbody>\n",
       "</table>\n",
       "</div>"
      ],
      "text/plain": [
       "              Price   GST  Quantity       Total\n",
       "Type                                           \n",
       "Accessory   3723.59  1.56        95  22626.6656\n",
       "Cricket      515.00  0.24        12   3460.8000\n",
       "Racquet    23294.46  2.04        50  76428.8448"
      ]
     },
     "execution_count": 3,
     "metadata": {},
     "output_type": "execute_result"
    }
   ],
   "source": [
    "df.groupby('Type').sum()"
   ]
  },
  {
   "cell_type": "code",
   "execution_count": 4,
   "id": "1b12f6d2",
   "metadata": {},
   "outputs": [
    {
     "data": {
      "text/html": [
       "<div>\n",
       "<style scoped>\n",
       "    .dataframe tbody tr th:only-of-type {\n",
       "        vertical-align: middle;\n",
       "    }\n",
       "\n",
       "    .dataframe tbody tr th {\n",
       "        vertical-align: top;\n",
       "    }\n",
       "\n",
       "    .dataframe thead th {\n",
       "        text-align: right;\n",
       "    }\n",
       "</style>\n",
       "<table border=\"1\" class=\"dataframe\">\n",
       "  <thead>\n",
       "    <tr style=\"text-align: right;\">\n",
       "      <th></th>\n",
       "      <th>Vendor Name</th>\n",
       "      <th>Model</th>\n",
       "      <th>INVOICE</th>\n",
       "      <th>Type</th>\n",
       "      <th>Purchase Date</th>\n",
       "      <th>Price</th>\n",
       "      <th>GST</th>\n",
       "      <th>Quantity</th>\n",
       "      <th>Total</th>\n",
       "      <th>Payment Status</th>\n",
       "    </tr>\n",
       "  </thead>\n",
       "  <tbody>\n",
       "    <tr>\n",
       "      <th>10</th>\n",
       "      <td>Pankaj Sports</td>\n",
       "      <td>Apacs Ziggler Grey Strunged</td>\n",
       "      <td>INV/97/22-23</td>\n",
       "      <td>Racquet</td>\n",
       "      <td>2022-12-08</td>\n",
       "      <td>1428.57</td>\n",
       "      <td>0.12</td>\n",
       "      <td>4</td>\n",
       "      <td>6399.9936</td>\n",
       "      <td>UNPAID</td>\n",
       "    </tr>\n",
       "    <tr>\n",
       "      <th>17</th>\n",
       "      <td>Pankaj Sports</td>\n",
       "      <td>Apacs Ziggler Grey Strunged</td>\n",
       "      <td>INV/94/22-23</td>\n",
       "      <td>Racquet</td>\n",
       "      <td>2022-12-05</td>\n",
       "      <td>1428.57</td>\n",
       "      <td>0.12</td>\n",
       "      <td>2</td>\n",
       "      <td>3199.9968</td>\n",
       "      <td>PAID</td>\n",
       "    </tr>\n",
       "    <tr>\n",
       "      <th>21</th>\n",
       "      <td>Pankaj Sports</td>\n",
       "      <td>Apacs Ziggler Grey Strunged</td>\n",
       "      <td>INV/95/22-23</td>\n",
       "      <td>Racquet</td>\n",
       "      <td>2022-12-06</td>\n",
       "      <td>1428.57</td>\n",
       "      <td>0.12</td>\n",
       "      <td>4</td>\n",
       "      <td>6399.9936</td>\n",
       "      <td>PAID</td>\n",
       "    </tr>\n",
       "    <tr>\n",
       "      <th>26</th>\n",
       "      <td>Pankaj Sports</td>\n",
       "      <td>Apacs Ziggler Grey Strunged</td>\n",
       "      <td>-</td>\n",
       "      <td>Racquet</td>\n",
       "      <td>2022-12-01</td>\n",
       "      <td>1428.57</td>\n",
       "      <td>0.12</td>\n",
       "      <td>5</td>\n",
       "      <td>7999.9920</td>\n",
       "      <td>PAID</td>\n",
       "    </tr>\n",
       "  </tbody>\n",
       "</table>\n",
       "</div>"
      ],
      "text/plain": [
       "      Vendor Name                        Model       INVOICE     Type  \\\n",
       "10  Pankaj Sports  Apacs Ziggler Grey Strunged  INV/97/22-23  Racquet   \n",
       "17  Pankaj Sports  Apacs Ziggler Grey Strunged  INV/94/22-23  Racquet   \n",
       "21  Pankaj Sports  Apacs Ziggler Grey Strunged  INV/95/22-23  Racquet   \n",
       "26  Pankaj Sports  Apacs Ziggler Grey Strunged             -  Racquet   \n",
       "\n",
       "   Purchase Date    Price   GST  Quantity      Total Payment Status  \n",
       "10    2022-12-08  1428.57  0.12         4  6399.9936         UNPAID  \n",
       "17    2022-12-05  1428.57  0.12         2  3199.9968           PAID  \n",
       "21    2022-12-06  1428.57  0.12         4  6399.9936           PAID  \n",
       "26    2022-12-01  1428.57  0.12         5  7999.9920           PAID  "
      ]
     },
     "execution_count": 4,
     "metadata": {},
     "output_type": "execute_result"
    }
   ],
   "source": [
    "df[(df['Model'] == 'Apacs Ziggler Grey Strunged') ]"
   ]
  },
  {
   "cell_type": "code",
   "execution_count": 5,
   "id": "0f0ad51d",
   "metadata": {},
   "outputs": [],
   "source": [
    "# collect all model types\n",
    "purchased = dict()\n",
    "def collect_models(models,df):\n",
    "    for model in models:\n",
    "        m = df[(df['Model'].isin([model] )) ]\n",
    "        purchased[model] = m['Quantity'].sum()"
   ]
  },
  {
   "cell_type": "code",
   "execution_count": 6,
   "id": "0a3860ee",
   "metadata": {},
   "outputs": [
    {
     "data": {
      "text/html": [
       "<div>\n",
       "<style scoped>\n",
       "    .dataframe tbody tr th:only-of-type {\n",
       "        vertical-align: middle;\n",
       "    }\n",
       "\n",
       "    .dataframe tbody tr th {\n",
       "        vertical-align: top;\n",
       "    }\n",
       "\n",
       "    .dataframe thead th {\n",
       "        text-align: right;\n",
       "    }\n",
       "</style>\n",
       "<table border=\"1\" class=\"dataframe\">\n",
       "  <thead>\n",
       "    <tr style=\"text-align: right;\">\n",
       "      <th></th>\n",
       "      <th>Quantity</th>\n",
       "    </tr>\n",
       "    <tr>\n",
       "      <th>Model</th>\n",
       "      <th></th>\n",
       "    </tr>\n",
       "  </thead>\n",
       "  <tbody>\n",
       "    <tr>\n",
       "      <th>Apacs Dual Power UnStrunged</th>\n",
       "      <td>5</td>\n",
       "    </tr>\n",
       "    <tr>\n",
       "      <th>Apacs Vanguard11 UnStrunged</th>\n",
       "      <td>2</td>\n",
       "    </tr>\n",
       "    <tr>\n",
       "      <th>Apacs Ziggler Grey UnStrunged</th>\n",
       "      <td>5</td>\n",
       "    </tr>\n",
       "    <tr>\n",
       "      <th>Yonex Astrox 21i</th>\n",
       "      <td>6</td>\n",
       "    </tr>\n",
       "    <tr>\n",
       "      <th>Yonex Astrox 27i</th>\n",
       "      <td>2</td>\n",
       "    </tr>\n",
       "    <tr>\n",
       "      <th>Apacs Ziggler Grey Strunged</th>\n",
       "      <td>15</td>\n",
       "    </tr>\n",
       "    <tr>\n",
       "      <th>Apacs Vanguard11 Strunged</th>\n",
       "      <td>4</td>\n",
       "    </tr>\n",
       "    <tr>\n",
       "      <th>Yonex Voltric 25i</th>\n",
       "      <td>2</td>\n",
       "    </tr>\n",
       "    <tr>\n",
       "      <th>Apacs Finapi232 Strunged</th>\n",
       "      <td>7</td>\n",
       "    </tr>\n",
       "    <tr>\n",
       "      <th>Yonex Voltric 20i</th>\n",
       "      <td>2</td>\n",
       "    </tr>\n",
       "  </tbody>\n",
       "</table>\n",
       "</div>"
      ],
      "text/plain": [
       "                               Quantity\n",
       "Model                                  \n",
       "Apacs Dual Power UnStrunged           5\n",
       "Apacs Vanguard11 UnStrunged           2\n",
       "Apacs Ziggler Grey UnStrunged         5\n",
       "Yonex Astrox 21i                      6\n",
       "Yonex Astrox 27i                      2\n",
       "Apacs Ziggler Grey Strunged          15\n",
       "Apacs Vanguard11 Strunged             4\n",
       "Yonex Voltric 25i                     2\n",
       "Apacs Finapi232 Strunged              7\n",
       "Yonex Voltric 20i                     2"
      ]
     },
     "execution_count": 6,
     "metadata": {},
     "output_type": "execute_result"
    }
   ],
   "source": [
    "racquet = df[(df['Type'] == 'Racquet') ]\n",
    "collect_models(racquet['Model'],df)\n",
    "df_purchased = pd.DataFrame(list(purchased.items()),columns = ['Model','Quantity'])\n",
    "df_purchased.set_index('Model',inplace=True)\n",
    "df_purchased"
   ]
  },
  {
   "cell_type": "code",
   "execution_count": 7,
   "id": "3952bbea",
   "metadata": {},
   "outputs": [
    {
     "data": {
      "text/html": [
       "<div>\n",
       "<style scoped>\n",
       "    .dataframe tbody tr th:only-of-type {\n",
       "        vertical-align: middle;\n",
       "    }\n",
       "\n",
       "    .dataframe tbody tr th {\n",
       "        vertical-align: top;\n",
       "    }\n",
       "\n",
       "    .dataframe thead th {\n",
       "        text-align: right;\n",
       "    }\n",
       "</style>\n",
       "<table border=\"1\" class=\"dataframe\">\n",
       "  <thead>\n",
       "    <tr style=\"text-align: right;\">\n",
       "      <th></th>\n",
       "      <th>Model</th>\n",
       "      <th>Quantity</th>\n",
       "    </tr>\n",
       "  </thead>\n",
       "  <tbody>\n",
       "    <tr>\n",
       "      <th>0</th>\n",
       "      <td>Apacs Ziggler</td>\n",
       "      <td>20</td>\n",
       "    </tr>\n",
       "    <tr>\n",
       "      <th>3</th>\n",
       "      <td>Apacs Finapi232</td>\n",
       "      <td>7</td>\n",
       "    </tr>\n",
       "    <tr>\n",
       "      <th>2</th>\n",
       "      <td>Apacs Vanguard11</td>\n",
       "      <td>6</td>\n",
       "    </tr>\n",
       "    <tr>\n",
       "      <th>5</th>\n",
       "      <td>Yonex Astrox 21i</td>\n",
       "      <td>6</td>\n",
       "    </tr>\n",
       "    <tr>\n",
       "      <th>1</th>\n",
       "      <td>Apacs Dual Power</td>\n",
       "      <td>5</td>\n",
       "    </tr>\n",
       "    <tr>\n",
       "      <th>4</th>\n",
       "      <td>Yonex Voltric 20i</td>\n",
       "      <td>2</td>\n",
       "    </tr>\n",
       "    <tr>\n",
       "      <th>6</th>\n",
       "      <td>Yonex Voltric 25i</td>\n",
       "      <td>2</td>\n",
       "    </tr>\n",
       "    <tr>\n",
       "      <th>7</th>\n",
       "      <td>Yonex Astrox 27i</td>\n",
       "      <td>2</td>\n",
       "    </tr>\n",
       "  </tbody>\n",
       "</table>\n",
       "</div>"
      ],
      "text/plain": [
       "               Model  Quantity\n",
       "0      Apacs Ziggler        20\n",
       "3    Apacs Finapi232         7\n",
       "2   Apacs Vanguard11         6\n",
       "5   Yonex Astrox 21i         6\n",
       "1   Apacs Dual Power         5\n",
       "4  Yonex Voltric 20i         2\n",
       "6  Yonex Voltric 25i         2\n",
       "7   Yonex Astrox 27i         2"
      ]
     },
     "execution_count": 7,
     "metadata": {},
     "output_type": "execute_result"
    }
   ],
   "source": [
    "#total = df.loc[['Apacs Ziggler Grey UnStrunged', 'Apacs Ziggler Grey Strunged']].sum()\n",
    "\n",
    "#z = df_purchased.loc[['Apacs Ziggler Grey UnStrunged','Apacs Ziggler Grey Strunged']]\n",
    "#d = df_purchased.loc[['Apacs Dual Power UnStrunged']]\n",
    "#d = df_purchased.loc[['Apacs Vanguard11 UnStrunged','Apacs Vanguard11 Strunged']]\n",
    "#d = df_purchased.loc[['Apacs Finapi232 Strunged']]\n",
    "#d\n",
    "ndf = pd.DataFrame(data=\n",
    "    [('Apacs Ziggler',df_purchased.loc[['Apacs Ziggler Grey UnStrunged','Apacs Ziggler Grey Strunged']].sum()[0]),\n",
    "     ('Apacs Dual Power',df_purchased.loc[['Apacs Dual Power UnStrunged']].sum()[0]),\n",
    "     ('Apacs Vanguard11',df_purchased.loc[['Apacs Vanguard11 UnStrunged','Apacs Vanguard11 Strunged']].sum()[0]),\n",
    "     ('Apacs Finapi232',df_purchased.loc[['Apacs Finapi232 Strunged']].sum()[0]),\n",
    "     ('Yonex Voltric 20i',df_purchased.loc[['Yonex Voltric 20i']].sum()[0]),\n",
    "     ('Yonex Astrox 21i',df_purchased.loc[['Yonex Astrox 21i']].sum()[0]),\n",
    "     ('Yonex Voltric 25i',df_purchased.loc[['Yonex Voltric 25i']].sum()[0]),\n",
    "     ('Yonex Astrox 27i',df_purchased.loc[['Yonex Astrox 27i']].sum()[0]),\n",
    "    ],columns=['Model','Quantity'])\n",
    "#ndf.set_index('Model',inplace=True)\n",
    "ndf.sort_values('Quantity',ascending=False,inplace=True)\n",
    "ndf"
   ]
  },
  {
   "cell_type": "code",
   "execution_count": 8,
   "id": "cbee1a38",
   "metadata": {},
   "outputs": [
    {
     "data": {
      "text/plain": [
       "(0.0, 25.0)"
      ]
     },
     "execution_count": 8,
     "metadata": {},
     "output_type": "execute_result"
    },
    {
     "data": {
      "image/png": "[encoded data removed]",
      "text/plain": [
       "<Figure size 900x450 with 1 Axes>"
      ]
     },
     "metadata": {},
     "output_type": "display_data"
    }
   ],
   "source": [
    "plt.figure(figsize=(6,3),dpi=150)\n",
    "sns.barplot(x='Model',y='Quantity', data=ndf)\n",
    "plt.xticks(rotation=90);\n",
    "plt.ylim(0,25)"
   ]
  },
  {
   "cell_type": "code",
   "execution_count": 9,
   "id": "89aa0a91",
   "metadata": {},
   "outputs": [
    {
     "data": {
      "text/plain": [
       "50"
      ]
     },
     "execution_count": 9,
     "metadata": {},
     "output_type": "execute_result"
    }
   ],
   "source": [
    "ndf['Quantity'].sum()"
   ]
  },
  {
   "cell_type": "code",
   "execution_count": 12,
   "id": "9fc5a7d8",
   "metadata": {},
   "outputs": [],
   "source": [
    "total = df['Total'].sum()"
   ]
  },
  {
   "cell_type": "code",
   "execution_count": 19,
   "id": "d8c3ec42",
   "metadata": {},
   "outputs": [],
   "source": [
    "paid = df[(df['Payment Status'] == 'PAID') ]\n",
    "paid = paid['Total'].sum()"
   ]
  },
  {
   "cell_type": "code",
   "execution_count": 21,
   "id": "212a44bd",
   "metadata": {},
   "outputs": [],
   "source": [
    "not_paid = df[(df['Payment Status'] == 'UNPAID') ]\n",
    "not_paid = not_paid['Total'].sum()"
   ]
  },
  {
   "cell_type": "code",
   "execution_count": 24,
   "id": "45a0a2fc",
   "metadata": {},
   "outputs": [
    {
     "data": {
      "text/plain": [
       "55141.7216"
      ]
     },
     "execution_count": 24,
     "metadata": {},
     "output_type": "execute_result"
    }
   ],
   "source": [
    "balance = total - paid\n",
    "balance"
   ]
  },
  {
   "cell_type": "code",
   "execution_count": null,
   "id": "01c62798",
   "metadata": {},
   "outputs": [],
   "source": []
  }
 ],
 "metadata": {
  "kernelspec": {
   "display_name": "Python 3 (ipykernel)",
   "language": "python",
   "name": "python3"
  },
  "language_info": {
   "codemirror_mode": {
    "name": "ipython",
    "version": 3
   },
   "file_extension": ".py",
   "mimetype": "text/x-python",
   "name": "python",
   "nbconvert_exporter": "python",
   "pygments_lexer": "ipython3",
   "version": "3.10.6"
  }
 },
 "nbformat": 4,
 "nbformat_minor": 5
}
