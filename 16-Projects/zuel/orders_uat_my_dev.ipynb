{
 "cells": [
  {
   "cell_type": "code",
   "execution_count": 1,
   "id": "887f52d0",
   "metadata": {},
   "outputs": [],
   "source": [
    "import numpy as np\n",
    "import pandas as pd\n",
    "import matplotlib.pyplot as plt\n",
    "import seaborn as sns"
   ]
  },
  {
   "cell_type": "code",
   "execution_count": 2,
   "id": "98c73967",
   "metadata": {},
   "outputs": [],
   "source": [
    "df = pd.read_csv('../data/zg_orders_my.csv')"
   ]
  },
  {
   "cell_type": "code",
   "execution_count": 3,
   "id": "0292cfdd",
   "metadata": {},
   "outputs": [
    {
     "data": {
      "text/html": [
       "<div>\n",
       "<style scoped>\n",
       "    .dataframe tbody tr th:only-of-type {\n",
       "        vertical-align: middle;\n",
       "    }\n",
       "\n",
       "    .dataframe tbody tr th {\n",
       "        vertical-align: top;\n",
       "    }\n",
       "\n",
       "    .dataframe thead th {\n",
       "        text-align: right;\n",
       "    }\n",
       "</style>\n",
       "<table border=\"1\" class=\"dataframe\">\n",
       "  <thead>\n",
       "    <tr style=\"text-align: right;\">\n",
       "      <th></th>\n",
       "      <th>type</th>\n",
       "      <th>orderNumber</th>\n",
       "      <th>ezrxNumber</th>\n",
       "      <th>soldto</th>\n",
       "      <th>shipto</th>\n",
       "      <th>companyName</th>\n",
       "      <th>orderValue</th>\n",
       "      <th>processingStatus</th>\n",
       "      <th>createdTime</th>\n",
       "      <th>requestedDeliveryDate</th>\n",
       "      <th>...</th>\n",
       "      <th>statusMessage</th>\n",
       "      <th>payload</th>\n",
       "      <th>orderManagerReceived</th>\n",
       "      <th>salesOrg</th>\n",
       "      <th>username</th>\n",
       "      <th>timestamp</th>\n",
       "      <th>soapResponse</th>\n",
       "      <th>subscribeStatusChange</th>\n",
       "      <th>notificationFor</th>\n",
       "      <th>trackingLevel</th>\n",
       "    </tr>\n",
       "  </thead>\n",
       "  <tbody>\n",
       "    <tr>\n",
       "      <th>0</th>\n",
       "      <td>ZPOR</td>\n",
       "      <td>53a4271d-fa52-439e-ba57-5353a35e63ff</td>\n",
       "      <td>EZRX-859c8cb</td>\n",
       "      <td>0030034855</td>\n",
       "      <td>0070045331</td>\n",
       "      <td>Orchard Pharmacy Pte Ltd</td>\n",
       "      <td>0</td>\n",
       "      <td>Order Creating</td>\n",
       "      <td>16:08:39</td>\n",
       "      <td>2022-08-25</td>\n",
       "      <td>...</td>\n",
       "      <td>NaN</td>\n",
       "      <td>&lt;soapenv:Envelope xmlns:soapenv=\"http://schema...</td>\n",
       "      <td>False</td>\n",
       "      <td>3101.0</td>\n",
       "      <td>123123</td>\n",
       "      <td>1661414919</td>\n",
       "      <td>NaN</td>\n",
       "      <td>False</td>\n",
       "      <td>[\"joelchin\"]</td>\n",
       "      <td>header</td>\n",
       "    </tr>\n",
       "    <tr>\n",
       "      <th>1</th>\n",
       "      <td>ZPFC</td>\n",
       "      <td>3c238124-4865-4d48-bde1-15b03d5a4395</td>\n",
       "      <td>EZRX-9078b97</td>\n",
       "      <td>0000003111</td>\n",
       "      <td>0000003111</td>\n",
       "      <td>Zuellig Pharma Korea</td>\n",
       "      <td>0</td>\n",
       "      <td>Order Creating</td>\n",
       "      <td>16:42:21</td>\n",
       "      <td>2022-08-26</td>\n",
       "      <td>...</td>\n",
       "      <td>NaN</td>\n",
       "      <td>&lt;soapenv:Envelope xmlns:soapenv=\"http://schema...</td>\n",
       "      <td>False</td>\n",
       "      <td>3101.0</td>\n",
       "      <td>username</td>\n",
       "      <td>1661503341</td>\n",
       "      <td>NaN</td>\n",
       "      <td>False</td>\n",
       "      <td>[\"joelchin\"]</td>\n",
       "      <td>header</td>\n",
       "    </tr>\n",
       "  </tbody>\n",
       "</table>\n",
       "<p>2 rows × 29 columns</p>\n",
       "</div>"
      ],
      "text/plain": [
       "   type                           orderNumber    ezrxNumber      soldto  \\\n",
       "0  ZPOR  53a4271d-fa52-439e-ba57-5353a35e63ff  EZRX-859c8cb  0030034855   \n",
       "1  ZPFC  3c238124-4865-4d48-bde1-15b03d5a4395  EZRX-9078b97  0000003111   \n",
       "\n",
       "       shipto               companyName  orderValue processingStatus  \\\n",
       "0  0070045331  Orchard Pharmacy Pte Ltd           0   Order Creating   \n",
       "1  0000003111      Zuellig Pharma Korea           0   Order Creating   \n",
       "\n",
       "  createdTime requestedDeliveryDate  ...  statusMessage  \\\n",
       "0    16:08:39            2022-08-25  ...            NaN   \n",
       "1    16:42:21            2022-08-26  ...            NaN   \n",
       "\n",
       "                                             payload orderManagerReceived  \\\n",
       "0  <soapenv:Envelope xmlns:soapenv=\"http://schema...                False   \n",
       "1  <soapenv:Envelope xmlns:soapenv=\"http://schema...                False   \n",
       "\n",
       "  salesOrg  username   timestamp  soapResponse subscribeStatusChange  \\\n",
       "0   3101.0    123123  1661414919           NaN                 False   \n",
       "1   3101.0  username  1661503341           NaN                 False   \n",
       "\n",
       "   notificationFor trackingLevel  \n",
       "0     [\"joelchin\"]        header  \n",
       "1     [\"joelchin\"]        header  \n",
       "\n",
       "[2 rows x 29 columns]"
      ]
     },
     "execution_count": 3,
     "metadata": {},
     "output_type": "execute_result"
    }
   ],
   "source": [
    "df.head(2)"
   ]
  },
  {
   "cell_type": "code",
   "execution_count": 4,
   "id": "e3efe5ec",
   "metadata": {},
   "outputs": [
    {
     "name": "stdout",
     "output_type": "stream",
     "text": [
      "<class 'pandas.core.frame.DataFrame'>\n",
      "RangeIndex: 903 entries, 0 to 902\n",
      "Data columns (total 29 columns):\n",
      " #   Column                 Non-Null Count  Dtype  \n",
      "---  ------                 --------------  -----  \n",
      " 0   type                   903 non-null    object \n",
      " 1   orderNumber            903 non-null    object \n",
      " 2   ezrxNumber             903 non-null    object \n",
      " 3   soldto                 900 non-null    object \n",
      " 4   shipto                 890 non-null    object \n",
      " 5   companyName            891 non-null    object \n",
      " 6   orderValue             903 non-null    int64  \n",
      " 7   processingStatus       903 non-null    object \n",
      " 8   createdTime            903 non-null    object \n",
      " 9   requestedDeliveryDate  903 non-null    object \n",
      " 10  orderBy                0 non-null      float64\n",
      " 11  totalTax               903 non-null    int64  \n",
      " 12  poReference            527 non-null    object \n",
      " 13  purchaseOrderType      903 non-null    object \n",
      " 14  telephoneNumber        525 non-null    float64\n",
      " 15  shippingConditions     0 non-null      float64\n",
      " 16  orderReason            0 non-null      float64\n",
      " 17  referenceNotes         527 non-null    object \n",
      " 18  createdDate            903 non-null    int64  \n",
      " 19  statusMessage          252 non-null    object \n",
      " 20  payload                903 non-null    object \n",
      " 21  orderManagerReceived   903 non-null    bool   \n",
      " 22  salesOrg               892 non-null    float64\n",
      " 23  username               827 non-null    object \n",
      " 24  timestamp              903 non-null    int64  \n",
      " 25  soapResponse           252 non-null    object \n",
      " 26  subscribeStatusChange  903 non-null    bool   \n",
      " 27  notificationFor        903 non-null    object \n",
      " 28  trackingLevel          903 non-null    object \n",
      "dtypes: bool(2), float64(5), int64(4), object(18)\n",
      "memory usage: 192.4+ KB\n"
     ]
    }
   ],
   "source": [
    "df.info()"
   ]
  },
  {
   "cell_type": "code",
   "execution_count": 5,
   "id": "2c7f6147",
   "metadata": {},
   "outputs": [
    {
     "data": {
      "text/plain": [
       "Order Creating    642\n",
       "Order Failed      261\n",
       "Name: processingStatus, dtype: int64"
      ]
     },
     "execution_count": 5,
     "metadata": {},
     "output_type": "execute_result"
    }
   ],
   "source": [
    "df['processingStatus'].value_counts()"
   ]
  },
  {
   "cell_type": "code",
   "execution_count": 18,
   "id": "c50ec868",
   "metadata": {},
   "outputs": [
    {
     "name": "stdout",
     "output_type": "stream",
     "text": [
      "<class 'pandas.core.frame.DataFrame'>\n",
      "RangeIndex: 3743 entries, 0 to 3742\n",
      "Data columns (total 36 columns):\n",
      " #   Column                     Non-Null Count  Dtype  \n",
      "---  ------                     --------------  -----  \n",
      " 0   id                         3743 non-null   int64  \n",
      " 1   firstName                  3743 non-null   object \n",
      " 2   lastName                   3743 non-null   object \n",
      " 3   username                   3743 non-null   object \n",
      " 4   id-2                       3743 non-null   float64\n",
      " 5   name                       3743 non-null   object \n",
      " 6   type                       1864 non-null   object \n",
      " 7   description                1864 non-null   object \n",
      " 8   email                      3743 non-null   object \n",
      " 9   isFromAD                   3743 non-null   bool   \n",
      " 10  userSalesOrganisationList  3743 non-null   object \n",
      " 11  salesOrganization          3743 non-null   int64  \n",
      " 12  salesOrganizationTwo       12 non-null     object \n",
      " 13  customerCodeSet            1416 non-null   object \n",
      " 14  customerCodeSetTwo         10 non-null     object \n",
      " 15  mobileNumber               22 non-null     object \n",
      " 16  countryCode                22 non-null     object \n",
      " 17  initialLogin               7 non-null      object \n",
      " 18  accessRight                3743 non-null   object \n",
      " 19  hasBonusOverride           12 non-null     object \n",
      " 20  hasPriceOverride           13 non-null     object \n",
      " 21  acceptTC                   12 non-null     object \n",
      " 22  acceptAUP                  38 non-null     object \n",
      " 23  acceptLocalTC              0 non-null      float64\n",
      " 24  acceptMobileTC             3 non-null      object \n",
      " 25  mobileAccess               21 non-null     object \n",
      " 26  disable2fa                 3690 non-null   object \n",
      " 27  totp2fa                    5 non-null      object \n",
      " 28  mobileToken                6 non-null      object \n",
      " 29  mobileNotifications        4 non-null      object \n",
      " 30  disableReturns             11 non-null     object \n",
      " 31  passwordLastUpdate         1 non-null      float64\n",
      " 32  disableCreateOrder         5 non-null      object \n",
      " 33  disablePaymentAccess       3743 non-null   bool   \n",
      " 34  emailNotifications         3743 non-null   bool   \n",
      " 35  languagePreference         3743 non-null   object \n",
      "dtypes: bool(3), float64(3), int64(2), object(28)\n",
      "memory usage: 976.1+ KB\n"
     ]
    }
   ],
   "source": [
    "df.info()\n"
   ]
  },
  {
   "cell_type": "code",
   "execution_count": 19,
   "id": "a8c1700a",
   "metadata": {},
   "outputs": [
    {
     "data": {
      "text/plain": [
       "NotARole              1879\n",
       "External Sales Rep    1525\n",
       "Internal Sales Rep     325\n",
       "Client User              7\n",
       "ZP Admin                 5\n",
       "ROOT Admin               1\n",
       "Client Admin             1\n",
       "Name: name, dtype: int64"
      ]
     },
     "execution_count": 19,
     "metadata": {},
     "output_type": "execute_result"
    }
   ],
   "source": [
    "df['name'].value_counts()"
   ]
  },
  {
   "cell_type": "code",
   "execution_count": 41,
   "id": "d1cfcd25",
   "metadata": {},
   "outputs": [
    {
     "data": {
      "image/png": "[encoded data removed]",
      "text/plain": [
       "<Figure size 1200x800 with 1 Axes>"
      ]
     },
     "metadata": {},
     "output_type": "display_data"
    }
   ],
   "source": [
    "plt.figure(figsize=(6,4),dpi=200)\n",
    "sns.countplot(x=df['name'],data=df,hue='disableReturns')\n",
    "plt.xticks(rotation=90)\n",
    "plt.xlabel('Role')\n",
    "plt.ylabel('Num Of Users')\n",
    "plt.savefig('user-nrole.jpg')"
   ]
  },
  {
   "cell_type": "code",
   "execution_count": null,
   "id": "f45e0786",
   "metadata": {},
   "outputs": [],
   "source": []
  },
  {
   "cell_type": "code",
   "execution_count": null,
   "id": "230f3af3",
   "metadata": {},
   "outputs": [],
   "source": []
  },
  {
   "cell_type": "code",
   "execution_count": null,
   "id": "ef447f54",
   "metadata": {},
   "outputs": [],
   "source": []
  },
  {
   "cell_type": "code",
   "execution_count": null,
   "id": "6256e5f1",
   "metadata": {},
   "outputs": [],
   "source": []
  },
  {
   "cell_type": "code",
   "execution_count": null,
   "id": "922a9613",
   "metadata": {},
   "outputs": [],
   "source": []
  },
  {
   "cell_type": "code",
   "execution_count": null,
   "id": "a4f4a85a",
   "metadata": {},
   "outputs": [],
   "source": []
  }
 ],
 "metadata": {
  "kernelspec": {
   "display_name": "Python 3 (ipykernel)",
   "language": "python",
   "name": "python3"
  },
  "language_info": {
   "codemirror_mode": {
    "name": "ipython",
    "version": 3
   },
   "file_extension": ".py",
   "mimetype": "text/x-python",
   "name": "python",
   "nbconvert_exporter": "python",
   "pygments_lexer": "ipython3",
   "version": "3.10.6"
  },
  "vscode": {
   "interpreter": {
    "hash": "e3a60ca84f69cf69197604f66e4099f086c4fc07683ae9841ecc3f66d45829ed"
   }
  }
 },
 "nbformat": 4,
 "nbformat_minor": 5
}
