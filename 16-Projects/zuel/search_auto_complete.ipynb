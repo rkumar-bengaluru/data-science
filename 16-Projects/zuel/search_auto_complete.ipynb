{
 "cells": [
  {
   "cell_type": "code",
   "execution_count": 43,
   "id": "c0743074",
   "metadata": {},
   "outputs": [],
   "source": [
    "import numpy as np\n",
    "import pandas as pd\n",
    "import matplotlib.pyplot as plt\n",
    "import seaborn as sns\n",
    "\n",
    "import torch\n",
    "from torch.nn.utils.rnn import pad_sequence\n",
    "from torch.utils.data import Dataset\n",
    "import torch.nn.functional as F\n",
    "from torch.utils.data import DataLoader\n",
    "import torch.nn as nn\n",
    "from torch.nn.utils import clip_grad_norm_\n",
    "import torch.optim as optim"
   ]
  },
  {
   "cell_type": "code",
   "execution_count": 5,
   "id": "627c93f6",
   "metadata": {},
   "outputs": [],
   "source": [
    "df = pd.read_csv('data/2001_all_materials.csv')"
   ]
  },
  {
   "cell_type": "code",
   "execution_count": 8,
   "id": "5fa03b26",
   "metadata": {},
   "outputs": [],
   "source": [
    "df['zzibrnd'] = df['zzibrnd'].astype(str)\n",
    "df['TherapeuticClass'] = df['TherapeuticClass'].astype(str)\n",
    "df['PrincipalName'] = df['PrincipalName'].astype(str)\n",
    "df['Description'] = df['Description'].astype(str)"
   ]
  },
  {
   "cell_type": "code",
   "execution_count": 9,
   "id": "9eaf8cd2",
   "metadata": {},
   "outputs": [],
   "source": [
    "# remove special characters (& \\n) from category/sub category/type\n",
    "def splitcategory(x):\n",
    "    if isinstance(x, list):\n",
    "        return x\n",
    "    else:\n",
    "        if isinstance(x, str):\n",
    "            res = re.split('& |, |\\*|\\n', x)\n",
    "            return res\n",
    "        else:\n",
    "            return ''\n",
    "\n",
    "# function to change characters to lower case\n",
    "def cleaner(x):\n",
    "    if isinstance(x, list):\n",
    "        return [str.lower(i.replace(\" \", \"\")) for i in x]\n",
    "    else:\n",
    "        if isinstance(x, str):\n",
    "            return str.lower(x.replace(\" \", \"\"))\n",
    "        else:\n",
    "            return ''\n",
    "\n",
    "# change text to lower case\n",
    "def changeCase(x):\n",
    "    return str.lower(x)\n",
    "\n",
    "# merge all text columns\n",
    "def couple(x):\n",
    "    return x['zzibrnd'] + ' ' + ' '.join(x['TherapeuticClass_new']) + ' '.join( x['PrincipalName_new']) + ' ' + x['Description'] "
   ]
  },
  {
   "cell_type": "code",
   "execution_count": 12,
   "id": "5da5ebde",
   "metadata": {},
   "outputs": [],
   "source": [
    "# remove special characters\n",
    "df['zzibrnd_new'] = df['zzibrnd'].apply(splitcategory)\n",
    "df['TherapeuticClass_new'] = df['TherapeuticClass'].apply(splitcategory)\n",
    "df['PrincipalName_new'] = df['PrincipalName'].apply(splitcategory)\n",
    "\n",
    "\n",
    "# mix all text columns\n",
    "df['soup'] = df.apply(couple, axis=1)\n",
    "df['soup'] = df['soup'].apply(changeCase)"
   ]
  },
  {
   "cell_type": "code",
   "execution_count": 15,
   "id": "61bfe2a5",
   "metadata": {},
   "outputs": [
    {
     "data": {
      "text/plain": [
       "'dermaveen soap free all other non-therapeutic productsinova pharmaceuticals (s) pte dermaveen soap freewash500ml'"
      ]
     },
     "execution_count": 15,
     "metadata": {},
     "output_type": "execute_result"
    }
   ],
   "source": [
    "df['soup'][0]"
   ]
  },
  {
   "cell_type": "code",
   "execution_count": 16,
   "id": "7c4496f8",
   "metadata": {},
   "outputs": [],
   "source": [
    "def preprocess_text(question):\n",
    "    question = question.replace(\"S08_\", \"\")\n",
    "    question = question.replace(\"NOTTTT  FOUND\", \"\")\n",
    "    question = re.sub(\"([\\(\\[]).*?([\\)\\]])\", \"\", question) # remove text between brackets\n",
    "    question = re.sub(\"[^\\w\\s]\", \"\", question) # remove punctuations\n",
    "    re.sub(\"\\s+\", \" \", question) # remove multiple white spaces\n",
    "    re.sub(\"[\\t\\n]\", \"\", question) # remove tabs and newline characters\n",
    "    question = question.lower().strip()\n",
    "    return question"
   ]
  },
  {
   "cell_type": "code",
   "execution_count": 17,
   "id": "4770cdd3",
   "metadata": {},
   "outputs": [],
   "source": [
    "df['soup'] = df['soup'].apply(preprocess_text)"
   ]
  },
  {
   "cell_type": "code",
   "execution_count": 20,
   "id": "bb4a9166",
   "metadata": {},
   "outputs": [
    {
     "data": {
      "text/plain": [
       "'dermaveen soap free all other nontherapeutic productsinova pharmaceuticals  pte dermaveen soap freewash500ml'"
      ]
     },
     "execution_count": 20,
     "metadata": {},
     "output_type": "execute_result"
    }
   ],
   "source": [
    "text = df['soup']\n",
    "text[0]"
   ]
  },
  {
   "cell_type": "code",
   "execution_count": 24,
   "id": "b0743ed2",
   "metadata": {},
   "outputs": [],
   "source": [
    "def preprocess_length(question):\n",
    "    return len(question)"
   ]
  },
  {
   "cell_type": "code",
   "execution_count": 26,
   "id": "3a41d70e",
   "metadata": {},
   "outputs": [],
   "source": [
    "df['soup_length'] = df['soup'].apply(preprocess_length)"
   ]
  },
  {
   "cell_type": "code",
   "execution_count": 27,
   "id": "6f92eabf",
   "metadata": {},
   "outputs": [
    {
     "data": {
      "text/plain": [
       "0       108\n",
       "1        87\n",
       "2        98\n",
       "3        91\n",
       "4        98\n",
       "       ... \n",
       "4778    104\n",
       "4779     96\n",
       "4780     82\n",
       "4781     80\n",
       "4782     99\n",
       "Name: soup_length, Length: 4783, dtype: int64"
      ]
     },
     "execution_count": 27,
     "metadata": {},
     "output_type": "execute_result"
    }
   ],
   "source": [
    "df['soup_length'] "
   ]
  },
  {
   "cell_type": "code",
   "execution_count": 31,
   "id": "fafde19c",
   "metadata": {},
   "outputs": [
    {
     "data": {
      "text/plain": [
       "91.25883336817897"
      ]
     },
     "execution_count": 31,
     "metadata": {},
     "output_type": "execute_result"
    }
   ],
   "source": [
    "df['soup_length'].mean()"
   ]
  },
  {
   "cell_type": "code",
   "execution_count": 29,
   "id": "c94fb350",
   "metadata": {},
   "outputs": [
    {
     "name": "stderr",
     "output_type": "stream",
     "text": [
      "C:\\Users\\DELL\\.conda\\envs\\projects\\lib\\site-packages\\seaborn\\distributions.py:2619: FutureWarning: `distplot` is a deprecated function and will be removed in a future version. Please adapt your code to use either `displot` (a figure-level function with similar flexibility) or `histplot` (an axes-level function for histograms).\n",
      "  warnings.warn(msg, FutureWarning)\n"
     ]
    },
    {
     "data": {
      "text/plain": [
       "<AxesSubplot: xlabel='soup_length', ylabel='Density'>"
      ]
     },
     "execution_count": 29,
     "metadata": {},
     "output_type": "execute_result"
    },
    {
     "data": {
      "image/png": "[encoded data removed]",
      "text/plain": [
       "<Figure size 432x288 with 1 Axes>"
      ]
     },
     "metadata": {
      "needs_background": "light"
     },
     "output_type": "display_data"
    }
   ],
   "source": [
    "sns.distplot(df['soup_length'])"
   ]
  },
  {
   "cell_type": "code",
   "execution_count": 32,
   "id": "00b17aaf",
   "metadata": {},
   "outputs": [
    {
     "name": "stdout",
     "output_type": "stream",
     "text": [
      "mean: 91.25883336817897, std: 17.120013091156284\n"
     ]
    }
   ],
   "source": [
    "mean = df['soup_length'].mean()\n",
    "std = df['soup_length'].std()\n",
    "print(f\"mean: {mean}, std: {std}\")"
   ]
  },
  {
   "cell_type": "code",
   "execution_count": 33,
   "id": "ab444563",
   "metadata": {},
   "outputs": [
    {
     "name": "stdout",
     "output_type": "stream",
     "text": [
      "optimum length: 108\n"
     ]
    }
   ],
   "source": [
    "optimum_length = int(mean + std)\n",
    "print(f\"optimum length: {optimum_length}\")"
   ]
  },
  {
   "cell_type": "code",
   "execution_count": 35,
   "id": "02430917",
   "metadata": {},
   "outputs": [],
   "source": [
    "res = df[ df['soup_length'] < 108]"
   ]
  },
  {
   "cell_type": "code",
   "execution_count": 37,
   "id": "1176f3df",
   "metadata": {},
   "outputs": [
    {
     "data": {
      "text/html": [
       "<div>\n",
       "<style scoped>\n",
       "    .dataframe tbody tr th:only-of-type {\n",
       "        vertical-align: middle;\n",
       "    }\n",
       "\n",
       "    .dataframe tbody tr th {\n",
       "        vertical-align: top;\n",
       "    }\n",
       "\n",
       "    .dataframe thead th {\n",
       "        text-align: right;\n",
       "    }\n",
       "</style>\n",
       "<table border=\"1\" class=\"dataframe\">\n",
       "  <thead>\n",
       "    <tr style=\"text-align: right;\">\n",
       "      <th></th>\n",
       "      <th>matnr</th>\n",
       "      <th>zzprncode</th>\n",
       "      <th>zzibrnd</th>\n",
       "      <th>mtart</th>\n",
       "      <th>matkl</th>\n",
       "      <th>TherapeuticClass</th>\n",
       "      <th>PrincipalName</th>\n",
       "      <th>mstae</th>\n",
       "      <th>mstde</th>\n",
       "      <th>mstav</th>\n",
       "      <th>...</th>\n",
       "      <th>prat5</th>\n",
       "      <th>prat6</th>\n",
       "      <th>prat7</th>\n",
       "      <th>prat8</th>\n",
       "      <th>prat9</th>\n",
       "      <th>zzibrnd_new</th>\n",
       "      <th>TherapeuticClass_new</th>\n",
       "      <th>PrincipalName_new</th>\n",
       "      <th>soup</th>\n",
       "      <th>soup_length</th>\n",
       "    </tr>\n",
       "  </thead>\n",
       "  <tbody>\n",
       "    <tr>\n",
       "      <th>1</th>\n",
       "      <td>23046633</td>\n",
       "      <td>101234.0</td>\n",
       "      <td>KENHANCER PLASTER</td>\n",
       "      <td>ZF03</td>\n",
       "      <td>ZMC</td>\n",
       "      <td>Topical antirheumatics</td>\n",
       "      <td>SUN PHARMACEUTICAL SDN BHD</td>\n",
       "      <td>LR</td>\n",
       "      <td>20250101</td>\n",
       "      <td>LR</td>\n",
       "      <td>...</td>\n",
       "      <td>NaN</td>\n",
       "      <td>NaN</td>\n",
       "      <td>NaN</td>\n",
       "      <td>NaN</td>\n",
       "      <td>NaN</td>\n",
       "      <td>[KENHANCER PLASTER]</td>\n",
       "      <td>[Topical antirheumatics]</td>\n",
       "      <td>[SUN PHARMACEUTICAL SDN BHD]</td>\n",
       "      <td>kenhancer plaster topical antirheumaticssun ph...</td>\n",
       "      <td>87</td>\n",
       "    </tr>\n",
       "    <tr>\n",
       "      <th>2</th>\n",
       "      <td>21210803</td>\n",
       "      <td>101223.0</td>\n",
       "      <td>TECNIS ONE ZCB 06.5D</td>\n",
       "      <td>ZF01</td>\n",
       "      <td>ZMD</td>\n",
       "      <td>Cataract and anticataractogenic preps.</td>\n",
       "      <td>ABBOTT MEDICAL OPTICS</td>\n",
       "      <td>LR</td>\n",
       "      <td>99910101</td>\n",
       "      <td>LR</td>\n",
       "      <td>...</td>\n",
       "      <td>NaN</td>\n",
       "      <td>NaN</td>\n",
       "      <td>NaN</td>\n",
       "      <td>NaN</td>\n",
       "      <td>NaN</td>\n",
       "      <td>[TECNIS ONE ZCB 06.5D]</td>\n",
       "      <td>[Cataract and anticataractogenic preps.]</td>\n",
       "      <td>[ABBOTT MEDICAL OPTICS]</td>\n",
       "      <td>tecnis one zcb 065d cataract and anticataracto...</td>\n",
       "      <td>98</td>\n",
       "    </tr>\n",
       "    <tr>\n",
       "      <th>3</th>\n",
       "      <td>23064902</td>\n",
       "      <td>101369.0</td>\n",
       "      <td>REDOXON KIDS DA CHEW</td>\n",
       "      <td>ZF03</td>\n",
       "      <td>ZCH</td>\n",
       "      <td>Vitamin C combinations</td>\n",
       "      <td>BAYER CO (MALAYSIA) SDN BHD</td>\n",
       "      <td>LR</td>\n",
       "      <td>20250101</td>\n",
       "      <td>LR</td>\n",
       "      <td>...</td>\n",
       "      <td>NaN</td>\n",
       "      <td>NaN</td>\n",
       "      <td>NaN</td>\n",
       "      <td>NaN</td>\n",
       "      <td>NaN</td>\n",
       "      <td>[REDOXON KIDS DA CHEW]</td>\n",
       "      <td>[Vitamin C combinations]</td>\n",
       "      <td>[BAYER CO (MALAYSIA) SDN BHD]</td>\n",
       "      <td>redoxon kids da chew vitamin c combinationsbay...</td>\n",
       "      <td>91</td>\n",
       "    </tr>\n",
       "    <tr>\n",
       "      <th>4</th>\n",
       "      <td>21037570</td>\n",
       "      <td>101223.0</td>\n",
       "      <td>TECNIS ONE ZCB 21.0D</td>\n",
       "      <td>ZF01</td>\n",
       "      <td>ZMD</td>\n",
       "      <td>Cataract and anticataractogenic preps.</td>\n",
       "      <td>ABBOTT MEDICAL OPTICS</td>\n",
       "      <td>LR</td>\n",
       "      <td>20250101</td>\n",
       "      <td>LR</td>\n",
       "      <td>...</td>\n",
       "      <td>NaN</td>\n",
       "      <td>NaN</td>\n",
       "      <td>NaN</td>\n",
       "      <td>NaN</td>\n",
       "      <td>NaN</td>\n",
       "      <td>[TECNIS ONE ZCB 21.0D]</td>\n",
       "      <td>[Cataract and anticataractogenic preps.]</td>\n",
       "      <td>[ABBOTT MEDICAL OPTICS]</td>\n",
       "      <td>tecnis one zcb 210d cataract and anticataracto...</td>\n",
       "      <td>98</td>\n",
       "    </tr>\n",
       "    <tr>\n",
       "      <th>5</th>\n",
       "      <td>23344235</td>\n",
       "      <td>102575.0</td>\n",
       "      <td>SynMesh Cutter</td>\n",
       "      <td>ZF03</td>\n",
       "      <td>ZPE</td>\n",
       "      <td>Promotional items</td>\n",
       "      <td>STRYKER CORPORATION (M) SDN BHD</td>\n",
       "      <td>LR</td>\n",
       "      <td>99901231</td>\n",
       "      <td>LR</td>\n",
       "      <td>...</td>\n",
       "      <td>NaN</td>\n",
       "      <td>NaN</td>\n",
       "      <td>NaN</td>\n",
       "      <td>NaN</td>\n",
       "      <td>NaN</td>\n",
       "      <td>[SynMesh Cutter]</td>\n",
       "      <td>[Promotional items]</td>\n",
       "      <td>[STRYKER CORPORATION (M) SDN BHD]</td>\n",
       "      <td>synmesh cutter promotional itemsstryker corpor...</td>\n",
       "      <td>78</td>\n",
       "    </tr>\n",
       "    <tr>\n",
       "      <th>...</th>\n",
       "      <td>...</td>\n",
       "      <td>...</td>\n",
       "      <td>...</td>\n",
       "      <td>...</td>\n",
       "      <td>...</td>\n",
       "      <td>...</td>\n",
       "      <td>...</td>\n",
       "      <td>...</td>\n",
       "      <td>...</td>\n",
       "      <td>...</td>\n",
       "      <td>...</td>\n",
       "      <td>...</td>\n",
       "      <td>...</td>\n",
       "      <td>...</td>\n",
       "      <td>...</td>\n",
       "      <td>...</td>\n",
       "      <td>...</td>\n",
       "      <td>...</td>\n",
       "      <td>...</td>\n",
       "      <td>...</td>\n",
       "      <td>...</td>\n",
       "    </tr>\n",
       "    <tr>\n",
       "      <th>4778</th>\n",
       "      <td>23064645</td>\n",
       "      <td>101369.0</td>\n",
       "      <td>BEPANTHEN FIRST AID</td>\n",
       "      <td>ZF03</td>\n",
       "      <td>ZWM</td>\n",
       "      <td>All other wound healing agents</td>\n",
       "      <td>BAYER CO (MALAYSIA) SDN BHD</td>\n",
       "      <td>LR</td>\n",
       "      <td>20250101</td>\n",
       "      <td>LR</td>\n",
       "      <td>...</td>\n",
       "      <td>NaN</td>\n",
       "      <td>NaN</td>\n",
       "      <td>NaN</td>\n",
       "      <td>NaN</td>\n",
       "      <td>NaN</td>\n",
       "      <td>[BEPANTHEN FIRST AID]</td>\n",
       "      <td>[All other wound healing agents]</td>\n",
       "      <td>[BAYER CO (MALAYSIA) SDN BHD]</td>\n",
       "      <td>bepanthen first aid all other wound healing ag...</td>\n",
       "      <td>104</td>\n",
       "    </tr>\n",
       "    <tr>\n",
       "      <th>4779</th>\n",
       "      <td>23348769</td>\n",
       "      <td>101228.0</td>\n",
       "      <td>(Z) JANUMET XR 50/</td>\n",
       "      <td>ZF03</td>\n",
       "      <td>ZPE</td>\n",
       "      <td>DPP-IV Inhibitor &amp; Biguanide Antidiab.</td>\n",
       "      <td>MERCK SHARP &amp; DOHME (I.A)</td>\n",
       "      <td>LR</td>\n",
       "      <td>20241206</td>\n",
       "      <td>LR</td>\n",
       "      <td>...</td>\n",
       "      <td>NaN</td>\n",
       "      <td>NaN</td>\n",
       "      <td>NaN</td>\n",
       "      <td>NaN</td>\n",
       "      <td>NaN</td>\n",
       "      <td>[(Z) JANUMET XR 50/]</td>\n",
       "      <td>[DPP-IV Inhibitor , Biguanide Antidiab.]</td>\n",
       "      <td>[MERCK SHARP , DOHME (I.A)]</td>\n",
       "      <td>janumet xr 50 dppiv inhibitor  biguanide antid...</td>\n",
       "      <td>96</td>\n",
       "    </tr>\n",
       "    <tr>\n",
       "      <th>4780</th>\n",
       "      <td>23348901</td>\n",
       "      <td>101219.0</td>\n",
       "      <td>(Z) MABTHERA VIAL</td>\n",
       "      <td>ZF03</td>\n",
       "      <td>ZPE</td>\n",
       "      <td>Other Immunosuppressants</td>\n",
       "      <td>ROCHE (MALAYSIA) SDN BHD</td>\n",
       "      <td>LR</td>\n",
       "      <td>20250201</td>\n",
       "      <td>LR</td>\n",
       "      <td>...</td>\n",
       "      <td>NaN</td>\n",
       "      <td>NaN</td>\n",
       "      <td>NaN</td>\n",
       "      <td>NaN</td>\n",
       "      <td>NaN</td>\n",
       "      <td>[(Z) MABTHERA VIAL]</td>\n",
       "      <td>[Other Immunosuppressants]</td>\n",
       "      <td>[ROCHE (MALAYSIA) SDN BHD]</td>\n",
       "      <td>mabthera vial other immunosuppressantsroche  s...</td>\n",
       "      <td>82</td>\n",
       "    </tr>\n",
       "    <tr>\n",
       "      <th>4781</th>\n",
       "      <td>23348920</td>\n",
       "      <td>101219.0</td>\n",
       "      <td>(Z) ACTEMRA VIAL</td>\n",
       "      <td>ZF03</td>\n",
       "      <td>ZPE</td>\n",
       "      <td>Other Immunosuppressants</td>\n",
       "      <td>ROCHE (MALAYSIA) SDN BHD</td>\n",
       "      <td>LR</td>\n",
       "      <td>22241121</td>\n",
       "      <td>LR</td>\n",
       "      <td>...</td>\n",
       "      <td>NaN</td>\n",
       "      <td>NaN</td>\n",
       "      <td>NaN</td>\n",
       "      <td>NaN</td>\n",
       "      <td>NaN</td>\n",
       "      <td>[(Z) ACTEMRA VIAL]</td>\n",
       "      <td>[Other Immunosuppressants]</td>\n",
       "      <td>[ROCHE (MALAYSIA) SDN BHD]</td>\n",
       "      <td>actemra vial other immunosuppressantsroche  sd...</td>\n",
       "      <td>80</td>\n",
       "    </tr>\n",
       "    <tr>\n",
       "      <th>4782</th>\n",
       "      <td>23063718</td>\n",
       "      <td>101363.0</td>\n",
       "      <td>FOLTENE ANTI AGING</td>\n",
       "      <td>ZF03</td>\n",
       "      <td>ZCS</td>\n",
       "      <td>Other dermatological preparations</td>\n",
       "      <td>PARVUS SDN BHD</td>\n",
       "      <td>LR</td>\n",
       "      <td>20250120</td>\n",
       "      <td>LR</td>\n",
       "      <td>...</td>\n",
       "      <td>NaN</td>\n",
       "      <td>NaN</td>\n",
       "      <td>NaN</td>\n",
       "      <td>NaN</td>\n",
       "      <td>NaN</td>\n",
       "      <td>[FOLTENE ANTI AGING]</td>\n",
       "      <td>[Other dermatological preparations]</td>\n",
       "      <td>[PARVUS SDN BHD]</td>\n",
       "      <td>foltene anti aging other dermatological prepar...</td>\n",
       "      <td>99</td>\n",
       "    </tr>\n",
       "  </tbody>\n",
       "</table>\n",
       "<p>4144 rows × 65 columns</p>\n",
       "</div>"
      ],
      "text/plain": [
       "         matnr  zzprncode               zzibrnd mtart matkl  \\\n",
       "1     23046633   101234.0     KENHANCER PLASTER  ZF03   ZMC   \n",
       "2     21210803   101223.0  TECNIS ONE ZCB 06.5D  ZF01   ZMD   \n",
       "3     23064902   101369.0  REDOXON KIDS DA CHEW  ZF03   ZCH   \n",
       "4     21037570   101223.0  TECNIS ONE ZCB 21.0D  ZF01   ZMD   \n",
       "5     23344235   102575.0        SynMesh Cutter  ZF03   ZPE   \n",
       "...        ...        ...                   ...   ...   ...   \n",
       "4778  23064645   101369.0   BEPANTHEN FIRST AID  ZF03   ZWM   \n",
       "4779  23348769   101228.0    (Z) JANUMET XR 50/  ZF03   ZPE   \n",
       "4780  23348901   101219.0     (Z) MABTHERA VIAL  ZF03   ZPE   \n",
       "4781  23348920   101219.0      (Z) ACTEMRA VIAL  ZF03   ZPE   \n",
       "4782  23063718   101363.0    FOLTENE ANTI AGING  ZF03   ZCS   \n",
       "\n",
       "                            TherapeuticClass                    PrincipalName  \\\n",
       "1                     Topical antirheumatics       SUN PHARMACEUTICAL SDN BHD   \n",
       "2     Cataract and anticataractogenic preps.            ABBOTT MEDICAL OPTICS   \n",
       "3                     Vitamin C combinations      BAYER CO (MALAYSIA) SDN BHD   \n",
       "4     Cataract and anticataractogenic preps.            ABBOTT MEDICAL OPTICS   \n",
       "5                          Promotional items  STRYKER CORPORATION (M) SDN BHD   \n",
       "...                                      ...                              ...   \n",
       "4778          All other wound healing agents      BAYER CO (MALAYSIA) SDN BHD   \n",
       "4779  DPP-IV Inhibitor & Biguanide Antidiab.        MERCK SHARP & DOHME (I.A)   \n",
       "4780                Other Immunosuppressants         ROCHE (MALAYSIA) SDN BHD   \n",
       "4781                Other Immunosuppressants         ROCHE (MALAYSIA) SDN BHD   \n",
       "4782       Other dermatological preparations                   PARVUS SDN BHD   \n",
       "\n",
       "     mstae     mstde mstav  ...  prat5 prat6  prat7  prat8  prat9  \\\n",
       "1       LR  20250101    LR  ...    NaN   NaN    NaN    NaN    NaN   \n",
       "2       LR  99910101    LR  ...    NaN   NaN    NaN    NaN    NaN   \n",
       "3       LR  20250101    LR  ...    NaN   NaN    NaN    NaN    NaN   \n",
       "4       LR  20250101    LR  ...    NaN   NaN    NaN    NaN    NaN   \n",
       "5       LR  99901231    LR  ...    NaN   NaN    NaN    NaN    NaN   \n",
       "...    ...       ...   ...  ...    ...   ...    ...    ...    ...   \n",
       "4778    LR  20250101    LR  ...    NaN   NaN    NaN    NaN    NaN   \n",
       "4779    LR  20241206    LR  ...    NaN   NaN    NaN    NaN    NaN   \n",
       "4780    LR  20250201    LR  ...    NaN   NaN    NaN    NaN    NaN   \n",
       "4781    LR  22241121    LR  ...    NaN   NaN    NaN    NaN    NaN   \n",
       "4782    LR  20250120    LR  ...    NaN   NaN    NaN    NaN    NaN   \n",
       "\n",
       "                 zzibrnd_new                      TherapeuticClass_new  \\\n",
       "1        [KENHANCER PLASTER]                  [Topical antirheumatics]   \n",
       "2     [TECNIS ONE ZCB 06.5D]  [Cataract and anticataractogenic preps.]   \n",
       "3     [REDOXON KIDS DA CHEW]                  [Vitamin C combinations]   \n",
       "4     [TECNIS ONE ZCB 21.0D]  [Cataract and anticataractogenic preps.]   \n",
       "5           [SynMesh Cutter]                       [Promotional items]   \n",
       "...                      ...                                       ...   \n",
       "4778   [BEPANTHEN FIRST AID]          [All other wound healing agents]   \n",
       "4779    [(Z) JANUMET XR 50/]  [DPP-IV Inhibitor , Biguanide Antidiab.]   \n",
       "4780     [(Z) MABTHERA VIAL]                [Other Immunosuppressants]   \n",
       "4781      [(Z) ACTEMRA VIAL]                [Other Immunosuppressants]   \n",
       "4782    [FOLTENE ANTI AGING]       [Other dermatological preparations]   \n",
       "\n",
       "                      PrincipalName_new  \\\n",
       "1          [SUN PHARMACEUTICAL SDN BHD]   \n",
       "2               [ABBOTT MEDICAL OPTICS]   \n",
       "3         [BAYER CO (MALAYSIA) SDN BHD]   \n",
       "4               [ABBOTT MEDICAL OPTICS]   \n",
       "5     [STRYKER CORPORATION (M) SDN BHD]   \n",
       "...                                 ...   \n",
       "4778      [BAYER CO (MALAYSIA) SDN BHD]   \n",
       "4779        [MERCK SHARP , DOHME (I.A)]   \n",
       "4780         [ROCHE (MALAYSIA) SDN BHD]   \n",
       "4781         [ROCHE (MALAYSIA) SDN BHD]   \n",
       "4782                   [PARVUS SDN BHD]   \n",
       "\n",
       "                                                   soup  soup_length  \n",
       "1     kenhancer plaster topical antirheumaticssun ph...           87  \n",
       "2     tecnis one zcb 065d cataract and anticataracto...           98  \n",
       "3     redoxon kids da chew vitamin c combinationsbay...           91  \n",
       "4     tecnis one zcb 210d cataract and anticataracto...           98  \n",
       "5     synmesh cutter promotional itemsstryker corpor...           78  \n",
       "...                                                 ...          ...  \n",
       "4778  bepanthen first aid all other wound healing ag...          104  \n",
       "4779  janumet xr 50 dppiv inhibitor  biguanide antid...           96  \n",
       "4780  mabthera vial other immunosuppressantsroche  s...           82  \n",
       "4781  actemra vial other immunosuppressantsroche  sd...           80  \n",
       "4782  foltene anti aging other dermatological prepar...           99  \n",
       "\n",
       "[4144 rows x 65 columns]"
      ]
     },
     "execution_count": 37,
     "metadata": {},
     "output_type": "execute_result"
    }
   ],
   "source": [
    "res"
   ]
  },
  {
   "cell_type": "code",
   "execution_count": 44,
   "id": "ee8bbca4",
   "metadata": {},
   "outputs": [],
   "source": [
    "class QuestionsDataset(Dataset):\n",
    "    def __init__(self, questions, vocab, sos_token, eos_token, batch_first=False):\n",
    "        \n",
    "        # initialize parameters\n",
    "        self.sos_idx = 0\n",
    "        self.eos_idx = 1\n",
    "        self.int2char = {self.sos_idx: sos_token, self.eos_idx: eos_token} # insert start of sentence and end of sentence tokens\n",
    "        self.int2char.update({idx: char for idx, char in enumerate(vocab, start=self.eos_idx+1)})\n",
    "        self.char2int = {char: idx for idx, char in self.int2char.items()}\n",
    "        self.n_chars = len(self.int2char)\n",
    "        \n",
    "        # encode and pad questions\n",
    "        self.questions_encoded = pad_sequence([self.encode_question(q) for q in questions], \\\n",
    "                                              batch_first=batch_first)\n",
    "                \n",
    "    def __len__(self):\n",
    "        return len(self.questions_encoded)\n",
    "    \n",
    "    def __getitem__(self, idx):\n",
    "        return self.questions_encoded[idx]\n",
    "        \n",
    "    def encode_question(self, question):\n",
    "        '''\n",
    "        encode question as char indices and perform one-hot encoding\n",
    "        '''\n",
    "        question_encoded = [self.sos_idx] # append sos\n",
    "        for char in question:\n",
    "            question_encoded.append(self.char2int[char])\n",
    "        question_encoded.append(self.eos_idx) # append eos\n",
    "        return F.one_hot(torch.tensor(question_encoded, dtype=torch.long), self.n_chars).float()"
   ]
  },
  {
   "cell_type": "code",
   "execution_count": null,
   "id": "13eeb1d3",
   "metadata": {},
   "outputs": [],
   "source": []
  }
 ],
 "metadata": {
  "kernelspec": {
   "display_name": "Python 3 (ipykernel)",
   "language": "python",
   "name": "python3"
  },
  "language_info": {
   "codemirror_mode": {
    "name": "ipython",
    "version": 3
   },
   "file_extension": ".py",
   "mimetype": "text/x-python",
   "name": "python",
   "nbconvert_exporter": "python",
   "pygments_lexer": "ipython3",
   "version": "3.9.15"
  }
 },
 "nbformat": 4,
 "nbformat_minor": 5
}
