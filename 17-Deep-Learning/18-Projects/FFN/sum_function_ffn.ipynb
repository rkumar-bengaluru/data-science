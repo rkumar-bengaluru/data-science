{
 "cells": [
  {
   "cell_type": "markdown",
   "id": "3e93d908",
   "metadata": {},
   "source": [
    "# Deep Learning for addition"
   ]
  },
  {
   "cell_type": "code",
   "execution_count": 64,
   "id": "11cf5dca",
   "metadata": {},
   "outputs": [],
   "source": [
    "# numpy\n",
    "import numpy as np\n",
    "\n",
    "# pytorch\n",
    "import torch\n",
    "import torch.nn as nn\n",
    "import torch.nn.functional as F\n",
    "from torch.utils.data import DataLoader,TensorDataset\n",
    "\n",
    "# scikit\n",
    "from sklearn.model_selection import train_test_split\n",
    "\n",
    "# visualization"
   ]
  },
  {
   "cell_type": "markdown",
   "id": "10c11fa6",
   "metadata": {},
   "source": [
    "## Generate Data"
   ]
  },
  {
   "cell_type": "code",
   "execution_count": 61,
   "id": "5f6a7ad5",
   "metadata": {},
   "outputs": [],
   "source": [
    "# generate 500 samples between -10 & + 10 as first input\n",
    "# generate 500 samples between -10 & + 10 as second input\n",
    "# y is the sum of first and second sample\n",
    "nPerClust = 10\n",
    "a = np.random.randint(-10,10,nPerClust)\n",
    "b = np.random.randint(-10,10,nPerClust)\n",
    "y = a + b\n",
    "# concatanate into a matrix\n",
    "data_np = np.array((a,b)).T\n",
    "# true labels\n",
    "labels_np = np.vstack(y)"
   ]
  },
  {
   "cell_type": "markdown",
   "id": "e79e30a2",
   "metadata": {},
   "source": [
    "### normalize data"
   ]
  },
  {
   "cell_type": "code",
   "execution_count": 62,
   "id": "46b21664",
   "metadata": {},
   "outputs": [
    {
     "data": {
      "text/plain": [
       "array([[-1.42857143, -0.71428571],\n",
       "       [ 0.57142857,  0.42857143],\n",
       "       [ 0.42857143,  0.85714286],\n",
       "       [ 0.85714286,  0.85714286],\n",
       "       [ 0.        ,  0.85714286],\n",
       "       [ 0.71428571, -0.85714286],\n",
       "       [-0.42857143,  0.71428571],\n",
       "       [ 0.71428571, -1.28571429],\n",
       "       [ 0.85714286,  1.        ],\n",
       "       [ 0.28571429,  0.71428571]])"
      ]
     },
     "execution_count": 62,
     "metadata": {},
     "output_type": "execute_result"
    }
   ],
   "source": [
    "# print(data_np)\n",
    "data_norm = data_np/np.max(data_np)\n",
    "data_norm"
   ]
  },
  {
   "cell_type": "markdown",
   "id": "ff2fab5c",
   "metadata": {},
   "source": [
    "## Create train/test group using data loader"
   ]
  },
  {
   "cell_type": "code",
   "execution_count": 106,
   "id": "c02ff3e6",
   "metadata": {},
   "outputs": [
    {
     "name": "stdout",
     "output_type": "stream",
     "text": [
      "<torch.utils.data.dataloader.DataLoader object at 0x00000282C67D9D00>\n",
      "<torch.utils.data.dataloader.DataLoader object at 0x00000282C67D9DC0>\n"
     ]
    }
   ],
   "source": [
    "# step 1 - convert to tensors\n",
    "datat = torch.tensor(data_np).float()\n",
    "labelt = torch.tensor(labels_np).float()\n",
    "\n",
    "# step 2 - use scikit to split data\n",
    "X_train, X_test, y_train, y_test = train_test_split(datat, labelt, test_size=0.2, random_state=101)\n",
    "\n",
    "# convert to pytorch data sets\n",
    "train_data = TensorDataset(X_train,y_train)\n",
    "test_data = TensorDataset(X_test,y_test)\n",
    "\n",
    "# translate to dataloader objects\n",
    "batch_size = 2\n",
    "train_loader = DataLoader(train_data,batch_size=batch_size,shuffle=True,drop_last=True)\n",
    "test_loader = DataLoader(test_data,batch_size=test_data.tensors[0].shape[0])\n",
    "print(train_loader)\n",
    "print(test_loader)"
   ]
  },
  {
   "cell_type": "code",
   "execution_count": 107,
   "id": "54d2446c",
   "metadata": {},
   "outputs": [
    {
     "name": "stdout",
     "output_type": "stream",
     "text": [
      "tensor([[6., 7.],\n",
      "        [3., 6.]])\n"
     ]
    },
    {
     "data": {
      "text/plain": [
       "[tensor([[-3.,  5.],\n",
       "         [ 2.,  5.]]),\n",
       " tensor([[2.],\n",
       "         [7.]])]"
      ]
     },
     "execution_count": 107,
     "metadata": {},
     "output_type": "execute_result"
    }
   ],
   "source": [
    "print(test_data.tensors[0])\n",
    "next(iter(train_loader))"
   ]
  },
  {
   "cell_type": "code",
   "execution_count": 145,
   "id": "cf696d49",
   "metadata": {},
   "outputs": [],
   "source": [
    "# define and create the model\n",
    "def createModel():\n",
    "    \n",
    "    class sumFunctionANN(nn.Module):\n",
    "        # initialize\n",
    "        def __init__(self):\n",
    "            super().__init__()\n",
    "            ## input layer.\n",
    "            self.input = nn.Linear(2,2)\n",
    "            ## hidden layer\n",
    "            self.fc1 = nn.Linear(2,2)\n",
    "            ## output layer\n",
    "            self.output = nn.Linear(2,1)\n",
    "            # create the loss function\n",
    "            self.lossfunc = nn.MSELoss()\n",
    "            # learning rate\n",
    "            self.learningRate = .01\n",
    "            # optimizer\n",
    "            self.optimizer = torch.optim.SGD(self.parameters(),lr=learningRate)\n",
    "        \n",
    "        # forward pass\n",
    "        def forward(self,x):\n",
    "            # pass through input layer\n",
    "            x = F.relu(self.input(x))\n",
    "            # pass through hidden layer\n",
    "            x = F.relu(self.fc1(x))\n",
    "            # pass through output layer\n",
    "            x = torch.sigmoid(self.output(x))\n",
    "            return x\n",
    "        \n",
    "        # train the model\n",
    "        def train(self,X,y):\n",
    "            batchAcc  = []\n",
    "            batchLoss = []\n",
    "            \n",
    "            # forward pass and loss\n",
    "            yHat = self.forward(X)\n",
    "            loss = self.lossfunc(yHat,y)\n",
    "            \n",
    "            # backprop\n",
    "            self.optimizer.zero_grad()\n",
    "            loss.backward()\n",
    "            self.optimizer.step()\n",
    "            \n",
    "            # loss from this batch\n",
    "            batchLoss.append(loss.item())\n",
    "            \n",
    "            # compute accuracy\n",
    "            matches = torch.argmax(yHat,axis=1) == y     # booleans (false/true)\n",
    "            matchesNumeric = matches.float()             # convert to numbers (0/1)\n",
    "            accuracyPct = 100*torch.mean(matchesNumeric) # average and x100\n",
    "            batchAcc.append( accuracyPct )               # add to list of accuracies\n",
    "            \n",
    "            return batchAcc,batchLoss\n",
    "            \n",
    "            \n",
    "    # create an instance of the model class\n",
    "    model = sumFunctionANN()\n",
    "    \n",
    "    \n",
    "    return model\n",
    "        "
   ]
  },
  {
   "cell_type": "code",
   "execution_count": 148,
   "id": "b37785c4",
   "metadata": {},
   "outputs": [
    {
     "name": "stdout",
     "output_type": "stream",
     "text": [
      "[139.99896240234375]\n",
      "[tensor(0.)]\n"
     ]
    }
   ],
   "source": [
    "# test the model with 1 batch\n",
    "m = createModel()\n",
    "m\n",
    "# test with 1 instance of data\n",
    "X ,y = next(iter(train_loader))\n",
    "batchAcc,batchLoss = m.train(X,y)\n",
    "\n",
    "print(batchLoss)\n",
    "print(batchAcc)"
   ]
  },
  {
   "cell_type": "markdown",
   "id": "26a13d58",
   "metadata": {},
   "source": [
    "# Function to train the model"
   ]
  },
  {
   "cell_type": "code",
   "execution_count": 14,
   "id": "8928e263",
   "metadata": {},
   "outputs": [
    {
     "data": {
      "text/plain": [
       "array([  6,  16, -10,   7,  -3,  -4, -10,  -4,  -1,   2])"
      ]
     },
     "execution_count": 14,
     "metadata": {},
     "output_type": "execute_result"
    }
   ],
   "source": [
    "def trainModel():\n",
    "    # no of epochs\n",
    "    numofepochs = 100\n",
    "    # create a new model\n",
    "    model, lossfunc, optimizer = createModel()\n",
    "    # initialize losses\n",
    "    losses = torch.zeros(numofepochs)\n",
    "    trainAcc = []\n",
    "    testAcc = []\n",
    "    \n",
    "    # loop over epochs\n",
    "    for epochi in range(numofepochs):\n",
    "        \n",
    "        # loop over batches\n",
    "        batchAcc = []\n",
    "        batchLoss = []\n",
    "        \n",
    "        for X,y in train_loader:\n",
    "            \n",
    "            # forward pass\n",
    "            yHat = model(X)\n",
    "            loss = lossfunc(yHat,y)\n",
    "            \n",
    "            # back propogation\n",
    "            \n",
    "    "
   ]
  },
  {
   "cell_type": "code",
   "execution_count": null,
   "id": "2ad1843d",
   "metadata": {},
   "outputs": [],
   "source": []
  }
 ],
 "metadata": {
  "kernelspec": {
   "display_name": "Python 3 (ipykernel)",
   "language": "python",
   "name": "python3"
  },
  "language_info": {
   "codemirror_mode": {
    "name": "ipython",
    "version": 3
   },
   "file_extension": ".py",
   "mimetype": "text/x-python",
   "name": "python",
   "nbconvert_exporter": "python",
   "pygments_lexer": "ipython3",
   "version": "3.9.15"
  }
 },
 "nbformat": 4,
 "nbformat_minor": 5
}
