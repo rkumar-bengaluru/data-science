{
 "cells": [
  {
   "cell_type": "markdown",
   "metadata": {
    "id": "bhWV8oes-wKR"
   },
   "source": [
    "# COURSE: A deep understanding of deep learning\n",
    "## SECTION: FFN\n",
    "### LECTURE: The MNIST dataset\n",
    "#### TEACHER: Mike X Cohen, sincxpress.com\n",
    "##### COURSE URL: udemy.com/course/deeplearning_x/?couponCode=202212"
   ]
  },
  {
   "cell_type": "code",
   "execution_count": null,
   "metadata": {
    "id": "YeuAheYyhdZw"
   },
   "outputs": [],
   "source": [
    "# import libraries\n",
    "import numpy as np\n",
    "import matplotlib.pyplot as plt\n",
    "from IPython import display\n",
    "display.set_matplotlib_formats('svg')"
   ]
  },
  {
   "cell_type": "code",
   "execution_count": null,
   "metadata": {
    "id": "MU7rvmWuhjud"
   },
   "outputs": [],
   "source": [
    "# import dataset (comes with colab!)\n",
    "data = np.loadtxt(open('sample_data/mnist_train_small.csv','rb'),delimiter=',')"
   ]
  },
  {
   "cell_type": "code",
   "execution_count": null,
   "metadata": {
    "id": "8948Heuwth0l"
   },
   "outputs": [],
   "source": [
    "# shape of the data matrix\n",
    "data.shape"
   ]
  },
  {
   "cell_type": "code",
   "execution_count": null,
   "metadata": {
    "id": "Me1IOCLMuNPB"
   },
   "outputs": [],
   "source": [
    "# extract labels (number IDs) and remove from data\n",
    "labels = data[:,0]\n",
    "data = data[:,1:]\n",
    "\n",
    "print(labels.shape)\n",
    "print(data.shape)"
   ]
  },
  {
   "cell_type": "code",
   "execution_count": null,
   "metadata": {
    "id": "_COIDO8juVAl"
   },
   "outputs": [],
   "source": [
    "# show a few random digits\n",
    "fig,axs = plt.subplots(3,4,figsize=(10,6))\n",
    "\n",
    "for ax in axs.flatten():\n",
    "  # pick a random image\n",
    "  randimg2show = np.random.randint(0,high=data.shape[0])\n",
    "\n",
    "  # create the image (must be reshaped!)\n",
    "  img = np.reshape(data[randimg2show,:],(28,28))\n",
    "  ax.imshow(img,cmap='gray')\n",
    "\n",
    "  # title\n",
    "  ax.set_title('The number %i'%labels[randimg2show])\n",
    "\n",
    "plt.suptitle('How humans see the data',fontsize=20)\n",
    "plt.tight_layout(rect=[0,0,1,.95])\n",
    "plt.show()"
   ]
  },
  {
   "cell_type": "code",
   "execution_count": null,
   "metadata": {
    "id": "vJPkH6Bfh01_"
   },
   "outputs": [],
   "source": [
    "# show a few random digits\n",
    "fig,axs = plt.subplots(3,4,figsize=(10,6))\n",
    "\n",
    "for ax in axs.flatten():\n",
    "  # pick a random image\n",
    "  randimg2show = np.random.randint(0,high=data.shape[0])\n",
    "\n",
    "  # create the image\n",
    "  ax.plot(data[randimg2show,:],'ko')\n",
    "\n",
    "  # title\n",
    "  ax.set_title('The number %i'%labels[randimg2show])\n",
    "\n",
    "plt.suptitle('How the FFN model sees the data',fontsize=20)\n",
    "plt.tight_layout(rect=[0,0,1,.95])\n",
    "plt.show()"
   ]
  },
  {
   "cell_type": "code",
   "execution_count": null,
   "metadata": {
    "id": "S6bXvj3ohX3R"
   },
   "outputs": [],
   "source": [
    "# let's see some example 7s\n",
    "\n",
    "# find indices of all the 7's in the dataset\n",
    "the7s = np.where(labels==7)[0]\n",
    "\n",
    "# draw the first 12\n",
    "fig,axs = plt.subplots(2,6,figsize=(15,6))\n",
    "\n",
    "for i,ax in enumerate(axs.flatten()):\n",
    "  img = np.reshape(data[the7s[i],:],(28,28))\n",
    "  ax.imshow(img,cmap='gray')\n",
    "  ax.axis('off')\n",
    "\n",
    "plt.suptitle(\"Example 7's\",fontsize=20)\n",
    "plt.tight_layout(rect=[0,0,1,.95])\n",
    "plt.show()"
   ]
  },
  {
   "cell_type": "code",
   "execution_count": null,
   "metadata": {
    "id": "NeVhsO__fDKH"
   },
   "outputs": [],
   "source": [
    "# how similar are all the 7's? \n",
    "\n",
    "# how many 7's are there?\n",
    "print(data[the7s,:].shape)\n",
    "\n",
    "\n",
    "# let's see how they relate to each other by computing spatial correlations\n",
    "C = np.corrcoef(data[the7s,:])\n",
    "\n",
    "# and visualize\n",
    "fig,ax = plt.subplots(1,3,figsize=(16,6))\n",
    "ax[0].imshow(C,vmin=0,vmax=1)\n",
    "ax[0].set_title(\"Correlation across all 7's\")\n",
    "\n",
    "# extract the unique correlations and show as a scatterplot\n",
    "uniqueCs = np.triu(C,k=1).flatten()\n",
    "ax[1].hist(uniqueCs[uniqueCs!=0],bins=100)\n",
    "ax[1].set_title('All unique correlations')\n",
    "ax[1].set_xlabel(\"Correlations of 7's\")\n",
    "ax[1].set_ylabel('Count')\n",
    "\n",
    "# show all 7's together\n",
    "aveAll7s = np.reshape( np.mean(data[the7s,:],axis=0) ,(28,28))\n",
    "ax[2].imshow(aveAll7s,cmap='gray')\n",
    "ax[2].set_title(\"All 7's averaged together\")\n",
    "\n",
    "plt.tight_layout()\n",
    "plt.show()"
   ]
  }
 ],
 "metadata": {
  "colab": {
   "collapsed_sections": [],
   "name": "DUDL_FFN_aboutMNIST.ipynb",
   "provenance": []
  },
  "kernelspec": {
   "display_name": "Python 3 (ipykernel)",
   "language": "python",
   "name": "python3"
  },
  "language_info": {
   "codemirror_mode": {
    "name": "ipython",
    "version": 3
   },
   "file_extension": ".py",
   "mimetype": "text/x-python",
   "name": "python",
   "nbconvert_exporter": "python",
   "pygments_lexer": "ipython3",
   "version": "3.9.15"
  }
 },
 "nbformat": 4,
 "nbformat_minor": 1
}
