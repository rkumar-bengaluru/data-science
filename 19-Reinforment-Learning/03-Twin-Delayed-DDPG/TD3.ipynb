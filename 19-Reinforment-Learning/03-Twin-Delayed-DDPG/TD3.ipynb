{
 "cells": [
  {
   "cell_type": "code",
   "execution_count": 1,
   "id": "a4742564",
   "metadata": {},
   "outputs": [],
   "source": [
    "import os\n",
    "import time\n",
    "import random\n",
    "import numpy as np\n",
    "import matplotlib.pyplot as plt\n",
    "\n",
    "from collections import UserDict\n",
    "\n",
    "import gym\n",
    "import gym.envs.registration\n",
    "\n",
    "# Do this before importing pybullet_envs (adds an extra property env_specs as a property to the registry, so it looks like the <0.26 envspec version)\n",
    "registry = UserDict(gym.envs.registration.registry)\n",
    "registry.env_specs = gym.envs.registration.registry\n",
    "gym.envs.registration.registry = registry\n",
    "\n",
    "import pybullet_envs\n",
    "\n",
    "import torch\n",
    "import torch.nn as nn\n",
    "import torch.nn.functional as F\n",
    "from gym import wrappers\n",
    "from torch.autograd import Variable\n",
    "from collections import deque"
   ]
  },
  {
   "cell_type": "markdown",
   "id": "45eefb7b",
   "metadata": {},
   "source": [
    "<h2> (1)  Experience Replay Memory</h2>"
   ]
  },
  {
   "cell_type": "code",
   "execution_count": 2,
   "id": "eb7a2905",
   "metadata": {},
   "outputs": [],
   "source": [
    "# experience replay memory\n",
    "class ReplayBuffer(object):\n",
    "    def __init__(self,max_size=1e6):\n",
    "        self.storage = []\n",
    "        self.max_size = max_size\n",
    "        self.ptr = 0\n",
    "    \n",
    "    def add(self, transition):\n",
    "        if len(self.storage) == self.max_size:\n",
    "            self.storage[int(self.ptr)] = transition\n",
    "            self.ptr = (self.ptr + 1) % self.max_size\n",
    "        else:\n",
    "            self.storage.append(transition)\n",
    "    \n",
    "    def sample(self,batch_size):\n",
    "        ind = np.random.randint(0,len(self.storage),batch_size)\n",
    "        batch_states, batch_next, batch_actions,batch_rewards, batch_done = [],[],[],[],[]\n",
    "        for i in ind:\n",
    "            state,next_state,action,reward,done = self.storage[i]\n",
    "            batch_states.append(np.array(state,copy=False))\n",
    "            batch_next.append(np.array(next_state,copy=False))\n",
    "            batch_actions.append(np.array(action,copy=False))\n",
    "            batch_rewards.append(np.array(reward,copy=False))\n",
    "            batch_done.append(np.array(done,copy=False))\n",
    "        return np.array(batch_states), np.array(batch_next), np.array(batch_actions),np.array(batch_rewards).reshape(-1,1), np.array(batch_done).reshape(-1,1)"
   ]
  },
  {
   "cell_type": "markdown",
   "id": "6e4c35a0",
   "metadata": {},
   "source": [
    "<h2> (2) We build one neural network for Actor Model and one neural network for the Actor Target</h2>"
   ]
  },
  {
   "cell_type": "code",
   "execution_count": 3,
   "id": "89e2e15e",
   "metadata": {},
   "outputs": [],
   "source": [
    "class Actor(nn.Module):\n",
    "    def __init__(self,state_dim, action_dim,max_action):\n",
    "        super(Actor,self).__init__()\n",
    "        self.layer_1 = nn.Linear(state_dim,400)\n",
    "        self.layer_2 = nn.Linear(400,300)\n",
    "        self.layer_3 = nn.Linear(300,action_dim)\n",
    "        self.max_action = max_action\n",
    "    \n",
    "    def forward(self,x):\n",
    "        x = F.relu(self.layer_1(x))\n",
    "        x = F.relu(self.layer_2(x))\n",
    "        x = self.max_action * torch.tanh(self.layer_3(x))\n",
    "        return x\n",
    "        "
   ]
  },
  {
   "cell_type": "markdown",
   "id": "b7118d03",
   "metadata": {},
   "source": [
    "<h2>(3) Build 2 neural network for two Critic Model and two neural network for two Critic Target</h2>"
   ]
  },
  {
   "cell_type": "code",
   "execution_count": 4,
   "id": "dce44737",
   "metadata": {},
   "outputs": [],
   "source": [
    "class Critic(nn.Module):\n",
    "    \n",
    "    def __init__(self,state_dim,action_dim):\n",
    "        super(Critic,self).__init__()\n",
    "        # critic model 1 neural network\n",
    "        self.layer_1 = nn.Linear(state_dim * action_dim, 400)\n",
    "        self.layer_2 = nn.Linear(400,300)\n",
    "        self.layer_3 = nn.Linear(300,1)\n",
    "        # critic model 2 neural network\n",
    "        self.layer_4 = nn.Linear(state_dim * action_dim, 400)\n",
    "        self.layer_5 = nn.Linear(400,300)\n",
    "        self.layer_6 = nn.Linear(300,1)\n",
    "        \n",
    "    def forward(self,x,u):\n",
    "        xu = torch.cat([x,u],axis=1)\n",
    "        # forward for first critic network\n",
    "        x1 = F.relu(self.layer_1(xu))\n",
    "        x1 = F.relu(self.layer_2(x1))\n",
    "        x1 = self.layer_3(x1)\n",
    "        # forward for second critic network\n",
    "        x2 = F.relu(self.layer_4(xu))\n",
    "        x2 = F.relu(self.layer_5(x2))\n",
    "        x2 = self.layer_6(x2)\n",
    "        \n",
    "        return x1,x2\n",
    "    \n",
    "    def Q1(self,x,u):\n",
    "        xu = torch.cat([x,u],axis=1)\n",
    "        x1 = F.relu(self.layer_1(xu))\n",
    "        x1 = F.relu(self.layer_2(x1))\n",
    "        x1 = self.layer_3(x1)\n",
    "        return x1"
   ]
  },
  {
   "cell_type": "markdown",
   "id": "94432c76",
   "metadata": {},
   "source": [
    "<h2>(4) Training </h2>"
   ]
  },
  {
   "cell_type": "code",
   "execution_count": 5,
   "id": "9c8357e2",
   "metadata": {},
   "outputs": [],
   "source": [
    "device = torch.device(\"cuda\" if torch.cuda.is_available() else \"cpu\")\n",
    "\n",
    "class TD3(object):\n",
    "    \n",
    "    def __init__(self,state_dim, action_dim,max_action):\n",
    "        self.actor = Actor(state_dim, action_dim,max_action).to(device)\n",
    "        self.actor_target = Actor(state_dim, action_dim,max_action).to(device)\n",
    "        self.actor_target.load_state_dict(self.actor.state_dict())\n",
    "        self.actor_optimizer = torch.optim.Adam(self.actor.parameters())\n",
    "        \n",
    "        self.critic = Critic(state_dim,action_dim).to(device)\n",
    "        self.critic_target = Critic(state_dim,action_dim).to(device)\n",
    "        self.critic_target.load_state_dict(self.critic.state_dict())\n",
    "        self.critic_optimizer = torch.optim.Adam(self.critic.parameters())\n",
    "        \n",
    "        self.max_action = max_action\n",
    "        \n",
    "    def select_action(self,state):\n",
    "        state = torch.Tensor(state.reshape(1,-1)).to(device)\n",
    "        return self.actor(state).cpu().data.numpy().flatten()\n",
    "    \n",
    "    def train(self,replay_buffer, iterations, batch_size=100,discount=0.99, tau=0.005, \n",
    "              policy_noise=0.2, noise_clip=0.5, policy_freq=2):\n",
    "        for it in range(iterations):\n",
    "            \n",
    "            # step 4 - sample a batch of transitions (s,s',a,r)\n",
    "            batch_states, batch_next_states, batch_actions,batch_rewards, batch_dones = replay_buffer.sample(batch_size)\n",
    "            states = torch.Tensor(batch_states).to(device)\n",
    "            next_states = torch.Tensor(batch_next_states).to(device)\n",
    "            actions = torch.Tensor(batch_actions).to(device)\n",
    "            rewards = torch.Tensor(batch_rewards).to(device)\n",
    "            dones = torch.Tensor(batch_dones).to(device)\n",
    "            \n",
    "            # step 5 - from next state s' , the actor target plays the next action a'\n",
    "            next_action = self.actor_target.forward(next_states)\n",
    "            \n",
    "            # step 6 - add guassian noise to next action a' and clamp it in rane of values supported by environment.\n",
    "            noise = torch.Tensor(batch_actions).data.normal_(0,policy_noise).to(device)\n",
    "            noise = noise.clamp(-noise_clip,noise_clip)\n",
    "            next_action = (next_action + noise).clamp(-self.max_action,self.max_action)\n",
    "            \n",
    "            # step 7 - The two critic targets take each (s',a') as inputs and return two The Q values Qt1(s',a') and Qt2 as ouputs\n",
    "            target_Q1, target_Q2 = self.critic_target.forward(next_states,next_action)\n",
    "            \n",
    "            # step 8 - keep the minimum of two Q values\n",
    "            target_Q = torch.min(target_Q1,target_Q2)\n",
    "            \n",
    "            # step 9 - final target of the two critic models, Qt = r + y * min(Qt1, Qt2)\n",
    "            target_Q = rewards + ((1 - dones) * discount * target_Q).detach()\n",
    "            \n",
    "            # step 10 - The two Critic model takes the couple (s,a) and return 2 Q values as outputs\n",
    "            current_Q1, current_Q2 = self.critic.forward(states,actions)\n",
    "            \n",
    "            # step 11 - Compute the loss from the 2 critic models, loss = MSE_Loss(Q1(s,a),Qt) + MSE_Loss(Q2(s,a),Qt)\n",
    "            critic_loss = F.mse_loss(current_Q1,target_Q) + F.mse_loss(current_Q2,target_Q)\n",
    "            \n",
    "            # step 12 - backpropagate the critic loss and update parameters of the 2 critic model with a SGD optimizer\n",
    "            self.critic_optimizer.zero_grad()\n",
    "            critic_loss.backward()\n",
    "            self.critic_optimizer.step()\n",
    "            \n",
    "            # step 13 once every 2 iteration, we update actor model by performing gradient descent\n",
    "            # on the output of first critic model.\n",
    "            if it % policy_freq == 0:\n",
    "                actor_loss = -self.critic.Q1(states,self.actor(states)).mean()\n",
    "                self.actor_optimizer.zero_grad()\n",
    "                actor_loss.backward()\n",
    "                self.actor_optimizer.step()\n",
    "                \n",
    "                # step 14 - we update the weights of the actor target by polyak averaging\n",
    "                for param, target_param in zip(self.actor.parameters(),self.actor_target.parameters()):\n",
    "                    target_param.data.copy_(tau * param.data + (1 - tau) * target_param.data)\n",
    "                # step 15 - update tje weights of critic target by polyak averaging\n",
    "                for param, target_param in zip(self.critic.parameters(),self.critic_target.parameters()):\n",
    "                    target_param.data.copy_(tau * param.data + (1 - tau) * target_param.data)\n",
    "    \n",
    "    # save the trained model\n",
    "    def save(self,filename,directory):\n",
    "        torch.save(self.actor.state_dict() ,'%s/%s_actor.pth' %(directory,filename))\n",
    "        torch.save(self.critic.state_dict(),'%s/%s_critic.pth' %(directory,filename))\n",
    "    \n",
    "    # load pre-trained model\n",
    "    def load(self,filename,directory):\n",
    "        self.actor.load_state_dict('%s/%s_actor.pth' %(directory,filename))\n",
    "        self.critic.load_state_dict('%s/%s_critic.pth' %(directory,filename))"
   ]
  },
  {
   "cell_type": "markdown",
   "id": "08e06fdc",
   "metadata": {},
   "source": [
    "<h2>Function to evaluate policy by calculating its average reward over 10 episodes</h2>"
   ]
  },
  {
   "cell_type": "code",
   "execution_count": 6,
   "id": "e74e91f9",
   "metadata": {},
   "outputs": [],
   "source": [
    "def evaluate_policy(policy, eval_episodes=10):\n",
    "  avg_reward = 0.\n",
    "  for _ in range(eval_episodes):\n",
    "    obs = env.reset()\n",
    "    done = False\n",
    "    while not done:\n",
    "      random_action = policy.select_action(np.array(obs))\n",
    "      obs,reward,done,info = env.step(random_action)\n",
    "      #obs, reward, done, truncated = env.step(action)\n",
    "      #obs, reward, done, _,_ = env.step(action)\n",
    "      avg_reward += reward\n",
    "  avg_reward /= eval_episodes\n",
    "  print (\"---------------------------------------\")\n",
    "  print (\"Average Reward over the Evaluation Step: %f\" % (avg_reward))\n",
    "  print (\"---------------------------------------\")\n",
    "  return avg_reward"
   ]
  },
  {
   "cell_type": "markdown",
   "id": "2fd59465",
   "metadata": {},
   "source": [
    "<h2>Set the parameters</h2>"
   ]
  },
  {
   "cell_type": "code",
   "execution_count": 7,
   "id": "cce2eeca",
   "metadata": {},
   "outputs": [],
   "source": [
    "env_name = \"HalfCheetahBulletEnv-v0\" # Name of a environment (set it to any Continous environment you want)\n",
    "seed = 0 # Random seed number\n",
    "start_timesteps = 1e4 # Number of iterations/timesteps before which the model randomly chooses an action, and after which it starts to use the policy network\n",
    "eval_freq = 5e3 # How often the evaluation step is performed (after how many timesteps)\n",
    "max_timesteps = 5e5 # Total number of iterations/timesteps\n",
    "save_models = True # Boolean checker whether or not to save the pre-trained model\n",
    "expl_noise = 0.1 # Exploration noise - STD value of exploration Gaussian noise\n",
    "batch_size = 100 # Size of the batch\n",
    "discount = 0.99 # Discount factor gamma, used in the calculation of the total discounted reward\n",
    "tau = 0.005 # Target network update rate\n",
    "policy_noise = 0.2 # STD of Gaussian noise added to the actions for the exploration purposes\n",
    "noise_clip = 0.5 # Maximum value of the Gaussian noise added to the actions (policy)\n",
    "policy_freq = 2 # Number of iterations to wait before the policy network (Actor model) is updated"
   ]
  },
  {
   "cell_type": "markdown",
   "id": "809e3ee8",
   "metadata": {},
   "source": [
    "## We create a file name for the two saved models: the Actor and Critic models"
   ]
  },
  {
   "cell_type": "code",
   "execution_count": 8,
   "id": "a531a823",
   "metadata": {},
   "outputs": [
    {
     "name": "stdout",
     "output_type": "stream",
     "text": [
      "---------------------------------------\n",
      "Settings: TD3_HalfCheetahBulletEnv-v0_0\n",
      "---------------------------------------\n"
     ]
    }
   ],
   "source": [
    "file_name = \"%s_%s_%s\" % (\"TD3\", env_name, str(seed))\n",
    "print (\"---------------------------------------\")\n",
    "print (\"Settings: %s\" % (file_name))\n",
    "print (\"---------------------------------------\")"
   ]
  },
  {
   "cell_type": "markdown",
   "id": "571d9f38",
   "metadata": {},
   "source": [
    "## We create a folder inside which will be saved the trained models"
   ]
  },
  {
   "cell_type": "code",
   "execution_count": 9,
   "id": "e5b62a9f",
   "metadata": {},
   "outputs": [],
   "source": [
    "if not os.path.exists(\"./results\"):\n",
    "  os.makedirs(\"./results\")\n",
    "if save_models and not os.path.exists(\"./pytorch_models\"):\n",
    "  os.makedirs(\"./pytorch_models\")"
   ]
  },
  {
   "cell_type": "markdown",
   "id": "c3489488",
   "metadata": {},
   "source": [
    "## We create the PyBullet environment"
   ]
  },
  {
   "cell_type": "code",
   "execution_count": 10,
   "id": "3e87dd94",
   "metadata": {},
   "outputs": [],
   "source": [
    "env = gym.make(env_name)"
   ]
  },
  {
   "cell_type": "markdown",
   "id": "96c67c9f",
   "metadata": {},
   "source": [
    "## We set seeds and we get the necessary information on the states and actions in the chosen environment"
   ]
  },
  {
   "cell_type": "code",
   "execution_count": 11,
   "id": "c98e9d9c",
   "metadata": {},
   "outputs": [],
   "source": [
    "env.seed(seed)\n",
    "torch.manual_seed(seed)\n",
    "np.random.seed(seed)\n",
    "state_dim = env.observation_space.shape[0]\n",
    "action_dim = env.action_space.shape[0]\n",
    "max_action = float(env.action_space.high[0])"
   ]
  },
  {
   "cell_type": "markdown",
   "id": "d62fdbc4",
   "metadata": {},
   "source": [
    "## We create the policy network (the Actor model)"
   ]
  },
  {
   "cell_type": "code",
   "execution_count": 12,
   "id": "ad100ac8",
   "metadata": {},
   "outputs": [],
   "source": [
    "policy = TD3(state_dim, action_dim, max_action)"
   ]
  },
  {
   "cell_type": "markdown",
   "id": "8de7a0ec",
   "metadata": {},
   "source": [
    "## We create the Experience Replay memory"
   ]
  },
  {
   "cell_type": "code",
   "execution_count": 13,
   "id": "0fe416e6",
   "metadata": {},
   "outputs": [],
   "source": [
    "replay_buffer = ReplayBuffer()"
   ]
  },
  {
   "cell_type": "markdown",
   "id": "45c0de46",
   "metadata": {},
   "source": [
    "## We define a list where all the evaluation results over 10 episodes are stored"
   ]
  },
  {
   "cell_type": "code",
   "execution_count": 14,
   "id": "f9174be1",
   "metadata": {},
   "outputs": [
    {
     "name": "stderr",
     "output_type": "stream",
     "text": [
      "C:\\Users\\DELL\\.conda\\envs\\reinforcement-learning\\lib\\site-packages\\gym\\utils\\passive_env_checker.py:174: UserWarning: \u001b[33mWARN: Future gym versions will require that `Env.reset` can be passed a `seed` instead of using `Env.seed` for resetting the environment random number generator.\u001b[0m\n",
      "  logger.warn(\n",
      "C:\\Users\\DELL\\.conda\\envs\\reinforcement-learning\\lib\\site-packages\\gym\\utils\\passive_env_checker.py:187: UserWarning: \u001b[33mWARN: Future gym versions will require that `Env.reset` can be passed `options` to allow the environment initialisation to be passed additional information.\u001b[0m\n",
      "  logger.warn(\n",
      "C:\\Users\\DELL\\.conda\\envs\\reinforcement-learning\\lib\\site-packages\\gym\\utils\\passive_env_checker.py:195: UserWarning: \u001b[33mWARN: The result returned by `env.reset()` was not a tuple of the form `(obs, info)`, where `obs` is a observation and `info` is a dictionary containing additional information. Actual type: `<class 'numpy.ndarray'>`\u001b[0m\n",
      "  logger.warn(\n",
      "C:\\Users\\DELL\\.conda\\envs\\reinforcement-learning\\lib\\site-packages\\gym\\utils\\passive_env_checker.py:219: DeprecationWarning: \u001b[33mWARN: Core environment is written in old step API which returns one bool instead of two. It is recommended to rewrite the environment with new step API. \u001b[0m\n",
      "  logger.deprecation(\n"
     ]
    },
    {
     "ename": "KeyboardInterrupt",
     "evalue": "",
     "output_type": "error",
     "traceback": [
      "\u001b[1;31m---------------------------------------------------------------------------\u001b[0m",
      "\u001b[1;31mKeyboardInterrupt\u001b[0m                         Traceback (most recent call last)",
      "Cell \u001b[1;32mIn[14], line 1\u001b[0m\n\u001b[1;32m----> 1\u001b[0m evaluations \u001b[38;5;241m=\u001b[39m [\u001b[43mevaluate_policy\u001b[49m\u001b[43m(\u001b[49m\u001b[43mpolicy\u001b[49m\u001b[43m,\u001b[49m\u001b[43meval_episodes\u001b[49m\u001b[38;5;241;43m=\u001b[39;49m\u001b[38;5;241;43m1\u001b[39;49m\u001b[43m)\u001b[49m]\n",
      "Cell \u001b[1;32mIn[6], line 8\u001b[0m, in \u001b[0;36mevaluate_policy\u001b[1;34m(policy, eval_episodes)\u001b[0m\n\u001b[0;32m      6\u001b[0m \u001b[38;5;28;01mwhile\u001b[39;00m \u001b[38;5;129;01mnot\u001b[39;00m done:\n\u001b[0;32m      7\u001b[0m   random_action \u001b[38;5;241m=\u001b[39m policy\u001b[38;5;241m.\u001b[39mselect_action(np\u001b[38;5;241m.\u001b[39marray(obs))\n\u001b[1;32m----> 8\u001b[0m   obs,reward,done,info \u001b[38;5;241m=\u001b[39m \u001b[43menv\u001b[49m\u001b[38;5;241;43m.\u001b[39;49m\u001b[43mstep\u001b[49m\u001b[43m(\u001b[49m\u001b[43mrandom_action\u001b[49m\u001b[43m)\u001b[49m\n\u001b[0;32m      9\u001b[0m   \u001b[38;5;66;03m#obs, reward, done, truncated = env.step(action)\u001b[39;00m\n\u001b[0;32m     10\u001b[0m   \u001b[38;5;66;03m#obs, reward, done, _,_ = env.step(action)\u001b[39;00m\n\u001b[0;32m     11\u001b[0m   avg_reward \u001b[38;5;241m+\u001b[39m\u001b[38;5;241m=\u001b[39m reward\n",
      "File \u001b[1;32m~\\.conda\\envs\\reinforcement-learning\\lib\\site-packages\\gym\\wrappers\\time_limit.py:50\u001b[0m, in \u001b[0;36mTimeLimit.step\u001b[1;34m(self, action)\u001b[0m\n\u001b[0;32m     39\u001b[0m \u001b[38;5;28;01mdef\u001b[39;00m \u001b[38;5;21mstep\u001b[39m(\u001b[38;5;28mself\u001b[39m, action):\n\u001b[0;32m     40\u001b[0m     \u001b[38;5;124;03m\"\"\"Steps through the environment and if the number of steps elapsed exceeds ``max_episode_steps`` then truncate.\u001b[39;00m\n\u001b[0;32m     41\u001b[0m \n\u001b[0;32m     42\u001b[0m \u001b[38;5;124;03m    Args:\u001b[39;00m\n\u001b[1;32m   (...)\u001b[0m\n\u001b[0;32m     48\u001b[0m \n\u001b[0;32m     49\u001b[0m \u001b[38;5;124;03m    \"\"\"\u001b[39;00m\n\u001b[1;32m---> 50\u001b[0m     observation, reward, terminated, info \u001b[38;5;241m=\u001b[39m \u001b[38;5;28;43mself\u001b[39;49m\u001b[38;5;241;43m.\u001b[39;49m\u001b[43menv\u001b[49m\u001b[38;5;241;43m.\u001b[39;49m\u001b[43mstep\u001b[49m\u001b[43m(\u001b[49m\u001b[43maction\u001b[49m\u001b[43m)\u001b[49m\n\u001b[0;32m     51\u001b[0m     \u001b[38;5;28mself\u001b[39m\u001b[38;5;241m.\u001b[39m_elapsed_steps \u001b[38;5;241m+\u001b[39m\u001b[38;5;241m=\u001b[39m \u001b[38;5;241m1\u001b[39m\n\u001b[0;32m     55\u001b[0m     \u001b[38;5;28;01mreturn\u001b[39;00m observation, reward, terminated,  info\n",
      "File \u001b[1;32m~\\.conda\\envs\\reinforcement-learning\\lib\\site-packages\\gym\\wrappers\\order_enforcing.py:37\u001b[0m, in \u001b[0;36mOrderEnforcing.step\u001b[1;34m(self, action)\u001b[0m\n\u001b[0;32m     35\u001b[0m \u001b[38;5;28;01mif\u001b[39;00m \u001b[38;5;129;01mnot\u001b[39;00m \u001b[38;5;28mself\u001b[39m\u001b[38;5;241m.\u001b[39m_has_reset:\n\u001b[0;32m     36\u001b[0m     \u001b[38;5;28;01mraise\u001b[39;00m ResetNeeded(\u001b[38;5;124m\"\u001b[39m\u001b[38;5;124mCannot call env.step() before calling env.reset()\u001b[39m\u001b[38;5;124m\"\u001b[39m)\n\u001b[1;32m---> 37\u001b[0m \u001b[38;5;28;01mreturn\u001b[39;00m \u001b[38;5;28;43mself\u001b[39;49m\u001b[38;5;241;43m.\u001b[39;49m\u001b[43menv\u001b[49m\u001b[38;5;241;43m.\u001b[39;49m\u001b[43mstep\u001b[49m\u001b[43m(\u001b[49m\u001b[43maction\u001b[49m\u001b[43m)\u001b[49m\n",
      "File \u001b[1;32m~\\.conda\\envs\\reinforcement-learning\\lib\\site-packages\\gym\\wrappers\\env_checker.py:39\u001b[0m, in \u001b[0;36mPassiveEnvChecker.step\u001b[1;34m(self, action)\u001b[0m\n\u001b[0;32m     37\u001b[0m     \u001b[38;5;28;01mreturn\u001b[39;00m env_step_passive_checker(\u001b[38;5;28mself\u001b[39m\u001b[38;5;241m.\u001b[39menv, action)\n\u001b[0;32m     38\u001b[0m \u001b[38;5;28;01melse\u001b[39;00m:\n\u001b[1;32m---> 39\u001b[0m     \u001b[38;5;28;01mreturn\u001b[39;00m \u001b[38;5;28;43mself\u001b[39;49m\u001b[38;5;241;43m.\u001b[39;49m\u001b[43menv\u001b[49m\u001b[38;5;241;43m.\u001b[39;49m\u001b[43mstep\u001b[49m\u001b[43m(\u001b[49m\u001b[43maction\u001b[49m\u001b[43m)\u001b[49m\n",
      "File \u001b[1;32m~\\.conda\\envs\\reinforcement-learning\\lib\\site-packages\\pybullet_envs\\gym_locomotion_envs.py:69\u001b[0m, in \u001b[0;36mWalkerBaseBulletEnv.step\u001b[1;34m(self, a)\u001b[0m\n\u001b[0;32m     66\u001b[0m   \u001b[38;5;28mself\u001b[39m\u001b[38;5;241m.\u001b[39mrobot\u001b[38;5;241m.\u001b[39mapply_action(a)\n\u001b[0;32m     67\u001b[0m   \u001b[38;5;28mself\u001b[39m\u001b[38;5;241m.\u001b[39mscene\u001b[38;5;241m.\u001b[39mglobal_step()\n\u001b[1;32m---> 69\u001b[0m state \u001b[38;5;241m=\u001b[39m \u001b[38;5;28;43mself\u001b[39;49m\u001b[38;5;241;43m.\u001b[39;49m\u001b[43mrobot\u001b[49m\u001b[38;5;241;43m.\u001b[39;49m\u001b[43mcalc_state\u001b[49m\u001b[43m(\u001b[49m\u001b[43m)\u001b[49m  \u001b[38;5;66;03m# also calculates self.joints_at_limit\u001b[39;00m\n\u001b[0;32m     71\u001b[0m \u001b[38;5;28mself\u001b[39m\u001b[38;5;241m.\u001b[39m_alive \u001b[38;5;241m=\u001b[39m \u001b[38;5;28mfloat\u001b[39m(\n\u001b[0;32m     72\u001b[0m     \u001b[38;5;28mself\u001b[39m\u001b[38;5;241m.\u001b[39mrobot\u001b[38;5;241m.\u001b[39malive_bonus(\n\u001b[0;32m     73\u001b[0m         state[\u001b[38;5;241m0\u001b[39m] \u001b[38;5;241m+\u001b[39m \u001b[38;5;28mself\u001b[39m\u001b[38;5;241m.\u001b[39mrobot\u001b[38;5;241m.\u001b[39minitial_z,\n\u001b[0;32m     74\u001b[0m         \u001b[38;5;28mself\u001b[39m\u001b[38;5;241m.\u001b[39mrobot\u001b[38;5;241m.\u001b[39mbody_rpy[\u001b[38;5;241m1\u001b[39m]))  \u001b[38;5;66;03m# state[0] is body height above ground, body_rpy[1] is pitch\u001b[39;00m\n\u001b[0;32m     75\u001b[0m done \u001b[38;5;241m=\u001b[39m \u001b[38;5;28mself\u001b[39m\u001b[38;5;241m.\u001b[39m_isDone()\n",
      "File \u001b[1;32m~\\.conda\\envs\\reinforcement-learning\\lib\\site-packages\\pybullet_envs\\robot_locomotors.py:44\u001b[0m, in \u001b[0;36mWalkerBase.calc_state\u001b[1;34m(self)\u001b[0m\n\u001b[0;32m     41\u001b[0m \u001b[38;5;28mself\u001b[39m\u001b[38;5;241m.\u001b[39mjoints_at_limit \u001b[38;5;241m=\u001b[39m np\u001b[38;5;241m.\u001b[39mcount_nonzero(np\u001b[38;5;241m.\u001b[39mabs(j[\u001b[38;5;241m0\u001b[39m::\u001b[38;5;241m2\u001b[39m]) \u001b[38;5;241m>\u001b[39m \u001b[38;5;241m0.99\u001b[39m)\n\u001b[0;32m     43\u001b[0m body_pose \u001b[38;5;241m=\u001b[39m \u001b[38;5;28mself\u001b[39m\u001b[38;5;241m.\u001b[39mrobot_body\u001b[38;5;241m.\u001b[39mpose()\n\u001b[1;32m---> 44\u001b[0m parts_xyz \u001b[38;5;241m=\u001b[39m \u001b[43mnp\u001b[49m\u001b[38;5;241;43m.\u001b[39;49m\u001b[43marray\u001b[49m\u001b[43m(\u001b[49m\u001b[43m[\u001b[49m\u001b[43mp\u001b[49m\u001b[38;5;241;43m.\u001b[39;49m\u001b[43mpose\u001b[49m\u001b[43m(\u001b[49m\u001b[43m)\u001b[49m\u001b[38;5;241;43m.\u001b[39;49m\u001b[43mxyz\u001b[49m\u001b[43m(\u001b[49m\u001b[43m)\u001b[49m\u001b[43m \u001b[49m\u001b[38;5;28;43;01mfor\u001b[39;49;00m\u001b[43m \u001b[49m\u001b[43mp\u001b[49m\u001b[43m \u001b[49m\u001b[38;5;129;43;01min\u001b[39;49;00m\u001b[43m \u001b[49m\u001b[38;5;28;43mself\u001b[39;49m\u001b[38;5;241;43m.\u001b[39;49m\u001b[43mparts\u001b[49m\u001b[38;5;241;43m.\u001b[39;49m\u001b[43mvalues\u001b[49m\u001b[43m(\u001b[49m\u001b[43m)\u001b[49m\u001b[43m]\u001b[49m\u001b[43m)\u001b[49m\u001b[38;5;241m.\u001b[39mflatten()\n\u001b[0;32m     45\u001b[0m \u001b[38;5;28mself\u001b[39m\u001b[38;5;241m.\u001b[39mbody_xyz \u001b[38;5;241m=\u001b[39m (parts_xyz[\u001b[38;5;241m0\u001b[39m::\u001b[38;5;241m3\u001b[39m]\u001b[38;5;241m.\u001b[39mmean(), parts_xyz[\u001b[38;5;241m1\u001b[39m::\u001b[38;5;241m3\u001b[39m]\u001b[38;5;241m.\u001b[39mmean(), body_pose\u001b[38;5;241m.\u001b[39mxyz()[\u001b[38;5;241m2\u001b[39m]\n\u001b[0;32m     46\u001b[0m                 )  \u001b[38;5;66;03m# torso z is more informative than mean z\u001b[39;00m\n\u001b[0;32m     47\u001b[0m \u001b[38;5;28mself\u001b[39m\u001b[38;5;241m.\u001b[39mbody_real_xyz \u001b[38;5;241m=\u001b[39m body_pose\u001b[38;5;241m.\u001b[39mxyz()\n",
      "\u001b[1;31mKeyboardInterrupt\u001b[0m: "
     ]
    }
   ],
   "source": [
    "evaluations = [evaluate_policy(policy,eval_episodes=1)]"
   ]
  },
  {
   "cell_type": "code",
   "execution_count": null,
   "id": "0eab9688",
   "metadata": {},
   "outputs": [],
   "source": []
  }
 ],
 "metadata": {
  "kernelspec": {
   "display_name": "Python 3 (ipykernel)",
   "language": "python",
   "name": "python3"
  },
  "language_info": {
   "codemirror_mode": {
    "name": "ipython",
    "version": 3
   },
   "file_extension": ".py",
   "mimetype": "text/x-python",
   "name": "python",
   "nbconvert_exporter": "python",
   "pygments_lexer": "ipython3",
   "version": "3.9.16"
  }
 },
 "nbformat": 4,
 "nbformat_minor": 5
}
