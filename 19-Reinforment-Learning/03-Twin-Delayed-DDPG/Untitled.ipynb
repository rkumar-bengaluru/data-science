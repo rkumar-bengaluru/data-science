{
 "cells": [
  {
   "cell_type": "code",
   "execution_count": 1,
   "id": "87e54b32",
   "metadata": {},
   "outputs": [],
   "source": [
    "import gym\n",
    "import matplotlib.pyplot as plt"
   ]
  },
  {
   "cell_type": "code",
   "execution_count": 2,
   "id": "134a8023",
   "metadata": {},
   "outputs": [],
   "source": [
    "env = gym.make('MountainCar-v0')"
   ]
  },
  {
   "cell_type": "code",
   "execution_count": 3,
   "id": "66ff3f8e",
   "metadata": {},
   "outputs": [
    {
     "name": "stdout",
     "output_type": "stream",
     "text": [
      "obs space Box([-1.2  -0.07], [0.6  0.07], (2,), float32)\n",
      "action space Discrete(3)\n"
     ]
    }
   ],
   "source": [
    "obs_space = env.observation_space\n",
    "action_space = env.action_space\n",
    "print('obs space {}'.format(obs_space))\n",
    "print('action space {}'.format(action_space))"
   ]
  },
  {
   "cell_type": "code",
   "execution_count": 5,
   "id": "0e14edf3",
   "metadata": {},
   "outputs": [
    {
     "name": "stdout",
     "output_type": "stream",
     "text": [
      "initial observation (array([-0.5416527,  0.       ], dtype=float32), {})\n",
      "new observation [-0.54251736 -0.00086466]\n"
     ]
    }
   ],
   "source": [
    "obs = env.reset()\n",
    "print('initial observation {}'.format(obs))\n",
    "random_action = env.action_space.sample()\n",
    "newobs,reward,done,info,t = env.step(random_action)\n",
    "print('new observation {}'.format(newobs))"
   ]
  },
  {
   "cell_type": "code",
   "execution_count": null,
   "id": "286e6766",
   "metadata": {},
   "outputs": [],
   "source": [
    "env.render()"
   ]
  },
  {
   "cell_type": "code",
   "execution_count": null,
   "id": "64fb1667",
   "metadata": {},
   "outputs": [],
   "source": [
    "env.close()"
   ]
  },
  {
   "cell_type": "code",
   "execution_count": null,
   "id": "3fe8403a",
   "metadata": {},
   "outputs": [],
   "source": [
    "env_screen = env.render(mode='rgb_array')"
   ]
  },
  {
   "cell_type": "code",
   "execution_count": null,
   "id": "bcfafbe4",
   "metadata": {},
   "outputs": [],
   "source": []
  }
 ],
 "metadata": {
  "kernelspec": {
   "display_name": "Python 3 (ipykernel)",
   "language": "python",
   "name": "python3"
  },
  "language_info": {
   "codemirror_mode": {
    "name": "ipython",
    "version": 3
   },
   "file_extension": ".py",
   "mimetype": "text/x-python",
   "name": "python",
   "nbconvert_exporter": "python",
   "pygments_lexer": "ipython3",
   "version": "3.9.16"
  }
 },
 "nbformat": 4,
 "nbformat_minor": 5
}
