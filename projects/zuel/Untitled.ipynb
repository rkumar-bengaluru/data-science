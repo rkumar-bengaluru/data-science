{
 "cells": [
  {
   "cell_type": "code",
   "execution_count": 1,
   "id": "a459d5b5",
   "metadata": {},
   "outputs": [],
   "source": [
    "import numpy as np\n",
    "import pandas as pd\n",
    "import matplotlib.pyplot as plt\n",
    "import seaborn as sns"
   ]
  },
  {
   "cell_type": "code",
   "execution_count": 2,
   "id": "ab866033",
   "metadata": {},
   "outputs": [],
   "source": [
    "df = pd.read_csv('../data/userandrole-core-uat-2001.csv')"
   ]
  },
  {
   "cell_type": "code",
   "execution_count": 3,
   "id": "50ecdbdc",
   "metadata": {},
   "outputs": [
    {
     "name": "stdout",
     "output_type": "stream",
     "text": [
      "<class 'pandas.core.frame.DataFrame'>\n",
      "RangeIndex: 3744 entries, 0 to 3743\n",
      "Data columns (total 67 columns):\n",
      " #   Column                            Non-Null Count  Dtype  \n",
      "---  ------                            --------------  -----  \n",
      " 0   id                                3744 non-null   int64  \n",
      " 1   username                          3744 non-null   object \n",
      " 2   email                             3744 non-null   object \n",
      " 3   provider                          3744 non-null   object \n",
      " 4   password                          3744 non-null   object \n",
      " 5   resetPasswordToken                0 non-null      float64\n",
      " 6   confirmed                         3744 non-null   bool   \n",
      " 7   blocked                           3744 non-null   bool   \n",
      " 8   role                              3744 non-null   int64  \n",
      " 9   created_at                        3744 non-null   object \n",
      " 10  updated_at                        3744 non-null   object \n",
      " 11  initialLogin                      7 non-null      object \n",
      " 12  customerCode                      3744 non-null   object \n",
      " 13  shipToAddr                        3740 non-null   object \n",
      " 14  soldToCode                        0 non-null      float64\n",
      " 15  accessRight                       3744 non-null   object \n",
      " 16  countryCode                       22 non-null     object \n",
      " 17  salesOrganization                 3744 non-null   int64  \n",
      " 18  adName                            3744 non-null   object \n",
      " 19  firstName                         3744 non-null   object \n",
      " 20  lastName                          3744 non-null   object \n",
      " 21  isFromAD                          3744 non-null   bool   \n",
      " 22  salesOrganizationTwo              12 non-null     object \n",
      " 23  customerCodeTwo                   0 non-null      float64\n",
      " 24  shipToAddrTwo                     0 non-null      float64\n",
      " 25  customerCodeSet                   1416 non-null   object \n",
      " 26  customerCodeSetTwo                10 non-null     object \n",
      " 27  lastLogin                         16 non-null     object \n",
      " 28  acceptTC                          12 non-null     object \n",
      " 29  acceptMobileTC                    3 non-null      object \n",
      " 30  mobileNumber                      22 non-null     object \n",
      " 31  acceptTCTimestamp                 11 non-null     object \n",
      " 32  optIn                             4 non-null      object \n",
      " 33  optInTimestamp                    1 non-null      object \n",
      " 34  acceptLocalTC                     0 non-null      float64\n",
      " 35  acceptLTCTimestamp                0 non-null      float64\n",
      " 36  totp2fa                           5 non-null      object \n",
      " 37  totpSecret                        5 non-null      object \n",
      " 38  hasPriceOverride                  13 non-null     object \n",
      " 39  hasBonusOverride                  12 non-null     object \n",
      " 40  principalOverrideList             0 non-null      float64\n",
      " 41  mobileAccess                      21 non-null     object \n",
      " 42  disable2fa                        3690 non-null   object \n",
      " 43  acceptAUP                         38 non-null     object \n",
      " 44  acceptAUPTC                       37 non-null     object \n",
      " 45  emailNotifications                2835 non-null   object \n",
      " 46  mobileNotifications               4 non-null      object \n",
      " 47  mobileToken                       6 non-null      object \n",
      " 48  passwordLastUpdate                1 non-null      float64\n",
      " 49  disableReturns                    11 non-null     object \n",
      " 50  passwordLastRetained              0 non-null      float64\n",
      " 51  languagePreference                5 non-null      object \n",
      " 52  userSalesOrganisationList         3744 non-null   object \n",
      " 53  passwordActionName                1 non-null      object \n",
      " 54  passwordActionTime                1 non-null      object \n",
      " 55  disablePaymentAccess              5 non-null      object \n",
      " 56  enablePaymentAccess               0 non-null      float64\n",
      " 57  disableOrderHistory               0 non-null      float64\n",
      " 58  disableCreateOrder                5 non-null      object \n",
      " 59  enableOrderTypeSelection          0 non-null      float64\n",
      " 60  enableOrderType                   9 non-null      object \n",
      " 61  paymentconfig                     0 non-null      float64\n",
      " 62  privacycontrols                   0 non-null      float64\n",
      " 63  accept_privacy_policy             3744 non-null   bool   \n",
      " 64  accept_privacy_policy_time        13 non-null     object \n",
      " 65  privacy_policy_accepted_platform  13 non-null     object \n",
      " 66  acceptPrivacyPolicy               0 non-null      float64\n",
      "dtypes: bool(4), float64(15), int64(3), object(45)\n",
      "memory usage: 1.8+ MB\n"
     ]
    }
   ],
   "source": [
    "df.info()"
   ]
  },
  {
   "cell_type": "code",
   "execution_count": null,
   "id": "78075753",
   "metadata": {},
   "outputs": [],
   "source": []
  }
 ],
 "metadata": {
  "kernelspec": {
   "display_name": "Python 3 (ipykernel)",
   "language": "python",
   "name": "python3"
  },
  "language_info": {
   "codemirror_mode": {
    "name": "ipython",
    "version": 3
   },
   "file_extension": ".py",
   "mimetype": "text/x-python",
   "name": "python",
   "nbconvert_exporter": "python",
   "pygments_lexer": "ipython3",
   "version": "3.10.6"
  }
 },
 "nbformat": 4,
 "nbformat_minor": 5
}
