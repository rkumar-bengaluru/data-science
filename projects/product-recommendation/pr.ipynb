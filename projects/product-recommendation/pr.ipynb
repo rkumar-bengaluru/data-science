{
 "cells": [
  {
   "cell_type": "code",
   "execution_count": 1,
   "id": "2d6a69f9",
   "metadata": {},
   "outputs": [],
   "source": [
    "#Basic Libraries\n",
    "import numpy as np\n",
    "import pandas as pd\n",
    "\n",
    "#Visualization Libraries\n",
    "import matplotlib.pyplot as plt\n",
    "import seaborn as sns\n",
    "import plotly.express as px\n",
    "\n",
    "#Text Handling Libraries\n",
    "import re\n",
    "from sklearn.feature_extraction.text import TfidfVectorizer, CountVectorizer\n",
    "from sklearn.metrics.pairwise import linear_kernel, cosine_similarity"
   ]
  },
  {
   "cell_type": "code",
   "execution_count": 9,
   "id": "1f298f2b",
   "metadata": {},
   "outputs": [
    {
     "data": {
      "text/html": [
       "<div>\n",
       "<style scoped>\n",
       "    .dataframe tbody tr th:only-of-type {\n",
       "        vertical-align: middle;\n",
       "    }\n",
       "\n",
       "    .dataframe tbody tr th {\n",
       "        vertical-align: top;\n",
       "    }\n",
       "\n",
       "    .dataframe thead th {\n",
       "        text-align: right;\n",
       "    }\n",
       "</style>\n",
       "<table border=\"1\" class=\"dataframe\">\n",
       "  <thead>\n",
       "    <tr style=\"text-align: right;\">\n",
       "      <th></th>\n",
       "      <th>soup</th>\n",
       "      <th>product</th>\n",
       "    </tr>\n",
       "  </thead>\n",
       "  <tbody>\n",
       "    <tr>\n",
       "      <th>0</th>\n",
       "      <td>beauty  hygiene hair care sri sri ayurveda  ha...</td>\n",
       "      <td>Garlic Oil - Vegetarian Capsule 500 mg</td>\n",
       "    </tr>\n",
       "    <tr>\n",
       "      <th>1</th>\n",
       "      <td>kitchen garden  pets storage  accessories mast...</td>\n",
       "      <td>Water Bottle - Orange</td>\n",
       "    </tr>\n",
       "    <tr>\n",
       "      <th>2</th>\n",
       "      <td>cleaning  household pooja needs trm lamp  lamp...</td>\n",
       "      <td>Brass Angle Deep - Plain, No.2</td>\n",
       "    </tr>\n",
       "    <tr>\n",
       "      <th>3</th>\n",
       "      <td>cleaning  household bins  bathroom ware nakoda...</td>\n",
       "      <td>Cereal Flip Lid Container/Storage Jar - Assort...</td>\n",
       "    </tr>\n",
       "    <tr>\n",
       "      <th>4</th>\n",
       "      <td>beauty  hygiene bath  hand wash nivea bathing ...</td>\n",
       "      <td>Creme Soft Soap - For Hands &amp; Body</td>\n",
       "    </tr>\n",
       "    <tr>\n",
       "      <th>...</th>\n",
       "      <td>...</td>\n",
       "      <td>...</td>\n",
       "    </tr>\n",
       "    <tr>\n",
       "      <th>18835</th>\n",
       "      <td>beauty  hygiene fragrances  deos layerr perfume</td>\n",
       "      <td>Wottagirl! Perfume Spray - Heaven, Classic</td>\n",
       "    </tr>\n",
       "    <tr>\n",
       "      <th>18836</th>\n",
       "      <td>gourmet  world food cooking  baking needs pura...</td>\n",
       "      <td>Rosemary</td>\n",
       "    </tr>\n",
       "    <tr>\n",
       "      <th>18837</th>\n",
       "      <td>gourmet  world food snacks dry fruits nuts fab...</td>\n",
       "      <td>Peri-Peri Sweet Potato Chips</td>\n",
       "    </tr>\n",
       "    <tr>\n",
       "      <th>18838</th>\n",
       "      <td>beverages tea tetley tea bags</td>\n",
       "      <td>Green Tea - Pure Original</td>\n",
       "    </tr>\n",
       "    <tr>\n",
       "      <th>18839</th>\n",
       "      <td>beauty  hygiene men's grooming united colors o...</td>\n",
       "      <td>United Dreams Go Far Deodorant</td>\n",
       "    </tr>\n",
       "  </tbody>\n",
       "</table>\n",
       "<p>18840 rows × 2 columns</p>\n",
       "</div>"
      ],
      "text/plain": [
       "                                                    soup  \\\n",
       "0      beauty  hygiene hair care sri sri ayurveda  ha...   \n",
       "1      kitchen garden  pets storage  accessories mast...   \n",
       "2      cleaning  household pooja needs trm lamp  lamp...   \n",
       "3      cleaning  household bins  bathroom ware nakoda...   \n",
       "4      beauty  hygiene bath  hand wash nivea bathing ...   \n",
       "...                                                  ...   \n",
       "18835    beauty  hygiene fragrances  deos layerr perfume   \n",
       "18836  gourmet  world food cooking  baking needs pura...   \n",
       "18837  gourmet  world food snacks dry fruits nuts fab...   \n",
       "18838                      beverages tea tetley tea bags   \n",
       "18839  beauty  hygiene men's grooming united colors o...   \n",
       "\n",
       "                                                 product  \n",
       "0                 Garlic Oil - Vegetarian Capsule 500 mg  \n",
       "1                                  Water Bottle - Orange  \n",
       "2                         Brass Angle Deep - Plain, No.2  \n",
       "3      Cereal Flip Lid Container/Storage Jar - Assort...  \n",
       "4                     Creme Soft Soap - For Hands & Body  \n",
       "...                                                  ...  \n",
       "18835         Wottagirl! Perfume Spray - Heaven, Classic  \n",
       "18836                                           Rosemary  \n",
       "18837                       Peri-Peri Sweet Potato Chips  \n",
       "18838                          Green Tea - Pure Original  \n",
       "18839                     United Dreams Go Far Deodorant  \n",
       "\n",
       "[18840 rows x 2 columns]"
      ]
     },
     "execution_count": 9,
     "metadata": {},
     "output_type": "execute_result"
    }
   ],
   "source": [
    "df_clean = pd.read_csv('clean.csv')\n",
    "indices = pd.Series(df_clean.index, index=df_clean['product']).drop_duplicates()\n",
    "df_clean[['soup','product']]"
   ]
  },
  {
   "cell_type": "code",
   "execution_count": 5,
   "id": "32bad68c",
   "metadata": {},
   "outputs": [],
   "source": [
    "# recommendation\n",
    "def get_tfid_recommendation(title, cosine_sim):\n",
    "    idx = indices[title]\n",
    "    sim_scores = list(enumerate(cosine_sim[idx]))\n",
    "    sim_scores = sorted(sim_scores, key=lambda x: x[1], reverse=True)\n",
    "    sim_scores = sim_scores[1:11]\n",
    "    movie_indices = [i[0] for i in sim_scores]\n",
    "    return df_clean['product'].iloc[movie_indices]"
   ]
  },
  {
   "cell_type": "code",
   "execution_count": 6,
   "id": "504d67fb",
   "metadata": {},
   "outputs": [],
   "source": [
    "tfidf = TfidfVectorizer(stop_words='english')\n",
    "tfidf_matrix = tfidf.fit_transform(df_clean['soup'])\n",
    "tfid_cosine_sim = linear_kernel(tfidf_matrix, tfidf_matrix)"
   ]
  },
  {
   "cell_type": "code",
   "execution_count": 12,
   "id": "3a4404b4",
   "metadata": {},
   "outputs": [
    {
     "data": {
      "text/plain": [
       "array(['Glass Water Bottle - Aquaria Organic Purple',\n",
       "       'H2O Unbreakable Water Bottle - Pink', 'Water Bottle H2O Purple',\n",
       "       'H2O Unbreakable Water Bottle - Green',\n",
       "       'Glass Water Bottle - Aquaria Organic Pink',\n",
       "       'Sipwell Bottle Set - Blue',\n",
       "       'Glass Water Bottle - Bri Black & Grey',\n",
       "       'Glass Water Bottle - Aquaria Organic Red',\n",
       "       'H2O Unbreakable Water Bottle - Blue',\n",
       "       'Glass Water Bottle - Circo Orange & Lemon'], dtype=object)"
      ]
     },
     "execution_count": 12,
     "metadata": {},
     "output_type": "execute_result"
    }
   ],
   "source": [
    "searchstr = 'Water Bottle - Orange'\n",
    "get_tfid_recommendation(searchstr,tfid_cosine_sim).values"
   ]
  },
  {
   "cell_type": "code",
   "execution_count": null,
   "id": "647b2010",
   "metadata": {},
   "outputs": [],
   "source": []
  }
 ],
 "metadata": {
  "kernelspec": {
   "display_name": "Python 3 (ipykernel)",
   "language": "python",
   "name": "python3"
  },
  "language_info": {
   "codemirror_mode": {
    "name": "ipython",
    "version": 3
   },
   "file_extension": ".py",
   "mimetype": "text/x-python",
   "name": "python",
   "nbconvert_exporter": "python",
   "pygments_lexer": "ipython3",
   "version": "3.9.15"
  }
 },
 "nbformat": 4,
 "nbformat_minor": 5
}
