{
 "cells": [
  {
   "cell_type": "markdown",
   "id": "ef54c70c",
   "metadata": {},
   "source": [
    "# Introduction to Regression with Neural Network in TensorFlow"
   ]
  },
  {
   "cell_type": "code",
   "execution_count": 1,
   "id": "c53168d7",
   "metadata": {},
   "outputs": [],
   "source": [
    "import tensorflow as tf\n",
    "import numpy as np\n",
    "import matplotlib.pyplot as plt"
   ]
  },
  {
   "cell_type": "code",
   "execution_count": 2,
   "id": "8b6c3931",
   "metadata": {},
   "outputs": [
    {
     "name": "stdout",
     "output_type": "stream",
     "text": [
      "2.10.0\n"
     ]
    }
   ],
   "source": [
    "print(tf.__version__)"
   ]
  },
  {
   "cell_type": "code",
   "execution_count": 3,
   "id": "d8922eb7",
   "metadata": {},
   "outputs": [],
   "source": [
    "X = np.array([-7.0,-4.0, -1.0, 2.0,  5.0,   8.0, 11.0, 14.0])\n",
    "y = np.array([ 3.0, 6.0,  9.0, 12.0, 15.0, 18.0, 21.0, 24.0])"
   ]
  },
  {
   "cell_type": "code",
   "execution_count": 4,
   "id": "c88093c0",
   "metadata": {},
   "outputs": [
    {
     "name": "stdout",
     "output_type": "stream",
     "text": [
      "(8,)\n",
      "(8,)\n"
     ]
    }
   ],
   "source": [
    "print(X.shape)\n",
    "print(y.shape)"
   ]
  },
  {
   "cell_type": "code",
   "execution_count": 5,
   "id": "7eb9d141",
   "metadata": {},
   "outputs": [
    {
     "data": {
      "text/plain": [
       "0"
      ]
     },
     "execution_count": 5,
     "metadata": {},
     "output_type": "execute_result"
    }
   ],
   "source": [
    "X[0].ndim"
   ]
  },
  {
   "cell_type": "code",
   "execution_count": 6,
   "id": "94792083",
   "metadata": {},
   "outputs": [
    {
     "data": {
      "text/plain": [
       "<matplotlib.collections.PathCollection at 0x28045fd0580>"
      ]
     },
     "execution_count": 6,
     "metadata": {},
     "output_type": "execute_result"
    },
    {
     "data": {
      "image/png": "[encoded data removed]",
      "text/plain": [
       "<Figure size 640x480 with 1 Axes>"
      ]
     },
     "metadata": {},
     "output_type": "display_data"
    }
   ],
   "source": [
    "plt.scatter(X,y)"
   ]
  },
  {
   "cell_type": "markdown",
   "id": "383f5a89",
   "metadata": {},
   "source": [
    "# Input and Output Shapes"
   ]
  },
  {
   "cell_type": "code",
   "execution_count": 7,
   "id": "178a5c14",
   "metadata": {},
   "outputs": [
    {
     "data": {
      "text/plain": [
       "(<tf.Tensor: shape=(3,), dtype=string, numpy=array([b'bedroom', b'bathroom', b'garage'], dtype=object)>,\n",
       " <tf.Tensor: shape=(1,), dtype=int32, numpy=array([939700])>)"
      ]
     },
     "execution_count": 7,
     "metadata": {},
     "output_type": "execute_result"
    }
   ],
   "source": [
    "# create a tensor for house pricing prediction problem\n",
    "house_info = tf.constant(['bedroom','bathroom','garage'])\n",
    "house_price = tf.constant([939700])\n",
    "house_info,house_price"
   ]
  },
  {
   "cell_type": "code",
   "execution_count": 8,
   "id": "e746d937",
   "metadata": {},
   "outputs": [
    {
     "name": "stdout",
     "output_type": "stream",
     "text": [
      "(8,)\n",
      "(8,)\n"
     ]
    }
   ],
   "source": [
    "input_shape = X.shape\n",
    "output_shape = y.shape\n",
    "print(input_shape)\n",
    "print(output_shape)"
   ]
  },
  {
   "cell_type": "code",
   "execution_count": 9,
   "id": "af49871a",
   "metadata": {},
   "outputs": [
    {
     "data": {
      "text/plain": [
       "()"
      ]
     },
     "execution_count": 9,
     "metadata": {},
     "output_type": "execute_result"
    }
   ],
   "source": [
    "X[0].shape"
   ]
  },
  {
   "cell_type": "code",
   "execution_count": 10,
   "id": "3c1c15c9",
   "metadata": {},
   "outputs": [
    {
     "data": {
      "text/plain": [
       "1"
      ]
     },
     "execution_count": 10,
     "metadata": {},
     "output_type": "execute_result"
    }
   ],
   "source": [
    "t = tf.constant([1])\n",
    "t.ndim"
   ]
  },
  {
   "cell_type": "code",
   "execution_count": 11,
   "id": "c99e4b57",
   "metadata": {},
   "outputs": [],
   "source": [
    "X = tf.constant(X)\n",
    "y = tf.constant(y)"
   ]
  },
  {
   "cell_type": "code",
   "execution_count": 12,
   "id": "c94f0d08",
   "metadata": {},
   "outputs": [
    {
     "data": {
      "text/plain": [
       "1"
      ]
     },
     "execution_count": 12,
     "metadata": {},
     "output_type": "execute_result"
    }
   ],
   "source": [
    "X.ndim"
   ]
  },
  {
   "cell_type": "code",
   "execution_count": 13,
   "id": "4d1ce549",
   "metadata": {},
   "outputs": [
    {
     "data": {
      "text/plain": [
       "1"
      ]
     },
     "execution_count": 13,
     "metadata": {},
     "output_type": "execute_result"
    }
   ],
   "source": [
    "y.ndim"
   ]
  },
  {
   "cell_type": "code",
   "execution_count": 14,
   "id": "7a6baa82",
   "metadata": {},
   "outputs": [
    {
     "data": {
      "text/plain": [
       "TensorShape([])"
      ]
     },
     "execution_count": 14,
     "metadata": {},
     "output_type": "execute_result"
    }
   ],
   "source": [
    "X[0].shape"
   ]
  },
  {
   "cell_type": "code",
   "execution_count": 15,
   "id": "ab54a841",
   "metadata": {},
   "outputs": [
    {
     "name": "stdout",
     "output_type": "stream",
     "text": [
      "(8, 1)\n",
      "2\n",
      "tf.Tensor(\n",
      "[[-7.]\n",
      " [-4.]\n",
      " [-1.]\n",
      " [ 2.]\n",
      " [ 5.]\n",
      " [ 8.]\n",
      " [11.]\n",
      " [14.]], shape=(8, 1), dtype=float64)\n"
     ]
    }
   ],
   "source": [
    "xt = tf.expand_dims(X,axis=-1)\n",
    "print(xt.shape)\n",
    "print(xt.ndim)\n",
    "print(xt)"
   ]
  },
  {
   "cell_type": "code",
   "execution_count": 16,
   "id": "c20f41f4",
   "metadata": {},
   "outputs": [
    {
     "name": "stdout",
     "output_type": "stream",
     "text": [
      "(8, 1)\n",
      "2\n",
      "tf.Tensor(\n",
      "[[-7.]\n",
      " [-4.]\n",
      " [-1.]\n",
      " [ 2.]\n",
      " [ 5.]\n",
      " [ 8.]\n",
      " [11.]\n",
      " [14.]], shape=(8, 1), dtype=float64)\n"
     ]
    }
   ],
   "source": [
    "xt = tf.expand_dims(X,axis=1)\n",
    "print(xt.shape)\n",
    "print(xt.ndim)\n",
    "print(xt)"
   ]
  },
  {
   "cell_type": "code",
   "execution_count": 17,
   "id": "3b7ddf88",
   "metadata": {},
   "outputs": [
    {
     "name": "stdout",
     "output_type": "stream",
     "text": [
      "(1, 8)\n",
      "2\n",
      "tf.Tensor([[-7. -4. -1.  2.  5.  8. 11. 14.]], shape=(1, 8), dtype=float64)\n"
     ]
    }
   ],
   "source": [
    "xt = tf.expand_dims(X,axis=0)\n",
    "print(xt.shape)\n",
    "print(xt.ndim)\n",
    "print(xt)"
   ]
  },
  {
   "cell_type": "code",
   "execution_count": 18,
   "id": "7add18bc",
   "metadata": {},
   "outputs": [
    {
     "name": "stdout",
     "output_type": "stream",
     "text": [
      "(8, 1)\n",
      "2\n",
      "tf.Tensor(\n",
      "[[-7.]\n",
      " [-4.]\n",
      " [-1.]\n",
      " [ 2.]\n",
      " [ 5.]\n",
      " [ 8.]\n",
      " [11.]\n",
      " [14.]], shape=(8, 1), dtype=float64)\n"
     ]
    }
   ],
   "source": [
    "xt = tf.reshape(X,shape=(-1,1))\n",
    "print(xt.shape)\n",
    "print(xt.ndim)\n",
    "print(xt)"
   ]
  },
  {
   "cell_type": "markdown",
   "id": "e27cb608",
   "metadata": {},
   "source": [
    "# Steps in modelling with TensorFlow`\n",
    "\n",
    "1. Create a model - define the input and output layers as well as hidden layers of a deep learning model.\n",
    "2. Compile the model - define the loss function and the optimizer and evaluation metrics.\n",
    "3. Fitting a model - letting the model find patterns between X and y"
   ]
  },
  {
   "cell_type": "code",
   "execution_count": 19,
   "id": "63cbbb45",
   "metadata": {},
   "outputs": [
    {
     "name": "stdout",
     "output_type": "stream",
     "text": [
      "Epoch 1/5\n",
      "1/1 [==============================] - 1s 1s/step - loss: 10.3754 - mae: 10.3754\n",
      "Epoch 2/5\n",
      "1/1 [==============================] - 0s 11ms/step - loss: 10.2429 - mae: 10.2429\n",
      "Epoch 3/5\n",
      "1/1 [==============================] - 0s 13ms/step - loss: 10.1104 - mae: 10.1104\n",
      "Epoch 4/5\n",
      "1/1 [==============================] - 0s 13ms/step - loss: 9.9779 - mae: 9.9779\n",
      "Epoch 5/5\n",
      "1/1 [==============================] - 0s 11ms/step - loss: 9.8454 - mae: 9.8454\n"
     ]
    },
    {
     "data": {
      "text/plain": [
       "<keras.callbacks.History at 0x28046248880>"
      ]
     },
     "execution_count": 19,
     "metadata": {},
     "output_type": "execute_result"
    }
   ],
   "source": [
    "# set the random seed\n",
    "tf.random.set_seed(42)\n",
    "# step 1 -  create the model\n",
    "model  = tf.keras.Sequential([\n",
    "    tf.keras.layers.Dense(1)\n",
    "])\n",
    "# step 2 - compile the model\n",
    "model.compile(loss = tf.keras.losses.mae,\n",
    "              optimizer = tf.keras.optimizers.SGD(),\n",
    "             metrics = ['mae'])\n",
    "# step 3 - fit the model\n",
    "model.fit(tf.reshape(X,shape=(-1,1)),tf.reshape(y,shape=(-1,1)),epochs=5)"
   ]
  },
  {
   "cell_type": "code",
   "execution_count": 20,
   "id": "e051dc91",
   "metadata": {},
   "outputs": [
    {
     "data": {
      "text/plain": [
       "(<tf.Tensor: shape=(8,), dtype=float64, numpy=array([-7., -4., -1.,  2.,  5.,  8., 11., 14.])>,\n",
       " <tf.Tensor: shape=(8,), dtype=float64, numpy=array([ 3.,  6.,  9., 12., 15., 18., 21., 24.])>)"
      ]
     },
     "execution_count": 20,
     "metadata": {},
     "output_type": "execute_result"
    }
   ],
   "source": [
    "# checkout X and y\n",
    "X,y"
   ]
  },
  {
   "cell_type": "code",
   "execution_count": 21,
   "id": "cfc13bdf",
   "metadata": {},
   "outputs": [
    {
     "name": "stdout",
     "output_type": "stream",
     "text": [
      "1/1 [==============================] - 0s 316ms/step\n"
     ]
    },
    {
     "data": {
      "text/plain": [
       "array([[18.201725]], dtype=float32)"
      ]
     },
     "execution_count": 21,
     "metadata": {},
     "output_type": "execute_result"
    }
   ],
   "source": [
    "model.predict([17.0])"
   ]
  },
  {
   "cell_type": "markdown",
   "id": "9eeb158a",
   "metadata": {},
   "source": [
    "# Improve the model"
   ]
  },
  {
   "cell_type": "code",
   "execution_count": 22,
   "id": "738ea2a0",
   "metadata": {},
   "outputs": [
    {
     "name": "stdout",
     "output_type": "stream",
     "text": [
      "Epoch 1/100\n",
      "1/1 [==============================] - 1s 1s/step - loss: 20.2711 - mae: 20.2711\n",
      "Epoch 2/100\n",
      "1/1 [==============================] - 0s 15ms/step - loss: 19.9898 - mae: 19.9898\n",
      "Epoch 3/100\n",
      "1/1 [==============================] - 0s 12ms/step - loss: 19.7086 - mae: 19.7086\n",
      "Epoch 4/100\n",
      "1/1 [==============================] - 0s 15ms/step - loss: 19.4273 - mae: 19.4273\n",
      "Epoch 5/100\n",
      "1/1 [==============================] - 0s 12ms/step - loss: 19.1461 - mae: 19.1461\n",
      "Epoch 6/100\n",
      "1/1 [==============================] - 0s 12ms/step - loss: 18.8648 - mae: 18.8648\n",
      "Epoch 7/100\n",
      "1/1 [==============================] - 0s 11ms/step - loss: 18.5836 - mae: 18.5836\n",
      "Epoch 8/100\n",
      "1/1 [==============================] - 0s 17ms/step - loss: 18.3023 - mae: 18.3023\n",
      "Epoch 9/100\n",
      "1/1 [==============================] - 0s 15ms/step - loss: 18.0211 - mae: 18.0211\n",
      "Epoch 10/100\n",
      "1/1 [==============================] - 0s 12ms/step - loss: 17.7398 - mae: 17.7398\n",
      "Epoch 11/100\n",
      "1/1 [==============================] - 0s 15ms/step - loss: 17.4586 - mae: 17.4586\n",
      "Epoch 12/100\n",
      "1/1 [==============================] - 0s 15ms/step - loss: 17.1773 - mae: 17.1773\n",
      "Epoch 13/100\n",
      "1/1 [==============================] - 0s 14ms/step - loss: 16.8961 - mae: 16.8961\n",
      "Epoch 14/100\n",
      "1/1 [==============================] - 0s 12ms/step - loss: 16.6148 - mae: 16.6148\n",
      "Epoch 15/100\n",
      "1/1 [==============================] - 0s 16ms/step - loss: 16.3336 - mae: 16.3336\n",
      "Epoch 16/100\n",
      "1/1 [==============================] - 0s 12ms/step - loss: 16.0523 - mae: 16.0523\n",
      "Epoch 17/100\n",
      "1/1 [==============================] - 0s 12ms/step - loss: 15.7711 - mae: 15.7711\n",
      "Epoch 18/100\n",
      "1/1 [==============================] - 0s 16ms/step - loss: 15.4898 - mae: 15.4898\n",
      "Epoch 19/100\n",
      "1/1 [==============================] - 0s 12ms/step - loss: 15.2086 - mae: 15.2086\n",
      "Epoch 20/100\n",
      "1/1 [==============================] - 0s 13ms/step - loss: 14.9273 - mae: 14.9273\n",
      "Epoch 21/100\n",
      "1/1 [==============================] - 0s 16ms/step - loss: 14.6891 - mae: 14.6891\n",
      "Epoch 22/100\n",
      "1/1 [==============================] - 0s 14ms/step - loss: 14.5566 - mae: 14.5566\n",
      "Epoch 23/100\n",
      "1/1 [==============================] - 0s 13ms/step - loss: 14.4241 - mae: 14.4241\n",
      "Epoch 24/100\n",
      "1/1 [==============================] - 0s 16ms/step - loss: 14.2916 - mae: 14.2916\n",
      "Epoch 25/100\n",
      "1/1 [==============================] - 0s 13ms/step - loss: 14.1591 - mae: 14.1591\n",
      "Epoch 26/100\n",
      "1/1 [==============================] - 0s 13ms/step - loss: 14.0266 - mae: 14.0266\n",
      "Epoch 27/100\n",
      "1/1 [==============================] - 0s 16ms/step - loss: 13.8941 - mae: 13.8941\n",
      "Epoch 28/100\n",
      "1/1 [==============================] - 0s 11ms/step - loss: 13.7616 - mae: 13.7616\n",
      "Epoch 29/100\n",
      "1/1 [==============================] - 0s 16ms/step - loss: 13.6291 - mae: 13.6291\n",
      "Epoch 30/100\n",
      "1/1 [==============================] - 0s 14ms/step - loss: 13.4966 - mae: 13.4966\n",
      "Epoch 31/100\n",
      "1/1 [==============================] - 0s 12ms/step - loss: 13.3641 - mae: 13.3641\n",
      "Epoch 32/100\n",
      "1/1 [==============================] - 0s 12ms/step - loss: 13.2316 - mae: 13.2316\n",
      "Epoch 33/100\n",
      "1/1 [==============================] - 0s 16ms/step - loss: 13.0991 - mae: 13.0991\n",
      "Epoch 34/100\n",
      "1/1 [==============================] - 0s 13ms/step - loss: 12.9666 - mae: 12.9666\n",
      "Epoch 35/100\n",
      "1/1 [==============================] - 0s 13ms/step - loss: 12.8341 - mae: 12.8341\n",
      "Epoch 36/100\n",
      "1/1 [==============================] - 0s 13ms/step - loss: 12.7016 - mae: 12.7016\n",
      "Epoch 37/100\n",
      "1/1 [==============================] - 0s 17ms/step - loss: 12.5691 - mae: 12.5691\n",
      "Epoch 38/100\n",
      "1/1 [==============================] - 0s 13ms/step - loss: 12.4366 - mae: 12.4366\n",
      "Epoch 39/100\n",
      "1/1 [==============================] - 0s 12ms/step - loss: 12.3041 - mae: 12.3041\n",
      "Epoch 40/100\n",
      "1/1 [==============================] - 0s 15ms/step - loss: 12.1716 - mae: 12.1716\n",
      "Epoch 41/100\n",
      "1/1 [==============================] - 0s 13ms/step - loss: 12.0391 - mae: 12.0391\n",
      "Epoch 42/100\n",
      "1/1 [==============================] - 0s 12ms/step - loss: 11.9066 - mae: 11.9066\n",
      "Epoch 43/100\n",
      "1/1 [==============================] - 0s 13ms/step - loss: 11.7741 - mae: 11.7741\n",
      "Epoch 44/100\n",
      "1/1 [==============================] - 0s 15ms/step - loss: 11.6416 - mae: 11.6416\n",
      "Epoch 45/100\n",
      "1/1 [==============================] - 0s 15ms/step - loss: 11.5091 - mae: 11.5091\n",
      "Epoch 46/100\n",
      "1/1 [==============================] - 0s 11ms/step - loss: 11.3766 - mae: 11.3766\n",
      "Epoch 47/100\n",
      "1/1 [==============================] - 0s 12ms/step - loss: 11.2441 - mae: 11.2441\n",
      "Epoch 48/100\n",
      "1/1 [==============================] - 0s 12ms/step - loss: 11.1116 - mae: 11.1116\n",
      "Epoch 49/100\n",
      "1/1 [==============================] - 0s 12ms/step - loss: 10.9791 - mae: 10.9791\n",
      "Epoch 50/100\n",
      "1/1 [==============================] - 0s 12ms/step - loss: 10.8466 - mae: 10.8466\n",
      "Epoch 51/100\n",
      "1/1 [==============================] - 0s 11ms/step - loss: 10.7141 - mae: 10.7141\n",
      "Epoch 52/100\n",
      "1/1 [==============================] - 0s 13ms/step - loss: 10.5816 - mae: 10.5816\n",
      "Epoch 53/100\n",
      "1/1 [==============================] - 0s 16ms/step - loss: 10.4491 - mae: 10.4491\n",
      "Epoch 54/100\n",
      "1/1 [==============================] - 0s 13ms/step - loss: 10.3166 - mae: 10.3166\n",
      "Epoch 55/100\n",
      "1/1 [==============================] - 0s 13ms/step - loss: 10.1841 - mae: 10.1841\n",
      "Epoch 56/100\n",
      "1/1 [==============================] - 0s 15ms/step - loss: 10.0516 - mae: 10.0516\n",
      "Epoch 57/100\n",
      "1/1 [==============================] - 0s 13ms/step - loss: 9.9191 - mae: 9.9191\n",
      "Epoch 58/100\n",
      "1/1 [==============================] - 0s 13ms/step - loss: 9.7866 - mae: 9.7866\n",
      "Epoch 59/100\n",
      "1/1 [==============================] - 0s 14ms/step - loss: 9.6541 - mae: 9.6541\n",
      "Epoch 60/100\n",
      "1/1 [==============================] - 0s 17ms/step - loss: 9.5216 - mae: 9.5216\n",
      "Epoch 61/100\n",
      "1/1 [==============================] - 0s 13ms/step - loss: 9.3891 - mae: 9.3891\n",
      "Epoch 62/100\n",
      "1/1 [==============================] - 0s 12ms/step - loss: 9.2566 - mae: 9.2566\n",
      "Epoch 63/100\n",
      "1/1 [==============================] - 0s 12ms/step - loss: 9.1241 - mae: 9.1241\n",
      "Epoch 64/100\n",
      "1/1 [==============================] - 0s 14ms/step - loss: 8.9916 - mae: 8.9916\n",
      "Epoch 65/100\n",
      "1/1 [==============================] - 0s 13ms/step - loss: 8.8591 - mae: 8.8591\n",
      "Epoch 66/100\n",
      "1/1 [==============================] - 0s 11ms/step - loss: 8.7266 - mae: 8.7266\n",
      "Epoch 67/100\n",
      "1/1 [==============================] - 0s 12ms/step - loss: 8.5941 - mae: 8.5941\n",
      "Epoch 68/100\n",
      "1/1 [==============================] - 0s 12ms/step - loss: 8.4616 - mae: 8.4616\n",
      "Epoch 69/100\n",
      "1/1 [==============================] - 0s 16ms/step - loss: 8.3291 - mae: 8.3291\n",
      "Epoch 70/100\n",
      "1/1 [==============================] - 0s 14ms/step - loss: 8.1966 - mae: 8.1966\n",
      "Epoch 71/100\n",
      "1/1 [==============================] - 0s 12ms/step - loss: 8.0641 - mae: 8.0641\n",
      "Epoch 72/100\n",
      "1/1 [==============================] - 0s 16ms/step - loss: 7.9316 - mae: 7.9316\n",
      "Epoch 73/100\n",
      "1/1 [==============================] - 0s 13ms/step - loss: 7.7991 - mae: 7.7991\n",
      "Epoch 74/100\n",
      "1/1 [==============================] - 0s 14ms/step - loss: 7.6666 - mae: 7.6666\n",
      "Epoch 75/100\n",
      "1/1 [==============================] - 0s 18ms/step - loss: 7.5341 - mae: 7.5341\n",
      "Epoch 76/100\n",
      "1/1 [==============================] - 0s 17ms/step - loss: 7.4016 - mae: 7.4016\n",
      "Epoch 77/100\n",
      "1/1 [==============================] - 0s 21ms/step - loss: 7.2691 - mae: 7.2691\n",
      "Epoch 78/100\n",
      "1/1 [==============================] - 0s 18ms/step - loss: 7.1366 - mae: 7.1366\n",
      "Epoch 79/100\n",
      "1/1 [==============================] - 0s 13ms/step - loss: 7.0041 - mae: 7.0041\n",
      "Epoch 80/100\n",
      "1/1 [==============================] - 0s 12ms/step - loss: 6.9450 - mae: 6.9450\n",
      "Epoch 81/100\n",
      "1/1 [==============================] - 0s 13ms/step - loss: 6.9394 - mae: 6.9394\n",
      "Epoch 82/100\n",
      "1/1 [==============================] - 0s 13ms/step - loss: 6.9338 - mae: 6.9338\n",
      "Epoch 83/100\n",
      "1/1 [==============================] - 0s 13ms/step - loss: 6.9281 - mae: 6.9281\n",
      "Epoch 84/100\n",
      "1/1 [==============================] - 0s 13ms/step - loss: 6.9225 - mae: 6.9225\n",
      "Epoch 85/100\n",
      "1/1 [==============================] - 0s 15ms/step - loss: 6.9169 - mae: 6.9169\n",
      "Epoch 86/100\n",
      "1/1 [==============================] - 0s 14ms/step - loss: 6.9113 - mae: 6.9113\n",
      "Epoch 87/100\n"
     ]
    },
    {
     "name": "stdout",
     "output_type": "stream",
     "text": [
      "1/1 [==============================] - 0s 13ms/step - loss: 6.9056 - mae: 6.9056\n",
      "Epoch 88/100\n",
      "1/1 [==============================] - 0s 11ms/step - loss: 6.9000 - mae: 6.9000\n",
      "Epoch 89/100\n",
      "1/1 [==============================] - 0s 14ms/step - loss: 6.8944 - mae: 6.8944\n",
      "Epoch 90/100\n",
      "1/1 [==============================] - 0s 11ms/step - loss: 6.8888 - mae: 6.8888\n",
      "Epoch 91/100\n",
      "1/1 [==============================] - 0s 16ms/step - loss: 6.8831 - mae: 6.8831\n",
      "Epoch 92/100\n",
      "1/1 [==============================] - 0s 14ms/step - loss: 6.8775 - mae: 6.8775\n",
      "Epoch 93/100\n",
      "1/1 [==============================] - 0s 15ms/step - loss: 6.8719 - mae: 6.8719\n",
      "Epoch 94/100\n",
      "1/1 [==============================] - 0s 15ms/step - loss: 6.8663 - mae: 6.8663\n",
      "Epoch 95/100\n",
      "1/1 [==============================] - 0s 14ms/step - loss: 6.8606 - mae: 6.8606\n",
      "Epoch 96/100\n",
      "1/1 [==============================] - 0s 13ms/step - loss: 6.8550 - mae: 6.8550\n",
      "Epoch 97/100\n",
      "1/1 [==============================] - 0s 14ms/step - loss: 6.8494 - mae: 6.8494\n",
      "Epoch 98/100\n",
      "1/1 [==============================] - 0s 12ms/step - loss: 6.8438 - mae: 6.8438\n",
      "Epoch 99/100\n",
      "1/1 [==============================] - 0s 12ms/step - loss: 6.8381 - mae: 6.8381\n",
      "Epoch 100/100\n",
      "1/1 [==============================] - 0s 14ms/step - loss: 6.8325 - mae: 6.8325\n"
     ]
    },
    {
     "data": {
      "text/plain": [
       "<keras.callbacks.History at 0x280476c47c0>"
      ]
     },
     "execution_count": 22,
     "metadata": {},
     "output_type": "execute_result"
    }
   ],
   "source": [
    "tf.random.set_seed(42)\n",
    "model = tf.keras.Sequential([\n",
    "    tf.keras.layers.Dense(1)\n",
    "])\n",
    "model.compile(loss = tf.keras.losses.mae,\n",
    "             optimizer = tf.keras.optimizers.SGD(),\n",
    "             metrics=['mae'])\n",
    "model.fit(tf.reshape(X,shape=(-1,1)),tf.reshape(y,shape=(-1,1)),epochs=100)"
   ]
  },
  {
   "cell_type": "code",
   "execution_count": 23,
   "id": "c76a9cd6",
   "metadata": {},
   "outputs": [
    {
     "name": "stdout",
     "output_type": "stream",
     "text": [
      "1/1 [==============================] - 0s 216ms/step\n"
     ]
    },
    {
     "data": {
      "text/plain": [
       "array([[29.498516]], dtype=float32)"
      ]
     },
     "execution_count": 23,
     "metadata": {},
     "output_type": "execute_result"
    }
   ],
   "source": [
    "model.predict([17.0])"
   ]
  },
  {
   "cell_type": "code",
   "execution_count": 24,
   "id": "be7cd203",
   "metadata": {},
   "outputs": [
    {
     "name": "stdout",
     "output_type": "stream",
     "text": [
      "Epoch 1/100\n",
      "1/1 [==============================] - 2s 2s/step - loss: 13.7307 - mae: 13.7307\n",
      "Epoch 2/100\n",
      "1/1 [==============================] - 0s 15ms/step - loss: 12.8293 - mae: 12.8293\n",
      "Epoch 3/100\n",
      "1/1 [==============================] - 0s 14ms/step - loss: 11.9247 - mae: 11.9247\n",
      "Epoch 4/100\n",
      "1/1 [==============================] - 0s 21ms/step - loss: 11.1521 - mae: 11.1521\n",
      "Epoch 5/100\n",
      "1/1 [==============================] - 0s 15ms/step - loss: 10.4573 - mae: 10.4573\n",
      "Epoch 6/100\n",
      "1/1 [==============================] - 0s 16ms/step - loss: 9.7504 - mae: 9.7504\n",
      "Epoch 7/100\n",
      "1/1 [==============================] - 0s 16ms/step - loss: 9.0289 - mae: 9.0289\n",
      "Epoch 8/100\n",
      "1/1 [==============================] - 0s 16ms/step - loss: 8.2905 - mae: 8.2905\n",
      "Epoch 9/100\n",
      "1/1 [==============================] - 0s 18ms/step - loss: 7.5371 - mae: 7.5371\n",
      "Epoch 10/100\n",
      "1/1 [==============================] - 0s 15ms/step - loss: 6.7729 - mae: 6.7729\n",
      "Epoch 11/100\n",
      "1/1 [==============================] - 0s 16ms/step - loss: 5.9796 - mae: 5.9796\n",
      "Epoch 12/100\n",
      "1/1 [==============================] - 0s 18ms/step - loss: 5.1513 - mae: 5.1513\n",
      "Epoch 13/100\n",
      "1/1 [==============================] - 0s 14ms/step - loss: 4.2867 - mae: 4.2867\n",
      "Epoch 14/100\n",
      "1/1 [==============================] - 0s 16ms/step - loss: 3.8055 - mae: 3.8055\n",
      "Epoch 15/100\n",
      "1/1 [==============================] - 0s 15ms/step - loss: 3.8300 - mae: 3.8300\n",
      "Epoch 16/100\n",
      "1/1 [==============================] - 0s 13ms/step - loss: 3.9803 - mae: 3.9803\n",
      "Epoch 17/100\n",
      "1/1 [==============================] - 0s 17ms/step - loss: 4.3193 - mae: 4.3193\n",
      "Epoch 18/100\n",
      "1/1 [==============================] - 0s 16ms/step - loss: 4.5948 - mae: 4.5948\n",
      "Epoch 19/100\n",
      "1/1 [==============================] - 0s 17ms/step - loss: 4.7601 - mae: 4.7601\n",
      "Epoch 20/100\n",
      "1/1 [==============================] - 0s 19ms/step - loss: 4.8279 - mae: 4.8279\n",
      "Epoch 21/100\n",
      "1/1 [==============================] - 0s 16ms/step - loss: 4.8103 - mae: 4.8103\n",
      "Epoch 22/100\n",
      "1/1 [==============================] - 0s 16ms/step - loss: 4.7236 - mae: 4.7236\n",
      "Epoch 23/100\n",
      "1/1 [==============================] - 0s 16ms/step - loss: 4.5713 - mae: 4.5713\n",
      "Epoch 24/100\n",
      "1/1 [==============================] - 0s 15ms/step - loss: 4.3637 - mae: 4.3637\n",
      "Epoch 25/100\n",
      "1/1 [==============================] - 0s 18ms/step - loss: 4.1144 - mae: 4.1144\n",
      "Epoch 26/100\n",
      "1/1 [==============================] - 0s 18ms/step - loss: 3.8298 - mae: 3.8298\n",
      "Epoch 27/100\n",
      "1/1 [==============================] - 0s 20ms/step - loss: 3.5929 - mae: 3.5929\n",
      "Epoch 28/100\n",
      "1/1 [==============================] - 0s 17ms/step - loss: 3.4550 - mae: 3.4550\n",
      "Epoch 29/100\n",
      "1/1 [==============================] - 0s 19ms/step - loss: 3.3237 - mae: 3.3237\n",
      "Epoch 30/100\n",
      "1/1 [==============================] - 0s 16ms/step - loss: 3.1868 - mae: 3.1868\n",
      "Epoch 31/100\n",
      "1/1 [==============================] - 0s 15ms/step - loss: 3.1713 - mae: 3.1713\n",
      "Epoch 32/100\n",
      "1/1 [==============================] - 0s 18ms/step - loss: 3.1907 - mae: 3.1907\n",
      "Epoch 33/100\n",
      "1/1 [==============================] - 0s 14ms/step - loss: 3.1685 - mae: 3.1685\n",
      "Epoch 34/100\n",
      "1/1 [==============================] - 0s 18ms/step - loss: 3.0818 - mae: 3.0818\n",
      "Epoch 35/100\n",
      "1/1 [==============================] - 0s 14ms/step - loss: 2.9872 - mae: 2.9872\n",
      "Epoch 36/100\n",
      "1/1 [==============================] - 0s 17ms/step - loss: 2.8566 - mae: 2.8566\n",
      "Epoch 37/100\n",
      "1/1 [==============================] - 0s 15ms/step - loss: 2.7121 - mae: 2.7121\n",
      "Epoch 38/100\n",
      "1/1 [==============================] - 0s 15ms/step - loss: 2.6636 - mae: 2.6636\n",
      "Epoch 39/100\n",
      "1/1 [==============================] - 0s 15ms/step - loss: 2.6183 - mae: 2.6183\n",
      "Epoch 40/100\n",
      "1/1 [==============================] - 0s 13ms/step - loss: 2.5684 - mae: 2.5684\n",
      "Epoch 41/100\n",
      "1/1 [==============================] - 0s 18ms/step - loss: 2.5021 - mae: 2.5021\n",
      "Epoch 42/100\n",
      "1/1 [==============================] - 0s 14ms/step - loss: 2.4194 - mae: 2.4194\n",
      "Epoch 43/100\n",
      "1/1 [==============================] - 0s 14ms/step - loss: 2.3207 - mae: 2.3207\n",
      "Epoch 44/100\n",
      "1/1 [==============================] - 0s 19ms/step - loss: 2.2063 - mae: 2.2063\n",
      "Epoch 45/100\n",
      "1/1 [==============================] - 0s 14ms/step - loss: 2.0758 - mae: 2.0758\n",
      "Epoch 46/100\n",
      "1/1 [==============================] - 0s 14ms/step - loss: 1.9287 - mae: 1.9287\n",
      "Epoch 47/100\n",
      "1/1 [==============================] - 0s 17ms/step - loss: 1.8845 - mae: 1.8845\n",
      "Epoch 48/100\n",
      "1/1 [==============================] - 0s 15ms/step - loss: 1.8061 - mae: 1.8061\n",
      "Epoch 49/100\n",
      "1/1 [==============================] - 0s 18ms/step - loss: 1.6094 - mae: 1.6094\n",
      "Epoch 50/100\n",
      "1/1 [==============================] - 0s 18ms/step - loss: 1.4920 - mae: 1.4920\n",
      "Epoch 51/100\n",
      "1/1 [==============================] - 0s 14ms/step - loss: 1.4363 - mae: 1.4363\n",
      "Epoch 52/100\n",
      "1/1 [==============================] - 0s 16ms/step - loss: 1.3472 - mae: 1.3472\n",
      "Epoch 53/100\n",
      "1/1 [==============================] - 0s 16ms/step - loss: 1.1472 - mae: 1.1472\n",
      "Epoch 54/100\n",
      "1/1 [==============================] - 0s 17ms/step - loss: 0.9789 - mae: 0.9789\n",
      "Epoch 55/100\n",
      "1/1 [==============================] - 0s 14ms/step - loss: 0.9053 - mae: 0.9053\n",
      "Epoch 56/100\n",
      "1/1 [==============================] - 0s 20ms/step - loss: 0.8367 - mae: 0.8367\n",
      "Epoch 57/100\n",
      "1/1 [==============================] - 0s 14ms/step - loss: 0.6160 - mae: 0.6160\n",
      "Epoch 58/100\n",
      "1/1 [==============================] - 0s 15ms/step - loss: 0.5836 - mae: 0.5836\n",
      "Epoch 59/100\n",
      "1/1 [==============================] - 0s 16ms/step - loss: 0.4895 - mae: 0.4895\n",
      "Epoch 60/100\n",
      "1/1 [==============================] - 0s 15ms/step - loss: 0.2874 - mae: 0.2874\n",
      "Epoch 61/100\n",
      "1/1 [==============================] - 0s 15ms/step - loss: 0.2273 - mae: 0.2273\n",
      "Epoch 62/100\n",
      "1/1 [==============================] - 0s 17ms/step - loss: 0.2068 - mae: 0.2068\n",
      "Epoch 63/100\n",
      "1/1 [==============================] - 0s 15ms/step - loss: 0.5672 - mae: 0.5672\n",
      "Epoch 64/100\n",
      "1/1 [==============================] - 0s 14ms/step - loss: 0.4754 - mae: 0.4754\n",
      "Epoch 65/100\n",
      "1/1 [==============================] - 0s 15ms/step - loss: 0.5016 - mae: 0.5016\n",
      "Epoch 66/100\n",
      "1/1 [==============================] - 0s 17ms/step - loss: 0.6430 - mae: 0.6430\n",
      "Epoch 67/100\n",
      "1/1 [==============================] - 0s 16ms/step - loss: 0.5446 - mae: 0.5446\n",
      "Epoch 68/100\n",
      "1/1 [==============================] - 0s 15ms/step - loss: 0.4912 - mae: 0.4912\n",
      "Epoch 69/100\n",
      "1/1 [==============================] - 0s 17ms/step - loss: 0.5243 - mae: 0.5243\n",
      "Epoch 70/100\n",
      "1/1 [==============================] - 0s 18ms/step - loss: 0.4653 - mae: 0.4653\n",
      "Epoch 71/100\n",
      "1/1 [==============================] - 0s 17ms/step - loss: 0.4312 - mae: 0.4312\n",
      "Epoch 72/100\n",
      "1/1 [==============================] - 0s 16ms/step - loss: 0.3863 - mae: 0.3863\n",
      "Epoch 73/100\n",
      "1/1 [==============================] - 0s 15ms/step - loss: 0.2642 - mae: 0.2642\n",
      "Epoch 74/100\n",
      "1/1 [==============================] - 0s 15ms/step - loss: 0.3526 - mae: 0.3526\n",
      "Epoch 75/100\n",
      "1/1 [==============================] - 0s 16ms/step - loss: 0.2870 - mae: 0.2870\n",
      "Epoch 76/100\n",
      "1/1 [==============================] - 0s 14ms/step - loss: 0.4067 - mae: 0.4067\n",
      "Epoch 77/100\n",
      "1/1 [==============================] - 0s 15ms/step - loss: 0.3921 - mae: 0.3921\n",
      "Epoch 78/100\n",
      "1/1 [==============================] - 0s 18ms/step - loss: 0.1724 - mae: 0.1724\n",
      "Epoch 79/100\n",
      "1/1 [==============================] - 0s 14ms/step - loss: 0.4488 - mae: 0.4488\n",
      "Epoch 80/100\n",
      "1/1 [==============================] - 0s 15ms/step - loss: 0.5938 - mae: 0.5938\n",
      "Epoch 81/100\n",
      "1/1 [==============================] - 0s 15ms/step - loss: 0.4141 - mae: 0.4141\n",
      "Epoch 82/100\n",
      "1/1 [==============================] - 0s 14ms/step - loss: 0.2115 - mae: 0.2115\n",
      "Epoch 83/100\n",
      "1/1 [==============================] - 0s 15ms/step - loss: 0.4102 - mae: 0.4102\n",
      "Epoch 84/100\n",
      "1/1 [==============================] - 0s 13ms/step - loss: 0.3398 - mae: 0.3398\n",
      "Epoch 85/100\n",
      "1/1 [==============================] - 0s 13ms/step - loss: 0.2407 - mae: 0.2407\n",
      "Epoch 86/100\n",
      "1/1 [==============================] - 0s 46ms/step - loss: 0.3385 - mae: 0.3385\n",
      "Epoch 87/100\n",
      "1/1 [==============================] - 0s 16ms/step - loss: 0.1950 - mae: 0.1950\n",
      "Epoch 88/100\n"
     ]
    },
    {
     "name": "stdout",
     "output_type": "stream",
     "text": [
      "1/1 [==============================] - 0s 15ms/step - loss: 0.3390 - mae: 0.3390\n",
      "Epoch 89/100\n",
      "1/1 [==============================] - 0s 24ms/step - loss: 0.3187 - mae: 0.3187\n",
      "Epoch 90/100\n",
      "1/1 [==============================] - 0s 14ms/step - loss: 0.1839 - mae: 0.1839\n",
      "Epoch 91/100\n",
      "1/1 [==============================] - 0s 17ms/step - loss: 0.2357 - mae: 0.2357\n",
      "Epoch 92/100\n",
      "1/1 [==============================] - 0s 14ms/step - loss: 0.1810 - mae: 0.1810\n",
      "Epoch 93/100\n",
      "1/1 [==============================] - 0s 15ms/step - loss: 0.1631 - mae: 0.1631\n",
      "Epoch 94/100\n",
      "1/1 [==============================] - 0s 15ms/step - loss: 0.1209 - mae: 0.1209\n",
      "Epoch 95/100\n",
      "1/1 [==============================] - 0s 15ms/step - loss: 0.2702 - mae: 0.2702\n",
      "Epoch 96/100\n",
      "1/1 [==============================] - 0s 15ms/step - loss: 0.2786 - mae: 0.2786\n",
      "Epoch 97/100\n",
      "1/1 [==============================] - 0s 15ms/step - loss: 0.1616 - mae: 0.1616\n",
      "Epoch 98/100\n",
      "1/1 [==============================] - 0s 14ms/step - loss: 0.1933 - mae: 0.1933\n",
      "Epoch 99/100\n",
      "1/1 [==============================] - 0s 14ms/step - loss: 0.1551 - mae: 0.1551\n",
      "Epoch 100/100\n",
      "1/1 [==============================] - 0s 14ms/step - loss: 0.1580 - mae: 0.1580\n"
     ]
    },
    {
     "data": {
      "text/plain": [
       "<keras.callbacks.History at 0x2804620b790>"
      ]
     },
     "execution_count": 24,
     "metadata": {},
     "output_type": "execute_result"
    }
   ],
   "source": [
    "#tf.random.set_seed(42)\n",
    "model = tf.keras.Sequential([\n",
    "    tf.keras.layers.Dense(100,activation=\"relu\"),\n",
    "    tf.keras.layers.Dense(1)\n",
    "])\n",
    "model.compile(loss = tf.keras.losses.mae,\n",
    "             optimizer = tf.keras.optimizers.Adam(learning_rate=0.01),\n",
    "             metrics=['mae'])\n",
    "model.fit(tf.reshape(X,shape=(-1,1)),tf.reshape(y,shape=(-1,1)),epochs=100)"
   ]
  },
  {
   "cell_type": "code",
   "execution_count": 25,
   "id": "614205d9",
   "metadata": {},
   "outputs": [
    {
     "name": "stdout",
     "output_type": "stream",
     "text": [
      "1/1 [==============================] - 0s 231ms/step\n"
     ]
    },
    {
     "data": {
      "text/plain": [
       "array([[26.923279]], dtype=float32)"
      ]
     },
     "execution_count": 25,
     "metadata": {},
     "output_type": "execute_result"
    }
   ],
   "source": [
    "model.predict([17.0])"
   ]
  },
  {
   "cell_type": "code",
   "execution_count": 26,
   "id": "d002c14d",
   "metadata": {},
   "outputs": [
    {
     "name": "stdout",
     "output_type": "stream",
     "text": [
      "1/1 [==============================] - 0s 109ms/step\n"
     ]
    },
    {
     "data": {
      "text/plain": [
       "array([[29.891619]], dtype=float32)"
      ]
     },
     "execution_count": 26,
     "metadata": {},
     "output_type": "execute_result"
    }
   ],
   "source": [
    "model.predict([20.0])"
   ]
  },
  {
   "cell_type": "code",
   "execution_count": 27,
   "id": "904fe751",
   "metadata": {},
   "outputs": [
    {
     "name": "stdout",
     "output_type": "stream",
     "text": [
      "1/1 [==============================] - 0s 109ms/step\n"
     ]
    },
    {
     "data": {
      "text/plain": [
       "array([[112.51846]], dtype=float32)"
      ]
     },
     "execution_count": 27,
     "metadata": {},
     "output_type": "execute_result"
    }
   ],
   "source": [
    "model.predict([100.0])"
   ]
  },
  {
   "cell_type": "code",
   "execution_count": 28,
   "id": "f7ec9c73",
   "metadata": {},
   "outputs": [
    {
     "data": {
      "text/plain": [
       "<tf.Tensor: shape=(50,), dtype=int32, numpy=\n",
       "array([-100,  -96,  -92,  -88,  -84,  -80,  -76,  -72,  -68,  -64,  -60,\n",
       "        -56,  -52,  -48,  -44,  -40,  -36,  -32,  -28,  -24,  -20,  -16,\n",
       "        -12,   -8,   -4,    0,    4,    8,   12,   16,   20,   24,   28,\n",
       "         32,   36,   40,   44,   48,   52,   56,   60,   64,   68,   72,\n",
       "         76,   80,   84,   88,   92,   96])>"
      ]
     },
     "execution_count": 28,
     "metadata": {},
     "output_type": "execute_result"
    }
   ],
   "source": [
    "X = tf.range(-100,100,4)\n",
    "X"
   ]
  },
  {
   "cell_type": "code",
   "execution_count": 29,
   "id": "82b52dd6",
   "metadata": {},
   "outputs": [
    {
     "data": {
      "text/plain": [
       "<tf.Tensor: shape=(50,), dtype=int32, numpy=\n",
       "array([-90, -86, -82, -78, -74, -70, -66, -62, -58, -54, -50, -46, -42,\n",
       "       -38, -34, -30, -26, -22, -18, -14, -10,  -6,  -2,   2,   6,  10,\n",
       "        14,  18,  22,  26,  30,  34,  38,  42,  46,  50,  54,  58,  62,\n",
       "        66,  70,  74,  78,  82,  86,  90,  94,  98, 102, 106])>"
      ]
     },
     "execution_count": 29,
     "metadata": {},
     "output_type": "execute_result"
    }
   ],
   "source": [
    "y = X + 10\n",
    "y"
   ]
  },
  {
   "cell_type": "code",
   "execution_count": 30,
   "id": "a76a3c07",
   "metadata": {},
   "outputs": [
    {
     "data": {
      "text/plain": [
       "<matplotlib.collections.PathCollection at 0x28048d94040>"
      ]
     },
     "execution_count": 30,
     "metadata": {},
     "output_type": "execute_result"
    },
    {
     "data": {
      "image/png": "[encoded data removed]",
      "text/plain": [
       "<Figure size 640x480 with 1 Axes>"
      ]
     },
     "metadata": {},
     "output_type": "display_data"
    }
   ],
   "source": [
    "# visualize the data\n",
    "import matplotlib.pyplot as plt\n",
    "plt.scatter(X,y)"
   ]
  },
  {
   "cell_type": "code",
   "execution_count": 31,
   "id": "02c4d254",
   "metadata": {},
   "outputs": [],
   "source": [
    "from sklearn.model_selection import train_test_split"
   ]
  },
  {
   "cell_type": "code",
   "execution_count": 32,
   "id": "611f494c",
   "metadata": {},
   "outputs": [],
   "source": [
    "X_train, X_test, y_train, y_test = train_test_split(X.numpy(), y.numpy(), test_size=0.33, random_state=42)"
   ]
  },
  {
   "cell_type": "code",
   "execution_count": 33,
   "id": "a76f08a0",
   "metadata": {},
   "outputs": [
    {
     "data": {
      "text/plain": [
       "TensorShape([33])"
      ]
     },
     "execution_count": 33,
     "metadata": {},
     "output_type": "execute_result"
    }
   ],
   "source": [
    "X_train = tf.constant(X_train)\n",
    "X_test = tf.constant(X_test)\n",
    "y_train = tf.constant(y_train)\n",
    "y_test = tf.constant(y_test)\n",
    "X_train.shape"
   ]
  },
  {
   "cell_type": "code",
   "execution_count": 34,
   "id": "2eaaf800",
   "metadata": {},
   "outputs": [],
   "source": [
    "X_train = X[:40]\n",
    "y_train = y[:40]\n",
    "X_test  = X[40:]\n",
    "y_test  = y[40:]"
   ]
  },
  {
   "cell_type": "code",
   "execution_count": 35,
   "id": "13a6ec7b",
   "metadata": {},
   "outputs": [
    {
     "data": {
      "text/plain": [
       "<tf.Tensor: shape=(10,), dtype=int32, numpy=array([60, 64, 68, 72, 76, 80, 84, 88, 92, 96])>"
      ]
     },
     "execution_count": 35,
     "metadata": {},
     "output_type": "execute_result"
    }
   ],
   "source": [
    "X_test"
   ]
  },
  {
   "cell_type": "code",
   "execution_count": 36,
   "id": "2e53a94f",
   "metadata": {},
   "outputs": [
    {
     "data": {
      "text/plain": [
       "<tf.Tensor: shape=(10,), dtype=int32, numpy=array([ 70,  74,  78,  82,  86,  90,  94,  98, 102, 106])>"
      ]
     },
     "execution_count": 36,
     "metadata": {},
     "output_type": "execute_result"
    }
   ],
   "source": [
    "y_test"
   ]
  },
  {
   "cell_type": "code",
   "execution_count": 37,
   "id": "d8916cb0",
   "metadata": {},
   "outputs": [
    {
     "data": {
      "text/plain": [
       "<matplotlib.legend.Legend at 0x2804aadea30>"
      ]
     },
     "execution_count": 37,
     "metadata": {},
     "output_type": "execute_result"
    },
    {
     "data": {
      "image/png": "[encoded data removed]",
      "text/plain": [
       "<Figure size 1000x700 with 1 Axes>"
      ]
     },
     "metadata": {},
     "output_type": "display_data"
    }
   ],
   "source": [
    "plt.figure(figsize=(10,7))\n",
    "plt.scatter(X_train,y_train,c='blue',label='training data')\n",
    "plt.scatter(X_test,y_test,c='red',label='test data')\n",
    "plt.legend()"
   ]
  },
  {
   "cell_type": "code",
   "execution_count": 38,
   "id": "b2833ee9",
   "metadata": {},
   "outputs": [
    {
     "name": "stdout",
     "output_type": "stream",
     "text": [
      "Model: \"sequential_3\"\n",
      "_________________________________________________________________\n",
      " Layer (type)                Output Shape              Param #   \n",
      "=================================================================\n",
      " dense_4 (Dense)             (None, 100)               200       \n",
      "                                                                 \n",
      " dense_5 (Dense)             (None, 1)                 101       \n",
      "                                                                 \n",
      "=================================================================\n",
      "Total params: 301\n",
      "Trainable params: 301\n",
      "Non-trainable params: 0\n",
      "_________________________________________________________________\n"
     ]
    }
   ],
   "source": [
    "tf.random.set_seed(42)\n",
    "# step 1 - create a model\n",
    "model = tf.keras.Sequential([\n",
    "    tf.keras.layers.Dense(100,activation=\"relu\",input_shape=[1]),\n",
    "    tf.keras.layers.Dense(1)\n",
    "])\n",
    "\n",
    "#model = tf.keras.Sequential([\n",
    "#    tf.keras.layers.Dense(10,input_shape=[1],name='input_layer'),\n",
    "#    tf.keras.layers.Dense(1,name='output_layer')\n",
    "#],name='model_1')\n",
    "# step 2 - compile the model\n",
    "model.compile(loss = tf.keras.losses.mae,\n",
    "             optimizer = tf.keras.optimizers.Adam(learning_rate=0.01),\n",
    "             metrics=['mae'])\n",
    "\n",
    "model.summary()"
   ]
  },
  {
   "cell_type": "code",
   "execution_count": 39,
   "id": "d4ac75ff",
   "metadata": {},
   "outputs": [
    {
     "data": {
      "image/png": "[encoded data removed]",
      "text/plain": [
       "<IPython.core.display.Image object>"
      ]
     },
     "execution_count": 39,
     "metadata": {},
     "output_type": "execute_result"
    }
   ],
   "source": [
    "from tensorflow.keras.utils import plot_model\n",
    "plot_model(model=model,show_shapes=True)"
   ]
  },
  {
   "cell_type": "code",
   "execution_count": 40,
   "id": "23a396cd",
   "metadata": {},
   "outputs": [
    {
     "name": "stdout",
     "output_type": "stream",
     "text": [
      "Epoch 1/100\n",
      "2/2 [==============================] - 2s 0s/step - loss: 45.3518 - mae: 45.3518\n",
      "Epoch 2/100\n",
      "2/2 [==============================] - 0s 13ms/step - loss: 34.9446 - mae: 34.9446\n",
      "Epoch 3/100\n",
      "2/2 [==============================] - 0s 14ms/step - loss: 25.0267 - mae: 25.0267\n",
      "Epoch 4/100\n",
      "2/2 [==============================] - 0s 11ms/step - loss: 15.3081 - mae: 15.3081\n",
      "Epoch 5/100\n",
      "2/2 [==============================] - 0s 17ms/step - loss: 8.6501 - mae: 8.6501\n",
      "Epoch 6/100\n",
      "2/2 [==============================] - 0s 13ms/step - loss: 11.4576 - mae: 11.4576\n",
      "Epoch 7/100\n",
      "2/2 [==============================] - 0s 12ms/step - loss: 10.7231 - mae: 10.7231\n",
      "Epoch 8/100\n",
      "2/2 [==============================] - 0s 12ms/step - loss: 9.5931 - mae: 9.5931\n",
      "Epoch 9/100\n",
      "2/2 [==============================] - 0s 12ms/step - loss: 7.1473 - mae: 7.1473\n",
      "Epoch 10/100\n",
      "2/2 [==============================] - 0s 15ms/step - loss: 7.4435 - mae: 7.4435\n",
      "Epoch 11/100\n",
      "2/2 [==============================] - 0s 13ms/step - loss: 8.4909 - mae: 8.4909\n",
      "Epoch 12/100\n",
      "2/2 [==============================] - 0s 11ms/step - loss: 7.7145 - mae: 7.7145\n",
      "Epoch 13/100\n",
      "2/2 [==============================] - 0s 20ms/step - loss: 6.2006 - mae: 6.2006\n",
      "Epoch 14/100\n",
      "2/2 [==============================] - 0s 15ms/step - loss: 5.1489 - mae: 5.1489\n",
      "Epoch 15/100\n",
      "2/2 [==============================] - 0s 13ms/step - loss: 4.8378 - mae: 4.8378\n",
      "Epoch 16/100\n",
      "2/2 [==============================] - 0s 12ms/step - loss: 6.2310 - mae: 6.2310\n",
      "Epoch 17/100\n",
      "2/2 [==============================] - 0s 13ms/step - loss: 5.8847 - mae: 5.8847\n",
      "Epoch 18/100\n",
      "2/2 [==============================] - 0s 15ms/step - loss: 4.3256 - mae: 4.3256\n",
      "Epoch 19/100\n",
      "2/2 [==============================] - 0s 12ms/step - loss: 4.1436 - mae: 4.1436\n",
      "Epoch 20/100\n",
      "2/2 [==============================] - 0s 12ms/step - loss: 4.7345 - mae: 4.7345\n",
      "Epoch 21/100\n",
      "2/2 [==============================] - 0s 14ms/step - loss: 4.8016 - mae: 4.8016\n",
      "Epoch 22/100\n",
      "2/2 [==============================] - 0s 10ms/step - loss: 4.4863 - mae: 4.4863\n",
      "Epoch 23/100\n",
      "2/2 [==============================] - 0s 14ms/step - loss: 3.9503 - mae: 3.9503\n",
      "Epoch 24/100\n",
      "2/2 [==============================] - 0s 10ms/step - loss: 3.9258 - mae: 3.9258\n",
      "Epoch 25/100\n",
      "2/2 [==============================] - 0s 12ms/step - loss: 4.0357 - mae: 4.0357\n",
      "Epoch 26/100\n",
      "2/2 [==============================] - 0s 11ms/step - loss: 3.7584 - mae: 3.7584\n",
      "Epoch 27/100\n",
      "2/2 [==============================] - 0s 12ms/step - loss: 3.8008 - mae: 3.8008\n",
      "Epoch 28/100\n",
      "2/2 [==============================] - 0s 14ms/step - loss: 3.7942 - mae: 3.7942\n",
      "Epoch 29/100\n",
      "2/2 [==============================] - 0s 10ms/step - loss: 3.6670 - mae: 3.6670\n",
      "Epoch 30/100\n",
      "2/2 [==============================] - 0s 13ms/step - loss: 3.6122 - mae: 3.6122\n",
      "Epoch 31/100\n",
      "2/2 [==============================] - 0s 15ms/step - loss: 3.6729 - mae: 3.6729\n",
      "Epoch 32/100\n",
      "2/2 [==============================] - 0s 13ms/step - loss: 3.5505 - mae: 3.5505\n",
      "Epoch 33/100\n",
      "2/2 [==============================] - 0s 11ms/step - loss: 3.5134 - mae: 3.5134\n",
      "Epoch 34/100\n",
      "2/2 [==============================] - 0s 11ms/step - loss: 3.5611 - mae: 3.5611\n",
      "Epoch 35/100\n",
      "2/2 [==============================] - 0s 14ms/step - loss: 3.5615 - mae: 3.5615\n",
      "Epoch 36/100\n",
      "2/2 [==============================] - 0s 13ms/step - loss: 3.5349 - mae: 3.5349\n",
      "Epoch 37/100\n",
      "2/2 [==============================] - 0s 12ms/step - loss: 3.3994 - mae: 3.3994\n",
      "Epoch 38/100\n",
      "2/2 [==============================] - 0s 13ms/step - loss: 3.3133 - mae: 3.3133\n",
      "Epoch 39/100\n",
      "2/2 [==============================] - 0s 11ms/step - loss: 3.4707 - mae: 3.4707\n",
      "Epoch 40/100\n",
      "2/2 [==============================] - 0s 14ms/step - loss: 3.2982 - mae: 3.2982\n",
      "Epoch 41/100\n",
      "2/2 [==============================] - 0s 11ms/step - loss: 3.3083 - mae: 3.3083\n",
      "Epoch 42/100\n",
      "2/2 [==============================] - 0s 11ms/step - loss: 3.2586 - mae: 3.2586\n",
      "Epoch 43/100\n",
      "2/2 [==============================] - 0s 14ms/step - loss: 3.1108 - mae: 3.1108\n",
      "Epoch 44/100\n",
      "2/2 [==============================] - 0s 11ms/step - loss: 3.1051 - mae: 3.1051\n",
      "Epoch 45/100\n",
      "2/2 [==============================] - 0s 14ms/step - loss: 3.0477 - mae: 3.0477\n",
      "Epoch 46/100\n",
      "2/2 [==============================] - 0s 12ms/step - loss: 3.0588 - mae: 3.0588\n",
      "Epoch 47/100\n",
      "2/2 [==============================] - 0s 11ms/step - loss: 3.1038 - mae: 3.1038\n",
      "Epoch 48/100\n",
      "2/2 [==============================] - 0s 12ms/step - loss: 3.0137 - mae: 3.0137\n",
      "Epoch 49/100\n",
      "2/2 [==============================] - 0s 11ms/step - loss: 2.8611 - mae: 2.8611\n",
      "Epoch 50/100\n",
      "2/2 [==============================] - 0s 14ms/step - loss: 2.9474 - mae: 2.9474\n",
      "Epoch 51/100\n",
      "2/2 [==============================] - 0s 13ms/step - loss: 2.8504 - mae: 2.8504\n",
      "Epoch 52/100\n",
      "2/2 [==============================] - 0s 12ms/step - loss: 2.9618 - mae: 2.9618\n",
      "Epoch 53/100\n",
      "2/2 [==============================] - 0s 11ms/step - loss: 2.8186 - mae: 2.8186\n",
      "Epoch 54/100\n",
      "2/2 [==============================] - 0s 11ms/step - loss: 2.7482 - mae: 2.7482\n",
      "Epoch 55/100\n",
      "2/2 [==============================] - 0s 12ms/step - loss: 2.6659 - mae: 2.6659\n",
      "Epoch 56/100\n",
      "2/2 [==============================] - 0s 13ms/step - loss: 2.6164 - mae: 2.6164\n",
      "Epoch 57/100\n",
      "2/2 [==============================] - 0s 16ms/step - loss: 2.4709 - mae: 2.4709\n",
      "Epoch 58/100\n",
      "2/2 [==============================] - 0s 10ms/step - loss: 2.4999 - mae: 2.4999\n",
      "Epoch 59/100\n",
      "2/2 [==============================] - 0s 11ms/step - loss: 2.7661 - mae: 2.7661\n",
      "Epoch 60/100\n",
      "2/2 [==============================] - 0s 12ms/step - loss: 2.4728 - mae: 2.4728\n",
      "Epoch 61/100\n",
      "2/2 [==============================] - 0s 11ms/step - loss: 2.4311 - mae: 2.4311\n",
      "Epoch 62/100\n",
      "2/2 [==============================] - 0s 13ms/step - loss: 2.3452 - mae: 2.3452\n",
      "Epoch 63/100\n",
      "2/2 [==============================] - 0s 11ms/step - loss: 2.2813 - mae: 2.2813\n",
      "Epoch 64/100\n",
      "2/2 [==============================] - 0s 11ms/step - loss: 2.2370 - mae: 2.2370\n",
      "Epoch 65/100\n",
      "2/2 [==============================] - 0s 13ms/step - loss: 2.6697 - mae: 2.6697\n",
      "Epoch 66/100\n",
      "2/2 [==============================] - 0s 14ms/step - loss: 2.1303 - mae: 2.1303\n",
      "Epoch 67/100\n",
      "2/2 [==============================] - 0s 11ms/step - loss: 2.1522 - mae: 2.1522\n",
      "Epoch 68/100\n",
      "2/2 [==============================] - 0s 11ms/step - loss: 2.0649 - mae: 2.0649\n",
      "Epoch 69/100\n",
      "2/2 [==============================] - 0s 10ms/step - loss: 2.0367 - mae: 2.0367\n",
      "Epoch 70/100\n",
      "2/2 [==============================] - 0s 13ms/step - loss: 1.5992 - mae: 1.5992\n",
      "Epoch 71/100\n",
      "2/2 [==============================] - 0s 11ms/step - loss: 1.8771 - mae: 1.8771\n",
      "Epoch 72/100\n",
      "2/2 [==============================] - 0s 12ms/step - loss: 1.3823 - mae: 1.3823\n",
      "Epoch 73/100\n",
      "2/2 [==============================] - 0s 12ms/step - loss: 1.4059 - mae: 1.4059\n",
      "Epoch 74/100\n",
      "2/2 [==============================] - 0s 11ms/step - loss: 1.2227 - mae: 1.2227\n",
      "Epoch 75/100\n",
      "2/2 [==============================] - 0s 10ms/step - loss: 1.1843 - mae: 1.1843\n",
      "Epoch 76/100\n",
      "2/2 [==============================] - 0s 11ms/step - loss: 1.3073 - mae: 1.3073\n",
      "Epoch 77/100\n",
      "2/2 [==============================] - 0s 14ms/step - loss: 1.2205 - mae: 1.2205\n",
      "Epoch 78/100\n",
      "2/2 [==============================] - 0s 12ms/step - loss: 1.4643 - mae: 1.4643\n",
      "Epoch 79/100\n",
      "2/2 [==============================] - 0s 12ms/step - loss: 1.8905 - mae: 1.8905\n",
      "Epoch 80/100\n",
      "2/2 [==============================] - 0s 11ms/step - loss: 2.2305 - mae: 2.2305\n",
      "Epoch 81/100\n",
      "2/2 [==============================] - 0s 12ms/step - loss: 0.8023 - mae: 0.8023\n",
      "Epoch 82/100\n",
      "2/2 [==============================] - 0s 12ms/step - loss: 2.8487 - mae: 2.8487\n",
      "Epoch 83/100\n",
      "2/2 [==============================] - 0s 12ms/step - loss: 2.1708 - mae: 2.1708\n",
      "Epoch 84/100\n",
      "2/2 [==============================] - 0s 11ms/step - loss: 1.4037 - mae: 1.4037\n",
      "Epoch 85/100\n",
      "2/2 [==============================] - 0s 12ms/step - loss: 1.8281 - mae: 1.8281\n",
      "Epoch 86/100\n",
      "2/2 [==============================] - 0s 11ms/step - loss: 0.9565 - mae: 0.9565\n",
      "Epoch 87/100\n",
      "2/2 [==============================] - 0s 11ms/step - loss: 1.4927 - mae: 1.4927\n",
      "Epoch 88/100\n"
     ]
    },
    {
     "name": "stdout",
     "output_type": "stream",
     "text": [
      "2/2 [==============================] - 0s 11ms/step - loss: 1.2198 - mae: 1.2198\n",
      "Epoch 89/100\n",
      "2/2 [==============================] - 0s 14ms/step - loss: 1.2111 - mae: 1.2111\n",
      "Epoch 90/100\n",
      "2/2 [==============================] - 0s 11ms/step - loss: 0.6711 - mae: 0.6711\n",
      "Epoch 91/100\n",
      "2/2 [==============================] - 0s 10ms/step - loss: 0.9196 - mae: 0.9196\n",
      "Epoch 92/100\n",
      "2/2 [==============================] - 0s 12ms/step - loss: 1.0290 - mae: 1.0290\n",
      "Epoch 93/100\n",
      "2/2 [==============================] - 0s 13ms/step - loss: 0.5942 - mae: 0.5942\n",
      "Epoch 94/100\n",
      "2/2 [==============================] - 0s 13ms/step - loss: 1.1425 - mae: 1.1425\n",
      "Epoch 95/100\n",
      "2/2 [==============================] - 0s 11ms/step - loss: 0.6006 - mae: 0.6006\n",
      "Epoch 96/100\n",
      "2/2 [==============================] - 0s 13ms/step - loss: 1.4302 - mae: 1.4302\n",
      "Epoch 97/100\n",
      "2/2 [==============================] - 0s 11ms/step - loss: 0.6330 - mae: 0.6330\n",
      "Epoch 98/100\n",
      "2/2 [==============================] - 0s 13ms/step - loss: 1.2009 - mae: 1.2009\n",
      "Epoch 99/100\n",
      "2/2 [==============================] - 0s 12ms/step - loss: 0.7829 - mae: 0.7829\n",
      "Epoch 100/100\n",
      "2/2 [==============================] - 0s 12ms/step - loss: 1.1383 - mae: 1.1383\n"
     ]
    },
    {
     "data": {
      "text/plain": [
       "<keras.callbacks.History at 0x2804754b760>"
      ]
     },
     "execution_count": 40,
     "metadata": {},
     "output_type": "execute_result"
    }
   ],
   "source": [
    "# step 3 - fit the model\n",
    "model.fit(tf.reshape(X_train,shape=(-1,1)),tf.reshape(y_train,shape=(-1,1)),epochs=100,verbose=1)"
   ]
  },
  {
   "cell_type": "code",
   "execution_count": 41,
   "id": "afce1efd",
   "metadata": {},
   "outputs": [
    {
     "data": {
      "text/plain": [
       "TensorShape([50, 1])"
      ]
     },
     "execution_count": 41,
     "metadata": {},
     "output_type": "execute_result"
    }
   ],
   "source": [
    "tf.reshape(X,shape=(-1,1)).shape"
   ]
  },
  {
   "cell_type": "code",
   "execution_count": 42,
   "id": "951dc84e",
   "metadata": {},
   "outputs": [
    {
     "name": "stdout",
     "output_type": "stream",
     "text": [
      "Model: \"sequential_3\"\n",
      "_________________________________________________________________\n",
      " Layer (type)                Output Shape              Param #   \n",
      "=================================================================\n",
      " dense_4 (Dense)             (None, 100)               200       \n",
      "                                                                 \n",
      " dense_5 (Dense)             (None, 1)                 101       \n",
      "                                                                 \n",
      "=================================================================\n",
      "Total params: 301\n",
      "Trainable params: 301\n",
      "Non-trainable params: 0\n",
      "_________________________________________________________________\n"
     ]
    }
   ],
   "source": [
    "model.summary()"
   ]
  },
  {
   "cell_type": "markdown",
   "id": "92c9faa7",
   "metadata": {},
   "source": [
    "# Visualize model prediction"
   ]
  },
  {
   "cell_type": "code",
   "execution_count": 43,
   "id": "ba242942",
   "metadata": {},
   "outputs": [
    {
     "name": "stdout",
     "output_type": "stream",
     "text": [
      "1/1 [==============================] - 0s 172ms/step\n"
     ]
    },
    {
     "data": {
      "text/plain": [
       "array([[ 70.17465 ],\n",
       "       [ 74.17793 ],\n",
       "       [ 78.18122 ],\n",
       "       [ 82.184494],\n",
       "       [ 86.18779 ],\n",
       "       [ 90.19109 ],\n",
       "       [ 94.19439 ],\n",
       "       [ 98.19769 ],\n",
       "       [102.201   ],\n",
       "       [106.2043  ]], dtype=float32)"
      ]
     },
     "execution_count": 43,
     "metadata": {},
     "output_type": "execute_result"
    }
   ],
   "source": [
    "y_pred = model.predict(X_test)\n",
    "y_pred"
   ]
  },
  {
   "cell_type": "code",
   "execution_count": 44,
   "id": "96a31430",
   "metadata": {},
   "outputs": [
    {
     "data": {
      "text/plain": [
       "<tf.Tensor: shape=(10,), dtype=int32, numpy=array([ 70,  74,  78,  82,  86,  90,  94,  98, 102, 106])>"
      ]
     },
     "execution_count": 44,
     "metadata": {},
     "output_type": "execute_result"
    }
   ],
   "source": [
    "y_test"
   ]
  },
  {
   "cell_type": "code",
   "execution_count": 45,
   "id": "14a6c924",
   "metadata": {},
   "outputs": [],
   "source": [
    "# plotting function\n",
    "def plot_prediction(train_data=X_train,\n",
    "                    train_labels=y_train,\n",
    "                   test_data=X_test,\n",
    "                   test_labels=y_test,\n",
    "                   predictions=y_pred):\n",
    "    \"\"\"\n",
    "    Plora training data, test data and compares predictions\n",
    "    \"\"\"\n",
    "    plt.figure(figsize=(10,7))\n",
    "    plt.scatter(train_data,train_labels,c='b',label='training data')\n",
    "    plt.scatter(test_data,test_labels,c='g',label='test data')\n",
    "    plt.scatter(test_data,predictions,c='r',label='Predictions')\n",
    "    #plt.ylim([50,110])\n",
    "    #plt.xlim([50,100])\n",
    "    plt.legend()"
   ]
  },
  {
   "cell_type": "code",
   "execution_count": 46,
   "id": "76e3c593",
   "metadata": {},
   "outputs": [
    {
     "data": {
      "image/png": "[encoded data removed]",
      "text/plain": [
       "<Figure size 1000x700 with 1 Axes>"
      ]
     },
     "metadata": {},
     "output_type": "display_data"
    }
   ],
   "source": [
    "plot_prediction()"
   ]
  },
  {
   "cell_type": "markdown",
   "id": "18f01681",
   "metadata": {},
   "source": [
    "# Evaluating out models predictions with regression evaluation metrics\n",
    "\n",
    "* MAE\n",
    "* MSE"
   ]
  },
  {
   "cell_type": "code",
   "execution_count": 47,
   "id": "5dc8c36d",
   "metadata": {},
   "outputs": [
    {
     "name": "stdout",
     "output_type": "stream",
     "text": [
      "1/1 [==============================] - 1s 516ms/step - loss: 0.1895 - mae: 0.1895\n"
     ]
    },
    {
     "data": {
      "text/plain": [
       "[0.18945617973804474, 0.18945617973804474]"
      ]
     },
     "execution_count": 47,
     "metadata": {},
     "output_type": "execute_result"
    }
   ],
   "source": [
    "# evaluate on test set\n",
    "model.evaluate(X_test,y_test)"
   ]
  },
  {
   "cell_type": "code",
   "execution_count": 48,
   "id": "a19fc9f5",
   "metadata": {},
   "outputs": [
    {
     "data": {
      "text/plain": [
       "<tf.Tensor: shape=(10,), dtype=float32, numpy=\n",
       "array([17.86028  , 14.69324  , 12.327512 , 10.763102 , 10.       ,\n",
       "       10.0382185, 10.877756 , 12.518616 , 14.960797 , 18.2043   ],\n",
       "      dtype=float32)>"
      ]
     },
     "execution_count": 48,
     "metadata": {},
     "output_type": "execute_result"
    }
   ],
   "source": [
    "# calculate mean absolute error.\n",
    "tf.keras.losses.MAE(y_test,y_pred)"
   ]
  },
  {
   "cell_type": "code",
   "execution_count": 49,
   "id": "a6085d91",
   "metadata": {},
   "outputs": [
    {
     "data": {
      "text/plain": [
       "<tf.Tensor: shape=(10,), dtype=float32, numpy=\n",
       "array([17.86028  , 14.69324  , 12.327512 , 10.763102 , 10.       ,\n",
       "       10.0382185, 10.877756 , 12.518616 , 14.960797 , 18.2043   ],\n",
       "      dtype=float32)>"
      ]
     },
     "execution_count": 49,
     "metadata": {},
     "output_type": "execute_result"
    }
   ],
   "source": [
    "mae = tf.metrics.mean_absolute_error(y_test,tf.constant(y_pred))\n",
    "mae"
   ]
  },
  {
   "cell_type": "code",
   "execution_count": 50,
   "id": "6490813b",
   "metadata": {},
   "outputs": [
    {
     "data": {
      "text/plain": [
       "<tf.Tensor: shape=(10, 1), dtype=float32, numpy=\n",
       "array([[ 70.17465 ],\n",
       "       [ 74.17793 ],\n",
       "       [ 78.18122 ],\n",
       "       [ 82.184494],\n",
       "       [ 86.18779 ],\n",
       "       [ 90.19109 ],\n",
       "       [ 94.19439 ],\n",
       "       [ 98.19769 ],\n",
       "       [102.201   ],\n",
       "       [106.2043  ]], dtype=float32)>"
      ]
     },
     "execution_count": 50,
     "metadata": {},
     "output_type": "execute_result"
    }
   ],
   "source": [
    "tf.constant(y_pred)"
   ]
  },
  {
   "cell_type": "code",
   "execution_count": 51,
   "id": "8b7875a2",
   "metadata": {},
   "outputs": [
    {
     "data": {
      "text/plain": [
       "<tf.Tensor: shape=(10,), dtype=int32, numpy=array([ 70,  74,  78,  82,  86,  90,  94,  98, 102, 106])>"
      ]
     },
     "execution_count": 51,
     "metadata": {},
     "output_type": "execute_result"
    }
   ],
   "source": [
    "y_test"
   ]
  },
  {
   "cell_type": "code",
   "execution_count": 52,
   "id": "b920bd15",
   "metadata": {},
   "outputs": [
    {
     "data": {
      "text/plain": [
       "<tf.Tensor: shape=(10,), dtype=float32, numpy=\n",
       "array([ 70.17465 ,  74.17793 ,  78.18122 ,  82.184494,  86.18779 ,\n",
       "        90.19109 ,  94.19439 ,  98.19769 , 102.201   , 106.2043  ],\n",
       "      dtype=float32)>"
      ]
     },
     "execution_count": 52,
     "metadata": {},
     "output_type": "execute_result"
    }
   ],
   "source": [
    "tf.squeeze(y_pred)"
   ]
  },
  {
   "cell_type": "code",
   "execution_count": 53,
   "id": "89c8902f",
   "metadata": {},
   "outputs": [
    {
     "data": {
      "text/plain": [
       "<tf.Tensor: shape=(), dtype=float32, numpy=0.18945618>"
      ]
     },
     "execution_count": 53,
     "metadata": {},
     "output_type": "execute_result"
    }
   ],
   "source": [
    "mae = tf.metrics.mean_absolute_error(y_test,tf.squeeze(y_pred))\n",
    "mae"
   ]
  },
  {
   "cell_type": "code",
   "execution_count": 54,
   "id": "d9ee2b39",
   "metadata": {},
   "outputs": [
    {
     "data": {
      "text/plain": [
       "<tf.Tensor: shape=(), dtype=float32, numpy=0.18945618>"
      ]
     },
     "execution_count": 54,
     "metadata": {},
     "output_type": "execute_result"
    }
   ],
   "source": [
    "mae = tf.keras.losses.mae(y_test,tf.squeeze(y_pred))\n",
    "mae"
   ]
  },
  {
   "cell_type": "code",
   "execution_count": 55,
   "id": "7e935c26",
   "metadata": {},
   "outputs": [
    {
     "data": {
      "text/plain": [
       "<tf.Tensor: shape=(), dtype=float32, numpy=0.035983197>"
      ]
     },
     "execution_count": 55,
     "metadata": {},
     "output_type": "execute_result"
    }
   ],
   "source": [
    "mse = tf.metrics.mean_squared_error(y_test,tf.squeeze(y_pred))\n",
    "mse"
   ]
  },
  {
   "cell_type": "code",
   "execution_count": 56,
   "id": "b0516302",
   "metadata": {},
   "outputs": [
    {
     "data": {
      "text/plain": [
       "<tf.Tensor: shape=(), dtype=float32, numpy=0.035983197>"
      ]
     },
     "execution_count": 56,
     "metadata": {},
     "output_type": "execute_result"
    }
   ],
   "source": [
    "mse = tf.keras.losses.mse(y_test,tf.squeeze(y_pred))\n",
    "mse"
   ]
  },
  {
   "cell_type": "markdown",
   "id": "a56631dc",
   "metadata": {},
   "source": [
    "# Running experiments to improve our model"
   ]
  },
  {
   "cell_type": "code",
   "execution_count": 57,
   "id": "703f9d4b",
   "metadata": {},
   "outputs": [
    {
     "data": {
      "text/plain": [
       "(<tf.Tensor: shape=(40,), dtype=int32, numpy=\n",
       " array([-100,  -96,  -92,  -88,  -84,  -80,  -76,  -72,  -68,  -64,  -60,\n",
       "         -56,  -52,  -48,  -44,  -40,  -36,  -32,  -28,  -24,  -20,  -16,\n",
       "         -12,   -8,   -4,    0,    4,    8,   12,   16,   20,   24,   28,\n",
       "          32,   36,   40,   44,   48,   52,   56])>,\n",
       " <tf.Tensor: shape=(40,), dtype=int32, numpy=\n",
       " array([-90, -86, -82, -78, -74, -70, -66, -62, -58, -54, -50, -46, -42,\n",
       "        -38, -34, -30, -26, -22, -18, -14, -10,  -6,  -2,   2,   6,  10,\n",
       "         14,  18,  22,  26,  30,  34,  38,  42,  46,  50,  54,  58,  62,\n",
       "         66])>)"
      ]
     },
     "execution_count": 57,
     "metadata": {},
     "output_type": "execute_result"
    }
   ],
   "source": [
    "X_train, y_train"
   ]
  },
  {
   "cell_type": "markdown",
   "id": "92116b65",
   "metadata": {},
   "source": [
    "# Modelling experiments\n",
    " * model_1 - 1 layers train for 100 epochs\n",
    " * model_2 - 2 layers train for 100 epochs\n",
    " * model_3 - 2 layers train for 500 epochs"
   ]
  },
  {
   "cell_type": "markdown",
   "id": "665a57c7",
   "metadata": {},
   "source": [
    "## Experiment 1 - 1 Layer train for 100 epochs"
   ]
  },
  {
   "cell_type": "code",
   "execution_count": 58,
   "id": "7d24bc5c",
   "metadata": {},
   "outputs": [
    {
     "name": "stdout",
     "output_type": "stream",
     "text": [
      "Model: \"model_1\"\n",
      "_________________________________________________________________\n",
      " Layer (type)                Output Shape              Param #   \n",
      "=================================================================\n",
      " Output_Layer (Dense)        (40, 1)                   2         \n",
      "                                                                 \n",
      "=================================================================\n",
      "Total params: 2\n",
      "Trainable params: 2\n",
      "Non-trainable params: 0\n",
      "_________________________________________________________________\n",
      "Epoch 1/100\n",
      "2/2 [==============================] - 1s 16ms/step - loss: 76.3286 - mae: 76.3286\n",
      "Epoch 2/100\n",
      "2/2 [==============================] - 0s 12ms/step - loss: 40.9832 - mae: 40.9832\n",
      "Epoch 3/100\n",
      "2/2 [==============================] - 0s 8ms/step - loss: 9.3662 - mae: 9.3662\n",
      "Epoch 4/100\n",
      "2/2 [==============================] - 0s 12ms/step - loss: 8.3849 - mae: 8.3849\n",
      "Epoch 5/100\n",
      "2/2 [==============================] - 0s 13ms/step - loss: 11.9116 - mae: 11.9116\n",
      "Epoch 6/100\n",
      "2/2 [==============================] - 0s 14ms/step - loss: 11.0392 - mae: 11.0392\n",
      "Epoch 7/100\n",
      "2/2 [==============================] - 0s 9ms/step - loss: 8.4536 - mae: 8.4536\n",
      "Epoch 8/100\n",
      "2/2 [==============================] - 0s 8ms/step - loss: 8.8813 - mae: 8.8813\n",
      "Epoch 9/100\n",
      "2/2 [==============================] - 0s 9ms/step - loss: 17.0273 - mae: 17.0273\n",
      "Epoch 10/100\n",
      "2/2 [==============================] - 0s 9ms/step - loss: 12.5368 - mae: 12.5368\n",
      "Epoch 11/100\n",
      "2/2 [==============================] - 0s 9ms/step - loss: 10.2642 - mae: 10.2642\n",
      "Epoch 12/100\n",
      "2/2 [==============================] - 0s 10ms/step - loss: 18.6785 - mae: 18.6785\n",
      "Epoch 13/100\n",
      "2/2 [==============================] - 0s 7ms/step - loss: 9.7322 - mae: 9.7322\n",
      "Epoch 14/100\n",
      "2/2 [==============================] - 0s 12ms/step - loss: 15.6032 - mae: 15.6032\n",
      "Epoch 15/100\n",
      "2/2 [==============================] - 0s 8ms/step - loss: 11.3307 - mae: 11.3307\n",
      "Epoch 16/100\n",
      "2/2 [==============================] - 0s 11ms/step - loss: 8.5871 - mae: 8.5871\n",
      "Epoch 17/100\n",
      "2/2 [==============================] - 0s 12ms/step - loss: 13.7218 - mae: 13.7218\n",
      "Epoch 18/100\n",
      "2/2 [==============================] - 0s 12ms/step - loss: 11.5661 - mae: 11.5661\n",
      "Epoch 19/100\n",
      "2/2 [==============================] - 0s 13ms/step - loss: 17.8323 - mae: 17.8323\n",
      "Epoch 20/100\n",
      "2/2 [==============================] - 0s 11ms/step - loss: 14.9676 - mae: 14.9676\n",
      "Epoch 21/100\n",
      "2/2 [==============================] - 0s 11ms/step - loss: 10.8548 - mae: 10.8548\n",
      "Epoch 22/100\n",
      "2/2 [==============================] - 0s 10ms/step - loss: 8.6054 - mae: 8.6054\n",
      "Epoch 23/100\n",
      "2/2 [==============================] - 0s 11ms/step - loss: 9.7391 - mae: 9.7391\n",
      "Epoch 24/100\n",
      "2/2 [==============================] - 0s 12ms/step - loss: 10.9643 - mae: 10.9643\n",
      "Epoch 25/100\n",
      "2/2 [==============================] - 0s 8ms/step - loss: 9.1771 - mae: 9.1771\n",
      "Epoch 26/100\n",
      "2/2 [==============================] - 0s 12ms/step - loss: 13.2007 - mae: 13.2007\n",
      "Epoch 27/100\n",
      "2/2 [==============================] - 0s 16ms/step - loss: 10.6777 - mae: 10.6777\n",
      "Epoch 28/100\n",
      "2/2 [==============================] - 0s 10ms/step - loss: 12.8938 - mae: 12.8938\n",
      "Epoch 29/100\n",
      "2/2 [==============================] - 0s 10ms/step - loss: 9.5278 - mae: 9.5278\n",
      "Epoch 30/100\n",
      "2/2 [==============================] - 0s 13ms/step - loss: 16.4084 - mae: 16.4084\n",
      "Epoch 31/100\n",
      "2/2 [==============================] - 0s 9ms/step - loss: 23.5970 - mae: 23.5970\n",
      "Epoch 32/100\n",
      "2/2 [==============================] - 0s 7ms/step - loss: 7.6321 - mae: 7.6321\n",
      "Epoch 33/100\n",
      "2/2 [==============================] - 0s 11ms/step - loss: 9.3294 - mae: 9.3294\n",
      "Epoch 34/100\n",
      "2/2 [==============================] - 0s 9ms/step - loss: 13.7082 - mae: 13.7082\n",
      "Epoch 35/100\n",
      "2/2 [==============================] - 0s 12ms/step - loss: 11.1676 - mae: 11.1676\n",
      "Epoch 36/100\n",
      "2/2 [==============================] - 0s 8ms/step - loss: 13.3796 - mae: 13.3796\n",
      "Epoch 37/100\n",
      "2/2 [==============================] - 0s 11ms/step - loss: 9.4774 - mae: 9.4774\n",
      "Epoch 38/100\n",
      "2/2 [==============================] - 0s 10ms/step - loss: 10.1327 - mae: 10.1327\n",
      "Epoch 39/100\n",
      "2/2 [==============================] - 0s 9ms/step - loss: 10.2196 - mae: 10.2196\n",
      "Epoch 40/100\n",
      "2/2 [==============================] - 0s 13ms/step - loss: 10.9600 - mae: 10.9600\n",
      "Epoch 41/100\n",
      "2/2 [==============================] - 0s 9ms/step - loss: 7.9486 - mae: 7.9486\n",
      "Epoch 42/100\n",
      "2/2 [==============================] - 0s 10ms/step - loss: 10.0894 - mae: 10.0894\n",
      "Epoch 43/100\n",
      "2/2 [==============================] - 0s 7ms/step - loss: 8.7109 - mae: 8.7109\n",
      "Epoch 44/100\n",
      "2/2 [==============================] - 0s 13ms/step - loss: 12.1812 - mae: 12.1812\n",
      "Epoch 45/100\n",
      "2/2 [==============================] - 0s 6ms/step - loss: 13.8491 - mae: 13.8491\n",
      "Epoch 46/100\n",
      "2/2 [==============================] - 0s 14ms/step - loss: 8.5127 - mae: 8.5127\n",
      "Epoch 47/100\n",
      "2/2 [==============================] - 0s 6ms/step - loss: 9.1335 - mae: 9.1335\n",
      "Epoch 48/100\n",
      "2/2 [==============================] - 0s 27ms/step - loss: 10.6116 - mae: 10.6116\n",
      "Epoch 49/100\n",
      "2/2 [==============================] - 0s 7ms/step - loss: 7.7522 - mae: 7.7522\n",
      "Epoch 50/100\n",
      "2/2 [==============================] - 0s 12ms/step - loss: 9.5347 - mae: 9.5347\n",
      "Epoch 51/100\n",
      "2/2 [==============================] - 0s 8ms/step - loss: 9.1712 - mae: 9.1712\n",
      "Epoch 52/100\n",
      "2/2 [==============================] - 0s 7ms/step - loss: 16.3166 - mae: 16.3166\n",
      "Epoch 53/100\n",
      "2/2 [==============================] - 0s 10ms/step - loss: 14.1664 - mae: 14.1664\n",
      "Epoch 54/100\n",
      "2/2 [==============================] - 0s 8ms/step - loss: 21.1922 - mae: 21.1922\n",
      "Epoch 55/100\n",
      "2/2 [==============================] - 0s 7ms/step - loss: 16.3583 - mae: 16.3583\n",
      "Epoch 56/100\n",
      "2/2 [==============================] - 0s 14ms/step - loss: 10.0317 - mae: 10.0317\n",
      "Epoch 57/100\n",
      "2/2 [==============================] - 0s 8ms/step - loss: 9.9573 - mae: 9.9573\n",
      "Epoch 58/100\n",
      "2/2 [==============================] - 0s 8ms/step - loss: 9.2212 - mae: 9.2212\n",
      "Epoch 59/100\n",
      "2/2 [==============================] - 0s 9ms/step - loss: 8.4218 - mae: 8.4218\n",
      "Epoch 60/100\n",
      "2/2 [==============================] - 0s 10ms/step - loss: 9.4911 - mae: 9.4911\n",
      "Epoch 61/100\n",
      "2/2 [==============================] - 0s 9ms/step - loss: 11.4236 - mae: 11.4236\n",
      "Epoch 62/100\n",
      "2/2 [==============================] - 0s 10ms/step - loss: 11.7404 - mae: 11.7404\n",
      "Epoch 63/100\n",
      "2/2 [==============================] - 0s 7ms/step - loss: 7.0923 - mae: 7.0923\n",
      "Epoch 64/100\n",
      "2/2 [==============================] - 0s 9ms/step - loss: 17.0178 - mae: 17.0178\n",
      "Epoch 65/100\n",
      "2/2 [==============================] - 0s 9ms/step - loss: 12.5032 - mae: 12.5032\n",
      "Epoch 66/100\n",
      "2/2 [==============================] - 0s 9ms/step - loss: 13.0699 - mae: 13.0699\n",
      "Epoch 67/100\n",
      "2/2 [==============================] - 0s 7ms/step - loss: 8.0924 - mae: 8.0924\n",
      "Epoch 68/100\n",
      "2/2 [==============================] - 0s 8ms/step - loss: 10.2282 - mae: 10.2282\n",
      "Epoch 69/100\n",
      "2/2 [==============================] - 0s 7ms/step - loss: 12.4178 - mae: 12.4178\n",
      "Epoch 70/100\n",
      "2/2 [==============================] - 0s 8ms/step - loss: 9.0526 - mae: 9.0526\n",
      "Epoch 71/100\n",
      "2/2 [==============================] - 0s 7ms/step - loss: 10.0362 - mae: 10.0362\n",
      "Epoch 72/100\n",
      "2/2 [==============================] - 0s 10ms/step - loss: 10.0547 - mae: 10.0547\n",
      "Epoch 73/100\n",
      "2/2 [==============================] - 0s 7ms/step - loss: 12.5976 - mae: 12.5976\n",
      "Epoch 74/100\n",
      "2/2 [==============================] - 0s 11ms/step - loss: 10.4367 - mae: 10.4367\n",
      "Epoch 75/100\n",
      "2/2 [==============================] - 0s 9ms/step - loss: 9.7230 - mae: 9.7230\n",
      "Epoch 76/100\n",
      "2/2 [==============================] - 0s 11ms/step - loss: 11.2191 - mae: 11.2191\n",
      "Epoch 77/100\n",
      "2/2 [==============================] - 0s 9ms/step - loss: 8.3648 - mae: 8.3648\n",
      "Epoch 78/100\n",
      "2/2 [==============================] - 0s 7ms/step - loss: 9.1156 - mae: 9.1156\n",
      "Epoch 79/100\n",
      "2/2 [==============================] - 0s 9ms/step - loss: 19.5693 - mae: 19.5693\n",
      "Epoch 80/100\n",
      "2/2 [==============================] - 0s 8ms/step - loss: 14.8622 - mae: 14.8622\n",
      "Epoch 81/100\n"
     ]
    },
    {
     "name": "stdout",
     "output_type": "stream",
     "text": [
      "2/2 [==============================] - 0s 6ms/step - loss: 9.0633 - mae: 9.0633\n",
      "Epoch 82/100\n",
      "2/2 [==============================] - 0s 8ms/step - loss: 12.9974 - mae: 12.9974\n",
      "Epoch 83/100\n",
      "2/2 [==============================] - 0s 8ms/step - loss: 7.9242 - mae: 7.9242\n",
      "Epoch 84/100\n",
      "2/2 [==============================] - 0s 7ms/step - loss: 7.7170 - mae: 7.7170\n",
      "Epoch 85/100\n",
      "2/2 [==============================] - 0s 10ms/step - loss: 10.0757 - mae: 10.0757\n",
      "Epoch 86/100\n",
      "2/2 [==============================] - 0s 8ms/step - loss: 9.2776 - mae: 9.2776\n",
      "Epoch 87/100\n",
      "2/2 [==============================] - 0s 9ms/step - loss: 12.0653 - mae: 12.0653\n",
      "Epoch 88/100\n",
      "2/2 [==============================] - 0s 8ms/step - loss: 10.6866 - mae: 10.6866\n",
      "Epoch 89/100\n",
      "2/2 [==============================] - 0s 9ms/step - loss: 7.2885 - mae: 7.2885\n",
      "Epoch 90/100\n",
      "2/2 [==============================] - 0s 9ms/step - loss: 12.8298 - mae: 12.8298\n",
      "Epoch 91/100\n",
      "2/2 [==============================] - 0s 9ms/step - loss: 7.5040 - mae: 7.5040\n",
      "Epoch 92/100\n",
      "2/2 [==============================] - 0s 9ms/step - loss: 6.7708 - mae: 6.7708\n",
      "Epoch 93/100\n",
      "2/2 [==============================] - 0s 9ms/step - loss: 11.9796 - mae: 11.9796\n",
      "Epoch 94/100\n",
      "2/2 [==============================] - 0s 8ms/step - loss: 8.9096 - mae: 8.9096\n",
      "Epoch 95/100\n",
      "2/2 [==============================] - 0s 9ms/step - loss: 7.7472 - mae: 7.7472\n",
      "Epoch 96/100\n",
      "2/2 [==============================] - 0s 8ms/step - loss: 6.7717 - mae: 6.7717\n",
      "Epoch 97/100\n",
      "2/2 [==============================] - 0s 9ms/step - loss: 8.6636 - mae: 8.6636\n",
      "Epoch 98/100\n",
      "2/2 [==============================] - 0s 8ms/step - loss: 9.4047 - mae: 9.4047\n",
      "Epoch 99/100\n",
      "2/2 [==============================] - 0s 12ms/step - loss: 9.1415 - mae: 9.1415\n",
      "Epoch 100/100\n",
      "2/2 [==============================] - 0s 10ms/step - loss: 10.4953 - mae: 10.4953\n"
     ]
    },
    {
     "data": {
      "text/plain": [
       "<keras.callbacks.History at 0x2804b2121f0>"
      ]
     },
     "execution_count": 58,
     "metadata": {},
     "output_type": "execute_result"
    }
   ],
   "source": [
    "tf.random.set_seed(42)\n",
    "X_train_model_1 = tf.reshape(X_train,shape=(-1,1))\n",
    "y_train_model_1 = tf.reshape(y_train,shape=(-1,1))\n",
    "X_test_model_1  = tf.reshape(X_test,shape=(-1,1))\n",
    "y_test_model_1  = tf.reshape(y_test,shape=(-1,1))\n",
    "# step 1 - create model\n",
    "model_1 = tf.keras.Sequential([\n",
    "    tf.keras.layers.Dense(units=1,name='Output_Layer')\n",
    "],name='model_1')\n",
    "# step 2 - compile the model\n",
    "model_1.compile(loss = tf.keras.losses.mae,\n",
    "             optimizer = tf.keras.optimizers.SGD(),\n",
    "             metrics = ['mae'])\n",
    "# step 2.1 - summary of the model.\n",
    "model_1.build(input_shape=X_train_model_1.shape)\n",
    "model_1.summary()\n",
    "# step 3 - fit the model\n",
    "model_1.fit(X_train_model_1,y_train_model_1,epochs=100)"
   ]
  },
  {
   "cell_type": "code",
   "execution_count": 59,
   "id": "17d85ec7",
   "metadata": {},
   "outputs": [
    {
     "name": "stdout",
     "output_type": "stream",
     "text": [
      "WARNING:tensorflow:5 out of the last 7 calls to <function Model.make_predict_function.<locals>.predict_function at 0x0000028048CC60D0> triggered tf.function retracing. Tracing is expensive and the excessive number of tracings could be due to (1) creating @tf.function repeatedly in a loop, (2) passing tensors with different shapes, (3) passing Python objects instead of tensors. For (1), please define your @tf.function outside of the loop. For (2), @tf.function has reduce_retracing=True option that can avoid unnecessary retracing. For (3), please refer to https://www.tensorflow.org/guide/function#controlling_retracing and https://www.tensorflow.org/api_docs/python/tf/function for  more details.\n",
      "1/1 [==============================] - 0s 169ms/step\n",
      "1/1 [==============================] - 0s 94ms/step\n"
     ]
    },
    {
     "data": {
      "text/plain": [
       "(array([[ 80.18285 ],\n",
       "        [ 84.18614 ],\n",
       "        [ 88.18944 ],\n",
       "        [ 92.19274 ],\n",
       "        [ 96.196045],\n",
       "        [100.19935 ],\n",
       "        [104.202644],\n",
       "        [108.20595 ],\n",
       "        [112.20924 ],\n",
       "        [116.212555]], dtype=float32),\n",
       " array([[ 80.18285 ],\n",
       "        [ 84.18614 ],\n",
       "        [ 88.18944 ],\n",
       "        [ 92.19274 ],\n",
       "        [ 96.196045],\n",
       "        [100.19935 ],\n",
       "        [104.202644],\n",
       "        [108.20595 ],\n",
       "        [112.20924 ],\n",
       "        [116.212555]], dtype=float32))"
      ]
     },
     "execution_count": 59,
     "metadata": {},
     "output_type": "execute_result"
    }
   ],
   "source": [
    "# make a plot prediction for model 1\n",
    "y_test_model_1 = tf.reshape(y_test,shape=(-1,1))\n",
    "y_pred_model_1 = model.predict(y_test_model_1)\n",
    "y_pred_2 = model.predict(y_test)\n",
    "y_pred_model_1,y_pred_2"
   ]
  },
  {
   "cell_type": "code",
   "execution_count": 60,
   "id": "987515d9",
   "metadata": {},
   "outputs": [
    {
     "data": {
      "image/png": "[encoded data removed]",
      "text/plain": [
       "<Figure size 1000x700 with 1 Axes>"
      ]
     },
     "metadata": {},
     "output_type": "display_data"
    }
   ],
   "source": [
    "plot_prediction(train_data=X_train_model_1,\n",
    "               train_labels=y_train_model_1,\n",
    "               test_data=X_test_model_1,\n",
    "               test_labels=y_test_model_1,\n",
    "               predictions=y_pred_model_1)"
   ]
  },
  {
   "cell_type": "code",
   "execution_count": 61,
   "id": "792c9fdd",
   "metadata": {},
   "outputs": [
    {
     "data": {
      "text/plain": [
       "(<tf.Tensor: shape=(), dtype=float32, numpy=10.197696>,\n",
       " <tf.Tensor: shape=(), dtype=float32, numpy=103.99309>)"
      ]
     },
     "execution_count": 61,
     "metadata": {},
     "output_type": "execute_result"
    }
   ],
   "source": [
    "mae_model_1 = tf.metrics.mean_absolute_error(tf.squeeze(y_test_model_1),tf.squeeze(tf.constant(y_pred_model_1)))\n",
    "mse_model_1 = tf.metrics.mean_squared_error(tf.squeeze(y_test_model_1),tf.squeeze(tf.constant(y_pred_model_1)))\n",
    "mae_model_1,mse_model_1"
   ]
  },
  {
   "cell_type": "markdown",
   "id": "9c363fa1",
   "metadata": {},
   "source": [
    "# Experiment model_2 - 2 layers train for 100 epochs"
   ]
  },
  {
   "cell_type": "code",
   "execution_count": 62,
   "id": "c6e73ba1",
   "metadata": {},
   "outputs": [
    {
     "name": "stdout",
     "output_type": "stream",
     "text": [
      "Model: \"model_2\"\n",
      "_________________________________________________________________\n",
      " Layer (type)                Output Shape              Param #   \n",
      "=================================================================\n",
      " model_2_hidden_1 (Dense)    (40, 10)                  20        \n",
      "                                                                 \n",
      " model_2_output (Dense)      (40, 1)                   11        \n",
      "                                                                 \n",
      "=================================================================\n",
      "Total params: 31\n",
      "Trainable params: 31\n",
      "Non-trainable params: 0\n",
      "_________________________________________________________________\n",
      "Epoch 1/93\n",
      "2/2 [==============================] - 1s 16ms/step - loss: 43.0567 - mse: 2811.8049\n",
      "Epoch 2/93\n",
      "2/2 [==============================] - 0s 12ms/step - loss: 24.5448 - mse: 955.6637\n",
      "Epoch 3/93\n",
      "2/2 [==============================] - 0s 12ms/step - loss: 14.4691 - mse: 278.3734\n",
      "Epoch 4/93\n",
      "2/2 [==============================] - 0s 12ms/step - loss: 19.3617 - mse: 533.4225\n",
      "Epoch 5/93\n",
      "2/2 [==============================] - 0s 12ms/step - loss: 13.1020 - mse: 210.2141\n",
      "Epoch 6/93\n",
      "2/2 [==============================] - 0s 9ms/step - loss: 10.5950 - mse: 123.6163\n",
      "Epoch 7/93\n",
      "2/2 [==============================] - 0s 13ms/step - loss: 11.5391 - mse: 162.0751\n",
      "Epoch 8/93\n",
      "2/2 [==============================] - 0s 14ms/step - loss: 11.1969 - mse: 178.0787\n",
      "Epoch 9/93\n",
      "2/2 [==============================] - 0s 14ms/step - loss: 41.7596 - mse: 2781.5615\n",
      "Epoch 10/93\n",
      "2/2 [==============================] - 0s 11ms/step - loss: 28.9843 - mse: 1187.6191\n",
      "Epoch 11/93\n",
      "2/2 [==============================] - 0s 13ms/step - loss: 8.5564 - mse: 96.5306\n",
      "Epoch 12/93\n",
      "2/2 [==============================] - 0s 13ms/step - loss: 27.3758 - mse: 1030.0725\n",
      "Epoch 13/93\n",
      "2/2 [==============================] - 0s 13ms/step - loss: 12.1352 - mse: 175.3377\n",
      "Epoch 14/93\n",
      "2/2 [==============================] - 0s 12ms/step - loss: 34.8756 - mse: 2000.3369\n",
      "Epoch 15/93\n",
      "2/2 [==============================] - 0s 14ms/step - loss: 22.7034 - mse: 732.4242\n",
      "Epoch 16/93\n",
      "2/2 [==============================] - 0s 15ms/step - loss: 9.9560 - mse: 125.2875\n",
      "Epoch 17/93\n",
      "2/2 [==============================] - 0s 13ms/step - loss: 17.9248 - mse: 426.7489\n",
      "Epoch 18/93\n",
      "2/2 [==============================] - 0s 13ms/step - loss: 14.3916 - mse: 328.9203\n",
      "Epoch 19/93\n",
      "2/2 [==============================] - 0s 11ms/step - loss: 14.5028 - mse: 331.2830\n",
      "Epoch 20/93\n",
      "2/2 [==============================] - 0s 13ms/step - loss: 10.4972 - mse: 148.6062\n",
      "Epoch 21/93\n",
      "2/2 [==============================] - 0s 13ms/step - loss: 15.2697 - mse: 316.5305\n",
      "Epoch 22/93\n",
      "2/2 [==============================] - 0s 14ms/step - loss: 15.6140 - mse: 336.1742\n",
      "Epoch 23/93\n",
      "2/2 [==============================] - 0s 12ms/step - loss: 9.2427 - mse: 118.9155\n",
      "Epoch 24/93\n",
      "2/2 [==============================] - 0s 13ms/step - loss: 17.2369 - mse: 406.7458\n",
      "Epoch 25/93\n",
      "2/2 [==============================] - 0s 14ms/step - loss: 15.9229 - mse: 332.8920\n",
      "Epoch 26/93\n",
      "2/2 [==============================] - 0s 15ms/step - loss: 20.8864 - mse: 647.2299\n",
      "Epoch 27/93\n",
      "2/2 [==============================] - 0s 10ms/step - loss: 26.0656 - mse: 1061.0966\n",
      "Epoch 28/93\n",
      "2/2 [==============================] - 0s 11ms/step - loss: 18.5505 - mse: 544.8816\n",
      "Epoch 29/93\n",
      "2/2 [==============================] - 0s 14ms/step - loss: 9.2557 - mse: 97.4631\n",
      "Epoch 30/93\n",
      "2/2 [==============================] - 0s 15ms/step - loss: 29.1624 - mse: 1521.8385\n",
      "Epoch 31/93\n",
      "2/2 [==============================] - 0s 12ms/step - loss: 52.8283 - mse: 4991.9473\n",
      "Epoch 32/93\n",
      "2/2 [==============================] - 0s 20ms/step - loss: 11.9669 - mse: 209.2201\n",
      "Epoch 33/93\n",
      "2/2 [==============================] - 0s 13ms/step - loss: 15.5732 - mse: 334.2944\n",
      "Epoch 34/93\n",
      "2/2 [==============================] - 0s 11ms/step - loss: 12.6541 - mse: 211.8848\n",
      "Epoch 35/93\n",
      "2/2 [==============================] - 0s 13ms/step - loss: 9.2274 - mse: 92.3624\n",
      "Epoch 36/93\n",
      "2/2 [==============================] - 0s 12ms/step - loss: 16.5575 - mse: 398.6235\n",
      "Epoch 37/93\n",
      "2/2 [==============================] - 0s 11ms/step - loss: 11.0727 - mse: 192.4622\n",
      "Epoch 38/93\n",
      "2/2 [==============================] - 0s 14ms/step - loss: 18.2004 - mse: 436.0526\n",
      "Epoch 39/93\n",
      "2/2 [==============================] - 0s 13ms/step - loss: 19.1358 - mse: 532.6276\n",
      "Epoch 40/93\n",
      "2/2 [==============================] - 0s 14ms/step - loss: 20.4933 - mse: 613.4702\n",
      "Epoch 41/93\n",
      "2/2 [==============================] - 0s 12ms/step - loss: 14.8488 - mse: 276.0904\n",
      "Epoch 42/93\n",
      "2/2 [==============================] - 0s 11ms/step - loss: 12.2343 - mse: 183.4385\n",
      "Epoch 43/93\n",
      "2/2 [==============================] - 0s 11ms/step - loss: 10.7145 - mse: 164.1495\n",
      "Epoch 44/93\n",
      "2/2 [==============================] - 0s 10ms/step - loss: 32.3221 - mse: 1718.9041\n",
      "Epoch 45/93\n",
      "2/2 [==============================] - 0s 17ms/step - loss: 12.4951 - mse: 202.8491\n",
      "Epoch 46/93\n",
      "2/2 [==============================] - 0s 12ms/step - loss: 17.5555 - mse: 461.8720\n",
      "Epoch 47/93\n",
      "2/2 [==============================] - 0s 11ms/step - loss: 15.7495 - mse: 339.0457\n",
      "Epoch 48/93\n",
      "2/2 [==============================] - 0s 14ms/step - loss: 8.3770 - mse: 112.8889\n",
      "Epoch 49/93\n",
      "2/2 [==============================] - 0s 12ms/step - loss: 13.9865 - mse: 268.9849\n",
      "Epoch 50/93\n",
      "2/2 [==============================] - 0s 12ms/step - loss: 12.8264 - mse: 215.4267\n",
      "Epoch 51/93\n",
      "2/2 [==============================] - 0s 19ms/step - loss: 14.8400 - mse: 309.5247\n",
      "Epoch 52/93\n",
      "2/2 [==============================] - 0s 20ms/step - loss: 18.7274 - mse: 529.7556\n",
      "Epoch 53/93\n",
      "2/2 [==============================] - 0s 11ms/step - loss: 24.1749 - mse: 828.8151\n",
      "Epoch 54/93\n",
      "2/2 [==============================] - 0s 13ms/step - loss: 23.1687 - mse: 803.9712\n",
      "Epoch 55/93\n",
      "2/2 [==============================] - 0s 13ms/step - loss: 24.0190 - mse: 868.0236\n",
      "Epoch 56/93\n",
      "2/2 [==============================] - 0s 11ms/step - loss: 11.1665 - mse: 171.3264\n",
      "Epoch 57/93\n",
      "2/2 [==============================] - 0s 14ms/step - loss: 13.1158 - mse: 213.7397\n",
      "Epoch 58/93\n",
      "2/2 [==============================] - 0s 10ms/step - loss: 9.8130 - mse: 106.2626\n",
      "Epoch 59/93\n",
      "2/2 [==============================] - 0s 12ms/step - loss: 13.2911 - mse: 248.1907\n",
      "Epoch 60/93\n",
      "2/2 [==============================] - 0s 11ms/step - loss: 10.8668 - mse: 138.9480\n",
      "Epoch 61/93\n",
      "2/2 [==============================] - 0s 10ms/step - loss: 13.4561 - mse: 240.3439\n",
      "Epoch 62/93\n",
      "2/2 [==============================] - 0s 11ms/step - loss: 17.4471 - mse: 464.3245\n",
      "Epoch 63/93\n",
      "2/2 [==============================] - 0s 11ms/step - loss: 9.1578 - mse: 87.8460\n",
      "Epoch 64/93\n",
      "2/2 [==============================] - 0s 11ms/step - loss: 18.3135 - mse: 487.5345\n",
      "Epoch 65/93\n",
      "2/2 [==============================] - 0s 14ms/step - loss: 10.1115 - mse: 114.4781\n",
      "Epoch 66/93\n",
      "2/2 [==============================] - 0s 10ms/step - loss: 24.1486 - mse: 879.1157\n",
      "Epoch 67/93\n",
      "2/2 [==============================] - 0s 11ms/step - loss: 10.8662 - mse: 141.5098\n",
      "Epoch 68/93\n",
      "2/2 [==============================] - 0s 12ms/step - loss: 10.7561 - mse: 156.9901\n",
      "Epoch 69/93\n",
      "2/2 [==============================] - 0s 12ms/step - loss: 23.1047 - mse: 771.0870\n",
      "Epoch 70/93\n",
      "2/2 [==============================] - 0s 13ms/step - loss: 8.8462 - mse: 143.0632\n",
      "Epoch 71/93\n",
      "2/2 [==============================] - 0s 11ms/step - loss: 16.0745 - mse: 352.3517\n",
      "Epoch 72/93\n",
      "2/2 [==============================] - 0s 12ms/step - loss: 7.7669 - mse: 91.4880\n",
      "Epoch 73/93\n",
      "2/2 [==============================] - 0s 15ms/step - loss: 10.1644 - mse: 165.3337\n",
      "Epoch 74/93\n",
      "2/2 [==============================] - 0s 9ms/step - loss: 28.3479 - mse: 1124.5432\n",
      "Epoch 75/93\n",
      "2/2 [==============================] - 0s 11ms/step - loss: 10.0037 - mse: 146.4872\n",
      "Epoch 76/93\n",
      "2/2 [==============================] - 0s 13ms/step - loss: 12.9152 - mse: 207.1056\n",
      "Epoch 77/93\n",
      "2/2 [==============================] - 0s 12ms/step - loss: 17.8386 - mse: 495.5541\n",
      "Epoch 78/93\n",
      "2/2 [==============================] - 0s 10ms/step - loss: 8.9681 - mse: 87.6599\n",
      "Epoch 79/93\n"
     ]
    },
    {
     "name": "stdout",
     "output_type": "stream",
     "text": [
      "2/2 [==============================] - 0s 13ms/step - loss: 28.6389 - mse: 1294.2360\n",
      "Epoch 80/93\n",
      "2/2 [==============================] - 0s 12ms/step - loss: 30.9637 - mse: 1521.5502\n",
      "Epoch 81/93\n",
      "2/2 [==============================] - 0s 12ms/step - loss: 13.3693 - mse: 249.4179\n",
      "Epoch 82/93\n",
      "2/2 [==============================] - 0s 10ms/step - loss: 14.5409 - mse: 291.8571\n",
      "Epoch 83/93\n",
      "2/2 [==============================] - 0s 12ms/step - loss: 18.5704 - mse: 455.1898\n",
      "Epoch 84/93\n",
      "2/2 [==============================] - 0s 13ms/step - loss: 8.8291 - mse: 127.7876\n",
      "Epoch 85/93\n",
      "2/2 [==============================] - 0s 13ms/step - loss: 18.4546 - mse: 532.6771\n",
      "Epoch 86/93\n",
      "2/2 [==============================] - 0s 11ms/step - loss: 22.4717 - mse: 722.3602\n",
      "Epoch 87/93\n",
      "2/2 [==============================] - 0s 14ms/step - loss: 11.3614 - mse: 153.6297\n",
      "Epoch 88/93\n",
      "2/2 [==============================] - 0s 13ms/step - loss: 26.4743 - mse: 1000.7713\n",
      "Epoch 89/93\n",
      "2/2 [==============================] - 0s 13ms/step - loss: 9.6471 - mse: 130.5073\n",
      "Epoch 90/93\n",
      "2/2 [==============================] - 0s 13ms/step - loss: 18.6426 - mse: 498.3255\n",
      "Epoch 91/93\n",
      "2/2 [==============================] - 0s 14ms/step - loss: 10.4714 - mse: 165.3520\n",
      "Epoch 92/93\n",
      "2/2 [==============================] - 0s 13ms/step - loss: 17.8627 - mse: 436.2161\n",
      "Epoch 93/93\n",
      "2/2 [==============================] - 0s 10ms/step - loss: 6.6018 - mse: 62.7932\n"
     ]
    },
    {
     "data": {
      "text/plain": [
       "<keras.callbacks.History at 0x2804b989e20>"
      ]
     },
     "execution_count": 62,
     "metadata": {},
     "output_type": "execute_result"
    }
   ],
   "source": [
    "tf.random.set_seed(42)\n",
    "X_train_model_2 = tf.reshape(X_train,shape=(-1,1))\n",
    "y_train_model_2 = tf.reshape(y_train,shape=(-1,1))\n",
    "X_test_model_2  = X_test\n",
    "y_test_model_2  = y_test\n",
    "# create the model\n",
    "model_2 = tf.keras.Sequential([\n",
    "    tf.keras.layers.Dense(units=10,name='model_2_hidden_1'),\n",
    "    tf.keras.layers.Dense(units=1,name='model_2_output')\n",
    "],name='model_2')\n",
    "# compile the model.\n",
    "model_2.compile(loss = tf.keras.losses.mae,\n",
    "               optimizer=tf.keras.optimizers.SGD(),\n",
    "               metrics=['mse'])\n",
    "# build the model.\n",
    "model_2.build(input_shape=X_train_model_2.shape)\n",
    "# model summary\n",
    "model_2.summary()\n",
    "# fit the model\n",
    "model_2.fit(X_train_model_2,y_train_model_2,epochs=93)"
   ]
  },
  {
   "cell_type": "code",
   "execution_count": 63,
   "id": "f37fdebb",
   "metadata": {},
   "outputs": [
    {
     "name": "stdout",
     "output_type": "stream",
     "text": [
      "WARNING:tensorflow:6 out of the last 9 calls to <function Model.make_predict_function.<locals>.predict_function at 0x000002804B75C040> triggered tf.function retracing. Tracing is expensive and the excessive number of tracings could be due to (1) creating @tf.function repeatedly in a loop, (2) passing tensors with different shapes, (3) passing Python objects instead of tensors. For (1), please define your @tf.function outside of the loop. For (2), @tf.function has reduce_retracing=True option that can avoid unnecessary retracing. For (3), please refer to https://www.tensorflow.org/guide/function#controlling_retracing and https://www.tensorflow.org/api_docs/python/tf/function for  more details.\n",
      "1/1 [==============================] - 0s 184ms/step\n"
     ]
    },
    {
     "data": {
      "text/plain": [
       "(<tf.Tensor: shape=(10,), dtype=float32, numpy=\n",
       " array([ 67.540695,  71.94225 ,  76.3438  ,  80.74535 ,  85.14691 ,\n",
       "         89.54846 ,  93.95001 ,  98.35157 , 102.75312 , 107.15467 ],\n",
       "       dtype=float32)>,\n",
       " <tf.Tensor: shape=(10,), dtype=int32, numpy=array([ 70,  74,  78,  82,  86,  90,  94,  98, 102, 106])>)"
      ]
     },
     "execution_count": 63,
     "metadata": {},
     "output_type": "execute_result"
    }
   ],
   "source": [
    "y_pred_model_2 = model_2.predict(X_test_model_2)\n",
    "tf.squeeze(tf.constant(y_pred_model_2)),y_test_model_2"
   ]
  },
  {
   "cell_type": "code",
   "execution_count": 64,
   "id": "e7cd3dc8",
   "metadata": {},
   "outputs": [
    {
     "data": {
      "image/png": "[encoded data removed]",
      "text/plain": [
       "<Figure size 1000x700 with 1 Axes>"
      ]
     },
     "metadata": {},
     "output_type": "display_data"
    }
   ],
   "source": [
    "plot_prediction(train_data=X_train_model_2,\n",
    "               train_labels=y_train_model_2,\n",
    "               test_data=X_test_model_2,\n",
    "               test_labels=y_test_model_2,\n",
    "               predictions=y_pred_model_2)"
   ]
  },
  {
   "cell_type": "code",
   "execution_count": 65,
   "id": "2dc3e390",
   "metadata": {},
   "outputs": [
    {
     "data": {
      "text/plain": [
       "(<tf.Tensor: shape=(), dtype=float32, numpy=1.104187>,\n",
       " <tf.Tensor: shape=(), dtype=float32, numpy=1.7557828>)"
      ]
     },
     "execution_count": 65,
     "metadata": {},
     "output_type": "execute_result"
    }
   ],
   "source": [
    "mae_model_2 = tf.metrics.mean_absolute_error(y_test_model_2,tf.squeeze(tf.constant(y_pred_model_2)))\n",
    "mse_model_2 = tf.metrics.mean_squared_error(y_test_model_2,tf.squeeze(tf.constant(y_pred_model_2)))\n",
    "mae_model_2,mse_model_2"
   ]
  },
  {
   "cell_type": "markdown",
   "id": "61eed131",
   "metadata": {},
   "source": [
    "# Experiment model_3 - 2 layers train for 500 epochs"
   ]
  },
  {
   "cell_type": "code",
   "execution_count": 66,
   "id": "357ef9fd",
   "metadata": {},
   "outputs": [
    {
     "name": "stdout",
     "output_type": "stream",
     "text": [
      "Model: \"model_3\"\n",
      "_________________________________________________________________\n",
      " Layer (type)                Output Shape              Param #   \n",
      "=================================================================\n",
      " model_2_hidden_1 (Dense)    (40, 10)                  20        \n",
      "                                                                 \n",
      " model_2_output (Dense)      (40, 1)                   11        \n",
      "                                                                 \n",
      "=================================================================\n",
      "Total params: 31\n",
      "Trainable params: 31\n",
      "Non-trainable params: 0\n",
      "_________________________________________________________________\n",
      "Epoch 1/500\n",
      "2/2 [==============================] - 1s 0s/step - loss: 44.4363 - mse: 2776.0200 - mae: 44.4363\n",
      "Epoch 2/500\n",
      "2/2 [==============================] - 0s 13ms/step - loss: 33.4195 - mse: 1527.0051 - mae: 33.4195\n",
      "Epoch 3/500\n",
      "2/2 [==============================] - 0s 11ms/step - loss: 37.6380 - mse: 2130.9114 - mae: 37.6380\n",
      "Epoch 4/500\n",
      "2/2 [==============================] - 0s 13ms/step - loss: 27.1887 - mse: 1076.3623 - mae: 27.1887\n",
      "Epoch 5/500\n",
      "2/2 [==============================] - 0s 12ms/step - loss: 14.8600 - mse: 275.8657 - mae: 14.8600\n",
      "Epoch 6/500\n",
      "2/2 [==============================] - 0s 12ms/step - loss: 11.8411 - mse: 165.7723 - mae: 11.8411\n",
      "Epoch 7/500\n",
      "2/2 [==============================] - 0s 11ms/step - loss: 12.9381 - mse: 231.6794 - mae: 12.9381\n",
      "Epoch 8/500\n",
      "2/2 [==============================] - 0s 14ms/step - loss: 11.1418 - mse: 161.3430 - mae: 11.1418\n",
      "Epoch 9/500\n",
      "2/2 [==============================] - 0s 15ms/step - loss: 40.8203 - mse: 2634.0005 - mae: 40.8203\n",
      "Epoch 10/500\n",
      "2/2 [==============================] - 0s 11ms/step - loss: 28.1683 - mse: 1118.7546 - mae: 28.1683\n",
      "Epoch 11/500\n",
      "2/2 [==============================] - 0s 12ms/step - loss: 10.2569 - mse: 149.3703 - mae: 10.2569\n",
      "Epoch 12/500\n",
      "2/2 [==============================] - 0s 13ms/step - loss: 25.2340 - mse: 887.9183 - mae: 25.2340\n",
      "Epoch 13/500\n",
      "2/2 [==============================] - 0s 12ms/step - loss: 17.1381 - mse: 408.7248 - mae: 17.1381\n",
      "Epoch 14/500\n",
      "2/2 [==============================] - 0s 11ms/step - loss: 26.1886 - mse: 1073.8815 - mae: 26.1886\n",
      "Epoch 15/500\n",
      "2/2 [==============================] - 0s 12ms/step - loss: 18.2127 - mse: 461.1698 - mae: 18.2127\n",
      "Epoch 16/500\n",
      "2/2 [==============================] - 0s 11ms/step - loss: 7.8658 - mse: 89.2162 - mae: 7.8658\n",
      "Epoch 17/500\n",
      "2/2 [==============================] - 0s 12ms/step - loss: 22.3262 - mse: 691.3016 - mae: 22.3262\n",
      "Epoch 18/500\n",
      "2/2 [==============================] - 0s 10ms/step - loss: 10.8645 - mse: 174.5529 - mae: 10.8645\n",
      "Epoch 19/500\n",
      "2/2 [==============================] - 0s 11ms/step - loss: 10.7539 - mse: 141.1000 - mae: 10.7539\n",
      "Epoch 20/500\n",
      "2/2 [==============================] - 0s 11ms/step - loss: 12.0747 - mse: 166.4910 - mae: 12.0747\n",
      "Epoch 21/500\n",
      "2/2 [==============================] - 0s 11ms/step - loss: 20.2349 - mse: 595.0121 - mae: 20.2349\n",
      "Epoch 22/500\n",
      "2/2 [==============================] - 0s 12ms/step - loss: 13.8394 - mse: 245.6482 - mae: 13.8394\n",
      "Epoch 23/500\n",
      "2/2 [==============================] - 0s 11ms/step - loss: 9.5670 - mse: 95.4916 - mae: 9.5670\n",
      "Epoch 24/500\n",
      "2/2 [==============================] - 0s 12ms/step - loss: 11.9258 - mse: 164.6424 - mae: 11.9258\n",
      "Epoch 25/500\n",
      "2/2 [==============================] - 0s 12ms/step - loss: 16.2705 - mse: 387.9268 - mae: 16.2705\n",
      "Epoch 26/500\n",
      "2/2 [==============================] - 0s 13ms/step - loss: 16.4606 - mse: 377.5223 - mae: 16.4606\n",
      "Epoch 27/500\n",
      "2/2 [==============================] - 0s 12ms/step - loss: 11.6088 - mse: 183.1760 - mae: 11.6088\n",
      "Epoch 28/500\n",
      "2/2 [==============================] - 0s 13ms/step - loss: 30.0912 - mse: 1477.0378 - mae: 30.0912\n",
      "Epoch 29/500\n",
      "2/2 [==============================] - 0s 12ms/step - loss: 9.2570 - mse: 92.5138 - mae: 9.2570\n",
      "Epoch 30/500\n",
      "2/2 [==============================] - 0s 11ms/step - loss: 30.6130 - mse: 1721.3051 - mae: 30.6130\n",
      "Epoch 31/500\n",
      "2/2 [==============================] - 0s 14ms/step - loss: 55.6621 - mse: 5559.1382 - mae: 55.6621\n",
      "Epoch 32/500\n",
      "2/2 [==============================] - 0s 10ms/step - loss: 9.7527 - mse: 103.7819 - mae: 9.7527\n",
      "Epoch 33/500\n",
      "2/2 [==============================] - 0s 12ms/step - loss: 12.3740 - mse: 196.4075 - mae: 12.3740\n",
      "Epoch 34/500\n",
      "2/2 [==============================] - 0s 12ms/step - loss: 24.7911 - mse: 935.1588 - mae: 24.7911\n",
      "Epoch 35/500\n",
      "2/2 [==============================] - 0s 13ms/step - loss: 11.9126 - mse: 212.0340 - mae: 11.9126\n",
      "Epoch 36/500\n",
      "2/2 [==============================] - 0s 14ms/step - loss: 22.0701 - mse: 693.9844 - mae: 22.0701\n",
      "Epoch 37/500\n",
      "2/2 [==============================] - 0s 11ms/step - loss: 17.6192 - mse: 444.1065 - mae: 17.6192\n",
      "Epoch 38/500\n",
      "2/2 [==============================] - 0s 11ms/step - loss: 10.7550 - mse: 134.5957 - mae: 10.7550\n",
      "Epoch 39/500\n",
      "2/2 [==============================] - 0s 24ms/step - loss: 11.2714 - mse: 168.4671 - mae: 11.2714\n",
      "Epoch 40/500\n",
      "2/2 [==============================] - 0s 14ms/step - loss: 18.2915 - mse: 482.9918 - mae: 18.2915\n",
      "Epoch 41/500\n",
      "2/2 [==============================] - 0s 12ms/step - loss: 10.5281 - mse: 181.7045 - mae: 10.5281\n",
      "Epoch 42/500\n",
      "2/2 [==============================] - 0s 13ms/step - loss: 8.4254 - mse: 98.5085 - mae: 8.4254\n",
      "Epoch 43/500\n",
      "2/2 [==============================] - 0s 23ms/step - loss: 10.2356 - mse: 122.0222 - mae: 10.2356\n",
      "Epoch 44/500\n",
      "2/2 [==============================] - 0s 12ms/step - loss: 28.6228 - mse: 1318.5234 - mae: 28.6228\n",
      "Epoch 45/500\n",
      "2/2 [==============================] - 0s 10ms/step - loss: 11.4467 - mse: 152.5472 - mae: 11.4467\n",
      "Epoch 46/500\n",
      "2/2 [==============================] - 0s 11ms/step - loss: 14.4706 - mse: 308.7929 - mae: 14.4706\n",
      "Epoch 47/500\n",
      "2/2 [==============================] - 0s 13ms/step - loss: 13.3553 - mse: 253.1744 - mae: 13.3553\n",
      "Epoch 48/500\n",
      "2/2 [==============================] - 0s 11ms/step - loss: 17.1203 - mse: 397.3072 - mae: 17.1203\n",
      "Epoch 49/500\n",
      "2/2 [==============================] - 0s 11ms/step - loss: 9.6509 - mse: 101.6626 - mae: 9.6509\n",
      "Epoch 50/500\n",
      "2/2 [==============================] - 0s 12ms/step - loss: 13.9554 - mse: 268.2915 - mae: 13.9554\n",
      "Epoch 51/500\n",
      "2/2 [==============================] - 0s 11ms/step - loss: 11.6493 - mse: 157.1716 - mae: 11.6493\n",
      "Epoch 52/500\n",
      "2/2 [==============================] - 0s 11ms/step - loss: 30.8904 - mse: 1652.4851 - mae: 30.8904\n",
      "Epoch 53/500\n",
      "2/2 [==============================] - 0s 13ms/step - loss: 14.5024 - mse: 309.8083 - mae: 14.5024\n",
      "Epoch 54/500\n",
      "2/2 [==============================] - 0s 10ms/step - loss: 24.2309 - mse: 880.1987 - mae: 24.2309\n",
      "Epoch 55/500\n",
      "2/2 [==============================] - 0s 13ms/step - loss: 23.4773 - mse: 826.6423 - mae: 23.4773\n",
      "Epoch 56/500\n",
      "2/2 [==============================] - 0s 9ms/step - loss: 10.9765 - mse: 170.8245 - mae: 10.9765\n",
      "Epoch 57/500\n",
      "2/2 [==============================] - 0s 11ms/step - loss: 12.8695 - mse: 203.6608 - mae: 12.8695\n",
      "Epoch 58/500\n",
      "2/2 [==============================] - 0s 11ms/step - loss: 9.6704 - mse: 103.6369 - mae: 9.6704\n",
      "Epoch 59/500\n",
      "2/2 [==============================] - 0s 10ms/step - loss: 13.0357 - mse: 234.7304 - mae: 13.0357\n",
      "Epoch 60/500\n",
      "2/2 [==============================] - 0s 11ms/step - loss: 10.7093 - mse: 133.9485 - mae: 10.7093\n",
      "Epoch 61/500\n",
      "2/2 [==============================] - 0s 11ms/step - loss: 13.2458 - mse: 229.5015 - mae: 13.2458\n",
      "Epoch 62/500\n",
      "2/2 [==============================] - 0s 11ms/step - loss: 17.0808 - mse: 444.2741 - mae: 17.0808\n",
      "Epoch 63/500\n",
      "2/2 [==============================] - 0s 12ms/step - loss: 9.0589 - mse: 87.4670 - mae: 9.0589\n",
      "Epoch 64/500\n",
      "2/2 [==============================] - 0s 12ms/step - loss: 17.7250 - mse: 455.2791 - mae: 17.7250\n",
      "Epoch 65/500\n",
      "2/2 [==============================] - 0s 11ms/step - loss: 10.5317 - mse: 133.9803 - mae: 10.5317\n",
      "Epoch 66/500\n",
      "2/2 [==============================] - 0s 14ms/step - loss: 21.2089 - mse: 663.5506 - mae: 21.2089\n",
      "Epoch 67/500\n",
      "2/2 [==============================] - 0s 11ms/step - loss: 10.5279 - mse: 129.1870 - mae: 10.5279\n",
      "Epoch 68/500\n"
     ]
    },
    {
     "name": "stdout",
     "output_type": "stream",
     "text": [
      "2/2 [==============================] - 0s 11ms/step - loss: 14.3725 - mse: 311.4587 - mae: 14.3725\n",
      "Epoch 69/500\n",
      "2/2 [==============================] - 0s 11ms/step - loss: 10.6178 - mse: 129.3080 - mae: 10.6178\n",
      "Epoch 70/500\n",
      "2/2 [==============================] - 0s 10ms/step - loss: 12.7024 - mse: 205.1154 - mae: 12.7024\n",
      "Epoch 71/500\n",
      "2/2 [==============================] - 0s 12ms/step - loss: 13.1306 - mse: 232.4284 - mae: 13.1306\n",
      "Epoch 72/500\n",
      "2/2 [==============================] - 0s 11ms/step - loss: 19.6283 - mse: 547.0809 - mae: 19.6283\n",
      "Epoch 73/500\n",
      "2/2 [==============================] - 0s 11ms/step - loss: 11.1979 - mse: 191.3823 - mae: 11.1979\n",
      "Epoch 74/500\n",
      "2/2 [==============================] - 0s 11ms/step - loss: 21.9085 - mse: 747.1000 - mae: 21.9085\n",
      "Epoch 75/500\n",
      "2/2 [==============================] - 0s 11ms/step - loss: 7.1974 - mse: 71.5003 - mae: 7.1974\n",
      "Epoch 76/500\n",
      "2/2 [==============================] - 0s 10ms/step - loss: 9.4207 - mse: 149.8103 - mae: 9.4207\n",
      "Epoch 77/500\n",
      "2/2 [==============================] - 0s 11ms/step - loss: 22.0508 - mse: 726.8686 - mae: 22.0508\n",
      "Epoch 78/500\n",
      "2/2 [==============================] - 0s 14ms/step - loss: 17.6962 - mse: 475.6920 - mae: 17.6962\n",
      "Epoch 79/500\n",
      "2/2 [==============================] - 0s 12ms/step - loss: 14.8612 - mse: 323.3466 - mae: 14.8612\n",
      "Epoch 80/500\n",
      "2/2 [==============================] - 0s 12ms/step - loss: 25.1780 - mse: 967.5003 - mae: 25.1780\n",
      "Epoch 81/500\n",
      "2/2 [==============================] - 0s 10ms/step - loss: 10.9306 - mse: 141.4585 - mae: 10.9306\n",
      "Epoch 82/500\n",
      "2/2 [==============================] - 0s 11ms/step - loss: 12.7443 - mse: 232.1532 - mae: 12.7443\n",
      "Epoch 83/500\n",
      "2/2 [==============================] - 0s 12ms/step - loss: 17.5152 - mse: 399.9577 - mae: 17.5152\n",
      "Epoch 84/500\n",
      "2/2 [==============================] - 0s 11ms/step - loss: 7.2887 - mse: 73.2196 - mae: 7.2887\n",
      "Epoch 85/500\n",
      "2/2 [==============================] - 0s 11ms/step - loss: 15.0381 - mse: 315.6698 - mae: 15.0381\n",
      "Epoch 86/500\n",
      "2/2 [==============================] - 0s 12ms/step - loss: 15.3456 - mse: 316.9395 - mae: 15.3456\n",
      "Epoch 87/500\n",
      "2/2 [==============================] - 0s 11ms/step - loss: 19.2246 - mse: 526.5415 - mae: 19.2246\n",
      "Epoch 88/500\n",
      "2/2 [==============================] - 0s 11ms/step - loss: 29.5215 - mse: 1259.4857 - mae: 29.5215\n",
      "Epoch 89/500\n",
      "2/2 [==============================] - 0s 14ms/step - loss: 10.1390 - mse: 124.2234 - mae: 10.1390\n",
      "Epoch 90/500\n",
      "2/2 [==============================] - 0s 11ms/step - loss: 21.2738 - mse: 648.1765 - mae: 21.2738\n",
      "Epoch 91/500\n",
      "2/2 [==============================] - 0s 12ms/step - loss: 10.5196 - mse: 162.9783 - mae: 10.5196\n",
      "Epoch 92/500\n",
      "2/2 [==============================] - 0s 13ms/step - loss: 18.1713 - mse: 452.1425 - mae: 18.1713\n",
      "Epoch 93/500\n",
      "2/2 [==============================] - 0s 10ms/step - loss: 6.5459 - mse: 60.5878 - mae: 6.5459\n",
      "Epoch 94/500\n",
      "2/2 [==============================] - 0s 10ms/step - loss: 11.1777 - mse: 155.8558 - mae: 11.1777\n",
      "Epoch 95/500\n",
      "2/2 [==============================] - 0s 11ms/step - loss: 24.6175 - mse: 910.3521 - mae: 24.6175\n",
      "Epoch 96/500\n",
      "2/2 [==============================] - 0s 11ms/step - loss: 10.7875 - mse: 171.7208 - mae: 10.7875\n",
      "Epoch 97/500\n",
      "2/2 [==============================] - 0s 11ms/step - loss: 15.5214 - mse: 365.6537 - mae: 15.5214\n",
      "Epoch 98/500\n",
      "2/2 [==============================] - 0s 13ms/step - loss: 9.0562 - mse: 143.5467 - mae: 9.0562\n",
      "Epoch 99/500\n",
      "2/2 [==============================] - 0s 10ms/step - loss: 10.8721 - mse: 139.1117 - mae: 10.8721\n",
      "Epoch 100/500\n",
      "2/2 [==============================] - 0s 10ms/step - loss: 27.1330 - mse: 1123.0085 - mae: 27.1330\n",
      "Epoch 101/500\n",
      "2/2 [==============================] - 0s 12ms/step - loss: 15.0881 - mse: 341.6913 - mae: 15.0881\n",
      "Epoch 102/500\n",
      "2/2 [==============================] - 0s 11ms/step - loss: 10.6487 - mse: 158.2398 - mae: 10.6487\n",
      "Epoch 103/500\n",
      "2/2 [==============================] - 0s 11ms/step - loss: 9.1302 - mse: 96.5082 - mae: 9.1302\n",
      "Epoch 104/500\n",
      "2/2 [==============================] - 0s 11ms/step - loss: 23.5696 - mse: 831.8517 - mae: 23.5696\n",
      "Epoch 105/500\n",
      "2/2 [==============================] - 0s 10ms/step - loss: 10.7499 - mse: 156.2596 - mae: 10.7499\n",
      "Epoch 106/500\n",
      "2/2 [==============================] - 0s 11ms/step - loss: 11.2129 - mse: 173.4485 - mae: 11.2129\n",
      "Epoch 107/500\n",
      "2/2 [==============================] - 0s 14ms/step - loss: 21.1356 - mse: 665.4224 - mae: 21.1356\n",
      "Epoch 108/500\n",
      "2/2 [==============================] - 0s 12ms/step - loss: 6.3137 - mse: 57.2254 - mae: 6.3137\n",
      "Epoch 109/500\n",
      "2/2 [==============================] - 0s 11ms/step - loss: 10.5364 - mse: 131.9466 - mae: 10.5364\n",
      "Epoch 110/500\n",
      "2/2 [==============================] - 0s 11ms/step - loss: 10.4891 - mse: 134.2730 - mae: 10.4891\n",
      "Epoch 111/500\n",
      "2/2 [==============================] - 0s 11ms/step - loss: 16.6205 - mse: 389.8056 - mae: 16.6205\n",
      "Epoch 112/500\n",
      "2/2 [==============================] - 0s 10ms/step - loss: 9.4817 - mse: 118.2963 - mae: 9.4817\n",
      "Epoch 113/500\n",
      "2/2 [==============================] - 0s 11ms/step - loss: 17.5082 - mse: 445.9637 - mae: 17.5082\n",
      "Epoch 114/500\n",
      "2/2 [==============================] - 0s 11ms/step - loss: 16.8764 - mse: 424.5727 - mae: 16.8764\n",
      "Epoch 115/500\n",
      "2/2 [==============================] - 0s 11ms/step - loss: 11.0150 - mse: 149.8651 - mae: 11.0150\n",
      "Epoch 116/500\n",
      "2/2 [==============================] - 0s 10ms/step - loss: 22.9059 - mse: 763.1382 - mae: 22.9059\n",
      "Epoch 117/500\n",
      "2/2 [==============================] - 0s 12ms/step - loss: 9.4905 - mse: 126.7378 - mae: 9.4905\n",
      "Epoch 118/500\n",
      "2/2 [==============================] - 0s 9ms/step - loss: 10.5450 - mse: 136.5539 - mae: 10.5450\n",
      "Epoch 119/500\n",
      "2/2 [==============================] - 0s 11ms/step - loss: 8.0159 - mse: 75.7159 - mae: 8.0159\n",
      "Epoch 120/500\n",
      "2/2 [==============================] - 0s 10ms/step - loss: 29.1952 - mse: 1269.5968 - mae: 29.1952\n",
      "Epoch 121/500\n",
      "2/2 [==============================] - 0s 10ms/step - loss: 8.0561 - mse: 70.1020 - mae: 8.0561\n",
      "Epoch 122/500\n",
      "2/2 [==============================] - 0s 12ms/step - loss: 27.9064 - mse: 1192.2498 - mae: 27.9064\n",
      "Epoch 123/500\n",
      "2/2 [==============================] - 0s 10ms/step - loss: 32.4043 - mse: 1539.9607 - mae: 32.4043\n",
      "Epoch 124/500\n",
      "2/2 [==============================] - 0s 11ms/step - loss: 19.2579 - mse: 549.6839 - mae: 19.2579\n",
      "Epoch 125/500\n",
      "2/2 [==============================] - 0s 12ms/step - loss: 9.4733 - mse: 152.3223 - mae: 9.4733\n",
      "Epoch 126/500\n",
      "2/2 [==============================] - 0s 11ms/step - loss: 9.5561 - mse: 112.8249 - mae: 9.5561\n",
      "Epoch 127/500\n",
      "2/2 [==============================] - 0s 11ms/step - loss: 12.6563 - mse: 250.2209 - mae: 12.6563\n",
      "Epoch 128/500\n",
      "2/2 [==============================] - 0s 11ms/step - loss: 12.7611 - mse: 225.0160 - mae: 12.7611\n",
      "Epoch 129/500\n",
      "2/2 [==============================] - 0s 10ms/step - loss: 13.8816 - mse: 309.4694 - mae: 13.8816\n",
      "Epoch 130/500\n",
      "2/2 [==============================] - 0s 11ms/step - loss: 10.2034 - mse: 121.0762 - mae: 10.2034\n",
      "Epoch 131/500\n",
      "2/2 [==============================] - 0s 11ms/step - loss: 21.6250 - mse: 708.2496 - mae: 21.6250\n",
      "Epoch 132/500\n",
      "2/2 [==============================] - 0s 10ms/step - loss: 8.2477 - mse: 95.6765 - mae: 8.2477\n",
      "Epoch 133/500\n",
      "2/2 [==============================] - 0s 12ms/step - loss: 9.0300 - mse: 111.7766 - mae: 9.0300\n",
      "Epoch 134/500\n",
      "2/2 [==============================] - 0s 13ms/step - loss: 16.8445 - mse: 413.5892 - mae: 16.8445\n",
      "Epoch 135/500\n",
      "2/2 [==============================] - 0s 12ms/step - loss: 10.6226 - mse: 149.3237 - mae: 10.6226\n",
      "Epoch 136/500\n",
      "2/2 [==============================] - 0s 10ms/step - loss: 18.4648 - mse: 483.1558 - mae: 18.4648\n",
      "Epoch 137/500\n",
      "2/2 [==============================] - 0s 11ms/step - loss: 23.4385 - mse: 741.7605 - mae: 23.4385\n",
      "Epoch 138/500\n",
      "2/2 [==============================] - 0s 14ms/step - loss: 9.2464 - mse: 139.3161 - mae: 9.2464\n",
      "Epoch 139/500\n",
      "2/2 [==============================] - 0s 10ms/step - loss: 8.9885 - mse: 143.2090 - mae: 8.9885\n",
      "Epoch 140/500\n",
      "2/2 [==============================] - 0s 10ms/step - loss: 16.9292 - mse: 413.2171 - mae: 16.9292\n",
      "Epoch 141/500\n"
     ]
    },
    {
     "name": "stdout",
     "output_type": "stream",
     "text": [
      "2/2 [==============================] - 0s 11ms/step - loss: 8.3051 - mse: 75.2094 - mae: 8.3051\n",
      "Epoch 142/500\n",
      "2/2 [==============================] - 0s 10ms/step - loss: 33.9957 - mse: 1999.3459 - mae: 33.9957\n",
      "Epoch 143/500\n",
      "2/2 [==============================] - 0s 12ms/step - loss: 23.0528 - mse: 743.5519 - mae: 23.0528\n",
      "Epoch 144/500\n",
      "2/2 [==============================] - 0s 11ms/step - loss: 11.3287 - mse: 228.0813 - mae: 11.3287\n",
      "Epoch 145/500\n",
      "2/2 [==============================] - 0s 11ms/step - loss: 25.0418 - mse: 850.0295 - mae: 25.0418\n",
      "Epoch 146/500\n",
      "2/2 [==============================] - 0s 11ms/step - loss: 11.1257 - mse: 167.8947 - mae: 11.1257\n",
      "Epoch 147/500\n",
      "2/2 [==============================] - 0s 12ms/step - loss: 14.0815 - mse: 293.4016 - mae: 14.0815\n",
      "Epoch 148/500\n",
      "2/2 [==============================] - 0s 11ms/step - loss: 16.9340 - mse: 393.6859 - mae: 16.9340\n",
      "Epoch 149/500\n",
      "2/2 [==============================] - 0s 11ms/step - loss: 9.2357 - mse: 108.5254 - mae: 9.2357\n",
      "Epoch 150/500\n",
      "2/2 [==============================] - 0s 12ms/step - loss: 7.9238 - mse: 71.3937 - mae: 7.9238\n",
      "Epoch 151/500\n",
      "2/2 [==============================] - 0s 10ms/step - loss: 16.4926 - mse: 391.2781 - mae: 16.4926\n",
      "Epoch 152/500\n",
      "2/2 [==============================] - 0s 11ms/step - loss: 9.7850 - mse: 119.3671 - mae: 9.7850\n",
      "Epoch 153/500\n",
      "2/2 [==============================] - 0s 14ms/step - loss: 26.8358 - mse: 1017.9852 - mae: 26.8358\n",
      "Epoch 154/500\n",
      "2/2 [==============================] - 0s 11ms/step - loss: 11.9154 - mse: 238.6783 - mae: 11.9154\n",
      "Epoch 155/500\n",
      "2/2 [==============================] - 0s 12ms/step - loss: 15.2809 - mse: 335.3975 - mae: 15.2809\n",
      "Epoch 156/500\n",
      "2/2 [==============================] - 0s 14ms/step - loss: 16.6517 - mse: 424.5125 - mae: 16.6517\n",
      "Epoch 157/500\n",
      "2/2 [==============================] - 0s 11ms/step - loss: 19.2794 - mse: 573.7433 - mae: 19.2794\n",
      "Epoch 158/500\n",
      "2/2 [==============================] - 0s 11ms/step - loss: 8.2473 - mse: 129.5620 - mae: 8.2473\n",
      "Epoch 159/500\n",
      "2/2 [==============================] - 0s 13ms/step - loss: 7.9764 - mse: 109.2930 - mae: 7.9764\n",
      "Epoch 160/500\n",
      "2/2 [==============================] - 0s 11ms/step - loss: 20.9543 - mse: 659.6978 - mae: 20.9543\n",
      "Epoch 161/500\n",
      "2/2 [==============================] - 0s 14ms/step - loss: 23.7906 - mse: 858.3486 - mae: 23.7906\n",
      "Epoch 162/500\n",
      "2/2 [==============================] - 0s 11ms/step - loss: 18.7088 - mse: 499.7715 - mae: 18.7088\n",
      "Epoch 163/500\n",
      "2/2 [==============================] - 0s 10ms/step - loss: 17.6607 - mse: 447.4320 - mae: 17.6607\n",
      "Epoch 164/500\n",
      "2/2 [==============================] - 0s 15ms/step - loss: 11.0707 - mse: 179.7828 - mae: 11.0707\n",
      "Epoch 165/500\n",
      "2/2 [==============================] - 0s 11ms/step - loss: 9.6070 - mse: 180.7573 - mae: 9.6070\n",
      "Epoch 166/500\n",
      "2/2 [==============================] - 0s 10ms/step - loss: 21.5519 - mse: 679.9991 - mae: 21.5519\n",
      "Epoch 167/500\n",
      "2/2 [==============================] - 0s 14ms/step - loss: 26.3878 - mse: 1057.5864 - mae: 26.3878\n",
      "Epoch 168/500\n",
      "2/2 [==============================] - 0s 11ms/step - loss: 9.8774 - mse: 118.6601 - mae: 9.8774\n",
      "Epoch 169/500\n",
      "2/2 [==============================] - 0s 10ms/step - loss: 22.6608 - mse: 794.1490 - mae: 22.6608\n",
      "Epoch 170/500\n",
      "2/2 [==============================] - 0s 14ms/step - loss: 10.1369 - mse: 196.6404 - mae: 10.1369\n",
      "Epoch 171/500\n",
      "2/2 [==============================] - 0s 11ms/step - loss: 18.0064 - mse: 501.6372 - mae: 18.0064\n",
      "Epoch 172/500\n",
      "2/2 [==============================] - 0s 10ms/step - loss: 28.9352 - mse: 1315.6560 - mae: 28.9352\n",
      "Epoch 173/500\n",
      "2/2 [==============================] - 0s 11ms/step - loss: 16.6067 - mse: 435.9012 - mae: 16.6067\n",
      "Epoch 174/500\n",
      "2/2 [==============================] - 0s 12ms/step - loss: 11.2054 - mse: 200.6208 - mae: 11.2054\n",
      "Epoch 175/500\n",
      "2/2 [==============================] - 0s 13ms/step - loss: 27.5596 - mse: 1096.0493 - mae: 27.5596\n",
      "Epoch 176/500\n",
      "2/2 [==============================] - 0s 10ms/step - loss: 8.2998 - mse: 78.1615 - mae: 8.2998\n",
      "Epoch 177/500\n",
      "2/2 [==============================] - 0s 10ms/step - loss: 9.2834 - mse: 109.3564 - mae: 9.2834\n",
      "Epoch 178/500\n",
      "2/2 [==============================] - 0s 12ms/step - loss: 18.2211 - mse: 469.7065 - mae: 18.2211\n",
      "Epoch 179/500\n",
      "2/2 [==============================] - 0s 10ms/step - loss: 10.5664 - mse: 147.0992 - mae: 10.5664\n",
      "Epoch 180/500\n",
      "2/2 [==============================] - 0s 11ms/step - loss: 7.9171 - mse: 100.2787 - mae: 7.9171\n",
      "Epoch 181/500\n",
      "2/2 [==============================] - 0s 11ms/step - loss: 17.4637 - mse: 441.5734 - mae: 17.4637\n",
      "Epoch 182/500\n",
      "2/2 [==============================] - 0s 11ms/step - loss: 11.0417 - mse: 158.0036 - mae: 11.0417\n",
      "Epoch 183/500\n",
      "2/2 [==============================] - 0s 11ms/step - loss: 11.7328 - mse: 204.9229 - mae: 11.7328\n",
      "Epoch 184/500\n",
      "2/2 [==============================] - 0s 13ms/step - loss: 30.4971 - mse: 1396.1554 - mae: 30.4971\n",
      "Epoch 185/500\n",
      "2/2 [==============================] - 0s 11ms/step - loss: 7.5532 - mse: 99.0581 - mae: 7.5532\n",
      "Epoch 186/500\n",
      "2/2 [==============================] - 0s 11ms/step - loss: 15.9658 - mse: 368.2362 - mae: 15.9658\n",
      "Epoch 187/500\n",
      "2/2 [==============================] - 0s 10ms/step - loss: 8.5713 - mse: 85.5368 - mae: 8.5713\n",
      "Epoch 188/500\n",
      "2/2 [==============================] - 0s 13ms/step - loss: 28.8143 - mse: 1182.7670 - mae: 28.8143\n",
      "Epoch 189/500\n",
      "2/2 [==============================] - 0s 11ms/step - loss: 13.1547 - mse: 271.6349 - mae: 13.1547\n",
      "Epoch 190/500\n",
      "2/2 [==============================] - 0s 11ms/step - loss: 18.2946 - mse: 511.3378 - mae: 18.2946\n",
      "Epoch 191/500\n",
      "2/2 [==============================] - 0s 11ms/step - loss: 13.7195 - mse: 264.2922 - mae: 13.7195\n",
      "Epoch 192/500\n",
      "2/2 [==============================] - 0s 13ms/step - loss: 13.7052 - mse: 261.3148 - mae: 13.7052\n",
      "Epoch 193/500\n",
      "2/2 [==============================] - 0s 10ms/step - loss: 28.5691 - mse: 1133.9824 - mae: 28.5691\n",
      "Epoch 194/500\n",
      "2/2 [==============================] - 0s 11ms/step - loss: 7.0924 - mse: 78.6561 - mae: 7.0924\n",
      "Epoch 195/500\n",
      "2/2 [==============================] - 0s 11ms/step - loss: 7.0582 - mse: 75.1310 - mae: 7.0582\n",
      "Epoch 196/500\n",
      "2/2 [==============================] - 0s 11ms/step - loss: 21.9868 - mse: 708.2838 - mae: 21.9868\n",
      "Epoch 197/500\n",
      "2/2 [==============================] - 0s 11ms/step - loss: 20.8868 - mse: 646.3904 - mae: 20.8868\n",
      "Epoch 198/500\n",
      "2/2 [==============================] - 0s 10ms/step - loss: 12.4975 - mse: 237.3867 - mae: 12.4975\n",
      "Epoch 199/500\n",
      "2/2 [==============================] - 0s 10ms/step - loss: 17.9460 - mse: 462.1400 - mae: 17.9460\n",
      "Epoch 200/500\n",
      "2/2 [==============================] - 0s 9ms/step - loss: 13.7830 - mse: 283.6667 - mae: 13.7830\n",
      "Epoch 201/500\n",
      "2/2 [==============================] - 0s 10ms/step - loss: 5.4718 - mse: 41.0012 - mae: 5.4718\n",
      "Epoch 202/500\n",
      "2/2 [==============================] - 0s 10ms/step - loss: 13.7305 - mse: 294.8260 - mae: 13.7305\n",
      "Epoch 203/500\n",
      "2/2 [==============================] - 0s 12ms/step - loss: 9.4274 - mse: 139.8220 - mae: 9.4274\n",
      "Epoch 204/500\n",
      "2/2 [==============================] - 0s 11ms/step - loss: 21.0156 - mse: 658.4969 - mae: 21.0156\n",
      "Epoch 205/500\n",
      "2/2 [==============================] - 0s 12ms/step - loss: 9.5637 - mse: 128.0806 - mae: 9.5637\n",
      "Epoch 206/500\n",
      "2/2 [==============================] - 0s 10ms/step - loss: 11.7442 - mse: 196.1465 - mae: 11.7442\n",
      "Epoch 207/500\n",
      "2/2 [==============================] - 0s 11ms/step - loss: 14.3993 - mse: 318.0497 - mae: 14.3993\n",
      "Epoch 208/500\n",
      "2/2 [==============================] - 0s 11ms/step - loss: 14.8790 - mse: 323.8620 - mae: 14.8790\n",
      "Epoch 209/500\n",
      "2/2 [==============================] - 0s 10ms/step - loss: 14.9908 - mse: 346.4261 - mae: 14.9908\n",
      "Epoch 210/500\n",
      "2/2 [==============================] - 0s 10ms/step - loss: 17.9260 - mse: 468.7886 - mae: 17.9260\n",
      "Epoch 211/500\n",
      "2/2 [==============================] - 0s 12ms/step - loss: 9.8448 - mse: 145.9005 - mae: 9.8448\n",
      "Epoch 212/500\n",
      "2/2 [==============================] - 0s 11ms/step - loss: 18.3632 - mse: 509.2522 - mae: 18.3632\n",
      "Epoch 213/500\n",
      "2/2 [==============================] - 0s 11ms/step - loss: 15.0328 - mse: 307.4639 - mae: 15.0328\n"
     ]
    },
    {
     "name": "stdout",
     "output_type": "stream",
     "text": [
      "Epoch 214/500\n",
      "2/2 [==============================] - 0s 10ms/step - loss: 14.5842 - mse: 293.3692 - mae: 14.5842\n",
      "Epoch 215/500\n",
      "2/2 [==============================] - 0s 12ms/step - loss: 23.2936 - mse: 798.9167 - mae: 23.2936\n",
      "Epoch 216/500\n",
      "2/2 [==============================] - 0s 15ms/step - loss: 13.3764 - mse: 278.6051 - mae: 13.3764\n",
      "Epoch 217/500\n",
      "2/2 [==============================] - 0s 14ms/step - loss: 9.8668 - mse: 136.7629 - mae: 9.8668\n",
      "Epoch 218/500\n",
      "2/2 [==============================] - 0s 14ms/step - loss: 12.5390 - mse: 206.4278 - mae: 12.5390\n",
      "Epoch 219/500\n",
      "2/2 [==============================] - 0s 13ms/step - loss: 4.9518 - mse: 37.4200 - mae: 4.9518\n",
      "Epoch 220/500\n",
      "2/2 [==============================] - 0s 14ms/step - loss: 7.1169 - mse: 57.5425 - mae: 7.1169\n",
      "Epoch 221/500\n",
      "2/2 [==============================] - 0s 17ms/step - loss: 35.4721 - mse: 2110.2886 - mae: 35.4721\n",
      "Epoch 222/500\n",
      "2/2 [==============================] - 0s 16ms/step - loss: 34.8809 - mse: 1969.1272 - mae: 34.8809\n",
      "Epoch 223/500\n",
      "2/2 [==============================] - 0s 14ms/step - loss: 7.9828 - mse: 119.8199 - mae: 7.9828\n",
      "Epoch 224/500\n",
      "2/2 [==============================] - 0s 12ms/step - loss: 14.6986 - mse: 318.3358 - mae: 14.6986\n",
      "Epoch 225/500\n",
      "2/2 [==============================] - 0s 13ms/step - loss: 16.7183 - mse: 360.5467 - mae: 16.7183\n",
      "Epoch 226/500\n",
      "2/2 [==============================] - 0s 12ms/step - loss: 15.9320 - mse: 369.7849 - mae: 15.9320\n",
      "Epoch 227/500\n",
      "2/2 [==============================] - 0s 13ms/step - loss: 16.1631 - mse: 369.4907 - mae: 16.1631\n",
      "Epoch 228/500\n",
      "2/2 [==============================] - 0s 48ms/step - loss: 13.9312 - mse: 282.0743 - mae: 13.9312\n",
      "Epoch 229/500\n",
      "2/2 [==============================] - 0s 13ms/step - loss: 18.0499 - mse: 457.3385 - mae: 18.0499\n",
      "Epoch 230/500\n",
      "2/2 [==============================] - 0s 11ms/step - loss: 15.6130 - mse: 314.6588 - mae: 15.6130\n",
      "Epoch 231/500\n",
      "2/2 [==============================] - 0s 11ms/step - loss: 21.2034 - mse: 670.7156 - mae: 21.2034\n",
      "Epoch 232/500\n",
      "2/2 [==============================] - 0s 11ms/step - loss: 25.2753 - mse: 913.7570 - mae: 25.2753\n",
      "Epoch 233/500\n",
      "2/2 [==============================] - 0s 12ms/step - loss: 16.3199 - mse: 387.8053 - mae: 16.3199\n",
      "Epoch 234/500\n",
      "2/2 [==============================] - 0s 13ms/step - loss: 7.2770 - mse: 66.5632 - mae: 7.2770\n",
      "Epoch 235/500\n",
      "2/2 [==============================] - 0s 11ms/step - loss: 16.9699 - mse: 403.1596 - mae: 16.9699\n",
      "Epoch 236/500\n",
      "2/2 [==============================] - 0s 14ms/step - loss: 7.1258 - mse: 69.8043 - mae: 7.1258\n",
      "Epoch 237/500\n",
      "2/2 [==============================] - 0s 11ms/step - loss: 9.2084 - mse: 118.9643 - mae: 9.2084\n",
      "Epoch 238/500\n",
      "2/2 [==============================] - 0s 11ms/step - loss: 8.0990 - mse: 86.7644 - mae: 8.0990\n",
      "Epoch 239/500\n",
      "2/2 [==============================] - 0s 12ms/step - loss: 17.0482 - mse: 437.7783 - mae: 17.0482\n",
      "Epoch 240/500\n",
      "2/2 [==============================] - 0s 11ms/step - loss: 8.8640 - mse: 107.8669 - mae: 8.8640\n",
      "Epoch 241/500\n",
      "2/2 [==============================] - 0s 11ms/step - loss: 13.1675 - mse: 273.1624 - mae: 13.1675\n",
      "Epoch 242/500\n",
      "2/2 [==============================] - 0s 13ms/step - loss: 8.7900 - mse: 104.8290 - mae: 8.7900\n",
      "Epoch 243/500\n",
      "2/2 [==============================] - 0s 13ms/step - loss: 18.8038 - mse: 540.7968 - mae: 18.8038\n",
      "Epoch 244/500\n",
      "2/2 [==============================] - 0s 13ms/step - loss: 14.0588 - mse: 275.5319 - mae: 14.0588\n",
      "Epoch 245/500\n",
      "2/2 [==============================] - 0s 13ms/step - loss: 14.6880 - mse: 290.4005 - mae: 14.6880\n",
      "Epoch 246/500\n",
      "2/2 [==============================] - 0s 12ms/step - loss: 15.8099 - mse: 371.0048 - mae: 15.8099\n",
      "Epoch 247/500\n",
      "2/2 [==============================] - 0s 13ms/step - loss: 17.6882 - mse: 421.8531 - mae: 17.6882\n",
      "Epoch 248/500\n",
      "2/2 [==============================] - 0s 11ms/step - loss: 13.2437 - mse: 251.8487 - mae: 13.2437\n",
      "Epoch 249/500\n",
      "2/2 [==============================] - 0s 10ms/step - loss: 14.5121 - mse: 288.9988 - mae: 14.5121\n",
      "Epoch 250/500\n",
      "2/2 [==============================] - 0s 11ms/step - loss: 23.2405 - mse: 793.7255 - mae: 23.2405\n",
      "Epoch 251/500\n",
      "2/2 [==============================] - 0s 10ms/step - loss: 9.3004 - mse: 118.9545 - mae: 9.3004\n",
      "Epoch 252/500\n",
      "2/2 [==============================] - 0s 12ms/step - loss: 36.6274 - mse: 2191.6492 - mae: 36.6274\n",
      "Epoch 253/500\n",
      "2/2 [==============================] - 0s 15ms/step - loss: 21.7993 - mse: 666.6401 - mae: 21.7993\n",
      "Epoch 254/500\n",
      "2/2 [==============================] - 0s 12ms/step - loss: 7.2801 - mse: 77.9903 - mae: 7.2801\n",
      "Epoch 255/500\n",
      "2/2 [==============================] - 0s 11ms/step - loss: 24.6885 - mse: 881.0073 - mae: 24.6885\n",
      "Epoch 256/500\n",
      "2/2 [==============================] - 0s 11ms/step - loss: 12.4121 - mse: 220.0216 - mae: 12.4121\n",
      "Epoch 257/500\n",
      "2/2 [==============================] - 0s 11ms/step - loss: 10.5751 - mse: 163.7553 - mae: 10.5751\n",
      "Epoch 258/500\n",
      "2/2 [==============================] - 0s 13ms/step - loss: 14.4700 - mse: 321.7053 - mae: 14.4700\n",
      "Epoch 259/500\n",
      "2/2 [==============================] - 0s 14ms/step - loss: 8.6148 - mse: 98.5436 - mae: 8.6148\n",
      "Epoch 260/500\n",
      "2/2 [==============================] - 0s 12ms/step - loss: 43.0107 - mse: 2968.2883 - mae: 43.0107\n",
      "Epoch 261/500\n",
      "2/2 [==============================] - 0s 12ms/step - loss: 18.4362 - mse: 492.3639 - mae: 18.4362\n",
      "Epoch 262/500\n",
      "2/2 [==============================] - 0s 12ms/step - loss: 6.8903 - mse: 94.2690 - mae: 6.8903\n",
      "Epoch 263/500\n",
      "2/2 [==============================] - 0s 17ms/step - loss: 13.7287 - mse: 268.8433 - mae: 13.7287\n",
      "Epoch 264/500\n",
      "2/2 [==============================] - 0s 16ms/step - loss: 21.0298 - mse: 654.7089 - mae: 21.0298\n",
      "Epoch 265/500\n",
      "2/2 [==============================] - 0s 15ms/step - loss: 19.3416 - mse: 543.9300 - mae: 19.3416\n",
      "Epoch 266/500\n",
      "2/2 [==============================] - 0s 13ms/step - loss: 11.4888 - mse: 234.7715 - mae: 11.4888\n",
      "Epoch 267/500\n",
      "2/2 [==============================] - 0s 12ms/step - loss: 7.5349 - mse: 111.8773 - mae: 7.5349\n",
      "Epoch 268/500\n",
      "2/2 [==============================] - 0s 11ms/step - loss: 21.6607 - mse: 671.0269 - mae: 21.6607\n",
      "Epoch 269/500\n",
      "2/2 [==============================] - 0s 11ms/step - loss: 33.1317 - mse: 1648.7887 - mae: 33.1317\n",
      "Epoch 270/500\n",
      "2/2 [==============================] - 0s 10ms/step - loss: 9.8093 - mse: 134.7003 - mae: 9.8093\n",
      "Epoch 271/500\n",
      "2/2 [==============================] - 0s 11ms/step - loss: 7.7128 - mse: 113.6070 - mae: 7.7128\n",
      "Epoch 272/500\n",
      "2/2 [==============================] - 0s 12ms/step - loss: 28.4699 - mse: 1113.5808 - mae: 28.4699\n",
      "Epoch 273/500\n",
      "2/2 [==============================] - 0s 13ms/step - loss: 7.4298 - mse: 83.3575 - mae: 7.4298\n",
      "Epoch 274/500\n",
      "2/2 [==============================] - 0s 11ms/step - loss: 6.3308 - mse: 44.9269 - mae: 6.3308\n",
      "Epoch 275/500\n",
      "2/2 [==============================] - 0s 13ms/step - loss: 31.8670 - mse: 1515.3599 - mae: 31.8670\n",
      "Epoch 276/500\n",
      "2/2 [==============================] - 0s 12ms/step - loss: 4.6685 - mse: 30.7328 - mae: 4.6685\n",
      "Epoch 277/500\n",
      "2/2 [==============================] - 0s 12ms/step - loss: 19.7774 - mse: 613.2337 - mae: 19.7774\n",
      "Epoch 278/500\n",
      "2/2 [==============================] - 0s 12ms/step - loss: 6.4904 - mse: 79.9585 - mae: 6.4904\n",
      "Epoch 279/500\n",
      "2/2 [==============================] - 0s 11ms/step - loss: 18.7036 - mse: 542.8923 - mae: 18.7036\n",
      "Epoch 280/500\n",
      "2/2 [==============================] - 0s 12ms/step - loss: 29.3928 - mse: 1316.5015 - mae: 29.3928\n",
      "Epoch 281/500\n",
      "2/2 [==============================] - 0s 13ms/step - loss: 7.4184 - mse: 80.5445 - mae: 7.4184\n",
      "Epoch 282/500\n",
      "2/2 [==============================] - 0s 13ms/step - loss: 14.3460 - mse: 322.9072 - mae: 14.3460\n",
      "Epoch 283/500\n",
      "2/2 [==============================] - 0s 11ms/step - loss: 10.4226 - mse: 225.2979 - mae: 10.4226\n",
      "Epoch 284/500\n",
      "2/2 [==============================] - 0s 12ms/step - loss: 25.2487 - mse: 891.4126 - mae: 25.2487\n",
      "Epoch 285/500\n",
      "2/2 [==============================] - 0s 12ms/step - loss: 16.1445 - mse: 410.1773 - mae: 16.1445\n",
      "Epoch 286/500\n",
      "2/2 [==============================] - 0s 11ms/step - loss: 5.2427 - mse: 36.6811 - mae: 5.2427\n"
     ]
    },
    {
     "name": "stdout",
     "output_type": "stream",
     "text": [
      "Epoch 287/500\n",
      "2/2 [==============================] - 0s 13ms/step - loss: 20.7639 - mse: 646.8364 - mae: 20.7639\n",
      "Epoch 288/500\n",
      "2/2 [==============================] - 0s 11ms/step - loss: 27.8118 - mse: 1174.7855 - mae: 27.8118\n",
      "Epoch 289/500\n",
      "2/2 [==============================] - 0s 13ms/step - loss: 10.9710 - mse: 241.3337 - mae: 10.9710\n",
      "Epoch 290/500\n",
      "2/2 [==============================] - 0s 11ms/step - loss: 16.1648 - mse: 346.1712 - mae: 16.1648\n",
      "Epoch 291/500\n",
      "2/2 [==============================] - 0s 13ms/step - loss: 16.3287 - mse: 390.0616 - mae: 16.3287\n",
      "Epoch 292/500\n",
      "2/2 [==============================] - 0s 12ms/step - loss: 14.5919 - mse: 283.9949 - mae: 14.5919\n",
      "Epoch 293/500\n",
      "2/2 [==============================] - 0s 10ms/step - loss: 15.9167 - mse: 363.3530 - mae: 15.9167\n",
      "Epoch 294/500\n",
      "2/2 [==============================] - 0s 13ms/step - loss: 24.0399 - mse: 861.0245 - mae: 24.0399\n",
      "Epoch 295/500\n",
      "2/2 [==============================] - 0s 11ms/step - loss: 14.8022 - mse: 318.1086 - mae: 14.8022\n",
      "Epoch 296/500\n",
      "2/2 [==============================] - 0s 14ms/step - loss: 4.3489 - mse: 28.0064 - mae: 4.3489\n",
      "Epoch 297/500\n",
      "2/2 [==============================] - 0s 14ms/step - loss: 11.8531 - mse: 247.0187 - mae: 11.8531\n",
      "Epoch 298/500\n",
      "2/2 [==============================] - 0s 12ms/step - loss: 23.7424 - mse: 821.7765 - mae: 23.7424\n",
      "Epoch 299/500\n",
      "2/2 [==============================] - 0s 14ms/step - loss: 19.0597 - mse: 542.3198 - mae: 19.0597\n",
      "Epoch 300/500\n",
      "2/2 [==============================] - 0s 12ms/step - loss: 8.8248 - mse: 119.1806 - mae: 8.8248\n",
      "Epoch 301/500\n",
      "2/2 [==============================] - 0s 15ms/step - loss: 15.9146 - mse: 365.7713 - mae: 15.9146\n",
      "Epoch 302/500\n",
      "2/2 [==============================] - 0s 13ms/step - loss: 5.7343 - mse: 53.5189 - mae: 5.7343\n",
      "Epoch 303/500\n",
      "2/2 [==============================] - 0s 11ms/step - loss: 22.9638 - mse: 780.0183 - mae: 22.9638\n",
      "Epoch 304/500\n",
      "2/2 [==============================] - 0s 12ms/step - loss: 26.1014 - mse: 939.6801 - mae: 26.1014\n",
      "Epoch 305/500\n",
      "2/2 [==============================] - 0s 10ms/step - loss: 9.5975 - mse: 146.2226 - mae: 9.5975\n",
      "Epoch 306/500\n",
      "2/2 [==============================] - 0s 12ms/step - loss: 17.8646 - mse: 447.0888 - mae: 17.8646\n",
      "Epoch 307/500\n",
      "2/2 [==============================] - 0s 13ms/step - loss: 9.7801 - mse: 179.4236 - mae: 9.7801\n",
      "Epoch 308/500\n",
      "2/2 [==============================] - 0s 11ms/step - loss: 20.5195 - mse: 647.5814 - mae: 20.5195\n",
      "Epoch 309/500\n",
      "2/2 [==============================] - 0s 14ms/step - loss: 13.7109 - mse: 292.8489 - mae: 13.7109\n",
      "Epoch 310/500\n",
      "2/2 [==============================] - 0s 10ms/step - loss: 6.1406 - mse: 75.8535 - mae: 6.1406\n",
      "Epoch 311/500\n",
      "2/2 [==============================] - 0s 12ms/step - loss: 13.9299 - mse: 261.9949 - mae: 13.9299\n",
      "Epoch 312/500\n",
      "2/2 [==============================] - 0s 13ms/step - loss: 30.6201 - mse: 1293.1633 - mae: 30.6201\n",
      "Epoch 313/500\n",
      "2/2 [==============================] - 0s 11ms/step - loss: 4.2542 - mse: 26.6834 - mae: 4.2542\n",
      "Epoch 314/500\n",
      "2/2 [==============================] - 0s 11ms/step - loss: 10.3309 - mse: 175.7780 - mae: 10.3309\n",
      "Epoch 315/500\n",
      "2/2 [==============================] - 0s 14ms/step - loss: 19.4158 - mse: 557.1818 - mae: 19.4158\n",
      "Epoch 316/500\n",
      "2/2 [==============================] - 0s 11ms/step - loss: 6.6310 - mse: 72.6642 - mae: 6.6310\n",
      "Epoch 317/500\n",
      "2/2 [==============================] - 0s 13ms/step - loss: 33.3953 - mse: 1593.1565 - mae: 33.3953\n",
      "Epoch 318/500\n",
      "2/2 [==============================] - 0s 12ms/step - loss: 19.1924 - mse: 517.1906 - mae: 19.1924\n",
      "Epoch 319/500\n",
      "2/2 [==============================] - 0s 13ms/step - loss: 5.5857 - mse: 56.3408 - mae: 5.5857\n",
      "Epoch 320/500\n",
      "2/2 [==============================] - 0s 13ms/step - loss: 23.4397 - mse: 786.0543 - mae: 23.4397\n",
      "Epoch 321/500\n",
      "2/2 [==============================] - 0s 10ms/step - loss: 17.7875 - mse: 446.6989 - mae: 17.7875\n",
      "Epoch 322/500\n",
      "2/2 [==============================] - 0s 13ms/step - loss: 12.5420 - mse: 242.2059 - mae: 12.5420\n",
      "Epoch 323/500\n",
      "2/2 [==============================] - 0s 10ms/step - loss: 18.6099 - mse: 534.9928 - mae: 18.6099\n",
      "Epoch 324/500\n",
      "2/2 [==============================] - 0s 10ms/step - loss: 18.0577 - mse: 486.9227 - mae: 18.0577\n",
      "Epoch 325/500\n",
      "2/2 [==============================] - 0s 11ms/step - loss: 7.9122 - mse: 152.9147 - mae: 7.9122\n",
      "Epoch 326/500\n",
      "2/2 [==============================] - 0s 11ms/step - loss: 21.1538 - mse: 668.9419 - mae: 21.1538\n",
      "Epoch 327/500\n",
      "2/2 [==============================] - 0s 12ms/step - loss: 24.6875 - mse: 862.6904 - mae: 24.6875\n",
      "Epoch 328/500\n",
      "2/2 [==============================] - 0s 11ms/step - loss: 12.6478 - mse: 241.5235 - mae: 12.6478\n",
      "Epoch 329/500\n",
      "2/2 [==============================] - 0s 23ms/step - loss: 17.1450 - mse: 447.2884 - mae: 17.1450\n",
      "Epoch 330/500\n",
      "2/2 [==============================] - 0s 12ms/step - loss: 6.9868 - mse: 86.3385 - mae: 6.9868\n",
      "Epoch 331/500\n",
      "2/2 [==============================] - 0s 11ms/step - loss: 20.6626 - mse: 650.5266 - mae: 20.6626\n",
      "Epoch 332/500\n",
      "2/2 [==============================] - 0s 11ms/step - loss: 11.5069 - mse: 206.6111 - mae: 11.5069\n",
      "Epoch 333/500\n",
      "2/2 [==============================] - 0s 13ms/step - loss: 13.9090 - mse: 297.4727 - mae: 13.9090\n",
      "Epoch 334/500\n",
      "2/2 [==============================] - 0s 11ms/step - loss: 10.1765 - mse: 213.2127 - mae: 10.1765\n",
      "Epoch 335/500\n",
      "2/2 [==============================] - 0s 10ms/step - loss: 13.0358 - mse: 273.4179 - mae: 13.0358\n",
      "Epoch 336/500\n",
      "2/2 [==============================] - 0s 14ms/step - loss: 32.4027 - mse: 1431.7197 - mae: 32.4027\n",
      "Epoch 337/500\n",
      "2/2 [==============================] - 0s 13ms/step - loss: 10.6675 - mse: 177.4532 - mae: 10.6675\n",
      "Epoch 338/500\n",
      "2/2 [==============================] - 0s 11ms/step - loss: 20.1873 - mse: 597.2053 - mae: 20.1873\n",
      "Epoch 339/500\n",
      "2/2 [==============================] - 0s 14ms/step - loss: 33.6628 - mse: 1690.3193 - mae: 33.6628\n",
      "Epoch 340/500\n",
      "2/2 [==============================] - 0s 11ms/step - loss: 8.6222 - mse: 104.7894 - mae: 8.6222\n",
      "Epoch 341/500\n",
      "2/2 [==============================] - 0s 11ms/step - loss: 21.3805 - mse: 639.3572 - mae: 21.3805\n",
      "Epoch 342/500\n",
      "2/2 [==============================] - 0s 16ms/step - loss: 14.1142 - mse: 267.0520 - mae: 14.1142\n",
      "Epoch 343/500\n",
      "2/2 [==============================] - 0s 11ms/step - loss: 11.6699 - mse: 180.8363 - mae: 11.6699\n",
      "Epoch 344/500\n",
      "2/2 [==============================] - 0s 12ms/step - loss: 10.7175 - mse: 229.3952 - mae: 10.7175\n",
      "Epoch 345/500\n",
      "2/2 [==============================] - 0s 13ms/step - loss: 30.8937 - mse: 1342.1130 - mae: 30.8937\n",
      "Epoch 346/500\n",
      "2/2 [==============================] - 0s 11ms/step - loss: 10.6470 - mse: 261.5808 - mae: 10.6470\n",
      "Epoch 347/500\n",
      "2/2 [==============================] - 0s 11ms/step - loss: 25.5563 - mse: 914.6133 - mae: 25.5563\n",
      "Epoch 348/500\n",
      "2/2 [==============================] - 0s 14ms/step - loss: 13.3176 - mse: 274.6722 - mae: 13.3176\n",
      "Epoch 349/500\n",
      "2/2 [==============================] - 0s 10ms/step - loss: 13.0445 - mse: 249.7613 - mae: 13.0445\n",
      "Epoch 350/500\n",
      "2/2 [==============================] - 0s 11ms/step - loss: 15.4124 - mse: 327.5096 - mae: 15.4124\n",
      "Epoch 351/500\n",
      "2/2 [==============================] - 0s 14ms/step - loss: 32.8736 - mse: 1516.9095 - mae: 32.8736\n",
      "Epoch 352/500\n",
      "2/2 [==============================] - 0s 11ms/step - loss: 13.9803 - mse: 273.7865 - mae: 13.9803\n",
      "Epoch 353/500\n",
      "2/2 [==============================] - 0s 12ms/step - loss: 15.9638 - mse: 376.9040 - mae: 15.9638\n",
      "Epoch 354/500\n",
      "2/2 [==============================] - 0s 13ms/step - loss: 13.3335 - mse: 256.0158 - mae: 13.3335\n",
      "Epoch 355/500\n",
      "2/2 [==============================] - 0s 12ms/step - loss: 21.4524 - mse: 690.8699 - mae: 21.4524\n",
      "Epoch 356/500\n",
      "2/2 [==============================] - 0s 13ms/step - loss: 16.3672 - mse: 410.7239 - mae: 16.3672\n",
      "Epoch 357/500\n",
      "2/2 [==============================] - 0s 14ms/step - loss: 11.8957 - mse: 243.1849 - mae: 11.8957\n",
      "Epoch 358/500\n",
      "2/2 [==============================] - 0s 11ms/step - loss: 15.0276 - mse: 339.8979 - mae: 15.0276\n",
      "Epoch 359/500\n"
     ]
    },
    {
     "name": "stdout",
     "output_type": "stream",
     "text": [
      "2/2 [==============================] - 0s 13ms/step - loss: 12.2484 - mse: 321.0821 - mae: 12.2484\n",
      "Epoch 360/500\n",
      "2/2 [==============================] - 0s 13ms/step - loss: 20.1827 - mse: 612.1664 - mae: 20.1827\n",
      "Epoch 361/500\n",
      "2/2 [==============================] - 0s 12ms/step - loss: 11.1855 - mse: 224.6324 - mae: 11.1855\n",
      "Epoch 362/500\n",
      "2/2 [==============================] - 0s 10ms/step - loss: 6.8918 - mse: 75.7615 - mae: 6.8918\n",
      "Epoch 363/500\n",
      "2/2 [==============================] - 0s 11ms/step - loss: 24.1851 - mse: 854.4124 - mae: 24.1851\n",
      "Epoch 364/500\n",
      "2/2 [==============================] - 0s 14ms/step - loss: 30.0227 - mse: 1310.9965 - mae: 30.0227\n",
      "Epoch 365/500\n",
      "2/2 [==============================] - 0s 10ms/step - loss: 8.4817 - mse: 110.6922 - mae: 8.4817\n",
      "Epoch 366/500\n",
      "2/2 [==============================] - 0s 12ms/step - loss: 6.1440 - mse: 48.4414 - mae: 6.1440\n",
      "Epoch 367/500\n",
      "2/2 [==============================] - 0s 11ms/step - loss: 35.1273 - mse: 1876.2107 - mae: 35.1273\n",
      "Epoch 368/500\n",
      "2/2 [==============================] - 0s 13ms/step - loss: 7.5080 - mse: 101.4147 - mae: 7.5080\n",
      "Epoch 369/500\n",
      "2/2 [==============================] - 0s 12ms/step - loss: 9.3264 - mse: 131.2621 - mae: 9.3264\n",
      "Epoch 370/500\n",
      "2/2 [==============================] - 0s 12ms/step - loss: 11.0300 - mse: 208.6056 - mae: 11.0300\n",
      "Epoch 371/500\n",
      "2/2 [==============================] - 0s 12ms/step - loss: 9.0886 - mse: 143.6164 - mae: 9.0886\n",
      "Epoch 372/500\n",
      "2/2 [==============================] - 0s 13ms/step - loss: 6.9764 - mse: 104.0960 - mae: 6.9764\n",
      "Epoch 373/500\n",
      "2/2 [==============================] - 0s 13ms/step - loss: 25.9310 - mse: 976.0508 - mae: 25.9310\n",
      "Epoch 374/500\n",
      "2/2 [==============================] - 0s 11ms/step - loss: 11.0150 - mse: 207.8050 - mae: 11.0150\n",
      "Epoch 375/500\n",
      "2/2 [==============================] - 0s 14ms/step - loss: 10.7857 - mse: 200.4591 - mae: 10.7857\n",
      "Epoch 376/500\n",
      "2/2 [==============================] - 0s 11ms/step - loss: 13.5696 - mse: 259.8380 - mae: 13.5696\n",
      "Epoch 377/500\n",
      "2/2 [==============================] - 0s 12ms/step - loss: 15.2768 - mse: 309.8563 - mae: 15.2768\n",
      "Epoch 378/500\n",
      "2/2 [==============================] - 0s 14ms/step - loss: 16.4169 - mse: 432.1130 - mae: 16.4169\n",
      "Epoch 379/500\n",
      "2/2 [==============================] - 0s 11ms/step - loss: 21.1570 - mse: 613.0458 - mae: 21.1570\n",
      "Epoch 380/500\n",
      "2/2 [==============================] - 0s 12ms/step - loss: 32.5890 - mse: 1584.6213 - mae: 32.5890\n",
      "Epoch 381/500\n",
      "2/2 [==============================] - 0s 13ms/step - loss: 7.9915 - mse: 95.6589 - mae: 7.9915\n",
      "Epoch 382/500\n",
      "2/2 [==============================] - 0s 11ms/step - loss: 12.3918 - mse: 255.5734 - mae: 12.3918\n",
      "Epoch 383/500\n",
      "2/2 [==============================] - 0s 12ms/step - loss: 7.3085 - mse: 101.9955 - mae: 7.3085\n",
      "Epoch 384/500\n",
      "2/2 [==============================] - 0s 10ms/step - loss: 6.4113 - mse: 66.8004 - mae: 6.4113\n",
      "Epoch 385/500\n",
      "2/2 [==============================] - 0s 14ms/step - loss: 11.6552 - mse: 253.7365 - mae: 11.6552\n",
      "Epoch 386/500\n",
      "2/2 [==============================] - 0s 12ms/step - loss: 20.0147 - mse: 613.7301 - mae: 20.0147\n",
      "Epoch 387/500\n",
      "2/2 [==============================] - 0s 11ms/step - loss: 24.2872 - mse: 853.9446 - mae: 24.2872\n",
      "Epoch 388/500\n",
      "2/2 [==============================] - 0s 12ms/step - loss: 7.6589 - mse: 89.2875 - mae: 7.6589\n",
      "Epoch 389/500\n",
      "2/2 [==============================] - 0s 12ms/step - loss: 14.3202 - mse: 311.5692 - mae: 14.3202\n",
      "Epoch 390/500\n",
      "2/2 [==============================] - 0s 12ms/step - loss: 8.2617 - mse: 162.4862 - mae: 8.2617\n",
      "Epoch 391/500\n",
      "2/2 [==============================] - 0s 12ms/step - loss: 15.5136 - mse: 328.4973 - mae: 15.5136\n",
      "Epoch 392/500\n",
      "2/2 [==============================] - 0s 11ms/step - loss: 17.1497 - mse: 477.8673 - mae: 17.1497\n",
      "Epoch 393/500\n",
      "2/2 [==============================] - 0s 11ms/step - loss: 10.5187 - mse: 256.5607 - mae: 10.5187\n",
      "Epoch 394/500\n",
      "2/2 [==============================] - 0s 13ms/step - loss: 14.0796 - mse: 270.5413 - mae: 14.0796\n",
      "Epoch 395/500\n",
      "2/2 [==============================] - 0s 10ms/step - loss: 28.4201 - mse: 1121.2473 - mae: 28.4201\n",
      "Epoch 396/500\n",
      "2/2 [==============================] - 0s 12ms/step - loss: 8.5725 - mse: 116.1786 - mae: 8.5725\n",
      "Epoch 397/500\n",
      "2/2 [==============================] - 0s 12ms/step - loss: 11.3037 - mse: 232.1565 - mae: 11.3037\n",
      "Epoch 398/500\n",
      "2/2 [==============================] - 0s 11ms/step - loss: 6.9563 - mse: 79.1656 - mae: 6.9563\n",
      "Epoch 399/500\n",
      "2/2 [==============================] - 0s 10ms/step - loss: 14.1197 - mse: 313.0749 - mae: 14.1197\n",
      "Epoch 400/500\n",
      "2/2 [==============================] - 0s 12ms/step - loss: 6.7424 - mse: 61.3054 - mae: 6.7424\n",
      "Epoch 401/500\n",
      "2/2 [==============================] - 0s 11ms/step - loss: 7.9954 - mse: 114.5748 - mae: 7.9954\n",
      "Epoch 402/500\n",
      "2/2 [==============================] - 0s 13ms/step - loss: 16.3961 - mse: 388.7039 - mae: 16.3961\n",
      "Epoch 403/500\n",
      "2/2 [==============================] - 0s 11ms/step - loss: 12.3883 - mse: 294.4366 - mae: 12.3883\n",
      "Epoch 404/500\n",
      "2/2 [==============================] - 0s 11ms/step - loss: 22.9770 - mse: 740.6231 - mae: 22.9770\n",
      "Epoch 405/500\n",
      "2/2 [==============================] - 0s 11ms/step - loss: 18.0044 - mse: 496.9243 - mae: 18.0044\n",
      "Epoch 406/500\n",
      "2/2 [==============================] - 0s 12ms/step - loss: 7.0556 - mse: 75.8712 - mae: 7.0556\n",
      "Epoch 407/500\n",
      "2/2 [==============================] - 0s 11ms/step - loss: 12.5823 - mse: 268.6122 - mae: 12.5823\n",
      "Epoch 408/500\n",
      "2/2 [==============================] - 0s 13ms/step - loss: 5.6884 - mse: 41.3071 - mae: 5.6884\n",
      "Epoch 409/500\n",
      "2/2 [==============================] - 0s 15ms/step - loss: 31.0450 - mse: 1492.6351 - mae: 31.0450\n",
      "Epoch 410/500\n",
      "2/2 [==============================] - 0s 10ms/step - loss: 9.3087 - mse: 219.1775 - mae: 9.3087\n",
      "Epoch 411/500\n",
      "2/2 [==============================] - 0s 11ms/step - loss: 14.9117 - mse: 287.5805 - mae: 14.9117\n",
      "Epoch 412/500\n",
      "2/2 [==============================] - 0s 12ms/step - loss: 21.8093 - mse: 726.6034 - mae: 21.8093\n",
      "Epoch 413/500\n",
      "2/2 [==============================] - 0s 12ms/step - loss: 12.5043 - mse: 244.3728 - mae: 12.5043\n",
      "Epoch 414/500\n",
      "2/2 [==============================] - 0s 12ms/step - loss: 6.1095 - mse: 87.2946 - mae: 6.1095\n",
      "Epoch 415/500\n",
      "2/2 [==============================] - 0s 10ms/step - loss: 13.2551 - mse: 240.6036 - mae: 13.2551\n",
      "Epoch 416/500\n",
      "2/2 [==============================] - 0s 12ms/step - loss: 27.4938 - mse: 1042.9973 - mae: 27.4938\n",
      "Epoch 417/500\n",
      "2/2 [==============================] - 0s 11ms/step - loss: 10.4754 - mse: 203.7862 - mae: 10.4754\n",
      "Epoch 418/500\n",
      "2/2 [==============================] - 0s 11ms/step - loss: 12.8818 - mse: 238.1142 - mae: 12.8818\n",
      "Epoch 419/500\n",
      "2/2 [==============================] - 0s 13ms/step - loss: 15.9212 - mse: 377.9974 - mae: 15.9212\n",
      "Epoch 420/500\n",
      "2/2 [==============================] - 0s 12ms/step - loss: 24.8303 - mse: 854.5519 - mae: 24.8303\n",
      "Epoch 421/500\n",
      "2/2 [==============================] - 0s 11ms/step - loss: 17.1866 - mse: 435.8951 - mae: 17.1866\n",
      "Epoch 422/500\n",
      "2/2 [==============================] - 0s 10ms/step - loss: 7.8367 - mse: 154.1956 - mae: 7.8367\n",
      "Epoch 423/500\n",
      "2/2 [==============================] - 0s 12ms/step - loss: 25.4550 - mse: 912.5546 - mae: 25.4550\n",
      "Epoch 424/500\n",
      "2/2 [==============================] - 0s 12ms/step - loss: 14.9354 - mse: 363.8939 - mae: 14.9354\n",
      "Epoch 425/500\n",
      "2/2 [==============================] - 0s 11ms/step - loss: 7.1155 - mse: 74.8197 - mae: 7.1155\n",
      "Epoch 426/500\n",
      "2/2 [==============================] - 0s 11ms/step - loss: 20.1286 - mse: 560.7933 - mae: 20.1286\n",
      "Epoch 427/500\n",
      "2/2 [==============================] - 0s 10ms/step - loss: 6.2739 - mse: 85.8700 - mae: 6.2739\n",
      "Epoch 428/500\n",
      "2/2 [==============================] - 0s 12ms/step - loss: 12.6367 - mse: 270.8260 - mae: 12.6367\n",
      "Epoch 429/500\n",
      "2/2 [==============================] - 0s 13ms/step - loss: 12.0732 - mse: 230.2074 - mae: 12.0732\n",
      "Epoch 430/500\n",
      "2/2 [==============================] - 0s 12ms/step - loss: 11.0751 - mse: 242.8233 - mae: 11.0751\n",
      "Epoch 431/500\n",
      "2/2 [==============================] - 0s 11ms/step - loss: 10.0050 - mse: 193.9993 - mae: 10.0050\n",
      "Epoch 432/500\n"
     ]
    },
    {
     "name": "stdout",
     "output_type": "stream",
     "text": [
      "2/2 [==============================] - 0s 12ms/step - loss: 13.3385 - mse: 290.4098 - mae: 13.3385\n",
      "Epoch 433/500\n",
      "2/2 [==============================] - 0s 11ms/step - loss: 11.3960 - mse: 294.0103 - mae: 11.3960\n",
      "Epoch 434/500\n",
      "2/2 [==============================] - 0s 11ms/step - loss: 30.4268 - mse: 1298.8074 - mae: 30.4268\n",
      "Epoch 435/500\n",
      "2/2 [==============================] - 0s 14ms/step - loss: 10.5172 - mse: 280.9436 - mae: 10.5172\n",
      "Epoch 436/500\n",
      "2/2 [==============================] - 0s 13ms/step - loss: 28.9140 - mse: 1218.6893 - mae: 28.9140\n",
      "Epoch 437/500\n",
      "2/2 [==============================] - 0s 12ms/step - loss: 8.6329 - mse: 208.0461 - mae: 8.6329\n",
      "Epoch 438/500\n",
      "2/2 [==============================] - 0s 12ms/step - loss: 12.7461 - mse: 262.8748 - mae: 12.7461\n",
      "Epoch 439/500\n",
      "2/2 [==============================] - 0s 11ms/step - loss: 33.6965 - mse: 1572.1326 - mae: 33.6965\n",
      "Epoch 440/500\n",
      "2/2 [==============================] - 0s 14ms/step - loss: 15.1286 - mse: 296.0139 - mae: 15.1286\n",
      "Epoch 441/500\n",
      "2/2 [==============================] - 0s 11ms/step - loss: 17.5061 - mse: 489.5427 - mae: 17.5061\n",
      "Epoch 442/500\n",
      "2/2 [==============================] - 0s 11ms/step - loss: 22.3580 - mse: 753.8837 - mae: 22.3580\n",
      "Epoch 443/500\n",
      "2/2 [==============================] - 0s 14ms/step - loss: 23.4587 - mse: 775.3542 - mae: 23.4587\n",
      "Epoch 444/500\n",
      "2/2 [==============================] - 0s 11ms/step - loss: 10.8991 - mse: 201.2125 - mae: 10.8991\n",
      "Epoch 445/500\n",
      "2/2 [==============================] - 0s 14ms/step - loss: 14.9494 - mse: 318.2940 - mae: 14.9494\n",
      "Epoch 446/500\n",
      "2/2 [==============================] - 0s 11ms/step - loss: 18.0448 - mse: 518.0124 - mae: 18.0448\n",
      "Epoch 447/500\n",
      "2/2 [==============================] - 0s 11ms/step - loss: 5.4015 - mse: 51.4257 - mae: 5.4015\n",
      "Epoch 448/500\n",
      "2/2 [==============================] - 0s 13ms/step - loss: 10.0977 - mse: 251.7955 - mae: 10.0977\n",
      "Epoch 449/500\n",
      "2/2 [==============================] - 0s 11ms/step - loss: 14.0413 - mse: 278.2463 - mae: 14.0413\n",
      "Epoch 450/500\n",
      "2/2 [==============================] - 0s 14ms/step - loss: 16.8140 - mse: 426.8834 - mae: 16.8140\n",
      "Epoch 451/500\n",
      "2/2 [==============================] - 0s 15ms/step - loss: 14.3095 - mse: 305.0583 - mae: 14.3095\n",
      "Epoch 452/500\n",
      "2/2 [==============================] - 0s 12ms/step - loss: 30.6519 - mse: 1332.4226 - mae: 30.6519\n",
      "Epoch 453/500\n",
      "2/2 [==============================] - 0s 16ms/step - loss: 7.6592 - mse: 156.7728 - mae: 7.6592\n",
      "Epoch 454/500\n",
      "2/2 [==============================] - 0s 13ms/step - loss: 28.1830 - mse: 1107.3848 - mae: 28.1830\n",
      "Epoch 455/500\n",
      "2/2 [==============================] - 0s 12ms/step - loss: 7.9312 - mse: 118.1359 - mae: 7.9312\n",
      "Epoch 456/500\n",
      "2/2 [==============================] - 0s 10ms/step - loss: 10.4350 - mse: 287.2538 - mae: 10.4350\n",
      "Epoch 457/500\n",
      "2/2 [==============================] - 0s 11ms/step - loss: 15.0599 - mse: 320.0791 - mae: 15.0599\n",
      "Epoch 458/500\n",
      "2/2 [==============================] - 0s 14ms/step - loss: 16.5877 - mse: 442.4429 - mae: 16.5877\n",
      "Epoch 459/500\n",
      "2/2 [==============================] - 0s 11ms/step - loss: 26.9025 - mse: 1036.7274 - mae: 26.9025\n",
      "Epoch 460/500\n",
      "2/2 [==============================] - 0s 15ms/step - loss: 12.3708 - mse: 248.0581 - mae: 12.3708\n",
      "Epoch 461/500\n",
      "2/2 [==============================] - 0s 9ms/step - loss: 12.5272 - mse: 272.3002 - mae: 12.5272\n",
      "Epoch 462/500\n",
      "2/2 [==============================] - 0s 11ms/step - loss: 13.3374 - mse: 245.8778 - mae: 13.3374\n",
      "Epoch 463/500\n",
      "2/2 [==============================] - 0s 13ms/step - loss: 29.5904 - mse: 1222.8193 - mae: 29.5904\n",
      "Epoch 464/500\n",
      "2/2 [==============================] - 0s 11ms/step - loss: 3.4693 - mse: 21.8205 - mae: 3.4693\n",
      "Epoch 465/500\n",
      "2/2 [==============================] - 0s 12ms/step - loss: 12.5019 - mse: 228.9830 - mae: 12.5019\n",
      "Epoch 466/500\n",
      "2/2 [==============================] - 0s 12ms/step - loss: 17.4651 - mse: 496.3001 - mae: 17.4651\n",
      "Epoch 467/500\n",
      "2/2 [==============================] - 0s 11ms/step - loss: 24.1951 - mse: 857.2440 - mae: 24.1951\n",
      "Epoch 468/500\n",
      "2/2 [==============================] - 0s 15ms/step - loss: 6.5179 - mse: 74.7080 - mae: 6.5179\n",
      "Epoch 469/500\n",
      "2/2 [==============================] - 0s 14ms/step - loss: 28.0463 - mse: 1159.1577 - mae: 28.0463\n",
      "Epoch 470/500\n",
      "2/2 [==============================] - 0s 10ms/step - loss: 14.8433 - mse: 344.9905 - mae: 14.8433\n",
      "Epoch 471/500\n",
      "2/2 [==============================] - 0s 15ms/step - loss: 11.6025 - mse: 238.2311 - mae: 11.6025\n",
      "Epoch 472/500\n",
      "2/2 [==============================] - 0s 12ms/step - loss: 15.6441 - mse: 349.8954 - mae: 15.6441\n",
      "Epoch 473/500\n",
      "2/2 [==============================] - 0s 11ms/step - loss: 15.7493 - mse: 421.1378 - mae: 15.7493\n",
      "Epoch 474/500\n",
      "2/2 [==============================] - 0s 14ms/step - loss: 30.1775 - mse: 1352.8308 - mae: 30.1775\n",
      "Epoch 475/500\n",
      "2/2 [==============================] - 0s 11ms/step - loss: 9.7246 - mse: 171.5168 - mae: 9.7246\n",
      "Epoch 476/500\n",
      "2/2 [==============================] - 0s 11ms/step - loss: 13.3994 - mse: 246.3140 - mae: 13.3994\n",
      "Epoch 477/500\n",
      "2/2 [==============================] - 0s 13ms/step - loss: 29.6759 - mse: 1230.0234 - mae: 29.6759\n",
      "Epoch 478/500\n",
      "2/2 [==============================] - 0s 11ms/step - loss: 3.0770 - mse: 13.4180 - mae: 3.0770\n",
      "Epoch 479/500\n",
      "2/2 [==============================] - 0s 11ms/step - loss: 6.0449 - mse: 60.5672 - mae: 6.0449\n",
      "Epoch 480/500\n",
      "2/2 [==============================] - 0s 12ms/step - loss: 19.6546 - mse: 560.1170 - mae: 19.6546\n",
      "Epoch 481/500\n",
      "2/2 [==============================] - 0s 10ms/step - loss: 10.9031 - mse: 297.5357 - mae: 10.9031\n",
      "Epoch 482/500\n",
      "2/2 [==============================] - 0s 12ms/step - loss: 18.3858 - mse: 553.8072 - mae: 18.3858\n",
      "Epoch 483/500\n",
      "2/2 [==============================] - 0s 15ms/step - loss: 19.9544 - mse: 562.8718 - mae: 19.9544\n",
      "Epoch 484/500\n",
      "2/2 [==============================] - 0s 11ms/step - loss: 18.1308 - mse: 461.9333 - mae: 18.1308\n",
      "Epoch 485/500\n",
      "2/2 [==============================] - 0s 12ms/step - loss: 7.8831 - mse: 198.2836 - mae: 7.8831\n",
      "Epoch 486/500\n",
      "2/2 [==============================] - 0s 12ms/step - loss: 19.4226 - mse: 574.5111 - mae: 19.4226\n",
      "Epoch 487/500\n",
      "2/2 [==============================] - 0s 12ms/step - loss: 12.4933 - mse: 274.8602 - mae: 12.4933\n",
      "Epoch 488/500\n",
      "2/2 [==============================] - 0s 11ms/step - loss: 10.8556 - mse: 186.3368 - mae: 10.8556\n",
      "Epoch 489/500\n",
      "2/2 [==============================] - 0s 10ms/step - loss: 16.0001 - mse: 347.6443 - mae: 16.0001\n",
      "Epoch 490/500\n",
      "2/2 [==============================] - 0s 12ms/step - loss: 14.2400 - mse: 281.4656 - mae: 14.2400\n",
      "Epoch 491/500\n",
      "2/2 [==============================] - 0s 12ms/step - loss: 26.2892 - mse: 1007.3566 - mae: 26.2892\n",
      "Epoch 492/500\n",
      "2/2 [==============================] - 0s 13ms/step - loss: 13.9582 - mse: 312.5233 - mae: 13.9582\n",
      "Epoch 493/500\n",
      "2/2 [==============================] - 0s 14ms/step - loss: 10.2922 - mse: 315.2241 - mae: 10.2922\n",
      "Epoch 494/500\n",
      "2/2 [==============================] - 0s 11ms/step - loss: 12.8482 - mse: 228.9357 - mae: 12.8482\n",
      "Epoch 495/500\n",
      "2/2 [==============================] - 0s 12ms/step - loss: 13.8427 - mse: 258.7547 - mae: 13.8427\n",
      "Epoch 496/500\n",
      "2/2 [==============================] - 0s 13ms/step - loss: 12.1166 - mse: 233.9868 - mae: 12.1166\n",
      "Epoch 497/500\n",
      "2/2 [==============================] - 0s 12ms/step - loss: 17.1620 - mse: 494.4150 - mae: 17.1620\n",
      "Epoch 498/500\n",
      "2/2 [==============================] - 0s 13ms/step - loss: 13.8268 - mse: 290.1657 - mae: 13.8268\n",
      "Epoch 499/500\n",
      "2/2 [==============================] - 0s 14ms/step - loss: 2.7831 - mse: 11.7577 - mae: 2.7831\n",
      "Epoch 500/500\n",
      "2/2 [==============================] - 0s 12ms/step - loss: 12.6828 - mse: 300.1781 - mae: 12.6828\n"
     ]
    },
    {
     "data": {
      "text/plain": [
       "<keras.callbacks.History at 0x2804b91edf0>"
      ]
     },
     "execution_count": 66,
     "metadata": {},
     "output_type": "execute_result"
    }
   ],
   "source": [
    "tf.random.set_seed(42)\n",
    "X_train_model_3 = tf.reshape(X_train,shape=(-1,1))\n",
    "y_train_model_3 = tf.reshape(y_train,shape=(-1,1))\n",
    "X_test_model_3  = X_test\n",
    "y_test_model_3  = y_test\n",
    "# create the model\n",
    "model_3 = tf.keras.Sequential([\n",
    "    tf.keras.layers.Dense(units=10,name='model_2_hidden_1'),\n",
    "    tf.keras.layers.Dense(units=1,name='model_2_output')\n",
    "],name='model_3')\n",
    "# compile the model.\n",
    "model_3.compile(loss = tf.keras.losses.mae,\n",
    "               optimizer=tf.keras.optimizers.SGD(),\n",
    "               metrics=['mse','mae'])\n",
    "# build the model.\n",
    "model_3.build(input_shape=X_train_model_3.shape)\n",
    "# model summary\n",
    "model_3.summary()\n",
    "# fit the model\n",
    "model_3.fit(X_train_model_3,y_train_model_3,epochs=500)"
   ]
  },
  {
   "cell_type": "code",
   "execution_count": 67,
   "id": "efae768a",
   "metadata": {},
   "outputs": [
    {
     "name": "stdout",
     "output_type": "stream",
     "text": [
      "1/1 [==============================] - 0s 200ms/step\n"
     ]
    },
    {
     "data": {
      "text/plain": [
       "(<tf.Tensor: shape=(10,), dtype=float32, numpy=\n",
       " array([18.042515, 18.932566, 19.822615, 20.712664, 21.602713, 22.492762,\n",
       "        23.382812, 24.272861, 25.162912, 26.052961], dtype=float32)>,\n",
       " <tf.Tensor: shape=(10,), dtype=int32, numpy=array([ 70,  74,  78,  82,  86,  90,  94,  98, 102, 106])>)"
      ]
     },
     "execution_count": 67,
     "metadata": {},
     "output_type": "execute_result"
    }
   ],
   "source": [
    "y_pred_model_3 = model_3.predict(X_test_model_3)\n",
    "tf.squeeze(tf.constant(y_pred_model_3)),y_test_model_3"
   ]
  },
  {
   "cell_type": "code",
   "execution_count": 68,
   "id": "8bd521e8",
   "metadata": {},
   "outputs": [
    {
     "data": {
      "image/png": "[encoded data removed]",
      "text/plain": [
       "<Figure size 1000x700 with 1 Axes>"
      ]
     },
     "metadata": {},
     "output_type": "display_data"
    }
   ],
   "source": [
    "plot_prediction(train_data=X_train_model_3,\n",
    "               train_labels=y_train_model_3,\n",
    "               test_data=X_test_model_3,\n",
    "               test_labels=y_test_model_3,\n",
    "               predictions=y_pred_model_3)"
   ]
  },
  {
   "cell_type": "code",
   "execution_count": 69,
   "id": "ceabefa3",
   "metadata": {},
   "outputs": [
    {
     "data": {
      "text/plain": [
       "(<tf.Tensor: shape=(), dtype=int32, numpy=66>,\n",
       " <tf.Tensor: shape=(), dtype=int32, numpy=4486>)"
      ]
     },
     "execution_count": 69,
     "metadata": {},
     "output_type": "execute_result"
    }
   ],
   "source": [
    "mae_model_3 = tf.metrics.mean_absolute_error(tf.squeeze(tf.constant(y_pred_model_3)),y_test_model_3)\n",
    "mse_model_3 = tf.metrics.mean_squared_error(tf.squeeze(tf.constant(y_pred_model_3)),y_test_model_3)\n",
    "mae_model_3,mse_model_3"
   ]
  },
  {
   "cell_type": "markdown",
   "id": "6af42e3a",
   "metadata": {},
   "source": [
    "# Comparing the results of our experiments"
   ]
  },
  {
   "cell_type": "code",
   "execution_count": 70,
   "id": "76b861a4",
   "metadata": {},
   "outputs": [
    {
     "data": {
      "text/html": [
       "<div>\n",
       "<style scoped>\n",
       "    .dataframe tbody tr th:only-of-type {\n",
       "        vertical-align: middle;\n",
       "    }\n",
       "\n",
       "    .dataframe tbody tr th {\n",
       "        vertical-align: top;\n",
       "    }\n",
       "\n",
       "    .dataframe thead th {\n",
       "        text-align: right;\n",
       "    }\n",
       "</style>\n",
       "<table border=\"1\" class=\"dataframe\">\n",
       "  <thead>\n",
       "    <tr style=\"text-align: right;\">\n",
       "      <th></th>\n",
       "      <th>model</th>\n",
       "      <th>mae</th>\n",
       "      <th>mse</th>\n",
       "    </tr>\n",
       "  </thead>\n",
       "  <tbody>\n",
       "    <tr>\n",
       "      <th>0</th>\n",
       "      <td>model_1</td>\n",
       "      <td>10.197696</td>\n",
       "      <td>103.993088</td>\n",
       "    </tr>\n",
       "    <tr>\n",
       "      <th>1</th>\n",
       "      <td>model_2</td>\n",
       "      <td>1.104187</td>\n",
       "      <td>1.755783</td>\n",
       "    </tr>\n",
       "    <tr>\n",
       "      <th>2</th>\n",
       "      <td>model_3</td>\n",
       "      <td>66.000000</td>\n",
       "      <td>4486.000000</td>\n",
       "    </tr>\n",
       "  </tbody>\n",
       "</table>\n",
       "</div>"
      ],
      "text/plain": [
       "     model        mae          mse\n",
       "0  model_1  10.197696   103.993088\n",
       "1  model_2   1.104187     1.755783\n",
       "2  model_3  66.000000  4486.000000"
      ]
     },
     "execution_count": 70,
     "metadata": {},
     "output_type": "execute_result"
    }
   ],
   "source": [
    "import pandas as pd\n",
    "model_results = [  ['model_1', mae_model_1.numpy(),mse_model_1.numpy()],\n",
    "                ['model_2', mae_model_2.numpy(),mse_model_2.numpy()],\n",
    "                ['model_3', mae_model_3.numpy(),mse_model_3.numpy()]]\n",
    "all_results = pd.DataFrame(model_results,columns=['model','mae','mse'])\n",
    "all_results"
   ]
  },
  {
   "cell_type": "code",
   "execution_count": 71,
   "id": "85ed2aad",
   "metadata": {},
   "outputs": [
    {
     "name": "stdout",
     "output_type": "stream",
     "text": [
      "Model: \"model_1\"\n",
      "_________________________________________________________________\n",
      " Layer (type)                Output Shape              Param #   \n",
      "=================================================================\n",
      " Output_Layer (Dense)        (None, 1)                 2         \n",
      "                                                                 \n",
      "=================================================================\n",
      "Total params: 2\n",
      "Trainable params: 2\n",
      "Non-trainable params: 0\n",
      "_________________________________________________________________\n"
     ]
    }
   ],
   "source": [
    "model_1.summary()"
   ]
  },
  {
   "cell_type": "code",
   "execution_count": 72,
   "id": "a0e789d0",
   "metadata": {},
   "outputs": [
    {
     "name": "stdout",
     "output_type": "stream",
     "text": [
      "Model: \"model_2\"\n",
      "_________________________________________________________________\n",
      " Layer (type)                Output Shape              Param #   \n",
      "=================================================================\n",
      " model_2_hidden_1 (Dense)    (None, 10)                20        \n",
      "                                                                 \n",
      " model_2_output (Dense)      (None, 1)                 11        \n",
      "                                                                 \n",
      "=================================================================\n",
      "Total params: 31\n",
      "Trainable params: 31\n",
      "Non-trainable params: 0\n",
      "_________________________________________________________________\n"
     ]
    }
   ],
   "source": [
    "model_2.summary()"
   ]
  },
  {
   "cell_type": "code",
   "execution_count": 73,
   "id": "c003181b",
   "metadata": {},
   "outputs": [
    {
     "name": "stdout",
     "output_type": "stream",
     "text": [
      "Model: \"model_3\"\n",
      "_________________________________________________________________\n",
      " Layer (type)                Output Shape              Param #   \n",
      "=================================================================\n",
      " model_2_hidden_1 (Dense)    (None, 10)                20        \n",
      "                                                                 \n",
      " model_2_output (Dense)      (None, 1)                 11        \n",
      "                                                                 \n",
      "=================================================================\n",
      "Total params: 31\n",
      "Trainable params: 31\n",
      "Non-trainable params: 0\n",
      "_________________________________________________________________\n"
     ]
    }
   ],
   "source": [
    "model_3.summary()"
   ]
  },
  {
   "cell_type": "markdown",
   "id": "6766d805",
   "metadata": {},
   "source": [
    "# Saving Models"
   ]
  },
  {
   "cell_type": "code",
   "execution_count": 74,
   "id": "7b64011c",
   "metadata": {},
   "outputs": [
    {
     "name": "stderr",
     "output_type": "stream",
     "text": [
      "WARNING:absl:Function `_wrapped_model` contains input name(s) Output_Layer_input with unsupported characters which will be renamed to output_layer_input in the SavedModel.\n"
     ]
    },
    {
     "name": "stdout",
     "output_type": "stream",
     "text": [
      "INFO:tensorflow:Assets written to: model_1_format\\assets\n"
     ]
    },
    {
     "name": "stderr",
     "output_type": "stream",
     "text": [
      "INFO:tensorflow:Assets written to: model_1_format\\assets\n"
     ]
    }
   ],
   "source": [
    "model_1.save('model_1_format')"
   ]
  },
  {
   "cell_type": "code",
   "execution_count": 75,
   "id": "04e04b34",
   "metadata": {},
   "outputs": [],
   "source": [
    "model_1.save('model_1.h5')"
   ]
  },
  {
   "cell_type": "markdown",
   "id": "2610f7a3",
   "metadata": {},
   "source": [
    "# Load and test the model"
   ]
  },
  {
   "cell_type": "code",
   "execution_count": 76,
   "id": "36bd6cb5",
   "metadata": {},
   "outputs": [
    {
     "name": "stdout",
     "output_type": "stream",
     "text": [
      "Model: \"model_1\"\n",
      "_________________________________________________________________\n",
      " Layer (type)                Output Shape              Param #   \n",
      "=================================================================\n",
      " Output_Layer (Dense)        (None, 1)                 2         \n",
      "                                                                 \n",
      "=================================================================\n",
      "Total params: 2\n",
      "Trainable params: 2\n",
      "Non-trainable params: 0\n",
      "_________________________________________________________________\n"
     ]
    }
   ],
   "source": [
    "model_1_saved = tf.keras.models.load_model('model_1_format')\n",
    "model_1_saved.summary()"
   ]
  },
  {
   "cell_type": "code",
   "execution_count": 77,
   "id": "b4bfb1d6",
   "metadata": {},
   "outputs": [
    {
     "name": "stdout",
     "output_type": "stream",
     "text": [
      "1/1 [==============================] - 0s 281ms/step\n"
     ]
    },
    {
     "data": {
      "text/plain": [
       "array([[93.23476]], dtype=float32)"
      ]
     },
     "execution_count": 77,
     "metadata": {},
     "output_type": "execute_result"
    }
   ],
   "source": [
    "model_1_saved.predict([100])"
   ]
  },
  {
   "cell_type": "code",
   "execution_count": 78,
   "id": "6ca6393a",
   "metadata": {},
   "outputs": [
    {
     "name": "stdout",
     "output_type": "stream",
     "text": [
      "1/1 [==============================] - 0s 172ms/step\n"
     ]
    },
    {
     "data": {
      "text/plain": [
       "array([[80.35986]], dtype=float32)"
      ]
     },
     "execution_count": 78,
     "metadata": {},
     "output_type": "execute_result"
    }
   ],
   "source": [
    "model_1_saved.predict([86])"
   ]
  },
  {
   "cell_type": "code",
   "execution_count": 79,
   "id": "0e1aaba6",
   "metadata": {},
   "outputs": [
    {
     "name": "stdout",
     "output_type": "stream",
     "text": [
      "Model: \"model_1\"\n",
      "_________________________________________________________________\n",
      " Layer (type)                Output Shape              Param #   \n",
      "=================================================================\n",
      " Output_Layer (Dense)        (None, 1)                 2         \n",
      "                                                                 \n",
      "=================================================================\n",
      "Total params: 2\n",
      "Trainable params: 2\n",
      "Non-trainable params: 0\n",
      "_________________________________________________________________\n"
     ]
    }
   ],
   "source": [
    "model_1_saved = tf.keras.models.load_model('model_1.h5')\n",
    "model_1_saved.summary()"
   ]
  },
  {
   "cell_type": "code",
   "execution_count": 80,
   "id": "72d79a52",
   "metadata": {},
   "outputs": [
    {
     "name": "stdout",
     "output_type": "stream",
     "text": [
      "1/1 [==============================] - 0s 219ms/step\n"
     ]
    },
    {
     "data": {
      "text/plain": [
       "array([[80.35986]], dtype=float32)"
      ]
     },
     "execution_count": 80,
     "metadata": {},
     "output_type": "execute_result"
    }
   ],
   "source": [
    "model_1_saved.predict([86])"
   ]
  },
  {
   "cell_type": "code",
   "execution_count": 81,
   "id": "db4816fe",
   "metadata": {},
   "outputs": [
    {
     "name": "stdout",
     "output_type": "stream",
     "text": [
      "Model: \"model_2\"\n",
      "_________________________________________________________________\n",
      " Layer (type)                Output Shape              Param #   \n",
      "=================================================================\n",
      " model_2_hidden_1 (Dense)    (None, 10)                20        \n",
      "                                                                 \n",
      " model_2_output (Dense)      (None, 1)                 11        \n",
      "                                                                 \n",
      "=================================================================\n",
      "Total params: 31\n",
      "Trainable params: 31\n",
      "Non-trainable params: 0\n",
      "_________________________________________________________________\n"
     ]
    }
   ],
   "source": [
    "model_2.summary()"
   ]
  },
  {
   "cell_type": "code",
   "execution_count": null,
   "id": "1ee7786f",
   "metadata": {},
   "outputs": [],
   "source": []
  }
 ],
 "metadata": {
  "kernelspec": {
   "display_name": "Python 3 (ipykernel)",
   "language": "python",
   "name": "python3"
  },
  "language_info": {
   "codemirror_mode": {
    "name": "ipython",
    "version": 3
   },
   "file_extension": ".py",
   "mimetype": "text/x-python",
   "name": "python",
   "nbconvert_exporter": "python",
   "pygments_lexer": "ipython3",
   "version": "3.9.16"
  }
 },
 "nbformat": 4,
 "nbformat_minor": 5
}
