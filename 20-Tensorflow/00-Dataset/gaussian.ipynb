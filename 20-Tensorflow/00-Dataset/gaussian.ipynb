{
 "cells": [
  {
   "cell_type": "code",
   "execution_count": 13,
   "id": "5b9e1b31",
   "metadata": {},
   "outputs": [],
   "source": [
    "import math\n",
    "import numpy as np\n",
    "import pandas as pd\n",
    "import matplotlib.pyplot as plt"
   ]
  },
  {
   "cell_type": "code",
   "execution_count": 14,
   "id": "cde187ea",
   "metadata": {},
   "outputs": [],
   "source": [
    "def randUniform(a, b):\n",
    "  return np.random.rand() * (b - a) + a;\n",
    "\n",
    "def make_gaussion(cx,cy,label,n):\n",
    "    data = np.random.rand(n,3)\n",
    "    for i in range(n):\n",
    "        x = randUniform(cx,randUniform(cx))\n",
    "        y = normalRandom(cy, randUniform(cy));\n",
    "        data[i][0] = x\n",
    "        data[i][1] = y\n",
    "        data[i][2] = label\n",
    "    return data"
   ]
  },
  {
   "cell_type": "code",
   "execution_count": 12,
   "id": "5a16e9c0",
   "metadata": {},
   "outputs": [
    {
     "data": {
      "text/plain": [
       "(array([[0.03824707, 0.74857146],\n",
       "        [0.30951189, 0.92319373],\n",
       "        [0.47844547, 0.68532961],\n",
       "        [0.84154575, 0.91877055],\n",
       "        [0.32980656, 0.61998702],\n",
       "        [0.50064016, 0.23403675],\n",
       "        [0.56119586, 0.65764829],\n",
       "        [0.67562205, 0.95235228],\n",
       "        [0.47623036, 0.35607398],\n",
       "        [0.72257967, 0.32949381]]),\n",
       " array([1, 1, 1, 0, 1, 1, 1, 1, 1, 0]))"
      ]
     },
     "execution_count": 12,
     "metadata": {},
     "output_type": "execute_result"
    }
   ],
   "source": [
    "make_gaussion(10)"
   ]
  },
  {
   "cell_type": "code",
   "execution_count": 10,
   "id": "e3536fb0",
   "metadata": {},
   "outputs": [
    {
     "data": {
      "text/plain": [
       "array([0, 0, 1, 1, 0, 1, 0, 0, 1, 0])"
      ]
     },
     "execution_count": 10,
     "metadata": {},
     "output_type": "execute_result"
    }
   ],
   "source": [
    "np.random.randint(0, 2,size=10)"
   ]
  },
  {
   "cell_type": "code",
   "execution_count": null,
   "id": "68181d54",
   "metadata": {},
   "outputs": [],
   "source": []
  }
 ],
 "metadata": {
  "kernelspec": {
   "display_name": "Python 3 (ipykernel)",
   "language": "python",
   "name": "python3"
  },
  "language_info": {
   "codemirror_mode": {
    "name": "ipython",
    "version": 3
   },
   "file_extension": ".py",
   "mimetype": "text/x-python",
   "name": "python",
   "nbconvert_exporter": "python",
   "pygments_lexer": "ipython3",
   "version": "3.9.16"
  }
 },
 "nbformat": 4,
 "nbformat_minor": 5
}
