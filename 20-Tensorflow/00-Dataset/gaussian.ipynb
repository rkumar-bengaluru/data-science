{
 "cells": [
  {
   "cell_type": "code",
   "execution_count": 1,
   "id": "5b9e1b31",
   "metadata": {},
   "outputs": [],
   "source": [
    "import math\n",
    "import numpy as np\n",
    "import pandas as pd\n",
    "import matplotlib.pyplot as plt"
   ]
  },
  {
   "cell_type": "code",
   "execution_count": 2,
   "id": "cde187ea",
   "metadata": {},
   "outputs": [],
   "source": [
    "def randUniform(a, b):\n",
    "  return np.random.rand() * (b - a) + a;\n",
    "\n",
    "def make_gaussion(cx,cy,label,n):\n",
    "    data = np.random.rand(n,3)\n",
    "    for i in range(n):\n",
    "        x = randUniform(cx,randUniform(cx))\n",
    "        y = normalRandom(cy, randUniform(cy));\n",
    "        data[i][0] = x\n",
    "        data[i][1] = y\n",
    "        data[i][2] = label\n",
    "    return data"
   ]
  },
  {
   "cell_type": "code",
   "execution_count": 3,
   "id": "5a16e9c0",
   "metadata": {},
   "outputs": [
    {
     "ename": "TypeError",
     "evalue": "make_gaussion() missing 3 required positional arguments: 'cy', 'label', and 'n'",
     "output_type": "error",
     "traceback": [
      "\u001b[1;31m---------------------------------------------------------------------------\u001b[0m",
      "\u001b[1;31mTypeError\u001b[0m                                 Traceback (most recent call last)",
      "Cell \u001b[1;32mIn[3], line 1\u001b[0m\n\u001b[1;32m----> 1\u001b[0m \u001b[43mmake_gaussion\u001b[49m\u001b[43m(\u001b[49m\u001b[38;5;241;43m10\u001b[39;49m\u001b[43m)\u001b[49m\n",
      "\u001b[1;31mTypeError\u001b[0m: make_gaussion() missing 3 required positional arguments: 'cy', 'label', and 'n'"
     ]
    }
   ],
   "source": [
    "make_gaussion(10)"
   ]
  },
  {
   "cell_type": "code",
   "execution_count": null,
   "id": "e3536fb0",
   "metadata": {},
   "outputs": [],
   "source": [
    "np.random.randint(0, 2,size=10)"
   ]
  },
  {
   "cell_type": "code",
   "execution_count": null,
   "id": "68181d54",
   "metadata": {},
   "outputs": [],
   "source": []
  }
 ],
 "metadata": {
  "kernelspec": {
   "display_name": "Python 3 (ipykernel)",
   "language": "python",
   "name": "python3"
  },
  "language_info": {
   "codemirror_mode": {
    "name": "ipython",
    "version": 3
   },
   "file_extension": ".py",
   "mimetype": "text/x-python",
   "name": "python",
   "nbconvert_exporter": "python",
   "pygments_lexer": "ipython3",
   "version": "3.9.16"
  }
 },
 "nbformat": 4,
 "nbformat_minor": 5
}
