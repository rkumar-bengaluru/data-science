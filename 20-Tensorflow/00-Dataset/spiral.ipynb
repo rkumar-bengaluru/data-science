{
 "cells": [
  {
   "cell_type": "code",
   "execution_count": 54,
   "id": "174e9db3",
   "metadata": {},
   "outputs": [],
   "source": [
    "import math\n",
    "import numpy as np     \n",
    "import pandas as pd\n",
    "import matplotlib.pyplot as plt"
   ]
  },
  {
   "cell_type": "code",
   "execution_count": 67,
   "id": "ce68ae78",
   "metadata": {},
   "outputs": [],
   "source": [
    "def randUniform(a, b):\n",
    "  return np.random.rand() * (b - a) + a;\n",
    "\n",
    "def make_spirals(n_samples,n_labels=2,noise=0.03,random_state=42):\n",
    "    data = np.random.rand(n_samples,3)\n",
    "    #print(data)\n",
    "    samples_per_label = np.rint(n_samples/n_labels).astype(int)\n",
    "    print(samples_per_label)\n",
    "    idx = 0\n",
    "    for i in range(n_labels):\n",
    "        current_label = i\n",
    "        current_index = idx\n",
    "        if i == 0:\n",
    "            deltaT = 0\n",
    "        else:\n",
    "            deltaT = math.pi\n",
    "        for j in range(samples_per_label):\n",
    "            data[idx][2] = current_label\n",
    "            r = j / samples_per_label * 5;\n",
    "            t = 1.75 * j / samples_per_label * 2 * math.pi + deltaT\n",
    "            x = r * math.sin(t) + randUniform(-1, 1) * noise\n",
    "            y = r * math.cos(t) + randUniform(-1, 1) * noise\n",
    "            data[idx][0] = x\n",
    "            data[idx][1] = y\n",
    "            idx = idx + 1\n",
    "            \n",
    "    return data"
   ]
  },
  {
   "cell_type": "code",
   "execution_count": 74,
   "id": "1c03b36a",
   "metadata": {},
   "outputs": [
    {
     "name": "stdout",
     "output_type": "stream",
     "text": [
      "250\n"
     ]
    }
   ],
   "source": [
    "d = make_spirals(500)\n",
    "#d,type(d),d.shape"
   ]
  },
  {
   "cell_type": "code",
   "execution_count": 75,
   "id": "1bb08d11",
   "metadata": {},
   "outputs": [],
   "source": [
    "df = pd.DataFrame(d, columns = ['x','y','label'])\n",
    "df_label_0 = df[df['label'] == 0.0]\n",
    "df_label_1 = df[df['label'] == 1.0]"
   ]
  },
  {
   "cell_type": "code",
   "execution_count": 77,
   "id": "52a0d44a",
   "metadata": {},
   "outputs": [
    {
     "data": {
      "text/html": [
       "<div>\n",
       "<style scoped>\n",
       "    .dataframe tbody tr th:only-of-type {\n",
       "        vertical-align: middle;\n",
       "    }\n",
       "\n",
       "    .dataframe tbody tr th {\n",
       "        vertical-align: top;\n",
       "    }\n",
       "\n",
       "    .dataframe thead th {\n",
       "        text-align: right;\n",
       "    }\n",
       "</style>\n",
       "<table border=\"1\" class=\"dataframe\">\n",
       "  <thead>\n",
       "    <tr style=\"text-align: right;\">\n",
       "      <th></th>\n",
       "      <th>x</th>\n",
       "      <th>y</th>\n",
       "      <th>label</th>\n",
       "    </tr>\n",
       "  </thead>\n",
       "  <tbody>\n",
       "    <tr>\n",
       "      <th>0</th>\n",
       "      <td>-0.011112</td>\n",
       "      <td>-0.021918</td>\n",
       "      <td>0.0</td>\n",
       "    </tr>\n",
       "    <tr>\n",
       "      <th>1</th>\n",
       "      <td>0.023037</td>\n",
       "      <td>-0.004364</td>\n",
       "      <td>0.0</td>\n",
       "    </tr>\n",
       "    <tr>\n",
       "      <th>2</th>\n",
       "      <td>0.032809</td>\n",
       "      <td>0.048970</td>\n",
       "      <td>0.0</td>\n",
       "    </tr>\n",
       "    <tr>\n",
       "      <th>3</th>\n",
       "      <td>0.024224</td>\n",
       "      <td>0.085063</td>\n",
       "      <td>0.0</td>\n",
       "    </tr>\n",
       "    <tr>\n",
       "      <th>4</th>\n",
       "      <td>0.021399</td>\n",
       "      <td>0.055653</td>\n",
       "      <td>0.0</td>\n",
       "    </tr>\n",
       "    <tr>\n",
       "      <th>...</th>\n",
       "      <td>...</td>\n",
       "      <td>...</td>\n",
       "      <td>...</td>\n",
       "    </tr>\n",
       "    <tr>\n",
       "      <th>245</th>\n",
       "      <td>-4.805525</td>\n",
       "      <td>-1.046807</td>\n",
       "      <td>0.0</td>\n",
       "    </tr>\n",
       "    <tr>\n",
       "      <th>246</th>\n",
       "      <td>-4.864792</td>\n",
       "      <td>-0.884668</td>\n",
       "      <td>0.0</td>\n",
       "    </tr>\n",
       "    <tr>\n",
       "      <th>247</th>\n",
       "      <td>-4.906615</td>\n",
       "      <td>-0.653605</td>\n",
       "      <td>0.0</td>\n",
       "    </tr>\n",
       "    <tr>\n",
       "      <th>248</th>\n",
       "      <td>-4.970316</td>\n",
       "      <td>-0.452480</td>\n",
       "      <td>0.0</td>\n",
       "    </tr>\n",
       "    <tr>\n",
       "      <th>249</th>\n",
       "      <td>-4.957272</td>\n",
       "      <td>-0.221037</td>\n",
       "      <td>0.0</td>\n",
       "    </tr>\n",
       "  </tbody>\n",
       "</table>\n",
       "<p>250 rows × 3 columns</p>\n",
       "</div>"
      ],
      "text/plain": [
       "            x         y  label\n",
       "0   -0.011112 -0.021918    0.0\n",
       "1    0.023037 -0.004364    0.0\n",
       "2    0.032809  0.048970    0.0\n",
       "3    0.024224  0.085063    0.0\n",
       "4    0.021399  0.055653    0.0\n",
       "..        ...       ...    ...\n",
       "245 -4.805525 -1.046807    0.0\n",
       "246 -4.864792 -0.884668    0.0\n",
       "247 -4.906615 -0.653605    0.0\n",
       "248 -4.970316 -0.452480    0.0\n",
       "249 -4.957272 -0.221037    0.0\n",
       "\n",
       "[250 rows x 3 columns]"
      ]
     },
     "execution_count": 77,
     "metadata": {},
     "output_type": "execute_result"
    }
   ],
   "source": [
    "df_label_0"
   ]
  },
  {
   "cell_type": "code",
   "execution_count": 76,
   "id": "3e0af871",
   "metadata": {},
   "outputs": [
    {
     "data": {
      "text/plain": [
       "<matplotlib.collections.PathCollection at 0x14c665a3e80>"
      ]
     },
     "execution_count": 76,
     "metadata": {},
     "output_type": "execute_result"
    },
    {
     "data": {
      "image/png": "[encoded data removed]",
      "text/plain": [
       "<Figure size 640x480 with 1 Axes>"
      ]
     },
     "metadata": {},
     "output_type": "display_data"
    }
   ],
   "source": [
    "plt.scatter(df_label_0['x'],df_label_0['y'])\n",
    "plt.scatter(df_label_1['x'],df_label_1['y'])"
   ]
  },
  {
   "cell_type": "code",
   "execution_count": null,
   "id": "c699786d",
   "metadata": {},
   "outputs": [],
   "source": []
  }
 ],
 "metadata": {
  "kernelspec": {
   "display_name": "Python 3 (ipykernel)",
   "language": "python",
   "name": "python3"
  },
  "language_info": {
   "codemirror_mode": {
    "name": "ipython",
    "version": 3
   },
   "file_extension": ".py",
   "mimetype": "text/x-python",
   "name": "python",
   "nbconvert_exporter": "python",
   "pygments_lexer": "ipython3",
   "version": "3.9.16"
  }
 },
 "nbformat": 4,
 "nbformat_minor": 5
}
