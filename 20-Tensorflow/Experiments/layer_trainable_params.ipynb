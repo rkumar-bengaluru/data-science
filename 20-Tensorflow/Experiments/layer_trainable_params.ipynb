{
 "cells": [
  {
   "cell_type": "markdown",
   "id": "a37cc43f",
   "metadata": {},
   "source": [
    "# Trainable Parameters\n",
    "\n",
    "The goal of this article is to find no of trainable parameters for various layers in tensorflow."
   ]
  },
  {
   "cell_type": "markdown",
   "id": "a5f5701f",
   "metadata": {},
   "source": [
    "## Conv1D\n",
    "\n",
    "In this section we will cover the formula to calculate the number of trainable parameters in a Conv1D layer. We need to \n",
    "consider the following components. They are:\n",
    "\n",
    "* Filters - The number of filters in the Conv1D layer.\n",
    "* Kernel Size - The size of the convolutional kernel.\n",
    "* Input Channel - The number of input channels (depth) in the input data.\n",
    "* Bias Terms - Whether bias term is included in the layer.\n",
    "\n",
    "When Bias Term is true\n",
    "```\n",
    "num_of_trainable_params = (kernel_size * input_channels + 1) * filters\n",
    "```\n",
    "When Bias Term is false\n",
    "```\n",
    "num_of_trainable_params = (kernel_size * input_channels) * filters\n",
    "```\n",
    "\n",
    "The `**(kernel_size * input_channels**` term accounts for the weights associated with each filter at each position in the input. The `**+1**` term is for the bias term associated with each filter."
   ]
  },
  {
   "cell_type": "code",
   "execution_count": 58,
   "id": "feda7923",
   "metadata": {},
   "outputs": [
    {
     "name": "stdout",
     "output_type": "stream",
     "text": [
      "Number Of trainable parameters in Conv1D layer from method conv1d.count_params() - 8064\n",
      "Number Of trainable parameters in Conv1D layer by manual calculation - 8064\n"
     ]
    }
   ],
   "source": [
    "from tensorflow.keras.layers import Input,Conv1D\n",
    "import tensorflow as tf\n",
    "\n",
    "filters = 64\n",
    "kernel_size = 5\n",
    "input_channel= 25\n",
    "input_shape = (None,input_channel)\n",
    "use_bias = True\n",
    "\n",
    "conv1d = Conv1D(filters=filters,\n",
    "               kernel_size=kernel_size,\n",
    "               use_bias=use_bias)\n",
    "conv1d.build(input_shape=input_shape)\n",
    "# count the trainable parameters\n",
    "num_of_trainable_params = conv1d.count_params()\n",
    "print(f\"Number Of trainable parameters in Conv1D layer from method conv1d.count_params() - {num_of_trainable_params}\")\n",
    "num_of_trainable_params = (kernel_size * input_shape[1] + int(use_bias)) * filters\n",
    "print(f\"Number Of trainable parameters in Conv1D layer by manual calculation - {num_of_trainable_params}\")"
   ]
  },
  {
   "cell_type": "markdown",
   "id": "3a4355d4",
   "metadata": {},
   "source": [
    "## Conv2D\n",
    "\n",
    "In this section we will cover the formula to calculate the number of trainable parameters in a Conv1D layer. We need to \n",
    "consider the following components. They are:\n",
    "\n",
    "* Filters - The number of filters in the Conv1D layer.\n",
    "* Kernel Size - The size of the convolutional kernel.\n",
    "* Input Channel - The number of input channels (depth) in the input data.\n",
    "* Bias Terms - Whether bias term is included in the layer.\n",
    "\n",
    "Formula to calculat the trainable parameters in Conv2D is as below:\n",
    "\n",
    "```\n",
    "num_params = (kernel_size[0] * kernel_size[1] * input_channels + 1) * filters\n",
    "```\n",
    "\n",
    "The other parameters which can affect no of trainable parameters are dilation rate, padding, strides etc."
   ]
  },
  {
   "cell_type": "code",
   "execution_count": 61,
   "id": "61bc7bc8",
   "metadata": {},
   "outputs": [
    {
     "name": "stdout",
     "output_type": "stream",
     "text": [
      "number of trainable parameter from framework method for Conv2D is 14464\n",
      "manual calculation on trainable parameter in Conv2D is 14464\n"
     ]
    }
   ],
   "source": [
    "from tensorflow.keras.layers import Conv2D\n",
    "\n",
    "filters = 64\n",
    "kernel_size = (3,3)\n",
    "input_channel= 25\n",
    "input_shape = (None,input_channel)\n",
    "use_bias = True\n",
    "\n",
    "conv2d_layer = Conv2D(filters=filters,\n",
    "                     kernel_size=kernel_size,\n",
    "                     use_bias=use_bias)\n",
    "conv2d_layer.build(input_shape=input_shape)\n",
    "# count the trainable parameters from count_params()\n",
    "num_of_trainable_params = conv2d_layer.count_params()\n",
    "print(f\"number of trainable parameter from framework method for Conv2D is {num_of_trainable_params}\")\n",
    "# manual calaculation of trainable params.\n",
    "num_params = ( kernel_size[0] * kernel_size[1] * input_channel  + int(use_bias)) * filters\n",
    "print(f\"manual calculation on trainable parameter in Conv2D is {num_params}\")"
   ]
  }
 ],
 "metadata": {
  "kernelspec": {
   "display_name": "Python 3 (ipykernel)",
   "language": "python",
   "name": "python3"
  },
  "language_info": {
   "codemirror_mode": {
    "name": "ipython",
    "version": 3
   },
   "file_extension": ".py",
   "mimetype": "text/x-python",
   "name": "python",
   "nbconvert_exporter": "python",
   "pygments_lexer": "ipython3",
   "version": "3.9.16"
  }
 },
 "nbformat": 4,
 "nbformat_minor": 5
}
