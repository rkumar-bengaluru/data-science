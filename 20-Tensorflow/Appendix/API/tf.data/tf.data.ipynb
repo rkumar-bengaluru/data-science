{
 "cells": [
  {
   "cell_type": "markdown",
   "id": "da3baacf",
   "metadata": {},
   "source": [
    "# tf.data \n",
    "\n",
    "Explore the API's in tf.data Module"
   ]
  },
  {
   "cell_type": "markdown",
   "id": "e76f0b89",
   "metadata": {},
   "source": [
    "## Test Data"
   ]
  },
  {
   "cell_type": "code",
   "execution_count": 18,
   "id": "c70f6281",
   "metadata": {},
   "outputs": [
    {
     "name": "stdout",
     "output_type": "stream",
     "text": [
      "2\n"
     ]
    },
    {
     "data": {
      "text/plain": [
       "<matplotlib.collections.PathCollection at 0x2000d4dbf40>"
      ]
     },
     "execution_count": 18,
     "metadata": {},
     "output_type": "execute_result"
    },
    {
     "data": {
      "image/png": "[encoded data removed]",
      "text/plain": [
       "<Figure size 640x480 with 1 Axes>"
      ]
     },
     "metadata": {},
     "output_type": "display_data"
    }
   ],
   "source": [
    "import math\n",
    "import numpy as np     \n",
    "import pandas as pd\n",
    "import matplotlib.pyplot as plt\n",
    "\n",
    "def randUniform(a, b):\n",
    "  return np.random.rand() * (b - a) + a;\n",
    "\n",
    "def make_spirals(n_samples,n_labels=2,noise=0.03,random_state=42):\n",
    "    data = np.random.rand(n_samples,3)\n",
    "    #print(data)\n",
    "    samples_per_label = np.rint(n_samples/n_labels).astype(int)\n",
    "    print(samples_per_label)\n",
    "    idx = 0\n",
    "    for i in range(n_labels):\n",
    "        current_label = i\n",
    "        current_index = idx\n",
    "        if i == 0:\n",
    "            deltaT = 0\n",
    "        else:\n",
    "            deltaT = math.pi\n",
    "        for j in range(samples_per_label):\n",
    "            data[idx][2] = current_label\n",
    "            r = j / samples_per_label * 5;\n",
    "            t = 1.75 * j / samples_per_label * 2 * math.pi + deltaT\n",
    "            x = r * math.sin(t) + randUniform(-1, 1) * noise\n",
    "            y = r * math.cos(t) + randUniform(-1, 1) * noise\n",
    "            data[idx][0] = x\n",
    "            data[idx][1] = y\n",
    "            idx = idx + 1\n",
    "            \n",
    "    return data\n",
    "\n",
    "d = make_spirals(5)\n",
    "test_data = pd.DataFrame(d, columns = ['x','y','label'])\n",
    "df_label_0 = test_data[test_data['label'] == 0.0]\n",
    "df_label_1 = test_data[test_data['label'] == 1.0]\n",
    "plt.scatter(df_label_0['x'],df_label_0['y'])\n",
    "plt.scatter(df_label_1['x'],df_label_1['y'])"
   ]
  },
  {
   "cell_type": "code",
   "execution_count": 19,
   "id": "08d986e3",
   "metadata": {},
   "outputs": [
    {
     "data": {
      "text/html": [
       "<div>\n",
       "<style scoped>\n",
       "    .dataframe tbody tr th:only-of-type {\n",
       "        vertical-align: middle;\n",
       "    }\n",
       "\n",
       "    .dataframe tbody tr th {\n",
       "        vertical-align: top;\n",
       "    }\n",
       "\n",
       "    .dataframe thead th {\n",
       "        text-align: right;\n",
       "    }\n",
       "</style>\n",
       "<table border=\"1\" class=\"dataframe\">\n",
       "  <thead>\n",
       "    <tr style=\"text-align: right;\">\n",
       "      <th></th>\n",
       "      <th>x</th>\n",
       "      <th>y</th>\n",
       "      <th>label</th>\n",
       "    </tr>\n",
       "  </thead>\n",
       "  <tbody>\n",
       "    <tr>\n",
       "      <th>0</th>\n",
       "      <td>-0.004685</td>\n",
       "      <td>-0.000353</td>\n",
       "      <td>0.000000</td>\n",
       "    </tr>\n",
       "    <tr>\n",
       "      <th>1</th>\n",
       "      <td>-1.795526</td>\n",
       "      <td>1.760918</td>\n",
       "      <td>0.000000</td>\n",
       "    </tr>\n",
       "    <tr>\n",
       "      <th>2</th>\n",
       "      <td>0.003083</td>\n",
       "      <td>0.028615</td>\n",
       "      <td>1.000000</td>\n",
       "    </tr>\n",
       "    <tr>\n",
       "      <th>3</th>\n",
       "      <td>1.753666</td>\n",
       "      <td>-1.774305</td>\n",
       "      <td>1.000000</td>\n",
       "    </tr>\n",
       "    <tr>\n",
       "      <th>4</th>\n",
       "      <td>0.527746</td>\n",
       "      <td>0.054674</td>\n",
       "      <td>0.142496</td>\n",
       "    </tr>\n",
       "  </tbody>\n",
       "</table>\n",
       "</div>"
      ],
      "text/plain": [
       "          x         y     label\n",
       "0 -0.004685 -0.000353  0.000000\n",
       "1 -1.795526  1.760918  0.000000\n",
       "2  0.003083  0.028615  1.000000\n",
       "3  1.753666 -1.774305  1.000000\n",
       "4  0.527746  0.054674  0.142496"
      ]
     },
     "execution_count": 19,
     "metadata": {},
     "output_type": "execute_result"
    }
   ],
   "source": [
    "test_data.head()"
   ]
  },
  {
   "cell_type": "code",
   "execution_count": 20,
   "id": "4d89128c",
   "metadata": {},
   "outputs": [
    {
     "data": {
      "text/plain": [
       "(5, 3)"
      ]
     },
     "execution_count": 20,
     "metadata": {},
     "output_type": "execute_result"
    }
   ],
   "source": [
    "test_data.shape"
   ]
  },
  {
   "cell_type": "markdown",
   "id": "9bfe1392",
   "metadata": {},
   "source": [
    "## tf.data.Dataset\n",
    "\n",
    "* create Source Dataset from your input data\n",
    "* apply data transformation to preprocess the elements\n",
    "* iterate over the dataset and process the elements - iteration happens in streaming fashion so that dataset does not need to fit in memory"
   ]
  },
  {
   "cell_type": "markdown",
   "id": "e4d062bb",
   "metadata": {},
   "source": [
    "### tf.data.Dataset.apply\n",
    "\n",
    "Apply a transformation function on the dataset."
   ]
  },
  {
   "cell_type": "code",
   "execution_count": 52,
   "id": "4c1db870",
   "metadata": {},
   "outputs": [
    {
     "name": "stdout",
     "output_type": "stream",
     "text": [
      "apply map function on scaler set\n",
      "[1, 4, 9]\n",
      "apply map function on two dimension dataset\n",
      "[array([1, 4, 9]), array([ 9, 16, 25]), array([36, 49, 64])]\n"
     ]
    }
   ],
   "source": [
    "from tensorflow.data import Dataset\n",
    "\n",
    "scaler = [1,2,3]\n",
    "two_dimension = [[1,2,3],\n",
    "                 [3,4,5],\n",
    "                 [6,7,8]]\n",
    "\n",
    "def apply_fn(ds):\n",
    "    return ds.map(lambda x : x*x)\n",
    "\n",
    "scaler_dataset = Dataset.from_tensor_slices(scaler)\n",
    "new_scaler_dataset = scaler_dataset.apply(apply_fn)\n",
    "print('apply map function on scaler set')\n",
    "print(list(new_scaler_dataset.as_numpy_iterator()))\n",
    "print('apply map function on two dimension dataset')\n",
    "two_dimension_dataset = Dataset.from_tensor_slices(two_dimension)\n",
    "new_two_dimension_dataset = two_dimension_dataset.apply(apply_fn)\n",
    "print(list(new_two_dimension_dataset.as_numpy_iterator()))"
   ]
  },
  {
   "cell_type": "markdown",
   "id": "6c476364",
   "metadata": {},
   "source": [
    "### tf.data.Dataset.from_tensor_slices\n",
    "\n",
    "The given tensor is sliced along their first dimension. This operation preserves the structure of the input tensors removing the first dimension. All input tensors must have the same size in their first dimensions."
   ]
  },
  {
   "cell_type": "code",
   "execution_count": 43,
   "id": "c325963a",
   "metadata": {},
   "outputs": [
    {
     "name": "stdout",
     "output_type": "stream",
     "text": [
      "input data length 5\n",
      "1D tensor transformed to scaler length 5\n",
      "1D Slices\n",
      "[-0.004684638, -1.7955257, 0.0030825175, 1.7536657, 0.527746]\n",
      "2D tensor transformed to 1D tensor of length 2\n",
      "2D Slices\n",
      "[array([-0.00468464, -1.7955257 ,  0.00308252,  1.7536657 ,  0.527746  ],\n",
      "      dtype=float32), array([-3.5304239e-04,  1.7609183e+00,  2.8614689e-02, -1.7743047e+00,\n",
      "        5.4673862e-02], dtype=float32)]\n",
      "3D tensor transformed to 2D tensor of length 3\n",
      "3D Slices\n",
      "[array([-0.00468464, -1.7955257 ,  0.00308252,  1.7536657 ,  0.527746  ],\n",
      "      dtype=float32), array([-3.5304239e-04,  1.7609183e+00,  2.8614689e-02, -1.7743047e+00,\n",
      "        5.4673862e-02], dtype=float32), array([0.        , 0.        , 1.        , 1.        , 0.14249589],\n",
      "      dtype=float32)]\n",
      "tuple slices\n",
      "[(-0.004684638, -0.0003530424), (-1.7955257, 1.7609183), (0.0030825175, 0.028614689), (1.7536657, -1.7743047), (0.527746, 0.05467386)]\n"
     ]
    }
   ],
   "source": [
    "import tensorflow as tf\n",
    "from tensorflow.data import Dataset\n",
    "# Slicing a 1D tensor produces scaler tensor elements\n",
    "x = test_data['x'].tolist()\n",
    "y = test_data['y'].tolist()\n",
    "label = test_data['label'].tolist()\n",
    "x_length = len(x)\n",
    "print(f\"input data length {x_length}\")\n",
    "scaler_dataset = Dataset.from_tensor_slices(x)\n",
    "scaler_length = len(list(scaler_dataset.as_numpy_iterator()))\n",
    "print(f\"1D tensor transformed to scaler length {scaler_length}\")\n",
    "print(\"1D Slices\")\n",
    "print(list(scaler_dataset.as_numpy_iterator()))\n",
    "# Slicing a 2D tensor produces 1D tensor elements.\n",
    "one_dimension_dataset = Dataset.from_tensor_slices([x,y])\n",
    "one_dimension_dataset_length = len(list(one_dimension_dataset.as_numpy_iterator()))\n",
    "print(f\"2D tensor transformed to 1D tensor of length {one_dimension_dataset_length}\")\n",
    "print(\"2D Slices\")\n",
    "print(list(one_dimension_dataset.as_numpy_iterator()))\n",
    "# Slicing a 3D tensor produces 2D tensor elements\n",
    "two_dimension_dataset = Dataset.from_tensor_slices([x,y,label])\n",
    "two_dimension_dataset_length = len(list(two_dimension_dataset.as_numpy_iterator()))\n",
    "print(f\"3D tensor transformed to 2D tensor of length {two_dimension_dataset_length}\")\n",
    "print('3D Slices')\n",
    "print(list(two_dimension_dataset.as_numpy_iterator()))\n",
    "list(two_dimension_dataset.as_numpy_iterator())\n",
    "# Slicing a tuple \n",
    "tuple_dataset = Dataset.from_tensor_slices((x,y))\n",
    "print('tuple slices')\n",
    "print(list(tuple_dataset.as_numpy_iterator()))"
   ]
  },
  {
   "cell_type": "markdown",
   "id": "1468db33",
   "metadata": {},
   "source": [
    "### tf.data.Dataset.repeat"
   ]
  },
  {
   "cell_type": "code",
   "execution_count": 59,
   "id": "e8e704a9",
   "metadata": {},
   "outputs": [
    {
     "data": {
      "text/plain": [
       "[(1, 3), (2, 4), (1, 3), (2, 4), (1, 3), (2, 4)]"
      ]
     },
     "execution_count": 59,
     "metadata": {},
     "output_type": "execute_result"
    }
   ],
   "source": [
    "dataset = tf.data.Dataset.from_tensor_slices(([1,2],[3,4]))\n",
    "dataset = dataset.repeat(count=3)\n",
    "list(dataset.as_numpy_iterator())"
   ]
  },
  {
   "cell_type": "markdown",
   "id": "a12561f4",
   "metadata": {},
   "source": [
    "### tf.data.Dataset.interleave\n",
    "\n",
    "Allows for parallel execution for data preparation across multiple data sources or data sets and returns a single dataset.\n",
    "\n",
    "* cycle_length - controls number of input elements that can be processed concurrently. Example 2 threads fighting for resources\n",
    "* block_length - number of elements to consumer per iteration\n",
    "* num_parallel_calls - how many elements which can run in parallel"
   ]
  },
  {
   "cell_type": "code",
   "execution_count": 68,
   "id": "37c2e631",
   "metadata": {},
   "outputs": [
    {
     "data": {
      "text/plain": [
       "[1, 1, 1, 1, 2, 2, 2, 2, 1, 1, 2, 2]"
      ]
     },
     "execution_count": 68,
     "metadata": {},
     "output_type": "execute_result"
    }
   ],
   "source": [
    "dataset = Dataset.range(1, 3)  # ==> [ 1, 2, 3, 4, 5 ]\n",
    "\n",
    "# with block length of 3,  3 elements are consumed first.\n",
    "dataset = dataset.interleave(\n",
    "  lambda x: Dataset.from_tensors(x).repeat(6),\n",
    "    cycle_length=2, block_length=4)\n",
    "list(dataset.as_numpy_iterator())"
   ]
  },
  {
   "cell_type": "code",
   "execution_count": null,
   "id": "7eab186e",
   "metadata": {},
   "outputs": [],
   "source": []
  },
  {
   "cell_type": "markdown",
   "id": "6ad1f9f0",
   "metadata": {},
   "source": [
    "## tf.data.DatasetSpec"
   ]
  },
  {
   "cell_type": "code",
   "execution_count": null,
   "id": "1806ed8f",
   "metadata": {},
   "outputs": [],
   "source": [
    "import tensorflow as tf"
   ]
  },
  {
   "cell_type": "code",
   "execution_count": null,
   "id": "8c11a0ea",
   "metadata": {},
   "outputs": [],
   "source": [
    "# create a dataset from tensor\n",
    "data = tf.constant([10,10])\n",
    "dataset = tf.data.Dataset.from_tensors(data)\n",
    "dataset"
   ]
  }
 ],
 "metadata": {
  "kernelspec": {
   "display_name": "Python 3 (ipykernel)",
   "language": "python",
   "name": "python3"
  },
  "language_info": {
   "codemirror_mode": {
    "name": "ipython",
    "version": 3
   },
   "file_extension": ".py",
   "mimetype": "text/x-python",
   "name": "python",
   "nbconvert_exporter": "python",
   "pygments_lexer": "ipython3",
   "version": "3.9.16"
  }
 },
 "nbformat": 4,
 "nbformat_minor": 5
}
