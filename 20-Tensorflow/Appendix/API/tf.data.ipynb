{
 "cells": [
  {
   "cell_type": "markdown",
   "id": "da3baacf",
   "metadata": {},
   "source": [
    "# tf.data \n",
    "\n",
    "Explore the API's in tf.data Module"
   ]
  },
  {
   "cell_type": "code",
   "execution_count": 7,
   "id": "90f2f7ce",
   "metadata": {},
   "outputs": [
    {
     "name": "stdout",
     "output_type": "stream",
     "text": [
      "       target               text\n",
      "0  tensorflow  I love tensorflow\n",
      "1      golang      I hate golang\n"
     ]
    }
   ],
   "source": [
    "# test data to work with\n",
    "import pandas as pd\n",
    "train_data = [{'target':'tensorflow','text':'I love tensorflow'},\n",
    "              {'target':'golang','text':'I hate golang'}]\n",
    "train_df = pd.DataFrame(train_data)\n",
    "print(train_df)"
   ]
  },
  {
   "cell_type": "markdown",
   "id": "9bfe1392",
   "metadata": {},
   "source": [
    "## tf.data.Dataset\n",
    "\n",
    "* create Source Dataset from your input data\n",
    "* apply data transformation to preprocess the elements\n",
    "* iterate over the dataset and process the elements - iteration happens in streaming fashion so that dataset does not need to fit in memory"
   ]
  },
  {
   "cell_type": "code",
   "execution_count": 13,
   "id": "c325963a",
   "metadata": {},
   "outputs": [
    {
     "data": {
      "text/plain": [
       "<TensorSliceDataset element_spec=TensorSpec(shape=(), dtype=tf.string, name=None)>"
      ]
     },
     "execution_count": 13,
     "metadata": {},
     "output_type": "execute_result"
    }
   ],
   "source": [
    "import tensorflow as tf\n",
    "# create dataset using python list\n",
    "python_list = train_df['text'].tolist()\n",
    "dataset = tf.data.Dataset.from_tensor_slices(python_list)\n",
    "dataset"
   ]
  },
  {
   "cell_type": "code",
   "execution_count": 10,
   "id": "27cc8d97",
   "metadata": {},
   "outputs": [
    {
     "data": {
      "text/plain": [
       "list"
      ]
     },
     "execution_count": 10,
     "metadata": {},
     "output_type": "execute_result"
    }
   ],
   "source": [
    "tmp = [[1],[2]]\n",
    "type(tmp)"
   ]
  },
  {
   "cell_type": "code",
   "execution_count": null,
   "id": "e8e704a9",
   "metadata": {},
   "outputs": [],
   "source": []
  },
  {
   "cell_type": "markdown",
   "id": "6ad1f9f0",
   "metadata": {},
   "source": [
    "## tf.data.DatasetSpec"
   ]
  },
  {
   "cell_type": "code",
   "execution_count": null,
   "id": "1806ed8f",
   "metadata": {},
   "outputs": [],
   "source": [
    "import tensorflow as tf"
   ]
  },
  {
   "cell_type": "code",
   "execution_count": null,
   "id": "8c11a0ea",
   "metadata": {},
   "outputs": [],
   "source": [
    "# create a dataset from tensor\n",
    "data = tf.constant([10,10])\n",
    "dataset = tf.data.Dataset.from_tensors(data)\n",
    "dataset"
   ]
  }
 ],
 "metadata": {
  "kernelspec": {
   "display_name": "Python 3 (ipykernel)",
   "language": "python",
   "name": "python3"
  },
  "language_info": {
   "codemirror_mode": {
    "name": "ipython",
    "version": 3
   },
   "file_extension": ".py",
   "mimetype": "text/x-python",
   "name": "python",
   "nbconvert_exporter": "python",
   "pygments_lexer": "ipython3",
   "version": "3.9.16"
  }
 },
 "nbformat": 4,
 "nbformat_minor": 5
}
