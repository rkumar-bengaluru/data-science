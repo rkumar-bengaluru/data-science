{
 "cells": [
  {
   "cell_type": "code",
   "execution_count": 1,
   "id": "55c153fe",
   "metadata": {},
   "outputs": [
    {
     "name": "stderr",
     "output_type": "stream",
     "text": [
      "2023-07-01 09:34:05.393787: I tensorflow/core/platform/cpu_feature_guard.cc:182] This TensorFlow binary is optimized to use available CPU instructions in performance-critical operations.\n",
      "To enable the following instructions: AVX2 FMA, in other operations, rebuild TensorFlow with the appropriate compiler flags.\n"
     ]
    },
    {
     "name": "stdout",
     "output_type": "stream",
     "text": [
      "['pubmed-rct/PubMed_20k_RCT_numbers_replaced_with_at_sign/dev.txt', 'pubmed-rct/PubMed_20k_RCT_numbers_replaced_with_at_sign/test.txt', 'pubmed-rct/PubMed_20k_RCT_numbers_replaced_with_at_sign/train.txt']\n",
      "size of train lines is 210040\n",
      "size of validation lines is 35212\n",
      "size of test lines is 35135\n",
      "size of train data is 180040\n",
      "size of validation data is 30212\n",
      "size of test data is 30135\n"
     ]
    },
    {
     "name": "stderr",
     "output_type": "stream",
     "text": [
      "2023-07-01 09:34:15.695205: I tensorflow/compiler/xla/stream_executor/cuda/cuda_gpu_executor.cc:982] could not open file to read NUMA node: /sys/bus/pci/devices/0000:01:00.0/numa_node\n",
      "Your kernel may have been built without NUMA support.\n",
      "2023-07-01 09:34:15.707851: I tensorflow/compiler/xla/stream_executor/cuda/cuda_gpu_executor.cc:982] could not open file to read NUMA node: /sys/bus/pci/devices/0000:01:00.0/numa_node\n",
      "Your kernel may have been built without NUMA support.\n",
      "2023-07-01 09:34:15.708694: I tensorflow/compiler/xla/stream_executor/cuda/cuda_gpu_executor.cc:982] could not open file to read NUMA node: /sys/bus/pci/devices/0000:01:00.0/numa_node\n",
      "Your kernel may have been built without NUMA support.\n",
      "2023-07-01 09:34:15.714093: I tensorflow/compiler/xla/stream_executor/cuda/cuda_gpu_executor.cc:982] could not open file to read NUMA node: /sys/bus/pci/devices/0000:01:00.0/numa_node\n",
      "Your kernel may have been built without NUMA support.\n",
      "2023-07-01 09:34:15.714651: I tensorflow/compiler/xla/stream_executor/cuda/cuda_gpu_executor.cc:982] could not open file to read NUMA node: /sys/bus/pci/devices/0000:01:00.0/numa_node\n",
      "Your kernel may have been built without NUMA support.\n",
      "2023-07-01 09:34:15.715341: I tensorflow/compiler/xla/stream_executor/cuda/cuda_gpu_executor.cc:982] could not open file to read NUMA node: /sys/bus/pci/devices/0000:01:00.0/numa_node\n",
      "Your kernel may have been built without NUMA support.\n",
      "2023-07-01 09:34:18.246729: I tensorflow/compiler/xla/stream_executor/cuda/cuda_gpu_executor.cc:982] could not open file to read NUMA node: /sys/bus/pci/devices/0000:01:00.0/numa_node\n",
      "Your kernel may have been built without NUMA support.\n",
      "2023-07-01 09:34:18.247363: I tensorflow/compiler/xla/stream_executor/cuda/cuda_gpu_executor.cc:982] could not open file to read NUMA node: /sys/bus/pci/devices/0000:01:00.0/numa_node\n",
      "Your kernel may have been built without NUMA support.\n",
      "2023-07-01 09:34:18.247414: I tensorflow/core/common_runtime/gpu/gpu_device.cc:1722] Could not identify NUMA node of platform GPU id 0, defaulting to 0.  Your kernel may not have been built with NUMA support.\n",
      "2023-07-01 09:34:18.248077: I tensorflow/compiler/xla/stream_executor/cuda/cuda_gpu_executor.cc:982] could not open file to read NUMA node: /sys/bus/pci/devices/0000:01:00.0/numa_node\n",
      "Your kernel may have been built without NUMA support.\n",
      "2023-07-01 09:34:18.248156: I tensorflow/core/common_runtime/gpu/gpu_device.cc:1635] Created device /job:localhost/replica:0/task:0/device:GPU:0 with 3383 MB memory:  -> device: 0, name: NVIDIA GeForce RTX 3060 Laptop GPU, pci bus id: 0000:01:00.0, compute capability: 8.6\n",
      "/usr/local/lib/python3.8/dist-packages/sklearn/preprocessing/_label.py:116: DataConversionWarning: A column-vector y was passed when a 1d array was expected. Please change the shape of y to (n_samples, ), for example using ravel().\n",
      "  y = column_or_1d(y, warn=True)\n",
      "/usr/local/lib/python3.8/dist-packages/sklearn/preprocessing/_label.py:134: DataConversionWarning: A column-vector y was passed when a 1d array was expected. Please change the shape of y to (n_samples, ), for example using ravel().\n",
      "  y = column_or_1d(y, dtype=self.classes_.dtype, warn=True)\n",
      "/usr/local/lib/python3.8/dist-packages/sklearn/preprocessing/_label.py:134: DataConversionWarning: A column-vector y was passed when a 1d array was expected. Please change the shape of y to (n_samples, ), for example using ravel().\n",
      "  y = column_or_1d(y, dtype=self.classes_.dtype, warn=True)\n"
     ]
    },
    {
     "name": "stdout",
     "output_type": "stream",
     "text": [
      "one hot encoding\n",
      "tf.Tensor([0. 0. 0. 1. 0.], shape=(5,), dtype=float64) tf.Tensor([1. 0. 0. 0. 0.], shape=(5,), dtype=float64) tf.Tensor([1. 0. 0. 0. 0.], shape=(5,), dtype=float64)\n",
      "label encoding...\n",
      "3 0 0\n",
      "classnames\n",
      "class name =  ['BACKGROUND' 'CONCLUSIONS' 'METHODS' 'OBJECTIVE' 'RESULTS'] length of classes = 5\n",
      "mean tokens in each sentences  26.338269273494777\n"
     ]
    }
   ],
   "source": [
    "import os\n",
    "import pandas as pd\n",
    "import sklearn\n",
    "from sklearn.preprocessing import OneHotEncoder,LabelEncoder\n",
    "import tensorflow as tf\n",
    "import numpy as np\n",
    "\n",
    "# root data directory\n",
    "data_dir = 'pubmed-rct/PubMed_20k_RCT_numbers_replaced_with_at_sign/'\n",
    "# list of file names\n",
    "filenames = [data_dir + filename for filename in os.listdir(data_dir)]\n",
    "print(filenames)\n",
    "\n",
    "\n",
    "def get_lines(file_name):\n",
    "    \"\"\"\n",
    "    Reads the file_name and returns the content of the file as list\n",
    "    \"\"\"\n",
    "    with open(file_name) as f:\n",
    "        lines = f.readlines()\n",
    "    return lines\n",
    "\n",
    "validation_lines = get_lines(filenames[0])\n",
    "test_lines = get_lines(filenames[1])\n",
    "train_lines = get_lines(filenames[2])\n",
    "\n",
    "print(f\"size of train lines is {len(train_lines)}\")\n",
    "print(f\"size of validation lines is {len(validation_lines)}\")\n",
    "print(f\"size of test lines is {len(test_lines)}\")\n",
    "\n",
    "def create_data_set(lines):\n",
    "    data = []\n",
    "    items = []\n",
    "    index = 0\n",
    "    for line in lines:\n",
    "        \n",
    "        if line.startswith('\\n'):\n",
    "            for item in items:\n",
    "                item['total_lines'] = index -1\n",
    "                data.append(item)\n",
    "            index = 0\n",
    "            items = []\n",
    "        else:\n",
    "            tokens = line.split('\\t')\n",
    "        \n",
    "            if len(tokens) > 1:\n",
    "                item = {'line_number':index,'target': tokens[0],'text':tokens[1].strip() ,'total_lines' :index}\n",
    "                items.append(item)\n",
    "                index = index + 1\n",
    "    return data\n",
    "\n",
    "train_data = create_data_set(train_lines)\n",
    "validation_data = create_data_set(validation_lines)\n",
    "test_data = create_data_set(test_lines)\n",
    "\n",
    "print(f\"size of train data is {len(train_data)}\")\n",
    "print(f\"size of validation data is {len(validation_data)}\")\n",
    "print(f\"size of test data is {len(test_data)}\")\n",
    "\n",
    "train_df = pd.DataFrame(train_data)\n",
    "val_df   = pd.DataFrame(validation_data)\n",
    "test_df  = pd.DataFrame(test_data)\n",
    "\n",
    "train_sentences = train_df['text'].tolist()\n",
    "val_sentences   = val_df['text'].tolist()\n",
    "test_sentences  = test_df['text'].tolist()\n",
    "\n",
    "onehot = OneHotEncoder(sparse_output=False)\n",
    "train_label_one_hot = tf.constant(onehot.fit_transform(train_df['target'].to_numpy().reshape(-1,1)))\n",
    "val_label_one_hot    = tf.constant(onehot.transform(val_df['target'].to_numpy().reshape(-1,1)))\n",
    "test_label_one_hot   = tf.constant(onehot.transform(test_df['target'].to_numpy().reshape(-1,1)))\n",
    "print('one hot encoding')\n",
    "print(train_label_one_hot[0],val_label_one_hot[0],test_label_one_hot[0])\n",
    "\n",
    "# label encoder\n",
    "labelencode = LabelEncoder()\n",
    "train_label_encoded = labelencode.fit_transform(train_df['target'].to_numpy().reshape(-1,1))\n",
    "val_label_encoded = labelencode.transform(val_df['target'].to_numpy().reshape(-1,1))\n",
    "test_label_encoded = labelencode.transform(test_df['target'].to_numpy().reshape(-1,1))\n",
    "print('label encoding...')\n",
    "print(train_label_encoded[0],val_label_encoded[0],test_label_encoded[0])\n",
    "\n",
    "print('classnames')\n",
    "classnames = labelencode.classes_\n",
    "print('class name = ', classnames, 'length of classes =', len(classnames))\n",
    "\n",
    "# create text vectorizer\n",
    "from tensorflow.keras.layers.experimental.preprocessing import TextVectorization\n",
    "\n",
    "lengths = [len(sen.split()) for sen in train_sentences]\n",
    "print('mean tokens in each sentences ', np.mean(lengths))\n",
    "output_sequence_length = int(np.percentile(lengths,95))\n",
    "\n",
    "max_tokens = 68000\n",
    "text_vectorization = TextVectorization(max_tokens=max_tokens,\n",
    "                                      output_sequence_length=output_sequence_length)\n",
    "\n",
    "text_vectorization.adapt(train_sentences)\n",
    "rct_20k_text_vocab = text_vectorization.get_vocabulary()"
   ]
  },
  {
   "cell_type": "code",
   "execution_count": 2,
   "id": "2258f8ad",
   "metadata": {},
   "outputs": [],
   "source": [
    "train_dataset = tf.data.Dataset.from_tensor_slices((train_sentences,train_label_one_hot))\n",
    "val_dataset = tf.data.Dataset.from_tensor_slices((val_sentences,val_label_one_hot))\n",
    "test_dataset = tf.data.Dataset.from_tensor_slices((test_sentences,test_label_one_hot))\n",
    "\n",
    "# for fast performance \n",
    "train_dataset = train_dataset.batch(32).prefetch(tf.data.AUTOTUNE)\n",
    "val_dataset   = val_dataset.batch(32).prefetch(tf.data.AUTOTUNE)\n",
    "test_dataset  = test_dataset.batch(32).prefetch(tf.data.AUTOTUNE)"
   ]
  },
  {
   "cell_type": "code",
   "execution_count": 3,
   "id": "aee2576d",
   "metadata": {},
   "outputs": [],
   "source": [
    "def positional_encoding(length, depth):\n",
    "    depth = depth/2\n",
    "    positions = np.arange(length)[:, np.newaxis]\n",
    "    depths = np.arange(depth)[np.newaxis, :] / depth\n",
    "\n",
    "    angle_rates = 1 / (10000 ** depths)\n",
    "    angle_rads = positions * angle_rates\n",
    "\n",
    "    pos_encoding = np.concatenate([np.sin(angle_rads), np.cos(angle_rads)],\n",
    "                                  axis=-1)\n",
    "    return tf.cast(pos_encoding, dtype=tf.float32)"
   ]
  },
  {
   "cell_type": "code",
   "execution_count": 4,
   "id": "ca80f2d7",
   "metadata": {},
   "outputs": [],
   "source": [
    "class PositionalEmbedding(tf.keras.layers.Layer):\n",
    "\n",
    "    def __init__(self, vocab_size, d_model, length=2048):\n",
    "        super().__init__()\n",
    "        self.embedding = tf.keras.layers.Embedding(input_dim=vocab_size,\n",
    "                                                   output_dim=d_model,\n",
    "                                                   mask_zero=True)\n",
    "        self.positional_encoding = positional_encoding(length=length,\n",
    "                                                       depth=d_model)\n",
    "        \n",
    "        self.length = length\n",
    "\n",
    "    def call(self, x):\n",
    "        x = self.embedding(x)\n",
    "        x = x + self.positional_encoding[tf.newaxis, :self.length, :]\n",
    "        return x\n",
    "    \n",
    "    def get_config(self):\n",
    "        config = {\n",
    "            'embedding':self.embedding,\n",
    "            'positional_encoding':self.positional_encoding,\n",
    "        }\n",
    "        return config"
   ]
  },
  {
   "cell_type": "code",
   "execution_count": 5,
   "id": "4b540b0f",
   "metadata": {},
   "outputs": [
    {
     "data": {
      "text/plain": [
       "(64841, 55, 128)"
      ]
     },
     "execution_count": 5,
     "metadata": {},
     "output_type": "execute_result"
    }
   ],
   "source": [
    "max_tokens = 68000\n",
    "lengths = [len(sen.split()) for sen in train_sentences]\n",
    "output_sequence_length = int(np.percentile(lengths,95))\n",
    "vocab_size = len(rct_20k_text_vocab)\n",
    "output_dim = 128\n",
    "output_units = 5\n",
    "sample_sentence = train_sentences[0]\n",
    "vocab_size,output_sequence_length,output_dim"
   ]
  },
  {
   "cell_type": "code",
   "execution_count": 6,
   "id": "641f0162",
   "metadata": {},
   "outputs": [],
   "source": [
    "import tensorflow as tf\n",
    "from tensorflow.keras.layers import Conv1D, GlobalAveragePooling1D, Dense\n",
    "\n",
    "class PubMedTokenEmbeddingModel(tf.keras.Model):\n",
    "    \n",
    "    def __init__(self, max_tokens, output_seq_length, vocab_size, output_dim,output_units):\n",
    "        super().__init__()\n",
    "        self.text_vectorizer = TextVectorization(max_tokens=max_tokens, \n",
    "                                                 output_sequence_length=output_sequence_length,\n",
    "                                                name=\"vectorization_layer\")\n",
    "        self.text_vectorizer.adapt(train_sentences)\n",
    "        self.embedding = PositionalEmbedding(vocab_size=vocab_size,\n",
    "                                   d_model=output_dim,\n",
    "                                   length=output_sequence_length)\n",
    "#         self.embedding = Embedding(input_dim=len(rct_20k_text_vocab),\n",
    "#                      output_dim=128,\n",
    "#                      mask_zero=True,\n",
    "#                       name=\"token_embedding_layer\")\n",
    "        self.conv1D = Conv1D(filters=64,\n",
    "                             kernel_size=5,\n",
    "                             padding=\"same\",\n",
    "                             activation=\"relu\",\n",
    "                             name=\"conv1d_Layer\")\n",
    "        self.pooling = GlobalAveragePooling1D(name=\"global_average_pooling\")\n",
    "        self.outputs = Dense(output_units,activation=\"softmax\", name=\"fully_connected\")\n",
    "        \n",
    "    def call(self, inputs):\n",
    "        x = self.text_vectorizer(inputs)\n",
    "        x = self.embedding(x)\n",
    "        x = self.conv1D(x)\n",
    "        x = self.pooling(x)\n",
    "        return self.outputs(x)\n",
    "    \n",
    "    def build_graph(self, raw_shape):\n",
    "        x = tf.keras.layers.Input(shape=raw_shape)\n",
    "        return Model(inputs=[x], outputs=self.call(x))\n",
    "    \n",
    "    \n",
    "        \n",
    "        "
   ]
  },
  {
   "cell_type": "code",
   "execution_count": 7,
   "id": "a209ef70",
   "metadata": {},
   "outputs": [],
   "source": [
    "token_model = PubMedTokenEmbeddingModel(max_tokens=max_tokens,\n",
    "                                       output_seq_length=output_sequence_length,\n",
    "                                       vocab_size=vocab_size,\n",
    "                                       output_dim=output_dim,\n",
    "                                       output_units=output_units)"
   ]
  },
  {
   "cell_type": "code",
   "execution_count": 8,
   "id": "1ede2660",
   "metadata": {},
   "outputs": [
    {
     "name": "stderr",
     "output_type": "stream",
     "text": [
      "2023-07-01 09:35:11.068131: I tensorflow/compiler/xla/stream_executor/cuda/cuda_dnn.cc:424] Loaded cuDNN version 8600\n",
      "2023-07-01 09:35:13.035635: I tensorflow/compiler/xla/stream_executor/cuda/cuda_blas.cc:637] TensorFloat-32 will be used for the matrix multiplication. This will only be logged once.\n"
     ]
    },
    {
     "data": {
      "text/plain": [
       "<tf.Tensor: shape=(1, 5), dtype=float32, numpy=\n",
       "array([[0.22512673, 0.20956591, 0.21844925, 0.23885961, 0.10799854]],\n",
       "      dtype=float32)>"
      ]
     },
     "execution_count": 8,
     "metadata": {},
     "output_type": "execute_result"
    }
   ],
   "source": [
    "token_model([sample_sentence])"
   ]
  },
  {
   "cell_type": "code",
   "execution_count": 9,
   "id": "b9ad33ba",
   "metadata": {},
   "outputs": [
    {
     "data": {
      "text/plain": [
       "<tf.Tensor: shape=(1, 5), dtype=float32, numpy=\n",
       "array([[0.22512673, 0.20956591, 0.21844925, 0.23885961, 0.10799854]],\n",
       "      dtype=float32)>"
      ]
     },
     "execution_count": 9,
     "metadata": {},
     "output_type": "execute_result"
    }
   ],
   "source": [
    "token_model(sample_sentence)"
   ]
  },
  {
   "cell_type": "code",
   "execution_count": 10,
   "id": "357495c8",
   "metadata": {},
   "outputs": [],
   "source": [
    "token_model.compile(loss=\"categorical_crossentropy\",\n",
    "               optimizer=tf.keras.optimizers.Adam(),\n",
    "               metrics=['accuracy'])"
   ]
  },
  {
   "cell_type": "code",
   "execution_count": 11,
   "id": "0f86b27a",
   "metadata": {},
   "outputs": [
    {
     "name": "stderr",
     "output_type": "stream",
     "text": [
      "2023-07-01 09:35:13.218311: I tensorflow/core/common_runtime/executor.cc:1197] [/device:CPU:0] (DEBUG INFO) Executor start aborting (this does not indicate an error and you can ignore this message): INVALID_ARGUMENT: You must feed a value for placeholder tensor 'Placeholder/_1' with dtype double and shape [180040,5]\n",
      "\t [[{{node Placeholder/_1}}]]\n",
      "2023-07-01 09:35:14.476385: I tensorflow/compiler/xla/service/service.cc:169] XLA service 0x7f22d8009700 initialized for platform CUDA (this does not guarantee that XLA will be used). Devices:\n",
      "2023-07-01 09:35:14.476474: I tensorflow/compiler/xla/service/service.cc:177]   StreamExecutor device (0): NVIDIA GeForce RTX 3060 Laptop GPU, Compute Capability 8.6\n",
      "2023-07-01 09:35:14.548024: I tensorflow/compiler/mlir/tensorflow/utils/dump_mlir_util.cc:269] disabling MLIR crash reproducer, set env var `MLIR_CRASH_REPRODUCER_DIRECTORY` to enable.\n",
      "2023-07-01 09:35:15.067540: I ./tensorflow/compiler/jit/device_compiler.h:180] Compiled cluster using XLA!  This line is logged at most once for the lifetime of the process.\n"
     ]
    },
    {
     "name": "stdout",
     "output_type": "stream",
     "text": [
      "562/562 [==============================] - ETA: 0s - loss: 1.1245 - accuracy: 0.5292"
     ]
    },
    {
     "name": "stderr",
     "output_type": "stream",
     "text": [
      "2023-07-01 09:36:15.868379: I tensorflow/core/common_runtime/executor.cc:1197] [/device:CPU:0] (DEBUG INFO) Executor start aborting (this does not indicate an error and you can ignore this message): INVALID_ARGUMENT: You must feed a value for placeholder tensor 'Placeholder/_1' with dtype double and shape [30212,5]\n",
      "\t [[{{node Placeholder/_1}}]]\n"
     ]
    },
    {
     "name": "stdout",
     "output_type": "stream",
     "text": [
      "\b\b\b\b\b\b\b\b\b\b\b\b\b\b\b\b\b\b\b\b\b\b\b\b\b\b\b\b\b\b\b\b\b\b\b\b\b\b\b\b\b\b\b\b\b\b\b\b\b\b\b\b\b\b\b\b\b\b\b\b\b\b\b\b\b\b\b\b\b\b\b\b\b\b\b\b\b\b\b\b\b\b\b\b\r",
      "562/562 [==============================] - 64s 108ms/step - loss: 1.1245 - accuracy: 0.5292 - val_loss: 0.7472 - val_accuracy: 0.7078\n"
     ]
    }
   ],
   "source": [
    "token_model_history = token_model.fit(train_dataset,\n",
    "                                      steps_per_epoch=int(0.1*len(train_dataset)),\n",
    "                                      epochs=1,\n",
    "                                      validation_data=val_dataset,\n",
    "                                      validation_steps=int(0.1*len(val_dataset)))"
   ]
  },
  {
   "cell_type": "code",
   "execution_count": 12,
   "id": "502b0ab6",
   "metadata": {},
   "outputs": [
    {
     "name": "stdout",
     "output_type": "stream",
     "text": [
      "945/945 [==============================] - 10s 10ms/step - loss: 0.7500 - accuracy: 0.7056\n"
     ]
    },
    {
     "data": {
      "text/plain": [
       "[0.7500398755073547, 0.7055805921554565]"
      ]
     },
     "execution_count": 12,
     "metadata": {},
     "output_type": "execute_result"
    }
   ],
   "source": [
    "token_model.evaluate(val_dataset)"
   ]
  },
  {
   "cell_type": "code",
   "execution_count": 13,
   "id": "63d20258",
   "metadata": {},
   "outputs": [
    {
     "name": "stdout",
     "output_type": "stream",
     "text": [
      "Model: \"pub_med_token_embedding_model\"\n",
      "_________________________________________________________________\n",
      " Layer (type)                Output Shape              Param #   \n",
      "=================================================================\n",
      " vectorization_layer (TextVe  multiple                 0         \n",
      " ctorization)                                                    \n",
      "                                                                 \n",
      " positional_embedding (Posit  multiple                 8299648   \n",
      " ionalEmbedding)                                                 \n",
      "                                                                 \n",
      " conv1d_Layer (Conv1D)       multiple                  41024     \n",
      "                                                                 \n",
      " global_average_pooling (Glo  multiple                 0         \n",
      " balAveragePooling1D)                                            \n",
      "                                                                 \n",
      " fully_connected (Dense)     multiple                  325       \n",
      "                                                                 \n",
      "=================================================================\n",
      "Total params: 8,340,997\n",
      "Trainable params: 8,340,997\n",
      "Non-trainable params: 0\n",
      "_________________________________________________________________\n"
     ]
    }
   ],
   "source": [
    "token_model.summary()"
   ]
  },
  {
   "cell_type": "code",
   "execution_count": 14,
   "id": "8a2647ae",
   "metadata": {},
   "outputs": [
    {
     "data": {
      "image/png": "[encoded data removed]",
      "text/plain": [
       "<IPython.core.display.Image object>"
      ]
     },
     "execution_count": 14,
     "metadata": {},
     "output_type": "execute_result"
    }
   ],
   "source": [
    "from tensorflow.keras.utils import plot_model\n",
    "\n",
    "plot_model(token_model, show_shapes=True)"
   ]
  },
  {
   "cell_type": "code",
   "execution_count": 17,
   "id": "e151cf4f",
   "metadata": {},
   "outputs": [],
   "source": [
    "token_model.save_weights('resources/model/pubmed_model4')"
   ]
  },
  {
   "cell_type": "code",
   "execution_count": 18,
   "id": "1d2ed602",
   "metadata": {},
   "outputs": [],
   "source": [
    "token_model_new = PubMedTokenEmbeddingModel(max_tokens=max_tokens,\n",
    "                                       output_seq_length=output_sequence_length,\n",
    "                                       vocab_size=vocab_size,\n",
    "                                       output_dim=output_dim,\n",
    "                                       output_units=output_units)"
   ]
  },
  {
   "cell_type": "code",
   "execution_count": 22,
   "id": "d08568b8",
   "metadata": {},
   "outputs": [],
   "source": [
    "token_model_new.compile(loss=\"categorical_crossentropy\",\n",
    "               optimizer=tf.keras.optimizers.Adam(),\n",
    "               metrics=['accuracy'])"
   ]
  },
  {
   "cell_type": "code",
   "execution_count": 23,
   "id": "81ff52c6",
   "metadata": {},
   "outputs": [
    {
     "data": {
      "text/plain": [
       "<tensorflow.python.checkpoint.checkpoint.CheckpointLoadStatus at 0x7f25099fed30>"
      ]
     },
     "execution_count": 23,
     "metadata": {},
     "output_type": "execute_result"
    }
   ],
   "source": [
    "token_model_new.load_weights('resources/model/pubmed_model4')"
   ]
  },
  {
   "cell_type": "code",
   "execution_count": 24,
   "id": "4d07474a",
   "metadata": {},
   "outputs": [
    {
     "name": "stdout",
     "output_type": "stream",
     "text": [
      "945/945 [==============================] - 11s 11ms/step - loss: 0.7500 - accuracy: 0.7056\n"
     ]
    },
    {
     "data": {
      "text/plain": [
       "[0.7500398755073547, 0.7055805921554565]"
      ]
     },
     "execution_count": 24,
     "metadata": {},
     "output_type": "execute_result"
    }
   ],
   "source": [
    "token_model_new.evaluate(val_dataset)"
   ]
  },
  {
   "cell_type": "code",
   "execution_count": null,
   "id": "22021f4e",
   "metadata": {},
   "outputs": [],
   "source": [
    "import tensorflow as tf\n",
    "tf.__version__"
   ]
  },
  {
   "cell_type": "code",
   "execution_count": null,
   "id": "7c6e68b2",
   "metadata": {},
   "outputs": [],
   "source": []
  }
 ],
 "metadata": {
  "kernelspec": {
   "display_name": "Python 3 (ipykernel)",
   "language": "python",
   "name": "python3"
  },
  "language_info": {
   "codemirror_mode": {
    "name": "ipython",
    "version": 3
   },
   "file_extension": ".py",
   "mimetype": "text/x-python",
   "name": "python",
   "nbconvert_exporter": "python",
   "pygments_lexer": "ipython3",
   "version": "3.8.10"
  }
 },
 "nbformat": 4,
 "nbformat_minor": 5
}
