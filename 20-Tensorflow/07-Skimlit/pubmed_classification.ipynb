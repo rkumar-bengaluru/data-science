{
 "cells": [
  {
   "cell_type": "markdown",
   "id": "6a532c6d",
   "metadata": {},
   "source": [
    "# Pubmed sequential sentence classification\n",
    "\n",
    "* Research Paper - https://arxiv.org/abs/1710.06071"
   ]
  },
  {
   "cell_type": "markdown",
   "id": "a93c67a8",
   "metadata": {},
   "source": [
    "## Goal - (255 - 256)\n",
    "\n",
    "* Download a text dataset (PubMed 200K RCT)\n",
    "* Write a preprocessing function for our test data\n",
    "* One Hot Encoding & Label Encoding.\n",
    "* Setting up multiple modelling experiments with different levels of embedding\n",
    "* Building a **multimodal model** to take in different sources of data\n",
    "  * Replicating the model discussed in this paper (https://arxiv.org/abs/1710.06071)\n",
    "  * Actual model description (https://arxiv.org/abs/1612.05251)\n",
    "* Finding the most wrong predictions\n",
    "* Reference Model\n",
    "\n",
    "![Reference Model](https://raw.githubusercontent.com/rkumar-bengaluru/data-science/main/20-Tensorflow/07-Skimlit/model.jpg)"
   ]
  },
  {
   "cell_type": "markdown",
   "id": "ea59c3b7",
   "metadata": {},
   "source": [
    "## SkimLit Inputs and Outputs (257) - Ignore"
   ]
  },
  {
   "cell_type": "markdown",
   "id": "b2bceb91",
   "metadata": {},
   "source": [
    "## Get the data (258 - 259)\n",
    "\n",
    "Download the dataset for pubmed 200K RCT from https://github.com/Franck-Dernoncourt/pubmed-rct"
   ]
  },
  {
   "cell_type": "code",
   "execution_count": 1,
   "id": "5beb35ef",
   "metadata": {},
   "outputs": [
    {
     "name": "stderr",
     "output_type": "stream",
     "text": [
      "fatal: destination path 'pubmed-rct' already exists and is not an empty directory.\n"
     ]
    }
   ],
   "source": [
    "!git clone https://github.com/Franck-Dernoncourt/pubmed-rct"
   ]
  },
  {
   "cell_type": "code",
   "execution_count": 2,
   "id": "397d30d9",
   "metadata": {},
   "outputs": [
    {
     "name": "stdout",
     "output_type": "stream",
     "text": [
      " Volume in drive C is OS\n",
      " Volume Serial Number is 30F4-96C0\n",
      "\n",
      " Directory of C:\\2023\\data-science\\20-Tensorflow\\07-Skimlit\\pubmed-rct\n",
      "\n",
      "04-05-2023  13:08    <DIR>          .\n",
      "07-05-2023  20:21    <DIR>          ..\n",
      "04-05-2023  13:08    <DIR>          PubMed_200k_RCT\n",
      "04-05-2023  13:08    <DIR>          PubMed_200k_RCT_numbers_replaced_with_at_sign\n",
      "04-05-2023  13:08    <DIR>          PubMed_20k_RCT\n",
      "04-05-2023  13:08    <DIR>          PubMed_20k_RCT_numbers_replaced_with_at_sign\n",
      "04-05-2023  13:08             2,403 README.md\n",
      "               1 File(s)          2,403 bytes\n",
      "               6 Dir(s)  397,079,023,616 bytes free\n"
     ]
    }
   ],
   "source": [
    "!dir pubmed-rct"
   ]
  },
  {
   "cell_type": "code",
   "execution_count": 3,
   "id": "33f36bb2",
   "metadata": {},
   "outputs": [
    {
     "name": "stdout",
     "output_type": "stream",
     "text": [
      "['pubmed-rct/PubMed_20k_RCT_numbers_replaced_with_at_sign/dev.txt', 'pubmed-rct/PubMed_20k_RCT_numbers_replaced_with_at_sign/test.txt', 'pubmed-rct/PubMed_20k_RCT_numbers_replaced_with_at_sign/train.txt']\n"
     ]
    }
   ],
   "source": [
    "import os\n",
    "\n",
    "# root data directory\n",
    "data_dir = 'pubmed-rct/PubMed_20k_RCT_numbers_replaced_with_at_sign/'\n",
    "# list of file names\n",
    "filenames = [data_dir + filename for filename in os.listdir(data_dir)]\n",
    "print(filenames)"
   ]
  },
  {
   "cell_type": "markdown",
   "id": "d23605a6",
   "metadata": {},
   "source": [
    "### Preprocess Data (260)\n",
    "\n",
    "Write a function which will read each line of the file and create the below structure:\n",
    "\n",
    "```\n",
    "[{ 'line_number' : 0,\n",
    "   'target'  : 'first few characters till \\t tab character',\n",
    "   'text'   : 'full text after \\t character till end of line character \\n',\n",
    "   'total_lines' : \n",
    " },\n",
    " ...\n",
    "]\n",
    "```\n",
    "\n",
    "Ignore line starting with ### and repeat the same for train_data, validation_data and test_data"
   ]
  },
  {
   "cell_type": "code",
   "execution_count": 4,
   "id": "11189c0b",
   "metadata": {},
   "outputs": [
    {
     "name": "stdout",
     "output_type": "stream",
     "text": [
      "size of train lines is 210040\n",
      "size of validation lines is 35212\n",
      "size of test lines is 35135\n",
      "size of train data is 180040\n",
      "size of validation data is 30212\n",
      "size of test data is 30135\n"
     ]
    }
   ],
   "source": [
    "import os\n",
    "\n",
    "def get_lines(file_name):\n",
    "    \"\"\"\n",
    "    Reads the file_name and returns the content of the file as list\n",
    "    \"\"\"\n",
    "    with open(file_name) as f:\n",
    "        lines = f.readlines()\n",
    "    return lines\n",
    "\n",
    "validation_lines = get_lines(filenames[0])\n",
    "test_lines = get_lines(filenames[1])\n",
    "train_lines = get_lines(filenames[2])\n",
    "\n",
    "print(f\"size of train lines is {len(train_lines)}\")\n",
    "print(f\"size of validation lines is {len(validation_lines)}\")\n",
    "print(f\"size of test lines is {len(test_lines)}\")\n",
    "\n",
    "def create_data_set(lines):\n",
    "    data = []\n",
    "    items = []\n",
    "    index = 0\n",
    "    for line in lines:\n",
    "        \n",
    "        if line.startswith('\\n'):\n",
    "            for item in items:\n",
    "                item['total_lines'] = index -1\n",
    "                data.append(item)\n",
    "            index = 0\n",
    "            items = []\n",
    "        else:\n",
    "            tokens = line.split('\\t')\n",
    "        \n",
    "            if len(tokens) > 1:\n",
    "                item = {'line_number':index,'target': tokens[0],'text':tokens[1].strip() ,'total_lines' :index}\n",
    "                items.append(item)\n",
    "                index = index + 1\n",
    "    return data\n",
    "\n",
    "train_data = create_data_set(train_lines)\n",
    "validation_data = create_data_set(validation_lines)\n",
    "test_data = create_data_set(test_lines)\n",
    "\n",
    "print(f\"size of train data is {len(train_data)}\")\n",
    "print(f\"size of validation data is {len(validation_data)}\")\n",
    "print(f\"size of test data is {len(test_data)}\")\n"
   ]
  },
  {
   "cell_type": "markdown",
   "id": "76907385",
   "metadata": {},
   "source": [
    "### Visualize Data (261)\n",
    "\n",
    "Use pandas dataframe"
   ]
  },
  {
   "cell_type": "code",
   "execution_count": 5,
   "id": "c4870cb5",
   "metadata": {},
   "outputs": [
    {
     "name": "stdout",
     "output_type": "stream",
     "text": [
      "head of train data\n",
      "   line_number     target                                               text  \\\n",
      "0            0  OBJECTIVE  To investigate the efficacy of @ weeks of dail...   \n",
      "1            1    METHODS  A total of @ patients with primary knee OA wer...   \n",
      "2            2    METHODS  Outcome measures included pain reduction and i...   \n",
      "3            3    METHODS  Pain was assessed using the visual analog pain...   \n",
      "4            4    METHODS  Secondary outcome measures included the Wester...   \n",
      "\n",
      "   total_lines  \n",
      "0           11  \n",
      "1           11  \n",
      "2           11  \n",
      "3           11  \n",
      "4           11  \n",
      "unique counts of each target\n",
      "METHODS        59353\n",
      "RESULTS        57953\n",
      "CONCLUSIONS    27168\n",
      "BACKGROUND     21727\n",
      "OBJECTIVE      13839\n",
      "Name: target, dtype: int64\n"
     ]
    },
    {
     "data": {
      "image/png": "[encoded data removed]",
      "text/plain": [
       "<Figure size 640x480 with 1 Axes>"
      ]
     },
     "metadata": {},
     "output_type": "display_data"
    }
   ],
   "source": [
    "# Visualize data with data frame.\n",
    "\n",
    "import pandas as pd\n",
    "import matplotlib.pyplot as plt\n",
    "\n",
    "train_df = pd.DataFrame(train_data)\n",
    "val_df   = pd.DataFrame(validation_data)\n",
    "test_df  = pd.DataFrame(test_data)\n",
    "# print the head\n",
    "print('head of train data')\n",
    "print(train_df.head())\n",
    "print('unique counts of each target')\n",
    "print(train_df['target'].value_counts())\n",
    "# length of different lines\n",
    "train_df.total_lines.plot.hist();\n"
   ]
  },
  {
   "cell_type": "code",
   "execution_count": 6,
   "id": "1e6b8de9",
   "metadata": {},
   "outputs": [
    {
     "name": "stdout",
     "output_type": "stream",
     "text": [
      "train sentences length 180040\n",
      "val sentences length 30212\n",
      "test sentences length 30135\n"
     ]
    }
   ],
   "source": [
    "# convert to list\n",
    "train_sentences = train_df['text'].tolist()\n",
    "val_sentences   = val_df['text'].tolist()\n",
    "test_sentences  = test_df['text'].tolist()\n",
    "print(f\"train sentences length {len(train_sentences)}\")\n",
    "print(f\"val sentences length {len(val_sentences)}\")\n",
    "print(f\"test sentences length {len(test_sentences)}\")"
   ]
  },
  {
   "cell_type": "markdown",
   "id": "53fbbd61",
   "metadata": {},
   "source": [
    "## One Hot Encoding & Label Encoding (262)"
   ]
  },
  {
   "cell_type": "code",
   "execution_count": 7,
   "id": "0d9366ae",
   "metadata": {},
   "outputs": [
    {
     "name": "stdout",
     "output_type": "stream",
     "text": [
      "one hot encoding\n",
      "tf.Tensor([0. 0. 0. 1. 0.], shape=(5,), dtype=float64) tf.Tensor([1. 0. 0. 0. 0.], shape=(5,), dtype=float64) tf.Tensor([1. 0. 0. 0. 0.], shape=(5,), dtype=float64)\n",
      "label encoding...\n",
      "3 0 0\n",
      "classnames\n",
      "class name =  ['BACKGROUND' 'CONCLUSIONS' 'METHODS' 'OBJECTIVE' 'RESULTS'] length of classes = 5\n"
     ]
    },
    {
     "name": "stderr",
     "output_type": "stream",
     "text": [
      "C:\\Users\\Rupak\\.conda\\envs\\tensorflow\\lib\\site-packages\\sklearn\\preprocessing\\_label.py:116: DataConversionWarning: A column-vector y was passed when a 1d array was expected. Please change the shape of y to (n_samples, ), for example using ravel().\n",
      "  y = column_or_1d(y, warn=True)\n",
      "C:\\Users\\Rupak\\.conda\\envs\\tensorflow\\lib\\site-packages\\sklearn\\preprocessing\\_label.py:134: DataConversionWarning: A column-vector y was passed when a 1d array was expected. Please change the shape of y to (n_samples, ), for example using ravel().\n",
      "  y = column_or_1d(y, dtype=self.classes_.dtype, warn=True)\n"
     ]
    }
   ],
   "source": [
    "import sklearn\n",
    "from sklearn.preprocessing import OneHotEncoder,LabelEncoder\n",
    "import tensorflow as tf\n",
    "\n",
    "onehot = OneHotEncoder(sparse_output=False)\n",
    "train_label_one_hot = tf.constant(onehot.fit_transform(train_df['target'].to_numpy().reshape(-1,1)))\n",
    "val_label_one_hot    = tf.constant(onehot.transform(val_df['target'].to_numpy().reshape(-1,1)))\n",
    "test_label_one_hot   = tf.constant(onehot.transform(test_df['target'].to_numpy().reshape(-1,1)))\n",
    "print('one hot encoding')\n",
    "print(train_label_one_hot[0],val_label_one_hot[0],test_label_one_hot[0])\n",
    "\n",
    "# label encoder\n",
    "labelencode = LabelEncoder()\n",
    "train_label_encoded = labelencode.fit_transform(train_df['target'].to_numpy().reshape(-1,1))\n",
    "val_label_encoded = labelencode.transform(val_df['target'].to_numpy().reshape(-1,1))\n",
    "test_label_encoded = labelencode.transform(test_df['target'].to_numpy().reshape(-1,1))\n",
    "print('label encoding...')\n",
    "print(train_label_encoded[0],val_label_encoded[0],test_label_encoded[0])\n",
    "\n",
    "print('classnames')\n",
    "classnames = labelencode.classes_\n",
    "print('class name = ', classnames, 'length of classes =', len(classnames))"
   ]
  },
  {
   "cell_type": "markdown",
   "id": "67375053",
   "metadata": {},
   "source": [
    "## Experiments to be Conducted (262)\n",
    "\n",
    "![Experiments](https://raw.githubusercontent.com/rkumar-bengaluru/data-science/main/20-Tensorflow/07-Skimlit/resources/experiments.jpg)"
   ]
  },
  {
   "cell_type": "markdown",
   "id": "1cb022b8",
   "metadata": {},
   "source": [
    "## Model 0 - Naive Bayes with TF-IDF Encoder (263)\n",
    "\n",
    "* Selection Method\n",
    "![Machine Learning Map](https://raw.githubusercontent.com/rkumar-bengaluru/data-science/main/20-Tensorflow/07-Skimlit/resources/ml_map.png)"
   ]
  },
  {
   "cell_type": "code",
   "execution_count": 41,
   "id": "29ab77ce",
   "metadata": {},
   "outputs": [
    {
     "name": "stdout",
     "output_type": "stream",
     "text": [
      "baseline model scores\n",
      "accuracy_score= 0.7218323844829869\n",
      "precision_score= 0.7186466952323352\n",
      "recall_score= 0.7218323844829869\n",
      "f1_score= 0.6989250353450294\n"
     ]
    }
   ],
   "source": [
    "from sklearn.feature_extraction.text import TfidfVectorizer\n",
    "from sklearn.pipeline import Pipeline\n",
    "from sklearn.naive_bayes import MultinomialNB\n",
    "from sklearn.metrics import accuracy_score,precision_score,recall_score,f1_score\n",
    "\n",
    "model_0 = Pipeline([('tf-idf',TfidfVectorizer()),\n",
    "               ('naive_bayes',MultinomialNB())])\n",
    "model_0.fit(X=train_sentences,y=train_label_encoded)\n",
    "\n",
    "y_pred = model_0.score(X=val_sentences,y=val_label_encoded)\n",
    "\n",
    "val_preds = model_0.predict(val_sentences)\n",
    "print('baseline model scores')\n",
    "a_score = accuracy_score(y_true=val_label_encoded,y_pred=val_preds)\n",
    "print('accuracy_score=',a_score)\n",
    "p_score = precision_score(y_true=val_label_encoded,y_pred=val_preds,average='weighted')\n",
    "print('precision_score=',p_score)\n",
    "recall_score = recall_score(y_true=val_label_encoded,y_pred=val_preds,average='weighted')\n",
    "print('recall_score=',recall_score)\n",
    "f_score = f1_score(y_true=val_label_encoded,y_pred=val_preds,average='weighted')\n",
    "print('f1_score=',f_score)"
   ]
  },
  {
   "cell_type": "code",
   "execution_count": null,
   "id": "c333ee29",
   "metadata": {},
   "outputs": [],
   "source": []
  },
  {
   "cell_type": "code",
   "execution_count": null,
   "id": "53700cc9",
   "metadata": {},
   "outputs": [],
   "source": []
  }
 ],
 "metadata": {
  "kernelspec": {
   "display_name": "Python 3 (ipykernel)",
   "language": "python",
   "name": "python3"
  },
  "language_info": {
   "codemirror_mode": {
    "name": "ipython",
    "version": 3
   },
   "file_extension": ".py",
   "mimetype": "text/x-python",
   "name": "python",
   "nbconvert_exporter": "python",
   "pygments_lexer": "ipython3",
   "version": "3.10.10"
  }
 },
 "nbformat": 4,
 "nbformat_minor": 5
}
