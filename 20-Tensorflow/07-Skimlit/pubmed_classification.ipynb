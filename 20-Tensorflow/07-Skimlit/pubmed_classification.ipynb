{
  "cells": [
    {
      "cell_type": "markdown",
      "id": "6a532c6d",
      "metadata": {
        "id": "6a532c6d"
      },
      "source": [
        "# Pubmed sequential sentence classification\n",
        "\n",
        "* Research Paper - https://arxiv.org/abs/1710.06071"
      ]
    },
    {
      "cell_type": "markdown",
      "id": "a93c67a8",
      "metadata": {
        "id": "a93c67a8"
      },
      "source": [
        "## Goal - (255 - 256)\n",
        "\n",
        "* Download a text dataset (PubMed 200K RCT)\n",
        "* Write a preprocessing function for our test data\n",
        "* One Hot Encoding & Label Encoding.\n",
        "* Setting up multiple modelling experiments with different levels of embedding\n",
        "* Building a **multimodal model** to take in different sources of data\n",
        "  * Replicating the model discussed in this paper (https://arxiv.org/abs/1710.06071)\n",
        "  * Actual model description (https://arxiv.org/abs/1612.05251)\n",
        "* Finding the most wrong predictions\n",
        "* Reference Model\n",
        "\n",
        "![Reference Model](https://raw.githubusercontent.com/rkumar-bengaluru/data-science/main/20-Tensorflow/07-Skimlit/model.jpg)"
      ]
    },
    {
      "cell_type": "markdown",
      "id": "ea59c3b7",
      "metadata": {
        "id": "ea59c3b7"
      },
      "source": [
        "## SkimLit Inputs and Outputs (257) - Ignore"
      ]
    },
    {
      "cell_type": "markdown",
      "id": "b2bceb91",
      "metadata": {
        "id": "b2bceb91"
      },
      "source": [
        "## Get the data (258 - 259)\n",
        "\n",
        "Download the dataset for pubmed 200K RCT from https://github.com/Franck-Dernoncourt/pubmed-rct"
      ]
    },
    {
      "cell_type": "code",
      "execution_count": 71,
      "id": "5beb35ef",
      "metadata": {
        "colab": {
          "base_uri": "https://localhost:8080/"
        },
        "id": "5beb35ef",
        "outputId": "7dffb1d6-0628-4e01-fcfc-60e0c749848d"
      },
      "outputs": [
        {
          "output_type": "stream",
          "name": "stdout",
          "text": [
            "fatal: destination path 'pubmed-rct' already exists and is not an empty directory.\n"
          ]
        }
      ],
      "source": [
        "!git clone https://github.com/Franck-Dernoncourt/pubmed-rct"
      ]
    },
    {
      "cell_type": "code",
      "execution_count": 72,
      "id": "397d30d9",
      "metadata": {
        "colab": {
          "base_uri": "https://localhost:8080/"
        },
        "id": "397d30d9",
        "outputId": "122342d2-ebf1-4857-de79-b5f97f542881"
      },
      "outputs": [
        {
          "output_type": "stream",
          "name": "stdout",
          "text": [
            "PubMed_200k_RCT\n",
            "PubMed_200k_RCT_numbers_replaced_with_at_sign\n",
            "PubMed_20k_RCT\n",
            "PubMed_20k_RCT_numbers_replaced_with_at_sign\n",
            "README.md\n"
          ]
        }
      ],
      "source": [
        "!dir pubmed-rct"
      ]
    },
    {
      "cell_type": "code",
      "execution_count": 73,
      "id": "33f36bb2",
      "metadata": {
        "colab": {
          "base_uri": "https://localhost:8080/"
        },
        "id": "33f36bb2",
        "outputId": "b3220877-a240-4ec2-e3d0-6a8cbd54188c"
      },
      "outputs": [
        {
          "output_type": "stream",
          "name": "stdout",
          "text": [
            "['pubmed-rct/PubMed_20k_RCT_numbers_replaced_with_at_sign/dev.txt', 'pubmed-rct/PubMed_20k_RCT_numbers_replaced_with_at_sign/test.txt', 'pubmed-rct/PubMed_20k_RCT_numbers_replaced_with_at_sign/train.txt']\n"
          ]
        }
      ],
      "source": [
        "import os\n",
        "\n",
        "# root data directory\n",
        "data_dir = 'pubmed-rct/PubMed_20k_RCT_numbers_replaced_with_at_sign/'\n",
        "# list of file names\n",
        "filenames = [data_dir + filename for filename in os.listdir(data_dir)]\n",
        "print(filenames)"
      ]
    },
    {
      "cell_type": "markdown",
      "id": "d23605a6",
      "metadata": {
        "id": "d23605a6"
      },
      "source": [
        "### Preprocess Data (260)\n",
        "\n",
        "Write a function which will read each line of the file and create the below structure:\n",
        "\n",
        "```\n",
        "[{ 'line_number' : 0,\n",
        "   'target'  : 'first few characters till \\t tab character',\n",
        "   'text'   : 'full text after \\t character till end of line character \\n',\n",
        "   'total_lines' : \n",
        " },\n",
        " ...\n",
        "]\n",
        "```\n",
        "\n",
        "Ignore line starting with ### and repeat the same for train_data, validation_data and test_data"
      ]
    },
    {
      "cell_type": "code",
      "execution_count": 74,
      "id": "11189c0b",
      "metadata": {
        "colab": {
          "base_uri": "https://localhost:8080/"
        },
        "id": "11189c0b",
        "outputId": "11110a36-2f53-41f8-bf1a-95b33dc38f22"
      },
      "outputs": [
        {
          "output_type": "stream",
          "name": "stdout",
          "text": [
            "size of train lines is 210040\n",
            "size of validation lines is 35212\n",
            "size of test lines is 35135\n",
            "size of train data is 180040\n",
            "size of validation data is 30212\n",
            "size of test data is 30135\n"
          ]
        }
      ],
      "source": [
        "import os\n",
        "\n",
        "def get_lines(file_name):\n",
        "    \"\"\"\n",
        "    Reads the file_name and returns the content of the file as list\n",
        "    \"\"\"\n",
        "    with open(file_name) as f:\n",
        "        lines = f.readlines()\n",
        "    return lines\n",
        "\n",
        "validation_lines = get_lines(filenames[0])\n",
        "test_lines = get_lines(filenames[1])\n",
        "train_lines = get_lines(filenames[2])\n",
        "\n",
        "print(f\"size of train lines is {len(train_lines)}\")\n",
        "print(f\"size of validation lines is {len(validation_lines)}\")\n",
        "print(f\"size of test lines is {len(test_lines)}\")\n",
        "\n",
        "def create_data_set(lines):\n",
        "    data = []\n",
        "    items = []\n",
        "    index = 0\n",
        "    for line in lines:\n",
        "        \n",
        "        if line.startswith('\\n'):\n",
        "            for item in items:\n",
        "                item['total_lines'] = index -1\n",
        "                data.append(item)\n",
        "            index = 0\n",
        "            items = []\n",
        "        else:\n",
        "            tokens = line.split('\\t')\n",
        "        \n",
        "            if len(tokens) > 1:\n",
        "                item = {'line_number':index,'target': tokens[0],'text':tokens[1].strip() ,'total_lines' :index}\n",
        "                items.append(item)\n",
        "                index = index + 1\n",
        "    return data\n",
        "\n",
        "train_data = create_data_set(train_lines)\n",
        "validation_data = create_data_set(validation_lines)\n",
        "test_data = create_data_set(test_lines)\n",
        "\n",
        "print(f\"size of train data is {len(train_data)}\")\n",
        "print(f\"size of validation data is {len(validation_data)}\")\n",
        "print(f\"size of test data is {len(test_data)}\")\n"
      ]
    },
    {
      "cell_type": "markdown",
      "id": "76907385",
      "metadata": {
        "id": "76907385"
      },
      "source": [
        "### Visualize Data (261)\n",
        "\n",
        "Use pandas dataframe"
      ]
    },
    {
      "cell_type": "code",
      "execution_count": 75,
      "id": "c4870cb5",
      "metadata": {
        "colab": {
          "base_uri": "https://localhost:8080/",
          "height": 795
        },
        "id": "c4870cb5",
        "outputId": "626d6932-31f2-4d1a-e7fe-0fe667ea0eac"
      },
      "outputs": [
        {
          "output_type": "stream",
          "name": "stdout",
          "text": [
            "head of train data\n",
            "   line_number     target                                               text  \\\n",
            "0            0  OBJECTIVE  To investigate the efficacy of @ weeks of dail...   \n",
            "1            1    METHODS  A total of @ patients with primary knee OA wer...   \n",
            "2            2    METHODS  Outcome measures included pain reduction and i...   \n",
            "3            3    METHODS  Pain was assessed using the visual analog pain...   \n",
            "4            4    METHODS  Secondary outcome measures included the Wester...   \n",
            "\n",
            "   total_lines  \n",
            "0           11  \n",
            "1           11  \n",
            "2           11  \n",
            "3           11  \n",
            "4           11  \n",
            "unique counts of each target\n",
            "METHODS        59353\n",
            "RESULTS        57953\n",
            "CONCLUSIONS    27168\n",
            "BACKGROUND     21727\n",
            "OBJECTIVE      13839\n",
            "Name: target, dtype: int64\n"
          ]
        },
        {
          "output_type": "display_data",
          "data": {
            "text/plain": [
              "<Figure size 640x480 with 1 Axes>"
            ],
            "image/png": "[encoded data removed]"
          },
          "metadata": {}
        }
      ],
      "source": [
        "# Visualize data with data frame.\n",
        "\n",
        "import pandas as pd\n",
        "import matplotlib.pyplot as plt\n",
        "\n",
        "train_df = pd.DataFrame(train_data)\n",
        "val_df   = pd.DataFrame(validation_data)\n",
        "test_df  = pd.DataFrame(test_data)\n",
        "# print the head\n",
        "print('head of train data')\n",
        "print(train_df.head())\n",
        "print('unique counts of each target')\n",
        "print(train_df['target'].value_counts())\n",
        "# length of different lines\n",
        "train_df.total_lines.plot.hist();\n"
      ]
    },
    {
      "cell_type": "code",
      "execution_count": 76,
      "id": "1e6b8de9",
      "metadata": {
        "colab": {
          "base_uri": "https://localhost:8080/"
        },
        "id": "1e6b8de9",
        "outputId": "a84df29a-92e5-46cf-ba82-982f78a1769d"
      },
      "outputs": [
        {
          "output_type": "stream",
          "name": "stdout",
          "text": [
            "train sentences length 180040\n",
            "val sentences length 30212\n",
            "test sentences length 30135\n"
          ]
        }
      ],
      "source": [
        "# convert to list\n",
        "train_sentences = train_df['text'].tolist()\n",
        "val_sentences   = val_df['text'].tolist()\n",
        "test_sentences  = test_df['text'].tolist()\n",
        "print(f\"train sentences length {len(train_sentences)}\")\n",
        "print(f\"val sentences length {len(val_sentences)}\")\n",
        "print(f\"test sentences length {len(test_sentences)}\")"
      ]
    },
    {
      "cell_type": "markdown",
      "id": "53fbbd61",
      "metadata": {
        "id": "53fbbd61"
      },
      "source": [
        "## One Hot Encoding & Label Encoding (262)"
      ]
    },
    {
      "cell_type": "code",
      "execution_count": 77,
      "id": "0d9366ae",
      "metadata": {
        "colab": {
          "base_uri": "https://localhost:8080/"
        },
        "id": "0d9366ae",
        "outputId": "909a8032-76ee-43b6-820a-777f5644b759"
      },
      "outputs": [
        {
          "output_type": "stream",
          "name": "stdout",
          "text": [
            "one hot encoding\n",
            "tf.Tensor([0. 0. 0. 1. 0.], shape=(5,), dtype=float64) tf.Tensor([1. 0. 0. 0. 0.], shape=(5,), dtype=float64) tf.Tensor([1. 0. 0. 0. 0.], shape=(5,), dtype=float64)\n",
            "label encoding...\n",
            "3 0 0\n",
            "classnames\n",
            "class name =  ['BACKGROUND' 'CONCLUSIONS' 'METHODS' 'OBJECTIVE' 'RESULTS'] length of classes = 5\n"
          ]
        },
        {
          "output_type": "stream",
          "name": "stderr",
          "text": [
            "/usr/local/lib/python3.10/dist-packages/sklearn/preprocessing/_label.py:116: DataConversionWarning: A column-vector y was passed when a 1d array was expected. Please change the shape of y to (n_samples, ), for example using ravel().\n",
            "  y = column_or_1d(y, warn=True)\n",
            "/usr/local/lib/python3.10/dist-packages/sklearn/preprocessing/_label.py:134: DataConversionWarning: A column-vector y was passed when a 1d array was expected. Please change the shape of y to (n_samples, ), for example using ravel().\n",
            "  y = column_or_1d(y, dtype=self.classes_.dtype, warn=True)\n",
            "/usr/local/lib/python3.10/dist-packages/sklearn/preprocessing/_label.py:134: DataConversionWarning: A column-vector y was passed when a 1d array was expected. Please change the shape of y to (n_samples, ), for example using ravel().\n",
            "  y = column_or_1d(y, dtype=self.classes_.dtype, warn=True)\n"
          ]
        }
      ],
      "source": [
        "import sklearn\n",
        "from sklearn.preprocessing import OneHotEncoder,LabelEncoder\n",
        "import tensorflow as tf\n",
        "\n",
        "#tf.debugging.set_log_device_placement(True)\n",
        "\n",
        "onehot = OneHotEncoder(sparse_output=False)\n",
        "train_label_one_hot = tf.constant(onehot.fit_transform(train_df['target'].to_numpy().reshape(-1,1)))\n",
        "val_label_one_hot    = tf.constant(onehot.transform(val_df['target'].to_numpy().reshape(-1,1)))\n",
        "test_label_one_hot   = tf.constant(onehot.transform(test_df['target'].to_numpy().reshape(-1,1)))\n",
        "print('one hot encoding')\n",
        "print(train_label_one_hot[0],val_label_one_hot[0],test_label_one_hot[0])\n",
        "\n",
        "# label encoder\n",
        "labelencode = LabelEncoder()\n",
        "train_label_encoded = labelencode.fit_transform(train_df['target'].to_numpy().reshape(-1,1))\n",
        "val_label_encoded = labelencode.transform(val_df['target'].to_numpy().reshape(-1,1))\n",
        "test_label_encoded = labelencode.transform(test_df['target'].to_numpy().reshape(-1,1))\n",
        "print('label encoding...')\n",
        "print(train_label_encoded[0],val_label_encoded[0],test_label_encoded[0])\n",
        "\n",
        "print('classnames')\n",
        "classnames = labelencode.classes_\n",
        "print('class name = ', classnames, 'length of classes =', len(classnames))"
      ]
    },
    {
      "cell_type": "markdown",
      "id": "67375053",
      "metadata": {
        "id": "67375053"
      },
      "source": [
        "## Experiments to be Conducted (262)\n",
        "\n",
        "![Experiments](https://raw.githubusercontent.com/rkumar-bengaluru/data-science/main/20-Tensorflow/07-Skimlit/resources/experiments.jpg)"
      ]
    },
    {
      "cell_type": "markdown",
      "id": "1cb022b8",
      "metadata": {
        "id": "1cb022b8"
      },
      "source": [
        "## Model 0 - Naive Bayes with TF-IDF Encoder (263)\n",
        "\n",
        "* Selection Method\n",
        "![Machine Learning Map](https://raw.githubusercontent.com/rkumar-bengaluru/data-science/main/20-Tensorflow/07-Skimlit/resources/ml_map.png)"
      ]
    },
    {
      "cell_type": "code",
      "execution_count": 78,
      "id": "94ea3376",
      "metadata": {
        "colab": {
          "base_uri": "https://localhost:8080/"
        },
        "id": "94ea3376",
        "outputId": "5ac04c2c-a1e1-4378-8295-7a96c40dd036"
      },
      "outputs": [
        {
          "output_type": "stream",
          "name": "stdout",
          "text": [
            "{'accuracy_score': 0.7218323844829869, 'precision_score': 0.7186466952323352, 'recall_score': 0.7218323844829869, 'f1_score': 0.6989250353450294}\n"
          ]
        }
      ],
      "source": [
        "from sklearn.feature_extraction.text import TfidfVectorizer\n",
        "from sklearn.pipeline import Pipeline\n",
        "from sklearn.naive_bayes import MultinomialNB\n",
        "from sklearn.metrics import accuracy_score,precision_score,recall_score,f1_score\n",
        "\n",
        "def find_scores(val_label_encoded,val_preds):\n",
        "    a_score = accuracy_score(y_true=val_label_encoded,y_pred=val_preds)\n",
        "    p_score = precision_score(y_true=val_label_encoded,y_pred=val_preds,average='weighted')\n",
        "    r_score = recall_score(y_true=val_label_encoded,y_pred=val_preds,average='weighted')\n",
        "    f_score = f1_score(y_true=val_label_encoded,y_pred=val_preds,average='weighted')\n",
        "    return {'accuracy_score' : a_score, \n",
        "            'precision_score' : p_score, \n",
        "            'recall_score' : r_score,\n",
        "            'f1_score' : f_score}\n",
        "\n",
        "model_0 = Pipeline([('tf-idf',TfidfVectorizer()),\n",
        "               ('naive_bayes',MultinomialNB())])\n",
        "model_0.fit(X=train_sentences,y=train_label_encoded)\n",
        "\n",
        "y_pred = model_0.score(X=val_sentences,y=val_label_encoded)\n",
        "\n",
        "val_preds = model_0.predict(val_sentences)\n",
        "model_0_results = find_scores(val_label_encoded,val_preds)\n",
        "print(model_0_results)"
      ]
    },
    {
      "cell_type": "markdown",
      "id": "52108425",
      "metadata": {
        "id": "52108425"
      },
      "source": [
        "## Model 1 - Conv1D with token Embedding "
      ]
    },
    {
      "cell_type": "markdown",
      "id": "4c83b74b",
      "metadata": {
        "id": "4c83b74b"
      },
      "source": [
        "### Data Visualization (264)"
      ]
    },
    {
      "cell_type": "code",
      "execution_count": 79,
      "id": "e2553b19",
      "metadata": {
        "colab": {
          "base_uri": "https://localhost:8080/",
          "height": 465
        },
        "id": "e2553b19",
        "outputId": "1bd122da-0eef-49ba-ff12-20bc9883acbc"
      },
      "outputs": [
        {
          "output_type": "stream",
          "name": "stdout",
          "text": [
            "mean tokens in each sentences  26.338269273494777\n",
            "no of tokens to keep to cover 95% of the sentence tokens in training data is 55\n"
          ]
        },
        {
          "output_type": "display_data",
          "data": {
            "text/plain": [
              "<Figure size 640x480 with 1 Axes>"
            ],
            "image/png": "[encoded data removed]"
          },
          "metadata": {}
        }
      ],
      "source": [
        "import numpy as np\n",
        "import matplotlib.pyplot as plt\n",
        "# find how tokens is each sentences\n",
        "lengths = [len(sen.split()) for sen in train_sentences]\n",
        "print('mean tokens in each sentences ', np.mean(lengths))\n",
        "output_sequence_length = int(np.percentile(lengths,95))\n",
        "# find percentile to cover 95% of the sentence tokens\n",
        "print(f\"no of tokens to keep to cover 95% of the sentence tokens in training data is {output_sequence_length}\")\n",
        "plt.hist(lengths,bins=10);"
      ]
    },
    {
      "cell_type": "markdown",
      "id": "9807bbae",
      "metadata": {
        "id": "9807bbae"
      },
      "source": [
        "### Vectorize Tokens (265)"
      ]
    },
    {
      "cell_type": "code",
      "execution_count": 80,
      "id": "01440492",
      "metadata": {
        "colab": {
          "base_uri": "https://localhost:8080/"
        },
        "id": "01440492",
        "outputId": "a1db6d03-8136-441b-e2bc-d67e12f4a423"
      },
      "outputs": [
        {
          "output_type": "stream",
          "name": "stdout",
          "text": [
            "Sample Sentence Text \n",
            " The image quality and radiation dose of two groups were compared .\n",
            "\n",
            "length of the Sample Sentence 66\n",
            "Vectorized Sample Sentence\n",
            " [[   2 1277  141    3  918  131    4   51   24    9   34    0    0    0\n",
            "     0    0    0    0    0    0    0    0    0    0    0    0    0    0\n",
            "     0    0    0    0    0    0    0    0    0    0    0    0    0    0\n",
            "     0    0    0    0    0    0    0    0    0    0    0    0    0]]\n",
            "total no of words in the vocabulary is 64841\n",
            "most common words in the vocabulary is \n",
            " ['', '[UNK]', 'the', 'and', 'of', 'in', 'to', 'with', 'a', 'were']\n",
            "least common words in the vocabulary is \n",
            " ['aarm', 'aaqol', 'aaq', 'aanhui', 'aana', 'aainduced', 'aaigroup', 'aachener', 'aachen', 'aaacp']\n",
            "{'name': 'text_vectorization', 'trainable': True, 'dtype': 'string', 'batch_input_shape': (None,), 'max_tokens': 68000, 'standardize': 'lower_and_strip_punctuation', 'split': 'whitespace', 'ngrams': None, 'output_mode': 'int', 'output_sequence_length': 55, 'pad_to_max_tokens': False, 'sparse': False, 'ragged': False, 'vocabulary': None, 'idf_weights': None, 'encoding': 'utf-8', 'vocabulary_size': 64841}\n"
          ]
        }
      ],
      "source": [
        "# create text vectorizer\n",
        "from tensorflow.keras.layers.experimental.preprocessing import TextVectorization\n",
        "\n",
        "max_tokens = 68000\n",
        "text_vectorization = TextVectorization(max_tokens=max_tokens,\n",
        "                                      output_sequence_length=output_sequence_length)\n",
        "\n",
        "text_vectorization.adapt(train_sentences)\n",
        "\n",
        "# check the output of text vectorization\n",
        "import random\n",
        "sample_sentence = random.choice(train_sentences)\n",
        "print(f\"Sample Sentence Text \\n {sample_sentence}\\n\")\n",
        "print(f\"length of the Sample Sentence {len(sample_sentence)}\")\n",
        "print(f\"Vectorized Sample Sentence\\n {text_vectorization([sample_sentence])}\")\n",
        "\n",
        "# how many words in our vocabulary\n",
        "rct_20k_text_vocab = text_vectorization.get_vocabulary()\n",
        "print(f\"total no of words in the vocabulary is {len(rct_20k_text_vocab)}\")\n",
        "print(f\"most common words in the vocabulary is \\n {rct_20k_text_vocab[:10]}\")\n",
        "print(f\"least common words in the vocabulary is \\n {rct_20k_text_vocab[-10:]}\")\n",
        "\n",
        "# print text vectorization config\n",
        "t_config = text_vectorization.get_config()\n",
        "print(t_config)"
      ]
    },
    {
      "cell_type": "markdown",
      "id": "c0b911e8",
      "metadata": {
        "id": "c0b911e8"
      },
      "source": [
        "### Token Embedding (266)"
      ]
    },
    {
      "cell_type": "code",
      "execution_count": 81,
      "id": "6e22319f",
      "metadata": {
        "colab": {
          "base_uri": "https://localhost:8080/"
        },
        "id": "6e22319f",
        "outputId": "0f0fe60a-ae2f-4494-8190-101190c8e14a"
      },
      "outputs": [
        {
          "output_type": "stream",
          "name": "stdout",
          "text": [
            "Sentence before embedding \n",
            " The image quality and radiation dose of two groups were compared .\n",
            "vectorized sentence \n",
            " [[   2 1277  141    3  918  131    4   51   24    9   34    0    0    0\n",
            "     0    0    0    0    0    0    0    0    0    0    0    0    0    0\n",
            "     0    0    0    0    0    0    0    0    0    0    0    0    0    0\n",
            "     0    0    0    0    0    0    0    0    0    0    0    0    0]]\n",
            "embedded sentence \n",
            " [[[-0.03166427 -0.04835395 -0.01674293 ... -0.0006644   0.03185214\n",
            "    0.03218943]\n",
            "  [ 0.00624212 -0.0107929  -0.03451354 ... -0.00299595  0.00321888\n",
            "   -0.01675998]\n",
            "  [ 0.02171237 -0.03875266  0.02743942 ... -0.00554638 -0.00289248\n",
            "   -0.0201643 ]\n",
            "  ...\n",
            "  [-0.04244796 -0.04561872  0.03256536 ... -0.01859445 -0.01254741\n",
            "    0.01689316]\n",
            "  [-0.04244796 -0.04561872  0.03256536 ... -0.01859445 -0.01254741\n",
            "    0.01689316]\n",
            "  [-0.04244796 -0.04561872  0.03256536 ... -0.01859445 -0.01254741\n",
            "    0.01689316]]]\n",
            "embedded sentence shape \n",
            " (1, 55, 128)\n"
          ]
        }
      ],
      "source": [
        "# add a embedding layer\n",
        "from tensorflow.keras.layers import Embedding\n",
        "\n",
        "embedding_layer = Embedding(input_dim=len(rct_20k_text_vocab),\n",
        "                 output_dim=128,\n",
        "                  mask_zero=True,\n",
        "                  name='token_embedding')\n",
        "# token embedding\n",
        "print(f\"Sentence before embedding \\n {sample_sentence}\")\n",
        "vectorized_sentence = text_vectorization([sample_sentence])\n",
        "print(f\"vectorized sentence \\n {vectorized_sentence}\")\n",
        "embed_sentence = embedding_layer(vectorized_sentence)\n",
        "print(f\"embedded sentence \\n {embed_sentence}\")\n",
        "print(f\"embedded sentence shape \\n {embed_sentence.shape}\")"
      ]
    },
    {
      "cell_type": "markdown",
      "id": "1d954fa5",
      "metadata": {
        "id": "1d954fa5"
      },
      "source": [
        "## Create Dataset using tf.data.Dataset (267)"
      ]
    },
    {
      "cell_type": "code",
      "execution_count": 82,
      "id": "86b0e2b0",
      "metadata": {
        "id": "86b0e2b0"
      },
      "outputs": [],
      "source": [
        "train_dataset = tf.data.Dataset.from_tensor_slices((train_sentences,train_label_one_hot))\n",
        "val_dataset = tf.data.Dataset.from_tensor_slices((val_sentences,val_label_one_hot))\n",
        "test_dataset = tf.data.Dataset.from_tensor_slices((test_sentences,test_label_one_hot))\n",
        "\n",
        "# for fast performance \n",
        "train_dataset = train_dataset.batch(32).prefetch(tf.data.AUTOTUNE)\n",
        "val_dataset   = val_dataset.batch(32).prefetch(tf.data.AUTOTUNE)\n",
        "test_dataset  = test_dataset.batch(32).prefetch(tf.data.AUTOTUNE)"
      ]
    },
    {
      "cell_type": "code",
      "execution_count": 83,
      "id": "c1280fc6",
      "metadata": {
        "colab": {
          "base_uri": "https://localhost:8080/"
        },
        "id": "c1280fc6",
        "outputId": "5b495930-e30c-423f-882c-7034585cf069"
      },
      "outputs": [
        {
          "output_type": "execute_result",
          "data": {
            "text/plain": [
              "<_PrefetchDataset element_spec=(TensorSpec(shape=(None,), dtype=tf.string, name=None), TensorSpec(shape=(None, 5), dtype=tf.float64, name=None))>"
            ]
          },
          "metadata": {},
          "execution_count": 83
        }
      ],
      "source": [
        "train_dataset"
      ]
    },
    {
      "cell_type": "markdown",
      "id": "40beeb95",
      "metadata": {
        "id": "40beeb95"
      },
      "source": [
        "## Build Conv1D model (268)"
      ]
    },
    {
      "cell_type": "code",
      "execution_count": 84,
      "id": "4bde1b93",
      "metadata": {
        "colab": {
          "base_uri": "https://localhost:8080/"
        },
        "id": "4bde1b93",
        "outputId": "050adf56-ea09-4b7b-f093-aa72ef44c9a9"
      },
      "outputs": [
        {
          "output_type": "stream",
          "name": "stdout",
          "text": [
            "Model: \"model_7\"\n",
            "_________________________________________________________________\n",
            " Layer (type)                Output Shape              Param #   \n",
            "=================================================================\n",
            " input (InputLayer)          [(None, 1)]               0         \n",
            "                                                                 \n",
            " vectorization_layer (TextVe  (None, 55)               0         \n",
            " ctorization)                                                    \n",
            "                                                                 \n",
            " token_embedding_layer (Embe  (None, 55, 128)          8299648   \n",
            " dding)                                                          \n",
            "                                                                 \n",
            " conv1d_Layer (Conv1D)       (None, 55, 64)            41024     \n",
            "                                                                 \n",
            " global_average_pooling (Glo  (None, 64)               0         \n",
            " balAveragePooling1D)                                            \n",
            "                                                                 \n",
            " fully_connected (Dense)     (None, 5)                 325       \n",
            "                                                                 \n",
            "=================================================================\n",
            "Total params: 8,340,997\n",
            "Trainable params: 8,340,997\n",
            "Non-trainable params: 0\n",
            "_________________________________________________________________\n"
          ]
        }
      ],
      "source": [
        "import tensorflow as tf\n",
        "from tensorflow.keras import Model\n",
        "from tensorflow.keras.layers import Conv1D, GlobalAveragePooling1D, Input, TextVectorization, Embedding,Dense\n",
        "\n",
        "# input layer\n",
        "inputs = Input(shape=(1,),dtype=tf.string,name=\"input\")\n",
        "# text vectorization layer\n",
        "max_tokens = 68000\n",
        "lengths = [len(sen.split()) for sen in train_sentences]\n",
        "output_sequence_length = int(np.percentile(lengths,95))\n",
        "text_vectorizer = TextVectorization(max_tokens=max_tokens, \n",
        "                      output_sequence_length=output_sequence_length,\n",
        "                                   name=\"vectorization_layer\")\n",
        "text_vectorizer.adapt(train_sentences)\n",
        "vectors = text_vectorizer(inputs)\n",
        "# embedding layer\n",
        "embedding = Embedding(input_dim=len(rct_20k_text_vocab),\n",
        "                     output_dim=128,\n",
        "                     mask_zero=True,\n",
        "                      name=\"token_embedding_layer\")\n",
        "token_embedding = embedding(vectors)\n",
        "# conv1d layer\n",
        "x = Conv1D(filters=64,\n",
        "          kernel_size=5,\n",
        "          padding=\"same\",\n",
        "          activation=\"relu\",\n",
        "          name=\"conv1d_Layer\")(token_embedding)\n",
        "# average pooling\n",
        "x = GlobalAveragePooling1D(name=\"global_average_pooling\")(x)\n",
        "# output layer\n",
        "outputs = Dense(5,activation=\"softmax\", name=\"fully_connected\")(x)\n",
        "# finally the model\n",
        "model_1 = Model(inputs,outputs)\n",
        "\n",
        "# compile the model\n",
        "model_1.compile(loss=\"categorical_crossentropy\",\n",
        "               optimizer=tf.keras.optimizers.Adam(),\n",
        "               metrics=['accuracy'])\n",
        "# summary\n",
        "model_1.summary()"
      ]
    },
    {
      "cell_type": "code",
      "execution_count": 85,
      "id": "258d5d14",
      "metadata": {
        "id": "258d5d14"
      },
      "outputs": [],
      "source": [
        "import time\n",
        "\n",
        "def fit_the_model(model):\n",
        "    \n",
        "    # fit the model\n",
        "    start_time = time.time()\n",
        "    history = model.fit(train_dataset,\n",
        "                             steps_per_epoch=int(0.1*len(train_dataset)),\n",
        "                              epochs=3,\n",
        "                             validation_data=val_dataset,\n",
        "                             validation_steps=int(0.1*len(val_dataset)))\n",
        "    time_taken = time.time() - start_time\n",
        "    print(f\"time taken to fit {time_taken}\")\n",
        "    return history"
      ]
    },
    {
      "cell_type": "code",
      "execution_count": 86,
      "id": "bdeb7258",
      "metadata": {
        "id": "bdeb7258"
      },
      "outputs": [],
      "source": [
        "# let's try with cpu\n",
        "#with tf.device(\"/cpu:0\"):\n",
        "#    fit_the_model(model_1)"
      ]
    },
    {
      "cell_type": "code",
      "execution_count": 87,
      "id": "af51073f",
      "metadata": {
        "colab": {
          "base_uri": "https://localhost:8080/"
        },
        "id": "af51073f",
        "outputId": "f8e1009b-58e0-47cb-e647-13605d1db90b"
      },
      "outputs": [
        {
          "output_type": "stream",
          "name": "stdout",
          "text": [
            "Epoch 1/3\n",
            "562/562 [==============================] - 37s 64ms/step - loss: 0.9167 - accuracy: 0.6397 - val_loss: 0.6846 - val_accuracy: 0.7374\n",
            "Epoch 2/3\n",
            "562/562 [==============================] - 8s 15ms/step - loss: 0.6576 - accuracy: 0.7567 - val_loss: 0.6292 - val_accuracy: 0.7729\n",
            "Epoch 3/3\n",
            "562/562 [==============================] - 5s 9ms/step - loss: 0.6169 - accuracy: 0.7751 - val_loss: 0.5965 - val_accuracy: 0.7839\n",
            "time taken to fit 82.58137202262878\n"
          ]
        }
      ],
      "source": [
        "# with gpu\n",
        "with tf.device(\"/gpu:0\"):\n",
        "    fit_the_model(model_1)"
      ]
    },
    {
      "cell_type": "code",
      "execution_count": 88,
      "id": "6467abc4",
      "metadata": {
        "colab": {
          "base_uri": "https://localhost:8080/"
        },
        "id": "6467abc4",
        "outputId": "d324092e-7856-4677-89aa-e3decec22aa8"
      },
      "outputs": [
        {
          "output_type": "stream",
          "name": "stdout",
          "text": [
            "945/945 [==============================] - 3s 3ms/step - loss: 0.5988 - accuracy: 0.7865\n"
          ]
        },
        {
          "output_type": "execute_result",
          "data": {
            "text/plain": [
              "[0.5988160967826843, 0.786541759967804]"
            ]
          },
          "metadata": {},
          "execution_count": 88
        }
      ],
      "source": [
        "# evalue the model\n",
        "model_1.evaluate(val_dataset)"
      ]
    },
    {
      "cell_type": "code",
      "execution_count": 89,
      "id": "a8f0d4c4",
      "metadata": {
        "colab": {
          "base_uri": "https://localhost:8080/"
        },
        "id": "a8f0d4c4",
        "outputId": "b5740d7d-f7e9-47d4-bcda-e890f763b8b5"
      },
      "outputs": [
        {
          "output_type": "stream",
          "name": "stdout",
          "text": [
            "945/945 [==============================] - 2s 2ms/step\n"
          ]
        },
        {
          "output_type": "execute_result",
          "data": {
            "text/plain": [
              "(array([[4.25897270e-01, 1.87222391e-01, 8.77792016e-02, 2.49361023e-01,\n",
              "         4.97401319e-02],\n",
              "        [4.29359913e-01, 3.02828640e-01, 1.44873485e-02, 2.42373854e-01,\n",
              "         1.09503735e-02],\n",
              "        [1.47737727e-01, 6.19906746e-03, 2.26519560e-03, 8.43740761e-01,\n",
              "         5.71989076e-05],\n",
              "        ...,\n",
              "        [3.83057068e-06, 4.66149533e-04, 6.16704056e-04, 1.71395902e-06,\n",
              "         9.98911619e-01],\n",
              "        [5.31462580e-02, 4.76215214e-01, 9.06681493e-02, 5.96981794e-02,\n",
              "         3.20272177e-01],\n",
              "        [1.48565754e-01, 6.77031994e-01, 4.34985347e-02, 5.59228882e-02,\n",
              "         7.49808028e-02]], dtype=float32),\n",
              " (30212, 5))"
            ]
          },
          "metadata": {},
          "execution_count": 89
        }
      ],
      "source": [
        "model_1_pred_probs = model_1.predict(val_dataset)\n",
        "model_1_pred_probs,model_1_pred_probs.shape"
      ]
    },
    {
      "cell_type": "code",
      "execution_count": 90,
      "id": "812bd5af",
      "metadata": {
        "colab": {
          "base_uri": "https://localhost:8080/"
        },
        "id": "812bd5af",
        "outputId": "cc0e96b6-5607-40b8-f9e8-6d18b2fce2ea"
      },
      "outputs": [
        {
          "output_type": "execute_result",
          "data": {
            "text/plain": [
              "<tf.Tensor: shape=(30212,), dtype=int64, numpy=array([0, 0, 3, ..., 4, 1, 1])>"
            ]
          },
          "metadata": {},
          "execution_count": 90
        }
      ],
      "source": [
        "model_1_preds = tf.argmax(model_1_pred_probs,axis=1)\n",
        "model_1_preds"
      ]
    },
    {
      "cell_type": "code",
      "execution_count": 91,
      "id": "96d569f5",
      "metadata": {
        "colab": {
          "base_uri": "https://localhost:8080/"
        },
        "id": "96d569f5",
        "outputId": "fbf5c15a-ef6c-4ccb-eb74-f0680d93d06b"
      },
      "outputs": [
        {
          "output_type": "execute_result",
          "data": {
            "text/plain": [
              "({'accuracy_score': 0.7218323844829869,\n",
              "  'precision_score': 0.7186466952323352,\n",
              "  'recall_score': 0.7218323844829869,\n",
              "  'f1_score': 0.6989250353450294},\n",
              " {'accuracy_score': 0.7865417714815305,\n",
              "  'precision_score': 0.783231157574636,\n",
              "  'recall_score': 0.7865417714815305,\n",
              "  'f1_score': 0.7839046443651448})"
            ]
          },
          "metadata": {},
          "execution_count": 91
        }
      ],
      "source": [
        "model_1_results = find_scores(val_label_encoded,model_1_preds)\n",
        "model_0_results,model_1_results,"
      ]
    },
    {
      "cell_type": "markdown",
      "id": "459a3f58",
      "metadata": {
        "id": "459a3f58"
      },
      "source": [
        "## Model 2 Architecture - Tensorflow Hub Pretrained Feature Extractor (269 - 270)\n",
        "![Model 2 Architecture](https://raw.githubusercontent.com/rkumar-bengaluru/data-science/main/20-Tensorflow/07-Skimlit/resources/model_2_architecture.jpg)"
      ]
    },
    {
      "cell_type": "code",
      "execution_count": 92,
      "id": "e13d93ab",
      "metadata": {
        "id": "e13d93ab"
      },
      "outputs": [],
      "source": [
        "import tensorflow_hub as hub\n",
        "import random\n",
        "import tensorflow as tf\n",
        "from tensorflow.keras import Model\n",
        "from tensorflow.keras.layers import Input, Dense\n",
        "\n",
        "with tf.device('/cpu:0'):\n",
        "    use = 'https://tfhub.dev/google/universal-sentence-encoder/4'\n",
        "    universal_sentence_encoder = hub.KerasLayer(use,\n",
        "                              trainable=False,\n",
        "                              name='universal_encoder_layer')"
      ]
    },
    {
      "cell_type": "code",
      "execution_count": 93,
      "id": "a2c17726",
      "metadata": {
        "colab": {
          "base_uri": "https://localhost:8080/"
        },
        "id": "a2c17726",
        "outputId": "fa48c945-dbe2-42f1-ef1a-c22a47205eab"
      },
      "outputs": [
        {
          "output_type": "stream",
          "name": "stdout",
          "text": [
            "random sentence to encode with hub encoder \n",
            " In this study , the percentage of `` dippers '' was considerably higher than the one described in previous studies on the role of perfusion pressure in glaucoma .\n",
            "shape of encoded sentence (1, 512)\n",
            "encoded sentence \n",
            " [[ 0.05318759  0.06694195 -0.02285054 -0.06648646 -0.00172862 -0.03838197\n",
            "   0.05471945  0.02077011  0.07190014  0.0492602   0.06337104  0.05554748\n",
            "   0.07881077 -0.03388673  0.01749495 -0.01766438 -0.07889563  0.07268333\n",
            "   0.05590377 -0.0546833  -0.06824004 -0.04443037 -0.05573618 -0.03782691\n",
            "   0.04648034 -0.02922353  0.02489529 -0.03093434 -0.0196235   0.02058689\n",
            "   0.0514342   0.08157799  0.04686048  0.05630185 -0.04615793 -0.05004493\n",
            "  -0.05951475  0.03040069 -0.05621374  0.03439063  0.01125715  0.06705008\n",
            "  -0.0517599  -0.05978227 -0.00304865 -0.05005432 -0.05335239  0.04448131\n",
            "   0.07222652 -0.00139782 -0.03142246  0.05329077  0.04937031 -0.0085967\n",
            "  -0.07300458 -0.05582274 -0.06392371  0.00025338  0.02529376  0.02467687\n",
            "   0.03867016  0.02682601  0.07479726  0.05537133 -0.02092089 -0.01821097\n",
            "   0.04220151  0.01808328  0.00583711 -0.00085979  0.00804989  0.07412348\n",
            "  -0.04978912  0.05756349 -0.0222225   0.01829336  0.03028951 -0.02999905\n",
            "   0.00066365  0.036791    0.02956044 -0.00172916 -0.04415236  0.08338011\n",
            "  -0.06127031  0.02041247 -0.00852013  0.0344348   0.0053535  -0.05968761\n",
            "   0.00949012  0.02553898  0.01753378 -0.00034966 -0.06884965  0.06936788\n",
            "  -0.04292598 -0.03211023  0.00673239  0.00638924 -0.03338802  0.05331695\n",
            "   0.02212222  0.01772643  0.06826241 -0.072834    0.02558957 -0.01198089\n",
            "   0.0465542   0.00185266 -0.01681455  0.05706834  0.04469968  0.03006368\n",
            "   0.01517109  0.05377146  0.05064533  0.05183332  0.03941575  0.05386422\n",
            "  -0.01094282 -0.00270729  0.06233745  0.04091289 -0.04872388  0.02277175\n",
            "  -0.08355157 -0.02023907 -0.02557862  0.0546474  -0.05448264  0.0888183\n",
            "   0.04292253  0.04551503 -0.04571876 -0.06836309  0.00614624  0.04757877\n",
            "   0.00802928 -0.0677008  -0.01819302  0.00580904 -0.04520182 -0.06369626\n",
            "   0.07525294  0.03075144 -0.03879977  0.00074491  0.01016354  0.00962772\n",
            "  -0.04570557  0.0655761  -0.00466919  0.02683913 -0.00171158  0.03784912\n",
            "  -0.00127035  0.05285222  0.06480858 -0.0270728   0.00712962 -0.06613413\n",
            "  -0.04208988 -0.06436361 -0.06366584 -0.05862513  0.00651205  0.00609429\n",
            "  -0.03301546 -0.01126307  0.05475051  0.0183229  -0.03301358  0.06811465\n",
            "   0.02335097 -0.01072374  0.00341749 -0.05285249 -0.00479517  0.06401221\n",
            "   0.0060358  -0.08002719  0.03068353 -0.02307104  0.06453837 -0.03816037\n",
            "   0.08520981  0.00093576  0.0572902   0.05422057  0.00421125  0.02557321\n",
            "  -0.0497372   0.08079374 -0.05356217  0.03354885 -0.06009857 -0.05453926\n",
            "  -0.05174324 -0.06617896  0.0751125  -0.02502799 -0.00500535  0.04261258\n",
            "  -0.07744823  0.01739718 -0.07912594 -0.00401712  0.04425631  0.047755\n",
            "   0.03238019 -0.00573485 -0.00598213  0.05814904  0.00947707  0.04803868\n",
            "   0.02600932  0.01239994 -0.06050635  0.01719971 -0.04282164  0.04488344\n",
            "  -0.0434289   0.03174138  0.04123664  0.06296257 -0.03082557 -0.05549667\n",
            "  -0.03868835  0.04595989 -0.04651362  0.01418686 -0.0017741  -0.04862961\n",
            "  -0.04577403 -0.00429094  0.07306613  0.04356247 -0.03259478  0.06580807\n",
            "  -0.01693393 -0.00444691 -0.0163216  -0.02548216  0.04810459 -0.07874998\n",
            "   0.02570562  0.01253117 -0.04695769 -0.08567373  0.07770315 -0.06681765\n",
            "  -0.03228901 -0.05680922  0.03979665  0.03973715 -0.05640814  0.06812858\n",
            "  -0.0485476   0.03025046 -0.03451179 -0.05868382 -0.06285772  0.04833966\n",
            "   0.00427429  0.04093394  0.03114074  0.0109587  -0.03099799 -0.01221244\n",
            "   0.06100383  0.02669771  0.05849173  0.02339928  0.00706025  0.0057053\n",
            "  -0.06442195 -0.07185584 -0.02592374 -0.0416981  -0.05183781 -0.00789152\n",
            "   0.03241743 -0.01788587  0.0568934   0.01971369 -0.06123766  0.02539544\n",
            "  -0.03585814 -0.01291041  0.01627296 -0.03602099  0.04068892 -0.0028057\n",
            "  -0.07022563 -0.0595501  -0.06390938  0.04523893  0.06562868  0.0353576\n",
            "   0.00822946 -0.03756467  0.01938112 -0.0653041  -0.05924901  0.04868997\n",
            "   0.03115227  0.03061631 -0.02217369  0.03988014 -0.03321484  0.01205178\n",
            "   0.03550212  0.00711971 -0.0227264  -0.01576852  0.04776847 -0.02102184\n",
            "  -0.0165791  -0.0681578  -0.04610953 -0.01790832  0.04305973  0.08275238\n",
            "  -0.02665442 -0.03141167  0.05557719 -0.07677884 -0.0880283   0.06342356\n",
            "  -0.07382768  0.05874575  0.06016849  0.00906276 -0.02832865  0.03268491\n",
            "   0.00267619 -0.02545256  0.04814518 -0.02881084  0.01126474  0.03749297\n",
            "   0.05890371  0.06286555 -0.01565338 -0.08508682  0.01289492  0.02450746\n",
            "  -0.00833306 -0.0615122   0.01979896 -0.05765461  0.04125586 -0.07628375\n",
            "   0.06759197 -0.02145507  0.06151558  0.03300076  0.05342256 -0.06179938\n",
            "   0.06724615  0.05285154  0.03698624 -0.03601221 -0.02909922 -0.03363741\n",
            "  -0.03624895  0.0486946  -0.01536783  0.00301329 -0.05041803 -0.00362785\n",
            "  -0.00104445 -0.00066979 -0.0414176  -0.00615478 -0.00573311 -0.01511829\n",
            "   0.05184901 -0.05981795 -0.01761124  0.00185699  0.05124544  0.07378629\n",
            "  -0.02059316  0.04516584  0.05191474 -0.00161677  0.07198832 -0.03245239\n",
            "   0.06658223  0.04190683 -0.05795917 -0.02987163  0.05650666 -0.0478598\n",
            "   0.0348311   0.02184777  0.01784046 -0.03885243 -0.00883633  0.03074149\n",
            "  -0.03923262  0.04861869 -0.04967145  0.02815986 -0.07107688  0.04596582\n",
            "  -0.02621352  0.01374649  0.01350633 -0.00978444  0.0155754  -0.0306995\n",
            "   0.04829977 -0.0451542   0.04782953  0.0302611  -0.0471819  -0.02538435\n",
            "   0.05192938 -0.02612753  0.03010846 -0.03494352  0.0504674   0.00514296\n",
            "   0.03098056  0.04458528 -0.02954398 -0.04258869 -0.06311911  0.01008522\n",
            "  -0.01845426 -0.05033359 -0.00080979  0.04288403 -0.04466503 -0.01851218\n",
            "   0.05257117  0.04897757 -0.0129216   0.04570289  0.05486219  0.03872987\n",
            "   0.03328687 -0.05973128  0.0205232  -0.02124158  0.0095464   0.02424164\n",
            "   0.0414929  -0.08018213 -0.01870257 -0.00550543 -0.03615706 -0.02625968\n",
            "   0.07054769  0.04373798 -0.01232594  0.0481231   0.04231096 -0.04711372\n",
            "   0.06898063  0.05823705  0.01251241 -0.03590263 -0.01313836 -0.02591912\n",
            "   0.00763402 -0.08560003 -0.07666927 -0.04027424 -0.05291422 -0.06725178\n",
            "  -0.03195523  0.02043009 -0.06975657 -0.01100407  0.06016418  0.0004066\n",
            "  -0.02300871 -0.01709075 -0.05857154  0.04293984  0.03681142  0.01198154\n",
            "  -0.06760978  0.00728507  0.03635127 -0.06583224 -0.03613578 -0.01505913\n",
            "   0.00137729 -0.03517202 -0.0096627  -0.05595578 -0.00341452 -0.02960435\n",
            "   0.07110251  0.04996216  0.02106606 -0.02032145  0.05193511 -0.05804079\n",
            "  -0.05839733 -0.08927564  0.01531079 -0.05866734  0.01829861 -0.02043092\n",
            "   0.05012684 -0.01899114]]\n"
          ]
        }
      ],
      "source": [
        "random_sentence = random.choice(train_sentences)\n",
        "print(f\"random sentence to encode with hub encoder \\n {random_sentence}\")\n",
        "random_sentence_encoded = universal_sentence_encoder([random_sentence])\n",
        "print(f\"shape of encoded sentence {random_sentence_encoded.shape}\")\n",
        "print(f\"encoded sentence \\n {random_sentence_encoded}\")"
      ]
    },
    {
      "cell_type": "code",
      "execution_count": 94,
      "id": "cc10e4bd",
      "metadata": {
        "colab": {
          "base_uri": "https://localhost:8080/"
        },
        "id": "cc10e4bd",
        "outputId": "36b12151-80d0-4690-fd4e-b665711f3d45"
      },
      "outputs": [
        {
          "output_type": "stream",
          "name": "stdout",
          "text": [
            "Model: \"model_2_use_feature_extractor\"\n",
            "_________________________________________________________________\n",
            " Layer (type)                Output Shape              Param #   \n",
            "=================================================================\n",
            " input_layer (InputLayer)    [(None,)]                 0         \n",
            "                                                                 \n",
            " universal_encoder_layer (Ke  (None, 512)              256797824 \n",
            " rasLayer)                                                       \n",
            "                                                                 \n",
            " fully_connected_layer (Dens  (None, 128)              65664     \n",
            " e)                                                              \n",
            "                                                                 \n",
            " output_layer (Dense)        (None, 5)                 645       \n",
            "                                                                 \n",
            "=================================================================\n",
            "Total params: 256,864,133\n",
            "Trainable params: 66,309\n",
            "Non-trainable params: 256,797,824\n",
            "_________________________________________________________________\n"
          ]
        }
      ],
      "source": [
        "# create model 2\n",
        "inputs = Input(shape=[],dtype=tf.string,name='input_layer')\n",
        "pretrained_embedding = universal_sentence_encoder(inputs)\n",
        "dense = Dense(128,activation='relu',name='fully_connected_layer')(pretrained_embedding)\n",
        "outputs = Dense(5,activation='softmax',name='output_layer')(dense)\n",
        "model_2 = Model(inputs=inputs,\n",
        "               outputs=outputs,\n",
        "               name='model_2_use_feature_extractor')\n",
        "model_2.compile(loss='categorical_crossentropy',\n",
        "               optimizer=tf.keras.optimizers.Adam(),\n",
        "               metrics=['accuracy'])\n",
        "model_2.summary()"
      ]
    },
    {
      "cell_type": "code",
      "execution_count": 95,
      "id": "c1c649ed",
      "metadata": {
        "colab": {
          "base_uri": "https://localhost:8080/"
        },
        "id": "c1c649ed",
        "outputId": "6dff59c8-9a07-4f96-a0b3-3eaa49f5544c"
      },
      "outputs": [
        {
          "output_type": "stream",
          "name": "stdout",
          "text": [
            "Epoch 1/3\n",
            "562/562 [==============================] - 16s 23ms/step - loss: 0.9180 - accuracy: 0.6451 - val_loss: 0.7970 - val_accuracy: 0.6928\n",
            "Epoch 2/3\n",
            "562/562 [==============================] - 11s 19ms/step - loss: 0.7691 - accuracy: 0.7016 - val_loss: 0.7554 - val_accuracy: 0.7045\n",
            "Epoch 3/3\n",
            "562/562 [==============================] - 11s 19ms/step - loss: 0.7509 - accuracy: 0.7132 - val_loss: 0.7402 - val_accuracy: 0.7081\n",
            "time taken to fit 43.26831245422363\n"
          ]
        }
      ],
      "source": [
        "model_2_history = fit_the_model(model_2)"
      ]
    },
    {
      "cell_type": "code",
      "execution_count": 96,
      "id": "4eaa169b",
      "metadata": {
        "colab": {
          "base_uri": "https://localhost:8080/"
        },
        "id": "4eaa169b",
        "outputId": "5a8bf13c-013a-4d04-9254-1d89efe1341b"
      },
      "outputs": [
        {
          "output_type": "stream",
          "name": "stdout",
          "text": [
            "945/945 [==============================] - 15s 16ms/step - loss: 0.7408 - accuracy: 0.7133\n"
          ]
        },
        {
          "output_type": "execute_result",
          "data": {
            "text/plain": [
              "[0.7408479452133179, 0.7133258581161499]"
            ]
          },
          "metadata": {},
          "execution_count": 96
        }
      ],
      "source": [
        "model_2.evaluate(val_dataset)"
      ]
    },
    {
      "cell_type": "code",
      "execution_count": 97,
      "id": "5f5ea285",
      "metadata": {
        "colab": {
          "base_uri": "https://localhost:8080/"
        },
        "id": "5f5ea285",
        "outputId": "44f21f20-1113-4275-8bfa-ae8c44a52f49"
      },
      "outputs": [
        {
          "output_type": "stream",
          "name": "stdout",
          "text": [
            "945/945 [==============================] - 14s 15ms/step\n"
          ]
        },
        {
          "output_type": "execute_result",
          "data": {
            "text/plain": [
              "array([[4.3022779e-01, 3.6558852e-01, 2.0890015e-03, 1.9409186e-01,\n",
              "        8.0028502e-03],\n",
              "       [3.8171786e-01, 4.8755890e-01, 2.7875034e-03, 1.2525596e-01,\n",
              "        2.6797422e-03],\n",
              "       [2.3645023e-01, 1.4428087e-01, 1.7522851e-02, 5.6684375e-01,\n",
              "        3.4902353e-02],\n",
              "       ...,\n",
              "       [1.4717447e-03, 4.8406082e-03, 4.3081600e-02, 7.2230340e-04,\n",
              "        9.4988376e-01],\n",
              "       [3.4473655e-03, 4.5321833e-02, 1.9738352e-01, 1.6234010e-03,\n",
              "        7.5222385e-01],\n",
              "       [1.5881562e-01, 2.6100177e-01, 5.1572001e-01, 6.7319036e-03,\n",
              "        5.7730727e-02]], dtype=float32)"
            ]
          },
          "metadata": {},
          "execution_count": 97
        }
      ],
      "source": [
        "model_2_pred_probs = model_2.predict(val_dataset)\n",
        "model_2_pred_probs"
      ]
    },
    {
      "cell_type": "code",
      "execution_count": 98,
      "id": "549d25f5",
      "metadata": {
        "colab": {
          "base_uri": "https://localhost:8080/"
        },
        "id": "549d25f5",
        "outputId": "2164f808-22df-416e-b0c2-18364c58db5e"
      },
      "outputs": [
        {
          "output_type": "execute_result",
          "data": {
            "text/plain": [
              "<tf.Tensor: shape=(30212,), dtype=int64, numpy=array([0, 1, 3, ..., 4, 4, 2])>"
            ]
          },
          "metadata": {},
          "execution_count": 98
        }
      ],
      "source": [
        "model_2_pred = tf.argmax(model_2_pred_probs,axis=1)\n",
        "model_2_pred"
      ]
    },
    {
      "cell_type": "code",
      "execution_count": 99,
      "id": "827c8e23",
      "metadata": {
        "id": "827c8e23"
      },
      "outputs": [],
      "source": [
        "model_2_results = find_scores(val_label_encoded,model_2_pred)"
      ]
    },
    {
      "cell_type": "code",
      "execution_count": 100,
      "id": "801a37bb",
      "metadata": {
        "colab": {
          "base_uri": "https://localhost:8080/"
        },
        "id": "801a37bb",
        "outputId": "b0a2c232-c367-4989-ea19-b8fa28db7b93"
      },
      "outputs": [
        {
          "output_type": "execute_result",
          "data": {
            "text/plain": [
              "({'accuracy_score': 0.7133258307957103,\n",
              "  'precision_score': 0.7137064548866401,\n",
              "  'recall_score': 0.7133258307957103,\n",
              "  'f1_score': 0.7102510350389353},\n",
              " {'accuracy_score': 0.7865417714815305,\n",
              "  'precision_score': 0.783231157574636,\n",
              "  'recall_score': 0.7865417714815305,\n",
              "  'f1_score': 0.7839046443651448},\n",
              " {'accuracy_score': 0.7218323844829869,\n",
              "  'precision_score': 0.7186466952323352,\n",
              "  'recall_score': 0.7218323844829869,\n",
              "  'f1_score': 0.6989250353450294})"
            ]
          },
          "metadata": {},
          "execution_count": 100
        }
      ],
      "source": [
        "model_2_results,model_1_results,model_0_results"
      ]
    },
    {
      "cell_type": "markdown",
      "id": "b53053f8",
      "metadata": {
        "id": "b53053f8"
      },
      "source": [
        "## Model-3 : Conv1D with character embedding\n",
        "\n",
        "![Model 3 Architecture](https://raw.githubusercontent.com/rkumar-bengaluru/data-science/main/20-Tensorflow/07-Skimlit/resources/model_3_architecture.jpg)"
      ]
    },
    {
      "cell_type": "markdown",
      "id": "225b796f",
      "metadata": {
        "id": "225b796f"
      },
      "source": [
        "### Character Embedding Layer"
      ]
    },
    {
      "cell_type": "code",
      "execution_count": 101,
      "id": "96334d88",
      "metadata": {
        "colab": {
          "base_uri": "https://localhost:8080/",
          "height": 105
        },
        "id": "96334d88",
        "outputId": "f9a6dc79-9da0-424a-c32c-f67a12b0b6cc"
      },
      "outputs": [
        {
          "output_type": "execute_result",
          "data": {
            "text/plain": [
              "'t o   i n v e s t i g a t e   t h e   e f f i c a c y   o f   @   w e e k s   o f   d a i l y   l o w - d o s e   o r a l   p r e d n i s o l o n e   i n   i m p r o v i n g   p a i n   ,   m o b i l i t y   ,   a n d   s y s t e m i c   l o w - g r a d e   i n f l a m m a t i o n   i n   t h e   s h o r t   t e r m   a n d   w h e t h e r   t h e   e f f e c t   w o u l d   b e   s u s t a i n e d   a t   @   w e e k s   i n   o l d e r   a d u l t s   w i t h   m o d e r a t e   t o   s e v e r e   k n e e   o s t e o a r t h r i t i s   (   o a   )   .'"
            ],
            "application/vnd.google.colaboratory.intrinsic+json": {
              "type": "string"
            }
          },
          "metadata": {},
          "execution_count": 101
        }
      ],
      "source": [
        "import random\n",
        "from tensorflow.data import Dataset\n",
        "# prepare data\n",
        "def split_chars(sentence):\n",
        "    return ' '.join(list(sentence))\n",
        "\n",
        "\n",
        "training_char_sentences = [split_chars(sentence.lower()) for sentence in train_sentences]\n",
        "val_char_sentences      = [split_chars(sentence.lower()) for sentence in val_sentences]\n",
        "test_char_sentences     = [split_chars(sentence.lower()) for sentence in test_sentences]\n",
        "training_char_sentences[0]"
      ]
    },
    {
      "cell_type": "code",
      "source": [
        "len(train_sentences[0]), len(training_char_sentences[0])"
      ],
      "metadata": {
        "colab": {
          "base_uri": "https://localhost:8080/"
        },
        "id": "KKm_wY2uI-p4",
        "outputId": "db626559-764e-46d3-b1bf-76a2fd341f03"
      },
      "id": "KKm_wY2uI-p4",
      "execution_count": 102,
      "outputs": [
        {
          "output_type": "execute_result",
          "data": {
            "text/plain": [
              "(281, 561)"
            ]
          },
          "metadata": {},
          "execution_count": 102
        }
      ]
    },
    {
      "cell_type": "code",
      "source": [
        "!nvidia-smi"
      ],
      "metadata": {
        "colab": {
          "base_uri": "https://localhost:8080/"
        },
        "id": "hf0LOrSjiTsq",
        "outputId": "23ff8044-2bb4-4445-9444-c470531aac4d"
      },
      "id": "hf0LOrSjiTsq",
      "execution_count": 103,
      "outputs": [
        {
          "output_type": "stream",
          "name": "stdout",
          "text": [
            "Sat May 27 08:07:02 2023       \n",
            "+-----------------------------------------------------------------------------+\n",
            "| NVIDIA-SMI 525.85.12    Driver Version: 525.85.12    CUDA Version: 12.0     |\n",
            "|-------------------------------+----------------------+----------------------+\n",
            "| GPU  Name        Persistence-M| Bus-Id        Disp.A | Volatile Uncorr. ECC |\n",
            "| Fan  Temp  Perf  Pwr:Usage/Cap|         Memory-Usage | GPU-Util  Compute M. |\n",
            "|                               |                      |               MIG M. |\n",
            "|===============================+======================+======================|\n",
            "|   0  Tesla T4            Off  | 00000000:00:04.0 Off |                    0 |\n",
            "| N/A   70C    P0    32W /  70W |   1665MiB / 15360MiB |      0%      Default |\n",
            "|                               |                      |                  N/A |\n",
            "+-------------------------------+----------------------+----------------------+\n",
            "                                                                               \n",
            "+-----------------------------------------------------------------------------+\n",
            "| Processes:                                                                  |\n",
            "|  GPU   GI   CI        PID   Type   Process name                  GPU Memory |\n",
            "|        ID   ID                                                   Usage      |\n",
            "|=============================================================================|\n",
            "+-----------------------------------------------------------------------------+\n"
          ]
        }
      ]
    },
    {
      "cell_type": "code",
      "execution_count": 104,
      "id": "c2eb3e97",
      "metadata": {
        "colab": {
          "base_uri": "https://localhost:8080/"
        },
        "id": "c2eb3e97",
        "outputId": "7976e7aa-3750-41fc-f94a-199b79ff391a"
      },
      "outputs": [
        {
          "output_type": "stream",
          "name": "stdout",
          "text": [
            "number of tokens to consider 579 \n",
            "vocabulary \n",
            " ['', '[UNK]', 'e', 't', 'i', 'a', 'n', 'o', 'r', 's', 'd', 'c', 'l', 'h', 'p', 'm', 'u', 'f', 'g', 'y', 'w', 'v', 'b', 'k', 'x', 'z', 'q', 'j']\n",
            "vocabulary length \n",
            " 28\n",
            "encoded random sample \n",
            " [[ 3 13  2 14  4 21  7  3  5 12 12  2 21  5  6  3  3  8  4  5 12 20  5  9\n",
            "  10  2  9  4 18  6  2 10  4  6 11  7 12 12  5 22  7  8  5  3  4  7  6 20\n",
            "   4  3 13  3 13  2 16  9 17  7  7 10  5  6 10 10  8 16 18  5 10 15  4  6\n",
            "   4  9  3  8  5  3  4  7  6  3  7 10  2 15  7  6  9  3  8  5  3  2  9  5\n",
            "  17  2  3 19  5  6 10  2 17 17  4 11  5 11 19  4  6  5 12  5  8 18  2 14\n",
            "   7 14 16 12  5  3  4  7  6  5  6 10  3  7  7 22  3  5  4  6 16  9 17  7\n",
            "   7 10  5  6 10 10  8 16 18  5 10 15  4  6  4  9  3  8  5  3  4  7  6  5\n",
            "  14 14  8  7 21  5 12  0  0  0  0  0  0  0  0  0  0  0  0  0  0  0  0  0\n",
            "   0  0  0  0  0  0  0  0  0  0  0  0  0  0  0  0  0  0  0  0  0  0  0  0\n",
            "   0  0  0  0  0  0  0  0  0  0  0  0  0  0  0  0  0  0  0  0  0  0  0  0\n",
            "   0  0  0  0  0  0  0  0  0  0  0  0  0  0  0  0  0  0  0  0  0  0  0  0\n",
            "   0  0  0  0  0  0  0  0  0  0  0  0  0  0  0  0  0  0  0  0  0  0  0  0\n",
            "   0  0  0  0  0  0  0  0  0  0  0  0  0  0  0  0  0  0  0  0  0  0  0  0\n",
            "   0  0  0  0  0  0  0  0  0  0  0  0  0  0  0  0  0  0  0  0  0  0  0  0\n",
            "   0  0  0  0  0  0  0  0  0  0  0  0  0  0  0  0  0  0  0  0  0  0  0  0\n",
            "   0  0  0  0  0  0  0  0  0  0  0  0  0  0  0  0  0  0  0  0  0  0  0  0\n",
            "   0  0  0  0  0  0  0  0  0  0  0  0  0  0  0  0  0  0  0  0  0  0  0  0\n",
            "   0  0  0  0  0  0  0  0  0  0  0  0  0  0  0  0  0  0  0  0  0  0  0  0\n",
            "   0  0  0  0  0  0  0  0  0  0  0  0  0  0  0  0  0  0  0  0  0  0  0  0\n",
            "   0  0  0  0  0  0  0  0  0  0  0  0  0  0  0  0  0  0  0  0  0  0  0  0\n",
            "   0  0  0  0  0  0  0  0  0  0  0  0  0  0  0  0  0  0  0  0  0  0  0  0\n",
            "   0  0  0  0  0  0  0  0  0  0  0  0  0  0  0  0  0  0  0  0  0  0  0  0\n",
            "   0  0  0  0  0  0  0  0  0  0  0  0  0  0  0  0  0  0  0  0  0  0  0  0\n",
            "   0  0  0  0  0  0  0  0  0  0  0  0  0  0  0  0  0  0  0  0  0  0  0  0\n",
            "   0  0  0]]\n",
            "shape of encoded sample char sentence \n",
            " (1, 579)\n"
          ]
        }
      ],
      "source": [
        "from tensorflow.keras.layers import TextVectorization\n",
        "from tensorflow.data import Dataset\n",
        "import string\n",
        "import numpy as np\n",
        "\n",
        "lengths_of_sentences = [len(sentence) for sentence in training_char_sentences]\n",
        "# find no of tokens to take to cover 95 % of the data\n",
        "max_length = int(np.percentile(lengths_of_sentences,95)) # sequence length to pad the outputs to\n",
        "print(f\"number of tokens to consider {max_length} \")\n",
        "# find vocab length\n",
        "all_printable = string.ascii_lowercase + string.digits + string.punctuation\n",
        "max_features = len(all_printable); # no of characters in the vocabulary\n",
        "char_vectorizer = TextVectorization(max_tokens=max_features,\n",
        "                                   output_sequence_length=max_length,\n",
        "                                   name='character_vectorization')\n",
        "\n",
        "#test_char_dataset  = Dataset.from_tensor_slices((test_char_sentences,test_label_one_hot)).batch(32).prefetch(tf.data.AUTOTUNE)\n",
        "\n",
        "char_vectorizer.adapt(training_char_sentences)\n",
        "vocab = char_vectorizer.get_vocabulary()\n",
        "sample_char_sentence = random.choice(training_char_sentences)\n",
        "print(f\"vocabulary \\n {vocab}\")\n",
        "print(f\"vocabulary length \\n {len(vocab)}\")\n",
        "sample_sentence_encoded = char_vectorizer([sample_char_sentence])\n",
        "print(f\"encoded random sample \\n {sample_sentence_encoded}\")\n",
        "print(f\"shape of encoded sample char sentence \\n {sample_sentence_encoded.shape}\")"
      ]
    },
    {
      "cell_type": "code",
      "execution_count": 105,
      "id": "b0b39041",
      "metadata": {
        "id": "b0b39041",
        "colab": {
          "base_uri": "https://localhost:8080/"
        },
        "outputId": "7cc1b1c2-8e30-4e2a-df2d-1a1d2052df03"
      },
      "outputs": [
        {
          "output_type": "execute_result",
          "data": {
            "text/plain": [
              "<tf.Tensor: shape=(1, 579, 25), dtype=float32, numpy=\n",
              "array([[[ 4.6243098e-02, -3.0916452e-02, -4.1553438e-02, ...,\n",
              "         -3.9566327e-02, -2.2794617e-02,  4.7771309e-02],\n",
              "        [-4.4480313e-02,  5.3178519e-05, -1.9883906e-02, ...,\n",
              "          2.4383549e-02,  4.4254065e-03,  1.5555289e-02],\n",
              "        [-1.2828819e-03,  1.2885045e-02, -3.4994591e-02, ...,\n",
              "         -4.6617962e-02, -4.9610447e-02,  6.7821369e-03],\n",
              "        ...,\n",
              "        [ 1.3826165e-02,  8.8455901e-03, -3.9451979e-02, ...,\n",
              "         -2.7777329e-03, -1.8999970e-02, -4.7133625e-02],\n",
              "        [ 1.3826165e-02,  8.8455901e-03, -3.9451979e-02, ...,\n",
              "         -2.7777329e-03, -1.8999970e-02, -4.7133625e-02],\n",
              "        [ 1.3826165e-02,  8.8455901e-03, -3.9451979e-02, ...,\n",
              "         -2.7777329e-03, -1.8999970e-02, -4.7133625e-02]]], dtype=float32)>"
            ]
          },
          "metadata": {},
          "execution_count": 105
        }
      ],
      "source": [
        "# embedding layer\n",
        "from tensorflow.keras.layers import Embedding\n",
        "\n",
        "char_embedding = Embedding(input_dim=len(vocab),\n",
        "                          output_dim=25,\n",
        "                          mask_zero=True,\n",
        "                          name='char_embedding_layer')\n",
        "char_embedding_sample = char_embedding(sample_sentence_encoded)\n",
        "char_embedding_sample"
      ]
    },
    {
      "cell_type": "markdown",
      "id": "1fd96d1c",
      "metadata": {
        "id": "1fd96d1c"
      },
      "source": [
        "### Create Full Model"
      ]
    },
    {
      "cell_type": "code",
      "execution_count": 106,
      "id": "f3e6425b",
      "metadata": {
        "id": "f3e6425b"
      },
      "outputs": [],
      "source": [
        "import tensorflow as tf\n",
        "from tensorflow.keras import Model\n",
        "from tensorflow.keras.layers import Input,Dense, Conv1D, GlobalMaxPooling1D\n",
        "from tensorflow.keras.optimizers import Adam\n",
        "\n",
        "inputs = Input(shape=(1,),dtype=tf.string,name='input_layer')\n",
        "char_vectors = char_vectorizer(inputs)\n",
        "char_embeddings = char_embedding(char_vectors)\n",
        "x = Conv1D(filters=64,\n",
        "          kernel_size=5,\n",
        "          padding='same',\n",
        "          activation='relu',\n",
        "          name='conv_1d_layer')(char_embeddings)\n",
        "x = GlobalMaxPooling1D(name='GlobalAveragePooling1D')(x)\n",
        "outputs = Dense(units=5,activation='softmax',name='full_connected')(x)\n",
        "model_3 = Model(inputs,outputs)"
      ]
    },
    {
      "cell_type": "code",
      "execution_count": 107,
      "id": "8614ad44",
      "metadata": {
        "id": "8614ad44"
      },
      "outputs": [],
      "source": [
        "# compile the model\n",
        "model_3.compile(loss='categorical_crossentropy',\n",
        "               optimizer=Adam(),\n",
        "               metrics=['accuracy'])"
      ]
    },
    {
      "cell_type": "markdown",
      "id": "fbd6c19c",
      "metadata": {
        "id": "fbd6c19c"
      },
      "source": [
        "### Model Summary"
      ]
    },
    {
      "cell_type": "code",
      "execution_count": 108,
      "id": "1a5eabe4",
      "metadata": {
        "id": "1a5eabe4",
        "colab": {
          "base_uri": "https://localhost:8080/"
        },
        "outputId": "88d604f7-ab4d-4323-9d03-163868f41495"
      },
      "outputs": [
        {
          "output_type": "stream",
          "name": "stdout",
          "text": [
            "Model: \"model_8\"\n",
            "_________________________________________________________________\n",
            " Layer (type)                Output Shape              Param #   \n",
            "=================================================================\n",
            " input_layer (InputLayer)    [(None, 1)]               0         \n",
            "                                                                 \n",
            " character_vectorization (Te  (None, 579)              0         \n",
            " xtVectorization)                                                \n",
            "                                                                 \n",
            " char_embedding_layer (Embed  (None, 579, 25)          700       \n",
            " ding)                                                           \n",
            "                                                                 \n",
            " conv_1d_layer (Conv1D)      (None, 579, 64)           8064      \n",
            "                                                                 \n",
            " GlobalAveragePooling1D (Glo  (None, 64)               0         \n",
            " balMaxPooling1D)                                                \n",
            "                                                                 \n",
            " full_connected (Dense)      (None, 5)                 325       \n",
            "                                                                 \n",
            "=================================================================\n",
            "Total params: 9,089\n",
            "Trainable params: 9,089\n",
            "Non-trainable params: 0\n",
            "_________________________________________________________________\n"
          ]
        }
      ],
      "source": [
        "model_3.summary()"
      ]
    },
    {
      "cell_type": "markdown",
      "id": "507958c7",
      "metadata": {
        "id": "507958c7"
      },
      "source": [
        "### Fit the Model"
      ]
    },
    {
      "cell_type": "code",
      "execution_count": 109,
      "id": "886041e2",
      "metadata": {
        "id": "886041e2",
        "colab": {
          "base_uri": "https://localhost:8080/"
        },
        "outputId": "e84f466c-3940-401b-ad9b-fb82c8115dd8"
      },
      "outputs": [
        {
          "output_type": "execute_result",
          "data": {
            "text/plain": [
              "<_PrefetchDataset element_spec=(TensorSpec(shape=(None,), dtype=tf.string, name=None), TensorSpec(shape=(None, 5), dtype=tf.float64, name=None))>"
            ]
          },
          "metadata": {},
          "execution_count": 109
        }
      ],
      "source": [
        "train_char_dataset = Dataset.from_tensor_slices((training_char_sentences,train_label_one_hot)).batch(32).prefetch(tf.data.AUTOTUNE)\n",
        "val_char_dataset   = Dataset.from_tensor_slices((val_char_sentences,val_label_one_hot)).batch(32).prefetch(tf.data.AUTOTUNE)\n",
        "train_char_dataset"
      ]
    },
    {
      "cell_type": "code",
      "source": [
        "model_3_history = model_3.fit(train_char_dataset,\n",
        "                              steps_per_epoch=int(0.1 * len(train_char_dataset)),\n",
        "                              epochs=3,\n",
        "                              validation_data = val_char_dataset,\n",
        "                              validation_steps=int(0.1* len(val_char_dataset)))"
      ],
      "metadata": {
        "colab": {
          "base_uri": "https://localhost:8080/"
        },
        "id": "XeZqWo04L0GJ",
        "outputId": "a5f874af-5cb3-4ee3-e5c0-b68cf0c94d53"
      },
      "id": "XeZqWo04L0GJ",
      "execution_count": 110,
      "outputs": [
        {
          "output_type": "stream",
          "name": "stdout",
          "text": [
            "Epoch 1/3\n",
            "562/562 [==============================] - 6s 8ms/step - loss: 1.2774 - accuracy: 0.4911 - val_loss: 1.0390 - val_accuracy: 0.5934\n",
            "Epoch 2/3\n",
            "562/562 [==============================] - 4s 6ms/step - loss: 0.9961 - accuracy: 0.6041 - val_loss: 0.9254 - val_accuracy: 0.6423\n",
            "Epoch 3/3\n",
            "562/562 [==============================] - 4s 6ms/step - loss: 0.9229 - accuracy: 0.6406 - val_loss: 0.8608 - val_accuracy: 0.6689\n"
          ]
        }
      ]
    },
    {
      "cell_type": "markdown",
      "id": "08dea307",
      "metadata": {
        "id": "08dea307"
      },
      "source": [
        "### Evaluate the Model"
      ]
    },
    {
      "cell_type": "code",
      "execution_count": 111,
      "id": "2fdea782",
      "metadata": {
        "id": "2fdea782",
        "colab": {
          "base_uri": "https://localhost:8080/"
        },
        "outputId": "d6d70add-8fda-45f2-836b-2fe61bc29017"
      },
      "outputs": [
        {
          "output_type": "stream",
          "name": "stdout",
          "text": [
            "945/945 [==============================] - 4s 4ms/step - loss: 0.8828 - accuracy: 0.6599\n"
          ]
        },
        {
          "output_type": "execute_result",
          "data": {
            "text/plain": [
              "[0.8827860951423645, 0.659903347492218]"
            ]
          },
          "metadata": {},
          "execution_count": 111
        }
      ],
      "source": [
        "model_3.evaluate(val_char_dataset)"
      ]
    },
    {
      "cell_type": "code",
      "source": [
        "model_3_pred_probs = model_3.predict(val_char_dataset)\n",
        "model_3_pred_probs"
      ],
      "metadata": {
        "colab": {
          "base_uri": "https://localhost:8080/"
        },
        "id": "qR8YlESUMUPa",
        "outputId": "ef698c03-ce94-490a-a0ea-d83c1dca59f8"
      },
      "id": "qR8YlESUMUPa",
      "execution_count": 112,
      "outputs": [
        {
          "output_type": "stream",
          "name": "stdout",
          "text": [
            "945/945 [==============================] - 3s 3ms/step\n"
          ]
        },
        {
          "output_type": "execute_result",
          "data": {
            "text/plain": [
              "array([[0.20906991, 0.2852331 , 0.1061962 , 0.36528558, 0.03421525],\n",
              "       [0.14336343, 0.62452275, 0.01603543, 0.132709  , 0.08336942],\n",
              "       [0.1836357 , 0.24959509, 0.13346061, 0.37408265, 0.05922596],\n",
              "       ...,\n",
              "       [0.04084775, 0.06709307, 0.17775017, 0.07735576, 0.63695323],\n",
              "       [0.03433852, 0.08231415, 0.2551456 , 0.0554155 , 0.5727862 ],\n",
              "       [0.36113063, 0.36512938, 0.16557115, 0.07621456, 0.03195424]],\n",
              "      dtype=float32)"
            ]
          },
          "metadata": {},
          "execution_count": 112
        }
      ]
    },
    {
      "cell_type": "code",
      "source": [
        "model_3_preds = tf.argmax(model_3_pred_probs,axis=1)\n",
        "model_3_preds"
      ],
      "metadata": {
        "colab": {
          "base_uri": "https://localhost:8080/"
        },
        "id": "kZvjJ1bdMeEh",
        "outputId": "a76aab34-8ed2-4b5f-8cc1-e29d3fcc2ac0"
      },
      "id": "kZvjJ1bdMeEh",
      "execution_count": 113,
      "outputs": [
        {
          "output_type": "execute_result",
          "data": {
            "text/plain": [
              "<tf.Tensor: shape=(30212,), dtype=int64, numpy=array([3, 1, 3, ..., 4, 4, 1])>"
            ]
          },
          "metadata": {},
          "execution_count": 113
        }
      ]
    },
    {
      "cell_type": "code",
      "source": [
        "model_3_results = find_scores(val_label_encoded,model_3_preds)\n",
        "model_3_results"
      ],
      "metadata": {
        "colab": {
          "base_uri": "https://localhost:8080/"
        },
        "id": "4wpD5udUMmHj",
        "outputId": "a3309329-e6a7-4ac3-b530-7b1e761405a5"
      },
      "id": "4wpD5udUMmHj",
      "execution_count": 114,
      "outputs": [
        {
          "output_type": "execute_result",
          "data": {
            "text/plain": [
              "{'accuracy_score': 0.6599033496623858,\n",
              " 'precision_score': 0.6514968877552941,\n",
              " 'recall_score': 0.6599033496623858,\n",
              " 'f1_score': 0.6477108860424121}"
            ]
          },
          "metadata": {},
          "execution_count": 114
        }
      ]
    },
    {
      "cell_type": "code",
      "source": [],
      "metadata": {
        "id": "pr-qyPsHMyf_"
      },
      "id": "pr-qyPsHMyf_",
      "execution_count": 114,
      "outputs": []
    }
  ],
  "metadata": {
    "kernelspec": {
      "display_name": "Python 3",
      "name": "python3"
    },
    "language_info": {
      "codemirror_mode": {
        "name": "ipython",
        "version": 3
      },
      "file_extension": ".py",
      "mimetype": "text/x-python",
      "name": "python",
      "nbconvert_exporter": "python",
      "pygments_lexer": "ipython3",
      "version": "3.9.16"
    },
    "colab": {
      "provenance": [],
      "gpuType": "T4",
      "toc_visible": true
    },
    "accelerator": "GPU"
  },
  "nbformat": 4,
  "nbformat_minor": 5
}