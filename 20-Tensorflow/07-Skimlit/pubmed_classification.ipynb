{
 "cells": [
  {
   "cell_type": "markdown",
   "id": "6a532c6d",
   "metadata": {},
   "source": [
    "# Pubmed sequential sentence classification\n",
    "\n",
    "* Research Paper - https://arxiv.org/abs/1710.06071"
   ]
  },
  {
   "cell_type": "markdown",
   "id": "c2c4d061",
   "metadata": {},
   "source": [
    "## Goal \n",
    "\n",
    "* Download a text dataset (PubMed 200K RCT)\n",
    "* Write a preprocessing function for our test data\n",
    "* Setting up multiple modelling experiments with different levels of embedding\n",
    "* Building a **multimodal model** to take in different sources of data\n",
    "  * Replicating the model discussed in this paper (https://arxiv.org/abs/1710.06071)\n",
    "  * Actual model description (https://arxiv.org/abs/1612.05251)\n",
    "* Finding the most wrong predictions"
   ]
  },
  {
   "cell_type": "code",
   "execution_count": null,
   "id": "ced3464a",
   "metadata": {},
   "outputs": [],
   "source": []
  }
 ],
 "metadata": {
  "kernelspec": {
   "display_name": "Python 3 (ipykernel)",
   "language": "python",
   "name": "python3"
  },
  "language_info": {
   "codemirror_mode": {
    "name": "ipython",
    "version": 3
   },
   "file_extension": ".py",
   "mimetype": "text/x-python",
   "name": "python",
   "nbconvert_exporter": "python",
   "pygments_lexer": "ipython3",
   "version": "3.10.10"
  }
 },
 "nbformat": 4,
 "nbformat_minor": 5
}
