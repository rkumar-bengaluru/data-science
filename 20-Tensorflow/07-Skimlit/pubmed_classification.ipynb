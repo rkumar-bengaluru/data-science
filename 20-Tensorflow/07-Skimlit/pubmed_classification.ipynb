{
 "cells": [
  {
   "cell_type": "markdown",
   "id": "6a532c6d",
   "metadata": {},
   "source": [
    "# Pubmed sequential sentence classification\n",
    "\n",
    "* Research Paper - https://arxiv.org/abs/1710.06071"
   ]
  },
  {
   "cell_type": "markdown",
   "id": "a93c67a8",
   "metadata": {},
   "source": [
    "## Goal - (255 - 256)\n",
    "\n",
    "* Download a text dataset (PubMed 200K RCT)\n",
    "* Write a preprocessing function for our test data\n",
    "* One Hot Encoding & Label Encoding.\n",
    "* Setting up multiple modelling experiments with different levels of embedding\n",
    "* Building a **multimodal model** to take in different sources of data\n",
    "  * Replicating the model discussed in this paper (https://arxiv.org/abs/1710.06071)\n",
    "  * Actual model description (https://arxiv.org/abs/1612.05251)\n",
    "* Finding the most wrong predictions\n",
    "* Reference Model\n",
    "\n",
    "![Reference Model](https://raw.githubusercontent.com/rkumar-bengaluru/data-science/main/20-Tensorflow/07-Skimlit/model.jpg)"
   ]
  },
  {
   "cell_type": "markdown",
   "id": "ea59c3b7",
   "metadata": {},
   "source": [
    "## SkimLit Inputs and Outputs (257) - Ignore"
   ]
  },
  {
   "cell_type": "markdown",
   "id": "b2bceb91",
   "metadata": {},
   "source": [
    "## Get the data (258 - 259)\n",
    "\n",
    "Download the dataset for pubmed 200K RCT from https://github.com/Franck-Dernoncourt/pubmed-rct"
   ]
  },
  {
   "cell_type": "code",
   "execution_count": 1,
   "id": "5beb35ef",
   "metadata": {},
   "outputs": [
    {
     "name": "stdout",
     "output_type": "stream",
     "text": [
      "/bin/bash: /home/rupak/miniconda3/envs/tf/lib/libtinfo.so.6: no version information available (required by /bin/bash)\r\n",
      "fatal: destination path 'pubmed-rct' already exists and is not an empty directory.\r\n"
     ]
    }
   ],
   "source": [
    "!git clone https://github.com/Franck-Dernoncourt/pubmed-rct"
   ]
  },
  {
   "cell_type": "code",
   "execution_count": 2,
   "id": "397d30d9",
   "metadata": {},
   "outputs": [
    {
     "name": "stdout",
     "output_type": "stream",
     "text": [
      "/bin/bash: /home/rupak/miniconda3/envs/tf/lib/libtinfo.so.6: no version information available (required by /bin/bash)\r\n",
      "PubMed_200k_RCT\r\n",
      "PubMed_200k_RCT_numbers_replaced_with_at_sign\r\n",
      "PubMed_20k_RCT\r\n",
      "PubMed_20k_RCT_numbers_replaced_with_at_sign\r\n",
      "README.md\r\n"
     ]
    }
   ],
   "source": [
    "!dir pubmed-rct"
   ]
  },
  {
   "cell_type": "code",
   "execution_count": 3,
   "id": "33f36bb2",
   "metadata": {},
   "outputs": [
    {
     "name": "stdout",
     "output_type": "stream",
     "text": [
      "['pubmed-rct/PubMed_20k_RCT_numbers_replaced_with_at_sign/dev.txt', 'pubmed-rct/PubMed_20k_RCT_numbers_replaced_with_at_sign/test.txt', 'pubmed-rct/PubMed_20k_RCT_numbers_replaced_with_at_sign/train.txt']\n"
     ]
    }
   ],
   "source": [
    "import os\n",
    "\n",
    "# root data directory\n",
    "data_dir = 'pubmed-rct/PubMed_20k_RCT_numbers_replaced_with_at_sign/'\n",
    "# list of file names\n",
    "filenames = [data_dir + filename for filename in os.listdir(data_dir)]\n",
    "print(filenames)"
   ]
  },
  {
   "cell_type": "markdown",
   "id": "d23605a6",
   "metadata": {},
   "source": [
    "### Preprocess Data (260)\n",
    "\n",
    "Write a function which will read each line of the file and create the below structure:\n",
    "\n",
    "```\n",
    "[{ 'line_number' : 0,\n",
    "   'target'  : 'first few characters till \\t tab character',\n",
    "   'text'   : 'full text after \\t character till end of line character \\n',\n",
    "   'total_lines' : \n",
    " },\n",
    " ...\n",
    "]\n",
    "```\n",
    "\n",
    "Ignore line starting with ### and repeat the same for train_data, validation_data and test_data"
   ]
  },
  {
   "cell_type": "code",
   "execution_count": 4,
   "id": "11189c0b",
   "metadata": {},
   "outputs": [
    {
     "name": "stdout",
     "output_type": "stream",
     "text": [
      "size of train lines is 210040\n",
      "size of validation lines is 35212\n",
      "size of test lines is 35135\n",
      "size of train data is 180040\n",
      "size of validation data is 30212\n",
      "size of test data is 30135\n"
     ]
    }
   ],
   "source": [
    "import os\n",
    "\n",
    "def get_lines(file_name):\n",
    "    \"\"\"\n",
    "    Reads the file_name and returns the content of the file as list\n",
    "    \"\"\"\n",
    "    with open(file_name) as f:\n",
    "        lines = f.readlines()\n",
    "    return lines\n",
    "\n",
    "validation_lines = get_lines(filenames[0])\n",
    "test_lines = get_lines(filenames[1])\n",
    "train_lines = get_lines(filenames[2])\n",
    "\n",
    "print(f\"size of train lines is {len(train_lines)}\")\n",
    "print(f\"size of validation lines is {len(validation_lines)}\")\n",
    "print(f\"size of test lines is {len(test_lines)}\")\n",
    "\n",
    "def create_data_set(lines):\n",
    "    data = []\n",
    "    items = []\n",
    "    index = 0\n",
    "    for line in lines:\n",
    "        \n",
    "        if line.startswith('\\n'):\n",
    "            for item in items:\n",
    "                item['total_lines'] = index -1\n",
    "                data.append(item)\n",
    "            index = 0\n",
    "            items = []\n",
    "        else:\n",
    "            tokens = line.split('\\t')\n",
    "        \n",
    "            if len(tokens) > 1:\n",
    "                item = {'line_number':index,'target': tokens[0],'text':tokens[1].strip() ,'total_lines' :index}\n",
    "                items.append(item)\n",
    "                index = index + 1\n",
    "    return data\n",
    "\n",
    "train_data = create_data_set(train_lines)\n",
    "validation_data = create_data_set(validation_lines)\n",
    "test_data = create_data_set(test_lines)\n",
    "\n",
    "print(f\"size of train data is {len(train_data)}\")\n",
    "print(f\"size of validation data is {len(validation_data)}\")\n",
    "print(f\"size of test data is {len(test_data)}\")\n"
   ]
  },
  {
   "cell_type": "markdown",
   "id": "76907385",
   "metadata": {},
   "source": [
    "### Visualize Data (261)\n",
    "\n",
    "Use pandas dataframe"
   ]
  },
  {
   "cell_type": "code",
   "execution_count": 5,
   "id": "c4870cb5",
   "metadata": {},
   "outputs": [
    {
     "name": "stdout",
     "output_type": "stream",
     "text": [
      "head of train data\n",
      "   line_number     target                                               text  \\\n",
      "0            0  OBJECTIVE  To investigate the efficacy of @ weeks of dail...   \n",
      "1            1    METHODS  A total of @ patients with primary knee OA wer...   \n",
      "2            2    METHODS  Outcome measures included pain reduction and i...   \n",
      "3            3    METHODS  Pain was assessed using the visual analog pain...   \n",
      "4            4    METHODS  Secondary outcome measures included the Wester...   \n",
      "\n",
      "   total_lines  \n",
      "0           11  \n",
      "1           11  \n",
      "2           11  \n",
      "3           11  \n",
      "4           11  \n",
      "unique counts of each target\n",
      "METHODS        59353\n",
      "RESULTS        57953\n",
      "CONCLUSIONS    27168\n",
      "BACKGROUND     21727\n",
      "OBJECTIVE      13839\n",
      "Name: target, dtype: int64\n"
     ]
    },
    {
     "data": {
      "image/png": "[encoded data removed]",
      "text/plain": [
       "<Figure size 640x480 with 1 Axes>"
      ]
     },
     "metadata": {},
     "output_type": "display_data"
    }
   ],
   "source": [
    "# Visualize data with data frame.\n",
    "\n",
    "import pandas as pd\n",
    "import matplotlib.pyplot as plt\n",
    "\n",
    "train_df = pd.DataFrame(train_data)\n",
    "val_df   = pd.DataFrame(validation_data)\n",
    "test_df  = pd.DataFrame(test_data)\n",
    "# print the head\n",
    "print('head of train data')\n",
    "print(train_df.head())\n",
    "print('unique counts of each target')\n",
    "print(train_df['target'].value_counts())\n",
    "# length of different lines\n",
    "train_df.total_lines.plot.hist();\n"
   ]
  },
  {
   "cell_type": "code",
   "execution_count": 6,
   "id": "1e6b8de9",
   "metadata": {},
   "outputs": [
    {
     "name": "stdout",
     "output_type": "stream",
     "text": [
      "train sentences length 180040\n",
      "val sentences length 30212\n",
      "test sentences length 30135\n"
     ]
    }
   ],
   "source": [
    "# convert to list\n",
    "train_sentences = train_df['text'].tolist()\n",
    "val_sentences   = val_df['text'].tolist()\n",
    "test_sentences  = test_df['text'].tolist()\n",
    "print(f\"train sentences length {len(train_sentences)}\")\n",
    "print(f\"val sentences length {len(val_sentences)}\")\n",
    "print(f\"test sentences length {len(test_sentences)}\")"
   ]
  },
  {
   "cell_type": "markdown",
   "id": "53fbbd61",
   "metadata": {},
   "source": [
    "## One Hot Encoding & Label Encoding (262)"
   ]
  },
  {
   "cell_type": "code",
   "execution_count": 7,
   "id": "0d9366ae",
   "metadata": {},
   "outputs": [
    {
     "name": "stderr",
     "output_type": "stream",
     "text": [
      "2023-05-25 08:34:02.838023: I tensorflow/core/platform/cpu_feature_guard.cc:182] This TensorFlow binary is optimized to use available CPU instructions in performance-critical operations.\n",
      "To enable the following instructions: SSE4.1 SSE4.2 AVX AVX2 FMA, in other operations, rebuild TensorFlow with the appropriate compiler flags.\n"
     ]
    },
    {
     "name": "stdout",
     "output_type": "stream",
     "text": [
      "one hot encoding\n",
      "tf.Tensor([0. 0. 0. 1. 0.], shape=(5,), dtype=float64) tf.Tensor([1. 0. 0. 0. 0.], shape=(5,), dtype=float64) tf.Tensor([1. 0. 0. 0. 0.], shape=(5,), dtype=float64)\n",
      "label encoding...\n",
      "3 0 0\n",
      "classnames\n",
      "class name =  ['BACKGROUND' 'CONCLUSIONS' 'METHODS' 'OBJECTIVE' 'RESULTS'] length of classes = 5\n"
     ]
    },
    {
     "name": "stderr",
     "output_type": "stream",
     "text": [
      "2023-05-25 08:34:06.494706: I tensorflow/core/common_runtime/process_util.cc:146] Creating new thread pool with default inter op setting: 2. Tune using inter_op_parallelism_threads for best performance.\n",
      "/home/rupak/miniconda3/envs/tf_hub/lib/python3.9/site-packages/sklearn/preprocessing/_label.py:116: DataConversionWarning: A column-vector y was passed when a 1d array was expected. Please change the shape of y to (n_samples, ), for example using ravel().\n",
      "  y = column_or_1d(y, warn=True)\n",
      "/home/rupak/miniconda3/envs/tf_hub/lib/python3.9/site-packages/sklearn/preprocessing/_label.py:134: DataConversionWarning: A column-vector y was passed when a 1d array was expected. Please change the shape of y to (n_samples, ), for example using ravel().\n",
      "  y = column_or_1d(y, dtype=self.classes_.dtype, warn=True)\n"
     ]
    }
   ],
   "source": [
    "import sklearn\n",
    "from sklearn.preprocessing import OneHotEncoder,LabelEncoder\n",
    "import tensorflow as tf\n",
    "\n",
    "#tf.debugging.set_log_device_placement(True)\n",
    "\n",
    "onehot = OneHotEncoder(sparse_output=False)\n",
    "train_label_one_hot = tf.constant(onehot.fit_transform(train_df['target'].to_numpy().reshape(-1,1)))\n",
    "val_label_one_hot    = tf.constant(onehot.transform(val_df['target'].to_numpy().reshape(-1,1)))\n",
    "test_label_one_hot   = tf.constant(onehot.transform(test_df['target'].to_numpy().reshape(-1,1)))\n",
    "print('one hot encoding')\n",
    "print(train_label_one_hot[0],val_label_one_hot[0],test_label_one_hot[0])\n",
    "\n",
    "# label encoder\n",
    "labelencode = LabelEncoder()\n",
    "train_label_encoded = labelencode.fit_transform(train_df['target'].to_numpy().reshape(-1,1))\n",
    "val_label_encoded = labelencode.transform(val_df['target'].to_numpy().reshape(-1,1))\n",
    "test_label_encoded = labelencode.transform(test_df['target'].to_numpy().reshape(-1,1))\n",
    "print('label encoding...')\n",
    "print(train_label_encoded[0],val_label_encoded[0],test_label_encoded[0])\n",
    "\n",
    "print('classnames')\n",
    "classnames = labelencode.classes_\n",
    "print('class name = ', classnames, 'length of classes =', len(classnames))"
   ]
  },
  {
   "cell_type": "markdown",
   "id": "67375053",
   "metadata": {},
   "source": [
    "## Experiments to be Conducted (262)\n",
    "\n",
    "![Experiments](https://raw.githubusercontent.com/rkumar-bengaluru/data-science/main/20-Tensorflow/07-Skimlit/resources/experiments.jpg)"
   ]
  },
  {
   "cell_type": "markdown",
   "id": "1cb022b8",
   "metadata": {},
   "source": [
    "## Model 0 - Naive Bayes with TF-IDF Encoder (263)\n",
    "\n",
    "* Selection Method\n",
    "![Machine Learning Map](https://raw.githubusercontent.com/rkumar-bengaluru/data-science/main/20-Tensorflow/07-Skimlit/resources/ml_map.png)"
   ]
  },
  {
   "cell_type": "code",
   "execution_count": 8,
   "id": "94ea3376",
   "metadata": {},
   "outputs": [
    {
     "name": "stdout",
     "output_type": "stream",
     "text": [
      "{'accuracy_score': 0.7218323844829869, 'precision_score': 0.7186466952323352, 'recall_score': 0.7218323844829869, 'f1_score': 0.6989250353450294}\n"
     ]
    }
   ],
   "source": [
    "from sklearn.feature_extraction.text import TfidfVectorizer\n",
    "from sklearn.pipeline import Pipeline\n",
    "from sklearn.naive_bayes import MultinomialNB\n",
    "from sklearn.metrics import accuracy_score,precision_score,recall_score,f1_score\n",
    "\n",
    "def find_scores(val_label_encoded,val_preds):\n",
    "    a_score = accuracy_score(y_true=val_label_encoded,y_pred=val_preds)\n",
    "    p_score = precision_score(y_true=val_label_encoded,y_pred=val_preds,average='weighted')\n",
    "    r_score = recall_score(y_true=val_label_encoded,y_pred=val_preds,average='weighted')\n",
    "    f_score = f1_score(y_true=val_label_encoded,y_pred=val_preds,average='weighted')\n",
    "    return {'accuracy_score' : a_score, \n",
    "            'precision_score' : p_score, \n",
    "            'recall_score' : r_score,\n",
    "            'f1_score' : f_score}\n",
    "\n",
    "model_0 = Pipeline([('tf-idf',TfidfVectorizer()),\n",
    "               ('naive_bayes',MultinomialNB())])\n",
    "model_0.fit(X=train_sentences,y=train_label_encoded)\n",
    "\n",
    "y_pred = model_0.score(X=val_sentences,y=val_label_encoded)\n",
    "\n",
    "val_preds = model_0.predict(val_sentences)\n",
    "model_0_results = find_scores(val_label_encoded,val_preds)\n",
    "print(model_0_results)"
   ]
  },
  {
   "cell_type": "markdown",
   "id": "52108425",
   "metadata": {},
   "source": [
    "## Model 1 - Conv1D with token Embedding "
   ]
  },
  {
   "cell_type": "markdown",
   "id": "4c83b74b",
   "metadata": {},
   "source": [
    "### Data Visualization (264)"
   ]
  },
  {
   "cell_type": "code",
   "execution_count": 9,
   "id": "e2553b19",
   "metadata": {},
   "outputs": [
    {
     "name": "stdout",
     "output_type": "stream",
     "text": [
      "mean tokens in each sentences  26.338269273494777\n",
      "no of tokens to keep to cover 95% of the sentence tokens in training data is 55\n"
     ]
    },
    {
     "data": {
      "image/png": "[encoded data removed]",
      "text/plain": [
       "<Figure size 640x480 with 1 Axes>"
      ]
     },
     "metadata": {},
     "output_type": "display_data"
    }
   ],
   "source": [
    "import numpy as np\n",
    "import matplotlib.pyplot as plt\n",
    "# find how tokens is each sentences\n",
    "lengths = [len(sen.split()) for sen in train_sentences]\n",
    "print('mean tokens in each sentences ', np.mean(lengths))\n",
    "output_sequence_length = int(np.percentile(lengths,95))\n",
    "# find percentile to cover 95% of the sentence tokens\n",
    "print(f\"no of tokens to keep to cover 95% of the sentence tokens in training data is {output_sequence_length}\")\n",
    "plt.hist(lengths,bins=10);"
   ]
  },
  {
   "cell_type": "markdown",
   "id": "9807bbae",
   "metadata": {},
   "source": [
    "### Vectorize Tokens (265)"
   ]
  },
  {
   "cell_type": "code",
   "execution_count": 10,
   "id": "01440492",
   "metadata": {},
   "outputs": [
    {
     "name": "stdout",
     "output_type": "stream",
     "text": [
      "Sample Sentence Text \n",
      " Among infants born prematurely , competence at oral feeding is necessary for growth and hospital discharge .\n",
      "\n",
      "length of the Sample Sentence 108\n",
      "Vectorized Sample Sentence\n",
      " [[ 116  337 2888 5116 4391   15  217 1310   20 1537   11  621    3  237\n",
      "   696    0    0    0    0    0    0    0    0    0    0    0    0    0\n",
      "     0    0    0    0    0    0    0    0    0    0    0    0    0    0\n",
      "     0    0    0    0    0    0    0    0    0    0    0    0    0]]\n",
      "total no of words in the vocabulary is 64841\n",
      "most common words in the vocabulary is \n",
      " ['', '[UNK]', 'the', 'and', 'of', 'in', 'to', 'with', 'a', 'were']\n",
      "least common words in the vocabulary is \n",
      " ['aarm', 'aaqol', 'aaq', 'aanhui', 'aana', 'aainduced', 'aaigroup', 'aachener', 'aachen', 'aaacp']\n",
      "{'name': 'text_vectorization', 'trainable': True, 'dtype': 'string', 'batch_input_shape': (None,), 'max_tokens': 68000, 'standardize': 'lower_and_strip_punctuation', 'split': 'whitespace', 'ngrams': None, 'output_mode': 'int', 'output_sequence_length': 55, 'pad_to_max_tokens': False, 'sparse': False, 'ragged': False, 'vocabulary': None, 'idf_weights': None, 'encoding': 'utf-8', 'vocabulary_size': 64841}\n"
     ]
    }
   ],
   "source": [
    "# create text vectorizer\n",
    "from tensorflow.keras.layers.experimental.preprocessing import TextVectorization\n",
    "\n",
    "max_tokens = 68000\n",
    "text_vectorization = TextVectorization(max_tokens=max_tokens,\n",
    "                                      output_sequence_length=output_sequence_length)\n",
    "\n",
    "text_vectorization.adapt(train_sentences)\n",
    "\n",
    "# check the output of text vectorization\n",
    "import random\n",
    "sample_sentence = random.choice(train_sentences)\n",
    "print(f\"Sample Sentence Text \\n {sample_sentence}\\n\")\n",
    "print(f\"length of the Sample Sentence {len(sample_sentence)}\")\n",
    "print(f\"Vectorized Sample Sentence\\n {text_vectorization([sample_sentence])}\")\n",
    "\n",
    "# how many words in our vocabulary\n",
    "rct_20k_text_vocab = text_vectorization.get_vocabulary()\n",
    "print(f\"total no of words in the vocabulary is {len(rct_20k_text_vocab)}\")\n",
    "print(f\"most common words in the vocabulary is \\n {rct_20k_text_vocab[:10]}\")\n",
    "print(f\"least common words in the vocabulary is \\n {rct_20k_text_vocab[-10:]}\")\n",
    "\n",
    "# print text vectorization config\n",
    "t_config = text_vectorization.get_config()\n",
    "print(t_config)"
   ]
  },
  {
   "cell_type": "markdown",
   "id": "c0b911e8",
   "metadata": {},
   "source": [
    "### Token Embedding (266)"
   ]
  },
  {
   "cell_type": "code",
   "execution_count": 11,
   "id": "6e22319f",
   "metadata": {},
   "outputs": [
    {
     "name": "stdout",
     "output_type": "stream",
     "text": [
      "Sentence before embedding \n",
      " Among infants born prematurely , competence at oral feeding is necessary for growth and hospital discharge .\n",
      "vectorized sentence \n",
      " [[ 116  337 2888 5116 4391   15  217 1310   20 1537   11  621    3  237\n",
      "   696    0    0    0    0    0    0    0    0    0    0    0    0    0\n",
      "     0    0    0    0    0    0    0    0    0    0    0    0    0    0\n",
      "     0    0    0    0    0    0    0    0    0    0    0    0    0]]\n",
      "embedded sentence \n",
      " [[[ 0.01277343  0.00230336 -0.00389149 ...  0.04547533 -0.02926291\n",
      "   -0.02436393]\n",
      "  [ 0.04531531 -0.02648103  0.04667736 ...  0.02195307  0.00172501\n",
      "   -0.00336784]\n",
      "  [-0.01192015  0.01623799 -0.03544437 ...  0.03967075 -0.04762563\n",
      "    0.01072605]\n",
      "  ...\n",
      "  [-0.00649441 -0.02365108 -0.01761366 ... -0.00798734  0.02565967\n",
      "    0.01511272]\n",
      "  [-0.00649441 -0.02365108 -0.01761366 ... -0.00798734  0.02565967\n",
      "    0.01511272]\n",
      "  [-0.00649441 -0.02365108 -0.01761366 ... -0.00798734  0.02565967\n",
      "    0.01511272]]]\n",
      "embedded sentence shape \n",
      " (1, 55, 128)\n"
     ]
    }
   ],
   "source": [
    "# add a embedding layer\n",
    "from tensorflow.keras.layers import Embedding\n",
    "\n",
    "embedding_layer = Embedding(input_dim=len(rct_20k_text_vocab),\n",
    "                 output_dim=128,\n",
    "                  mask_zero=True,\n",
    "                  name='token_embedding')\n",
    "# token embedding\n",
    "print(f\"Sentence before embedding \\n {sample_sentence}\")\n",
    "vectorized_sentence = text_vectorization([sample_sentence])\n",
    "print(f\"vectorized sentence \\n {vectorized_sentence}\")\n",
    "embed_sentence = embedding_layer(vectorized_sentence)\n",
    "print(f\"embedded sentence \\n {embed_sentence}\")\n",
    "print(f\"embedded sentence shape \\n {embed_sentence.shape}\")"
   ]
  },
  {
   "cell_type": "markdown",
   "id": "1d954fa5",
   "metadata": {},
   "source": [
    "## Create Dataset using tf.data.Dataset (267)"
   ]
  },
  {
   "cell_type": "code",
   "execution_count": 12,
   "id": "86b0e2b0",
   "metadata": {},
   "outputs": [],
   "source": [
    "train_dataset = tf.data.Dataset.from_tensor_slices((train_sentences,train_label_one_hot))\n",
    "val_dataset = tf.data.Dataset.from_tensor_slices((val_sentences,val_label_one_hot))\n",
    "test_dataset = tf.data.Dataset.from_tensor_slices((test_sentences,test_label_one_hot))\n",
    "\n",
    "# for fast performance \n",
    "train_dataset = train_dataset.batch(32).prefetch(tf.data.AUTOTUNE)\n",
    "val_dataset   = val_dataset.batch(32).prefetch(tf.data.AUTOTUNE)\n",
    "test_dataset  = test_dataset.batch(32).prefetch(tf.data.AUTOTUNE)"
   ]
  },
  {
   "cell_type": "code",
   "execution_count": 13,
   "id": "c1280fc6",
   "metadata": {},
   "outputs": [
    {
     "data": {
      "text/plain": [
       "<_PrefetchDataset element_spec=(TensorSpec(shape=(None,), dtype=tf.string, name=None), TensorSpec(shape=(None, 5), dtype=tf.float64, name=None))>"
      ]
     },
     "execution_count": 13,
     "metadata": {},
     "output_type": "execute_result"
    }
   ],
   "source": [
    "train_dataset"
   ]
  },
  {
   "cell_type": "markdown",
   "id": "40beeb95",
   "metadata": {},
   "source": [
    "## Build Conv1D model (268)"
   ]
  },
  {
   "cell_type": "code",
   "execution_count": 14,
   "id": "4bde1b93",
   "metadata": {},
   "outputs": [
    {
     "name": "stdout",
     "output_type": "stream",
     "text": [
      "Model: \"model\"\n",
      "_________________________________________________________________\n",
      " Layer (type)                Output Shape              Param #   \n",
      "=================================================================\n",
      " input (InputLayer)          [(None, 1)]               0         \n",
      "                                                                 \n",
      " vectorization_layer (TextVe  (None, 55)               0         \n",
      " ctorization)                                                    \n",
      "                                                                 \n",
      " token_embedding_layer (Embe  (None, 55, 128)          8299648   \n",
      " dding)                                                          \n",
      "                                                                 \n",
      " conv1d_Layer (Conv1D)       (None, 55, 64)            41024     \n",
      "                                                                 \n",
      " global_average_pooling (Glo  (None, 64)               0         \n",
      " balAveragePooling1D)                                            \n",
      "                                                                 \n",
      " fully_connected (Dense)     (None, 5)                 325       \n",
      "                                                                 \n",
      "=================================================================\n",
      "Total params: 8,340,997\n",
      "Trainable params: 8,340,997\n",
      "Non-trainable params: 0\n",
      "_________________________________________________________________\n"
     ]
    }
   ],
   "source": [
    "import tensorflow as tf\n",
    "from tensorflow.keras import Model\n",
    "from tensorflow.keras.layers import Conv1D, GlobalAveragePooling1D, Input, TextVectorization, Embedding,Dense\n",
    "\n",
    "# input layer\n",
    "inputs = Input(shape=(1,),dtype=tf.string,name=\"input\")\n",
    "# text vectorization layer\n",
    "max_tokens = 68000\n",
    "lengths = [len(sen.split()) for sen in train_sentences]\n",
    "output_sequence_length = int(np.percentile(lengths,95))\n",
    "text_vectorizer = TextVectorization(max_tokens=max_tokens, \n",
    "                      output_sequence_length=output_sequence_length,\n",
    "                                   name=\"vectorization_layer\")\n",
    "text_vectorizer.adapt(train_sentences)\n",
    "vectors = text_vectorizer(inputs)\n",
    "# embedding layer\n",
    "embedding = Embedding(input_dim=len(rct_20k_text_vocab),\n",
    "                     output_dim=128,\n",
    "                     mask_zero=True,\n",
    "                      name=\"token_embedding_layer\")\n",
    "token_embedding = embedding(vectors)\n",
    "# conv1d layer\n",
    "x = Conv1D(filters=64,\n",
    "          kernel_size=5,\n",
    "          padding=\"same\",\n",
    "          activation=\"relu\",\n",
    "          name=\"conv1d_Layer\")(token_embedding)\n",
    "# average pooling\n",
    "x = GlobalAveragePooling1D(name=\"global_average_pooling\")(x)\n",
    "# output layer\n",
    "outputs = Dense(5,activation=\"softmax\", name=\"fully_connected\")(x)\n",
    "# finally the model\n",
    "model_1 = Model(inputs,outputs)\n",
    "\n",
    "# compile the model\n",
    "model_1.compile(loss=\"categorical_crossentropy\",\n",
    "               optimizer=tf.keras.optimizers.Adam(),\n",
    "               metrics=['accuracy'])\n",
    "# summary\n",
    "model_1.summary()"
   ]
  },
  {
   "cell_type": "code",
   "execution_count": 31,
   "id": "258d5d14",
   "metadata": {},
   "outputs": [],
   "source": [
    "import time\n",
    "\n",
    "def fit_the_model(model):\n",
    "    \n",
    "    # fit the model\n",
    "    start_time = time.time()\n",
    "    history = model.fit(train_dataset,\n",
    "                             steps_per_epoch=int(0.1*len(train_dataset)),\n",
    "                              epochs=3,\n",
    "                             validation_data=val_dataset,\n",
    "                             validation_steps=int(0.1*len(val_dataset)))\n",
    "    time_taken = time.time() - start_time\n",
    "    print(f\"time taken to fit {time_taken}\")\n",
    "    return history"
   ]
  },
  {
   "cell_type": "code",
   "execution_count": 16,
   "id": "bdeb7258",
   "metadata": {},
   "outputs": [],
   "source": [
    "# let's try with cpu\n",
    "#with tf.device(\"/cpu:0\"):\n",
    "#    fit_the_model(model_1)"
   ]
  },
  {
   "cell_type": "code",
   "execution_count": 17,
   "id": "af51073f",
   "metadata": {},
   "outputs": [
    {
     "name": "stdout",
     "output_type": "stream",
     "text": [
      "Epoch 1/3\n"
     ]
    },
    {
     "name": "stderr",
     "output_type": "stream",
     "text": [
      "2023-05-25 08:34:37.145613: I tensorflow/core/common_runtime/executor.cc:1197] [/device:CPU:0] (DEBUG INFO) Executor start aborting (this does not indicate an error and you can ignore this message): INVALID_ARGUMENT: You must feed a value for placeholder tensor 'Placeholder/_1' with dtype double and shape [180040,5]\n",
      "\t [[{{node Placeholder/_1}}]]\n"
     ]
    },
    {
     "name": "stdout",
     "output_type": "stream",
     "text": [
      "562/562 [==============================] - ETA: 0s - loss: 0.9216 - accuracy: 0.6334"
     ]
    },
    {
     "name": "stderr",
     "output_type": "stream",
     "text": [
      "2023-05-25 08:35:17.542521: I tensorflow/core/common_runtime/executor.cc:1197] [/device:CPU:0] (DEBUG INFO) Executor start aborting (this does not indicate an error and you can ignore this message): INVALID_ARGUMENT: You must feed a value for placeholder tensor 'Placeholder/_1' with dtype double and shape [30212,5]\n",
      "\t [[{{node Placeholder/_1}}]]\n"
     ]
    },
    {
     "name": "stdout",
     "output_type": "stream",
     "text": [
      "562/562 [==============================] - 41s 71ms/step - loss: 0.9216 - accuracy: 0.6334 - val_loss: 0.6882 - val_accuracy: 0.7394\n",
      "Epoch 2/3\n",
      "562/562 [==============================] - 36s 64ms/step - loss: 0.6592 - accuracy: 0.7563 - val_loss: 0.6319 - val_accuracy: 0.7699\n",
      "Epoch 3/3\n",
      "562/562 [==============================] - 35s 62ms/step - loss: 0.6198 - accuracy: 0.7767 - val_loss: 0.5977 - val_accuracy: 0.7826\n",
      "time taken to fit 111.93111944198608\n"
     ]
    }
   ],
   "source": [
    "# with gpu\n",
    "with tf.device(\"/gpu:0\"):\n",
    "    fit_the_model(model_1)"
   ]
  },
  {
   "cell_type": "code",
   "execution_count": 18,
   "id": "6467abc4",
   "metadata": {},
   "outputs": [
    {
     "name": "stdout",
     "output_type": "stream",
     "text": [
      "945/945 [==============================] - 5s 5ms/step - loss: 0.6015 - accuracy: 0.7839\n"
     ]
    },
    {
     "data": {
      "text/plain": [
       "[0.6015175580978394, 0.7838938236236572]"
      ]
     },
     "execution_count": 18,
     "metadata": {},
     "output_type": "execute_result"
    }
   ],
   "source": [
    "# evalue the model\n",
    "model_1.evaluate(val_dataset)"
   ]
  },
  {
   "cell_type": "code",
   "execution_count": 19,
   "id": "a8f0d4c4",
   "metadata": {},
   "outputs": [
    {
     "name": "stdout",
     "output_type": "stream",
     "text": [
      "945/945 [==============================] - 4s 4ms/step\n"
     ]
    },
    {
     "data": {
      "text/plain": [
       "(array([[4.2633256e-01, 1.8590795e-01, 9.9755667e-02, 2.6384270e-01,\n",
       "         2.4161216e-02],\n",
       "        [4.5196444e-01, 2.5112864e-01, 1.1524048e-02, 2.7793929e-01,\n",
       "         7.4436255e-03],\n",
       "        [1.2931105e-01, 1.0147102e-02, 1.3950986e-03, 8.5909355e-01,\n",
       "         5.3225856e-05],\n",
       "        ...,\n",
       "        [2.3192902e-06, 1.0413789e-03, 4.7144821e-04, 1.5524093e-06,\n",
       "         9.9848336e-01],\n",
       "        [5.9557542e-02, 3.9768589e-01, 1.3298537e-01, 8.2954682e-02,\n",
       "         3.2681653e-01],\n",
       "        [1.9893937e-01, 6.6024572e-01, 3.4642261e-02, 3.4235310e-02,\n",
       "         7.1937367e-02]], dtype=float32),\n",
       " (30212, 5))"
      ]
     },
     "execution_count": 19,
     "metadata": {},
     "output_type": "execute_result"
    }
   ],
   "source": [
    "model_1_pred_probs = model_1.predict(val_dataset)\n",
    "model_1_pred_probs,model_1_pred_probs.shape"
   ]
  },
  {
   "cell_type": "code",
   "execution_count": 20,
   "id": "812bd5af",
   "metadata": {},
   "outputs": [
    {
     "data": {
      "text/plain": [
       "<tf.Tensor: shape=(30212,), dtype=int64, numpy=array([0, 0, 3, ..., 4, 1, 1])>"
      ]
     },
     "execution_count": 20,
     "metadata": {},
     "output_type": "execute_result"
    }
   ],
   "source": [
    "model_1_preds = tf.argmax(model_1_pred_probs,axis=1)\n",
    "model_1_preds"
   ]
  },
  {
   "cell_type": "code",
   "execution_count": 21,
   "id": "96d569f5",
   "metadata": {},
   "outputs": [
    {
     "data": {
      "text/plain": [
       "({'accuracy_score': 0.7218323844829869,\n",
       "  'precision_score': 0.7186466952323352,\n",
       "  'recall_score': 0.7218323844829869,\n",
       "  'f1_score': 0.6989250353450294},\n",
       " {'accuracy_score': 0.7838938170263472,\n",
       "  'precision_score': 0.7804753176617882,\n",
       "  'recall_score': 0.7838938170263472,\n",
       "  'f1_score': 0.7814327373922647})"
      ]
     },
     "execution_count": 21,
     "metadata": {},
     "output_type": "execute_result"
    }
   ],
   "source": [
    "model_1_results = find_scores(val_label_encoded,model_1_preds)\n",
    "model_0_results,model_1_results,"
   ]
  },
  {
   "cell_type": "markdown",
   "id": "459a3f58",
   "metadata": {},
   "source": [
    "## Model 2 Architecture - Tensorflow Hub Pretrained Feature Extractor (269 - 270)\n",
    "![Model 2 Architecture](https://raw.githubusercontent.com/rkumar-bengaluru/data-science/main/20-Tensorflow/07-Skimlit/resources/model_2_architecture.jpg)"
   ]
  },
  {
   "cell_type": "code",
   "execution_count": 26,
   "id": "e13d93ab",
   "metadata": {},
   "outputs": [],
   "source": [
    "import tensorflow_hub as hub\n",
    "import random\n",
    "import tensorflow as tf\n",
    "from tensorflow.keras import Model\n",
    "from tensorflow.keras.layers import Input, Dense\n",
    "\n",
    "with tf.device('/cpu:0'):\n",
    "    use = 'https://tfhub.dev/google/universal-sentence-encoder/4'\n",
    "    universal_sentence_encoder = hub.KerasLayer(use,\n",
    "                              trainable=False,\n",
    "                              name='universal_encoder_layer')"
   ]
  },
  {
   "cell_type": "code",
   "execution_count": 27,
   "id": "a2c17726",
   "metadata": {},
   "outputs": [
    {
     "name": "stdout",
     "output_type": "stream",
     "text": [
      "random sentence to encode with hub encoder \n",
      " To study the synergistic effects of electroacupuncture on the treatment of knee osteoarthritis after arthroscopic debridement .\n"
     ]
    },
    {
     "name": "stderr",
     "output_type": "stream",
     "text": [
      "2023-05-25 08:47:46.118992: I tensorflow/core/common_runtime/executor.cc:1197] [/device:CPU:0] (DEBUG INFO) Executor start aborting (this does not indicate an error and you can ignore this message): INVALID_ARGUMENT: You must feed a value for placeholder tensor 'inputs' with dtype string\n",
      "\t [[{{node inputs}}]]\n"
     ]
    },
    {
     "name": "stdout",
     "output_type": "stream",
     "text": [
      "shape of encoded sentence (1, 512)\n",
      "encoded sentence \n",
      " [[ 0.06279134  0.01369973  0.06582981 -0.07669555 -0.04587398 -0.0082109\n",
      "  -0.00636394 -0.05387252 -0.03135108  0.05190504  0.07005625 -0.02295379\n",
      "  -0.03951597  0.02275148 -0.01565056 -0.01587343 -0.09541735 -0.0490605\n",
      "   0.04042636 -0.08189386 -0.08149713  0.00934574 -0.0189915  -0.02616037\n",
      "  -0.00304986 -0.03329622  0.00513394 -0.01424686 -0.02965057  0.0427039\n",
      "  -0.07556157  0.09493107  0.04094959  0.05921735 -0.04571599  0.03442181\n",
      "   0.04333055 -0.01924521 -0.03956519 -0.06948345 -0.06448104  0.00067883\n",
      "   0.01696799 -0.04504972  0.06839738  0.06816462 -0.02787285 -0.03543166\n",
      "  -0.03453318 -0.01731843 -0.05757599  0.06948152  0.01670033  0.04007629\n",
      "   0.04789853 -0.07235609 -0.02558368  0.02350361  0.04136902  0.00662814\n",
      "  -0.04349505  0.05234401  0.01109951  0.00971564  0.01426537  0.01072548\n",
      "  -0.00139672  0.00118097 -0.05357008 -0.03579675  0.01774899  0.02621061\n",
      "  -0.02951406 -0.06358261 -0.01070951  0.03920368 -0.04648815  0.04589734\n",
      "   0.00660446 -0.01432416 -0.00805624  0.02410976  0.05838591  0.02567179\n",
      "  -0.02664598  0.01508598  0.02173168  0.00117297 -0.02471793  0.01541276\n",
      "   0.04140072  0.00480635  0.01711848  0.00839474 -0.00779906  0.07516427\n",
      "  -0.06878569 -0.05156925  0.04928481 -0.05155041 -0.03477786  0.03002678\n",
      "   0.08498319  0.0638698   0.06355621 -0.07309128 -0.03874969 -0.03384179\n",
      "  -0.02024202 -0.02614479  0.05852557 -0.01246023 -0.05158356  0.06979167\n",
      "  -0.06777456 -0.00826284  0.02994802 -0.03805418  0.07601821 -0.02625793\n",
      "  -0.05659565  0.03357204  0.01707673  0.05164064  0.08141174 -0.00233903\n",
      "   0.01750337  0.0214532  -0.00620088 -0.05787808 -0.05752304  0.09778881\n",
      "   0.06563011 -0.02183345  0.03175655 -0.07647904  0.01426353 -0.05866969\n",
      "   0.05205279  0.05093387  0.00410375  0.01788223 -0.083809   -0.05131664\n",
      "   0.03595859  0.03076473 -0.03682405 -0.07298557  0.00449094  0.04045075\n",
      "   0.04872595 -0.06558914  0.01854422  0.00731427  0.08428386  0.05874331\n",
      "   0.06652414  0.06440424  0.00933869 -0.04112734 -0.00388243 -0.04209176\n",
      "   0.0283358  -0.02834702 -0.02890324  0.02321391 -0.02273469 -0.00993578\n",
      "  -0.06176249 -0.05241105 -0.03074235 -0.09321725 -0.00982983 -0.04952501\n",
      "   0.05048573 -0.03215344 -0.01260593 -0.03496236  0.04524682  0.07198387\n",
      "  -0.03466797  0.02039566 -0.00057801 -0.00884568  0.02922749 -0.02194247\n",
      "  -0.01438189  0.01892976  0.00757516 -0.03077024  0.010183   -0.0182641\n",
      "  -0.02977407  0.03109724 -0.02491207  0.0311788   0.00540696 -0.05877849\n",
      "  -0.01085266 -0.05882234 -0.0184504  -0.09045798  0.05573679  0.07609233\n",
      "  -0.03125155 -0.04660499 -0.0256301  -0.04458801  0.04584941  0.01086355\n",
      "  -0.02612844  0.01324954  0.02152611  0.00456058 -0.06595474 -0.01902456\n",
      "   0.04335845  0.03182253 -0.08098774  0.08976544 -0.03092588  0.02046935\n",
      "   0.01537157 -0.05273836  0.05414262 -0.02754574  0.03593455  0.06023871\n",
      "   0.02373539  0.04278686 -0.01178781  0.01937691  0.05834904 -0.00720946\n",
      "   0.03205308 -0.0370215  -0.02277573 -0.00762337 -0.04731349  0.04925931\n",
      "   0.01880805 -0.00269124 -0.05567243 -0.02968369 -0.03577766  0.05020998\n",
      "   0.00986737 -0.040566    0.07131656 -0.08936695  0.05814474  0.03446927\n",
      "  -0.00827513  0.02253508 -0.04641487 -0.0026538   0.07959186 -0.05089522\n",
      "   0.0121003  -0.03903366  0.05505564 -0.0282648  -0.02536544  0.04163575\n",
      "   0.0120098   0.02444189 -0.08368117 -0.0842471   0.02253213 -0.02912807\n",
      "  -0.00789081 -0.06656054  0.01348358 -0.01786861 -0.05331752 -0.00550929\n",
      "   0.00384459  0.00141468 -0.0476536  -0.01515149  0.02678697  0.01068154\n",
      "  -0.05772619  0.0292947  -0.04824523 -0.05637061  0.05631548 -0.02414736\n",
      "   0.0239171   0.07238238 -0.06931231 -0.00524617  0.01598579  0.07921841\n",
      "   0.08094853 -0.02745888 -0.00544387 -0.00917875 -0.02475119 -0.03714576\n",
      "  -0.04793124  0.01769228  0.00404935 -0.03266827 -0.03819659  0.07636742\n",
      "  -0.05417551 -0.00697791  0.03369696 -0.06997744 -0.07487371 -0.07658336\n",
      "   0.01543596 -0.07438864  0.03826775 -0.02799551 -0.01174338  0.06000649\n",
      "  -0.05037604 -0.0402503  -0.08369257 -0.00020926 -0.001533    0.03251066\n",
      "   0.04380357  0.00046818 -0.03408131 -0.00409755  0.08789984  0.02244496\n",
      "  -0.06194183 -0.0414969   0.02302627 -0.04831645  0.07210994  0.02326959\n",
      "  -0.05477932  0.00631981  0.08083754 -0.07527103 -0.00125333  0.02577671\n",
      "   0.06227129  0.04248841 -0.01735987 -0.00926184  0.00602257 -0.0304577\n",
      "  -0.03685666  0.06345545 -0.03896056 -0.04709701  0.06261778 -0.03413999\n",
      "   0.06818248 -0.03772502 -0.00204669 -0.01493039 -0.01474658 -0.08178498\n",
      "  -0.03660687 -0.01849245 -0.08428801 -0.03361567  0.03052571 -0.05721198\n",
      "  -0.07526108  0.0642643  -0.05630308  0.02774456  0.00394099  0.03351735\n",
      "   0.00146148 -0.01368149 -0.03065243 -0.03542776 -0.0843984  -0.08398582\n",
      "  -0.03360135  0.0157727   0.09660152  0.05457542  0.05980556 -0.05136793\n",
      "  -0.05743432 -0.05308589  0.03955336  0.04103044  0.07631537 -0.03426454\n",
      "  -0.03067162 -0.049994    0.04573435  0.02094487  0.04625655 -0.07144456\n",
      "   0.04225115 -0.03688642  0.04420691 -0.04943944  0.05233409  0.00967112\n",
      "  -0.03176265  0.0730975   0.03394834 -0.03933504 -0.00291813 -0.04668984\n",
      "   0.05779043  0.08611663  0.0220759  -0.0347962  -0.00404582  0.02074906\n",
      "   0.02440895 -0.01950757 -0.00068733  0.02105364  0.00425222 -0.00656895\n",
      "  -0.02140142 -0.01945992  0.03987101 -0.0274225   0.02193993 -0.06239743\n",
      "  -0.056038   -0.06230862 -0.02158188  0.01737837 -0.06433412  0.01247215\n",
      "   0.03349809  0.0027195  -0.03356063  0.01450913 -0.01130388  0.03192586\n",
      "   0.04272917  0.08492909 -0.06964181 -0.00681132 -0.02806093 -0.04744866\n",
      "  -0.04162489 -0.05339065 -0.02654147 -0.0528153   0.05651582  0.05970776\n",
      "  -0.03274558 -0.02805328 -0.03603236 -0.05525591 -0.00759457 -0.02015583\n",
      "  -0.06529954  0.01201719 -0.04503896  0.05395137  0.04756764  0.05507862\n",
      "  -0.08223827 -0.03559048 -0.01347787  0.00832897  0.01768326 -0.02758912\n",
      "   0.07497153 -0.07913265  0.05609729  0.02208187 -0.03654633 -0.01123501\n",
      "   0.00819611 -0.00237055  0.02402005 -0.03430629  0.02503073 -0.04702765\n",
      "   0.04324023 -0.0581856  -0.00862627  0.02113276 -0.08461009  0.05522896\n",
      "   0.03681716 -0.02278236 -0.01357555  0.01902558  0.0297217   0.04227555\n",
      "   0.02819082 -0.03774229  0.00518622  0.0042891   0.08804454 -0.0449476\n",
      "   0.00474736 -0.00573622 -0.00377038 -0.07045521 -0.0121533   0.01450957\n",
      "   0.02335675 -0.09713876 -0.00837318 -0.06409666  0.01601292 -0.01538831\n",
      "  -0.01739299  0.00781829]]\n"
     ]
    }
   ],
   "source": [
    "random_sentence = random.choice(train_sentences)\n",
    "print(f\"random sentence to encode with hub encoder \\n {random_sentence}\")\n",
    "random_sentence_encoded = universal_sentence_encoder([random_sentence])\n",
    "print(f\"shape of encoded sentence {random_sentence_encoded.shape}\")\n",
    "print(f\"encoded sentence \\n {random_sentence_encoded}\")"
   ]
  },
  {
   "cell_type": "code",
   "execution_count": 30,
   "id": "cc10e4bd",
   "metadata": {},
   "outputs": [
    {
     "name": "stdout",
     "output_type": "stream",
     "text": [
      "Model: \"model_2_use_feature_extractor\"\n",
      "_________________________________________________________________\n",
      " Layer (type)                Output Shape              Param #   \n",
      "=================================================================\n",
      " input_layer (InputLayer)    [(None,)]                 0         \n",
      "                                                                 \n",
      " universal_encoder_layer (Ke  (None, 512)              256797824 \n",
      " rasLayer)                                                       \n",
      "                                                                 \n",
      " fully_connected_layer (Dens  (None, 128)              65664     \n",
      " e)                                                              \n",
      "                                                                 \n",
      " output_layer (Dense)        (None, 5)                 645       \n",
      "                                                                 \n",
      "=================================================================\n",
      "Total params: 256,864,133\n",
      "Trainable params: 66,309\n",
      "Non-trainable params: 256,797,824\n",
      "_________________________________________________________________\n"
     ]
    },
    {
     "name": "stderr",
     "output_type": "stream",
     "text": [
      "2023-05-25 08:48:30.790703: I tensorflow/core/common_runtime/executor.cc:1197] [/device:CPU:0] (DEBUG INFO) Executor start aborting (this does not indicate an error and you can ignore this message): INVALID_ARGUMENT: You must feed a value for placeholder tensor 'Placeholder' with dtype string and shape [?]\n",
      "\t [[{{node Placeholder}}]]\n"
     ]
    }
   ],
   "source": [
    "# create model 2\n",
    "inputs = Input(shape=[],dtype=tf.string,name='input_layer')\n",
    "pretrained_embedding = universal_sentence_encoder(inputs)\n",
    "dense = Dense(128,activation='relu',name='fully_connected_layer')(pretrained_embedding)\n",
    "outputs = Dense(5,activation='softmax',name='output_layer')(dense)\n",
    "model_2 = Model(inputs=inputs,\n",
    "               outputs=outputs,\n",
    "               name='model_2_use_feature_extractor')\n",
    "model_2.compile(loss='categorical_crossentropy',\n",
    "               optimizer=tf.keras.optimizers.Adam(),\n",
    "               metrics=['accuracy'])\n",
    "model_2.summary()"
   ]
  },
  {
   "cell_type": "code",
   "execution_count": 32,
   "id": "c1c649ed",
   "metadata": {},
   "outputs": [
    {
     "name": "stdout",
     "output_type": "stream",
     "text": [
      "Epoch 1/3\n"
     ]
    },
    {
     "name": "stderr",
     "output_type": "stream",
     "text": [
      "2023-05-25 08:50:05.146891: I tensorflow/core/common_runtime/executor.cc:1197] [/device:CPU:0] (DEBUG INFO) Executor start aborting (this does not indicate an error and you can ignore this message): INVALID_ARGUMENT: You must feed a value for placeholder tensor 'gradients/StatefulPartitionedCall_grad/StatefulPartitionedCall' with dtype float and shape [?,512]\n",
      "\t [[{{node gradients/StatefulPartitionedCall_grad/StatefulPartitionedCall}}]]\n",
      "2023-05-25 08:50:05.147090: I tensorflow/core/common_runtime/executor.cc:1197] [/device:CPU:0] (DEBUG INFO) Executor start aborting (this does not indicate an error and you can ignore this message): INVALID_ARGUMENT: You must feed a value for placeholder tensor 'gradients/StatefulPartitionedCall_grad/StatefulPartitionedCall_1' with dtype float and shape [?,1]\n",
      "\t [[{{node gradients/StatefulPartitionedCall_grad/StatefulPartitionedCall_1}}]]\n",
      "2023-05-25 08:50:05.147187: I tensorflow/core/common_runtime/executor.cc:1197] [/device:CPU:0] (DEBUG INFO) Executor start aborting (this does not indicate an error and you can ignore this message): INVALID_ARGUMENT: You must feed a value for placeholder tensor 'gradients/StatefulPartitionedCall_grad/StatefulPartitionedCall_2' with dtype float and shape [?,1]\n",
      "\t [[{{node gradients/StatefulPartitionedCall_grad/StatefulPartitionedCall_2}}]]\n",
      "2023-05-25 08:50:05.147274: I tensorflow/core/common_runtime/executor.cc:1197] [/device:CPU:0] (DEBUG INFO) Executor start aborting (this does not indicate an error and you can ignore this message): INVALID_ARGUMENT: You must feed a value for placeholder tensor 'gradients/StatefulPartitionedCall_grad/StatefulPartitionedCall_4' with dtype float and shape [?,512]\n",
      "\t [[{{node gradients/StatefulPartitionedCall_grad/StatefulPartitionedCall_4}}]]\n",
      "2023-05-25 08:50:05.147415: I tensorflow/core/common_runtime/executor.cc:1197] [/device:CPU:0] (DEBUG INFO) Executor start aborting (this does not indicate an error and you can ignore this message): INVALID_ARGUMENT: You must feed a value for placeholder tensor 'gradients/StatefulPartitionedCall_grad/StatefulPartitionedCall_5' with dtype float and shape [?,512]\n",
      "\t [[{{node gradients/StatefulPartitionedCall_grad/StatefulPartitionedCall_5}}]]\n",
      "2023-05-25 08:50:05.147577: I tensorflow/core/common_runtime/executor.cc:1197] [/device:CPU:0] (DEBUG INFO) Executor start aborting (this does not indicate an error and you can ignore this message): INVALID_ARGUMENT: You must feed a value for placeholder tensor 'gradients/StatefulPartitionedCall_grad/StatefulPartitionedCall_6' with dtype float and shape [?,1]\n",
      "\t [[{{node gradients/StatefulPartitionedCall_grad/StatefulPartitionedCall_6}}]]\n",
      "2023-05-25 08:50:05.147720: I tensorflow/core/common_runtime/executor.cc:1197] [/device:CPU:0] (DEBUG INFO) Executor start aborting (this does not indicate an error and you can ignore this message): INVALID_ARGUMENT: You must feed a value for placeholder tensor 'gradients/StatefulPartitionedCall_grad/StatefulPartitionedCall_7' with dtype float and shape [?,1]\n",
      "\t [[{{node gradients/StatefulPartitionedCall_grad/StatefulPartitionedCall_7}}]]\n",
      "2023-05-25 08:50:05.148211: I tensorflow/core/common_runtime/executor.cc:1197] [/device:CPU:0] (DEBUG INFO) Executor start aborting (this does not indicate an error and you can ignore this message): INVALID_ARGUMENT: You must feed a value for placeholder tensor 'gradients/StatefulPartitionedCall_grad/StatefulPartitionedCall_9' with dtype float and shape [?,512]\n",
      "\t [[{{node gradients/StatefulPartitionedCall_grad/StatefulPartitionedCall_9}}]]\n",
      "2023-05-25 08:50:05.148441: I tensorflow/core/common_runtime/executor.cc:1197] [/device:CPU:0] (DEBUG INFO) Executor start aborting (this does not indicate an error and you can ignore this message): INVALID_ARGUMENT: You must feed a value for placeholder tensor 'gradients/StatefulPartitionedCall_grad/StatefulPartitionedCall_10' with dtype float and shape [?,512]\n",
      "\t [[{{node gradients/StatefulPartitionedCall_grad/StatefulPartitionedCall_10}}]]\n",
      "2023-05-25 08:50:05.148777: I tensorflow/core/common_runtime/executor.cc:1197] [/device:CPU:0] (DEBUG INFO) Executor start aborting (this does not indicate an error and you can ignore this message): INVALID_ARGUMENT: You must feed a value for placeholder tensor 'gradients/StatefulPartitionedCall_grad/StatefulPartitionedCall_11' with dtype float and shape [?,512]\n",
      "\t [[{{node gradients/StatefulPartitionedCall_grad/StatefulPartitionedCall_11}}]]\n",
      "2023-05-25 08:50:05.149015: I tensorflow/core/common_runtime/executor.cc:1197] [/device:CPU:0] (DEBUG INFO) Executor start aborting (this does not indicate an error and you can ignore this message): INVALID_ARGUMENT: You must feed a value for placeholder tensor 'gradients/StatefulPartitionedCall_grad/StatefulPartitionedCall_17' with dtype int32\n",
      "\t [[{{node gradients/StatefulPartitionedCall_grad/StatefulPartitionedCall_17}}]]\n",
      "2023-05-25 08:50:05.149377: I tensorflow/core/common_runtime/executor.cc:1197] [/device:CPU:0] (DEBUG INFO) Executor start aborting (this does not indicate an error and you can ignore this message): INVALID_ARGUMENT: You must feed a value for placeholder tensor 'gradients/StatefulPartitionedCall_grad/StatefulPartitionedCall_18' with dtype int32\n",
      "\t [[{{node gradients/StatefulPartitionedCall_grad/StatefulPartitionedCall_18}}]]\n",
      "2023-05-25 08:50:05.150014: I tensorflow/core/common_runtime/executor.cc:1197] [/device:CPU:0] (DEBUG INFO) Executor start aborting (this does not indicate an error and you can ignore this message): INVALID_ARGUMENT: You must feed a value for placeholder tensor 'gradients/StatefulPartitionedCall_grad/StatefulPartitionedCall_19' with dtype float and shape [?,320]\n",
      "\t [[{{node gradients/StatefulPartitionedCall_grad/StatefulPartitionedCall_19}}]]\n",
      "2023-05-25 08:50:05.150596: I tensorflow/core/common_runtime/executor.cc:1197] [/device:CPU:0] (DEBUG INFO) Executor start aborting (this does not indicate an error and you can ignore this message): INVALID_ARGUMENT: You must feed a value for placeholder tensor 'gradients/StatefulPartitionedCall_grad/StatefulPartitionedCall_20' with dtype float\n",
      "\t [[{{node gradients/StatefulPartitionedCall_grad/StatefulPartitionedCall_20}}]]\n",
      "2023-05-25 08:50:05.151044: I tensorflow/core/common_runtime/executor.cc:1197] [/device:CPU:0] (DEBUG INFO) Executor start aborting (this does not indicate an error and you can ignore this message): INVALID_ARGUMENT: You must feed a value for placeholder tensor 'gradients/StatefulPartitionedCall_grad/StatefulPartitionedCall_21' with dtype int32\n",
      "\t [[{{node gradients/StatefulPartitionedCall_grad/StatefulPartitionedCall_21}}]]\n",
      "2023-05-25 08:50:05.151324: I tensorflow/core/common_runtime/executor.cc:1197] [/device:CPU:0] (DEBUG INFO) Executor start aborting (this does not indicate an error and you can ignore this message): INVALID_ARGUMENT: You must feed a value for placeholder tensor 'gradients/StatefulPartitionedCall_grad/StatefulPartitionedCall_25' with dtype int32\n",
      "\t [[{{node gradients/StatefulPartitionedCall_grad/StatefulPartitionedCall_25}}]]\n",
      "2023-05-25 08:50:05.151671: I tensorflow/core/common_runtime/executor.cc:1197] [/device:CPU:0] (DEBUG INFO) Executor start aborting (this does not indicate an error and you can ignore this message): INVALID_ARGUMENT: You must feed a value for placeholder tensor 'gradients/StatefulPartitionedCall_grad/StatefulPartitionedCall_26' with dtype float\n",
      "\t [[{{node gradients/StatefulPartitionedCall_grad/StatefulPartitionedCall_26}}]]\n",
      "2023-05-25 08:50:05.152116: I tensorflow/core/common_runtime/executor.cc:1197] [/device:CPU:0] (DEBUG INFO) Executor start aborting (this does not indicate an error and you can ignore this message): INVALID_ARGUMENT: You must feed a value for placeholder tensor 'gradients/StatefulPartitionedCall_grad/StatefulPartitionedCall_27' with dtype float and shape [?,1]\n",
      "\t [[{{node gradients/StatefulPartitionedCall_grad/StatefulPartitionedCall_27}}]]\n",
      "2023-05-25 08:50:05.152336: I tensorflow/core/common_runtime/executor.cc:1197] [/device:CPU:0] (DEBUG INFO) Executor start aborting (this does not indicate an error and you can ignore this message): INVALID_ARGUMENT: You must feed a value for placeholder tensor 'gradients/StatefulPartitionedCall_grad/StatefulPartitionedCall_29' with dtype int32\n",
      "\t [[{{node gradients/StatefulPartitionedCall_grad/StatefulPartitionedCall_29}}]]\n",
      "2023-05-25 08:50:05.152626: I tensorflow/core/common_runtime/executor.cc:1197] [/device:CPU:0] (DEBUG INFO) Executor start aborting (this does not indicate an error and you can ignore this message): INVALID_ARGUMENT: You must feed a value for placeholder tensor 'gradients/StatefulPartitionedCall_grad/StatefulPartitionedCall_30' with dtype float and shape [?,320]\n",
      "\t [[{{node gradients/StatefulPartitionedCall_grad/StatefulPartitionedCall_30}}]]\n",
      "2023-05-25 08:50:05.152918: I tensorflow/core/common_runtime/executor.cc:1197] [/device:CPU:0] (DEBUG INFO) Executor start aborting (this does not indicate an error and you can ignore this message): INVALID_ARGUMENT: You must feed a value for placeholder tensor 'gradients/StatefulPartitionedCall_grad/StatefulPartitionedCall_31' with dtype float and shape [?,320]\n",
      "\t [[{{node gradients/StatefulPartitionedCall_grad/StatefulPartitionedCall_31}}]]\n",
      "2023-05-25 08:50:05.153344: I tensorflow/core/common_runtime/executor.cc:1197] [/device:CPU:0] (DEBUG INFO) Executor start aborting (this does not indicate an error and you can ignore this message): INVALID_ARGUMENT: You must feed a value for placeholder tensor 'gradients/StatefulPartitionedCall_grad/StatefulPartitionedCall_32' with dtype int32 and shape [?]\n",
      "\t [[{{node gradients/StatefulPartitionedCall_grad/StatefulPartitionedCall_32}}]]\n",
      "2023-05-25 08:50:05.153718: I tensorflow/core/common_runtime/executor.cc:1197] [/device:CPU:0] (DEBUG INFO) Executor start aborting (this does not indicate an error and you can ignore this message): INVALID_ARGUMENT: You must feed a value for placeholder tensor 'gradients/StatefulPartitionedCall_grad/StatefulPartitionedCall_33' with dtype float and shape [?,320]\n",
      "\t [[{{node gradients/StatefulPartitionedCall_grad/StatefulPartitionedCall_33}}]]\n",
      "2023-05-25 08:50:05.153956: I tensorflow/core/common_runtime/executor.cc:1197] [/device:CPU:0] (DEBUG INFO) Executor start aborting (this does not indicate an error and you can ignore this message): INVALID_ARGUMENT: You must feed a value for placeholder tensor 'gradients/StatefulPartitionedCall_grad/StatefulPartitionedCall_64' with dtype int64 and shape [?]\n",
      "\t [[{{node gradients/StatefulPartitionedCall_grad/StatefulPartitionedCall_64}}]]\n",
      "2023-05-25 08:50:05.154177: I tensorflow/core/common_runtime/executor.cc:1197] [/device:CPU:0] (DEBUG INFO) Executor start aborting (this does not indicate an error and you can ignore this message): INVALID_ARGUMENT: You must feed a value for placeholder tensor 'gradients/StatefulPartitionedCall_grad/StatefulPartitionedCall_65' with dtype int64 and shape [?]\n",
      "\t [[{{node gradients/StatefulPartitionedCall_grad/StatefulPartitionedCall_65}}]]\n",
      "2023-05-25 08:50:05.154780: I tensorflow/core/common_runtime/executor.cc:1197] [/device:CPU:0] (DEBUG INFO) Executor start aborting (this does not indicate an error and you can ignore this message): INVALID_ARGUMENT: You must feed a value for placeholder tensor 'gradients/StatefulPartitionedCall_grad/StatefulPartitionedCall_66' with dtype int64 and shape [?]\n",
      "\t [[{{node gradients/StatefulPartitionedCall_grad/StatefulPartitionedCall_66}}]]\n",
      "2023-05-25 08:50:05.155225: I tensorflow/core/common_runtime/executor.cc:1197] [/device:CPU:0] (DEBUG INFO) Executor start aborting (this does not indicate an error and you can ignore this message): INVALID_ARGUMENT: You must feed a value for placeholder tensor 'gradients/StatefulPartitionedCall_grad/StatefulPartitionedCall_67' with dtype int64 and shape [?]\n",
      "\t [[{{node gradients/StatefulPartitionedCall_grad/StatefulPartitionedCall_67}}]]\n",
      "2023-05-25 08:50:05.155792: I tensorflow/core/common_runtime/executor.cc:1197] [/device:CPU:0] (DEBUG INFO) Executor start aborting (this does not indicate an error and you can ignore this message): INVALID_ARGUMENT: You must feed a value for placeholder tensor 'gradients/StatefulPartitionedCall_grad/StatefulPartitionedCall_68' with dtype int64 and shape [?]\n",
      "\t [[{{node gradients/StatefulPartitionedCall_grad/StatefulPartitionedCall_68}}]]\n",
      "2023-05-25 08:50:05.156304: I tensorflow/core/common_runtime/executor.cc:1197] [/device:CPU:0] (DEBUG INFO) Executor start aborting (this does not indicate an error and you can ignore this message): INVALID_ARGUMENT: You must feed a value for placeholder tensor 'gradients/StatefulPartitionedCall_grad/StatefulPartitionedCall_69' with dtype int64 and shape [?]\n",
      "\t [[{{node gradients/StatefulPartitionedCall_grad/StatefulPartitionedCall_69}}]]\n",
      "2023-05-25 08:50:05.156554: I tensorflow/core/common_runtime/executor.cc:1197] [/device:CPU:0] (DEBUG INFO) Executor start aborting (this does not indicate an error and you can ignore this message): INVALID_ARGUMENT: You must feed a value for placeholder tensor 'gradients/StatefulPartitionedCall_grad/StatefulPartitionedCall_70' with dtype int64 and shape [?]\n",
      "\t [[{{node gradients/StatefulPartitionedCall_grad/StatefulPartitionedCall_70}}]]\n",
      "2023-05-25 08:50:05.156758: I tensorflow/core/common_runtime/executor.cc:1197] [/device:CPU:0] (DEBUG INFO) Executor start aborting (this does not indicate an error and you can ignore this message): INVALID_ARGUMENT: You must feed a value for placeholder tensor 'gradients/StatefulPartitionedCall_grad/StatefulPartitionedCall_71' with dtype int64 and shape [?]\n",
      "\t [[{{node gradients/StatefulPartitionedCall_grad/StatefulPartitionedCall_71}}]]\n",
      "2023-05-25 08:50:05.157084: I tensorflow/core/common_runtime/executor.cc:1197] [/device:CPU:0] (DEBUG INFO) Executor start aborting (this does not indicate an error and you can ignore this message): INVALID_ARGUMENT: You must feed a value for placeholder tensor 'gradients/StatefulPartitionedCall_grad/StatefulPartitionedCall_72' with dtype int64 and shape [?]\n",
      "\t [[{{node gradients/StatefulPartitionedCall_grad/StatefulPartitionedCall_72}}]]\n",
      "2023-05-25 08:50:05.157330: I tensorflow/core/common_runtime/executor.cc:1197] [/device:CPU:0] (DEBUG INFO) Executor start aborting (this does not indicate an error and you can ignore this message): INVALID_ARGUMENT: You must feed a value for placeholder tensor 'gradients/StatefulPartitionedCall_grad/StatefulPartitionedCall_73' with dtype int64 and shape [?]\n",
      "\t [[{{node gradients/StatefulPartitionedCall_grad/StatefulPartitionedCall_73}}]]\n",
      "2023-05-25 08:50:05.157590: I tensorflow/core/common_runtime/executor.cc:1197] [/device:CPU:0] (DEBUG INFO) Executor start aborting (this does not indicate an error and you can ignore this message): INVALID_ARGUMENT: You must feed a value for placeholder tensor 'gradients/StatefulPartitionedCall_grad/StatefulPartitionedCall_74' with dtype int64 and shape [?]\n",
      "\t [[{{node gradients/StatefulPartitionedCall_grad/StatefulPartitionedCall_74}}]]\n",
      "2023-05-25 08:50:05.157844: I tensorflow/core/common_runtime/executor.cc:1197] [/device:CPU:0] (DEBUG INFO) Executor start aborting (this does not indicate an error and you can ignore this message): INVALID_ARGUMENT: You must feed a value for placeholder tensor 'gradients/StatefulPartitionedCall_grad/StatefulPartitionedCall_75' with dtype int64 and shape [?]\n",
      "\t [[{{node gradients/StatefulPartitionedCall_grad/StatefulPartitionedCall_75}}]]\n",
      "2023-05-25 08:50:05.158191: I tensorflow/core/common_runtime/executor.cc:1197] [/device:CPU:0] (DEBUG INFO) Executor start aborting (this does not indicate an error and you can ignore this message): INVALID_ARGUMENT: You must feed a value for placeholder tensor 'gradients/StatefulPartitionedCall_grad/StatefulPartitionedCall_76' with dtype int64 and shape [?]\n",
      "\t [[{{node gradients/StatefulPartitionedCall_grad/StatefulPartitionedCall_76}}]]\n",
      "2023-05-25 08:50:05.158412: I tensorflow/core/common_runtime/executor.cc:1197] [/device:CPU:0] (DEBUG INFO) Executor start aborting (this does not indicate an error and you can ignore this message): INVALID_ARGUMENT: You must feed a value for placeholder tensor 'gradients/StatefulPartitionedCall_grad/StatefulPartitionedCall_77' with dtype int64 and shape [?]\n",
      "\t [[{{node gradients/StatefulPartitionedCall_grad/StatefulPartitionedCall_77}}]]\n",
      "2023-05-25 08:50:05.158629: I tensorflow/core/common_runtime/executor.cc:1197] [/device:CPU:0] (DEBUG INFO) Executor start aborting (this does not indicate an error and you can ignore this message): INVALID_ARGUMENT: You must feed a value for placeholder tensor 'gradients/StatefulPartitionedCall_grad/StatefulPartitionedCall_78' with dtype int64 and shape [?]\n",
      "\t [[{{node gradients/StatefulPartitionedCall_grad/StatefulPartitionedCall_78}}]]\n",
      "2023-05-25 08:50:05.158872: I tensorflow/core/common_runtime/executor.cc:1197] [/device:CPU:0] (DEBUG INFO) Executor start aborting (this does not indicate an error and you can ignore this message): INVALID_ARGUMENT: You must feed a value for placeholder tensor 'gradients/StatefulPartitionedCall_grad/StatefulPartitionedCall_79' with dtype int64 and shape [?]\n",
      "\t [[{{node gradients/StatefulPartitionedCall_grad/StatefulPartitionedCall_79}}]]\n",
      "2023-05-25 08:50:05.159140: I tensorflow/core/common_runtime/executor.cc:1197] [/device:CPU:0] (DEBUG INFO) Executor start aborting (this does not indicate an error and you can ignore this message): INVALID_ARGUMENT: You must feed a value for placeholder tensor 'gradients/StatefulPartitionedCall_grad/StatefulPartitionedCall_80' with dtype int64 and shape [?]\n",
      "\t [[{{node gradients/StatefulPartitionedCall_grad/StatefulPartitionedCall_80}}]]\n",
      "2023-05-25 08:50:05.159387: I tensorflow/core/common_runtime/executor.cc:1197] [/device:CPU:0] (DEBUG INFO) Executor start aborting (this does not indicate an error and you can ignore this message): INVALID_ARGUMENT: You must feed a value for placeholder tensor 'gradients/StatefulPartitionedCall_grad/StatefulPartitionedCall_81' with dtype int64 and shape [?]\n",
      "\t [[{{node gradients/StatefulPartitionedCall_grad/StatefulPartitionedCall_81}}]]\n",
      "2023-05-25 08:50:05.159606: I tensorflow/core/common_runtime/executor.cc:1197] [/device:CPU:0] (DEBUG INFO) Executor start aborting (this does not indicate an error and you can ignore this message): INVALID_ARGUMENT: You must feed a value for placeholder tensor 'gradients/StatefulPartitionedCall_grad/StatefulPartitionedCall_82' with dtype int64 and shape [?]\n",
      "\t [[{{node gradients/StatefulPartitionedCall_grad/StatefulPartitionedCall_82}}]]\n",
      "2023-05-25 08:50:05.159810: I tensorflow/core/common_runtime/executor.cc:1197] [/device:CPU:0] (DEBUG INFO) Executor start aborting (this does not indicate an error and you can ignore this message): INVALID_ARGUMENT: You must feed a value for placeholder tensor 'gradients/StatefulPartitionedCall_grad/StatefulPartitionedCall_83' with dtype int64 and shape [?]\n",
      "\t [[{{node gradients/StatefulPartitionedCall_grad/StatefulPartitionedCall_83}}]]\n",
      "2023-05-25 08:50:05.160037: I tensorflow/core/common_runtime/executor.cc:1197] [/device:CPU:0] (DEBUG INFO) Executor start aborting (this does not indicate an error and you can ignore this message): INVALID_ARGUMENT: You must feed a value for placeholder tensor 'gradients/StatefulPartitionedCall_grad/StatefulPartitionedCall_84' with dtype int64 and shape [?]\n",
      "\t [[{{node gradients/StatefulPartitionedCall_grad/StatefulPartitionedCall_84}}]]\n",
      "2023-05-25 08:50:05.160256: I tensorflow/core/common_runtime/executor.cc:1197] [/device:CPU:0] (DEBUG INFO) Executor start aborting (this does not indicate an error and you can ignore this message): INVALID_ARGUMENT: You must feed a value for placeholder tensor 'gradients/StatefulPartitionedCall_grad/StatefulPartitionedCall_85' with dtype int64 and shape [?]\n",
      "\t [[{{node gradients/StatefulPartitionedCall_grad/StatefulPartitionedCall_85}}]]\n",
      "2023-05-25 08:50:05.160455: I tensorflow/core/common_runtime/executor.cc:1197] [/device:CPU:0] (DEBUG INFO) Executor start aborting (this does not indicate an error and you can ignore this message): INVALID_ARGUMENT: You must feed a value for placeholder tensor 'gradients/StatefulPartitionedCall_grad/StatefulPartitionedCall_86' with dtype int64 and shape [?]\n",
      "\t [[{{node gradients/StatefulPartitionedCall_grad/StatefulPartitionedCall_86}}]]\n",
      "2023-05-25 08:50:05.160689: I tensorflow/core/common_runtime/executor.cc:1197] [/device:CPU:0] (DEBUG INFO) Executor start aborting (this does not indicate an error and you can ignore this message): INVALID_ARGUMENT: You must feed a value for placeholder tensor 'gradients/StatefulPartitionedCall_grad/StatefulPartitionedCall_87' with dtype int64 and shape [?]\n",
      "\t [[{{node gradients/StatefulPartitionedCall_grad/StatefulPartitionedCall_87}}]]\n",
      "2023-05-25 08:50:05.160918: I tensorflow/core/common_runtime/executor.cc:1197] [/device:CPU:0] (DEBUG INFO) Executor start aborting (this does not indicate an error and you can ignore this message): INVALID_ARGUMENT: You must feed a value for placeholder tensor 'gradients/StatefulPartitionedCall_grad/StatefulPartitionedCall_88' with dtype int64 and shape [?]\n",
      "\t [[{{node gradients/StatefulPartitionedCall_grad/StatefulPartitionedCall_88}}]]\n",
      "2023-05-25 08:50:05.161148: I tensorflow/core/common_runtime/executor.cc:1197] [/device:CPU:0] (DEBUG INFO) Executor start aborting (this does not indicate an error and you can ignore this message): INVALID_ARGUMENT: You must feed a value for placeholder tensor 'gradients/StatefulPartitionedCall_grad/StatefulPartitionedCall_89' with dtype int64 and shape [?]\n",
      "\t [[{{node gradients/StatefulPartitionedCall_grad/StatefulPartitionedCall_89}}]]\n",
      "2023-05-25 08:50:05.161342: I tensorflow/core/common_runtime/executor.cc:1197] [/device:CPU:0] (DEBUG INFO) Executor start aborting (this does not indicate an error and you can ignore this message): INVALID_ARGUMENT: You must feed a value for placeholder tensor 'gradients/StatefulPartitionedCall_grad/StatefulPartitionedCall_90' with dtype int64 and shape [?]\n",
      "\t [[{{node gradients/StatefulPartitionedCall_grad/StatefulPartitionedCall_90}}]]\n",
      "2023-05-25 08:50:05.161580: I tensorflow/core/common_runtime/executor.cc:1197] [/device:CPU:0] (DEBUG INFO) Executor start aborting (this does not indicate an error and you can ignore this message): INVALID_ARGUMENT: You must feed a value for placeholder tensor 'gradients/StatefulPartitionedCall_grad/StatefulPartitionedCall_91' with dtype int64 and shape [?]\n",
      "\t [[{{node gradients/StatefulPartitionedCall_grad/StatefulPartitionedCall_91}}]]\n",
      "2023-05-25 08:50:05.161781: I tensorflow/core/common_runtime/executor.cc:1197] [/device:CPU:0] (DEBUG INFO) Executor start aborting (this does not indicate an error and you can ignore this message): INVALID_ARGUMENT: You must feed a value for placeholder tensor 'gradients/StatefulPartitionedCall_grad/StatefulPartitionedCall_92' with dtype int64 and shape [?]\n",
      "\t [[{{node gradients/StatefulPartitionedCall_grad/StatefulPartitionedCall_92}}]]\n",
      "2023-05-25 08:50:05.162009: I tensorflow/core/common_runtime/executor.cc:1197] [/device:CPU:0] (DEBUG INFO) Executor start aborting (this does not indicate an error and you can ignore this message): INVALID_ARGUMENT: You must feed a value for placeholder tensor 'gradients/StatefulPartitionedCall_grad/StatefulPartitionedCall_93' with dtype int64 and shape [?]\n",
      "\t [[{{node gradients/StatefulPartitionedCall_grad/StatefulPartitionedCall_93}}]]\n"
     ]
    },
    {
     "name": "stderr",
     "output_type": "stream",
     "text": [
      "2023-05-25 08:50:05.527497: I tensorflow/core/common_runtime/executor.cc:1197] [/device:CPU:0] (DEBUG INFO) Executor start aborting (this does not indicate an error and you can ignore this message): INVALID_ARGUMENT: You must feed a value for placeholder tensor 'gradients/StatefulPartitionedCall_grad/StatefulPartitionedCall' with dtype float and shape [?,512]\n",
      "\t [[{{node gradients/StatefulPartitionedCall_grad/StatefulPartitionedCall}}]]\n",
      "2023-05-25 08:50:05.527714: I tensorflow/core/common_runtime/executor.cc:1197] [/device:CPU:0] (DEBUG INFO) Executor start aborting (this does not indicate an error and you can ignore this message): INVALID_ARGUMENT: You must feed a value for placeholder tensor 'gradients/StatefulPartitionedCall_grad/StatefulPartitionedCall_1' with dtype float and shape [?,1]\n",
      "\t [[{{node gradients/StatefulPartitionedCall_grad/StatefulPartitionedCall_1}}]]\n",
      "2023-05-25 08:50:05.527826: I tensorflow/core/common_runtime/executor.cc:1197] [/device:CPU:0] (DEBUG INFO) Executor start aborting (this does not indicate an error and you can ignore this message): INVALID_ARGUMENT: You must feed a value for placeholder tensor 'gradients/StatefulPartitionedCall_grad/StatefulPartitionedCall_2' with dtype float and shape [?,1]\n",
      "\t [[{{node gradients/StatefulPartitionedCall_grad/StatefulPartitionedCall_2}}]]\n",
      "2023-05-25 08:50:05.527970: I tensorflow/core/common_runtime/executor.cc:1197] [/device:CPU:0] (DEBUG INFO) Executor start aborting (this does not indicate an error and you can ignore this message): INVALID_ARGUMENT: You must feed a value for placeholder tensor 'gradients/StatefulPartitionedCall_grad/StatefulPartitionedCall_4' with dtype float and shape [?,512]\n",
      "\t [[{{node gradients/StatefulPartitionedCall_grad/StatefulPartitionedCall_4}}]]\n",
      "2023-05-25 08:50:05.528122: I tensorflow/core/common_runtime/executor.cc:1197] [/device:CPU:0] (DEBUG INFO) Executor start aborting (this does not indicate an error and you can ignore this message): INVALID_ARGUMENT: You must feed a value for placeholder tensor 'gradients/StatefulPartitionedCall_grad/StatefulPartitionedCall_5' with dtype float and shape [?,512]\n",
      "\t [[{{node gradients/StatefulPartitionedCall_grad/StatefulPartitionedCall_5}}]]\n",
      "2023-05-25 08:50:05.528287: I tensorflow/core/common_runtime/executor.cc:1197] [/device:CPU:0] (DEBUG INFO) Executor start aborting (this does not indicate an error and you can ignore this message): INVALID_ARGUMENT: You must feed a value for placeholder tensor 'gradients/StatefulPartitionedCall_grad/StatefulPartitionedCall_6' with dtype float and shape [?,1]\n",
      "\t [[{{node gradients/StatefulPartitionedCall_grad/StatefulPartitionedCall_6}}]]\n",
      "2023-05-25 08:50:05.528446: I tensorflow/core/common_runtime/executor.cc:1197] [/device:CPU:0] (DEBUG INFO) Executor start aborting (this does not indicate an error and you can ignore this message): INVALID_ARGUMENT: You must feed a value for placeholder tensor 'gradients/StatefulPartitionedCall_grad/StatefulPartitionedCall_7' with dtype float and shape [?,1]\n",
      "\t [[{{node gradients/StatefulPartitionedCall_grad/StatefulPartitionedCall_7}}]]\n",
      "2023-05-25 08:50:05.528856: I tensorflow/core/common_runtime/executor.cc:1197] [/device:CPU:0] (DEBUG INFO) Executor start aborting (this does not indicate an error and you can ignore this message): INVALID_ARGUMENT: You must feed a value for placeholder tensor 'gradients/StatefulPartitionedCall_grad/StatefulPartitionedCall_9' with dtype float and shape [?,512]\n",
      "\t [[{{node gradients/StatefulPartitionedCall_grad/StatefulPartitionedCall_9}}]]\n",
      "2023-05-25 08:50:05.529120: I tensorflow/core/common_runtime/executor.cc:1197] [/device:CPU:0] (DEBUG INFO) Executor start aborting (this does not indicate an error and you can ignore this message): INVALID_ARGUMENT: You must feed a value for placeholder tensor 'gradients/StatefulPartitionedCall_grad/StatefulPartitionedCall_10' with dtype float and shape [?,512]\n",
      "\t [[{{node gradients/StatefulPartitionedCall_grad/StatefulPartitionedCall_10}}]]\n",
      "2023-05-25 08:50:05.529356: I tensorflow/core/common_runtime/executor.cc:1197] [/device:CPU:0] (DEBUG INFO) Executor start aborting (this does not indicate an error and you can ignore this message): INVALID_ARGUMENT: You must feed a value for placeholder tensor 'gradients/StatefulPartitionedCall_grad/StatefulPartitionedCall_11' with dtype float and shape [?,512]\n",
      "\t [[{{node gradients/StatefulPartitionedCall_grad/StatefulPartitionedCall_11}}]]\n",
      "2023-05-25 08:50:05.529632: I tensorflow/core/common_runtime/executor.cc:1197] [/device:CPU:0] (DEBUG INFO) Executor start aborting (this does not indicate an error and you can ignore this message): INVALID_ARGUMENT: You must feed a value for placeholder tensor 'gradients/StatefulPartitionedCall_grad/StatefulPartitionedCall_17' with dtype int32\n",
      "\t [[{{node gradients/StatefulPartitionedCall_grad/StatefulPartitionedCall_17}}]]\n",
      "2023-05-25 08:50:05.529896: I tensorflow/core/common_runtime/executor.cc:1197] [/device:CPU:0] (DEBUG INFO) Executor start aborting (this does not indicate an error and you can ignore this message): INVALID_ARGUMENT: You must feed a value for placeholder tensor 'gradients/StatefulPartitionedCall_grad/StatefulPartitionedCall_18' with dtype int32\n",
      "\t [[{{node gradients/StatefulPartitionedCall_grad/StatefulPartitionedCall_18}}]]\n",
      "2023-05-25 08:50:05.530116: I tensorflow/core/common_runtime/executor.cc:1197] [/device:CPU:0] (DEBUG INFO) Executor start aborting (this does not indicate an error and you can ignore this message): INVALID_ARGUMENT: You must feed a value for placeholder tensor 'gradients/StatefulPartitionedCall_grad/StatefulPartitionedCall_19' with dtype float and shape [?,320]\n",
      "\t [[{{node gradients/StatefulPartitionedCall_grad/StatefulPartitionedCall_19}}]]\n",
      "2023-05-25 08:50:05.530400: I tensorflow/core/common_runtime/executor.cc:1197] [/device:CPU:0] (DEBUG INFO) Executor start aborting (this does not indicate an error and you can ignore this message): INVALID_ARGUMENT: You must feed a value for placeholder tensor 'gradients/StatefulPartitionedCall_grad/StatefulPartitionedCall_20' with dtype float\n",
      "\t [[{{node gradients/StatefulPartitionedCall_grad/StatefulPartitionedCall_20}}]]\n",
      "2023-05-25 08:50:05.530619: I tensorflow/core/common_runtime/executor.cc:1197] [/device:CPU:0] (DEBUG INFO) Executor start aborting (this does not indicate an error and you can ignore this message): INVALID_ARGUMENT: You must feed a value for placeholder tensor 'gradients/StatefulPartitionedCall_grad/StatefulPartitionedCall_21' with dtype int32\n",
      "\t [[{{node gradients/StatefulPartitionedCall_grad/StatefulPartitionedCall_21}}]]\n",
      "2023-05-25 08:50:05.530946: I tensorflow/core/common_runtime/executor.cc:1197] [/device:CPU:0] (DEBUG INFO) Executor start aborting (this does not indicate an error and you can ignore this message): INVALID_ARGUMENT: You must feed a value for placeholder tensor 'gradients/StatefulPartitionedCall_grad/StatefulPartitionedCall_25' with dtype int32\n",
      "\t [[{{node gradients/StatefulPartitionedCall_grad/StatefulPartitionedCall_25}}]]\n",
      "2023-05-25 08:50:05.531180: I tensorflow/core/common_runtime/executor.cc:1197] [/device:CPU:0] (DEBUG INFO) Executor start aborting (this does not indicate an error and you can ignore this message): INVALID_ARGUMENT: You must feed a value for placeholder tensor 'gradients/StatefulPartitionedCall_grad/StatefulPartitionedCall_26' with dtype float\n",
      "\t [[{{node gradients/StatefulPartitionedCall_grad/StatefulPartitionedCall_26}}]]\n",
      "2023-05-25 08:50:05.531415: I tensorflow/core/common_runtime/executor.cc:1197] [/device:CPU:0] (DEBUG INFO) Executor start aborting (this does not indicate an error and you can ignore this message): INVALID_ARGUMENT: You must feed a value for placeholder tensor 'gradients/StatefulPartitionedCall_grad/StatefulPartitionedCall_27' with dtype float and shape [?,1]\n",
      "\t [[{{node gradients/StatefulPartitionedCall_grad/StatefulPartitionedCall_27}}]]\n",
      "2023-05-25 08:50:05.531662: I tensorflow/core/common_runtime/executor.cc:1197] [/device:CPU:0] (DEBUG INFO) Executor start aborting (this does not indicate an error and you can ignore this message): INVALID_ARGUMENT: You must feed a value for placeholder tensor 'gradients/StatefulPartitionedCall_grad/StatefulPartitionedCall_29' with dtype int32\n",
      "\t [[{{node gradients/StatefulPartitionedCall_grad/StatefulPartitionedCall_29}}]]\n",
      "2023-05-25 08:50:05.531905: I tensorflow/core/common_runtime/executor.cc:1197] [/device:CPU:0] (DEBUG INFO) Executor start aborting (this does not indicate an error and you can ignore this message): INVALID_ARGUMENT: You must feed a value for placeholder tensor 'gradients/StatefulPartitionedCall_grad/StatefulPartitionedCall_30' with dtype float and shape [?,320]\n",
      "\t [[{{node gradients/StatefulPartitionedCall_grad/StatefulPartitionedCall_30}}]]\n",
      "2023-05-25 08:50:05.532123: I tensorflow/core/common_runtime/executor.cc:1197] [/device:CPU:0] (DEBUG INFO) Executor start aborting (this does not indicate an error and you can ignore this message): INVALID_ARGUMENT: You must feed a value for placeholder tensor 'gradients/StatefulPartitionedCall_grad/StatefulPartitionedCall_31' with dtype float and shape [?,320]\n",
      "\t [[{{node gradients/StatefulPartitionedCall_grad/StatefulPartitionedCall_31}}]]\n",
      "2023-05-25 08:50:05.532357: I tensorflow/core/common_runtime/executor.cc:1197] [/device:CPU:0] (DEBUG INFO) Executor start aborting (this does not indicate an error and you can ignore this message): INVALID_ARGUMENT: You must feed a value for placeholder tensor 'gradients/StatefulPartitionedCall_grad/StatefulPartitionedCall_32' with dtype int32 and shape [?]\n",
      "\t [[{{node gradients/StatefulPartitionedCall_grad/StatefulPartitionedCall_32}}]]\n",
      "2023-05-25 08:50:05.532593: I tensorflow/core/common_runtime/executor.cc:1197] [/device:CPU:0] (DEBUG INFO) Executor start aborting (this does not indicate an error and you can ignore this message): INVALID_ARGUMENT: You must feed a value for placeholder tensor 'gradients/StatefulPartitionedCall_grad/StatefulPartitionedCall_33' with dtype float and shape [?,320]\n",
      "\t [[{{node gradients/StatefulPartitionedCall_grad/StatefulPartitionedCall_33}}]]\n",
      "2023-05-25 08:50:05.532832: I tensorflow/core/common_runtime/executor.cc:1197] [/device:CPU:0] (DEBUG INFO) Executor start aborting (this does not indicate an error and you can ignore this message): INVALID_ARGUMENT: You must feed a value for placeholder tensor 'gradients/StatefulPartitionedCall_grad/StatefulPartitionedCall_64' with dtype int64 and shape [?]\n",
      "\t [[{{node gradients/StatefulPartitionedCall_grad/StatefulPartitionedCall_64}}]]\n",
      "2023-05-25 08:50:05.533067: I tensorflow/core/common_runtime/executor.cc:1197] [/device:CPU:0] (DEBUG INFO) Executor start aborting (this does not indicate an error and you can ignore this message): INVALID_ARGUMENT: You must feed a value for placeholder tensor 'gradients/StatefulPartitionedCall_grad/StatefulPartitionedCall_65' with dtype int64 and shape [?]\n",
      "\t [[{{node gradients/StatefulPartitionedCall_grad/StatefulPartitionedCall_65}}]]\n",
      "2023-05-25 08:50:05.533309: I tensorflow/core/common_runtime/executor.cc:1197] [/device:CPU:0] (DEBUG INFO) Executor start aborting (this does not indicate an error and you can ignore this message): INVALID_ARGUMENT: You must feed a value for placeholder tensor 'gradients/StatefulPartitionedCall_grad/StatefulPartitionedCall_66' with dtype int64 and shape [?]\n",
      "\t [[{{node gradients/StatefulPartitionedCall_grad/StatefulPartitionedCall_66}}]]\n",
      "2023-05-25 08:50:05.533524: I tensorflow/core/common_runtime/executor.cc:1197] [/device:CPU:0] (DEBUG INFO) Executor start aborting (this does not indicate an error and you can ignore this message): INVALID_ARGUMENT: You must feed a value for placeholder tensor 'gradients/StatefulPartitionedCall_grad/StatefulPartitionedCall_67' with dtype int64 and shape [?]\n",
      "\t [[{{node gradients/StatefulPartitionedCall_grad/StatefulPartitionedCall_67}}]]\n",
      "2023-05-25 08:50:05.533755: I tensorflow/core/common_runtime/executor.cc:1197] [/device:CPU:0] (DEBUG INFO) Executor start aborting (this does not indicate an error and you can ignore this message): INVALID_ARGUMENT: You must feed a value for placeholder tensor 'gradients/StatefulPartitionedCall_grad/StatefulPartitionedCall_68' with dtype int64 and shape [?]\n",
      "\t [[{{node gradients/StatefulPartitionedCall_grad/StatefulPartitionedCall_68}}]]\n",
      "2023-05-25 08:50:05.533989: I tensorflow/core/common_runtime/executor.cc:1197] [/device:CPU:0] (DEBUG INFO) Executor start aborting (this does not indicate an error and you can ignore this message): INVALID_ARGUMENT: You must feed a value for placeholder tensor 'gradients/StatefulPartitionedCall_grad/StatefulPartitionedCall_69' with dtype int64 and shape [?]\n",
      "\t [[{{node gradients/StatefulPartitionedCall_grad/StatefulPartitionedCall_69}}]]\n",
      "2023-05-25 08:50:05.534226: I tensorflow/core/common_runtime/executor.cc:1197] [/device:CPU:0] (DEBUG INFO) Executor start aborting (this does not indicate an error and you can ignore this message): INVALID_ARGUMENT: You must feed a value for placeholder tensor 'gradients/StatefulPartitionedCall_grad/StatefulPartitionedCall_70' with dtype int64 and shape [?]\n",
      "\t [[{{node gradients/StatefulPartitionedCall_grad/StatefulPartitionedCall_70}}]]\n",
      "2023-05-25 08:50:05.534450: I tensorflow/core/common_runtime/executor.cc:1197] [/device:CPU:0] (DEBUG INFO) Executor start aborting (this does not indicate an error and you can ignore this message): INVALID_ARGUMENT: You must feed a value for placeholder tensor 'gradients/StatefulPartitionedCall_grad/StatefulPartitionedCall_71' with dtype int64 and shape [?]\n",
      "\t [[{{node gradients/StatefulPartitionedCall_grad/StatefulPartitionedCall_71}}]]\n",
      "2023-05-25 08:50:05.534666: I tensorflow/core/common_runtime/executor.cc:1197] [/device:CPU:0] (DEBUG INFO) Executor start aborting (this does not indicate an error and you can ignore this message): INVALID_ARGUMENT: You must feed a value for placeholder tensor 'gradients/StatefulPartitionedCall_grad/StatefulPartitionedCall_72' with dtype int64 and shape [?]\n",
      "\t [[{{node gradients/StatefulPartitionedCall_grad/StatefulPartitionedCall_72}}]]\n",
      "2023-05-25 08:50:05.534884: I tensorflow/core/common_runtime/executor.cc:1197] [/device:CPU:0] (DEBUG INFO) Executor start aborting (this does not indicate an error and you can ignore this message): INVALID_ARGUMENT: You must feed a value for placeholder tensor 'gradients/StatefulPartitionedCall_grad/StatefulPartitionedCall_73' with dtype int64 and shape [?]\n",
      "\t [[{{node gradients/StatefulPartitionedCall_grad/StatefulPartitionedCall_73}}]]\n",
      "2023-05-25 08:50:05.535111: I tensorflow/core/common_runtime/executor.cc:1197] [/device:CPU:0] (DEBUG INFO) Executor start aborting (this does not indicate an error and you can ignore this message): INVALID_ARGUMENT: You must feed a value for placeholder tensor 'gradients/StatefulPartitionedCall_grad/StatefulPartitionedCall_74' with dtype int64 and shape [?]\n",
      "\t [[{{node gradients/StatefulPartitionedCall_grad/StatefulPartitionedCall_74}}]]\n",
      "2023-05-25 08:50:05.535348: I tensorflow/core/common_runtime/executor.cc:1197] [/device:CPU:0] (DEBUG INFO) Executor start aborting (this does not indicate an error and you can ignore this message): INVALID_ARGUMENT: You must feed a value for placeholder tensor 'gradients/StatefulPartitionedCall_grad/StatefulPartitionedCall_75' with dtype int64 and shape [?]\n",
      "\t [[{{node gradients/StatefulPartitionedCall_grad/StatefulPartitionedCall_75}}]]\n",
      "2023-05-25 08:50:05.535584: I tensorflow/core/common_runtime/executor.cc:1197] [/device:CPU:0] (DEBUG INFO) Executor start aborting (this does not indicate an error and you can ignore this message): INVALID_ARGUMENT: You must feed a value for placeholder tensor 'gradients/StatefulPartitionedCall_grad/StatefulPartitionedCall_76' with dtype int64 and shape [?]\n",
      "\t [[{{node gradients/StatefulPartitionedCall_grad/StatefulPartitionedCall_76}}]]\n",
      "2023-05-25 08:50:05.535802: I tensorflow/core/common_runtime/executor.cc:1197] [/device:CPU:0] (DEBUG INFO) Executor start aborting (this does not indicate an error and you can ignore this message): INVALID_ARGUMENT: You must feed a value for placeholder tensor 'gradients/StatefulPartitionedCall_grad/StatefulPartitionedCall_77' with dtype int64 and shape [?]\n",
      "\t [[{{node gradients/StatefulPartitionedCall_grad/StatefulPartitionedCall_77}}]]\n",
      "2023-05-25 08:50:05.536027: I tensorflow/core/common_runtime/executor.cc:1197] [/device:CPU:0] (DEBUG INFO) Executor start aborting (this does not indicate an error and you can ignore this message): INVALID_ARGUMENT: You must feed a value for placeholder tensor 'gradients/StatefulPartitionedCall_grad/StatefulPartitionedCall_78' with dtype int64 and shape [?]\n",
      "\t [[{{node gradients/StatefulPartitionedCall_grad/StatefulPartitionedCall_78}}]]\n",
      "2023-05-25 08:50:05.536265: I tensorflow/core/common_runtime/executor.cc:1197] [/device:CPU:0] (DEBUG INFO) Executor start aborting (this does not indicate an error and you can ignore this message): INVALID_ARGUMENT: You must feed a value for placeholder tensor 'gradients/StatefulPartitionedCall_grad/StatefulPartitionedCall_79' with dtype int64 and shape [?]\n",
      "\t [[{{node gradients/StatefulPartitionedCall_grad/StatefulPartitionedCall_79}}]]\n",
      "2023-05-25 08:50:05.536497: I tensorflow/core/common_runtime/executor.cc:1197] [/device:CPU:0] (DEBUG INFO) Executor start aborting (this does not indicate an error and you can ignore this message): INVALID_ARGUMENT: You must feed a value for placeholder tensor 'gradients/StatefulPartitionedCall_grad/StatefulPartitionedCall_80' with dtype int64 and shape [?]\n",
      "\t [[{{node gradients/StatefulPartitionedCall_grad/StatefulPartitionedCall_80}}]]\n",
      "2023-05-25 08:50:05.536719: I tensorflow/core/common_runtime/executor.cc:1197] [/device:CPU:0] (DEBUG INFO) Executor start aborting (this does not indicate an error and you can ignore this message): INVALID_ARGUMENT: You must feed a value for placeholder tensor 'gradients/StatefulPartitionedCall_grad/StatefulPartitionedCall_81' with dtype int64 and shape [?]\n",
      "\t [[{{node gradients/StatefulPartitionedCall_grad/StatefulPartitionedCall_81}}]]\n",
      "2023-05-25 08:50:05.536945: I tensorflow/core/common_runtime/executor.cc:1197] [/device:CPU:0] (DEBUG INFO) Executor start aborting (this does not indicate an error and you can ignore this message): INVALID_ARGUMENT: You must feed a value for placeholder tensor 'gradients/StatefulPartitionedCall_grad/StatefulPartitionedCall_82' with dtype int64 and shape [?]\n",
      "\t [[{{node gradients/StatefulPartitionedCall_grad/StatefulPartitionedCall_82}}]]\n",
      "2023-05-25 08:50:05.537174: I tensorflow/core/common_runtime/executor.cc:1197] [/device:CPU:0] (DEBUG INFO) Executor start aborting (this does not indicate an error and you can ignore this message): INVALID_ARGUMENT: You must feed a value for placeholder tensor 'gradients/StatefulPartitionedCall_grad/StatefulPartitionedCall_83' with dtype int64 and shape [?]\n",
      "\t [[{{node gradients/StatefulPartitionedCall_grad/StatefulPartitionedCall_83}}]]\n",
      "2023-05-25 08:50:05.537414: I tensorflow/core/common_runtime/executor.cc:1197] [/device:CPU:0] (DEBUG INFO) Executor start aborting (this does not indicate an error and you can ignore this message): INVALID_ARGUMENT: You must feed a value for placeholder tensor 'gradients/StatefulPartitionedCall_grad/StatefulPartitionedCall_84' with dtype int64 and shape [?]\n",
      "\t [[{{node gradients/StatefulPartitionedCall_grad/StatefulPartitionedCall_84}}]]\n",
      "2023-05-25 08:50:05.537648: I tensorflow/core/common_runtime/executor.cc:1197] [/device:CPU:0] (DEBUG INFO) Executor start aborting (this does not indicate an error and you can ignore this message): INVALID_ARGUMENT: You must feed a value for placeholder tensor 'gradients/StatefulPartitionedCall_grad/StatefulPartitionedCall_85' with dtype int64 and shape [?]\n",
      "\t [[{{node gradients/StatefulPartitionedCall_grad/StatefulPartitionedCall_85}}]]\n",
      "2023-05-25 08:50:05.537882: I tensorflow/core/common_runtime/executor.cc:1197] [/device:CPU:0] (DEBUG INFO) Executor start aborting (this does not indicate an error and you can ignore this message): INVALID_ARGUMENT: You must feed a value for placeholder tensor 'gradients/StatefulPartitionedCall_grad/StatefulPartitionedCall_86' with dtype int64 and shape [?]\n",
      "\t [[{{node gradients/StatefulPartitionedCall_grad/StatefulPartitionedCall_86}}]]\n",
      "2023-05-25 08:50:05.538115: I tensorflow/core/common_runtime/executor.cc:1197] [/device:CPU:0] (DEBUG INFO) Executor start aborting (this does not indicate an error and you can ignore this message): INVALID_ARGUMENT: You must feed a value for placeholder tensor 'gradients/StatefulPartitionedCall_grad/StatefulPartitionedCall_87' with dtype int64 and shape [?]\n",
      "\t [[{{node gradients/StatefulPartitionedCall_grad/StatefulPartitionedCall_87}}]]\n",
      "2023-05-25 08:50:05.538342: I tensorflow/core/common_runtime/executor.cc:1197] [/device:CPU:0] (DEBUG INFO) Executor start aborting (this does not indicate an error and you can ignore this message): INVALID_ARGUMENT: You must feed a value for placeholder tensor 'gradients/StatefulPartitionedCall_grad/StatefulPartitionedCall_88' with dtype int64 and shape [?]\n",
      "\t [[{{node gradients/StatefulPartitionedCall_grad/StatefulPartitionedCall_88}}]]\n",
      "2023-05-25 08:50:05.538570: I tensorflow/core/common_runtime/executor.cc:1197] [/device:CPU:0] (DEBUG INFO) Executor start aborting (this does not indicate an error and you can ignore this message): INVALID_ARGUMENT: You must feed a value for placeholder tensor 'gradients/StatefulPartitionedCall_grad/StatefulPartitionedCall_89' with dtype int64 and shape [?]\n",
      "\t [[{{node gradients/StatefulPartitionedCall_grad/StatefulPartitionedCall_89}}]]\n",
      "2023-05-25 08:50:05.538806: I tensorflow/core/common_runtime/executor.cc:1197] [/device:CPU:0] (DEBUG INFO) Executor start aborting (this does not indicate an error and you can ignore this message): INVALID_ARGUMENT: You must feed a value for placeholder tensor 'gradients/StatefulPartitionedCall_grad/StatefulPartitionedCall_90' with dtype int64 and shape [?]\n",
      "\t [[{{node gradients/StatefulPartitionedCall_grad/StatefulPartitionedCall_90}}]]\n",
      "2023-05-25 08:50:05.539030: I tensorflow/core/common_runtime/executor.cc:1197] [/device:CPU:0] (DEBUG INFO) Executor start aborting (this does not indicate an error and you can ignore this message): INVALID_ARGUMENT: You must feed a value for placeholder tensor 'gradients/StatefulPartitionedCall_grad/StatefulPartitionedCall_91' with dtype int64 and shape [?]\n",
      "\t [[{{node gradients/StatefulPartitionedCall_grad/StatefulPartitionedCall_91}}]]\n",
      "2023-05-25 08:50:05.539262: I tensorflow/core/common_runtime/executor.cc:1197] [/device:CPU:0] (DEBUG INFO) Executor start aborting (this does not indicate an error and you can ignore this message): INVALID_ARGUMENT: You must feed a value for placeholder tensor 'gradients/StatefulPartitionedCall_grad/StatefulPartitionedCall_92' with dtype int64 and shape [?]\n",
      "\t [[{{node gradients/StatefulPartitionedCall_grad/StatefulPartitionedCall_92}}]]\n",
      "2023-05-25 08:50:05.539488: I tensorflow/core/common_runtime/executor.cc:1197] [/device:CPU:0] (DEBUG INFO) Executor start aborting (this does not indicate an error and you can ignore this message): INVALID_ARGUMENT: You must feed a value for placeholder tensor 'gradients/StatefulPartitionedCall_grad/StatefulPartitionedCall_93' with dtype int64 and shape [?]\n",
      "\t [[{{node gradients/StatefulPartitionedCall_grad/StatefulPartitionedCall_93}}]]\n"
     ]
    },
    {
     "name": "stdout",
     "output_type": "stream",
     "text": [
      "562/562 [==============================] - 14s 18ms/step - loss: 0.9138 - accuracy: 0.6519 - val_loss: 0.7964 - val_accuracy: 0.6895\n",
      "Epoch 2/3\n",
      "562/562 [==============================] - 10s 17ms/step - loss: 0.7698 - accuracy: 0.7001 - val_loss: 0.7566 - val_accuracy: 0.7041\n",
      "Epoch 3/3\n",
      "562/562 [==============================] - 9s 16ms/step - loss: 0.7543 - accuracy: 0.7106 - val_loss: 0.7408 - val_accuracy: 0.7091\n",
      "time taken to fit 32.36796450614929\n"
     ]
    }
   ],
   "source": [
    "model_2_history = fit_the_model(model_2)"
   ]
  },
  {
   "cell_type": "code",
   "execution_count": 35,
   "id": "4eaa169b",
   "metadata": {},
   "outputs": [
    {
     "name": "stdout",
     "output_type": "stream",
     "text": [
      "945/945 [==============================] - 13s 14ms/step - loss: 0.7433 - accuracy: 0.7122\n"
     ]
    },
    {
     "data": {
      "text/plain": [
       "[0.7433463931083679, 0.7121673226356506]"
      ]
     },
     "execution_count": 35,
     "metadata": {},
     "output_type": "execute_result"
    }
   ],
   "source": [
    "model_2.evaluate(val_dataset)"
   ]
  },
  {
   "cell_type": "code",
   "execution_count": 36,
   "id": "5f5ea285",
   "metadata": {},
   "outputs": [
    {
     "name": "stdout",
     "output_type": "stream",
     "text": [
      "945/945 [==============================] - 12s 12ms/step\n"
     ]
    },
    {
     "data": {
      "text/plain": [
       "array([[4.4944400e-01, 3.5606056e-01, 2.4508263e-03, 1.8513425e-01,\n",
       "        6.9103125e-03],\n",
       "       [3.7590060e-01, 4.6711719e-01, 3.3676501e-03, 1.5109076e-01,\n",
       "        2.5238886e-03],\n",
       "       [2.2161715e-01, 1.3517791e-01, 2.0782413e-02, 5.8665496e-01,\n",
       "        3.5767544e-02],\n",
       "       ...,\n",
       "       [1.3876472e-03, 6.7633619e-03, 6.3646480e-02, 8.7879790e-04,\n",
       "        9.2732370e-01],\n",
       "       [4.1676322e-03, 4.2155392e-02, 1.8219441e-01, 1.4202939e-03,\n",
       "        7.7006227e-01],\n",
       "       [1.7574263e-01, 2.6174513e-01, 4.9640658e-01, 6.7782914e-03,\n",
       "        5.9327383e-02]], dtype=float32)"
      ]
     },
     "execution_count": 36,
     "metadata": {},
     "output_type": "execute_result"
    }
   ],
   "source": [
    "model_2_pred_probs = model_2.predict(val_dataset)\n",
    "model_2_pred_probs"
   ]
  },
  {
   "cell_type": "code",
   "execution_count": 37,
   "id": "549d25f5",
   "metadata": {},
   "outputs": [
    {
     "data": {
      "text/plain": [
       "<tf.Tensor: shape=(30212,), dtype=int64, numpy=array([0, 1, 3, ..., 4, 4, 2])>"
      ]
     },
     "execution_count": 37,
     "metadata": {},
     "output_type": "execute_result"
    }
   ],
   "source": [
    "model_2_pred = tf.argmax(model_2_pred_probs,axis=1)\n",
    "model_2_pred"
   ]
  },
  {
   "cell_type": "code",
   "execution_count": 38,
   "id": "827c8e23",
   "metadata": {},
   "outputs": [],
   "source": [
    "model_2_results = find_scores(val_label_encoded,model_2_pred)"
   ]
  },
  {
   "cell_type": "code",
   "execution_count": 40,
   "id": "801a37bb",
   "metadata": {},
   "outputs": [
    {
     "data": {
      "text/plain": [
       "({'accuracy_score': 0.7121673507215676,\n",
       "  'precision_score': 0.7125300719774355,\n",
       "  'recall_score': 0.7121673507215676,\n",
       "  'f1_score': 0.7092435683039221},\n",
       " {'accuracy_score': 0.7838938170263472,\n",
       "  'precision_score': 0.7804753176617882,\n",
       "  'recall_score': 0.7838938170263472,\n",
       "  'f1_score': 0.7814327373922647},\n",
       " {'accuracy_score': 0.7218323844829869,\n",
       "  'precision_score': 0.7186466952323352,\n",
       "  'recall_score': 0.7218323844829869,\n",
       "  'f1_score': 0.6989250353450294})"
      ]
     },
     "execution_count": 40,
     "metadata": {},
     "output_type": "execute_result"
    }
   ],
   "source": [
    "model_2_results,model_1_results,model_0_results"
   ]
  },
  {
   "cell_type": "code",
   "execution_count": null,
   "id": "7edd1738",
   "metadata": {},
   "outputs": [],
   "source": []
  }
 ],
 "metadata": {
  "kernelspec": {
   "display_name": "Python 3 (ipykernel)",
   "language": "python",
   "name": "python3"
  },
  "language_info": {
   "codemirror_mode": {
    "name": "ipython",
    "version": 3
   },
   "file_extension": ".py",
   "mimetype": "text/x-python",
   "name": "python",
   "nbconvert_exporter": "python",
   "pygments_lexer": "ipython3",
   "version": "3.9.16"
  }
 },
 "nbformat": 4,
 "nbformat_minor": 5
}
