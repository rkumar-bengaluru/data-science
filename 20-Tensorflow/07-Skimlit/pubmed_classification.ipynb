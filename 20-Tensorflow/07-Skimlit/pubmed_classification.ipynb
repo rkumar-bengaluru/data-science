{
 "cells": [
  {
   "cell_type": "markdown",
   "id": "6a532c6d",
   "metadata": {
    "id": "6a532c6d"
   },
   "source": [
    "# Pubmed sequential sentence classification\n",
    "\n",
    "* Research Paper - https://arxiv.org/abs/1710.06071"
   ]
  },
  {
   "cell_type": "markdown",
   "id": "a93c67a8",
   "metadata": {
    "id": "a93c67a8"
   },
   "source": [
    "## Goal - (255 - 256)\n",
    "\n",
    "* Download a text dataset (PubMed 200K RCT)\n",
    "* Write a preprocessing function for our test data\n",
    "* One Hot Encoding & Label Encoding.\n",
    "* Setting up multiple modelling experiments with different levels of embedding\n",
    "* Building a **multimodal model** to take in different sources of data\n",
    "  * Replicating the model discussed in this paper (https://arxiv.org/abs/1710.06071)\n",
    "  * Actual model description (https://arxiv.org/abs/1612.05251)\n",
    "* Finding the most wrong predictions\n",
    "* Reference Model\n",
    "\n",
    "![Reference Model](https://raw.githubusercontent.com/rkumar-bengaluru/data-science/main/20-Tensorflow/07-Skimlit/model.jpg)"
   ]
  },
  {
   "cell_type": "markdown",
   "id": "ea59c3b7",
   "metadata": {
    "id": "ea59c3b7"
   },
   "source": [
    "## SkimLit Inputs and Outputs (257) - Ignore"
   ]
  },
  {
   "cell_type": "markdown",
   "id": "b2bceb91",
   "metadata": {
    "id": "b2bceb91"
   },
   "source": [
    "## Get the data (258 - 259)\n",
    "\n",
    "Download the dataset for pubmed 200K RCT from https://github.com/Franck-Dernoncourt/pubmed-rct"
   ]
  },
  {
   "cell_type": "code",
   "execution_count": 1,
   "id": "5beb35ef",
   "metadata": {
    "colab": {
     "base_uri": "https://localhost:8080/"
    },
    "id": "5beb35ef",
    "outputId": "7dffb1d6-0628-4e01-fcfc-60e0c749848d"
   },
   "outputs": [
    {
     "name": "stderr",
     "output_type": "stream",
     "text": [
      "fatal: destination path 'pubmed-rct' already exists and is not an empty directory.\n"
     ]
    }
   ],
   "source": [
    "!git clone https://github.com/Franck-Dernoncourt/pubmed-rct"
   ]
  },
  {
   "cell_type": "code",
   "execution_count": 2,
   "id": "397d30d9",
   "metadata": {
    "colab": {
     "base_uri": "https://localhost:8080/"
    },
    "id": "397d30d9",
    "outputId": "122342d2-ebf1-4857-de79-b5f97f542881"
   },
   "outputs": [
    {
     "name": "stdout",
     "output_type": "stream",
     "text": [
      " Volume in drive C is OS\n",
      " Volume Serial Number is 30F4-96C0\n",
      "\n",
      " Directory of C:\\2023\\data-science\\20-Tensorflow\\07-Skimlit\\pubmed-rct\n",
      "\n",
      "04-05-2023  13:08    <DIR>          .\n",
      "01-06-2023  12:59    <DIR>          ..\n",
      "04-05-2023  13:08    <DIR>          PubMed_200k_RCT\n",
      "04-05-2023  13:08    <DIR>          PubMed_200k_RCT_numbers_replaced_with_at_sign\n",
      "04-05-2023  13:08    <DIR>          PubMed_20k_RCT\n",
      "04-05-2023  13:08    <DIR>          PubMed_20k_RCT_numbers_replaced_with_at_sign\n",
      "04-05-2023  13:08             2,403 README.md\n",
      "               1 File(s)          2,403 bytes\n",
      "               6 Dir(s)  339,619,057,664 bytes free\n"
     ]
    }
   ],
   "source": [
    "!dir pubmed-rct"
   ]
  },
  {
   "cell_type": "code",
   "execution_count": 3,
   "id": "33f36bb2",
   "metadata": {
    "colab": {
     "base_uri": "https://localhost:8080/"
    },
    "id": "33f36bb2",
    "outputId": "b3220877-a240-4ec2-e3d0-6a8cbd54188c"
   },
   "outputs": [
    {
     "name": "stdout",
     "output_type": "stream",
     "text": [
      "['pubmed-rct/PubMed_20k_RCT_numbers_replaced_with_at_sign/dev.txt', 'pubmed-rct/PubMed_20k_RCT_numbers_replaced_with_at_sign/test.txt', 'pubmed-rct/PubMed_20k_RCT_numbers_replaced_with_at_sign/train.txt']\n"
     ]
    }
   ],
   "source": [
    "import os\n",
    "\n",
    "# root data directory\n",
    "data_dir = 'pubmed-rct/PubMed_20k_RCT_numbers_replaced_with_at_sign/'\n",
    "# list of file names\n",
    "filenames = [data_dir + filename for filename in os.listdir(data_dir)]\n",
    "print(filenames)"
   ]
  },
  {
   "cell_type": "markdown",
   "id": "d23605a6",
   "metadata": {
    "id": "d23605a6"
   },
   "source": [
    "### Preprocess Data (260)\n",
    "\n",
    "Write a function which will read each line of the file and create the below structure:\n",
    "\n",
    "```\n",
    "[{ 'line_number' : 0,\n",
    "   'target'  : 'first few characters till \\t tab character',\n",
    "   'text'   : 'full text after \\t character till end of line character \\n',\n",
    "   'total_lines' : \n",
    " },\n",
    " ...\n",
    "]\n",
    "```\n",
    "\n",
    "Ignore line starting with ### and repeat the same for train_data, validation_data and test_data"
   ]
  },
  {
   "cell_type": "code",
   "execution_count": 4,
   "id": "11189c0b",
   "metadata": {
    "colab": {
     "base_uri": "https://localhost:8080/"
    },
    "id": "11189c0b",
    "outputId": "11110a36-2f53-41f8-bf1a-95b33dc38f22"
   },
   "outputs": [
    {
     "name": "stdout",
     "output_type": "stream",
     "text": [
      "size of train lines is 210040\n",
      "size of validation lines is 35212\n",
      "size of test lines is 35135\n",
      "size of train data is 180040\n",
      "size of validation data is 30212\n",
      "size of test data is 30135\n"
     ]
    }
   ],
   "source": [
    "import os\n",
    "\n",
    "def get_lines(file_name):\n",
    "    \"\"\"\n",
    "    Reads the file_name and returns the content of the file as list\n",
    "    \"\"\"\n",
    "    with open(file_name) as f:\n",
    "        lines = f.readlines()\n",
    "    return lines\n",
    "\n",
    "validation_lines = get_lines(filenames[0])\n",
    "test_lines = get_lines(filenames[1])\n",
    "train_lines = get_lines(filenames[2])\n",
    "\n",
    "print(f\"size of train lines is {len(train_lines)}\")\n",
    "print(f\"size of validation lines is {len(validation_lines)}\")\n",
    "print(f\"size of test lines is {len(test_lines)}\")\n",
    "\n",
    "def create_data_set(lines):\n",
    "    data = []\n",
    "    items = []\n",
    "    index = 0\n",
    "    for line in lines:\n",
    "        \n",
    "        if line.startswith('\\n'):\n",
    "            for item in items:\n",
    "                item['total_lines'] = index -1\n",
    "                data.append(item)\n",
    "            index = 0\n",
    "            items = []\n",
    "        else:\n",
    "            tokens = line.split('\\t')\n",
    "        \n",
    "            if len(tokens) > 1:\n",
    "                item = {'line_number':index,'target': tokens[0],'text':tokens[1].strip() ,'total_lines' :index}\n",
    "                items.append(item)\n",
    "                index = index + 1\n",
    "    return data\n",
    "\n",
    "train_data = create_data_set(train_lines)\n",
    "validation_data = create_data_set(validation_lines)\n",
    "test_data = create_data_set(test_lines)\n",
    "\n",
    "print(f\"size of train data is {len(train_data)}\")\n",
    "print(f\"size of validation data is {len(validation_data)}\")\n",
    "print(f\"size of test data is {len(test_data)}\")\n"
   ]
  },
  {
   "cell_type": "markdown",
   "id": "76907385",
   "metadata": {
    "id": "76907385"
   },
   "source": [
    "### Visualize Data (261)\n",
    "\n",
    "Use pandas dataframe"
   ]
  },
  {
   "cell_type": "code",
   "execution_count": 5,
   "id": "c4870cb5",
   "metadata": {
    "colab": {
     "base_uri": "https://localhost:8080/",
     "height": 795
    },
    "id": "c4870cb5",
    "outputId": "626d6932-31f2-4d1a-e7fe-0fe667ea0eac"
   },
   "outputs": [
    {
     "name": "stdout",
     "output_type": "stream",
     "text": [
      "head of train data\n",
      "   line_number     target                                               text  \\\n",
      "0            0  OBJECTIVE  To investigate the efficacy of @ weeks of dail...   \n",
      "1            1    METHODS  A total of @ patients with primary knee OA wer...   \n",
      "2            2    METHODS  Outcome measures included pain reduction and i...   \n",
      "3            3    METHODS  Pain was assessed using the visual analog pain...   \n",
      "4            4    METHODS  Secondary outcome measures included the Wester...   \n",
      "\n",
      "   total_lines  \n",
      "0           11  \n",
      "1           11  \n",
      "2           11  \n",
      "3           11  \n",
      "4           11  \n",
      "unique counts of each target\n",
      "METHODS        59353\n",
      "RESULTS        57953\n",
      "CONCLUSIONS    27168\n",
      "BACKGROUND     21727\n",
      "OBJECTIVE      13839\n",
      "Name: target, dtype: int64\n"
     ]
    },
    {
     "data": {
      "image/png": "[encoded data removed]",
      "text/plain": [
       "<Figure size 640x480 with 1 Axes>"
      ]
     },
     "metadata": {},
     "output_type": "display_data"
    }
   ],
   "source": [
    "# Visualize data with data frame.\n",
    "\n",
    "import pandas as pd\n",
    "import matplotlib.pyplot as plt\n",
    "\n",
    "train_df = pd.DataFrame(train_data)\n",
    "val_df   = pd.DataFrame(validation_data)\n",
    "test_df  = pd.DataFrame(test_data)\n",
    "# print the head\n",
    "print('head of train data')\n",
    "print(train_df.head())\n",
    "print('unique counts of each target')\n",
    "print(train_df['target'].value_counts())\n",
    "# length of different lines\n",
    "train_df.total_lines.plot.hist();\n"
   ]
  },
  {
   "cell_type": "code",
   "execution_count": 6,
   "id": "1e6b8de9",
   "metadata": {
    "colab": {
     "base_uri": "https://localhost:8080/"
    },
    "id": "1e6b8de9",
    "outputId": "a84df29a-92e5-46cf-ba82-982f78a1769d"
   },
   "outputs": [
    {
     "name": "stdout",
     "output_type": "stream",
     "text": [
      "train sentences length 180040\n",
      "val sentences length 30212\n",
      "test sentences length 30135\n"
     ]
    }
   ],
   "source": [
    "# convert to list\n",
    "train_sentences = train_df['text'].tolist()\n",
    "val_sentences   = val_df['text'].tolist()\n",
    "test_sentences  = test_df['text'].tolist()\n",
    "print(f\"train sentences length {len(train_sentences)}\")\n",
    "print(f\"val sentences length {len(val_sentences)}\")\n",
    "print(f\"test sentences length {len(test_sentences)}\")"
   ]
  },
  {
   "cell_type": "markdown",
   "id": "53fbbd61",
   "metadata": {
    "id": "53fbbd61"
   },
   "source": [
    "## One Hot Encoding & Label Encoding (262)"
   ]
  },
  {
   "cell_type": "code",
   "execution_count": 7,
   "id": "0d9366ae",
   "metadata": {
    "colab": {
     "base_uri": "https://localhost:8080/"
    },
    "id": "0d9366ae",
    "outputId": "909a8032-76ee-43b6-820a-777f5644b759"
   },
   "outputs": [
    {
     "name": "stdout",
     "output_type": "stream",
     "text": [
      "one hot encoding\n",
      "tf.Tensor([0. 0. 0. 1. 0.], shape=(5,), dtype=float64) tf.Tensor([1. 0. 0. 0. 0.], shape=(5,), dtype=float64) tf.Tensor([1. 0. 0. 0. 0.], shape=(5,), dtype=float64)\n",
      "label encoding...\n",
      "3 0 0\n",
      "classnames\n",
      "class name =  ['BACKGROUND' 'CONCLUSIONS' 'METHODS' 'OBJECTIVE' 'RESULTS'] length of classes = 5\n"
     ]
    },
    {
     "name": "stderr",
     "output_type": "stream",
     "text": [
      "C:\\Users\\Rupak\\.conda\\envs\\tf\\lib\\site-packages\\sklearn\\preprocessing\\_label.py:116: DataConversionWarning: A column-vector y was passed when a 1d array was expected. Please change the shape of y to (n_samples, ), for example using ravel().\n",
      "  y = column_or_1d(y, warn=True)\n",
      "C:\\Users\\Rupak\\.conda\\envs\\tf\\lib\\site-packages\\sklearn\\preprocessing\\_label.py:134: DataConversionWarning: A column-vector y was passed when a 1d array was expected. Please change the shape of y to (n_samples, ), for example using ravel().\n",
      "  y = column_or_1d(y, dtype=self.classes_.dtype, warn=True)\n"
     ]
    }
   ],
   "source": [
    "import sklearn\n",
    "from sklearn.preprocessing import OneHotEncoder,LabelEncoder\n",
    "import tensorflow as tf\n",
    "\n",
    "#tf.debugging.set_log_device_placement(True)\n",
    "\n",
    "onehot = OneHotEncoder(sparse_output=False)\n",
    "train_label_one_hot = tf.constant(onehot.fit_transform(train_df['target'].to_numpy().reshape(-1,1)))\n",
    "val_label_one_hot    = tf.constant(onehot.transform(val_df['target'].to_numpy().reshape(-1,1)))\n",
    "test_label_one_hot   = tf.constant(onehot.transform(test_df['target'].to_numpy().reshape(-1,1)))\n",
    "print('one hot encoding')\n",
    "print(train_label_one_hot[0],val_label_one_hot[0],test_label_one_hot[0])\n",
    "\n",
    "# label encoder\n",
    "labelencode = LabelEncoder()\n",
    "train_label_encoded = labelencode.fit_transform(train_df['target'].to_numpy().reshape(-1,1))\n",
    "val_label_encoded = labelencode.transform(val_df['target'].to_numpy().reshape(-1,1))\n",
    "test_label_encoded = labelencode.transform(test_df['target'].to_numpy().reshape(-1,1))\n",
    "print('label encoding...')\n",
    "print(train_label_encoded[0],val_label_encoded[0],test_label_encoded[0])\n",
    "\n",
    "print('classnames')\n",
    "classnames = labelencode.classes_\n",
    "print('class name = ', classnames, 'length of classes =', len(classnames))"
   ]
  },
  {
   "cell_type": "markdown",
   "id": "67375053",
   "metadata": {
    "id": "67375053"
   },
   "source": [
    "## Experiments to be Conducted (262)\n",
    "\n",
    "![Experiments](https://raw.githubusercontent.com/rkumar-bengaluru/data-science/main/20-Tensorflow/07-Skimlit/resources/experiments.jpg)"
   ]
  },
  {
   "cell_type": "markdown",
   "id": "1cb022b8",
   "metadata": {
    "id": "1cb022b8"
   },
   "source": [
    "## Model 0 - Naive Bayes with TF-IDF Encoder (263)\n",
    "\n",
    "* Selection Method\n",
    "![Machine Learning Map](https://raw.githubusercontent.com/rkumar-bengaluru/data-science/main/20-Tensorflow/07-Skimlit/resources/ml_map.png)"
   ]
  },
  {
   "cell_type": "code",
   "execution_count": 8,
   "id": "94ea3376",
   "metadata": {
    "colab": {
     "base_uri": "https://localhost:8080/"
    },
    "id": "94ea3376",
    "outputId": "5ac04c2c-a1e1-4378-8295-7a96c40dd036"
   },
   "outputs": [
    {
     "name": "stdout",
     "output_type": "stream",
     "text": [
      "{'accuracy_score': 0.7218323844829869, 'precision_score': 0.7186466952323352, 'recall_score': 0.7218323844829869, 'f1_score': 0.6989250353450294}\n"
     ]
    }
   ],
   "source": [
    "from sklearn.feature_extraction.text import TfidfVectorizer\n",
    "from sklearn.pipeline import Pipeline\n",
    "from sklearn.naive_bayes import MultinomialNB\n",
    "from sklearn.metrics import accuracy_score,precision_score,recall_score,f1_score\n",
    "\n",
    "def find_scores(val_label_encoded,val_preds):\n",
    "    a_score = accuracy_score(y_true=val_label_encoded,y_pred=val_preds)\n",
    "    p_score = precision_score(y_true=val_label_encoded,y_pred=val_preds,average='weighted')\n",
    "    r_score = recall_score(y_true=val_label_encoded,y_pred=val_preds,average='weighted')\n",
    "    f_score = f1_score(y_true=val_label_encoded,y_pred=val_preds,average='weighted')\n",
    "    return {'accuracy_score' : a_score, \n",
    "            'precision_score' : p_score, \n",
    "            'recall_score' : r_score,\n",
    "            'f1_score' : f_score}\n",
    "\n",
    "model_0 = Pipeline([('tf-idf',TfidfVectorizer()),\n",
    "               ('naive_bayes',MultinomialNB())])\n",
    "model_0.fit(X=train_sentences,y=train_label_encoded)\n",
    "\n",
    "y_pred = model_0.score(X=val_sentences,y=val_label_encoded)\n",
    "\n",
    "val_preds = model_0.predict(val_sentences)\n",
    "model_0_results = find_scores(val_label_encoded,val_preds)\n",
    "print(model_0_results)"
   ]
  },
  {
   "cell_type": "markdown",
   "id": "52108425",
   "metadata": {
    "id": "52108425"
   },
   "source": [
    "## Model 1 - Conv1D with token Embedding "
   ]
  },
  {
   "cell_type": "markdown",
   "id": "4c83b74b",
   "metadata": {
    "id": "4c83b74b"
   },
   "source": [
    "### Data Visualization (264)"
   ]
  },
  {
   "cell_type": "code",
   "execution_count": 9,
   "id": "e2553b19",
   "metadata": {
    "colab": {
     "base_uri": "https://localhost:8080/",
     "height": 465
    },
    "id": "e2553b19",
    "outputId": "1bd122da-0eef-49ba-ff12-20bc9883acbc"
   },
   "outputs": [
    {
     "name": "stdout",
     "output_type": "stream",
     "text": [
      "mean tokens in each sentences  26.338269273494777\n",
      "no of tokens to keep to cover 95% of the sentence tokens in training data is 55\n"
     ]
    },
    {
     "data": {
      "image/png": "[encoded data removed]",
      "text/plain": [
       "<Figure size 640x480 with 1 Axes>"
      ]
     },
     "metadata": {},
     "output_type": "display_data"
    }
   ],
   "source": [
    "import numpy as np\n",
    "import matplotlib.pyplot as plt\n",
    "# find how tokens is each sentences\n",
    "lengths = [len(sen.split()) for sen in train_sentences]\n",
    "print('mean tokens in each sentences ', np.mean(lengths))\n",
    "output_sequence_length = int(np.percentile(lengths,95))\n",
    "# find percentile to cover 95% of the sentence tokens\n",
    "print(f\"no of tokens to keep to cover 95% of the sentence tokens in training data is {output_sequence_length}\")\n",
    "plt.hist(lengths,bins=10);"
   ]
  },
  {
   "cell_type": "markdown",
   "id": "9807bbae",
   "metadata": {
    "id": "9807bbae"
   },
   "source": [
    "### Vectorize Tokens (265)"
   ]
  },
  {
   "cell_type": "code",
   "execution_count": 10,
   "id": "01440492",
   "metadata": {
    "colab": {
     "base_uri": "https://localhost:8080/"
    },
    "id": "01440492",
    "outputId": "a1db6d03-8136-441b-e2bc-d67e12f4a423"
   },
   "outputs": [
    {
     "name": "stdout",
     "output_type": "stream",
     "text": [
      "Sample Sentence Text \n",
      " Both clinical studies were conducted at the GlaxoSmithKline Medicines Research Unit in the Prince of Wales Hospital , Sydney , Australia .\n",
      "\n",
      "length of the Sample Sentence 138\n",
      "Vectorized Sample Sentence\n",
      " [[   54    47   202     9   198    15     2  7516  4579   285   835     5\n",
      "      2 29081     4  6452   237  8171  1696     0     0     0     0     0\n",
      "      0     0     0     0     0     0     0     0     0     0     0     0\n",
      "      0     0     0     0     0     0     0     0     0     0     0     0\n",
      "      0     0     0     0     0     0     0]]\n",
      "total no of words in the vocabulary is 64841\n",
      "most common words in the vocabulary is \n",
      " ['', '[UNK]', 'the', 'and', 'of', 'in', 'to', 'with', 'a', 'were']\n",
      "least common words in the vocabulary is \n",
      " ['aarm', 'aaqol', 'aaq', 'aanhui', 'aana', 'aainduced', 'aaigroup', 'aachener', 'aachen', 'aaacp']\n",
      "{'name': 'text_vectorization', 'trainable': True, 'batch_input_shape': (None,), 'dtype': 'string', 'max_tokens': 68000, 'standardize': 'lower_and_strip_punctuation', 'split': 'whitespace', 'ngrams': None, 'output_mode': 'int', 'output_sequence_length': 55, 'pad_to_max_tokens': False, 'sparse': False, 'ragged': False, 'vocabulary': None, 'idf_weights': None}\n"
     ]
    }
   ],
   "source": [
    "# create text vectorizer\n",
    "from tensorflow.keras.layers.experimental.preprocessing import TextVectorization\n",
    "\n",
    "max_tokens = 68000\n",
    "text_vectorization = TextVectorization(max_tokens=max_tokens,\n",
    "                                      output_sequence_length=output_sequence_length)\n",
    "\n",
    "text_vectorization.adapt(train_sentences)\n",
    "\n",
    "# check the output of text vectorization\n",
    "import random\n",
    "sample_sentence = random.choice(train_sentences)\n",
    "print(f\"Sample Sentence Text \\n {sample_sentence}\\n\")\n",
    "print(f\"length of the Sample Sentence {len(sample_sentence)}\")\n",
    "print(f\"Vectorized Sample Sentence\\n {text_vectorization([sample_sentence])}\")\n",
    "\n",
    "# how many words in our vocabulary\n",
    "rct_20k_text_vocab = text_vectorization.get_vocabulary()\n",
    "print(f\"total no of words in the vocabulary is {len(rct_20k_text_vocab)}\")\n",
    "print(f\"most common words in the vocabulary is \\n {rct_20k_text_vocab[:10]}\")\n",
    "print(f\"least common words in the vocabulary is \\n {rct_20k_text_vocab[-10:]}\")\n",
    "\n",
    "# print text vectorization config\n",
    "t_config = text_vectorization.get_config()\n",
    "print(t_config)"
   ]
  },
  {
   "cell_type": "markdown",
   "id": "c0b911e8",
   "metadata": {
    "id": "c0b911e8"
   },
   "source": [
    "### Token Embedding (266)"
   ]
  },
  {
   "cell_type": "code",
   "execution_count": 11,
   "id": "6e22319f",
   "metadata": {
    "colab": {
     "base_uri": "https://localhost:8080/"
    },
    "id": "6e22319f",
    "outputId": "0f0fe60a-ae2f-4494-8190-101190c8e14a"
   },
   "outputs": [
    {
     "name": "stdout",
     "output_type": "stream",
     "text": [
      "Sentence before embedding \n",
      " Both clinical studies were conducted at the GlaxoSmithKline Medicines Research Unit in the Prince of Wales Hospital , Sydney , Australia .\n",
      "vectorized sentence \n",
      " [[   54    47   202     9   198    15     2  7516  4579   285   835     5\n",
      "      2 29081     4  6452   237  8171  1696     0     0     0     0     0\n",
      "      0     0     0     0     0     0     0     0     0     0     0     0\n",
      "      0     0     0     0     0     0     0     0     0     0     0     0\n",
      "      0     0     0     0     0     0     0]]\n",
      "embedded sentence \n",
      " [[[ 0.04731205 -0.03871269  0.03297079 ... -0.02930509  0.01914233\n",
      "    0.03889399]\n",
      "  [ 0.02497282 -0.01576455  0.00139964 ...  0.01730626 -0.01024384\n",
      "   -0.04992795]\n",
      "  [-0.0273163   0.04136432  0.04686265 ... -0.04200624  0.02208252\n",
      "    0.03750518]\n",
      "  ...\n",
      "  [-0.02488676  0.01915764  0.02513603 ...  0.01253928  0.00984005\n",
      "   -0.04096913]\n",
      "  [-0.02488676  0.01915764  0.02513603 ...  0.01253928  0.00984005\n",
      "   -0.04096913]\n",
      "  [-0.02488676  0.01915764  0.02513603 ...  0.01253928  0.00984005\n",
      "   -0.04096913]]]\n",
      "embedded sentence shape \n",
      " (1, 55, 128)\n"
     ]
    }
   ],
   "source": [
    "# add a embedding layer\n",
    "from tensorflow.keras.layers import Embedding\n",
    "\n",
    "embedding_layer = Embedding(input_dim=len(rct_20k_text_vocab),\n",
    "                 output_dim=128,\n",
    "                  mask_zero=True,\n",
    "                  name='token_embedding')\n",
    "# token embedding\n",
    "print(f\"Sentence before embedding \\n {sample_sentence}\")\n",
    "vectorized_sentence = text_vectorization([sample_sentence])\n",
    "print(f\"vectorized sentence \\n {vectorized_sentence}\")\n",
    "embed_sentence = embedding_layer(vectorized_sentence)\n",
    "print(f\"embedded sentence \\n {embed_sentence}\")\n",
    "print(f\"embedded sentence shape \\n {embed_sentence.shape}\")"
   ]
  },
  {
   "cell_type": "markdown",
   "id": "1d954fa5",
   "metadata": {
    "id": "1d954fa5"
   },
   "source": [
    "## Create Dataset using tf.data.Dataset (267)"
   ]
  },
  {
   "cell_type": "code",
   "execution_count": 12,
   "id": "86b0e2b0",
   "metadata": {
    "id": "86b0e2b0"
   },
   "outputs": [],
   "source": [
    "train_dataset = tf.data.Dataset.from_tensor_slices((train_sentences,train_label_one_hot))\n",
    "val_dataset = tf.data.Dataset.from_tensor_slices((val_sentences,val_label_one_hot))\n",
    "test_dataset = tf.data.Dataset.from_tensor_slices((test_sentences,test_label_one_hot))\n",
    "\n",
    "# for fast performance \n",
    "train_dataset = train_dataset.batch(32).prefetch(tf.data.AUTOTUNE)\n",
    "val_dataset   = val_dataset.batch(32).prefetch(tf.data.AUTOTUNE)\n",
    "test_dataset  = test_dataset.batch(32).prefetch(tf.data.AUTOTUNE)"
   ]
  },
  {
   "cell_type": "code",
   "execution_count": 13,
   "id": "c1280fc6",
   "metadata": {
    "colab": {
     "base_uri": "https://localhost:8080/"
    },
    "id": "c1280fc6",
    "outputId": "5b495930-e30c-423f-882c-7034585cf069"
   },
   "outputs": [
    {
     "data": {
      "text/plain": [
       "<PrefetchDataset element_spec=(TensorSpec(shape=(None,), dtype=tf.string, name=None), TensorSpec(shape=(None, 5), dtype=tf.float64, name=None))>"
      ]
     },
     "execution_count": 13,
     "metadata": {},
     "output_type": "execute_result"
    }
   ],
   "source": [
    "train_dataset"
   ]
  },
  {
   "cell_type": "markdown",
   "id": "40beeb95",
   "metadata": {
    "id": "40beeb95"
   },
   "source": [
    "## Build Conv1D model (268)"
   ]
  },
  {
   "cell_type": "code",
   "execution_count": 14,
   "id": "4bde1b93",
   "metadata": {
    "colab": {
     "base_uri": "https://localhost:8080/"
    },
    "id": "4bde1b93",
    "outputId": "050adf56-ea09-4b7b-f093-aa72ef44c9a9"
   },
   "outputs": [
    {
     "name": "stdout",
     "output_type": "stream",
     "text": [
      "Model: \"model\"\n",
      "_________________________________________________________________\n",
      " Layer (type)                Output Shape              Param #   \n",
      "=================================================================\n",
      " input (InputLayer)          [(None, 1)]               0         \n",
      "                                                                 \n",
      " vectorization_layer (TextVe  (None, 55)               0         \n",
      " ctorization)                                                    \n",
      "                                                                 \n",
      " token_embedding_layer (Embe  (None, 55, 128)          8299648   \n",
      " dding)                                                          \n",
      "                                                                 \n",
      " conv1d_Layer (Conv1D)       (None, 55, 64)            41024     \n",
      "                                                                 \n",
      " global_average_pooling (Glo  (None, 64)               0         \n",
      " balAveragePooling1D)                                            \n",
      "                                                                 \n",
      " fully_connected (Dense)     (None, 5)                 325       \n",
      "                                                                 \n",
      "=================================================================\n",
      "Total params: 8,340,997\n",
      "Trainable params: 8,340,997\n",
      "Non-trainable params: 0\n",
      "_________________________________________________________________\n"
     ]
    }
   ],
   "source": [
    "import tensorflow as tf\n",
    "from tensorflow.keras import Model\n",
    "from tensorflow.keras.layers import Conv1D, GlobalAveragePooling1D, Input, TextVectorization, Embedding,Dense\n",
    "\n",
    "# input layer\n",
    "inputs = Input(shape=(1,),dtype=tf.string,name=\"input\")\n",
    "# text vectorization layer\n",
    "max_tokens = 68000\n",
    "lengths = [len(sen.split()) for sen in train_sentences]\n",
    "output_sequence_length = int(np.percentile(lengths,95))\n",
    "text_vectorizer = TextVectorization(max_tokens=max_tokens, \n",
    "                      output_sequence_length=output_sequence_length,\n",
    "                                   name=\"vectorization_layer\")\n",
    "text_vectorizer.adapt(train_sentences)\n",
    "vectors = text_vectorizer(inputs)\n",
    "# embedding layer\n",
    "embedding = Embedding(input_dim=len(rct_20k_text_vocab),\n",
    "                     output_dim=128,\n",
    "                     mask_zero=True,\n",
    "                      name=\"token_embedding_layer\")\n",
    "token_embedding = embedding(vectors)\n",
    "# conv1d layer\n",
    "x = Conv1D(filters=64,\n",
    "          kernel_size=5,\n",
    "          padding=\"same\",\n",
    "          activation=\"relu\",\n",
    "          name=\"conv1d_Layer\")(token_embedding)\n",
    "# average pooling\n",
    "x = GlobalAveragePooling1D(name=\"global_average_pooling\")(x)\n",
    "# output layer\n",
    "outputs = Dense(5,activation=\"softmax\", name=\"fully_connected\")(x)\n",
    "# finally the model\n",
    "model_1 = Model(inputs,outputs)\n",
    "\n",
    "# compile the model\n",
    "model_1.compile(loss=\"categorical_crossentropy\",\n",
    "               optimizer=tf.keras.optimizers.Adam(),\n",
    "               metrics=['accuracy'])\n",
    "# summary\n",
    "model_1.summary()"
   ]
  },
  {
   "cell_type": "code",
   "execution_count": 15,
   "id": "258d5d14",
   "metadata": {
    "id": "258d5d14"
   },
   "outputs": [],
   "source": [
    "import time\n",
    "\n",
    "def fit_the_model(model):\n",
    "    \n",
    "    # fit the model\n",
    "    start_time = time.time()\n",
    "    history = model.fit(train_dataset,\n",
    "                             steps_per_epoch=int(0.1*len(train_dataset)),\n",
    "                              epochs=3,\n",
    "                             validation_data=val_dataset,\n",
    "                             validation_steps=int(0.1*len(val_dataset)))\n",
    "    time_taken = time.time() - start_time\n",
    "    print(f\"time taken to fit {time_taken}\")\n",
    "    return history"
   ]
  },
  {
   "cell_type": "code",
   "execution_count": 16,
   "id": "bdeb7258",
   "metadata": {
    "id": "bdeb7258"
   },
   "outputs": [],
   "source": [
    "# let's try with cpu\n",
    "#with tf.device(\"/cpu:0\"):\n",
    "#    fit_the_model(model_1)"
   ]
  },
  {
   "cell_type": "code",
   "execution_count": 17,
   "id": "af51073f",
   "metadata": {
    "colab": {
     "base_uri": "https://localhost:8080/"
    },
    "id": "af51073f",
    "outputId": "f8e1009b-58e0-47cb-e647-13605d1db90b"
   },
   "outputs": [
    {
     "name": "stdout",
     "output_type": "stream",
     "text": [
      "Epoch 1/3\n",
      "562/562 [==============================] - 30s 51ms/step - loss: 0.9187 - accuracy: 0.6360 - val_loss: 0.6932 - val_accuracy: 0.7344\n",
      "Epoch 2/3\n",
      "562/562 [==============================] - 29s 51ms/step - loss: 0.6638 - accuracy: 0.7512 - val_loss: 0.6368 - val_accuracy: 0.7699\n",
      "Epoch 3/3\n",
      "562/562 [==============================] - 28s 50ms/step - loss: 0.6201 - accuracy: 0.7730 - val_loss: 0.5972 - val_accuracy: 0.7829\n",
      "time taken to fit 86.64157629013062\n"
     ]
    }
   ],
   "source": [
    "# with gpu\n",
    "with tf.device(\"/gpu:0\"):\n",
    "    fit_the_model(model_1)"
   ]
  },
  {
   "cell_type": "code",
   "execution_count": 18,
   "id": "6467abc4",
   "metadata": {
    "colab": {
     "base_uri": "https://localhost:8080/"
    },
    "id": "6467abc4",
    "outputId": "d324092e-7856-4677-89aa-e3decec22aa8"
   },
   "outputs": [
    {
     "name": "stdout",
     "output_type": "stream",
     "text": [
      "945/945 [==============================] - 3s 3ms/step - loss: 0.5984 - accuracy: 0.7850\n"
     ]
    },
    {
     "data": {
      "text/plain": [
       "[0.5983775854110718, 0.7850192189216614]"
      ]
     },
     "execution_count": 18,
     "metadata": {},
     "output_type": "execute_result"
    }
   ],
   "source": [
    "# evalue the model\n",
    "model_1.evaluate(val_dataset)"
   ]
  },
  {
   "cell_type": "code",
   "execution_count": 19,
   "id": "a8f0d4c4",
   "metadata": {
    "colab": {
     "base_uri": "https://localhost:8080/"
    },
    "id": "a8f0d4c4",
    "outputId": "b5740d7d-f7e9-47d4-bcda-e890f763b8b5"
   },
   "outputs": [
    {
     "name": "stdout",
     "output_type": "stream",
     "text": [
      "945/945 [==============================] - 4s 3ms/step\n"
     ]
    },
    {
     "data": {
      "text/plain": [
       "(array([[4.6639949e-01, 1.7271149e-01, 5.1625654e-02, 2.8174546e-01,\n",
       "         2.7517878e-02],\n",
       "        [4.2332375e-01, 3.2791874e-01, 9.4140954e-03, 2.3243329e-01,\n",
       "         6.9101942e-03],\n",
       "        [1.7993249e-01, 7.0139817e-03, 1.6044464e-03, 8.1142735e-01,\n",
       "         2.1657374e-05],\n",
       "        ...,\n",
       "        [7.6109059e-06, 8.3144312e-04, 1.2618448e-03, 4.1022849e-06,\n",
       "         9.9789500e-01],\n",
       "        [4.6031188e-02, 4.6744037e-01, 6.3116454e-02, 4.4023819e-02,\n",
       "         3.7938818e-01],\n",
       "        [1.8786760e-01, 6.4609623e-01, 5.9940394e-02, 5.0801132e-02,\n",
       "         5.5294614e-02]], dtype=float32),\n",
       " (30212, 5))"
      ]
     },
     "execution_count": 19,
     "metadata": {},
     "output_type": "execute_result"
    }
   ],
   "source": [
    "model_1_pred_probs = model_1.predict(val_dataset)\n",
    "model_1_pred_probs,model_1_pred_probs.shape"
   ]
  },
  {
   "cell_type": "code",
   "execution_count": 20,
   "id": "812bd5af",
   "metadata": {
    "colab": {
     "base_uri": "https://localhost:8080/"
    },
    "id": "812bd5af",
    "outputId": "cc0e96b6-5607-40b8-f9e8-6d18b2fce2ea"
   },
   "outputs": [
    {
     "data": {
      "text/plain": [
       "<tf.Tensor: shape=(30212,), dtype=int64, numpy=array([0, 0, 3, ..., 4, 1, 1], dtype=int64)>"
      ]
     },
     "execution_count": 20,
     "metadata": {},
     "output_type": "execute_result"
    }
   ],
   "source": [
    "model_1_preds = tf.argmax(model_1_pred_probs,axis=1)\n",
    "model_1_preds"
   ]
  },
  {
   "cell_type": "code",
   "execution_count": 21,
   "id": "96d569f5",
   "metadata": {
    "colab": {
     "base_uri": "https://localhost:8080/"
    },
    "id": "96d569f5",
    "outputId": "fbf5c15a-ef6c-4ccb-eb74-f0680d93d06b"
   },
   "outputs": [
    {
     "data": {
      "text/plain": [
       "({'accuracy_score': 0.7218323844829869,\n",
       "  'precision_score': 0.7186466952323352,\n",
       "  'recall_score': 0.7218323844829869,\n",
       "  'f1_score': 0.6989250353450294},\n",
       " {'accuracy_score': 0.7850191976698001,\n",
       "  'precision_score': 0.781880412238866,\n",
       "  'recall_score': 0.7850191976698001,\n",
       "  'f1_score': 0.7826315676944716})"
      ]
     },
     "execution_count": 21,
     "metadata": {},
     "output_type": "execute_result"
    }
   ],
   "source": [
    "model_1_results = find_scores(val_label_encoded,model_1_preds)\n",
    "model_0_results,model_1_results,"
   ]
  },
  {
   "cell_type": "markdown",
   "id": "459a3f58",
   "metadata": {
    "id": "459a3f58"
   },
   "source": [
    "## Model 2 Architecture - Tensorflow Hub Pretrained Feature Extractor (269 - 270)\n",
    "![Model 2 Architecture](https://raw.githubusercontent.com/rkumar-bengaluru/data-science/main/20-Tensorflow/07-Skimlit/resources/model_2_architecture.jpg)"
   ]
  },
  {
   "cell_type": "code",
   "execution_count": 22,
   "id": "e13d93ab",
   "metadata": {
    "id": "e13d93ab"
   },
   "outputs": [
    {
     "name": "stdout",
     "output_type": "stream",
     "text": [
      "WARNING:tensorflow:Please fix your imports. Module tensorflow.python.training.tracking.data_structures has been moved to tensorflow.python.trackable.data_structures. The old module will be deleted in version 2.11.\n"
     ]
    },
    {
     "ename": "OSError",
     "evalue": "SavedModel file does not exist at: C:\\Users\\Rupak\\AppData\\Local\\Temp\\tfhub_modules\\063d866c06683311b44b4992fd46003be952409c\\{saved_model.pbtxt|saved_model.pb}",
     "output_type": "error",
     "traceback": [
      "\u001b[1;31m---------------------------------------------------------------------------\u001b[0m",
      "\u001b[1;31mOSError\u001b[0m                                   Traceback (most recent call last)",
      "Cell \u001b[1;32mIn[22], line 9\u001b[0m\n\u001b[0;32m      7\u001b[0m \u001b[38;5;28;01mwith\u001b[39;00m tf\u001b[38;5;241m.\u001b[39mdevice(\u001b[38;5;124m'\u001b[39m\u001b[38;5;124m/cpu:0\u001b[39m\u001b[38;5;124m'\u001b[39m):\n\u001b[0;32m      8\u001b[0m     use \u001b[38;5;241m=\u001b[39m \u001b[38;5;124m'\u001b[39m\u001b[38;5;124mhttps://tfhub.dev/google/universal-sentence-encoder/4\u001b[39m\u001b[38;5;124m'\u001b[39m\n\u001b[1;32m----> 9\u001b[0m     universal_sentence_encoder \u001b[38;5;241m=\u001b[39m \u001b[43mhub\u001b[49m\u001b[38;5;241;43m.\u001b[39;49m\u001b[43mKerasLayer\u001b[49m\u001b[43m(\u001b[49m\u001b[43muse\u001b[49m\u001b[43m,\u001b[49m\n\u001b[0;32m     10\u001b[0m \u001b[43m                              \u001b[49m\u001b[43mtrainable\u001b[49m\u001b[38;5;241;43m=\u001b[39;49m\u001b[38;5;28;43;01mFalse\u001b[39;49;00m\u001b[43m,\u001b[49m\n\u001b[0;32m     11\u001b[0m \u001b[43m                              \u001b[49m\u001b[43mname\u001b[49m\u001b[38;5;241;43m=\u001b[39;49m\u001b[38;5;124;43m'\u001b[39;49m\u001b[38;5;124;43muniversal_encoder_layer\u001b[39;49m\u001b[38;5;124;43m'\u001b[39;49m\u001b[43m)\u001b[49m\n",
      "File \u001b[1;32m~\\.conda\\envs\\tf\\lib\\site-packages\\tensorflow_hub\\keras_layer.py:146\u001b[0m, in \u001b[0;36mKerasLayer.__init__\u001b[1;34m(self, handle, trainable, arguments, _sentinel, tags, signature, signature_outputs_as_dict, output_key, output_shape, **kwargs)\u001b[0m\n\u001b[0;32m    140\u001b[0m \u001b[38;5;28;01mif\u001b[39;00m output_shape:\n\u001b[0;32m    141\u001b[0m   \u001b[38;5;66;03m# Autograph chokes on _convert_nest_to_shapes(), so we call it here\u001b[39;00m\n\u001b[0;32m    142\u001b[0m   \u001b[38;5;66;03m# and not from within call().\u001b[39;00m\n\u001b[0;32m    143\u001b[0m   \u001b[38;5;28mself\u001b[39m\u001b[38;5;241m.\u001b[39m_output_shape \u001b[38;5;241m=\u001b[39m data_structures\u001b[38;5;241m.\u001b[39mNoDependency(\n\u001b[0;32m    144\u001b[0m       _convert_nest_to_shapes(output_shape))\n\u001b[1;32m--> 146\u001b[0m \u001b[38;5;28mself\u001b[39m\u001b[38;5;241m.\u001b[39m_func \u001b[38;5;241m=\u001b[39m \u001b[43mload_module\u001b[49m\u001b[43m(\u001b[49m\u001b[43mhandle\u001b[49m\u001b[43m,\u001b[49m\u001b[43m \u001b[49m\u001b[43mtags\u001b[49m\u001b[43m)\u001b[49m\n\u001b[0;32m    147\u001b[0m \u001b[38;5;28mself\u001b[39m\u001b[38;5;241m.\u001b[39m_has_training_argument \u001b[38;5;241m=\u001b[39m func_has_training_argument(\u001b[38;5;28mself\u001b[39m\u001b[38;5;241m.\u001b[39m_func)\n\u001b[0;32m    148\u001b[0m \u001b[38;5;28mself\u001b[39m\u001b[38;5;241m.\u001b[39m_is_hub_module_v1 \u001b[38;5;241m=\u001b[39m \u001b[38;5;28mgetattr\u001b[39m(\u001b[38;5;28mself\u001b[39m\u001b[38;5;241m.\u001b[39m_func, \u001b[38;5;124m\"\u001b[39m\u001b[38;5;124m_is_hub_module_v1\u001b[39m\u001b[38;5;124m\"\u001b[39m, \u001b[38;5;28;01mFalse\u001b[39;00m)\n",
      "File \u001b[1;32m~\\.conda\\envs\\tf\\lib\\site-packages\\tensorflow_hub\\keras_layer.py:398\u001b[0m, in \u001b[0;36mload_module\u001b[1;34m(handle, tags)\u001b[0m\n\u001b[0;32m    396\u001b[0m   \u001b[38;5;28;01mreturn\u001b[39;00m handle\n\u001b[0;32m    397\u001b[0m \u001b[38;5;28;01melse\u001b[39;00m:\n\u001b[1;32m--> 398\u001b[0m   \u001b[38;5;28;01mreturn\u001b[39;00m \u001b[43mmodule_v2\u001b[49m\u001b[38;5;241;43m.\u001b[39;49m\u001b[43mload\u001b[49m\u001b[43m(\u001b[49m\u001b[43mhandle\u001b[49m\u001b[43m,\u001b[49m\u001b[43m \u001b[49m\u001b[43mtags\u001b[49m\u001b[38;5;241;43m=\u001b[39;49m\u001b[43mtags\u001b[49m\u001b[43m)\u001b[49m\n",
      "File \u001b[1;32m~\\.conda\\envs\\tf\\lib\\site-packages\\tensorflow_hub\\module_v2.py:102\u001b[0m, in \u001b[0;36mload\u001b[1;34m(handle, tags)\u001b[0m\n\u001b[0;32m    100\u001b[0m \u001b[38;5;28;01mif\u001b[39;00m tags \u001b[38;5;129;01mis\u001b[39;00m \u001b[38;5;28;01mNone\u001b[39;00m \u001b[38;5;129;01mand\u001b[39;00m is_hub_module_v1:\n\u001b[0;32m    101\u001b[0m     tags \u001b[38;5;241m=\u001b[39m []\n\u001b[1;32m--> 102\u001b[0m obj \u001b[38;5;241m=\u001b[39m \u001b[43mtf_v1\u001b[49m\u001b[38;5;241;43m.\u001b[39;49m\u001b[43msaved_model\u001b[49m\u001b[38;5;241;43m.\u001b[39;49m\u001b[43mload_v2\u001b[49m\u001b[43m(\u001b[49m\u001b[43mmodule_path\u001b[49m\u001b[43m,\u001b[49m\u001b[43m \u001b[49m\u001b[43mtags\u001b[49m\u001b[38;5;241;43m=\u001b[39;49m\u001b[43mtags\u001b[49m\u001b[43m)\u001b[49m\n\u001b[0;32m    103\u001b[0m obj\u001b[38;5;241m.\u001b[39m_is_hub_module_v1 \u001b[38;5;241m=\u001b[39m is_hub_module_v1  \u001b[38;5;66;03m# pylint: disable=protected-access\u001b[39;00m\n\u001b[0;32m    104\u001b[0m \u001b[38;5;28;01mreturn\u001b[39;00m obj\n",
      "File \u001b[1;32m~\\.conda\\envs\\tf\\lib\\site-packages\\tensorflow\\python\\saved_model\\load.py:800\u001b[0m, in \u001b[0;36mload\u001b[1;34m(export_dir, tags, options)\u001b[0m\n\u001b[0;32m    798\u001b[0m \u001b[38;5;28;01mif\u001b[39;00m \u001b[38;5;28misinstance\u001b[39m(export_dir, os\u001b[38;5;241m.\u001b[39mPathLike):\n\u001b[0;32m    799\u001b[0m   export_dir \u001b[38;5;241m=\u001b[39m os\u001b[38;5;241m.\u001b[39mfspath(export_dir)\n\u001b[1;32m--> 800\u001b[0m result \u001b[38;5;241m=\u001b[39m \u001b[43mload_partial\u001b[49m\u001b[43m(\u001b[49m\u001b[43mexport_dir\u001b[49m\u001b[43m,\u001b[49m\u001b[43m \u001b[49m\u001b[38;5;28;43;01mNone\u001b[39;49;00m\u001b[43m,\u001b[49m\u001b[43m \u001b[49m\u001b[43mtags\u001b[49m\u001b[43m,\u001b[49m\u001b[43m \u001b[49m\u001b[43moptions\u001b[49m\u001b[43m)\u001b[49m[\u001b[38;5;124m\"\u001b[39m\u001b[38;5;124mroot\u001b[39m\u001b[38;5;124m\"\u001b[39m]\n\u001b[0;32m    801\u001b[0m \u001b[38;5;28;01mreturn\u001b[39;00m result\n",
      "File \u001b[1;32m~\\.conda\\envs\\tf\\lib\\site-packages\\tensorflow\\python\\saved_model\\load.py:905\u001b[0m, in \u001b[0;36mload_partial\u001b[1;34m(export_dir, filters, tags, options)\u001b[0m\n\u001b[0;32m    900\u001b[0m \u001b[38;5;28;01mif\u001b[39;00m tags \u001b[38;5;129;01mis\u001b[39;00m \u001b[38;5;129;01mnot\u001b[39;00m \u001b[38;5;28;01mNone\u001b[39;00m \u001b[38;5;129;01mand\u001b[39;00m \u001b[38;5;129;01mnot\u001b[39;00m \u001b[38;5;28misinstance\u001b[39m(tags, \u001b[38;5;28mset\u001b[39m):\n\u001b[0;32m    901\u001b[0m   \u001b[38;5;66;03m# Supports e.g. tags=SERVING and tags=[SERVING]. Sets aren't considered\u001b[39;00m\n\u001b[0;32m    902\u001b[0m   \u001b[38;5;66;03m# sequences for nest.flatten, so we put those through as-is.\u001b[39;00m\n\u001b[0;32m    903\u001b[0m   tags \u001b[38;5;241m=\u001b[39m nest\u001b[38;5;241m.\u001b[39mflatten(tags)\n\u001b[0;32m    904\u001b[0m saved_model_proto, debug_info \u001b[38;5;241m=\u001b[39m (\n\u001b[1;32m--> 905\u001b[0m     \u001b[43mloader_impl\u001b[49m\u001b[38;5;241;43m.\u001b[39;49m\u001b[43mparse_saved_model_with_debug_info\u001b[49m\u001b[43m(\u001b[49m\u001b[43mexport_dir\u001b[49m\u001b[43m)\u001b[49m)\n\u001b[0;32m    907\u001b[0m \u001b[38;5;28;01mif\u001b[39;00m (\u001b[38;5;28mlen\u001b[39m(saved_model_proto\u001b[38;5;241m.\u001b[39mmeta_graphs) \u001b[38;5;241m==\u001b[39m \u001b[38;5;241m1\u001b[39m \u001b[38;5;129;01mand\u001b[39;00m\n\u001b[0;32m    908\u001b[0m     saved_model_proto\u001b[38;5;241m.\u001b[39mmeta_graphs[\u001b[38;5;241m0\u001b[39m]\u001b[38;5;241m.\u001b[39mHasField(\u001b[38;5;124m\"\u001b[39m\u001b[38;5;124mobject_graph_def\u001b[39m\u001b[38;5;124m\"\u001b[39m)):\n\u001b[0;32m    909\u001b[0m   metrics\u001b[38;5;241m.\u001b[39mIncrementReadApi(_LOAD_V2_LABEL)\n",
      "File \u001b[1;32m~\\.conda\\envs\\tf\\lib\\site-packages\\tensorflow\\python\\saved_model\\loader_impl.py:57\u001b[0m, in \u001b[0;36mparse_saved_model_with_debug_info\u001b[1;34m(export_dir)\u001b[0m\n\u001b[0;32m     44\u001b[0m \u001b[38;5;28;01mdef\u001b[39;00m \u001b[38;5;21mparse_saved_model_with_debug_info\u001b[39m(export_dir):\n\u001b[0;32m     45\u001b[0m   \u001b[38;5;124;03m\"\"\"Reads the savedmodel as well as the graph debug info.\u001b[39;00m\n\u001b[0;32m     46\u001b[0m \n\u001b[0;32m     47\u001b[0m \u001b[38;5;124;03m  Args:\u001b[39;00m\n\u001b[1;32m   (...)\u001b[0m\n\u001b[0;32m     55\u001b[0m \u001b[38;5;124;03m    parsed. Missing graph debug info file is fine.\u001b[39;00m\n\u001b[0;32m     56\u001b[0m \u001b[38;5;124;03m  \"\"\"\u001b[39;00m\n\u001b[1;32m---> 57\u001b[0m   saved_model \u001b[38;5;241m=\u001b[39m \u001b[43mparse_saved_model\u001b[49m\u001b[43m(\u001b[49m\u001b[43mexport_dir\u001b[49m\u001b[43m)\u001b[49m\n\u001b[0;32m     59\u001b[0m   debug_info_path \u001b[38;5;241m=\u001b[39m file_io\u001b[38;5;241m.\u001b[39mjoin(\n\u001b[0;32m     60\u001b[0m       saved_model_utils\u001b[38;5;241m.\u001b[39mget_debug_dir(export_dir),\n\u001b[0;32m     61\u001b[0m       constants\u001b[38;5;241m.\u001b[39mDEBUG_INFO_FILENAME_PB)\n\u001b[0;32m     62\u001b[0m   debug_info \u001b[38;5;241m=\u001b[39m graph_debug_info_pb2\u001b[38;5;241m.\u001b[39mGraphDebugInfo()\n",
      "File \u001b[1;32m~\\.conda\\envs\\tf\\lib\\site-packages\\tensorflow\\python\\saved_model\\loader_impl.py:115\u001b[0m, in \u001b[0;36mparse_saved_model\u001b[1;34m(export_dir)\u001b[0m\n\u001b[0;32m    113\u001b[0m     \u001b[38;5;28;01mraise\u001b[39;00m \u001b[38;5;167;01mIOError\u001b[39;00m(\u001b[38;5;124mf\u001b[39m\u001b[38;5;124m\"\u001b[39m\u001b[38;5;124mCannot parse file \u001b[39m\u001b[38;5;132;01m{\u001b[39;00mpath_to_pbtxt\u001b[38;5;132;01m}\u001b[39;00m\u001b[38;5;124m: \u001b[39m\u001b[38;5;132;01m{\u001b[39;00m\u001b[38;5;28mstr\u001b[39m(e)\u001b[38;5;132;01m}\u001b[39;00m\u001b[38;5;124m.\u001b[39m\u001b[38;5;124m\"\u001b[39m)\n\u001b[0;32m    114\u001b[0m \u001b[38;5;28;01melse\u001b[39;00m:\n\u001b[1;32m--> 115\u001b[0m   \u001b[38;5;28;01mraise\u001b[39;00m \u001b[38;5;167;01mIOError\u001b[39;00m(\n\u001b[0;32m    116\u001b[0m       \u001b[38;5;124mf\u001b[39m\u001b[38;5;124m\"\u001b[39m\u001b[38;5;124mSavedModel file does not exist at: \u001b[39m\u001b[38;5;132;01m{\u001b[39;00mexport_dir\u001b[38;5;132;01m}\u001b[39;00m\u001b[38;5;132;01m{\u001b[39;00mos\u001b[38;5;241m.\u001b[39mpath\u001b[38;5;241m.\u001b[39msep\u001b[38;5;132;01m}\u001b[39;00m\u001b[38;5;124m\"\u001b[39m\n\u001b[0;32m    117\u001b[0m       \u001b[38;5;124mf\u001b[39m\u001b[38;5;124m\"\u001b[39m\u001b[38;5;130;01m{{\u001b[39;00m\u001b[38;5;132;01m{\u001b[39;00mconstants\u001b[38;5;241m.\u001b[39mSAVED_MODEL_FILENAME_PBTXT\u001b[38;5;132;01m}\u001b[39;00m\u001b[38;5;124m|\u001b[39m\u001b[38;5;124m\"\u001b[39m\n\u001b[0;32m    118\u001b[0m       \u001b[38;5;124mf\u001b[39m\u001b[38;5;124m\"\u001b[39m\u001b[38;5;132;01m{\u001b[39;00mconstants\u001b[38;5;241m.\u001b[39mSAVED_MODEL_FILENAME_PB\u001b[38;5;132;01m}\u001b[39;00m\u001b[38;5;130;01m}}\u001b[39;00m\u001b[38;5;124m\"\u001b[39m)\n",
      "\u001b[1;31mOSError\u001b[0m: SavedModel file does not exist at: C:\\Users\\Rupak\\AppData\\Local\\Temp\\tfhub_modules\\063d866c06683311b44b4992fd46003be952409c\\{saved_model.pbtxt|saved_model.pb}"
     ]
    }
   ],
   "source": [
    "import tensorflow_hub as hub\n",
    "import random\n",
    "import tensorflow as tf\n",
    "from tensorflow.keras import Model\n",
    "from tensorflow.keras.layers import Input, Dense\n",
    "\n",
    "with tf.device('/cpu:0'):\n",
    "    use = 'https://tfhub.dev/google/universal-sentence-encoder/4'\n",
    "    universal_sentence_encoder = hub.KerasLayer(use,\n",
    "                              trainable=False,\n",
    "                              name='universal_encoder_layer')"
   ]
  },
  {
   "cell_type": "code",
   "execution_count": null,
   "id": "a2c17726",
   "metadata": {
    "colab": {
     "base_uri": "https://localhost:8080/"
    },
    "id": "a2c17726",
    "outputId": "fa48c945-dbe2-42f1-ef1a-c22a47205eab"
   },
   "outputs": [],
   "source": [
    "random_sentence = random.choice(train_sentences)\n",
    "print(f\"random sentence to encode with hub encoder \\n {random_sentence}\")\n",
    "random_sentence_encoded = universal_sentence_encoder([random_sentence])\n",
    "print(f\"shape of encoded sentence {random_sentence_encoded.shape}\")\n",
    "print(f\"encoded sentence \\n {random_sentence_encoded}\")"
   ]
  },
  {
   "cell_type": "code",
   "execution_count": null,
   "id": "cc10e4bd",
   "metadata": {
    "colab": {
     "base_uri": "https://localhost:8080/"
    },
    "id": "cc10e4bd",
    "outputId": "36b12151-80d0-4690-fd4e-b665711f3d45"
   },
   "outputs": [],
   "source": [
    "# create model 2\n",
    "inputs = Input(shape=[],dtype=tf.string,name='input_layer')\n",
    "pretrained_embedding = universal_sentence_encoder(inputs)\n",
    "dense = Dense(128,activation='relu',name='fully_connected_layer')(pretrained_embedding)\n",
    "outputs = Dense(5,activation='softmax',name='output_layer')(dense)\n",
    "model_2 = Model(inputs=inputs,\n",
    "               outputs=outputs,\n",
    "               name='model_2_use_feature_extractor')\n",
    "model_2.compile(loss='categorical_crossentropy',\n",
    "               optimizer=tf.keras.optimizers.Adam(),\n",
    "               metrics=['accuracy'])\n",
    "model_2.summary()"
   ]
  },
  {
   "cell_type": "code",
   "execution_count": null,
   "id": "c1c649ed",
   "metadata": {
    "colab": {
     "base_uri": "https://localhost:8080/"
    },
    "id": "c1c649ed",
    "outputId": "6dff59c8-9a07-4f96-a0b3-3eaa49f5544c"
   },
   "outputs": [],
   "source": [
    "model_2_history = fit_the_model(model_2)"
   ]
  },
  {
   "cell_type": "code",
   "execution_count": null,
   "id": "4eaa169b",
   "metadata": {
    "colab": {
     "base_uri": "https://localhost:8080/"
    },
    "id": "4eaa169b",
    "outputId": "5a8bf13c-013a-4d04-9254-1d89efe1341b"
   },
   "outputs": [],
   "source": [
    "model_2.evaluate(val_dataset)"
   ]
  },
  {
   "cell_type": "code",
   "execution_count": null,
   "id": "5f5ea285",
   "metadata": {
    "colab": {
     "base_uri": "https://localhost:8080/"
    },
    "id": "5f5ea285",
    "outputId": "44f21f20-1113-4275-8bfa-ae8c44a52f49"
   },
   "outputs": [],
   "source": [
    "model_2_pred_probs = model_2.predict(val_dataset)\n",
    "model_2_pred_probs"
   ]
  },
  {
   "cell_type": "code",
   "execution_count": null,
   "id": "549d25f5",
   "metadata": {
    "colab": {
     "base_uri": "https://localhost:8080/"
    },
    "id": "549d25f5",
    "outputId": "2164f808-22df-416e-b0c2-18364c58db5e"
   },
   "outputs": [],
   "source": [
    "model_2_pred = tf.argmax(model_2_pred_probs,axis=1)\n",
    "model_2_pred"
   ]
  },
  {
   "cell_type": "code",
   "execution_count": null,
   "id": "827c8e23",
   "metadata": {
    "id": "827c8e23"
   },
   "outputs": [],
   "source": [
    "model_2_results = find_scores(val_label_encoded,model_2_pred)"
   ]
  },
  {
   "cell_type": "code",
   "execution_count": null,
   "id": "801a37bb",
   "metadata": {
    "colab": {
     "base_uri": "https://localhost:8080/"
    },
    "id": "801a37bb",
    "outputId": "b0a2c232-c367-4989-ea19-b8fa28db7b93"
   },
   "outputs": [],
   "source": [
    "model_2_results,model_1_results,model_0_results"
   ]
  },
  {
   "cell_type": "markdown",
   "id": "b53053f8",
   "metadata": {
    "id": "b53053f8"
   },
   "source": [
    "## Model-3 : Conv1D with character embedding\n",
    "\n",
    "![Model 3 Architecture](https://raw.githubusercontent.com/rkumar-bengaluru/data-science/main/20-Tensorflow/07-Skimlit/resources/model_3_architecture.jpg)"
   ]
  },
  {
   "cell_type": "markdown",
   "id": "225b796f",
   "metadata": {
    "id": "225b796f"
   },
   "source": [
    "### Character Embedding Layer (271 - 272)"
   ]
  },
  {
   "cell_type": "code",
   "execution_count": null,
   "id": "96334d88",
   "metadata": {
    "colab": {
     "base_uri": "https://localhost:8080/",
     "height": 105
    },
    "id": "96334d88",
    "outputId": "f9a6dc79-9da0-424a-c32c-f67a12b0b6cc"
   },
   "outputs": [],
   "source": [
    "import random\n",
    "from tensorflow.data import Dataset\n",
    "# prepare data\n",
    "def split_chars(sentence):\n",
    "    return ' '.join(list(sentence))\n",
    "\n",
    "\n",
    "training_char_sentences = [split_chars(sentence.lower()) for sentence in train_sentences]\n",
    "val_char_sentences      = [split_chars(sentence.lower()) for sentence in val_sentences]\n",
    "test_char_sentences     = [split_chars(sentence.lower()) for sentence in test_sentences]\n",
    "training_char_sentences[0]"
   ]
  },
  {
   "cell_type": "code",
   "execution_count": null,
   "id": "KKm_wY2uI-p4",
   "metadata": {
    "colab": {
     "base_uri": "https://localhost:8080/"
    },
    "id": "KKm_wY2uI-p4",
    "outputId": "db626559-764e-46d3-b1bf-76a2fd341f03"
   },
   "outputs": [],
   "source": [
    "len(train_sentences[0]), len(training_char_sentences[0])"
   ]
  },
  {
   "cell_type": "code",
   "execution_count": null,
   "id": "hf0LOrSjiTsq",
   "metadata": {
    "colab": {
     "base_uri": "https://localhost:8080/"
    },
    "id": "hf0LOrSjiTsq",
    "outputId": "23ff8044-2bb4-4445-9444-c470531aac4d"
   },
   "outputs": [],
   "source": [
    "!nvidia-smi"
   ]
  },
  {
   "cell_type": "code",
   "execution_count": null,
   "id": "c2eb3e97",
   "metadata": {
    "colab": {
     "base_uri": "https://localhost:8080/"
    },
    "id": "c2eb3e97",
    "outputId": "7976e7aa-3750-41fc-f94a-199b79ff391a"
   },
   "outputs": [],
   "source": [
    "from tensorflow.keras.layers import TextVectorization\n",
    "from tensorflow.data import Dataset\n",
    "import string\n",
    "import numpy as np\n",
    "\n",
    "lengths_of_sentences = [len(sentence) for sentence in training_char_sentences]\n",
    "# find no of tokens to take to cover 95 % of the data\n",
    "max_length = int(np.percentile(lengths_of_sentences,95)) # sequence length to pad the outputs to\n",
    "print(f\"number of tokens to consider {max_length} \")\n",
    "# find vocab length\n",
    "all_printable = string.ascii_lowercase + string.digits + string.punctuation\n",
    "max_features = len(all_printable); # no of characters in the vocabulary\n",
    "char_vectorizer = TextVectorization(max_tokens=max_features,\n",
    "                                   output_sequence_length=max_length,\n",
    "                                   name='character_vectorization')\n",
    "\n",
    "#test_char_dataset  = Dataset.from_tensor_slices((test_char_sentences,test_label_one_hot)).batch(32).prefetch(tf.data.AUTOTUNE)\n",
    "\n",
    "char_vectorizer.adapt(training_char_sentences)\n",
    "vocab = char_vectorizer.get_vocabulary()\n",
    "sample_char_sentence = random.choice(training_char_sentences)\n",
    "print(f\"vocabulary \\n {vocab}\")\n",
    "print(f\"vocabulary length \\n {len(vocab)}\")\n",
    "sample_sentence_encoded = char_vectorizer([sample_char_sentence])\n",
    "print(f\"encoded random sample \\n {sample_sentence_encoded}\")\n",
    "print(f\"shape of encoded sample char sentence \\n {sample_sentence_encoded.shape}\")"
   ]
  },
  {
   "cell_type": "code",
   "execution_count": null,
   "id": "b0b39041",
   "metadata": {
    "colab": {
     "base_uri": "https://localhost:8080/"
    },
    "id": "b0b39041",
    "outputId": "7cc1b1c2-8e30-4e2a-df2d-1a1d2052df03"
   },
   "outputs": [],
   "source": [
    "# embedding layer\n",
    "from tensorflow.keras.layers import Embedding\n",
    "\n",
    "char_embedding = Embedding(input_dim=len(vocab),\n",
    "                          output_dim=25,\n",
    "                          mask_zero=True,\n",
    "                          name='char_embedding_layer')\n",
    "char_embedding_sample = char_embedding(sample_sentence_encoded)\n",
    "char_embedding_sample"
   ]
  },
  {
   "cell_type": "markdown",
   "id": "1fd96d1c",
   "metadata": {
    "id": "1fd96d1c"
   },
   "source": [
    "### Create Full Model (273)"
   ]
  },
  {
   "cell_type": "code",
   "execution_count": null,
   "id": "f3e6425b",
   "metadata": {
    "id": "f3e6425b"
   },
   "outputs": [],
   "source": [
    "import tensorflow as tf\n",
    "from tensorflow.keras import Model\n",
    "from tensorflow.keras.layers import Input,Dense, Conv1D, GlobalMaxPooling1D\n",
    "from tensorflow.keras.optimizers import Adam\n",
    "\n",
    "inputs = Input(shape=(1,),dtype=tf.string,name='input_layer')\n",
    "char_vectors = char_vectorizer(inputs)\n",
    "char_embeddings = char_embedding(char_vectors)\n",
    "x = Conv1D(filters=64,\n",
    "          kernel_size=5,\n",
    "          padding='same',\n",
    "          activation='relu',\n",
    "          name='conv_1d_layer')(char_embeddings)\n",
    "x = GlobalMaxPooling1D(name='GlobalAveragePooling1D')(x)\n",
    "outputs = Dense(units=5,activation='softmax',name='full_connected')(x)\n",
    "model_3 = Model(inputs,outputs)"
   ]
  },
  {
   "cell_type": "code",
   "execution_count": null,
   "id": "8614ad44",
   "metadata": {
    "id": "8614ad44"
   },
   "outputs": [],
   "source": [
    "# compile the model\n",
    "model_3.compile(loss='categorical_crossentropy',\n",
    "               optimizer=Adam(),\n",
    "               metrics=['accuracy'])"
   ]
  },
  {
   "cell_type": "markdown",
   "id": "fbd6c19c",
   "metadata": {
    "id": "fbd6c19c"
   },
   "source": [
    "### Model Summary"
   ]
  },
  {
   "cell_type": "code",
   "execution_count": null,
   "id": "1a5eabe4",
   "metadata": {
    "colab": {
     "base_uri": "https://localhost:8080/"
    },
    "id": "1a5eabe4",
    "outputId": "88d604f7-ab4d-4323-9d03-163868f41495"
   },
   "outputs": [],
   "source": [
    "model_3.summary()"
   ]
  },
  {
   "cell_type": "markdown",
   "id": "507958c7",
   "metadata": {
    "id": "507958c7"
   },
   "source": [
    "### Fit the Model"
   ]
  },
  {
   "cell_type": "code",
   "execution_count": null,
   "id": "886041e2",
   "metadata": {
    "colab": {
     "base_uri": "https://localhost:8080/"
    },
    "id": "886041e2",
    "outputId": "e84f466c-3940-401b-ad9b-fb82c8115dd8"
   },
   "outputs": [],
   "source": [
    "train_char_dataset = Dataset.from_tensor_slices((training_char_sentences,train_label_one_hot)).batch(32).prefetch(tf.data.AUTOTUNE)\n",
    "val_char_dataset   = Dataset.from_tensor_slices((val_char_sentences,val_label_one_hot)).batch(32).prefetch(tf.data.AUTOTUNE)\n",
    "train_char_dataset"
   ]
  },
  {
   "cell_type": "code",
   "execution_count": null,
   "id": "XeZqWo04L0GJ",
   "metadata": {
    "colab": {
     "base_uri": "https://localhost:8080/"
    },
    "id": "XeZqWo04L0GJ",
    "outputId": "a5f874af-5cb3-4ee3-e5c0-b68cf0c94d53"
   },
   "outputs": [],
   "source": [
    "model_3_history = model_3.fit(train_char_dataset,\n",
    "                              steps_per_epoch=int(0.1 * len(train_char_dataset)),\n",
    "                              epochs=3,\n",
    "                              validation_data = val_char_dataset,\n",
    "                              validation_steps=int(0.1* len(val_char_dataset)))"
   ]
  },
  {
   "cell_type": "markdown",
   "id": "08dea307",
   "metadata": {
    "id": "08dea307"
   },
   "source": [
    "### Evaluate the Model"
   ]
  },
  {
   "cell_type": "code",
   "execution_count": null,
   "id": "2fdea782",
   "metadata": {
    "colab": {
     "base_uri": "https://localhost:8080/"
    },
    "id": "2fdea782",
    "outputId": "d6d70add-8fda-45f2-836b-2fe61bc29017"
   },
   "outputs": [],
   "source": [
    "model_3.evaluate(val_char_dataset)"
   ]
  },
  {
   "cell_type": "code",
   "execution_count": null,
   "id": "qR8YlESUMUPa",
   "metadata": {
    "colab": {
     "base_uri": "https://localhost:8080/"
    },
    "id": "qR8YlESUMUPa",
    "outputId": "ef698c03-ce94-490a-a0ea-d83c1dca59f8"
   },
   "outputs": [],
   "source": [
    "model_3_pred_probs = model_3.predict(val_char_dataset)\n",
    "model_3_pred_probs"
   ]
  },
  {
   "cell_type": "code",
   "execution_count": null,
   "id": "kZvjJ1bdMeEh",
   "metadata": {
    "colab": {
     "base_uri": "https://localhost:8080/"
    },
    "id": "kZvjJ1bdMeEh",
    "outputId": "a76aab34-8ed2-4b5f-8cc1-e29d3fcc2ac0"
   },
   "outputs": [],
   "source": [
    "model_3_preds = tf.argmax(model_3_pred_probs,axis=1)\n",
    "model_3_preds"
   ]
  },
  {
   "cell_type": "code",
   "execution_count": null,
   "id": "4wpD5udUMmHj",
   "metadata": {
    "colab": {
     "base_uri": "https://localhost:8080/"
    },
    "id": "4wpD5udUMmHj",
    "outputId": "a3309329-e6a7-4ac3-b530-7b1e761405a5"
   },
   "outputs": [],
   "source": [
    "model_3_results = find_scores(val_label_encoded,model_3_preds)\n",
    "model_3_results"
   ]
  },
  {
   "cell_type": "markdown",
   "id": "2a858483",
   "metadata": {
    "id": "pr-qyPsHMyf_"
   },
   "source": [
    "## Model 4 - Combine Token Embedding and Character Embedding (274 - 278)\n",
    "\n",
    "* Create token embedding using pretrained model.\n",
    "* Create character embedding \n",
    "* Combine token embedding and character embedding with **layers.Concatenate**\n",
    "* Build a series of output layer on top of Concatenated layer.\n",
    "* Construct a model which takes token and character level sequences as input and produces sequence label prbabilities as output"
   ]
  },
  {
   "cell_type": "code",
   "execution_count": null,
   "id": "073b3260",
   "metadata": {},
   "outputs": [],
   "source": [
    "!dir pubmed-rct\\PubMed_20k_RCT_numbers_replaced_with_at_sign"
   ]
  },
  {
   "cell_type": "markdown",
   "id": "459775a1",
   "metadata": {},
   "source": [
    "### Prepare Data for Model 4"
   ]
  },
  {
   "cell_type": "code",
   "execution_count": null,
   "id": "27e10200",
   "metadata": {},
   "outputs": [],
   "source": [
    "import os\n",
    "import pandas as pd\n",
    "\n",
    "train_file = 'pubmed-rct/PubMed_20k_RCT_numbers_replaced_with_at_sign/train.txt'\n",
    "val_file = 'pubmed-rct/PubMed_20k_RCT_numbers_replaced_with_at_sign/dev.txt'\n",
    "test_file = 'pubmed-rct/PubMed_20k_RCT_numbers_replaced_with_at_sign/test.txt'\n",
    "\n",
    "def create_data_for_model4(file_to_load):\n",
    "    lines = open(file_to_load,'r').readlines()\n",
    "    data = []\n",
    "    line_number = 0\n",
    "    abstract_lines = \"\"\n",
    "    \n",
    "    for line in lines:\n",
    "        if line.startswith('###'):\n",
    "            abstract_lines = \"\"\n",
    "        elif line.isspace():\n",
    "            # do the \n",
    "            all_abstract = abstract_lines.splitlines()\n",
    "            line_number = 0\n",
    "            for abstract in all_abstract:\n",
    "                splits = abstract.split('\\t')\n",
    "                target,text = splits[0],splits[1]\n",
    "                total_lines = len(all_abstract) -1\n",
    "                data.append({'line_number' : line_number,\n",
    "                            'target' : target,\n",
    "                            'text': text.lower(),\n",
    "                            'total_lines': total_lines})\n",
    "                line_number = line_number + 1\n",
    "        else:\n",
    "            abstract_lines += line\n",
    "    return data\n",
    "            \n",
    "train_sentences_model4 = create_data_for_model4(train_file)\n",
    "val_sentences_model4 = create_data_for_model4(val_file)\n",
    "test_sentences_model4 = create_data_for_model4(test_file)\n",
    "# create dataframe\n",
    "train_df_model4 = pd.DataFrame(train_sentences_model4)\n",
    "val_df_model4 = pd.DataFrame(val_sentences_model4)\n",
    "test_df_model4 = pd.DataFrame(test_sentences_model4)"
   ]
  },
  {
   "cell_type": "code",
   "execution_count": null,
   "id": "3b495853",
   "metadata": {},
   "outputs": [],
   "source": [
    "# create tensorflow dataset\n",
    "train_df_model4.head()"
   ]
  },
  {
   "cell_type": "code",
   "execution_count": null,
   "id": "8264f90a",
   "metadata": {},
   "outputs": [],
   "source": []
  }
 ],
 "metadata": {
  "accelerator": "GPU",
  "colab": {
   "gpuType": "T4",
   "provenance": [],
   "toc_visible": true
  },
  "kernelspec": {
   "display_name": "Python 3 (ipykernel)",
   "language": "python",
   "name": "python3"
  },
  "language_info": {
   "codemirror_mode": {
    "name": "ipython",
    "version": 3
   },
   "file_extension": ".py",
   "mimetype": "text/x-python",
   "name": "python",
   "nbconvert_exporter": "python",
   "pygments_lexer": "ipython3",
   "version": "3.8.10"
  }
 },
 "nbformat": 4,
 "nbformat_minor": 5
}
