{
 "cells": [
  {
   "cell_type": "markdown",
   "id": "6a532c6d",
   "metadata": {
    "id": "6a532c6d"
   },
   "source": [
    "# Pubmed sequential sentence classification\n",
    "\n",
    "* Research Paper - https://arxiv.org/abs/1710.06071"
   ]
  },
  {
   "cell_type": "markdown",
   "id": "a93c67a8",
   "metadata": {
    "id": "a93c67a8"
   },
   "source": [
    "## Goal - (255 - 256)\n",
    "\n",
    "* Download a text dataset (PubMed 200K RCT)\n",
    "* Write a preprocessing function for our test data\n",
    "* One Hot Encoding & Label Encoding.\n",
    "* Setting up multiple modelling experiments with different levels of embedding\n",
    "* Building a **multimodal model** to take in different sources of data\n",
    "  * Replicating the model discussed in this paper (https://arxiv.org/abs/1710.06071)\n",
    "  * Actual model description (https://arxiv.org/abs/1612.05251)\n",
    "* Finding the most wrong predictions\n",
    "* Reference Model\n",
    "\n",
    "![Reference Model](https://raw.githubusercontent.com/rkumar-bengaluru/data-science/main/20-Tensorflow/07-Skimlit/model.jpg)"
   ]
  },
  {
   "cell_type": "markdown",
   "id": "ea59c3b7",
   "metadata": {
    "id": "ea59c3b7"
   },
   "source": [
    "## SkimLit Inputs and Outputs (257) - Ignore"
   ]
  },
  {
   "cell_type": "markdown",
   "id": "b2bceb91",
   "metadata": {
    "id": "b2bceb91"
   },
   "source": [
    "## Get the data (258 - 259)\n",
    "\n",
    "Download the dataset for pubmed 200K RCT from https://github.com/Franck-Dernoncourt/pubmed-rct"
   ]
  },
  {
   "cell_type": "code",
   "execution_count": 1,
   "id": "5beb35ef",
   "metadata": {
    "colab": {
     "base_uri": "https://localhost:8080/"
    },
    "id": "5beb35ef",
    "outputId": "7dffb1d6-0628-4e01-fcfc-60e0c749848d"
   },
   "outputs": [
    {
     "name": "stderr",
     "output_type": "stream",
     "text": [
      "fatal: destination path 'pubmed-rct' already exists and is not an empty directory.\n"
     ]
    }
   ],
   "source": [
    "!git clone https://github.com/Franck-Dernoncourt/pubmed-rct"
   ]
  },
  {
   "cell_type": "code",
   "execution_count": 2,
   "id": "397d30d9",
   "metadata": {
    "colab": {
     "base_uri": "https://localhost:8080/"
    },
    "id": "397d30d9",
    "outputId": "122342d2-ebf1-4857-de79-b5f97f542881"
   },
   "outputs": [
    {
     "name": "stdout",
     "output_type": "stream",
     "text": [
      " Volume in drive C is OS\n",
      " Volume Serial Number is 30F4-96C0\n",
      "\n",
      " Directory of C:\\2023\\data-science\\20-Tensorflow\\07-Skimlit\\pubmed-rct\n",
      "\n",
      "04-05-2023  13:08    <DIR>          .\n",
      "27-05-2023  13:51    <DIR>          ..\n",
      "04-05-2023  13:08    <DIR>          PubMed_200k_RCT\n",
      "04-05-2023  13:08    <DIR>          PubMed_200k_RCT_numbers_replaced_with_at_sign\n",
      "04-05-2023  13:08    <DIR>          PubMed_20k_RCT\n",
      "04-05-2023  13:08    <DIR>          PubMed_20k_RCT_numbers_replaced_with_at_sign\n",
      "04-05-2023  13:08             2,403 README.md\n",
      "               1 File(s)          2,403 bytes\n",
      "               6 Dir(s)  338,265,780,224 bytes free\n"
     ]
    }
   ],
   "source": [
    "!dir pubmed-rct"
   ]
  },
  {
   "cell_type": "code",
   "execution_count": 3,
   "id": "33f36bb2",
   "metadata": {
    "colab": {
     "base_uri": "https://localhost:8080/"
    },
    "id": "33f36bb2",
    "outputId": "b3220877-a240-4ec2-e3d0-6a8cbd54188c"
   },
   "outputs": [
    {
     "name": "stdout",
     "output_type": "stream",
     "text": [
      "['pubmed-rct/PubMed_20k_RCT_numbers_replaced_with_at_sign/dev.txt', 'pubmed-rct/PubMed_20k_RCT_numbers_replaced_with_at_sign/test.txt', 'pubmed-rct/PubMed_20k_RCT_numbers_replaced_with_at_sign/train.txt']\n"
     ]
    }
   ],
   "source": [
    "import os\n",
    "\n",
    "# root data directory\n",
    "data_dir = 'pubmed-rct/PubMed_20k_RCT_numbers_replaced_with_at_sign/'\n",
    "# list of file names\n",
    "filenames = [data_dir + filename for filename in os.listdir(data_dir)]\n",
    "print(filenames)"
   ]
  },
  {
   "cell_type": "markdown",
   "id": "d23605a6",
   "metadata": {
    "id": "d23605a6"
   },
   "source": [
    "### Preprocess Data (260)\n",
    "\n",
    "Write a function which will read each line of the file and create the below structure:\n",
    "\n",
    "```\n",
    "[{ 'line_number' : 0,\n",
    "   'target'  : 'first few characters till \\t tab character',\n",
    "   'text'   : 'full text after \\t character till end of line character \\n',\n",
    "   'total_lines' : \n",
    " },\n",
    " ...\n",
    "]\n",
    "```\n",
    "\n",
    "Ignore line starting with ### and repeat the same for train_data, validation_data and test_data"
   ]
  },
  {
   "cell_type": "code",
   "execution_count": 4,
   "id": "11189c0b",
   "metadata": {
    "colab": {
     "base_uri": "https://localhost:8080/"
    },
    "id": "11189c0b",
    "outputId": "11110a36-2f53-41f8-bf1a-95b33dc38f22"
   },
   "outputs": [
    {
     "name": "stdout",
     "output_type": "stream",
     "text": [
      "size of train lines is 210040\n",
      "size of validation lines is 35212\n",
      "size of test lines is 35135\n",
      "size of train data is 180040\n",
      "size of validation data is 30212\n",
      "size of test data is 30135\n"
     ]
    }
   ],
   "source": [
    "import os\n",
    "\n",
    "def get_lines(file_name):\n",
    "    \"\"\"\n",
    "    Reads the file_name and returns the content of the file as list\n",
    "    \"\"\"\n",
    "    with open(file_name) as f:\n",
    "        lines = f.readlines()\n",
    "    return lines\n",
    "\n",
    "validation_lines = get_lines(filenames[0])\n",
    "test_lines = get_lines(filenames[1])\n",
    "train_lines = get_lines(filenames[2])\n",
    "\n",
    "print(f\"size of train lines is {len(train_lines)}\")\n",
    "print(f\"size of validation lines is {len(validation_lines)}\")\n",
    "print(f\"size of test lines is {len(test_lines)}\")\n",
    "\n",
    "def create_data_set(lines):\n",
    "    data = []\n",
    "    items = []\n",
    "    index = 0\n",
    "    for line in lines:\n",
    "        \n",
    "        if line.startswith('\\n'):\n",
    "            for item in items:\n",
    "                item['total_lines'] = index -1\n",
    "                data.append(item)\n",
    "            index = 0\n",
    "            items = []\n",
    "        else:\n",
    "            tokens = line.split('\\t')\n",
    "        \n",
    "            if len(tokens) > 1:\n",
    "                item = {'line_number':index,'target': tokens[0],'text':tokens[1].strip() ,'total_lines' :index}\n",
    "                items.append(item)\n",
    "                index = index + 1\n",
    "    return data\n",
    "\n",
    "train_data = create_data_set(train_lines)\n",
    "validation_data = create_data_set(validation_lines)\n",
    "test_data = create_data_set(test_lines)\n",
    "\n",
    "print(f\"size of train data is {len(train_data)}\")\n",
    "print(f\"size of validation data is {len(validation_data)}\")\n",
    "print(f\"size of test data is {len(test_data)}\")\n"
   ]
  },
  {
   "cell_type": "markdown",
   "id": "76907385",
   "metadata": {
    "id": "76907385"
   },
   "source": [
    "### Visualize Data (261)\n",
    "\n",
    "Use pandas dataframe"
   ]
  },
  {
   "cell_type": "code",
   "execution_count": 5,
   "id": "c4870cb5",
   "metadata": {
    "colab": {
     "base_uri": "https://localhost:8080/",
     "height": 795
    },
    "id": "c4870cb5",
    "outputId": "626d6932-31f2-4d1a-e7fe-0fe667ea0eac"
   },
   "outputs": [
    {
     "name": "stdout",
     "output_type": "stream",
     "text": [
      "head of train data\n",
      "   line_number     target                                               text  \\\n",
      "0            0  OBJECTIVE  To investigate the efficacy of @ weeks of dail...   \n",
      "1            1    METHODS  A total of @ patients with primary knee OA wer...   \n",
      "2            2    METHODS  Outcome measures included pain reduction and i...   \n",
      "3            3    METHODS  Pain was assessed using the visual analog pain...   \n",
      "4            4    METHODS  Secondary outcome measures included the Wester...   \n",
      "\n",
      "   total_lines  \n",
      "0           11  \n",
      "1           11  \n",
      "2           11  \n",
      "3           11  \n",
      "4           11  \n",
      "unique counts of each target\n",
      "METHODS        59353\n",
      "RESULTS        57953\n",
      "CONCLUSIONS    27168\n",
      "BACKGROUND     21727\n",
      "OBJECTIVE      13839\n",
      "Name: target, dtype: int64\n"
     ]
    },
    {
     "data": {
      "image/png": "[encoded data removed]",
      "text/plain": [
       "<Figure size 640x480 with 1 Axes>"
      ]
     },
     "metadata": {},
     "output_type": "display_data"
    }
   ],
   "source": [
    "# Visualize data with data frame.\n",
    "\n",
    "import pandas as pd\n",
    "import matplotlib.pyplot as plt\n",
    "\n",
    "train_df = pd.DataFrame(train_data)\n",
    "val_df   = pd.DataFrame(validation_data)\n",
    "test_df  = pd.DataFrame(test_data)\n",
    "# print the head\n",
    "print('head of train data')\n",
    "print(train_df.head())\n",
    "print('unique counts of each target')\n",
    "print(train_df['target'].value_counts())\n",
    "# length of different lines\n",
    "train_df.total_lines.plot.hist();\n"
   ]
  },
  {
   "cell_type": "code",
   "execution_count": 6,
   "id": "1e6b8de9",
   "metadata": {
    "colab": {
     "base_uri": "https://localhost:8080/"
    },
    "id": "1e6b8de9",
    "outputId": "a84df29a-92e5-46cf-ba82-982f78a1769d"
   },
   "outputs": [
    {
     "name": "stdout",
     "output_type": "stream",
     "text": [
      "train sentences length 180040\n",
      "val sentences length 30212\n",
      "test sentences length 30135\n"
     ]
    }
   ],
   "source": [
    "# convert to list\n",
    "train_sentences = train_df['text'].tolist()\n",
    "val_sentences   = val_df['text'].tolist()\n",
    "test_sentences  = test_df['text'].tolist()\n",
    "print(f\"train sentences length {len(train_sentences)}\")\n",
    "print(f\"val sentences length {len(val_sentences)}\")\n",
    "print(f\"test sentences length {len(test_sentences)}\")"
   ]
  },
  {
   "cell_type": "markdown",
   "id": "53fbbd61",
   "metadata": {
    "id": "53fbbd61"
   },
   "source": [
    "## One Hot Encoding & Label Encoding (262)"
   ]
  },
  {
   "cell_type": "code",
   "execution_count": 7,
   "id": "0d9366ae",
   "metadata": {
    "colab": {
     "base_uri": "https://localhost:8080/"
    },
    "id": "0d9366ae",
    "outputId": "909a8032-76ee-43b6-820a-777f5644b759"
   },
   "outputs": [
    {
     "name": "stdout",
     "output_type": "stream",
     "text": [
      "one hot encoding\n",
      "tf.Tensor([0. 0. 0. 1. 0.], shape=(5,), dtype=float64) tf.Tensor([1. 0. 0. 0. 0.], shape=(5,), dtype=float64) tf.Tensor([1. 0. 0. 0. 0.], shape=(5,), dtype=float64)\n",
      "label encoding...\n",
      "3 0 0\n",
      "classnames\n",
      "class name =  ['BACKGROUND' 'CONCLUSIONS' 'METHODS' 'OBJECTIVE' 'RESULTS'] length of classes = 5\n"
     ]
    },
    {
     "name": "stderr",
     "output_type": "stream",
     "text": [
      "C:\\Users\\Rupak\\.conda\\envs\\tf\\lib\\site-packages\\sklearn\\preprocessing\\_label.py:116: DataConversionWarning: A column-vector y was passed when a 1d array was expected. Please change the shape of y to (n_samples, ), for example using ravel().\n",
      "  y = column_or_1d(y, warn=True)\n",
      "C:\\Users\\Rupak\\.conda\\envs\\tf\\lib\\site-packages\\sklearn\\preprocessing\\_label.py:134: DataConversionWarning: A column-vector y was passed when a 1d array was expected. Please change the shape of y to (n_samples, ), for example using ravel().\n",
      "  y = column_or_1d(y, dtype=self.classes_.dtype, warn=True)\n"
     ]
    }
   ],
   "source": [
    "import sklearn\n",
    "from sklearn.preprocessing import OneHotEncoder,LabelEncoder\n",
    "import tensorflow as tf\n",
    "\n",
    "#tf.debugging.set_log_device_placement(True)\n",
    "\n",
    "onehot = OneHotEncoder(sparse_output=False)\n",
    "train_label_one_hot = tf.constant(onehot.fit_transform(train_df['target'].to_numpy().reshape(-1,1)))\n",
    "val_label_one_hot    = tf.constant(onehot.transform(val_df['target'].to_numpy().reshape(-1,1)))\n",
    "test_label_one_hot   = tf.constant(onehot.transform(test_df['target'].to_numpy().reshape(-1,1)))\n",
    "print('one hot encoding')\n",
    "print(train_label_one_hot[0],val_label_one_hot[0],test_label_one_hot[0])\n",
    "\n",
    "# label encoder\n",
    "labelencode = LabelEncoder()\n",
    "train_label_encoded = labelencode.fit_transform(train_df['target'].to_numpy().reshape(-1,1))\n",
    "val_label_encoded = labelencode.transform(val_df['target'].to_numpy().reshape(-1,1))\n",
    "test_label_encoded = labelencode.transform(test_df['target'].to_numpy().reshape(-1,1))\n",
    "print('label encoding...')\n",
    "print(train_label_encoded[0],val_label_encoded[0],test_label_encoded[0])\n",
    "\n",
    "print('classnames')\n",
    "classnames = labelencode.classes_\n",
    "print('class name = ', classnames, 'length of classes =', len(classnames))"
   ]
  },
  {
   "cell_type": "markdown",
   "id": "67375053",
   "metadata": {
    "id": "67375053"
   },
   "source": [
    "## Experiments to be Conducted (262)\n",
    "\n",
    "![Experiments](https://raw.githubusercontent.com/rkumar-bengaluru/data-science/main/20-Tensorflow/07-Skimlit/resources/experiments.jpg)"
   ]
  },
  {
   "cell_type": "markdown",
   "id": "1cb022b8",
   "metadata": {
    "id": "1cb022b8"
   },
   "source": [
    "## Model 0 - Naive Bayes with TF-IDF Encoder (263)\n",
    "\n",
    "* Selection Method\n",
    "![Machine Learning Map](https://raw.githubusercontent.com/rkumar-bengaluru/data-science/main/20-Tensorflow/07-Skimlit/resources/ml_map.png)"
   ]
  },
  {
   "cell_type": "code",
   "execution_count": 8,
   "id": "94ea3376",
   "metadata": {
    "colab": {
     "base_uri": "https://localhost:8080/"
    },
    "id": "94ea3376",
    "outputId": "5ac04c2c-a1e1-4378-8295-7a96c40dd036"
   },
   "outputs": [
    {
     "name": "stdout",
     "output_type": "stream",
     "text": [
      "{'accuracy_score': 0.7218323844829869, 'precision_score': 0.7186466952323352, 'recall_score': 0.7218323844829869, 'f1_score': 0.6989250353450294}\n"
     ]
    }
   ],
   "source": [
    "from sklearn.feature_extraction.text import TfidfVectorizer\n",
    "from sklearn.pipeline import Pipeline\n",
    "from sklearn.naive_bayes import MultinomialNB\n",
    "from sklearn.metrics import accuracy_score,precision_score,recall_score,f1_score\n",
    "\n",
    "def find_scores(val_label_encoded,val_preds):\n",
    "    a_score = accuracy_score(y_true=val_label_encoded,y_pred=val_preds)\n",
    "    p_score = precision_score(y_true=val_label_encoded,y_pred=val_preds,average='weighted')\n",
    "    r_score = recall_score(y_true=val_label_encoded,y_pred=val_preds,average='weighted')\n",
    "    f_score = f1_score(y_true=val_label_encoded,y_pred=val_preds,average='weighted')\n",
    "    return {'accuracy_score' : a_score, \n",
    "            'precision_score' : p_score, \n",
    "            'recall_score' : r_score,\n",
    "            'f1_score' : f_score}\n",
    "\n",
    "model_0 = Pipeline([('tf-idf',TfidfVectorizer()),\n",
    "               ('naive_bayes',MultinomialNB())])\n",
    "model_0.fit(X=train_sentences,y=train_label_encoded)\n",
    "\n",
    "y_pred = model_0.score(X=val_sentences,y=val_label_encoded)\n",
    "\n",
    "val_preds = model_0.predict(val_sentences)\n",
    "model_0_results = find_scores(val_label_encoded,val_preds)\n",
    "print(model_0_results)"
   ]
  },
  {
   "cell_type": "markdown",
   "id": "52108425",
   "metadata": {
    "id": "52108425"
   },
   "source": [
    "## Model 1 - Conv1D with token Embedding "
   ]
  },
  {
   "cell_type": "markdown",
   "id": "4c83b74b",
   "metadata": {
    "id": "4c83b74b"
   },
   "source": [
    "### Data Visualization (264)"
   ]
  },
  {
   "cell_type": "code",
   "execution_count": 9,
   "id": "e2553b19",
   "metadata": {
    "colab": {
     "base_uri": "https://localhost:8080/",
     "height": 465
    },
    "id": "e2553b19",
    "outputId": "1bd122da-0eef-49ba-ff12-20bc9883acbc"
   },
   "outputs": [
    {
     "name": "stdout",
     "output_type": "stream",
     "text": [
      "mean tokens in each sentences  26.338269273494777\n",
      "no of tokens to keep to cover 95% of the sentence tokens in training data is 55\n"
     ]
    },
    {
     "data": {
      "image/png": "[encoded data removed]",
      "text/plain": [
       "<Figure size 640x480 with 1 Axes>"
      ]
     },
     "metadata": {},
     "output_type": "display_data"
    }
   ],
   "source": [
    "import numpy as np\n",
    "import matplotlib.pyplot as plt\n",
    "# find how tokens is each sentences\n",
    "lengths = [len(sen.split()) for sen in train_sentences]\n",
    "print('mean tokens in each sentences ', np.mean(lengths))\n",
    "output_sequence_length = int(np.percentile(lengths,95))\n",
    "# find percentile to cover 95% of the sentence tokens\n",
    "print(f\"no of tokens to keep to cover 95% of the sentence tokens in training data is {output_sequence_length}\")\n",
    "plt.hist(lengths,bins=10);"
   ]
  },
  {
   "cell_type": "markdown",
   "id": "9807bbae",
   "metadata": {
    "id": "9807bbae"
   },
   "source": [
    "### Vectorize Tokens (265)"
   ]
  },
  {
   "cell_type": "code",
   "execution_count": 10,
   "id": "01440492",
   "metadata": {
    "colab": {
     "base_uri": "https://localhost:8080/"
    },
    "id": "01440492",
    "outputId": "a1db6d03-8136-441b-e2bc-d67e12f4a423"
   },
   "outputs": [
    {
     "name": "stdout",
     "output_type": "stream",
     "text": [
      "Sample Sentence Text \n",
      " Advance care planning ( ACP ) provides patients with the ability to make their decisions known about how they would like to be treated if they lose capacity .\n",
      "\n",
      "length of the Sample Sentence 158\n",
      "Vectorized Sample Sentence\n",
      " [[5155   77 2076 9492  828   12    7    2  805    6 2329  120 2431  682\n",
      "   338  898  316  495 2860    6   36  172  324  316 7497  713    0    0\n",
      "     0    0    0    0    0    0    0    0    0    0    0    0    0    0\n",
      "     0    0    0    0    0    0    0    0    0    0    0    0    0]]\n",
      "total no of words in the vocabulary is 64841\n",
      "most common words in the vocabulary is \n",
      " ['', '[UNK]', 'the', 'and', 'of', 'in', 'to', 'with', 'a', 'were']\n",
      "least common words in the vocabulary is \n",
      " ['aarm', 'aaqol', 'aaq', 'aanhui', 'aana', 'aainduced', 'aaigroup', 'aachener', 'aachen', 'aaacp']\n",
      "{'name': 'text_vectorization', 'trainable': True, 'batch_input_shape': (None,), 'dtype': 'string', 'max_tokens': 68000, 'standardize': 'lower_and_strip_punctuation', 'split': 'whitespace', 'ngrams': None, 'output_mode': 'int', 'output_sequence_length': 55, 'pad_to_max_tokens': False, 'sparse': False, 'ragged': False, 'vocabulary': None, 'idf_weights': None}\n"
     ]
    }
   ],
   "source": [
    "# create text vectorizer\n",
    "from tensorflow.keras.layers.experimental.preprocessing import TextVectorization\n",
    "\n",
    "max_tokens = 68000\n",
    "text_vectorization = TextVectorization(max_tokens=max_tokens,\n",
    "                                      output_sequence_length=output_sequence_length)\n",
    "\n",
    "text_vectorization.adapt(train_sentences)\n",
    "\n",
    "# check the output of text vectorization\n",
    "import random\n",
    "sample_sentence = random.choice(train_sentences)\n",
    "print(f\"Sample Sentence Text \\n {sample_sentence}\\n\")\n",
    "print(f\"length of the Sample Sentence {len(sample_sentence)}\")\n",
    "print(f\"Vectorized Sample Sentence\\n {text_vectorization([sample_sentence])}\")\n",
    "\n",
    "# how many words in our vocabulary\n",
    "rct_20k_text_vocab = text_vectorization.get_vocabulary()\n",
    "print(f\"total no of words in the vocabulary is {len(rct_20k_text_vocab)}\")\n",
    "print(f\"most common words in the vocabulary is \\n {rct_20k_text_vocab[:10]}\")\n",
    "print(f\"least common words in the vocabulary is \\n {rct_20k_text_vocab[-10:]}\")\n",
    "\n",
    "# print text vectorization config\n",
    "t_config = text_vectorization.get_config()\n",
    "print(t_config)"
   ]
  },
  {
   "cell_type": "markdown",
   "id": "c0b911e8",
   "metadata": {
    "id": "c0b911e8"
   },
   "source": [
    "### Token Embedding (266)"
   ]
  },
  {
   "cell_type": "code",
   "execution_count": 11,
   "id": "6e22319f",
   "metadata": {
    "colab": {
     "base_uri": "https://localhost:8080/"
    },
    "id": "6e22319f",
    "outputId": "0f0fe60a-ae2f-4494-8190-101190c8e14a"
   },
   "outputs": [
    {
     "name": "stdout",
     "output_type": "stream",
     "text": [
      "Sentence before embedding \n",
      " Advance care planning ( ACP ) provides patients with the ability to make their decisions known about how they would like to be treated if they lose capacity .\n",
      "vectorized sentence \n",
      " [[5155   77 2076 9492  828   12    7    2  805    6 2329  120 2431  682\n",
      "   338  898  316  495 2860    6   36  172  324  316 7497  713    0    0\n",
      "     0    0    0    0    0    0    0    0    0    0    0    0    0    0\n",
      "     0    0    0    0    0    0    0    0    0    0    0    0    0]]\n",
      "embedded sentence \n",
      " [[[-0.01283991  0.02463413 -0.04823352 ...  0.00433755 -0.03169407\n",
      "   -0.04195577]\n",
      "  [ 0.03574825  0.0480192   0.03930352 ...  0.02426518 -0.02064445\n",
      "    0.02254102]\n",
      "  [ 0.01092899 -0.03590836 -0.0426386  ...  0.01795794  0.03125622\n",
      "   -0.0225942 ]\n",
      "  ...\n",
      "  [-0.01032238 -0.03818301 -0.04569026 ... -0.02215034  0.04288134\n",
      "   -0.04169292]\n",
      "  [-0.01032238 -0.03818301 -0.04569026 ... -0.02215034  0.04288134\n",
      "   -0.04169292]\n",
      "  [-0.01032238 -0.03818301 -0.04569026 ... -0.02215034  0.04288134\n",
      "   -0.04169292]]]\n",
      "embedded sentence shape \n",
      " (1, 55, 128)\n"
     ]
    }
   ],
   "source": [
    "# add a embedding layer\n",
    "from tensorflow.keras.layers import Embedding\n",
    "\n",
    "embedding_layer = Embedding(input_dim=len(rct_20k_text_vocab),\n",
    "                 output_dim=128,\n",
    "                  mask_zero=True,\n",
    "                  name='token_embedding')\n",
    "# token embedding\n",
    "print(f\"Sentence before embedding \\n {sample_sentence}\")\n",
    "vectorized_sentence = text_vectorization([sample_sentence])\n",
    "print(f\"vectorized sentence \\n {vectorized_sentence}\")\n",
    "embed_sentence = embedding_layer(vectorized_sentence)\n",
    "print(f\"embedded sentence \\n {embed_sentence}\")\n",
    "print(f\"embedded sentence shape \\n {embed_sentence.shape}\")"
   ]
  },
  {
   "cell_type": "markdown",
   "id": "1d954fa5",
   "metadata": {
    "id": "1d954fa5"
   },
   "source": [
    "## Create Dataset using tf.data.Dataset (267)"
   ]
  },
  {
   "cell_type": "code",
   "execution_count": 12,
   "id": "86b0e2b0",
   "metadata": {
    "id": "86b0e2b0"
   },
   "outputs": [],
   "source": [
    "train_dataset = tf.data.Dataset.from_tensor_slices((train_sentences,train_label_one_hot))\n",
    "val_dataset = tf.data.Dataset.from_tensor_slices((val_sentences,val_label_one_hot))\n",
    "test_dataset = tf.data.Dataset.from_tensor_slices((test_sentences,test_label_one_hot))\n",
    "\n",
    "# for fast performance \n",
    "train_dataset = train_dataset.batch(32).prefetch(tf.data.AUTOTUNE)\n",
    "val_dataset   = val_dataset.batch(32).prefetch(tf.data.AUTOTUNE)\n",
    "test_dataset  = test_dataset.batch(32).prefetch(tf.data.AUTOTUNE)"
   ]
  },
  {
   "cell_type": "code",
   "execution_count": 13,
   "id": "c1280fc6",
   "metadata": {
    "colab": {
     "base_uri": "https://localhost:8080/"
    },
    "id": "c1280fc6",
    "outputId": "5b495930-e30c-423f-882c-7034585cf069"
   },
   "outputs": [
    {
     "data": {
      "text/plain": [
       "<PrefetchDataset element_spec=(TensorSpec(shape=(None,), dtype=tf.string, name=None), TensorSpec(shape=(None, 5), dtype=tf.float64, name=None))>"
      ]
     },
     "execution_count": 13,
     "metadata": {},
     "output_type": "execute_result"
    }
   ],
   "source": [
    "train_dataset"
   ]
  },
  {
   "cell_type": "markdown",
   "id": "40beeb95",
   "metadata": {
    "id": "40beeb95"
   },
   "source": [
    "## Build Conv1D model (268)"
   ]
  },
  {
   "cell_type": "code",
   "execution_count": 14,
   "id": "4bde1b93",
   "metadata": {
    "colab": {
     "base_uri": "https://localhost:8080/"
    },
    "id": "4bde1b93",
    "outputId": "050adf56-ea09-4b7b-f093-aa72ef44c9a9"
   },
   "outputs": [
    {
     "name": "stdout",
     "output_type": "stream",
     "text": [
      "Model: \"model\"\n",
      "_________________________________________________________________\n",
      " Layer (type)                Output Shape              Param #   \n",
      "=================================================================\n",
      " input (InputLayer)          [(None, 1)]               0         \n",
      "                                                                 \n",
      " vectorization_layer (TextVe  (None, 55)               0         \n",
      " ctorization)                                                    \n",
      "                                                                 \n",
      " token_embedding_layer (Embe  (None, 55, 128)          8299648   \n",
      " dding)                                                          \n",
      "                                                                 \n",
      " conv1d_Layer (Conv1D)       (None, 55, 64)            41024     \n",
      "                                                                 \n",
      " global_average_pooling (Glo  (None, 64)               0         \n",
      " balAveragePooling1D)                                            \n",
      "                                                                 \n",
      " fully_connected (Dense)     (None, 5)                 325       \n",
      "                                                                 \n",
      "=================================================================\n",
      "Total params: 8,340,997\n",
      "Trainable params: 8,340,997\n",
      "Non-trainable params: 0\n",
      "_________________________________________________________________\n"
     ]
    }
   ],
   "source": [
    "import tensorflow as tf\n",
    "from tensorflow.keras import Model\n",
    "from tensorflow.keras.layers import Conv1D, GlobalAveragePooling1D, Input, TextVectorization, Embedding,Dense\n",
    "\n",
    "# input layer\n",
    "inputs = Input(shape=(1,),dtype=tf.string,name=\"input\")\n",
    "# text vectorization layer\n",
    "max_tokens = 68000\n",
    "lengths = [len(sen.split()) for sen in train_sentences]\n",
    "output_sequence_length = int(np.percentile(lengths,95))\n",
    "text_vectorizer = TextVectorization(max_tokens=max_tokens, \n",
    "                      output_sequence_length=output_sequence_length,\n",
    "                                   name=\"vectorization_layer\")\n",
    "text_vectorizer.adapt(train_sentences)\n",
    "vectors = text_vectorizer(inputs)\n",
    "# embedding layer\n",
    "embedding = Embedding(input_dim=len(rct_20k_text_vocab),\n",
    "                     output_dim=128,\n",
    "                     mask_zero=True,\n",
    "                      name=\"token_embedding_layer\")\n",
    "token_embedding = embedding(vectors)\n",
    "# conv1d layer\n",
    "x = Conv1D(filters=64,\n",
    "          kernel_size=5,\n",
    "          padding=\"same\",\n",
    "          activation=\"relu\",\n",
    "          name=\"conv1d_Layer\")(token_embedding)\n",
    "# average pooling\n",
    "x = GlobalAveragePooling1D(name=\"global_average_pooling\")(x)\n",
    "# output layer\n",
    "outputs = Dense(5,activation=\"softmax\", name=\"fully_connected\")(x)\n",
    "# finally the model\n",
    "model_1 = Model(inputs,outputs)\n",
    "\n",
    "# compile the model\n",
    "model_1.compile(loss=\"categorical_crossentropy\",\n",
    "               optimizer=tf.keras.optimizers.Adam(),\n",
    "               metrics=['accuracy'])\n",
    "# summary\n",
    "model_1.summary()"
   ]
  },
  {
   "cell_type": "code",
   "execution_count": 15,
   "id": "258d5d14",
   "metadata": {
    "id": "258d5d14"
   },
   "outputs": [],
   "source": [
    "import time\n",
    "\n",
    "def fit_the_model(model):\n",
    "    \n",
    "    # fit the model\n",
    "    start_time = time.time()\n",
    "    history = model.fit(train_dataset,\n",
    "                             steps_per_epoch=int(0.1*len(train_dataset)),\n",
    "                              epochs=3,\n",
    "                             validation_data=val_dataset,\n",
    "                             validation_steps=int(0.1*len(val_dataset)))\n",
    "    time_taken = time.time() - start_time\n",
    "    print(f\"time taken to fit {time_taken}\")\n",
    "    return history"
   ]
  },
  {
   "cell_type": "code",
   "execution_count": 16,
   "id": "bdeb7258",
   "metadata": {
    "id": "bdeb7258"
   },
   "outputs": [],
   "source": [
    "# let's try with cpu\n",
    "#with tf.device(\"/cpu:0\"):\n",
    "#    fit_the_model(model_1)"
   ]
  },
  {
   "cell_type": "code",
   "execution_count": 17,
   "id": "af51073f",
   "metadata": {
    "colab": {
     "base_uri": "https://localhost:8080/"
    },
    "id": "af51073f",
    "outputId": "f8e1009b-58e0-47cb-e647-13605d1db90b"
   },
   "outputs": [
    {
     "name": "stdout",
     "output_type": "stream",
     "text": [
      "Epoch 1/3\n",
      "562/562 [==============================] - 32s 55ms/step - loss: 0.9165 - accuracy: 0.6371 - val_loss: 0.6877 - val_accuracy: 0.7357\n",
      "Epoch 2/3\n",
      "562/562 [==============================] - 31s 55ms/step - loss: 0.6616 - accuracy: 0.7542 - val_loss: 0.6369 - val_accuracy: 0.7636\n",
      "Epoch 3/3\n",
      "562/562 [==============================] - 31s 54ms/step - loss: 0.6201 - accuracy: 0.7725 - val_loss: 0.6008 - val_accuracy: 0.7856\n",
      "time taken to fit 93.83097410202026\n"
     ]
    }
   ],
   "source": [
    "# with gpu\n",
    "with tf.device(\"/gpu:0\"):\n",
    "    fit_the_model(model_1)"
   ]
  },
  {
   "cell_type": "code",
   "execution_count": 18,
   "id": "6467abc4",
   "metadata": {
    "colab": {
     "base_uri": "https://localhost:8080/"
    },
    "id": "6467abc4",
    "outputId": "d324092e-7856-4677-89aa-e3decec22aa8"
   },
   "outputs": [
    {
     "name": "stdout",
     "output_type": "stream",
     "text": [
      "945/945 [==============================] - 3s 4ms/step - loss: 0.6033 - accuracy: 0.7859\n"
     ]
    },
    {
     "data": {
      "text/plain": [
       "[0.6033049821853638, 0.7858797907829285]"
      ]
     },
     "execution_count": 18,
     "metadata": {},
     "output_type": "execute_result"
    }
   ],
   "source": [
    "# evalue the model\n",
    "model_1.evaluate(val_dataset)"
   ]
  },
  {
   "cell_type": "code",
   "execution_count": 19,
   "id": "a8f0d4c4",
   "metadata": {
    "colab": {
     "base_uri": "https://localhost:8080/"
    },
    "id": "a8f0d4c4",
    "outputId": "b5740d7d-f7e9-47d4-bcda-e890f763b8b5"
   },
   "outputs": [
    {
     "name": "stdout",
     "output_type": "stream",
     "text": [
      "945/945 [==============================] - 4s 4ms/step\n"
     ]
    },
    {
     "data": {
      "text/plain": [
       "(array([[4.4859353e-01, 1.6534175e-01, 6.9871642e-02, 2.9042551e-01,\n",
       "         2.5767684e-02],\n",
       "        [4.4612807e-01, 2.7217397e-01, 1.0024450e-02, 2.6532724e-01,\n",
       "         6.3463114e-03],\n",
       "        [1.5241912e-01, 1.1685584e-02, 2.0001212e-03, 8.3386564e-01,\n",
       "         2.9620685e-05],\n",
       "        ...,\n",
       "        [5.8844103e-06, 8.3490810e-04, 7.0643640e-04, 2.9870721e-06,\n",
       "         9.9844980e-01],\n",
       "        [6.4550601e-02, 4.6901977e-01, 1.0379394e-01, 7.8702159e-02,\n",
       "         2.8393355e-01],\n",
       "        [1.4012037e-01, 6.9039452e-01, 3.7826963e-02, 5.3091891e-02,\n",
       "         7.8566231e-02]], dtype=float32),\n",
       " (30212, 5))"
      ]
     },
     "execution_count": 19,
     "metadata": {},
     "output_type": "execute_result"
    }
   ],
   "source": [
    "model_1_pred_probs = model_1.predict(val_dataset)\n",
    "model_1_pred_probs,model_1_pred_probs.shape"
   ]
  },
  {
   "cell_type": "code",
   "execution_count": 20,
   "id": "812bd5af",
   "metadata": {
    "colab": {
     "base_uri": "https://localhost:8080/"
    },
    "id": "812bd5af",
    "outputId": "cc0e96b6-5607-40b8-f9e8-6d18b2fce2ea"
   },
   "outputs": [
    {
     "data": {
      "text/plain": [
       "<tf.Tensor: shape=(30212,), dtype=int64, numpy=array([0, 0, 3, ..., 4, 1, 1], dtype=int64)>"
      ]
     },
     "execution_count": 20,
     "metadata": {},
     "output_type": "execute_result"
    }
   ],
   "source": [
    "model_1_preds = tf.argmax(model_1_pred_probs,axis=1)\n",
    "model_1_preds"
   ]
  },
  {
   "cell_type": "code",
   "execution_count": 21,
   "id": "96d569f5",
   "metadata": {
    "colab": {
     "base_uri": "https://localhost:8080/"
    },
    "id": "96d569f5",
    "outputId": "fbf5c15a-ef6c-4ccb-eb74-f0680d93d06b"
   },
   "outputs": [
    {
     "data": {
      "text/plain": [
       "({'accuracy_score': 0.7218323844829869,\n",
       "  'precision_score': 0.7186466952323352,\n",
       "  'recall_score': 0.7218323844829869,\n",
       "  'f1_score': 0.6989250353450294},\n",
       " {'accuracy_score': 0.7858797828677346,\n",
       "  'precision_score': 0.7832855515301821,\n",
       "  'recall_score': 0.7858797828677346,\n",
       "  'f1_score': 0.7835312857204537})"
      ]
     },
     "execution_count": 21,
     "metadata": {},
     "output_type": "execute_result"
    }
   ],
   "source": [
    "model_1_results = find_scores(val_label_encoded,model_1_preds)\n",
    "model_0_results,model_1_results,"
   ]
  },
  {
   "cell_type": "markdown",
   "id": "459a3f58",
   "metadata": {
    "id": "459a3f58"
   },
   "source": [
    "## Model 2 Architecture - Tensorflow Hub Pretrained Feature Extractor (269 - 270)\n",
    "![Model 2 Architecture](https://raw.githubusercontent.com/rkumar-bengaluru/data-science/main/20-Tensorflow/07-Skimlit/resources/model_2_architecture.jpg)"
   ]
  },
  {
   "cell_type": "code",
   "execution_count": 22,
   "id": "e13d93ab",
   "metadata": {
    "id": "e13d93ab"
   },
   "outputs": [
    {
     "name": "stdout",
     "output_type": "stream",
     "text": [
      "WARNING:tensorflow:Please fix your imports. Module tensorflow.python.training.tracking.data_structures has been moved to tensorflow.python.trackable.data_structures. The old module will be deleted in version 2.11.\n"
     ]
    }
   ],
   "source": [
    "import tensorflow_hub as hub\n",
    "import random\n",
    "import tensorflow as tf\n",
    "from tensorflow.keras import Model\n",
    "from tensorflow.keras.layers import Input, Dense\n",
    "\n",
    "with tf.device('/cpu:0'):\n",
    "    use = 'https://tfhub.dev/google/universal-sentence-encoder/4'\n",
    "    universal_sentence_encoder = hub.KerasLayer(use,\n",
    "                              trainable=False,\n",
    "                              name='universal_encoder_layer')"
   ]
  },
  {
   "cell_type": "code",
   "execution_count": 23,
   "id": "a2c17726",
   "metadata": {
    "colab": {
     "base_uri": "https://localhost:8080/"
    },
    "id": "a2c17726",
    "outputId": "fa48c945-dbe2-42f1-ef1a-c22a47205eab"
   },
   "outputs": [
    {
     "name": "stdout",
     "output_type": "stream",
     "text": [
      "random sentence to encode with hub encoder \n",
      " To assess clinicians ' proficiency in delivering manually applied traction forces within specified ranges to neck pain patients .\n",
      "shape of encoded sentence (1, 512)\n",
      "encoded sentence \n",
      " [[ 0.00818086  0.01406605  0.00090491 -0.02453211  0.00499058 -0.01102805\n",
      "  -0.00554117  0.00472231 -0.05486783  0.04848744  0.07914858 -0.00417906\n",
      "   0.04354773  0.0375264   0.05290315 -0.03064974 -0.07309259  0.00519272\n",
      "  -0.01293105 -0.07170687 -0.05588749  0.06809901 -0.07535539 -0.04038442\n",
      "   0.03581334  0.03172006 -0.07502083 -0.00187953  0.00562391 -0.00316229\n",
      "  -0.00347002  0.08198426  0.02324394 -0.01267684 -0.00022445  0.0810481\n",
      "   0.00531406  0.06518734 -0.05126475 -0.07501567 -0.05527934  0.03293367\n",
      "  -0.00351871 -0.04098328  0.03975638  0.06621411  0.06214466  0.0199849\n",
      "   0.02215517  0.00192791 -0.07289242  0.0214725   0.04670047  0.05553294\n",
      "   0.01250336 -0.06722727 -0.02779219  0.03526707  0.04716508 -0.01797582\n",
      "   0.03856713  0.07209621 -0.06413203  0.01116996 -0.00771199 -0.03337245\n",
      "   0.0450079   0.05391312 -0.03724495 -0.05169969  0.04532297  0.01428019\n",
      "  -0.06118253 -0.04639933 -0.04299767 -0.02413549 -0.05424119 -0.05663072\n",
      "  -0.02966128  0.01140548 -0.03562009 -0.02496015  0.03036682  0.00455337\n",
      "  -0.01212294  0.04258809 -0.04771233  0.02530229  0.00281465 -0.0547873\n",
      "  -0.01381631  0.00901535  0.000218    0.05285024  0.01646886  0.04841087\n",
      "  -0.07328942  0.01064997 -0.04495953 -0.03712021  0.00658617 -0.00461255\n",
      "  -0.02749235 -0.06079039  0.02833302 -0.07422641  0.03360615 -0.04378843\n",
      "  -0.04196638 -0.04287961  0.05992555 -0.00363459  0.0307239  -0.04905841\n",
      "   0.01662164  0.07470804 -0.03524209  0.00346604  0.03714855  0.03420449\n",
      "   0.00982475  0.04665129  0.05866398  0.05032252  0.01685145  0.02074709\n",
      "  -0.02859072  0.02324707  0.00617993  0.07025082 -0.07981294  0.08316788\n",
      "   0.06205243 -0.02714591  0.0431234  -0.00651125  0.06947943  0.06485274\n",
      "   0.04628916 -0.00126257  0.06013951  0.01455306 -0.00478307  0.04336931\n",
      "   0.02933159 -0.00035882  0.04969889  0.04310121  0.06162968 -0.04165026\n",
      "   0.05515417  0.06135773  0.03466598  0.0253636  -0.01784265  0.00717221\n",
      "   0.06813856  0.02129619 -0.04258181  0.0473104   0.06382784  0.00942092\n",
      "  -0.03268243 -0.06787398  0.02852627 -0.03541088 -0.01237925 -0.04423599\n",
      "   0.01056422 -0.04157776 -0.01017321 -0.0699233  -0.04460952  0.04140924\n",
      "   0.0282723  -0.05487243  0.02150222 -0.06484137  0.04814308  0.06919397\n",
      "   0.01859996  0.01062788  0.04756571 -0.05286638  0.03005111 -0.02701685\n",
      "   0.00446785  0.03183469 -0.0045086  -0.06514824  0.02590438 -0.0445701\n",
      "   0.06214303 -0.02716092 -0.06714802  0.0428168  -0.02687808  0.01518336\n",
      "  -0.01921889 -0.06714153  0.07801089 -0.05550073  0.03868715  0.05848278\n",
      "   0.07811017 -0.05954764  0.01240359 -0.06719948  0.06151567  0.07116059\n",
      "   0.0002005  -0.00218116  0.03939222 -0.04398698  0.02021545  0.05615787\n",
      "   0.07396918 -0.03164236 -0.07660391  0.08459002  0.03881221  0.02213083\n",
      "   0.01766608  0.00397636  0.00225906  0.02143699  0.04805124  0.03370029\n",
      "  -0.00409915  0.03416039 -0.07203528 -0.04182422 -0.00306925 -0.00463434\n",
      "   0.05376566 -0.00309703  0.01888338 -0.04387869 -0.06053694  0.03811022\n",
      "   0.07001767  0.0059641   0.07604319 -0.06338561  0.01162464 -0.01707417\n",
      "  -0.02751496 -0.07834498  0.04048821 -0.0811365   0.0402788  -0.01570381\n",
      "   0.02336677  0.04379238 -0.00606338  0.02251583 -0.0362029  -0.04428642\n",
      "   0.06526113 -0.00871503 -0.01289004  0.00472135 -0.03684147  0.05013428\n",
      "  -0.05281434  0.01953448 -0.01618521 -0.03289146 -0.00684445 -0.01515374\n",
      "  -0.02455045 -0.07610725  0.01712566 -0.0633729  -0.07841116  0.04979582\n",
      "  -0.03599502  0.07168228  0.01698329 -0.03691733 -0.02083953 -0.05827833\n",
      "   0.00107487 -0.0358183  -0.01264744 -0.04876004  0.03760733 -0.05232454\n",
      "   0.01253249 -0.02214368 -0.06724773 -0.00173759  0.04791271  0.0423738\n",
      "   0.03700979  0.03624561  0.04622265  0.02774362  0.04115511  0.02272383\n",
      "  -0.00265558 -0.05038806 -0.01909971 -0.07193613  0.02133077  0.05171482\n",
      "   0.0602123  -0.04389729  0.02710931  0.06398632  0.02256995  0.01238746\n",
      "   0.00071818  0.02022969 -0.03188537 -0.04515457  0.02816376  0.01479035\n",
      "   0.02205542  0.00610549 -0.03465112 -0.06282575 -0.04605497 -0.05433358\n",
      "  -0.05093976  0.07113945 -0.01845356 -0.03732898 -0.03504689  0.05815836\n",
      "   0.0571144  -0.00920453  0.07453421  0.00814907  0.05723648  0.05007093\n",
      "  -0.02183409  0.0760674   0.06133265 -0.06548341 -0.06545156  0.05285381\n",
      "   0.0743913   0.04955484 -0.04177728  0.08048533  0.0650159  -0.03674905\n",
      "  -0.05950554 -0.0094681   0.0012523   0.01647863 -0.0686809   0.0736229\n",
      "   0.07788476 -0.07399152  0.01504867 -0.00910092 -0.01259307 -0.04029311\n",
      "   0.00987644 -0.0676913  -0.07195655 -0.0226571  -0.00633424 -0.06510698\n",
      "   0.01149327  0.00206897  0.01847368 -0.01775061 -0.0009243  -0.00267429\n",
      "   0.03042338  0.01710542  0.05391537  0.01498157 -0.06319045 -0.06983597\n",
      "  -0.02759263 -0.04429166  0.07824946 -0.02752649  0.03727588 -0.0052439\n",
      "  -0.06552014 -0.03503796  0.01659068  0.00380826  0.03888059 -0.06166155\n",
      "  -0.01165576 -0.02308652  0.04807247  0.06507837 -0.01071475 -0.05161858\n",
      "   0.06015948  0.03937335 -0.01562469  0.02945259 -0.00413024 -0.05262475\n",
      "  -0.03473406  0.01825276 -0.02023608  0.07426697 -0.01930777  0.00134254\n",
      "   0.07727835  0.00445746  0.01534655  0.01920778 -0.0326381   0.05029849\n",
      "  -0.059723    0.01597693 -0.00694846  0.04997028  0.01924029  0.02892297\n",
      "   0.05172791  0.01708138  0.00723885 -0.06163112  0.07836206 -0.01144459\n",
      "  -0.06610487 -0.07065383 -0.0198795   0.01458525 -0.05327016 -0.02689225\n",
      "  -0.03517951 -0.06766939 -0.04308429  0.02520986 -0.01238045 -0.06030004\n",
      "  -0.038298    0.07395422 -0.03221845 -0.03742548  0.00368515 -0.04478906\n",
      "   0.00048076  0.02354802 -0.02663677  0.02656575  0.05199797 -0.03457728\n",
      "  -0.06964174 -0.02146622  0.05768222  0.01042534 -0.01102819 -0.03321532\n",
      "   0.00899257  0.02794073  0.06823729  0.06167357  0.04757867 -0.04774008\n",
      "   0.07306466 -0.00574854 -0.03441375  0.05645738  0.02406749 -0.0590407\n",
      "   0.00469975 -0.0388917   0.06355877  0.02961042 -0.0394805   0.02087981\n",
      "   0.03629385 -0.01253621  0.07945127 -0.02432729  0.02517373 -0.07679253\n",
      "  -0.0615153   0.00236435  0.00378174  0.03278774 -0.07777636  0.07121543\n",
      "   0.05037048 -0.05897714 -0.06689148 -0.06977357 -0.07486205  0.07309747\n",
      "   0.03920823  0.00111035 -0.02058183 -0.02705937 -0.07636555  0.03676037\n",
      "  -0.06892099 -0.01915967 -0.00077104 -0.07542531 -0.06305321 -0.06513181\n",
      "  -0.02646941 -0.08434559  0.06175968  0.03717981  0.02668886 -0.01444819\n",
      "  -0.02352586 -0.02109641]]\n"
     ]
    }
   ],
   "source": [
    "random_sentence = random.choice(train_sentences)\n",
    "print(f\"random sentence to encode with hub encoder \\n {random_sentence}\")\n",
    "random_sentence_encoded = universal_sentence_encoder([random_sentence])\n",
    "print(f\"shape of encoded sentence {random_sentence_encoded.shape}\")\n",
    "print(f\"encoded sentence \\n {random_sentence_encoded}\")"
   ]
  },
  {
   "cell_type": "code",
   "execution_count": 24,
   "id": "cc10e4bd",
   "metadata": {
    "colab": {
     "base_uri": "https://localhost:8080/"
    },
    "id": "cc10e4bd",
    "outputId": "36b12151-80d0-4690-fd4e-b665711f3d45"
   },
   "outputs": [
    {
     "name": "stdout",
     "output_type": "stream",
     "text": [
      "Model: \"model_2_use_feature_extractor\"\n",
      "_________________________________________________________________\n",
      " Layer (type)                Output Shape              Param #   \n",
      "=================================================================\n",
      " input_layer (InputLayer)    [(None,)]                 0         \n",
      "                                                                 \n",
      " universal_encoder_layer (Ke  (None, 512)              256797824 \n",
      " rasLayer)                                                       \n",
      "                                                                 \n",
      " fully_connected_layer (Dens  (None, 128)              65664     \n",
      " e)                                                              \n",
      "                                                                 \n",
      " output_layer (Dense)        (None, 5)                 645       \n",
      "                                                                 \n",
      "=================================================================\n",
      "Total params: 256,864,133\n",
      "Trainable params: 66,309\n",
      "Non-trainable params: 256,797,824\n",
      "_________________________________________________________________\n"
     ]
    }
   ],
   "source": [
    "# create model 2\n",
    "inputs = Input(shape=[],dtype=tf.string,name='input_layer')\n",
    "pretrained_embedding = universal_sentence_encoder(inputs)\n",
    "dense = Dense(128,activation='relu',name='fully_connected_layer')(pretrained_embedding)\n",
    "outputs = Dense(5,activation='softmax',name='output_layer')(dense)\n",
    "model_2 = Model(inputs=inputs,\n",
    "               outputs=outputs,\n",
    "               name='model_2_use_feature_extractor')\n",
    "model_2.compile(loss='categorical_crossentropy',\n",
    "               optimizer=tf.keras.optimizers.Adam(),\n",
    "               metrics=['accuracy'])\n",
    "model_2.summary()"
   ]
  },
  {
   "cell_type": "code",
   "execution_count": 25,
   "id": "c1c649ed",
   "metadata": {
    "colab": {
     "base_uri": "https://localhost:8080/"
    },
    "id": "c1c649ed",
    "outputId": "6dff59c8-9a07-4f96-a0b3-3eaa49f5544c"
   },
   "outputs": [
    {
     "name": "stdout",
     "output_type": "stream",
     "text": [
      "Epoch 1/3\n",
      "562/562 [==============================] - 10s 12ms/step - loss: 0.9165 - accuracy: 0.6484 - val_loss: 0.7963 - val_accuracy: 0.6878\n",
      "Epoch 2/3\n",
      "562/562 [==============================] - 6s 11ms/step - loss: 0.7691 - accuracy: 0.7020 - val_loss: 0.7548 - val_accuracy: 0.7064\n",
      "Epoch 3/3\n",
      "562/562 [==============================] - 6s 11ms/step - loss: 0.7537 - accuracy: 0.7102 - val_loss: 0.7407 - val_accuracy: 0.7118\n",
      "time taken to fit 23.069999933242798\n"
     ]
    }
   ],
   "source": [
    "model_2_history = fit_the_model(model_2)"
   ]
  },
  {
   "cell_type": "code",
   "execution_count": 26,
   "id": "4eaa169b",
   "metadata": {
    "colab": {
     "base_uri": "https://localhost:8080/"
    },
    "id": "4eaa169b",
    "outputId": "5a8bf13c-013a-4d04-9254-1d89efe1341b"
   },
   "outputs": [
    {
     "name": "stdout",
     "output_type": "stream",
     "text": [
      "945/945 [==============================] - 9s 10ms/step - loss: 0.7426 - accuracy: 0.7130\n"
     ]
    },
    {
     "data": {
      "text/plain": [
       "[0.7425603270530701, 0.712961733341217]"
      ]
     },
     "execution_count": 26,
     "metadata": {},
     "output_type": "execute_result"
    }
   ],
   "source": [
    "model_2.evaluate(val_dataset)"
   ]
  },
  {
   "cell_type": "code",
   "execution_count": 27,
   "id": "5f5ea285",
   "metadata": {
    "colab": {
     "base_uri": "https://localhost:8080/"
    },
    "id": "5f5ea285",
    "outputId": "44f21f20-1113-4275-8bfa-ae8c44a52f49"
   },
   "outputs": [
    {
     "name": "stdout",
     "output_type": "stream",
     "text": [
      "945/945 [==============================] - 9s 9ms/step\n"
     ]
    },
    {
     "data": {
      "text/plain": [
       "array([[4.4705698e-01, 3.5128254e-01, 2.2234267e-03, 1.9201747e-01,\n",
       "        7.4195480e-03],\n",
       "       [3.9106750e-01, 4.6689376e-01, 3.7509776e-03, 1.3610907e-01,\n",
       "        2.1786643e-03],\n",
       "       [2.2799286e-01, 1.3777003e-01, 1.7880812e-02, 5.8207357e-01,\n",
       "        3.4282718e-02],\n",
       "       ...,\n",
       "       [1.8965325e-03, 4.8858067e-03, 5.4489128e-02, 9.1219839e-04,\n",
       "        9.3781638e-01],\n",
       "       [4.5123021e-03, 4.7256242e-02, 2.1779539e-01, 1.7584325e-03,\n",
       "        7.2867769e-01],\n",
       "       [1.7100213e-01, 2.7553585e-01, 4.9864376e-01, 6.9761956e-03,\n",
       "        4.7842197e-02]], dtype=float32)"
      ]
     },
     "execution_count": 27,
     "metadata": {},
     "output_type": "execute_result"
    }
   ],
   "source": [
    "model_2_pred_probs = model_2.predict(val_dataset)\n",
    "model_2_pred_probs"
   ]
  },
  {
   "cell_type": "code",
   "execution_count": 28,
   "id": "549d25f5",
   "metadata": {
    "colab": {
     "base_uri": "https://localhost:8080/"
    },
    "id": "549d25f5",
    "outputId": "2164f808-22df-416e-b0c2-18364c58db5e"
   },
   "outputs": [
    {
     "data": {
      "text/plain": [
       "<tf.Tensor: shape=(30212,), dtype=int64, numpy=array([0, 1, 3, ..., 4, 4, 2], dtype=int64)>"
      ]
     },
     "execution_count": 28,
     "metadata": {},
     "output_type": "execute_result"
    }
   ],
   "source": [
    "model_2_pred = tf.argmax(model_2_pred_probs,axis=1)\n",
    "model_2_pred"
   ]
  },
  {
   "cell_type": "code",
   "execution_count": 29,
   "id": "827c8e23",
   "metadata": {
    "id": "827c8e23"
   },
   "outputs": [],
   "source": [
    "model_2_results = find_scores(val_label_encoded,model_2_pred)"
   ]
  },
  {
   "cell_type": "code",
   "execution_count": 30,
   "id": "801a37bb",
   "metadata": {
    "colab": {
     "base_uri": "https://localhost:8080/"
    },
    "id": "801a37bb",
    "outputId": "b0a2c232-c367-4989-ea19-b8fa28db7b93"
   },
   "outputs": [
    {
     "data": {
      "text/plain": [
       "({'accuracy_score': 0.7129617370581226,\n",
       "  'precision_score': 0.7129614303693675,\n",
       "  'recall_score': 0.7129617370581226,\n",
       "  'f1_score': 0.7100447775199908},\n",
       " {'accuracy_score': 0.7858797828677346,\n",
       "  'precision_score': 0.7832855515301821,\n",
       "  'recall_score': 0.7858797828677346,\n",
       "  'f1_score': 0.7835312857204537},\n",
       " {'accuracy_score': 0.7218323844829869,\n",
       "  'precision_score': 0.7186466952323352,\n",
       "  'recall_score': 0.7218323844829869,\n",
       "  'f1_score': 0.6989250353450294})"
      ]
     },
     "execution_count": 30,
     "metadata": {},
     "output_type": "execute_result"
    }
   ],
   "source": [
    "model_2_results,model_1_results,model_0_results"
   ]
  },
  {
   "cell_type": "markdown",
   "id": "b53053f8",
   "metadata": {
    "id": "b53053f8"
   },
   "source": [
    "## Model-3 : Conv1D with character embedding\n",
    "\n",
    "![Model 3 Architecture](https://raw.githubusercontent.com/rkumar-bengaluru/data-science/main/20-Tensorflow/07-Skimlit/resources/model_3_architecture.jpg)"
   ]
  },
  {
   "cell_type": "markdown",
   "id": "225b796f",
   "metadata": {
    "id": "225b796f"
   },
   "source": [
    "### Character Embedding Layer"
   ]
  },
  {
   "cell_type": "code",
   "execution_count": 31,
   "id": "96334d88",
   "metadata": {
    "colab": {
     "base_uri": "https://localhost:8080/",
     "height": 105
    },
    "id": "96334d88",
    "outputId": "f9a6dc79-9da0-424a-c32c-f67a12b0b6cc"
   },
   "outputs": [
    {
     "data": {
      "text/plain": [
       "'t o   i n v e s t i g a t e   t h e   e f f i c a c y   o f   @   w e e k s   o f   d a i l y   l o w - d o s e   o r a l   p r e d n i s o l o n e   i n   i m p r o v i n g   p a i n   ,   m o b i l i t y   ,   a n d   s y s t e m i c   l o w - g r a d e   i n f l a m m a t i o n   i n   t h e   s h o r t   t e r m   a n d   w h e t h e r   t h e   e f f e c t   w o u l d   b e   s u s t a i n e d   a t   @   w e e k s   i n   o l d e r   a d u l t s   w i t h   m o d e r a t e   t o   s e v e r e   k n e e   o s t e o a r t h r i t i s   (   o a   )   .'"
      ]
     },
     "execution_count": 31,
     "metadata": {},
     "output_type": "execute_result"
    }
   ],
   "source": [
    "import random\n",
    "from tensorflow.data import Dataset\n",
    "# prepare data\n",
    "def split_chars(sentence):\n",
    "    return ' '.join(list(sentence))\n",
    "\n",
    "\n",
    "training_char_sentences = [split_chars(sentence.lower()) for sentence in train_sentences]\n",
    "val_char_sentences      = [split_chars(sentence.lower()) for sentence in val_sentences]\n",
    "test_char_sentences     = [split_chars(sentence.lower()) for sentence in test_sentences]\n",
    "training_char_sentences[0]"
   ]
  },
  {
   "cell_type": "code",
   "execution_count": 32,
   "id": "KKm_wY2uI-p4",
   "metadata": {
    "colab": {
     "base_uri": "https://localhost:8080/"
    },
    "id": "KKm_wY2uI-p4",
    "outputId": "db626559-764e-46d3-b1bf-76a2fd341f03"
   },
   "outputs": [
    {
     "data": {
      "text/plain": [
       "(281, 561)"
      ]
     },
     "execution_count": 32,
     "metadata": {},
     "output_type": "execute_result"
    }
   ],
   "source": [
    "len(train_sentences[0]), len(training_char_sentences[0])"
   ]
  },
  {
   "cell_type": "code",
   "execution_count": 33,
   "id": "hf0LOrSjiTsq",
   "metadata": {
    "colab": {
     "base_uri": "https://localhost:8080/"
    },
    "id": "hf0LOrSjiTsq",
    "outputId": "23ff8044-2bb4-4445-9444-c470531aac4d"
   },
   "outputs": [
    {
     "name": "stdout",
     "output_type": "stream",
     "text": [
      "Sat May 27 16:34:17 2023       \n",
      "+---------------------------------------------------------------------------------------+\n",
      "| NVIDIA-SMI 531.14                 Driver Version: 531.14       CUDA Version: 12.1     |\n",
      "|-----------------------------------------+----------------------+----------------------+\n",
      "| GPU  Name                      TCC/WDDM | Bus-Id        Disp.A | Volatile Uncorr. ECC |\n",
      "| Fan  Temp  Perf            Pwr:Usage/Cap|         Memory-Usage | GPU-Util  Compute M. |\n",
      "|                                         |                      |               MIG M. |\n",
      "|=========================================+======================+======================|\n",
      "|   0  NVIDIA GeForce RTX 3060 L...  WDDM | 00000000:01:00.0 Off |                  N/A |\n",
      "| N/A   56C    P3               17W /  N/A|      0MiB /  6144MiB |      0%      Default |\n",
      "|                                         |                      |                  N/A |\n",
      "+-----------------------------------------+----------------------+----------------------+\n",
      "                                                                                         \n",
      "+---------------------------------------------------------------------------------------+\n",
      "| Processes:                                                                            |\n",
      "|  GPU   GI   CI        PID   Type   Process name                            GPU Memory |\n",
      "|        ID   ID                                                             Usage      |\n",
      "|=======================================================================================|\n",
      "|  No running processes found                                                           |\n",
      "+---------------------------------------------------------------------------------------+\n"
     ]
    }
   ],
   "source": [
    "!nvidia-smi"
   ]
  },
  {
   "cell_type": "code",
   "execution_count": 34,
   "id": "c2eb3e97",
   "metadata": {
    "colab": {
     "base_uri": "https://localhost:8080/"
    },
    "id": "c2eb3e97",
    "outputId": "7976e7aa-3750-41fc-f94a-199b79ff391a"
   },
   "outputs": [
    {
     "name": "stdout",
     "output_type": "stream",
     "text": [
      "number of tokens to consider 579 \n",
      "vocabulary \n",
      " ['', '[UNK]', 'e', 't', 'i', 'a', 'n', 'o', 'r', 's', 'd', 'c', 'l', 'h', 'p', 'm', 'u', 'f', 'g', 'y', 'w', 'v', 'b', 'k', 'x', 'z', 'q', 'j']\n",
      "vocabulary length \n",
      " 28\n",
      "encoded random sample \n",
      " [[10  7 18  9 20  2  8  2  5 12 12  7 11  5  3  2 10  8  5  6 10  7 15 12\n",
      "  19  4  6  3  7  3 13  8  2  2 18  8  7 16 14  9  8  2 11  2  4 21  4  6\n",
      "  18  5  9 14  8  2  5  6  5  2  9  3 13  2  3  4 11 15  2 10  4 11  5  3\n",
      "   4  7  6  6  7 10  2 24 15  2 10  2  3  7 15  4 10  4  6  2 10 18 23 18\n",
      "  10  2 24 15  2 10  2  3  7 15  4 10  4  6  2 10  4  6  3  8  5 15 16  9\n",
      "  11 16 12  5  8 12 19  4 15  7  8 18 23 18 10  2 24 15  2 10  2  3  7 15\n",
      "   4 10  4  6  2  4 15 10  0  0  0  0  0  0  0  0  0  0  0  0  0  0  0  0\n",
      "   0  0  0  0  0  0  0  0  0  0  0  0  0  0  0  0  0  0  0  0  0  0  0  0\n",
      "   0  0  0  0  0  0  0  0  0  0  0  0  0  0  0  0  0  0  0  0  0  0  0  0\n",
      "   0  0  0  0  0  0  0  0  0  0  0  0  0  0  0  0  0  0  0  0  0  0  0  0\n",
      "   0  0  0  0  0  0  0  0  0  0  0  0  0  0  0  0  0  0  0  0  0  0  0  0\n",
      "   0  0  0  0  0  0  0  0  0  0  0  0  0  0  0  0  0  0  0  0  0  0  0  0\n",
      "   0  0  0  0  0  0  0  0  0  0  0  0  0  0  0  0  0  0  0  0  0  0  0  0\n",
      "   0  0  0  0  0  0  0  0  0  0  0  0  0  0  0  0  0  0  0  0  0  0  0  0\n",
      "   0  0  0  0  0  0  0  0  0  0  0  0  0  0  0  0  0  0  0  0  0  0  0  0\n",
      "   0  0  0  0  0  0  0  0  0  0  0  0  0  0  0  0  0  0  0  0  0  0  0  0\n",
      "   0  0  0  0  0  0  0  0  0  0  0  0  0  0  0  0  0  0  0  0  0  0  0  0\n",
      "   0  0  0  0  0  0  0  0  0  0  0  0  0  0  0  0  0  0  0  0  0  0  0  0\n",
      "   0  0  0  0  0  0  0  0  0  0  0  0  0  0  0  0  0  0  0  0  0  0  0  0\n",
      "   0  0  0  0  0  0  0  0  0  0  0  0  0  0  0  0  0  0  0  0  0  0  0  0\n",
      "   0  0  0  0  0  0  0  0  0  0  0  0  0  0  0  0  0  0  0  0  0  0  0  0\n",
      "   0  0  0  0  0  0  0  0  0  0  0  0  0  0  0  0  0  0  0  0  0  0  0  0\n",
      "   0  0  0  0  0  0  0  0  0  0  0  0  0  0  0  0  0  0  0  0  0  0  0  0\n",
      "   0  0  0  0  0  0  0  0  0  0  0  0  0  0  0  0  0  0  0  0  0  0  0  0\n",
      "   0  0  0]]\n",
      "shape of encoded sample char sentence \n",
      " (1, 579)\n"
     ]
    }
   ],
   "source": [
    "from tensorflow.keras.layers import TextVectorization\n",
    "from tensorflow.data import Dataset\n",
    "import string\n",
    "import numpy as np\n",
    "\n",
    "lengths_of_sentences = [len(sentence) for sentence in training_char_sentences]\n",
    "# find no of tokens to take to cover 95 % of the data\n",
    "max_length = int(np.percentile(lengths_of_sentences,95)) # sequence length to pad the outputs to\n",
    "print(f\"number of tokens to consider {max_length} \")\n",
    "# find vocab length\n",
    "all_printable = string.ascii_lowercase + string.digits + string.punctuation\n",
    "max_features = len(all_printable); # no of characters in the vocabulary\n",
    "char_vectorizer = TextVectorization(max_tokens=max_features,\n",
    "                                   output_sequence_length=max_length,\n",
    "                                   name='character_vectorization')\n",
    "\n",
    "#test_char_dataset  = Dataset.from_tensor_slices((test_char_sentences,test_label_one_hot)).batch(32).prefetch(tf.data.AUTOTUNE)\n",
    "\n",
    "char_vectorizer.adapt(training_char_sentences)\n",
    "vocab = char_vectorizer.get_vocabulary()\n",
    "sample_char_sentence = random.choice(training_char_sentences)\n",
    "print(f\"vocabulary \\n {vocab}\")\n",
    "print(f\"vocabulary length \\n {len(vocab)}\")\n",
    "sample_sentence_encoded = char_vectorizer([sample_char_sentence])\n",
    "print(f\"encoded random sample \\n {sample_sentence_encoded}\")\n",
    "print(f\"shape of encoded sample char sentence \\n {sample_sentence_encoded.shape}\")"
   ]
  },
  {
   "cell_type": "code",
   "execution_count": 35,
   "id": "b0b39041",
   "metadata": {
    "colab": {
     "base_uri": "https://localhost:8080/"
    },
    "id": "b0b39041",
    "outputId": "7cc1b1c2-8e30-4e2a-df2d-1a1d2052df03"
   },
   "outputs": [
    {
     "data": {
      "text/plain": [
       "<tf.Tensor: shape=(1, 579, 25), dtype=float32, numpy=\n",
       "array([[[ 0.03534449, -0.01286523, -0.00624593, ...,  0.02392114,\n",
       "         -0.02095555, -0.00049011],\n",
       "        [-0.003483  ,  0.03116118,  0.04259148, ...,  0.04505383,\n",
       "          0.00096996, -0.0045164 ],\n",
       "        [ 0.01499068,  0.03566793, -0.00343667, ...,  0.00104467,\n",
       "          0.00169986,  0.02560656],\n",
       "        ...,\n",
       "        [-0.0022387 ,  0.00044673,  0.04088444, ..., -0.00736386,\n",
       "          0.00960143, -0.03004181],\n",
       "        [-0.0022387 ,  0.00044673,  0.04088444, ..., -0.00736386,\n",
       "          0.00960143, -0.03004181],\n",
       "        [-0.0022387 ,  0.00044673,  0.04088444, ..., -0.00736386,\n",
       "          0.00960143, -0.03004181]]], dtype=float32)>"
      ]
     },
     "execution_count": 35,
     "metadata": {},
     "output_type": "execute_result"
    }
   ],
   "source": [
    "# embedding layer\n",
    "from tensorflow.keras.layers import Embedding\n",
    "\n",
    "char_embedding = Embedding(input_dim=len(vocab),\n",
    "                          output_dim=25,\n",
    "                          mask_zero=True,\n",
    "                          name='char_embedding_layer')\n",
    "char_embedding_sample = char_embedding(sample_sentence_encoded)\n",
    "char_embedding_sample"
   ]
  },
  {
   "cell_type": "markdown",
   "id": "1fd96d1c",
   "metadata": {
    "id": "1fd96d1c"
   },
   "source": [
    "### Create Full Model"
   ]
  },
  {
   "cell_type": "code",
   "execution_count": 36,
   "id": "f3e6425b",
   "metadata": {
    "id": "f3e6425b"
   },
   "outputs": [],
   "source": [
    "import tensorflow as tf\n",
    "from tensorflow.keras import Model\n",
    "from tensorflow.keras.layers import Input,Dense, Conv1D, GlobalMaxPooling1D\n",
    "from tensorflow.keras.optimizers import Adam\n",
    "\n",
    "inputs = Input(shape=(1,),dtype=tf.string,name='input_layer')\n",
    "char_vectors = char_vectorizer(inputs)\n",
    "char_embeddings = char_embedding(char_vectors)\n",
    "x = Conv1D(filters=64,\n",
    "          kernel_size=5,\n",
    "          padding='same',\n",
    "          activation='relu',\n",
    "          name='conv_1d_layer')(char_embeddings)\n",
    "x = GlobalMaxPooling1D(name='GlobalAveragePooling1D')(x)\n",
    "outputs = Dense(units=5,activation='softmax',name='full_connected')(x)\n",
    "model_3 = Model(inputs,outputs)"
   ]
  },
  {
   "cell_type": "code",
   "execution_count": 37,
   "id": "8614ad44",
   "metadata": {
    "id": "8614ad44"
   },
   "outputs": [],
   "source": [
    "# compile the model\n",
    "model_3.compile(loss='categorical_crossentropy',\n",
    "               optimizer=Adam(),\n",
    "               metrics=['accuracy'])"
   ]
  },
  {
   "cell_type": "markdown",
   "id": "fbd6c19c",
   "metadata": {
    "id": "fbd6c19c"
   },
   "source": [
    "### Model Summary"
   ]
  },
  {
   "cell_type": "code",
   "execution_count": 38,
   "id": "1a5eabe4",
   "metadata": {
    "colab": {
     "base_uri": "https://localhost:8080/"
    },
    "id": "1a5eabe4",
    "outputId": "88d604f7-ab4d-4323-9d03-163868f41495"
   },
   "outputs": [
    {
     "name": "stdout",
     "output_type": "stream",
     "text": [
      "Model: \"model_1\"\n",
      "_________________________________________________________________\n",
      " Layer (type)                Output Shape              Param #   \n",
      "=================================================================\n",
      " input_layer (InputLayer)    [(None, 1)]               0         \n",
      "                                                                 \n",
      " character_vectorization (Te  (None, 579)              0         \n",
      " xtVectorization)                                                \n",
      "                                                                 \n",
      " char_embedding_layer (Embed  (None, 579, 25)          700       \n",
      " ding)                                                           \n",
      "                                                                 \n",
      " conv_1d_layer (Conv1D)      (None, 579, 64)           8064      \n",
      "                                                                 \n",
      " GlobalAveragePooling1D (Glo  (None, 64)               0         \n",
      " balMaxPooling1D)                                                \n",
      "                                                                 \n",
      " full_connected (Dense)      (None, 5)                 325       \n",
      "                                                                 \n",
      "=================================================================\n",
      "Total params: 9,089\n",
      "Trainable params: 9,089\n",
      "Non-trainable params: 0\n",
      "_________________________________________________________________\n"
     ]
    }
   ],
   "source": [
    "model_3.summary()"
   ]
  },
  {
   "cell_type": "markdown",
   "id": "507958c7",
   "metadata": {
    "id": "507958c7"
   },
   "source": [
    "### Fit the Model"
   ]
  },
  {
   "cell_type": "code",
   "execution_count": 39,
   "id": "886041e2",
   "metadata": {
    "colab": {
     "base_uri": "https://localhost:8080/"
    },
    "id": "886041e2",
    "outputId": "e84f466c-3940-401b-ad9b-fb82c8115dd8"
   },
   "outputs": [
    {
     "data": {
      "text/plain": [
       "<PrefetchDataset element_spec=(TensorSpec(shape=(None,), dtype=tf.string, name=None), TensorSpec(shape=(None, 5), dtype=tf.float64, name=None))>"
      ]
     },
     "execution_count": 39,
     "metadata": {},
     "output_type": "execute_result"
    }
   ],
   "source": [
    "train_char_dataset = Dataset.from_tensor_slices((training_char_sentences,train_label_one_hot)).batch(32).prefetch(tf.data.AUTOTUNE)\n",
    "val_char_dataset   = Dataset.from_tensor_slices((val_char_sentences,val_label_one_hot)).batch(32).prefetch(tf.data.AUTOTUNE)\n",
    "train_char_dataset"
   ]
  },
  {
   "cell_type": "code",
   "execution_count": 40,
   "id": "XeZqWo04L0GJ",
   "metadata": {
    "colab": {
     "base_uri": "https://localhost:8080/"
    },
    "id": "XeZqWo04L0GJ",
    "outputId": "a5f874af-5cb3-4ee3-e5c0-b68cf0c94d53"
   },
   "outputs": [
    {
     "name": "stdout",
     "output_type": "stream",
     "text": [
      "Epoch 1/3\n",
      "562/562 [==============================] - 10s 17ms/step - loss: 1.2693 - accuracy: 0.4845 - val_loss: 1.0508 - val_accuracy: 0.5775\n",
      "Epoch 2/3\n",
      "562/562 [==============================] - 9s 16ms/step - loss: 1.0201 - accuracy: 0.5932 - val_loss: 0.9465 - val_accuracy: 0.6330\n",
      "Epoch 3/3\n",
      "562/562 [==============================] - 9s 16ms/step - loss: 0.9427 - accuracy: 0.6305 - val_loss: 0.8714 - val_accuracy: 0.6672\n"
     ]
    }
   ],
   "source": [
    "model_3_history = model_3.fit(train_char_dataset,\n",
    "                              steps_per_epoch=int(0.1 * len(train_char_dataset)),\n",
    "                              epochs=3,\n",
    "                              validation_data = val_char_dataset,\n",
    "                              validation_steps=int(0.1* len(val_char_dataset)))"
   ]
  },
  {
   "cell_type": "markdown",
   "id": "08dea307",
   "metadata": {
    "id": "08dea307"
   },
   "source": [
    "### Evaluate the Model"
   ]
  },
  {
   "cell_type": "code",
   "execution_count": 41,
   "id": "2fdea782",
   "metadata": {
    "colab": {
     "base_uri": "https://localhost:8080/"
    },
    "id": "2fdea782",
    "outputId": "d6d70add-8fda-45f2-836b-2fe61bc29017"
   },
   "outputs": [
    {
     "name": "stdout",
     "output_type": "stream",
     "text": [
      "945/945 [==============================] - 5s 5ms/step - loss: 0.9061 - accuracy: 0.6484\n"
     ]
    },
    {
     "data": {
      "text/plain": [
       "[0.9060515761375427, 0.6483847498893738]"
      ]
     },
     "execution_count": 41,
     "metadata": {},
     "output_type": "execute_result"
    }
   ],
   "source": [
    "model_3.evaluate(val_char_dataset)"
   ]
  },
  {
   "cell_type": "code",
   "execution_count": 42,
   "id": "qR8YlESUMUPa",
   "metadata": {
    "colab": {
     "base_uri": "https://localhost:8080/"
    },
    "id": "qR8YlESUMUPa",
    "outputId": "ef698c03-ce94-490a-a0ea-d83c1dca59f8"
   },
   "outputs": [
    {
     "name": "stdout",
     "output_type": "stream",
     "text": [
      "945/945 [==============================] - 5s 5ms/step\n"
     ]
    },
    {
     "data": {
      "text/plain": [
       "array([[0.14712763, 0.3116202 , 0.20787427, 0.30352074, 0.0298571 ],\n",
       "       [0.16681269, 0.54253685, 0.04115377, 0.1864673 , 0.06302937],\n",
       "       [0.25745144, 0.16107936, 0.19938114, 0.34759235, 0.03449571],\n",
       "       ...,\n",
       "       [0.01519194, 0.03389669, 0.20543973, 0.02479323, 0.7206784 ],\n",
       "       [0.05014108, 0.17210321, 0.38640454, 0.04260339, 0.34874776],\n",
       "       [0.48146206, 0.35471576, 0.0987377 , 0.04336251, 0.02172194]],\n",
       "      dtype=float32)"
      ]
     },
     "execution_count": 42,
     "metadata": {},
     "output_type": "execute_result"
    }
   ],
   "source": [
    "model_3_pred_probs = model_3.predict(val_char_dataset)\n",
    "model_3_pred_probs"
   ]
  },
  {
   "cell_type": "code",
   "execution_count": 43,
   "id": "kZvjJ1bdMeEh",
   "metadata": {
    "colab": {
     "base_uri": "https://localhost:8080/"
    },
    "id": "kZvjJ1bdMeEh",
    "outputId": "a76aab34-8ed2-4b5f-8cc1-e29d3fcc2ac0"
   },
   "outputs": [
    {
     "data": {
      "text/plain": [
       "<tf.Tensor: shape=(30212,), dtype=int64, numpy=array([1, 1, 3, ..., 4, 2, 0], dtype=int64)>"
      ]
     },
     "execution_count": 43,
     "metadata": {},
     "output_type": "execute_result"
    }
   ],
   "source": [
    "model_3_preds = tf.argmax(model_3_pred_probs,axis=1)\n",
    "model_3_preds"
   ]
  },
  {
   "cell_type": "code",
   "execution_count": 44,
   "id": "4wpD5udUMmHj",
   "metadata": {
    "colab": {
     "base_uri": "https://localhost:8080/"
    },
    "id": "4wpD5udUMmHj",
    "outputId": "a3309329-e6a7-4ac3-b530-7b1e761405a5"
   },
   "outputs": [
    {
     "data": {
      "text/plain": [
       "{'accuracy_score': 0.6483847477823381,\n",
       " 'precision_score': 0.6421119942498236,\n",
       " 'recall_score': 0.6483847477823381,\n",
       " 'f1_score': 0.638241600085007}"
      ]
     },
     "execution_count": 44,
     "metadata": {},
     "output_type": "execute_result"
    }
   ],
   "source": [
    "model_3_results = find_scores(val_label_encoded,model_3_preds)\n",
    "model_3_results"
   ]
  },
  {
   "cell_type": "code",
   "execution_count": null,
   "id": "pr-qyPsHMyf_",
   "metadata": {
    "id": "pr-qyPsHMyf_"
   },
   "outputs": [],
   "source": []
  }
 ],
 "metadata": {
  "accelerator": "GPU",
  "colab": {
   "gpuType": "T4",
   "provenance": [],
   "toc_visible": true
  },
  "kernelspec": {
   "display_name": "Python 3 (ipykernel)",
   "language": "python",
   "name": "python3"
  },
  "language_info": {
   "codemirror_mode": {
    "name": "ipython",
    "version": 3
   },
   "file_extension": ".py",
   "mimetype": "text/x-python",
   "name": "python",
   "nbconvert_exporter": "python",
   "pygments_lexer": "ipython3",
   "version": "3.9.16"
  }
 },
 "nbformat": 4,
 "nbformat_minor": 5
}
