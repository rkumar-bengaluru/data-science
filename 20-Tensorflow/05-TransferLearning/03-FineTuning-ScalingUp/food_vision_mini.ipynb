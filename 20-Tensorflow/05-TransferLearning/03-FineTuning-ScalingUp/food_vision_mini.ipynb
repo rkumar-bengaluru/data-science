{
 "cells": [
  {
   "cell_type": "markdown",
   "id": "a3695cec",
   "metadata": {},
   "source": [
    "# Transfer Learning - Scaling Up "
   ]
  },
  {
   "cell_type": "markdown",
   "id": "b7ddf7d6",
   "metadata": {},
   "source": [
    "## Goals Of this Notebook\n",
    "\n",
    "1. Download and prepare 10% of Food101 Data (10 % Of training data)\n",
    "  * https://storage.googleapis.com/ztm_tf_course/food_vision/101_food_classes_10_percent.zip\n",
    "2. Training a feature extration transfer learning model on 10% of Food101 training data\n",
    " * Train and Test Data Split\n",
    " * Model Setup\n",
    "   * A **ModelCheckpoint** callback to save progress during training.\n",
    "   * Data Augmentation Layer.\n",
    "   * A headless (no top layer) **EfficientNetB0** architechture from **tf.keras.applications** as out base model.\n",
    "   * A Dense layer with 101 hiddent neurons (same as number of food classes) and sofmax activation as output layer.\n",
    "   * Categorical Cross Entropy as the loss function.\n",
    "   * Adam for optimizer.\n",
    "   * Fit for 5 epochs and evalate on 15% of test data.\n",
    "3. Fine tuning feature extraction model.\n",
    "  * Make the last 5 layers as trainable starting from the last checkpoint.\n",
    "  * Compile and Fit for another 5 epochs starting from last checkpoint.\n",
    "4. Saving and loading our trained model.\n",
    "5. Evaluate Performance of our Food Vision model trained on 10% of Food101 training data\n",
    "  * accuracy score\n",
    "  * confusion matrix\n",
    "  * classification report\n",
    "  * bar chart for F1 score\n",
    "  * Visualize prediction on test images.\n",
    "6. Finding our model worst wrong predictions\n",
    "  * Get the first 20 wrong prediction with high prediction probability\n",
    "7. Making prediction with Food Vision Model on custom images of food."
   ]
  },
  {
   "cell_type": "code",
   "execution_count": null,
   "id": "1ba36b52",
   "metadata": {},
   "outputs": [],
   "source": []
  },
  {
   "cell_type": "code",
   "execution_count": null,
   "id": "b93a4048",
   "metadata": {},
   "outputs": [],
   "source": []
  },
  {
   "cell_type": "code",
   "execution_count": null,
   "id": "aa4ec310",
   "metadata": {},
   "outputs": [],
   "source": []
  }
 ],
 "metadata": {
  "kernelspec": {
   "display_name": "Python 3 (ipykernel)",
   "language": "python",
   "name": "python3"
  },
  "language_info": {
   "codemirror_mode": {
    "name": "ipython",
    "version": 3
   },
   "file_extension": ".py",
   "mimetype": "text/x-python",
   "name": "python",
   "nbconvert_exporter": "python",
   "pygments_lexer": "ipython3",
   "version": "3.9.16"
  }
 },
 "nbformat": 4,
 "nbformat_minor": 5
}
