{
 "cells": [
  {
   "cell_type": "markdown",
   "id": "bf54d9a4",
   "metadata": {},
   "source": [
    "## Download Dependency"
   ]
  },
  {
   "cell_type": "code",
   "execution_count": 1,
   "id": "2b7ee910",
   "metadata": {},
   "outputs": [
    {
     "name": "stdout",
     "output_type": "stream",
     "text": [
      "\n",
      "Saved under utilities (1).py\n"
     ]
    }
   ],
   "source": [
    "!python -m wget https://github.com/rkumar-bengaluru/pythonbyexample/raw/main/tensorflow/utilities.py"
   ]
  },
  {
   "cell_type": "code",
   "execution_count": 2,
   "id": "cc0c58eb",
   "metadata": {},
   "outputs": [],
   "source": [
    "from utilities import walk_dir,download_file,unzip_file,clean_up"
   ]
  },
  {
   "cell_type": "code",
   "execution_count": 3,
   "id": "fe3544ea",
   "metadata": {},
   "outputs": [
    {
     "name": "stdout",
     "output_type": "stream",
     "text": [
      "downloading file 10_food_classes_10_percent.zip\n"
     ]
    }
   ],
   "source": [
    "file_name = 'https://storage.googleapis.com/ztm_tf_course/food_vision/10_food_classes_10_percent.zip'\n",
    "download_file(file_name)"
   ]
  },
  {
   "cell_type": "code",
   "execution_count": 4,
   "id": "436600aa",
   "metadata": {},
   "outputs": [],
   "source": [
    "unzip_file(file_name)"
   ]
  },
  {
   "cell_type": "code",
   "execution_count": 5,
   "id": "8aff2c8e",
   "metadata": {},
   "outputs": [
    {
     "name": "stdout",
     "output_type": "stream",
     "text": [
      "there are 2 directories and 0 images in path 10_food_classes_10_percent\n",
      "there are 10 directories and 0 images in path 10_food_classes_10_percent\\test\n",
      "there are 0 directories and 250 images in path 10_food_classes_10_percent\\test\\chicken_curry\n",
      "there are 0 directories and 250 images in path 10_food_classes_10_percent\\test\\chicken_wings\n",
      "there are 0 directories and 250 images in path 10_food_classes_10_percent\\test\\fried_rice\n",
      "there are 0 directories and 250 images in path 10_food_classes_10_percent\\test\\grilled_salmon\n",
      "there are 0 directories and 250 images in path 10_food_classes_10_percent\\test\\hamburger\n",
      "there are 0 directories and 250 images in path 10_food_classes_10_percent\\test\\ice_cream\n",
      "there are 0 directories and 250 images in path 10_food_classes_10_percent\\test\\pizza\n",
      "there are 0 directories and 250 images in path 10_food_classes_10_percent\\test\\ramen\n",
      "there are 0 directories and 250 images in path 10_food_classes_10_percent\\test\\steak\n",
      "there are 0 directories and 250 images in path 10_food_classes_10_percent\\test\\sushi\n",
      "there are 10 directories and 0 images in path 10_food_classes_10_percent\\train\n",
      "there are 0 directories and 75 images in path 10_food_classes_10_percent\\train\\chicken_curry\n",
      "there are 0 directories and 75 images in path 10_food_classes_10_percent\\train\\chicken_wings\n",
      "there are 0 directories and 75 images in path 10_food_classes_10_percent\\train\\fried_rice\n",
      "there are 0 directories and 75 images in path 10_food_classes_10_percent\\train\\grilled_salmon\n",
      "there are 0 directories and 75 images in path 10_food_classes_10_percent\\train\\hamburger\n",
      "there are 0 directories and 75 images in path 10_food_classes_10_percent\\train\\ice_cream\n",
      "there are 0 directories and 75 images in path 10_food_classes_10_percent\\train\\pizza\n",
      "there are 0 directories and 75 images in path 10_food_classes_10_percent\\train\\ramen\n",
      "there are 0 directories and 75 images in path 10_food_classes_10_percent\\train\\steak\n",
      "there are 0 directories and 75 images in path 10_food_classes_10_percent\\train\\sushi\n"
     ]
    }
   ],
   "source": [
    "walk_dir('10_food_classes_10_percent')"
   ]
  },
  {
   "cell_type": "code",
   "execution_count": 6,
   "id": "6e9acf60",
   "metadata": {},
   "outputs": [
    {
     "name": "stdout",
     "output_type": "stream",
     "text": [
      "removing file and directory 10_food_classes_10_percent.zip\n",
      "directory exists 10_food_classes_10_percent\n"
     ]
    }
   ],
   "source": [
    "clean_up(file_name)"
   ]
  },
  {
   "cell_type": "code",
   "execution_count": null,
   "id": "5605c4ef",
   "metadata": {},
   "outputs": [],
   "source": []
  }
 ],
 "metadata": {
  "kernelspec": {
   "display_name": "Python 3 (ipykernel)",
   "language": "python",
   "name": "python3"
  },
  "language_info": {
   "codemirror_mode": {
    "name": "ipython",
    "version": 3
   },
   "file_extension": ".py",
   "mimetype": "text/x-python",
   "name": "python",
   "nbconvert_exporter": "python",
   "pygments_lexer": "ipython3",
   "version": "3.9.16"
  }
 },
 "nbformat": 4,
 "nbformat_minor": 5
}
