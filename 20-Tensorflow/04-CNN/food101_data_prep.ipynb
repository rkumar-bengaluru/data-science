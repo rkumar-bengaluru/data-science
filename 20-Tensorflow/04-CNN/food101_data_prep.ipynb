{
 "cells": [
  {
   "cell_type": "code",
   "execution_count": 1,
   "id": "2f352dd0",
   "metadata": {},
   "outputs": [],
   "source": [
    "import json\n",
    "from tqdm.notebook import tqdm"
   ]
  },
  {
   "cell_type": "markdown",
   "id": "dbf96ce2",
   "metadata": {},
   "source": [
    "# Create target class folders and move images"
   ]
  },
  {
   "cell_type": "code",
   "execution_count": 11,
   "id": "fab4d2a6",
   "metadata": {},
   "outputs": [],
   "source": [
    "import shutil\n",
    "import os\n",
    "\n",
    "def copy_images(root_folder,target_root,data_type,target_folders):\n",
    "    \"\"\"\n",
    "    Copies `labels[taret_labels]` images from parent folder to\n",
    "    new subset named after dataset folder\n",
    "    \n",
    "    Eg. move steak images to data/steak_subset/train & \n",
    "                             data/steak_subset/test\n",
    "    \n",
    "    Parameters\n",
    "    ----------\n",
    "    root_folder (str) - original folder path with all data\n",
    "    target_root (str) - name of parent folder to copy to\n",
    "    data_type (str) - train or test \n",
    "    labels (list) - list of training and test labels\n",
    "    target_folders (list) - list of target labels to copy to.eg. ['steak','pizza']\n",
    "    \"\"\"\n",
    "    print(f\"\\nUsing {data_type} labels...\")\n",
    "    labels = get_labels(root_folder + \"/meta/\" + data_type + \".json\")\n",
    "    \n",
    "    for i in target_folders:\n",
    "        # make target dir\n",
    "        os.makedirs(target_root + \"/\" + data_type + \"/\" + i,exist_ok=True)\n",
    "        # go through the labels and get appropriate classes\n",
    "        images_moved = []\n",
    "        for j in labels[i]:\n",
    "            # create original image path and new path\n",
    "            orig_path = root_folder + \"/images/\" + j + \".jpg\"\n",
    "            new_path  = target_root + \"/\" +  data_type + \"/\" + j + \".jpg\"\n",
    "            \n",
    "            # copy images from old path to new path\n",
    "            shutil.copy2(orig_path,new_path)\n",
    "            images_moved.append(new_path)\n",
    "        print(f\"Copied {len(images_moved)} images from {data_type} dataset {i} class...\")\n",
    "    "
   ]
  },
  {
   "cell_type": "code",
   "execution_count": 14,
   "id": "5eb91eff",
   "metadata": {},
   "outputs": [
    {
     "name": "stdout",
     "output_type": "stream",
     "text": [
      "\n",
      "Using train labels...\n",
      "Copied 750 images from train dataset pizza class...\n",
      "\n",
      "Using train labels...\n",
      "Copied 750 images from train dataset steak class...\n"
     ]
    }
   ],
   "source": [
    "copy_images(root_folder='food-101',target_root='data',data_type='train',target_folders=['pizza'])\n",
    "copy_images(root_folder='food-101',target_root='data',data_type='train',target_folders=['steak'])"
   ]
  },
  {
   "cell_type": "code",
   "execution_count": 15,
   "id": "fb2ca43b",
   "metadata": {},
   "outputs": [
    {
     "name": "stdout",
     "output_type": "stream",
     "text": [
      "\n",
      "Using test labels...\n",
      "Copied 250 images from test dataset pizza class...\n",
      "\n",
      "Using test labels...\n",
      "Copied 250 images from test dataset steak class...\n"
     ]
    }
   ],
   "source": [
    "copy_images(root_folder='food-101',target_root='data',data_type='test',target_folders=['pizza'])\n",
    "copy_images(root_folder='food-101',target_root='data',data_type='test',target_folders=['steak'])"
   ]
  },
  {
   "cell_type": "code",
   "execution_count": null,
   "id": "4a172179",
   "metadata": {},
   "outputs": [],
   "source": []
  },
  {
   "cell_type": "code",
   "execution_count": 5,
   "id": "94594793",
   "metadata": {},
   "outputs": [],
   "source": [
    "# Get labels\n",
    "def get_labels(label_path):\n",
    "    \"\"\"\n",
    "    Accepts a label path (in the form of json) and returns the file\n",
    "    as python object\n",
    "    \"\"\"\n",
    "    with open(label_path) as f:\n",
    "        return json.load(f)\n",
    "\n",
    "train_labels = get_labels('food-101/meta/train.json')\n",
    "test_labels  = get_labels(\"food-101/meta/test.json\")"
   ]
  },
  {
   "cell_type": "code",
   "execution_count": 8,
   "id": "f270473f",
   "metadata": {},
   "outputs": [
    {
     "data": {
      "text/plain": [
       "750"
      ]
     },
     "execution_count": 8,
     "metadata": {},
     "output_type": "execute_result"
    }
   ],
   "source": [
    "len(train_labels['pizza'])"
   ]
  },
  {
   "cell_type": "code",
   "execution_count": null,
   "id": "4f7152f9",
   "metadata": {},
   "outputs": [],
   "source": []
  }
 ],
 "metadata": {
  "kernelspec": {
   "display_name": "Python 3 (ipykernel)",
   "language": "python",
   "name": "python3"
  },
  "language_info": {
   "codemirror_mode": {
    "name": "ipython",
    "version": 3
   },
   "file_extension": ".py",
   "mimetype": "text/x-python",
   "name": "python",
   "nbconvert_exporter": "python",
   "pygments_lexer": "ipython3",
   "version": "3.9.16"
  }
 },
 "nbformat": 4,
 "nbformat_minor": 5
}
