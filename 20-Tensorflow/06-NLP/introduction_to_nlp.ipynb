{
 "cells": [
  {
   "cell_type": "markdown",
   "id": "8311252d",
   "metadata": {},
   "source": [
    "# Introduction To Tensorflow NLP"
   ]
  },
  {
   "cell_type": "markdown",
   "id": "d431b2b8",
   "metadata": {},
   "source": [
    "## Topics covered in this section\n",
    "\n",
    "* Typical RNN Architecture (220-223)\n",
    "* Download Sample Data (224)\n",
    "* Visualize Text Data (225)\n",
    "* Train and Test Data Split - (226)\n",
    "* Converting text into numbers using tokenization - (227 - 229)\n",
    "* Turning our tokenized text into an embedding (230)\n",
    "* Modelling Experiments (231)\n",
    "  * Model_0 - Naive Bayes with TF-IDF encoder (232)\n",
    "    * Custom Function to visualize Machine Learning Metrics (233)\n",
    "  * Model_1 - Feed Forward Neural Network (234)\n",
    "    * Visualize Learned Embeddings (235)\n",
    "  * Overview Of RNN (236)\n",
    "  * Model_2 - LSTM RNN Model (237)\n",
    "  * Model_3 - GRU RNN Model (238)\n",
    "  * Model_4 - Bidirectional RNN Model (239)\n",
    "  * Model_5 - 1D Convolution Neural Network for Text and Sequences (240 - 241)\n",
    "  * Tranfer Learning for NLP (242)\n",
    "  * Model_6 - Build, Train & Evaluate transfer learning model for NLP (243)\n",
    "      * Common Ways to improve Model Performance (244)\n",
    "  * Model_7 - Build, Train and Evaluate transfer learning with 10% Data (244 -245)\n",
    "      * Fix data leakage issue (246)\n",
    "* Comparing Modelling Experiments Evaluation Metrics (247)\n",
    "* Upload training logs to tensorboard and compare (248)\n",
    "* Saving and loading a trained NLP model (249)\n",
    "* Visualize the most wrong predictions (250 - 251)\n",
    "* Visualize prediction on test dataset (252)\n",
    "* Speed/Score trade off (253)"
   ]
  },
  {
   "cell_type": "markdown",
   "id": "ebd4d200",
   "metadata": {},
   "source": [
    "## RNN Architechture - (220 - 223)\n",
    "![RNN Architechture](https://raw.githubusercontent.com/rkumar-bengaluru/data-science/main/20-Tensorflow/06-NLP/rnn-architecture.png)\n"
   ]
  },
  {
   "cell_type": "markdown",
   "id": "3e7e5817",
   "metadata": {},
   "source": [
    "## Download Sample Data - 224\n",
    "\n",
    "* Link to data set https://storage.googleapis.com/ztm_tf_course/nlp_getting_started.zip\n",
    "* Write a function to get the above data set.\n",
    "* Unzip the zip file."
   ]
  },
  {
   "cell_type": "code",
   "execution_count": 1,
   "id": "c03837e6",
   "metadata": {},
   "outputs": [],
   "source": [
    "# write code to download and extract data"
   ]
  },
  {
   "cell_type": "markdown",
   "id": "485b39eb",
   "metadata": {},
   "source": [
    "## Visualize Data - 225\n",
    "\n",
    "* Load the data as pandas dataframe.\n",
    "* Shuffle training data frame\n",
    "* Check class/label counts on dataset\n",
    "* Write a function to randomly print 5 samples with target label and text message"
   ]
  },
  {
   "cell_type": "code",
   "execution_count": 2,
   "id": "a5c2e27c",
   "metadata": {},
   "outputs": [],
   "source": [
    "# write code for visualize data"
   ]
  },
  {
   "cell_type": "markdown",
   "id": "ac46f903",
   "metadata": {},
   "source": [
    "## Train and Test Data Split - (226)\n",
    "\n",
    "* Scikit learn train_test_split"
   ]
  },
  {
   "cell_type": "code",
   "execution_count": 3,
   "id": "e44b673d",
   "metadata": {},
   "outputs": [],
   "source": [
    "# Write code to split data into train and validation data set"
   ]
  },
  {
   "cell_type": "markdown",
   "id": "090429e3",
   "metadata": {},
   "source": [
    "## Converting text into numbers using tokenization - (227-229)\n",
    "\n",
    "* Tokenization vs Embedding\n",
    "* https://www.tensorflow.org/text/guide/word_embeddings\n",
    "* https://tfhub.dev/s?module-type=text-embedding\n",
    "* http://jalammar.github.io/illustrated-word2vec/"
   ]
  },
  {
   "cell_type": "code",
   "execution_count": 4,
   "id": "856f2210",
   "metadata": {},
   "outputs": [],
   "source": [
    "# Write code for text vectorization using tensorflow\n",
    "# Use tensorflow text vectorization adapt function on our training data."
   ]
  },
  {
   "cell_type": "markdown",
   "id": "67e1f228",
   "metadata": {},
   "source": [
    "## Turning our tokenized text into an embedding (230)\n",
    "\n",
    "* Use tensorflow embedding layer"
   ]
  },
  {
   "cell_type": "code",
   "execution_count": 5,
   "id": "af4b9918",
   "metadata": {},
   "outputs": [],
   "source": [
    "# write code for embedding"
   ]
  },
  {
   "cell_type": "markdown",
   "id": "0004afcf",
   "metadata": {},
   "source": [
    "## Modelling Experiments (231)\n",
    "\n",
    "|  Experiment No| Model  |\n",
    "|--|--|\n",
    "| 0| Naive Bayes with TF-IDF encoder|\n",
    "| 1| Feed Forward neural network (Dense Model)|\n",
    "| 2| LSTM (RNN)|\n",
    "| 3| GRU (RNN) |\n",
    "| 4| Bi-Directional - LSTM (RNN)|\n",
    "| 5| 1D Convolution Neural Network|\n",
    "| 6| Tensorflow Hub Pretrained Feature Extractor|\n",
    "| 7| Tensorflow Hub Pretrained Feature Extractor(10% Data)"
   ]
  },
  {
   "cell_type": "markdown",
   "id": "5edba160",
   "metadata": {},
   "source": [
    "### Model_0 - Naive Bayes with TF-IDF encoder (232)\n",
    "\n",
    "* Reference\n",
    "  * https://scikit-learn.org/stable/tutorial/machine_learning_map/index.html"
   ]
  },
  {
   "cell_type": "code",
   "execution_count": 6,
   "id": "86389127",
   "metadata": {},
   "outputs": [],
   "source": [
    "# use scikit learn for text classficiation"
   ]
  },
  {
   "cell_type": "markdown",
   "id": "d6f00920",
   "metadata": {},
   "source": [
    "#### Write Custom Function to visualize Machine Learning Metrics (233)\n",
    "\n",
    "![RNN Architechture](https://raw.githubusercontent.com/rkumar-bengaluru/data-science/main/20-Tensorflow/06-NLP/metrics.jpg)\n",
    "\n",
    "Reference - https://scikit-learn.org/stable/modules/model_evaluation.html"
   ]
  },
  {
   "cell_type": "code",
   "execution_count": 7,
   "id": "4d1f7e53",
   "metadata": {},
   "outputs": [],
   "source": [
    "# write a generic function for the metrics"
   ]
  },
  {
   "cell_type": "markdown",
   "id": "f7d6060e",
   "metadata": {},
   "source": [
    "### Model_1 - Feed Forward Neural Network (Dense Model) (234)\n",
    "\n",
    "* Use Tensorboard callback\n",
    "* Use ModelCheckpoint callback"
   ]
  },
  {
   "cell_type": "code",
   "execution_count": 8,
   "id": "f22c4c07",
   "metadata": {},
   "outputs": [],
   "source": [
    "# write code to create a feed forward neural network"
   ]
  },
  {
   "cell_type": "markdown",
   "id": "b603c246",
   "metadata": {},
   "source": [
    "#### Visualize Learned Embeddings (235)\n",
    "\n",
    "* https://projector.tensorflow.org/\n",
    "* https://www.tensorflow.org/text/guide/word_embeddings"
   ]
  },
  {
   "cell_type": "markdown",
   "id": "380c4e15",
   "metadata": {},
   "source": [
    "## Overview Of RNN (236)\n",
    "\n",
    "![RNN Architechture](https://raw.githubusercontent.com/rkumar-bengaluru/data-science/main/20-Tensorflow/06-NLP/rnn-arch.jpg)\n",
    "\n",
    "* https://www.youtube.com/watch?v=ySEx_Bqxvvo&list=PLtBw6njQRU-rwp5__7C0oIVt26ZgjG9NI&index=3&ab_channel=AlexanderAmini\n",
    "* https://colah.github.io/posts/2015-08-Understanding-LSTMs/\n",
    "* http://karpathy.github.io/2015/05/21/rnn-effectiveness/"
   ]
  },
  {
   "cell_type": "markdown",
   "id": "2327d5cb",
   "metadata": {},
   "source": [
    "## Model_2 - LSTM RNN Model (237)"
   ]
  },
  {
   "cell_type": "code",
   "execution_count": 9,
   "id": "362a07ed",
   "metadata": {},
   "outputs": [],
   "source": [
    "# Write code for LSTM RNN Model"
   ]
  },
  {
   "cell_type": "markdown",
   "id": "610211dc",
   "metadata": {},
   "source": [
    "## Model_3 - GRU RNN Model (238)"
   ]
  },
  {
   "cell_type": "code",
   "execution_count": 10,
   "id": "a1917da2",
   "metadata": {},
   "outputs": [],
   "source": [
    "# Write code for LSTM RNN Model"
   ]
  },
  {
   "cell_type": "markdown",
   "id": "6e19ce34",
   "metadata": {},
   "source": [
    "## Model_4 - Bidirectional RNN Model (239)"
   ]
  },
  {
   "cell_type": "code",
   "execution_count": 11,
   "id": "e3f5222c",
   "metadata": {},
   "outputs": [],
   "source": [
    "# Write code for Bi-Directional RNN Model"
   ]
  },
  {
   "cell_type": "markdown",
   "id": "77938f2a",
   "metadata": {},
   "source": [
    "## Model_5 - 1D Convolution Neural Network for Text and Sequences (240 - 241)\n",
    "\n",
    "### Architecture\n",
    "![RNN Architechture](https://raw.githubusercontent.com/rkumar-bengaluru/data-science/main/20-Tensorflow/06-NLP/cnn-architecture-text-sequence.jpg)\n",
    "\n",
    "Reference - https://poloclub.github.io/cnn-explainer/"
   ]
  },
  {
   "cell_type": "code",
   "execution_count": 12,
   "id": "a869a602",
   "metadata": {},
   "outputs": [],
   "source": [
    "# Write code for Conv1D Neural Network"
   ]
  },
  {
   "cell_type": "markdown",
   "id": "6501a302",
   "metadata": {},
   "source": [
    "## Tranfer Learning for NLP (242)\n",
    "\n",
    "### Architecture\n",
    "\n",
    "![RNN Architechture](https://raw.githubusercontent.com/rkumar-bengaluru/data-science/main/20-Tensorflow/06-NLP/nlp-feature-extraction.jpg)\n",
    "\n",
    "Reference - https://tfhub.dev/google/universal-sentence-encoder/4"
   ]
  },
  {
   "cell_type": "code",
   "execution_count": 14,
   "id": "005698b7",
   "metadata": {},
   "outputs": [],
   "source": [
    "# write code for sample sentence encoding using pre-trained model above."
   ]
  },
  {
   "cell_type": "markdown",
   "id": "34ff2348",
   "metadata": {},
   "source": [
    "## Model_6 - Build, Train & Evaluate transfer learning model for NLP (243)"
   ]
  },
  {
   "cell_type": "code",
   "execution_count": 13,
   "id": "5ccafedd",
   "metadata": {},
   "outputs": [],
   "source": [
    "# write code to load universal sentence encoder and apply to our data set."
   ]
  },
  {
   "cell_type": "markdown",
   "id": "a87e34e3",
   "metadata": {},
   "source": [
    "### Common Ways to improve Model Performance (244)\n",
    "\n",
    "* Adding New Layers\n",
    "* Increase Number Of hiddent units.\n",
    "* Change Activation Function.\n",
    "* Change Optimizer Function.\n",
    "* Change the learning rate.\n",
    "* Fitting on More Data\n",
    "* Fitting for longer."
   ]
  },
  {
   "cell_type": "markdown",
   "id": "455ce98d",
   "metadata": {},
   "source": [
    "## Model_7 - Build, Train and Evaluate transfer learning with 10% Training Data (244 - 245)\n",
    "\n",
    "* Write code to sample 10 % training data from original training data.\n",
    "* Use tf.keras.models.clone_model to recreate model_6 as model_7"
   ]
  },
  {
   "cell_type": "code",
   "execution_count": 15,
   "id": "77bbc38b",
   "metadata": {},
   "outputs": [],
   "source": [
    "# Write code to sample 10 % training data from original training data.\n",
    "\n",
    "# Write code to build, train and evaluate transfer learning model using USE pretrained model"
   ]
  },
  {
   "cell_type": "markdown",
   "id": "5b60d160",
   "metadata": {},
   "source": [
    "### Fix data leakage issue (246)"
   ]
  },
  {
   "cell_type": "code",
   "execution_count": 16,
   "id": "fccd9daf",
   "metadata": {},
   "outputs": [],
   "source": [
    "# Write code to fix data issue bcos with 10 % training data the accuracy is higher than with 100 % training data"
   ]
  },
  {
   "cell_type": "markdown",
   "id": "930fea82",
   "metadata": {},
   "source": [
    "### Comparing Modelling Experiments Evaluation Metrics (247)\n",
    "\n",
    "* Put all model results in a pandas dataframe\n",
    "* Visualize accuracy/precision/recall/f1 across all models."
   ]
  },
  {
   "cell_type": "code",
   "execution_count": 17,
   "id": "26281157",
   "metadata": {},
   "outputs": [],
   "source": [
    "# write code to visualize results."
   ]
  },
  {
   "cell_type": "markdown",
   "id": "5be2f392",
   "metadata": {},
   "source": [
    "## Upload training logs to tensorboard and compare (248)\n",
    "\n",
    "* https://tensorboard.dev/"
   ]
  },
  {
   "cell_type": "code",
   "execution_count": 18,
   "id": "770b8969",
   "metadata": {},
   "outputs": [],
   "source": [
    "# Write code to upload all logs dir"
   ]
  },
  {
   "cell_type": "markdown",
   "id": "9bee1540",
   "metadata": {},
   "source": [
    "## Saving and loading a trained NLP model (249)\n",
    "\n",
    "* https://www.tensorflow.org/tutorials/keras/save_and_load \n",
    "* Save Model_6"
   ]
  },
  {
   "cell_type": "code",
   "execution_count": 20,
   "id": "c73c59f7",
   "metadata": {},
   "outputs": [],
   "source": [
    "# TODO"
   ]
  },
  {
   "cell_type": "markdown",
   "id": "d81616f8",
   "metadata": {},
   "source": [
    "## Visualize the most wrong predictions (250 - 251)\n",
    "\n",
    "* If our best model is not performing well, then what examples it is getting wrong?\n",
    "* Out of wrong prediction, which predictions are most wrong meaning high prediction probablity of wrong class."
   ]
  },
  {
   "cell_type": "code",
   "execution_count": null,
   "id": "2f41d62a",
   "metadata": {},
   "outputs": [],
   "source": [
    "# TODO"
   ]
  },
  {
   "cell_type": "markdown",
   "id": "af1f5f56",
   "metadata": {},
   "source": [
    "## Visualize prediction on test dataset (252)"
   ]
  },
  {
   "cell_type": "code",
   "execution_count": 21,
   "id": "494ccfb8",
   "metadata": {},
   "outputs": [],
   "source": [
    "# TODO"
   ]
  },
  {
   "cell_type": "markdown",
   "id": "f5ef88d8",
   "metadata": {},
   "source": [
    "## Speed/Score trade off (253)"
   ]
  },
  {
   "cell_type": "code",
   "execution_count": null,
   "id": "c3834a31",
   "metadata": {},
   "outputs": [],
   "source": [
    "# TODO"
   ]
  }
 ],
 "metadata": {
  "kernelspec": {
   "display_name": "Python 3 (ipykernel)",
   "language": "python",
   "name": "python3"
  },
  "language_info": {
   "codemirror_mode": {
    "name": "ipython",
    "version": 3
   },
   "file_extension": ".py",
   "mimetype": "text/x-python",
   "name": "python",
   "nbconvert_exporter": "python",
   "pygments_lexer": "ipython3",
   "version": "3.10.10"
  }
 },
 "nbformat": 4,
 "nbformat_minor": 5
}
