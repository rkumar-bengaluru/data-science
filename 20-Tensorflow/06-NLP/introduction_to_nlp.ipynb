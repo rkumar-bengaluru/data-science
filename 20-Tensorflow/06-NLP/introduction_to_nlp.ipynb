{
 "cells": [
  {
   "cell_type": "markdown",
   "id": "8311252d",
   "metadata": {},
   "source": [
    "# Introduction To Tensorflow NLP"
   ]
  },
  {
   "cell_type": "markdown",
   "id": "d431b2b8",
   "metadata": {},
   "source": [
    "## Topics covered in this section\n",
    "\n",
    "* Typical RNN Architecture (220-223)\n",
    "* Download Sample Data (224)\n",
    "* Visualize Text Data (225)\n",
    "* Train and Test Data Split - (226)\n",
    "* Converting text into numbers using tokenization - (227 - 229)\n",
    "* Turning our tokenized text into an embedding (230)\n",
    "* Modelling Experiments (231)\n",
    "  * Model_0 - Naive Bayes with TF-IDF encoder (232)\n",
    "    * Custom Function to visualize Machine Learning Metrics (233)\n",
    "  * Model_1 - Feed Forward Neural Network (234)\n",
    "    * Visualize Learned Embeddings (235)\n",
    "  * Overview Of RNN (236)\n",
    "  * Model_2 - LSTM RNN Model (237)\n",
    "  * Model_3 - GRU RNN Model (238)\n",
    "  * Model_4 - Bidirectional RNN Model (239)\n",
    "  * Model_5 - 1D Convolution Neural Network for Text and Sequences (240 - 241)\n",
    "* Comparing Modelling Experiments Evaluation Metrics (247)\n",
    "* Combining our models into an ensemble\n",
    "* Saving and loading a trained model\n",
    "* Find the most wrong predictions"
   ]
  },
  {
   "cell_type": "markdown",
   "id": "ebd4d200",
   "metadata": {},
   "source": [
    "## RNN Architechture - (220 - 223)\n",
    "![RNN Architechture](https://raw.githubusercontent.com/rkumar-bengaluru/data-science/main/20-Tensorflow/06-NLP/rnn-architecture.png)\n"
   ]
  },
  {
   "cell_type": "markdown",
   "id": "3e7e5817",
   "metadata": {},
   "source": [
    "## Download Sample Data - 224\n",
    "\n",
    "* Link to data set https://storage.googleapis.com/ztm_tf_course/nlp_getting_started.zip\n",
    "* Write a function to get the above data set.\n",
    "* Unzip the zip file."
   ]
  },
  {
   "cell_type": "code",
   "execution_count": 1,
   "id": "c03837e6",
   "metadata": {},
   "outputs": [],
   "source": [
    "# write code to download and extract data"
   ]
  },
  {
   "cell_type": "markdown",
   "id": "485b39eb",
   "metadata": {},
   "source": [
    "## Visualize Data - 225\n",
    "\n",
    "* Load the data as pandas dataframe.\n",
    "* Shuffle training data frame\n",
    "* Check class/label counts on dataset\n",
    "* Write a function to randomly print 5 samples with target label and text message"
   ]
  },
  {
   "cell_type": "code",
   "execution_count": 1,
   "id": "a5c2e27c",
   "metadata": {},
   "outputs": [],
   "source": [
    "# write code for visualize data"
   ]
  },
  {
   "cell_type": "markdown",
   "id": "ac46f903",
   "metadata": {},
   "source": [
    "## Train and Test Data Split - (226)\n",
    "\n",
    "* Scikit learn train_test_split"
   ]
  },
  {
   "cell_type": "code",
   "execution_count": 1,
   "id": "e44b673d",
   "metadata": {},
   "outputs": [],
   "source": [
    "# Write code to split data into train and validation data set"
   ]
  },
  {
   "cell_type": "markdown",
   "id": "090429e3",
   "metadata": {},
   "source": [
    "## Converting text into numbers using tokenization - (227-229)\n",
    "\n",
    "* Tokenization vs Embedding\n",
    "* https://www.tensorflow.org/text/guide/word_embeddings\n",
    "* https://tfhub.dev/s?module-type=text-embedding\n",
    "* http://jalammar.github.io/illustrated-word2vec/"
   ]
  },
  {
   "cell_type": "code",
   "execution_count": 3,
   "id": "856f2210",
   "metadata": {},
   "outputs": [],
   "source": [
    "# Write code for text vectorization using tensorflow\n",
    "# Use tensorflow text vectorization adapt function on our training data."
   ]
  },
  {
   "cell_type": "markdown",
   "id": "67e1f228",
   "metadata": {},
   "source": [
    "## Turning our tokenized text into an embedding (230)\n",
    "\n",
    "* Use tensorflow embedding layer"
   ]
  },
  {
   "cell_type": "code",
   "execution_count": 1,
   "id": "af4b9918",
   "metadata": {},
   "outputs": [],
   "source": [
    "# write code for embedding"
   ]
  },
  {
   "cell_type": "markdown",
   "id": "0004afcf",
   "metadata": {},
   "source": [
    "## Modelling Experiments (231)\n",
    "\n",
    "|  Experiment No| Model  |\n",
    "|--|--|\n",
    "| 0| Naive Bayes with TF-IDF encoder|\n",
    "| 1| Feed Forward neural network (Dense Model)|\n",
    "| 2| LSTM (RNN)|\n",
    "| 3| GRU (RNN) |\n",
    "| 4| Bi-Directional - LSTM (RNN)|\n",
    "| 5| 1D Convolution Neural Network|\n",
    "| 6| Tensorflow Hub Pretrained Feature Extractor|\n",
    "| 7| Tensorflow Hub Pretrained Feature Extractor(10% Data)"
   ]
  },
  {
   "cell_type": "markdown",
   "id": "5edba160",
   "metadata": {},
   "source": [
    "### Model_0 - Naive Bayes with TF-IDF encoder (232)\n",
    "\n",
    "* Reference\n",
    "  * https://scikit-learn.org/stable/tutorial/machine_learning_map/index.html"
   ]
  },
  {
   "cell_type": "code",
   "execution_count": 2,
   "id": "86389127",
   "metadata": {},
   "outputs": [],
   "source": [
    "# use scikit learn for text classficiation"
   ]
  },
  {
   "cell_type": "markdown",
   "id": "d6f00920",
   "metadata": {},
   "source": [
    "#### Write Custom Function to visualize Machine Learning Metrics (233)\n",
    "\n",
    "![RNN Architechture](https://raw.githubusercontent.com/rkumar-bengaluru/data-science/main/20-Tensorflow/06-NLP/metrics.jpg)\n",
    "\n",
    "Reference - https://scikit-learn.org/stable/modules/model_evaluation.html"
   ]
  },
  {
   "cell_type": "code",
   "execution_count": 7,
   "id": "4d1f7e53",
   "metadata": {},
   "outputs": [],
   "source": [
    "# write a generic function for the metrics"
   ]
  },
  {
   "cell_type": "markdown",
   "id": "f7d6060e",
   "metadata": {},
   "source": [
    "### Model_1 - Feed Forward Neural Network (Dense Model) (234)\n",
    "\n",
    "* Use Tensorboard callback\n",
    "* Use ModelCheckpoint callback"
   ]
  },
  {
   "cell_type": "code",
   "execution_count": 6,
   "id": "f22c4c07",
   "metadata": {},
   "outputs": [],
   "source": [
    "# write code to create a feed forward neural network"
   ]
  },
  {
   "cell_type": "markdown",
   "id": "b603c246",
   "metadata": {},
   "source": [
    "#### Visualize Learned Embeddings (235)\n",
    "\n",
    "* https://projector.tensorflow.org/\n",
    "* https://www.tensorflow.org/text/guide/word_embeddings"
   ]
  },
  {
   "cell_type": "markdown",
   "id": "380c4e15",
   "metadata": {},
   "source": [
    "## Overview Of RNN (236)\n",
    "\n",
    "![RNN Architechture](https://raw.githubusercontent.com/rkumar-bengaluru/data-science/main/20-Tensorflow/06-NLP/rnn-arch.jpg)\n",
    "\n",
    "* https://www.youtube.com/watch?v=ySEx_Bqxvvo&list=PLtBw6njQRU-rwp5__7C0oIVt26ZgjG9NI&index=3&ab_channel=AlexanderAmini\n",
    "* https://colah.github.io/posts/2015-08-Understanding-LSTMs/\n",
    "* http://karpathy.github.io/2015/05/21/rnn-effectiveness/"
   ]
  },
  {
   "cell_type": "markdown",
   "id": "2327d5cb",
   "metadata": {},
   "source": [
    "## Model_2 - LSTM RNN Model (237)"
   ]
  },
  {
   "cell_type": "code",
   "execution_count": 8,
   "id": "362a07ed",
   "metadata": {},
   "outputs": [],
   "source": [
    "# Write code for LSTM RNN Model"
   ]
  },
  {
   "cell_type": "markdown",
   "id": "610211dc",
   "metadata": {},
   "source": [
    "## Model_3 - GRU RNN Model (238)"
   ]
  },
  {
   "cell_type": "code",
   "execution_count": 9,
   "id": "a1917da2",
   "metadata": {},
   "outputs": [],
   "source": [
    "# Write code for LSTM RNN Model"
   ]
  },
  {
   "cell_type": "markdown",
   "id": "6e19ce34",
   "metadata": {},
   "source": [
    "## Model_4 - Bidirectional RNN Model (239)"
   ]
  },
  {
   "cell_type": "code",
   "execution_count": 10,
   "id": "e3f5222c",
   "metadata": {},
   "outputs": [],
   "source": [
    "# Write code for Bi-Directional RNN Model"
   ]
  },
  {
   "cell_type": "markdown",
   "id": "77938f2a",
   "metadata": {},
   "source": [
    "## Model_5 - 1D Convolution Neural Network for Text and Sequences (240 - 241)\n",
    "\n",
    "### Architecture\n",
    "![RNN Architechture](https://raw.githubusercontent.com/rkumar-bengaluru/data-science/main/20-Tensorflow/06-NLP/cnn-architecture-text-sequence.jpg)\n",
    "\n",
    "Reference - https://poloclub.github.io/cnn-explainer/"
   ]
  },
  {
   "cell_type": "code",
   "execution_count": 11,
   "id": "a869a602",
   "metadata": {},
   "outputs": [],
   "source": [
    "# Write code for Conv1D Neural Network"
   ]
  },
  {
   "cell_type": "code",
   "execution_count": null,
   "id": "e54a32bf",
   "metadata": {},
   "outputs": [],
   "source": []
  }
 ],
 "metadata": {
  "kernelspec": {
   "display_name": "Python 3 (ipykernel)",
   "language": "python",
   "name": "python3"
  },
  "language_info": {
   "codemirror_mode": {
    "name": "ipython",
    "version": 3
   },
   "file_extension": ".py",
   "mimetype": "text/x-python",
   "name": "python",
   "nbconvert_exporter": "python",
   "pygments_lexer": "ipython3",
   "version": "3.10.10"
  }
 },
 "nbformat": 4,
 "nbformat_minor": 5
}
