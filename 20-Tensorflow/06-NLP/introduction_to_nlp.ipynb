{
 "cells": [
  {
   "cell_type": "markdown",
   "id": "8311252d",
   "metadata": {},
   "source": [
    "# Introduction To NLP"
   ]
  },
  {
   "cell_type": "markdown",
   "id": "d431b2b8",
   "metadata": {},
   "source": [
    "## Steps covered in this section\n",
    "\n",
    "* Typical RNN Architecture (223)\n",
    "* Download Sample Data (224)\n",
    "* Visualize Text Data (225)\n",
    "* Train and Test Data Split - (226)\n",
    "* Converting text into numbers using tokenization - (227 - 229)\n",
    "* Turning our tokenized text into an embedding (230)\n",
    "* Modelling Experiments (231)\n",
    "  * Starting with a baseline (TF-IDF)\n",
    "  * Building several deep learning text models\n",
    "    * Dense, LSTM, GRU, Conv1D, Transfer learning\n",
    "* Comparing the performance of each our models\n",
    "* Combining our models into an ensemble\n",
    "* Saving and loading a trained model\n",
    "* Find the most wrong predictions"
   ]
  },
  {
   "cell_type": "markdown",
   "id": "ebd4d200",
   "metadata": {},
   "source": [
    "## RNN Architechture - 223\n",
    "![RNN Architechture](https://raw.githubusercontent.com/rkumar-bengaluru/data-science/main/20-Tensorflow/06-NLP/rnn-architecture.png)\n"
   ]
  },
  {
   "cell_type": "markdown",
   "id": "3e7e5817",
   "metadata": {},
   "source": [
    "## Download Sample Data - 224\n",
    "\n",
    "* Link to data set https://storage.googleapis.com/ztm_tf_course/nlp_getting_started.zip\n",
    "* Write a function to get the above data set.\n",
    "* Unzip the zip file."
   ]
  },
  {
   "cell_type": "code",
   "execution_count": 1,
   "id": "c03837e6",
   "metadata": {},
   "outputs": [],
   "source": [
    "# write code to download and extract data"
   ]
  },
  {
   "cell_type": "markdown",
   "id": "485b39eb",
   "metadata": {},
   "source": [
    "## Visualize Data - 225\n",
    "\n",
    "* Load the data as pandas dataframe.\n",
    "* Shuffle training data frame\n",
    "* Check class/label counts on dataset\n",
    "* Write a function to randomly print 5 samples with target label and text message"
   ]
  },
  {
   "cell_type": "code",
   "execution_count": 1,
   "id": "a5c2e27c",
   "metadata": {},
   "outputs": [],
   "source": [
    "# write code for visualize data"
   ]
  },
  {
   "cell_type": "markdown",
   "id": "ac46f903",
   "metadata": {},
   "source": [
    "## Train and Test Data Split - (226)\n",
    "\n",
    "* Scikit learn train_test_split"
   ]
  },
  {
   "cell_type": "code",
   "execution_count": 1,
   "id": "e44b673d",
   "metadata": {},
   "outputs": [],
   "source": [
    "# Write code to split data into train and validation data set"
   ]
  },
  {
   "cell_type": "markdown",
   "id": "090429e3",
   "metadata": {},
   "source": [
    "## Converting text into numbers using tokenization - (227-229)\n",
    "\n",
    "* Tokenization vs Embedding\n",
    "* https://www.tensorflow.org/text/guide/word_embeddings\n",
    "* https://tfhub.dev/s?module-type=text-embedding\n",
    "* http://jalammar.github.io/illustrated-word2vec/"
   ]
  },
  {
   "cell_type": "code",
   "execution_count": 3,
   "id": "856f2210",
   "metadata": {},
   "outputs": [],
   "source": [
    "# Write code for text vectorization using tensorflow\n",
    "# Use tensorflow text vectorization adapt function on our training data."
   ]
  },
  {
   "cell_type": "markdown",
   "id": "89ea296f",
   "metadata": {},
   "source": [
    "## Turning our tokenized text into an embedding (230)\n",
    "\n",
    "* Use tensorflow embedding layer"
   ]
  },
  {
   "cell_type": "code",
   "execution_count": 1,
   "id": "1ca31892",
   "metadata": {},
   "outputs": [],
   "source": [
    "# write code for embedding"
   ]
  },
  {
   "cell_type": "markdown",
   "id": "e82b7539",
   "metadata": {},
   "source": [
    "## Modelling Experiments (231)\n",
    "\n",
    "|  Experiment No| Model  |\n",
    "|--|--|\n",
    "| 0| Naive Bayes with TF-IDF encoder|\n",
    "| 1| Feed Forward neural network (Dense Model)|\n",
    "| 2| LSTM (RNN)|\n",
    "| 3| GRU (RNN) |\n",
    "| 4| Bi-Directional - LSTM (RNN)|\n",
    "| 5| 1D Convolution Neural Network|\n",
    "| 6| Tensorflow Hub Pretrained Feature Extractor|\n",
    "| 7| Tensorflow Hub Pretrained Feature Extractor(10% Data)"
   ]
  },
  {
   "cell_type": "markdown",
   "id": "73c5b766",
   "metadata": {},
   "source": [
    "### Model_0 - Naive Bayes with TF-IDF encoder\n",
    "\n",
    "* Reference\n",
    "  * https://scikit-learn.org/stable/tutorial/machine_learning_map/index.html"
   ]
  },
  {
   "cell_type": "code",
   "execution_count": null,
   "id": "90b9a316",
   "metadata": {},
   "outputs": [],
   "source": []
  }
 ],
 "metadata": {
  "kernelspec": {
   "display_name": "Python 3 (ipykernel)",
   "language": "python",
   "name": "python3"
  },
  "language_info": {
   "codemirror_mode": {
    "name": "ipython",
    "version": 3
   },
   "file_extension": ".py",
   "mimetype": "text/x-python",
   "name": "python",
   "nbconvert_exporter": "python",
   "pygments_lexer": "ipython3",
   "version": "3.10.10"
  }
 },
 "nbformat": 4,
 "nbformat_minor": 5
}
