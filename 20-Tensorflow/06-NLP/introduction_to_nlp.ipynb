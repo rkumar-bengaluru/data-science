{
 "cells": [
  {
   "cell_type": "markdown",
   "id": "8311252d",
   "metadata": {},
   "source": [
    "# Introduction To NLP"
   ]
  },
  {
   "cell_type": "markdown",
   "id": "d431b2b8",
   "metadata": {},
   "source": [
    "## Steps covered in this section\n",
    "\n",
    "* Download Sample Data\n",
    "* Visualize Text Data\n",
    "* Converting text into numbers using tokenization\n",
    "* Turning our tokenized text into an embedding\n",
    "* Modelling a text dataset\n",
    "  * Starting with a baseline (TF-IDF)\n",
    "  * Building several deep learning text models\n",
    "    * Dense, LSTM, GRU, Conv1D, Transfer learning\n",
    "* Comparing the performance of each our models\n",
    "* Combining our models into an ensemble\n",
    "* Saving and loading a trained model\n",
    "* Find the most wrong predictions"
   ]
  },
  {
   "cell_type": "markdown",
   "id": "3e7e5817",
   "metadata": {},
   "source": [
    "## Download Sample Data\n",
    "\n",
    "Link to data set https://storage.googleapis.com/ztm_tf_course/nlp_getting_started.zip"
   ]
  },
  {
   "cell_type": "code",
   "execution_count": null,
   "id": "c03837e6",
   "metadata": {},
   "outputs": [],
   "source": []
  }
 ],
 "metadata": {
  "kernelspec": {
   "display_name": "Python 3 (ipykernel)",
   "language": "python",
   "name": "python3"
  },
  "language_info": {
   "codemirror_mode": {
    "name": "ipython",
    "version": 3
   },
   "file_extension": ".py",
   "mimetype": "text/x-python",
   "name": "python",
   "nbconvert_exporter": "python",
   "pygments_lexer": "ipython3",
   "version": "3.9.16"
  }
 },
 "nbformat": 4,
 "nbformat_minor": 5
}
