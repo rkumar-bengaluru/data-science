{
 "cells": [
  {
   "cell_type": "code",
   "execution_count": 4,
   "id": "be921e64",
   "metadata": {},
   "outputs": [],
   "source": [
    "import tensorflow as tf\n",
    "from tensorflow.keras.layers import TextVectorization"
   ]
  },
  {
   "cell_type": "code",
   "execution_count": 22,
   "id": "1b9eab2d",
   "metadata": {},
   "outputs": [
    {
     "name": "stdout",
     "output_type": "stream",
     "text": [
      "vocabulary at index 0 is \n",
      "vocabulary at index 1 is [UNK]\n",
      "vocabulary at index 2 is tensorflow\n",
      "vocabulary at index 3 is rocks\n",
      "vocabulary at index 4 is love\n",
      "vocabulary at index 5 is i\n",
      "len of vocabulary 6\n"
     ]
    }
   ],
   "source": [
    "# text tokenization\n",
    "text_dataset = tf.data.Dataset.from_tensor_slices([\"i\", \"love\", \"tensorflow\",'rocks'])\n",
    "text_vec = TextVectorization()\n",
    "text_vec.adapt(text_dataset)\n",
    "# print the vocabulary\n",
    "vocab = text_vec.get_vocabulary()\n",
    "for i,v in enumerate(vocab):\n",
    "    print(f'vocabulary at index {i} is {v}')\n",
    "len_of_vocabulary = len(vocab)\n",
    "print(f'len of vocabulary {len_of_vocabulary}')"
   ]
  },
  {
   "cell_type": "code",
   "execution_count": 21,
   "id": "0eb1e5dc",
   "metadata": {},
   "outputs": [
    {
     "name": "stdout",
     "output_type": "stream",
     "text": [
      "sample 1 sentence \n",
      " I Love Tensorflow        vector representation \n",
      " [[5 4 2]]\n"
     ]
    }
   ],
   "source": [
    "# sample sentence\n",
    "sample_1 = 'I Love Tensorflow'\n",
    "vec_1 = text_vec([sample])\n",
    "print(f'sample 1 sentence \\n {sample_1}\\\n",
    "        vector representation \\n {vec_1}')"
   ]
  },
  {
   "cell_type": "code",
   "execution_count": 29,
   "id": "520be17c",
   "metadata": {},
   "outputs": [
    {
     "name": "stdout",
     "output_type": "stream",
     "text": [
      "sample 2 sentence \n",
      " Tensorflow I rocks        vector representation \n",
      " [[2 5 3]]\n"
     ]
    }
   ],
   "source": [
    "# another sample\n",
    "sample_2 = 'Tensorflow I rocks'\n",
    "vec_2 = text_vec([sample_2])\n",
    "print(f'sample 2 sentence \\n {sample_2}\\\n",
    "        vector representation \\n {vec_2}')"
   ]
  },
  {
   "cell_type": "code",
   "execution_count": 33,
   "id": "8534faf1",
   "metadata": {},
   "outputs": [
    {
     "data": {
      "text/plain": [
       "<keras.layers.core.embedding.Embedding at 0x2e9bc313010>"
      ]
     },
     "execution_count": 33,
     "metadata": {},
     "output_type": "execute_result"
    }
   ],
   "source": [
    "# embedding \n",
    "from tensorflow.keras.layers import Embedding\n",
    "\n",
    "embedding = Embedding(input_dim=len_of_vocabulary,\n",
    "                     output_dim=4,\n",
    "                     input_length=4)\n",
    "embedding"
   ]
  },
  {
   "cell_type": "code",
   "execution_count": 34,
   "id": "326e1274",
   "metadata": {},
   "outputs": [
    {
     "data": {
      "text/plain": [
       "<tf.Tensor: shape=(1, 3, 4), dtype=float32, numpy=\n",
       "array([[[-0.00546367,  0.0182437 , -0.01037307, -0.03953638],\n",
       "        [-0.00939064,  0.00924812, -0.01262503, -0.04210285],\n",
       "        [ 0.01576029,  0.03825409,  0.0430048 ,  0.04823674]]],\n",
       "      dtype=float32)>"
      ]
     },
     "execution_count": 34,
     "metadata": {},
     "output_type": "execute_result"
    }
   ],
   "source": [
    "embedding(vec_1)"
   ]
  },
  {
   "cell_type": "code",
   "execution_count": 35,
   "id": "59f14444",
   "metadata": {},
   "outputs": [
    {
     "data": {
      "text/plain": [
       "<tf.Tensor: shape=(1, 3, 4), dtype=float32, numpy=\n",
       "array([[[ 0.01576029,  0.03825409,  0.0430048 ,  0.04823674],\n",
       "        [-0.00546367,  0.0182437 , -0.01037307, -0.03953638],\n",
       "        [-0.01690295,  0.04698409,  0.00048009, -0.04678594]]],\n",
       "      dtype=float32)>"
      ]
     },
     "execution_count": 35,
     "metadata": {},
     "output_type": "execute_result"
    }
   ],
   "source": [
    "# embedding for second sample sentence\n",
    "embedding(vec_2)"
   ]
  },
  {
   "cell_type": "code",
   "execution_count": 38,
   "id": "4d4c4024",
   "metadata": {},
   "outputs": [
    {
     "data": {
      "text/plain": [
       "TensorShape([1, 3, 4])"
      ]
     },
     "execution_count": 38,
     "metadata": {},
     "output_type": "execute_result"
    }
   ],
   "source": [
    "tmp = embedding(vec_2)\n",
    "tmp.shape"
   ]
  },
  {
   "cell_type": "code",
   "execution_count": null,
   "id": "2fcaad0b",
   "metadata": {},
   "outputs": [],
   "source": []
  }
 ],
 "metadata": {
  "kernelspec": {
   "display_name": "Python 3 (ipykernel)",
   "language": "python",
   "name": "python3"
  },
  "language_info": {
   "codemirror_mode": {
    "name": "ipython",
    "version": 3
   },
   "file_extension": ".py",
   "mimetype": "text/x-python",
   "name": "python",
   "nbconvert_exporter": "python",
   "pygments_lexer": "ipython3",
   "version": "3.10.10"
  }
 },
 "nbformat": 4,
 "nbformat_minor": 5
}
