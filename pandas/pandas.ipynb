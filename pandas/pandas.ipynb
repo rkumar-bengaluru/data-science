{
 "cells": [
  {
   "cell_type": "markdown",
   "id": "9cacd7b7",
   "metadata": {},
   "source": [
    "<h1>Learn Pandas<h1>"
   ]
  },
  {
   "cell_type": "markdown",
   "id": "24cec1d6",
   "metadata": {},
   "source": [
    "<h2>Pandas Series</h2>"
   ]
  },
  {
   "cell_type": "code",
   "execution_count": null,
   "id": "08b0e145",
   "metadata": {},
   "outputs": [],
   "source": [
    "import numpy as np\n",
    "import pandas as pd"
   ]
  },
  {
   "cell_type": "code",
   "execution_count": null,
   "id": "22aa316a",
   "metadata": {},
   "outputs": [],
   "source": [
    "#help(pd.Series)"
   ]
  },
  {
   "cell_type": "code",
   "execution_count": 6,
   "id": "aaa15ed8",
   "metadata": {},
   "outputs": [
    {
     "data": {
      "text/plain": [
       "USA       1776\n",
       "Canada    1888\n",
       "Mexico    1989\n",
       "dtype: int64"
      ]
     },
     "execution_count": 6,
     "metadata": {},
     "output_type": "execute_result"
    }
   ],
   "source": [
    "country = ['USA','Canada','Mexico']\n",
    "independence = [1776,1888, 1989]\n",
    "series = pd.Series(data=independence,index=country)\n",
    "series"
   ]
  },
  {
   "cell_type": "code",
   "execution_count": 8,
   "id": "4e09ee38",
   "metadata": {},
   "outputs": [],
   "source": [
    "country_independence = {'USA': 1776, 'Canada':1888, 'Mexico':1989}\n",
    "seriesfromdictionary = pd.Series(country_independence)"
   ]
  },
  {
   "cell_type": "code",
   "execution_count": 9,
   "id": "e367131f",
   "metadata": {},
   "outputs": [
    {
     "data": {
      "text/plain": [
       "USA       1776\n",
       "Canada    1888\n",
       "Mexico    1989\n",
       "dtype: int64"
      ]
     },
     "execution_count": 9,
     "metadata": {},
     "output_type": "execute_result"
    }
   ],
   "source": [
    "seriesfromdictionary"
   ]
  },
  {
   "cell_type": "code",
   "execution_count": 10,
   "id": "94bdc898",
   "metadata": {},
   "outputs": [],
   "source": [
    "def increaseyear(year):\n",
    "    return year+1"
   ]
  },
  {
   "cell_type": "code",
   "execution_count": 18,
   "id": "010875d9",
   "metadata": {},
   "outputs": [
    {
     "data": {
      "text/plain": [
       "USA       1778\n",
       "Canada    1890\n",
       "Mexico    1991\n",
       "dtype: int64"
      ]
     },
     "execution_count": 18,
     "metadata": {},
     "output_type": "execute_result"
    }
   ],
   "source": [
    "seriesfromdictionary = seriesfromdictionary.apply(increaseyear)\n",
    "seriesfromdictionary"
   ]
  },
  {
   "cell_type": "code",
   "execution_count": 19,
   "id": "e5c8406e",
   "metadata": {},
   "outputs": [
    {
     "data": {
      "text/plain": [
       "USA       1779\n",
       "Canada    1891\n",
       "Mexico    1992\n",
       "dtype: int64"
      ]
     },
     "execution_count": 19,
     "metadata": {},
     "output_type": "execute_result"
    }
   ],
   "source": [
    "seriesfromdictionary.apply(lambda year: year + 1)"
   ]
  },
  {
   "cell_type": "code",
   "execution_count": 20,
   "id": "f4748374",
   "metadata": {},
   "outputs": [],
   "source": [
    "# sales data of the country\n",
    "q1 = {'Japan' : 80, 'USA' : 250, 'China': 450, 'India':200}\n",
    "q2 = {'Brazil' : 100, 'USA' : 260, 'China': 500, 'India':210}"
   ]
  },
  {
   "cell_type": "code",
   "execution_count": 21,
   "id": "03d14180",
   "metadata": {},
   "outputs": [],
   "source": [
    "q1_ser = pd.Series(q1)\n",
    "q2_ser = pd.Series(q2)"
   ]
  },
  {
   "cell_type": "code",
   "execution_count": 22,
   "id": "2072bdba",
   "metadata": {},
   "outputs": [
    {
     "data": {
      "text/plain": [
       "Japan     80\n",
       "USA      250\n",
       "China    450\n",
       "India    200\n",
       "dtype: int64"
      ]
     },
     "execution_count": 22,
     "metadata": {},
     "output_type": "execute_result"
    }
   ],
   "source": [
    "q1_ser"
   ]
  },
  {
   "cell_type": "code",
   "execution_count": 23,
   "id": "ea5602ea",
   "metadata": {},
   "outputs": [
    {
     "data": {
      "text/plain": [
       "Brazil    100\n",
       "USA       260\n",
       "China     500\n",
       "India     210\n",
       "dtype: int64"
      ]
     },
     "execution_count": 23,
     "metadata": {},
     "output_type": "execute_result"
    }
   ],
   "source": [
    "q2_ser"
   ]
  },
  {
   "cell_type": "code",
   "execution_count": 24,
   "id": "531d9901",
   "metadata": {},
   "outputs": [
    {
     "data": {
      "text/plain": [
       "Index(['Brazil', 'USA', 'China', 'India'], dtype='object')"
      ]
     },
     "execution_count": 24,
     "metadata": {},
     "output_type": "execute_result"
    }
   ],
   "source": [
    "q2_ser.keys()"
   ]
  },
  {
   "cell_type": "code",
   "execution_count": 25,
   "id": "70667754",
   "metadata": {},
   "outputs": [
    {
     "data": {
      "text/plain": [
       "pandas.core.series.Series"
      ]
     },
     "execution_count": 25,
     "metadata": {},
     "output_type": "execute_result"
    }
   ],
   "source": [
    "type(q2_ser)"
   ]
  },
  {
   "cell_type": "code",
   "execution_count": 26,
   "id": "7d444aea",
   "metadata": {},
   "outputs": [
    {
     "data": {
      "text/plain": [
       "Brazil    1.0\n",
       "USA       2.6\n",
       "China     5.0\n",
       "India     2.1\n",
       "dtype: float64"
      ]
     },
     "execution_count": 26,
     "metadata": {},
     "output_type": "execute_result"
    }
   ],
   "source": [
    "q2_ser /100"
   ]
  },
  {
   "cell_type": "code",
   "execution_count": 27,
   "id": "94112d64",
   "metadata": {},
   "outputs": [
    {
     "data": {
      "text/plain": [
       "Brazil    101\n",
       "USA       261\n",
       "China     501\n",
       "India     211\n",
       "dtype: int64"
      ]
     },
     "execution_count": 27,
     "metadata": {},
     "output_type": "execute_result"
    }
   ],
   "source": [
    "q2_ser + 1"
   ]
  },
  {
   "cell_type": "code",
   "execution_count": 29,
   "id": "a1973405",
   "metadata": {},
   "outputs": [
    {
     "data": {
      "text/plain": [
       "Brazil      NaN\n",
       "China     950.0\n",
       "India     410.0\n",
       "Japan       NaN\n",
       "USA       510.0\n",
       "dtype: float64"
      ]
     },
     "execution_count": 29,
     "metadata": {},
     "output_type": "execute_result"
    }
   ],
   "source": [
    "q1_ser + q2_ser"
   ]
  },
  {
   "cell_type": "code",
   "execution_count": 31,
   "id": "802c0920",
   "metadata": {},
   "outputs": [
    {
     "data": {
      "text/plain": [
       "Brazil    100.0\n",
       "China     950.0\n",
       "India     410.0\n",
       "Japan      80.0\n",
       "USA       510.0\n",
       "dtype: float64"
      ]
     },
     "execution_count": 31,
     "metadata": {},
     "output_type": "execute_result"
    }
   ],
   "source": [
    "q1_ser.add(q2_ser,fill_value=0)"
   ]
  },
  {
   "cell_type": "markdown",
   "id": "1536fa98",
   "metadata": {},
   "source": [
    "<h2>Data Frame<h2>"
   ]
  },
  {
   "cell_type": "code",
   "execution_count": 32,
   "id": "6961fc3e",
   "metadata": {},
   "outputs": [],
   "source": [
    "# create data with seed to make\n",
    "# sure it generates same data\n",
    "np.random.seed(101)\n",
    "data = np.random.randint(0,101,(4,3))"
   ]
  },
  {
   "cell_type": "code",
   "execution_count": 33,
   "id": "c8c92733",
   "metadata": {},
   "outputs": [
    {
     "data": {
      "text/plain": [
       "array([[95, 11, 81],\n",
       "       [70, 63, 87],\n",
       "       [75,  9, 77],\n",
       "       [40,  4, 63]])"
      ]
     },
     "execution_count": 33,
     "metadata": {},
     "output_type": "execute_result"
    }
   ],
   "source": [
    "# print data\n",
    "data"
   ]
  },
  {
   "cell_type": "code",
   "execution_count": 34,
   "id": "b1c0ed70",
   "metadata": {},
   "outputs": [],
   "source": [
    "# create index representing different cities of US\n",
    "myindex = ['CA','NY','AZ','TX']\n",
    "# create columns as tax collection for 3 months\n",
    "mycolumns = ['Jan','Feb','Mar']"
   ]
  },
  {
   "cell_type": "code",
   "execution_count": 37,
   "id": "317d71d9",
   "metadata": {},
   "outputs": [],
   "source": [
    "df = pd.DataFrame(data=data,index = myindex,columns=mycolumns)"
   ]
  },
  {
   "cell_type": "code",
   "execution_count": 38,
   "id": "0dc20ed9",
   "metadata": {},
   "outputs": [
    {
     "data": {
      "text/html": [
       "<div>\n",
       "<style scoped>\n",
       "    .dataframe tbody tr th:only-of-type {\n",
       "        vertical-align: middle;\n",
       "    }\n",
       "\n",
       "    .dataframe tbody tr th {\n",
       "        vertical-align: top;\n",
       "    }\n",
       "\n",
       "    .dataframe thead th {\n",
       "        text-align: right;\n",
       "    }\n",
       "</style>\n",
       "<table border=\"1\" class=\"dataframe\">\n",
       "  <thead>\n",
       "    <tr style=\"text-align: right;\">\n",
       "      <th></th>\n",
       "      <th>Jan</th>\n",
       "      <th>Feb</th>\n",
       "      <th>Mar</th>\n",
       "    </tr>\n",
       "  </thead>\n",
       "  <tbody>\n",
       "    <tr>\n",
       "      <th>CA</th>\n",
       "      <td>95</td>\n",
       "      <td>11</td>\n",
       "      <td>81</td>\n",
       "    </tr>\n",
       "    <tr>\n",
       "      <th>NY</th>\n",
       "      <td>70</td>\n",
       "      <td>63</td>\n",
       "      <td>87</td>\n",
       "    </tr>\n",
       "    <tr>\n",
       "      <th>AZ</th>\n",
       "      <td>75</td>\n",
       "      <td>9</td>\n",
       "      <td>77</td>\n",
       "    </tr>\n",
       "    <tr>\n",
       "      <th>TX</th>\n",
       "      <td>40</td>\n",
       "      <td>4</td>\n",
       "      <td>63</td>\n",
       "    </tr>\n",
       "  </tbody>\n",
       "</table>\n",
       "</div>"
      ],
      "text/plain": [
       "    Jan  Feb  Mar\n",
       "CA   95   11   81\n",
       "NY   70   63   87\n",
       "AZ   75    9   77\n",
       "TX   40    4   63"
      ]
     },
     "execution_count": 38,
     "metadata": {},
     "output_type": "execute_result"
    }
   ],
   "source": [
    "df"
   ]
  },
  {
   "cell_type": "code",
   "execution_count": 39,
   "id": "88bf6436",
   "metadata": {},
   "outputs": [
    {
     "name": "stdout",
     "output_type": "stream",
     "text": [
      "<class 'pandas.core.frame.DataFrame'>\n",
      "Index: 4 entries, CA to TX\n",
      "Data columns (total 3 columns):\n",
      " #   Column  Non-Null Count  Dtype\n",
      "---  ------  --------------  -----\n",
      " 0   Jan     4 non-null      int32\n",
      " 1   Feb     4 non-null      int32\n",
      " 2   Mar     4 non-null      int32\n",
      "dtypes: int32(3)\n",
      "memory usage: 80.0+ bytes\n"
     ]
    }
   ],
   "source": [
    "df.info()"
   ]
  },
  {
   "cell_type": "code",
   "execution_count": 40,
   "id": "daa07ef7",
   "metadata": {},
   "outputs": [
    {
     "data": {
      "text/plain": [
       "'C:\\\\Users\\\\rupak'"
      ]
     },
     "execution_count": 40,
     "metadata": {},
     "output_type": "execute_result"
    }
   ],
   "source": [
    "pwd"
   ]
  },
  {
   "cell_type": "code",
   "execution_count": null,
   "id": "7731b1c4",
   "metadata": {},
   "outputs": [],
   "source": []
  }
 ],
 "metadata": {
  "kernelspec": {
   "display_name": "Python 3 (ipykernel)",
   "language": "python",
   "name": "python3"
  },
  "language_info": {
   "codemirror_mode": {
    "name": "ipython",
    "version": 3
   },
   "file_extension": ".py",
   "mimetype": "text/x-python",
   "name": "python",
   "nbconvert_exporter": "python",
   "pygments_lexer": "ipython3",
   "version": "3.10.6"
  }
 },
 "nbformat": 4,
 "nbformat_minor": 5
}
